{
  "cells": [
    {
      "cell_type": "markdown",
      "metadata": {
        "id": "view-in-github",
        "colab_type": "text"
      },
      "source": [
        "<a href=\"https://colab.research.google.com/github/sejongsmarcle/2023_Spring_Kaggle_Study/blob/main/%EC%A0%84%EC%9C%A0%EC%A7%84_spaceship_titanic.ipynb\" target=\"_parent\"><img src=\"https://colab.research.google.com/assets/colab-badge.svg\" alt=\"Open In Colab\"/></a>"
      ]
    },
    {
      "cell_type": "markdown",
      "metadata": {
        "id": "pAKw-wF81LzI"
      },
      "source": [
        "**Created by Sanskar Hasija**\n",
        "\n",
        "**🚀Spaceship Titanic -📊EDA + 27 different models📈**\n",
        "\n",
        "**24 February 2022**\n"
      ]
    },
    {
      "cell_type": "markdown",
      "metadata": {
        "id": "8h4YZNq51LzO"
      },
      "source": [
        "# <center> 🚀SPACESHIP TITANIC -📊EDA + 27 DIFFERENT MODELS📈 </center>\n",
        "## <center>If you find this notebook useful, support with an upvote👍</center>"
      ]
    },
    {
      "cell_type": "markdown",
      "metadata": {
        "id": "xK9KRpS61LzP"
      },
      "source": [
        "# Table of Contents\n",
        "<a id=\"toc\"></a>\n",
        "- [1. Introduction](#1)\n",
        "- [2. Imports](#2)\n",
        "- [3. Data Loading and Preperation](#3)\n",
        "    - [3.1 Exploring Train Data](#3.1)\n",
        "    - [3.2 Exploring Test Data](#3.2)\n",
        "    - [3.3 Submission File](#3.3)\n",
        "- [4. EDA](#4)\n",
        "    - [4.1 Overview of Data](#4.1)\n",
        "    - [4.2 Null Value Distribution](#4.7)\n",
        "    - [4.3 Continuos and Categorical Data Distribution](#4.2)\n",
        "    - [4.4 Feature Distribution of Continous Features](#4.3)\n",
        "    - [4.5 Feature Distribution of Categorical Features](#4.4)\n",
        "    - [4.6 Target Distribution ](#4.5)\n",
        "    - [4.7 Correlation Matrix ](#4.6)\n",
        "- [5. Data Pre-Processing](#5)    \n",
        "- [6. Modeling](#6)\n",
        "    - [6.1 27 Different Classifiers ( LAZY PREDICT )](#6.1)\n",
        "    - [6.2 LGBM Classifier](#6.2)\n",
        "- [7. Submission](#7)   "
      ]
    },
    {
      "cell_type": "markdown",
      "metadata": {
        "id": "1p4JgZJ31LzR"
      },
      "source": [
        "<a id=\"1\"></a>\n",
        "# **<center><span style=\"color:#00BFC4;\">Introduction  </span></center>**"
      ]
    },
    {
      "cell_type": "markdown",
      "metadata": {
        "id": "I--TD4ur1LzR"
      },
      "source": [
        "![](https://storage.googleapis.com/kaggle-competitions/kaggle/34377/logos/header.png?t=2022-02-11-21-53-06)"
      ]
    },
    {
      "cell_type": "markdown",
      "metadata": {
        "id": "NrPNBM641LzR"
      },
      "source": [
        "**The competition is organised by `Kaggle` and is in the `GettingStarted Prediction Competition` series.**\n",
        "\n",
        "\n",
        "**In this competition, you are supposed to predict predict which passengers were transported by the anomaly using records recovered from the spaceship’s damaged computer system.**\n",
        "\n",
        "**Submissions are evaluated on `Classification Accuracy`.**"
      ]
    },
    {
      "cell_type": "markdown",
      "metadata": {
        "id": "9UTaXow11LzS"
      },
      "source": [
        "<a href=\"#toc\" role=\"button\" aria-pressed=\"true\" >⬆️Back to Table of Contents ⬆️</a>"
      ]
    },
    {
      "cell_type": "code",
      "execution_count": null,
      "metadata": {
        "colab": {
          "base_uri": "https://localhost:8080/"
        },
        "id": "jLXUQlXf3Z5I",
        "outputId": "112ed70c-147e-4b62-a07c-00ccdc45a6d9"
      },
      "outputs": [
        {
          "name": "stdout",
          "output_type": "stream",
          "text": [
            "Mounted at /content/drive\n"
          ]
        }
      ],
      "source": [
        "from google.colab import drive\n",
        "drive.mount('/content/drive')"
      ]
    },
    {
      "cell_type": "markdown",
      "metadata": {
        "id": "DBJ63PFs1LzS"
      },
      "source": [
        "<a id=\"2\"></a>\n",
        "# **<center><span style=\"color:#00BFC4;\">Imports  </span></center>**"
      ]
    },
    {
      "cell_type": "markdown",
      "metadata": {
        "id": "sQqwyXVn1LzS"
      },
      "source": [
        "### <span style=\"color:#e76f51;\"> Installing LazyPredict : </span>"
      ]
    },
    {
      "cell_type": "markdown",
      "metadata": {
        "id": "WZ1cP4YF1LzT"
      },
      "source": [
        "Check the offical Documentation of LazyPredict here : https://lazypredict.readthedocs.io"
      ]
    },
    {
      "cell_type": "code",
      "execution_count": null,
      "metadata": {
        "id": "F5GFM4Kq1LzT"
      },
      "outputs": [],
      "source": [
        "from IPython.display import clear_output\n",
        "!pip3 install -U lazypredict\n",
        "!pip3 install -U pandas #Upgrading pandas\n",
        "\n",
        "clear_output()"
      ]
    },
    {
      "cell_type": "code",
      "execution_count": null,
      "metadata": {
        "colab": {
          "base_uri": "https://localhost:8080/"
        },
        "id": "rTtRFhZI2g_8",
        "outputId": "70b6b730-bcd2-4e62-e02d-61784aabb138"
      },
      "outputs": [
        {
          "name": "stdout",
          "output_type": "stream",
          "text": [
            "Cloning into 'LightGBM'...\n",
            "remote: Enumerating objects: 29552, done.\u001b[K\n",
            "remote: Counting objects: 100% (3349/3349), done.\u001b[K\n",
            "remote: Compressing objects: 100% (298/298), done.\u001b[K\n",
            "remote: Total 29552 (delta 3162), reused 3151 (delta 3050), pack-reused 26203\u001b[K\n",
            "Receiving objects: 100% (29552/29552), 20.52 MiB | 29.34 MiB/s, done.\n",
            "Resolving deltas: 100% (21980/21980), done.\n",
            "Submodule 'include/boost/compute' (https://github.com/boostorg/compute) registered for path 'external_libs/compute'\n",
            "Submodule 'eigen' (https://gitlab.com/libeigen/eigen.git) registered for path 'external_libs/eigen'\n",
            "Submodule 'external_libs/fast_double_parser' (https://github.com/lemire/fast_double_parser.git) registered for path 'external_libs/fast_double_parser'\n",
            "Submodule 'external_libs/fmt' (https://github.com/fmtlib/fmt.git) registered for path 'external_libs/fmt'\n",
            "Cloning into '/content/LightGBM/external_libs/compute'...\n",
            "remote: Enumerating objects: 21733, done.        \n",
            "remote: Counting objects: 100% (5/5), done.        \n",
            "remote: Compressing objects: 100% (4/4), done.        \n",
            "remote: Total 21733 (delta 1), reused 3 (delta 1), pack-reused 21728        \n",
            "Receiving objects: 100% (21733/21733), 8.51 MiB | 25.26 MiB/s, done.\n",
            "Resolving deltas: 100% (17567/17567), done.\n",
            "Cloning into '/content/LightGBM/external_libs/eigen'...\n",
            "remote: Enumerating objects: 119427, done.        \n",
            "remote: Counting objects: 100% (1106/1106), done.        \n",
            "remote: Compressing objects: 100% (354/354), done.        \n",
            "remote: Total 119427 (delta 770), reused 1065 (delta 751), pack-reused 118321        \n",
            "Receiving objects: 100% (119427/119427), 103.59 MiB | 25.31 MiB/s, done.\n",
            "Resolving deltas: 100% (98605/98605), done.\n",
            "Cloning into '/content/LightGBM/external_libs/fast_double_parser'...\n",
            "remote: Enumerating objects: 781, done.        \n",
            "remote: Counting objects: 100% (180/180), done.        \n",
            "remote: Compressing objects: 100% (66/66), done.        \n",
            "remote: Total 781 (delta 124), reused 131 (delta 103), pack-reused 601        \n",
            "Receiving objects: 100% (781/781), 833.52 KiB | 6.89 MiB/s, done.\n",
            "Resolving deltas: 100% (395/395), done.\n",
            "Cloning into '/content/LightGBM/external_libs/fmt'...\n",
            "remote: Enumerating objects: 32044, done.        \n",
            "remote: Counting objects: 100% (2598/2598), done.        \n",
            "remote: Compressing objects: 100% (155/155), done.        \n",
            "remote: Total 32044 (delta 2487), reused 2475 (delta 2436), pack-reused 29446        \n",
            "Receiving objects: 100% (32044/32044), 13.91 MiB | 14.38 MiB/s, done.\n",
            "Resolving deltas: 100% (21731/21731), done.\n",
            "Submodule path 'external_libs/compute': checked out '36350b7de849300bd3d72a05d8bf890ca405a014'\n",
            "Submodule path 'external_libs/eigen': checked out '3147391d946bb4b6c68edd901f2add6ac1f31f8c'\n",
            "Submodule path 'external_libs/fast_double_parser': checked out 'ace60646c02dc54c57f19d644e49a61e7e7758ec'\n",
            "Submodule 'benchmark/dependencies/abseil-cpp' (https://github.com/abseil/abseil-cpp.git) registered for path 'external_libs/fast_double_parser/benchmarks/dependencies/abseil-cpp'\n",
            "Submodule 'benchmark/dependencies/double-conversion' (https://github.com/google/double-conversion.git) registered for path 'external_libs/fast_double_parser/benchmarks/dependencies/double-conversion'\n",
            "Cloning into '/content/LightGBM/external_libs/fast_double_parser/benchmarks/dependencies/abseil-cpp'...\n",
            "remote: Enumerating objects: 21781, done.        \n",
            "remote: Counting objects: 100% (2498/2498), done.        \n",
            "remote: Compressing objects: 100% (870/870), done.        \n",
            "remote: Total 21781 (delta 1703), reused 1728 (delta 1628), pack-reused 19283        \n",
            "Receiving objects: 100% (21781/21781), 13.07 MiB | 10.95 MiB/s, done.\n",
            "Resolving deltas: 100% (17054/17054), done.\n",
            "Cloning into '/content/LightGBM/external_libs/fast_double_parser/benchmarks/dependencies/double-conversion'...\n",
            "remote: Enumerating objects: 1358, done.        \n",
            "remote: Counting objects: 100% (202/202), done.        \n",
            "remote: Compressing objects: 100% (110/110), done.        \n",
            "remote: Total 1358 (delta 110), reused 157 (delta 84), pack-reused 1156        \n",
            "Receiving objects: 100% (1358/1358), 7.15 MiB | 10.24 MiB/s, done.\n",
            "Resolving deltas: 100% (882/882), done.\n",
            "Submodule path 'external_libs/fast_double_parser/benchmarks/dependencies/abseil-cpp': checked out 'd936052d32a5b7ca08b0199a6724724aea432309'\n",
            "Submodule path 'external_libs/fast_double_parser/benchmarks/dependencies/double-conversion': checked out 'f4cb2384efa55dee0e6652f8674b05763441ab09'\n",
            "Submodule path 'external_libs/fmt': checked out 'b6f4ceaed0a0a24ccf575fab6c56dd50ccf6f1a9'\n",
            "/content/LightGBM\n",
            "\u001b[33mCMake Warning:\n",
            "  No source or binary directory provided.  Both will be assumed to be the\n",
            "  same as the current working directory, but note that this warning will\n",
            "  become a fatal error in future CMake releases.\n",
            "\n",
            "\u001b[0m\n",
            "-- The C compiler identification is GNU 9.4.0\n",
            "-- The CXX compiler identification is GNU 9.4.0\n",
            "-- Detecting C compiler ABI info\n",
            "-- Detecting C compiler ABI info - done\n",
            "-- Check for working C compiler: /usr/bin/cc - skipped\n",
            "-- Detecting C compile features\n",
            "-- Detecting C compile features - done\n",
            "-- Detecting CXX compiler ABI info\n",
            "-- Detecting CXX compiler ABI info - done\n",
            "-- Check for working CXX compiler: /usr/bin/c++ - skipped\n",
            "-- Detecting CXX compile features\n",
            "-- Detecting CXX compile features - done\n",
            "-- Found OpenMP_C: -fopenmp (found version \"4.5\") \n",
            "-- Found OpenMP_CXX: -fopenmp (found version \"4.5\") \n",
            "-- Found OpenMP: TRUE (found version \"4.5\")  \n",
            "-- Looking for CL_VERSION_3_0\n",
            "-- Looking for CL_VERSION_3_0 - not found\n",
            "-- Looking for CL_VERSION_2_2\n",
            "-- Looking for CL_VERSION_2_2 - found\n",
            "-- Found OpenCL: /usr/lib/x86_64-linux-gnu/libOpenCL.so (found version \"2.2\") \n",
            "-- OpenCL include directory: /usr/include\n",
            "-- Found Boost: /usr/lib/x86_64-linux-gnu/cmake/Boost-1.71.0/BoostConfig.cmake (found suitable version \"1.71.0\", minimum required is \"1.56.0\") found components: filesystem system \n",
            "-- Performing Test MM_PREFETCH\n",
            "-- Performing Test MM_PREFETCH - Success\n",
            "-- Using _mm_prefetch\n",
            "-- Performing Test MM_MALLOC\n",
            "-- Performing Test MM_MALLOC - Success\n",
            "-- Using _mm_malloc\n",
            "-- Configuring done\n",
            "-- Generating done\n",
            "-- Build files have been written to: /content/LightGBM\n",
            "[  1%] \u001b[32mBuilding CXX object CMakeFiles/lightgbm_capi_objs.dir/src/c_api.cpp.o\u001b[0m\n",
            "[  3%] \u001b[32mBuilding CXX object CMakeFiles/lightgbm_objs.dir/src/boosting/boosting.cpp.o\u001b[0m\n",
            "[  5%] \u001b[32mBuilding CXX object CMakeFiles/lightgbm_objs.dir/src/boosting/cuda/cuda_score_updater.cpp.o\u001b[0m\n",
            "[  7%] \u001b[32mBuilding CXX object CMakeFiles/lightgbm_objs.dir/src/boosting/gbdt.cpp.o\u001b[0m\n",
            "[  7%] Built target lightgbm_capi_objs\n",
            "[  9%] \u001b[32mBuilding CXX object CMakeFiles/lightgbm_objs.dir/src/boosting/gbdt_model_text.cpp.o\u001b[0m\n",
            "[ 10%] \u001b[32mBuilding CXX object CMakeFiles/lightgbm_objs.dir/src/boosting/gbdt_prediction.cpp.o\u001b[0m\n",
            "[ 12%] \u001b[32mBuilding CXX object CMakeFiles/lightgbm_objs.dir/src/boosting/prediction_early_stop.cpp.o\u001b[0m\n",
            "[ 14%] \u001b[32mBuilding CXX object CMakeFiles/lightgbm_objs.dir/src/boosting/sample_strategy.cpp.o\u001b[0m\n",
            "[ 16%] \u001b[32mBuilding CXX object CMakeFiles/lightgbm_objs.dir/src/cuda/cuda_utils.cpp.o\u001b[0m\n",
            "[ 18%] \u001b[32mBuilding CXX object CMakeFiles/lightgbm_objs.dir/src/io/bin.cpp.o\u001b[0m\n",
            "[ 20%] \u001b[32mBuilding CXX object CMakeFiles/lightgbm_objs.dir/src/io/config.cpp.o\u001b[0m\n",
            "[ 21%] \u001b[32mBuilding CXX object CMakeFiles/lightgbm_objs.dir/src/io/config_auto.cpp.o\u001b[0m\n",
            "[ 23%] \u001b[32mBuilding CXX object CMakeFiles/lightgbm_objs.dir/src/io/cuda/cuda_column_data.cpp.o\u001b[0m\n",
            "[ 25%] \u001b[32mBuilding CXX object CMakeFiles/lightgbm_objs.dir/src/io/cuda/cuda_metadata.cpp.o\u001b[0m\n",
            "[ 27%] \u001b[32mBuilding CXX object CMakeFiles/lightgbm_objs.dir/src/io/cuda/cuda_row_data.cpp.o\u001b[0m\n",
            "[ 29%] \u001b[32mBuilding CXX object CMakeFiles/lightgbm_objs.dir/src/io/cuda/cuda_tree.cpp.o\u001b[0m\n",
            "[ 30%] \u001b[32mBuilding CXX object CMakeFiles/lightgbm_objs.dir/src/io/dataset.cpp.o\u001b[0m\n",
            "[ 32%] \u001b[32mBuilding CXX object CMakeFiles/lightgbm_objs.dir/src/io/dataset_loader.cpp.o\u001b[0m\n",
            "[ 34%] \u001b[32mBuilding CXX object CMakeFiles/lightgbm_objs.dir/src/io/file_io.cpp.o\u001b[0m\n",
            "[ 36%] \u001b[32mBuilding CXX object CMakeFiles/lightgbm_objs.dir/src/io/json11.cpp.o\u001b[0m\n",
            "[ 38%] \u001b[32mBuilding CXX object CMakeFiles/lightgbm_objs.dir/src/io/metadata.cpp.o\u001b[0m\n",
            "[ 40%] \u001b[32mBuilding CXX object CMakeFiles/lightgbm_objs.dir/src/io/parser.cpp.o\u001b[0m\n",
            "[ 41%] \u001b[32mBuilding CXX object CMakeFiles/lightgbm_objs.dir/src/io/train_share_states.cpp.o\u001b[0m\n",
            "[ 43%] \u001b[32mBuilding CXX object CMakeFiles/lightgbm_objs.dir/src/io/tree.cpp.o\u001b[0m\n",
            "[ 45%] \u001b[32mBuilding CXX object CMakeFiles/lightgbm_objs.dir/src/metric/cuda/cuda_binary_metric.cpp.o\u001b[0m\n",
            "[ 47%] \u001b[32mBuilding CXX object CMakeFiles/lightgbm_objs.dir/src/metric/cuda/cuda_pointwise_metric.cpp.o\u001b[0m\n",
            "[ 49%] \u001b[32mBuilding CXX object CMakeFiles/lightgbm_objs.dir/src/metric/cuda/cuda_regression_metric.cpp.o\u001b[0m\n",
            "[ 50%] \u001b[32mBuilding CXX object CMakeFiles/lightgbm_objs.dir/src/metric/dcg_calculator.cpp.o\u001b[0m\n",
            "[ 52%] \u001b[32mBuilding CXX object CMakeFiles/lightgbm_objs.dir/src/metric/metric.cpp.o\u001b[0m\n",
            "[ 54%] \u001b[32mBuilding CXX object CMakeFiles/lightgbm_objs.dir/src/network/linker_topo.cpp.o\u001b[0m\n",
            "[ 56%] \u001b[32mBuilding CXX object CMakeFiles/lightgbm_objs.dir/src/network/linkers_mpi.cpp.o\u001b[0m\n",
            "[ 58%] \u001b[32mBuilding CXX object CMakeFiles/lightgbm_objs.dir/src/network/linkers_socket.cpp.o\u001b[0m\n",
            "[ 60%] \u001b[32mBuilding CXX object CMakeFiles/lightgbm_objs.dir/src/network/network.cpp.o\u001b[0m\n",
            "[ 61%] \u001b[32mBuilding CXX object CMakeFiles/lightgbm_objs.dir/src/objective/cuda/cuda_binary_objective.cpp.o\u001b[0m\n",
            "[ 63%] \u001b[32mBuilding CXX object CMakeFiles/lightgbm_objs.dir/src/objective/cuda/cuda_multiclass_objective.cpp.o\u001b[0m\n",
            "[ 65%] \u001b[32mBuilding CXX object CMakeFiles/lightgbm_objs.dir/src/objective/cuda/cuda_rank_objective.cpp.o\u001b[0m\n",
            "[ 67%] \u001b[32mBuilding CXX object CMakeFiles/lightgbm_objs.dir/src/objective/cuda/cuda_regression_objective.cpp.o\u001b[0m\n",
            "[ 69%] \u001b[32mBuilding CXX object CMakeFiles/lightgbm_objs.dir/src/objective/objective_function.cpp.o\u001b[0m\n",
            "[ 70%] \u001b[32mBuilding CXX object CMakeFiles/lightgbm_objs.dir/src/treelearner/cuda/cuda_best_split_finder.cpp.o\u001b[0m\n",
            "[ 72%] \u001b[32mBuilding CXX object CMakeFiles/lightgbm_objs.dir/src/treelearner/cuda/cuda_data_partition.cpp.o\u001b[0m\n",
            "[ 74%] \u001b[32mBuilding CXX object CMakeFiles/lightgbm_objs.dir/src/treelearner/cuda/cuda_histogram_constructor.cpp.o\u001b[0m\n",
            "[ 76%] \u001b[32mBuilding CXX object CMakeFiles/lightgbm_objs.dir/src/treelearner/cuda/cuda_leaf_splits.cpp.o\u001b[0m\n",
            "[ 78%] \u001b[32mBuilding CXX object CMakeFiles/lightgbm_objs.dir/src/treelearner/cuda/cuda_single_gpu_tree_learner.cpp.o\u001b[0m\n",
            "[ 80%] \u001b[32mBuilding CXX object CMakeFiles/lightgbm_objs.dir/src/treelearner/data_parallel_tree_learner.cpp.o\u001b[0m\n",
            "In file included from \u001b[01m\u001b[K/usr/include/CL/cl.h:32\u001b[m\u001b[K,\n",
            "                 from \u001b[01m\u001b[K/content/LightGBM/external_libs/compute/include/boost/compute/cl.hpp:19\u001b[m\u001b[K,\n",
            "                 from \u001b[01m\u001b[K/content/LightGBM/external_libs/compute/include/boost/compute/config.hpp:16\u001b[m\u001b[K,\n",
            "                 from \u001b[01m\u001b[K/content/LightGBM/external_libs/compute/include/boost/compute/buffer.hpp:14\u001b[m\u001b[K,\n",
            "                 from \u001b[01m\u001b[K/content/LightGBM/external_libs/compute/include/boost/compute/core.hpp:18\u001b[m\u001b[K,\n",
            "                 from \u001b[01m\u001b[K/content/LightGBM/src/treelearner/gpu_tree_learner.h:33\u001b[m\u001b[K,\n",
            "                 from \u001b[01m\u001b[K/content/LightGBM/src/treelearner/parallel_tree_learner.h:15\u001b[m\u001b[K,\n",
            "                 from \u001b[01m\u001b[K/content/LightGBM/src/treelearner/data_parallel_tree_learner.cpp:9\u001b[m\u001b[K:\n",
            "\u001b[01m\u001b[K/usr/include/CL/cl_version.h:34:104:\u001b[m\u001b[K \u001b[01;36m\u001b[Knote: \u001b[m\u001b[K#pragma message: cl_version.h: CL_TARGET_OPENCL_VERSION is not defined. Defaulting to 220 (OpenCL 2.2)\n",
            "   34 | #pragma message(\"cl_version.h: CL_TARGET_OPENCL_VERSION is not defined. Defaulting to 220 (OpenCL 2.2)\"\u001b[01;36m\u001b[K)\u001b[m\u001b[K\n",
            "      |                                                                                                        \u001b[01;36m\u001b[K^\u001b[m\u001b[K\n",
            "[ 81%] \u001b[32mBuilding CXX object CMakeFiles/lightgbm_objs.dir/src/treelearner/feature_parallel_tree_learner.cpp.o\u001b[0m\n",
            "In file included from \u001b[01m\u001b[K/usr/include/CL/cl.h:32\u001b[m\u001b[K,\n",
            "                 from \u001b[01m\u001b[K/content/LightGBM/external_libs/compute/include/boost/compute/cl.hpp:19\u001b[m\u001b[K,\n",
            "                 from \u001b[01m\u001b[K/content/LightGBM/external_libs/compute/include/boost/compute/config.hpp:16\u001b[m\u001b[K,\n",
            "                 from \u001b[01m\u001b[K/content/LightGBM/external_libs/compute/include/boost/compute/buffer.hpp:14\u001b[m\u001b[K,\n",
            "                 from \u001b[01m\u001b[K/content/LightGBM/external_libs/compute/include/boost/compute/core.hpp:18\u001b[m\u001b[K,\n",
            "                 from \u001b[01m\u001b[K/content/LightGBM/src/treelearner/gpu_tree_learner.h:33\u001b[m\u001b[K,\n",
            "                 from \u001b[01m\u001b[K/content/LightGBM/src/treelearner/parallel_tree_learner.h:15\u001b[m\u001b[K,\n",
            "                 from \u001b[01m\u001b[K/content/LightGBM/src/treelearner/feature_parallel_tree_learner.cpp:8\u001b[m\u001b[K:\n",
            "\u001b[01m\u001b[K/usr/include/CL/cl_version.h:34:104:\u001b[m\u001b[K \u001b[01;36m\u001b[Knote: \u001b[m\u001b[K#pragma message: cl_version.h: CL_TARGET_OPENCL_VERSION is not defined. Defaulting to 220 (OpenCL 2.2)\n",
            "   34 | #pragma message(\"cl_version.h: CL_TARGET_OPENCL_VERSION is not defined. Defaulting to 220 (OpenCL 2.2)\"\u001b[01;36m\u001b[K)\u001b[m\u001b[K\n",
            "      |                                                                                                        \u001b[01;36m\u001b[K^\u001b[m\u001b[K\n",
            "[ 83%] \u001b[32mBuilding CXX object CMakeFiles/lightgbm_objs.dir/src/treelearner/gpu_tree_learner.cpp.o\u001b[0m\n",
            "In file included from \u001b[01m\u001b[K/usr/include/CL/cl.h:32\u001b[m\u001b[K,\n",
            "                 from \u001b[01m\u001b[K/content/LightGBM/external_libs/compute/include/boost/compute/cl.hpp:19\u001b[m\u001b[K,\n",
            "                 from \u001b[01m\u001b[K/content/LightGBM/external_libs/compute/include/boost/compute/config.hpp:16\u001b[m\u001b[K,\n",
            "                 from \u001b[01m\u001b[K/content/LightGBM/external_libs/compute/include/boost/compute/buffer.hpp:14\u001b[m\u001b[K,\n",
            "                 from \u001b[01m\u001b[K/content/LightGBM/external_libs/compute/include/boost/compute/core.hpp:18\u001b[m\u001b[K,\n",
            "                 from \u001b[01m\u001b[K/content/LightGBM/src/treelearner/gpu_tree_learner.h:33\u001b[m\u001b[K,\n",
            "                 from \u001b[01m\u001b[K/content/LightGBM/src/treelearner/gpu_tree_learner.cpp:7\u001b[m\u001b[K:\n",
            "\u001b[01m\u001b[K/usr/include/CL/cl_version.h:34:104:\u001b[m\u001b[K \u001b[01;36m\u001b[Knote: \u001b[m\u001b[K#pragma message: cl_version.h: CL_TARGET_OPENCL_VERSION is not defined. Defaulting to 220 (OpenCL 2.2)\n",
            "   34 | #pragma message(\"cl_version.h: CL_TARGET_OPENCL_VERSION is not defined. Defaulting to 220 (OpenCL 2.2)\"\u001b[01;36m\u001b[K)\u001b[m\u001b[K\n",
            "      |                                                                                                        \u001b[01;36m\u001b[K^\u001b[m\u001b[K\n",
            "[ 85%] \u001b[32mBuilding CXX object CMakeFiles/lightgbm_objs.dir/src/treelearner/gradient_discretizer.cpp.o\u001b[0m\n",
            "[ 87%] \u001b[32mBuilding CXX object CMakeFiles/lightgbm_objs.dir/src/treelearner/linear_tree_learner.cpp.o\u001b[0m\n",
            "[ 89%] \u001b[32mBuilding CXX object CMakeFiles/lightgbm_objs.dir/src/treelearner/serial_tree_learner.cpp.o\u001b[0m\n",
            "[ 90%] \u001b[32mBuilding CXX object CMakeFiles/lightgbm_objs.dir/src/treelearner/tree_learner.cpp.o\u001b[0m\n",
            "In file included from \u001b[01m\u001b[K/usr/include/CL/cl.h:32\u001b[m\u001b[K,\n",
            "                 from \u001b[01m\u001b[K/content/LightGBM/external_libs/compute/include/boost/compute/cl.hpp:19\u001b[m\u001b[K,\n",
            "                 from \u001b[01m\u001b[K/content/LightGBM/external_libs/compute/include/boost/compute/config.hpp:16\u001b[m\u001b[K,\n",
            "                 from \u001b[01m\u001b[K/content/LightGBM/external_libs/compute/include/boost/compute/buffer.hpp:14\u001b[m\u001b[K,\n",
            "                 from \u001b[01m\u001b[K/content/LightGBM/external_libs/compute/include/boost/compute/core.hpp:18\u001b[m\u001b[K,\n",
            "                 from \u001b[01m\u001b[K/content/LightGBM/src/treelearner/gpu_tree_learner.h:33\u001b[m\u001b[K,\n",
            "                 from \u001b[01m\u001b[K/content/LightGBM/src/treelearner/tree_learner.cpp:7\u001b[m\u001b[K:\n",
            "\u001b[01m\u001b[K/usr/include/CL/cl_version.h:34:104:\u001b[m\u001b[K \u001b[01;36m\u001b[Knote: \u001b[m\u001b[K#pragma message: cl_version.h: CL_TARGET_OPENCL_VERSION is not defined. Defaulting to 220 (OpenCL 2.2)\n",
            "   34 | #pragma message(\"cl_version.h: CL_TARGET_OPENCL_VERSION is not defined. Defaulting to 220 (OpenCL 2.2)\"\u001b[01;36m\u001b[K)\u001b[m\u001b[K\n",
            "      |                                                                                                        \u001b[01;36m\u001b[K^\u001b[m\u001b[K\n",
            "[ 92%] \u001b[32mBuilding CXX object CMakeFiles/lightgbm_objs.dir/src/treelearner/voting_parallel_tree_learner.cpp.o\u001b[0m\n",
            "In file included from \u001b[01m\u001b[K/usr/include/CL/cl.h:32\u001b[m\u001b[K,\n",
            "                 from \u001b[01m\u001b[K/content/LightGBM/external_libs/compute/include/boost/compute/cl.hpp:19\u001b[m\u001b[K,\n",
            "                 from \u001b[01m\u001b[K/content/LightGBM/external_libs/compute/include/boost/compute/config.hpp:16\u001b[m\u001b[K,\n",
            "                 from \u001b[01m\u001b[K/content/LightGBM/external_libs/compute/include/boost/compute/buffer.hpp:14\u001b[m\u001b[K,\n",
            "                 from \u001b[01m\u001b[K/content/LightGBM/external_libs/compute/include/boost/compute/core.hpp:18\u001b[m\u001b[K,\n",
            "                 from \u001b[01m\u001b[K/content/LightGBM/src/treelearner/gpu_tree_learner.h:33\u001b[m\u001b[K,\n",
            "                 from \u001b[01m\u001b[K/content/LightGBM/src/treelearner/parallel_tree_learner.h:15\u001b[m\u001b[K,\n",
            "                 from \u001b[01m\u001b[K/content/LightGBM/src/treelearner/voting_parallel_tree_learner.cpp:11\u001b[m\u001b[K:\n",
            "\u001b[01m\u001b[K/usr/include/CL/cl_version.h:34:104:\u001b[m\u001b[K \u001b[01;36m\u001b[Knote: \u001b[m\u001b[K#pragma message: cl_version.h: CL_TARGET_OPENCL_VERSION is not defined. Defaulting to 220 (OpenCL 2.2)\n",
            "   34 | #pragma message(\"cl_version.h: CL_TARGET_OPENCL_VERSION is not defined. Defaulting to 220 (OpenCL 2.2)\"\u001b[01;36m\u001b[K)\u001b[m\u001b[K\n",
            "      |                                                                                                        \u001b[01;36m\u001b[K^\u001b[m\u001b[K\n",
            "[ 92%] Built target lightgbm_objs\n",
            "[ 94%] \u001b[32mBuilding CXX object CMakeFiles/lightgbm.dir/src/main.cpp.o\u001b[0m\n",
            "[ 96%] \u001b[32m\u001b[1mLinking CXX shared library lib_lightgbm.so\u001b[0m\n",
            "[ 96%] Built target _lightgbm\n",
            "[ 98%] \u001b[32mBuilding CXX object CMakeFiles/lightgbm.dir/src/application/application.cpp.o\u001b[0m\n",
            "[100%] \u001b[32m\u001b[1mLinking CXX executable lightgbm\u001b[0m\n",
            "[100%] Built target lightgbm\n",
            "Reading package lists... Done\n",
            "Building dependency tree       \n",
            "Reading state information... Done\n",
            "Package python-pip is not available, but is referred to by another package.\n",
            "This may mean that the package is missing, has been obsoleted, or\n",
            "is only available from another source\n",
            "However the following packages replace it:\n",
            "  python3-pip\n",
            "\n",
            "E: Package 'python-pip' has no installation candidate\n",
            "Looking in indexes: https://pypi.org/simple, https://us-python.pkg.dev/colab-wheels/public/simple/\n",
            "Requirement already satisfied: setuptools in /usr/local/lib/python3.10/dist-packages (67.7.2)\n",
            "Requirement already satisfied: pandas in /usr/local/lib/python3.10/dist-packages (1.5.3)\n",
            "Collecting pandas\n",
            "  Downloading pandas-2.0.1-cp310-cp310-manylinux_2_17_x86_64.manylinux2014_x86_64.whl (12.3 MB)\n",
            "\u001b[2K     \u001b[90m━━━━━━━━━━━━━━━━━━━━━━━━━━━━━━━━━━━━━━━━\u001b[0m \u001b[32m12.3/12.3 MB\u001b[0m \u001b[31m65.5 MB/s\u001b[0m eta \u001b[36m0:00:00\u001b[0m\n",
            "\u001b[?25hRequirement already satisfied: numpy in /usr/local/lib/python3.10/dist-packages (1.22.4)\n",
            "Collecting numpy\n",
            "  Downloading numpy-1.24.3-cp310-cp310-manylinux_2_17_x86_64.manylinux2014_x86_64.whl (17.3 MB)\n",
            "\u001b[2K     \u001b[90m━━━━━━━━━━━━━━━━━━━━━━━━━━━━━━━━━━━━━━━━\u001b[0m \u001b[32m17.3/17.3 MB\u001b[0m \u001b[31m89.0 MB/s\u001b[0m eta \u001b[36m0:00:00\u001b[0m\n",
            "\u001b[?25hRequirement already satisfied: scipy in /usr/local/lib/python3.10/dist-packages (1.10.1)\n",
            "Requirement already satisfied: scikit-learn in /usr/local/lib/python3.10/dist-packages (1.2.2)\n",
            "Requirement already satisfied: python-dateutil>=2.8.2 in /usr/local/lib/python3.10/dist-packages (from pandas) (2.8.2)\n",
            "Requirement already satisfied: pytz>=2020.1 in /usr/local/lib/python3.10/dist-packages (from pandas) (2022.7.1)\n",
            "Requirement already satisfied: tzdata>=2022.1 in /usr/local/lib/python3.10/dist-packages (from pandas) (2023.3)\n",
            "Requirement already satisfied: joblib>=1.1.1 in /usr/local/lib/python3.10/dist-packages (from scikit-learn) (1.2.0)\n",
            "Requirement already satisfied: threadpoolctl>=2.0.0 in /usr/local/lib/python3.10/dist-packages (from scikit-learn) (3.1.0)\n",
            "Requirement already satisfied: six>=1.5 in /usr/local/lib/python3.10/dist-packages (from python-dateutil>=2.8.2->pandas) (1.16.0)\n",
            "Installing collected packages: numpy, pandas\n",
            "  Attempting uninstall: numpy\n",
            "    Found existing installation: numpy 1.22.4\n",
            "    Uninstalling numpy-1.22.4:\n",
            "      Successfully uninstalled numpy-1.22.4\n",
            "  Attempting uninstall: pandas\n",
            "    Found existing installation: pandas 1.5.3\n",
            "    Uninstalling pandas-1.5.3:\n",
            "      Successfully uninstalled pandas-1.5.3\n",
            "\u001b[31mERROR: pip's dependency resolver does not currently take into account all the packages that are installed. This behaviour is the source of the following dependency conflicts.\n",
            "google-colab 1.0.0 requires pandas~=1.5.3, but you have pandas 2.0.1 which is incompatible.\n",
            "numba 0.56.4 requires numpy<1.24,>=1.18, but you have numpy 1.24.3 which is incompatible.\n",
            "tensorflow 2.12.0 requires numpy<1.24,>=1.22, but you have numpy 1.24.3 which is incompatible.\u001b[0m\u001b[31m\n",
            "\u001b[0mSuccessfully installed numpy-1.24.3 pandas-2.0.1\n",
            "/content/LightGBM/python-package\n",
            "Traceback (most recent call last):\n",
            "  File \"/content/LightGBM/python-package/setup.py\", line 300, in <module>\n",
            "    version = _version_file.read_text(encoding='utf-8').strip()\n",
            "  File \"/usr/lib/python3.10/pathlib.py\", line 1134, in read_text\n",
            "    with self.open(mode='r', encoding=encoding, errors=errors) as f:\n",
            "  File \"/usr/lib/python3.10/pathlib.py\", line 1119, in open\n",
            "    return self._accessor.open(self, mode, buffering, encoding, errors,\n",
            "FileNotFoundError: [Errno 2] No such file or directory: '/content/LightGBM/python-package/lightgbm/VERSION.txt'\n"
          ]
        }
      ],
      "source": [
        "!git clone --recursive https://github.com/Microsoft/LightGBM\n",
        "%cd /content/LightGBM\n",
        "!mkdir build\n",
        "!cmake -DUSE_GPU=1\n",
        "!make -j$(nproc)\n",
        "!sudo apt-get -y install python-pip\n",
        "!sudo -H pip install setuptools pandas numpy scipy scikit-learn -U\n",
        "%cd /content/LightGBM/python-package/\n",
        "!sudo python setup.py install --precompile"
      ]
    },
    {
      "cell_type": "code",
      "execution_count": null,
      "metadata": {
        "colab": {
          "background_save": true,
          "base_uri": "https://localhost:8080/",
          "height": 390
        },
        "id": "IDfkNJ9z1LzU",
        "outputId": "79abfe68-dc9a-46fb-c897-031797158514"
      },
      "outputs": [
        {
          "name": "stderr",
          "output_type": "stream",
          "text": [
            "Custom TB Handler failed, unregistering\n"
          ]
        }
      ],
      "source": [
        "import numpy as np\n",
        "import pandas as pd\n",
        "import seaborn as sns\n",
        "import plotly.express as px\n",
        "import matplotlib.pyplot as plt\n",
        "import plotly.graph_objects as go\n",
        "from plotly.subplots import make_subplots\n",
        "\n",
        "\n",
        "\n",
        "from sklearn.impute import SimpleImputer\n",
        "from sklearn.metrics import accuracy_score\n",
        "from sklearn.preprocessing import LabelEncoder\n",
        "from sklearn.model_selection import StratifiedKFold, train_test_split\n",
        "\n",
        "\n",
        "import lightgbm as lgb\n",
        "from lgb import LGBMClassifier\n",
        "import lazypredict\n",
        "from lazypredict.Supervised import LazyClassifier\n",
        "\n",
        "import time\n",
        "import warnings\n",
        "warnings.filterwarnings('ignore')\n"
      ]
    },
    {
      "cell_type": "markdown",
      "metadata": {
        "id": "feINWOIZ1LzV"
      },
      "source": [
        "<a href=\"#toc\" role=\"button\" aria-pressed=\"true\" >⬆️Back to Table of Contents ⬆️</a>"
      ]
    },
    {
      "cell_type": "markdown",
      "metadata": {
        "id": "IWY-Cdwb1LzV"
      },
      "source": [
        "<a id=\"3\"></a>\n",
        "# **<center><span style=\"color:#00BFC4;\">Data Loading and Preparation </span></center>**"
      ]
    },
    {
      "cell_type": "code",
      "execution_count": null,
      "metadata": {
        "id": "R1CSt61J1LzV"
      },
      "outputs": [],
      "source": [
        "train = pd.read_csv(\"../input/spaceship-titanic/train.csv\")\n",
        "test = pd.read_csv(\"../input/spaceship-titanic/test.csv\")\n",
        "submission = pd.read_csv(\"../input/spaceship-titanic/sample_submission.csv\")\n",
        "\n",
        "RANDOM_STATE = 12 \n",
        "FOLDS = 5\n",
        "STRATEGY = 'median'"
      ]
    },
    {
      "cell_type": "markdown",
      "metadata": {
        "id": "kS7Efd081LzV"
      },
      "source": [
        "## <span style=\"color:#e76f51;\"> Column Descriptions  : </span>\n",
        "\n",
        "\n",
        "- `PassengerId` - A unique Id for each passenger. Each Id takes the form gggg_pp where gggg indicates a group the passenger is travelling with and pp is their number within the group. People in a group are often family members, but not always.\n",
        "- `HomePlanet` - The planet the passenger departed from, typically their planet of permanent residence.\n",
        "- `CryoSleep` - Indicates whether the passenger elected to be put into suspended animation for the duration of the voyage. Passengers in cryosleep are confined to their cabins.\n",
        "- `Cabin` - The cabin number where the passenger is staying. Takes the form deck/num/side, where side can be either P for Port or S for Starboard.\n",
        "- `Destination` - The planet the passenger will be debarking to.\n",
        "- `Age` - The age of the passenger.\n",
        "- `VIP` - Whether the passenger has paid for special VIP service during the voyage.\n",
        "- `RoomService`, FoodCourt, ShoppingMall, Spa, VRDeck - Amount the passenger has billed at each of the Spaceship Titanic's many luxury amenities.\n",
        "- `Name` - The first and last names of the passenger.\n",
        "- `Transported` - Whether the passenger was transported to another dimension. This is the target, the column you are trying to predict.\n",
        "\n"
      ]
    },
    {
      "cell_type": "markdown",
      "metadata": {
        "id": "biYK5tfn1LzW"
      },
      "source": [
        "<a id=\"3.1\"></a>\n",
        "## <span style=\"color:#e76f51;\"> Exploring Train Data : </span>"
      ]
    },
    {
      "cell_type": "markdown",
      "metadata": {
        "id": "8fs1GTvQ1LzW"
      },
      "source": [
        "<div class=\"alert alert-block alert-info\" style=\"font-size:14px; font-family:verdana; line-height: 1.7em;\">\n",
        "    📌 &nbsp;<b><u>Observations in Train Data:</u></b><br>\n",
        " \n",
        "* <i> There are total of <b><u>14</u></b> columns and <b><u>8693</u></b> rows in <b><u>train</u></b> data.</i><br>\n",
        "* <i> Train data contains <b><u>119378</u></b> observation with <b><u>2324</u></b>  missing values.</i><br>\n",
        "* <i> All 12 feature columns have missing values in them with <b><u>CryoSleep</u></b> having highest missing values <u>(217)</u>  </i><br>\n",
        "* <i> <b><u>Transported</u></b> is the target variable which is only available in the <b><u>train</u></b> dataset.</i><br>\n",
        "</div>"
      ]
    },
    {
      "cell_type": "markdown",
      "metadata": {
        "id": "hbg79Hcu1LzW"
      },
      "source": [
        "### <span style=\"color:#e76f51;\"> Quick view of Train Data : </span>"
      ]
    },
    {
      "cell_type": "markdown",
      "metadata": {
        "id": "9a_d4UCs1LzW"
      },
      "source": [
        "Below are the first 5 rows of train dataset:"
      ]
    },
    {
      "cell_type": "code",
      "execution_count": null,
      "metadata": {
        "id": "qcEGLSKa1LzW"
      },
      "outputs": [],
      "source": [
        "train.head()"
      ]
    },
    {
      "cell_type": "code",
      "execution_count": null,
      "metadata": {
        "id": "n6y-UGrk1LzW"
      },
      "outputs": [],
      "source": [
        "print(f'\\033[94mNumber of rows in train data: {train.shape[0]}')\n",
        "print(f'\\033[94mNumber of columns in train data: {train.shape[1]}')\n",
        "print(f'\\033[94mNumber of values in train data: {train.count().sum()}')\n",
        "print(f'\\033[94mNumber missing values in train data: {sum(train.isna().sum())}')"
      ]
    },
    {
      "cell_type": "markdown",
      "metadata": {
        "id": "q7-D1gcE1LzX"
      },
      "source": [
        "### <span style=\"color:#e76f51;\"> Column Wise missing values : </span>"
      ]
    },
    {
      "cell_type": "code",
      "execution_count": null,
      "metadata": {
        "id": "eGL-mWRL1LzX"
      },
      "outputs": [],
      "source": [
        "print(f'\\033[94m')\n",
        "print(train.isna().sum().sort_values(ascending = False))"
      ]
    },
    {
      "cell_type": "markdown",
      "metadata": {
        "id": "M4N35j521LzX"
      },
      "source": [
        "### <span style=\"color:#e76f51;\"> Basic statistics of training data : </span>"
      ]
    },
    {
      "cell_type": "markdown",
      "metadata": {
        "id": "7AJ5itlK1LzX"
      },
      "source": [
        "Below is the basic statistics for each variables which contain information on `count`, `mean`, `standard deviation`, `minimum`, `1st quartile`, `median`, `3rd quartile` and `maximum`."
      ]
    },
    {
      "cell_type": "code",
      "execution_count": null,
      "metadata": {
        "id": "ZkU2fzn01LzX"
      },
      "outputs": [],
      "source": [
        "train.describe()"
      ]
    },
    {
      "cell_type": "markdown",
      "metadata": {
        "id": "5sKobvkP1LzX"
      },
      "source": [
        "<a id=\"3.2\"></a>\n",
        "## <span style=\"color:#e76f51;\"> Exploring Test Data </span>"
      ]
    },
    {
      "cell_type": "markdown",
      "metadata": {
        "id": "yfqXUWcy1LzX"
      },
      "source": [
        "<div class=\"alert alert-block alert-info\" style=\"font-size:14px; font-family:verdana; line-height: 1.7em;\">\n",
        "    📌 &nbsp;<b><u>Observations in Test Data:</u></b><br>\n",
        " \n",
        "* <i> There are total of <b><u>13</u></b> columns and <b><u>4277</u></b> rows in <b><u>test</u></b> data.</i><br>\n",
        "* <i> Train data contains <b><u>54484</u></b> observation with <b><u>1117</u></b>  missing values.</i><br>\n",
        "* <i> All 12 feature columns have missing values in them with <b><u>FoodCourt</u></b> having highest missing values <u>(106)</u>  </i><br>\n",
        "</div>"
      ]
    },
    {
      "cell_type": "markdown",
      "metadata": {
        "id": "R6rJ1AJ-1LzY"
      },
      "source": [
        "### <span style=\"color:#e76f51;\"> Quick view of Test Data </span>"
      ]
    },
    {
      "cell_type": "code",
      "execution_count": null,
      "metadata": {
        "id": "WdXvwTh-1LzY"
      },
      "outputs": [],
      "source": [
        "test.head()"
      ]
    },
    {
      "cell_type": "code",
      "execution_count": null,
      "metadata": {
        "id": "ctbk6YSU1LzY"
      },
      "outputs": [],
      "source": [
        "print(f'\\033[94mNumber of rows in test data: {test.shape[0]}')\n",
        "print(f'\\033[94mNumber of columns in test data: {test.shape[1]}')\n",
        "print(f'\\033[94mNumber of values in train data: {test.count().sum()}')\n",
        "print(f'\\033[94mNo of rows with missing values  in test data: {sum(test.isna().sum())}')"
      ]
    },
    {
      "cell_type": "markdown",
      "metadata": {
        "id": "mt3hdVXG1LzZ"
      },
      "source": [
        "### <span style=\"color:#e76f51;\"> Column Wise missing values </span>"
      ]
    },
    {
      "cell_type": "code",
      "execution_count": null,
      "metadata": {
        "id": "xIGLE2ty1Lza"
      },
      "outputs": [],
      "source": [
        "print(f'\\033[94m')\n",
        "print((test.isna().sum().sort_values(ascending = False)))"
      ]
    },
    {
      "cell_type": "markdown",
      "metadata": {
        "id": "MpWpH1fP1Lza"
      },
      "source": [
        "### <span style=\"color:#e76f51;\"> Basic statistics of test data </span>"
      ]
    },
    {
      "cell_type": "markdown",
      "metadata": {
        "id": "4_dHNDst1Lza"
      },
      "source": [
        "Below is the basic statistics for each variables which contain information on `count`, `mean`, `standard deviation`, `minimum`, `1st quartile`, `median`, `3rd quartile` and `maximum`."
      ]
    },
    {
      "cell_type": "code",
      "execution_count": null,
      "metadata": {
        "id": "-_bKnWux1Lza"
      },
      "outputs": [],
      "source": [
        "test.describe()"
      ]
    },
    {
      "cell_type": "markdown",
      "metadata": {
        "id": "_tgSbuod1Lza"
      },
      "source": [
        "<a id=\"3.3\"></a>\n",
        "## <span style=\"color:#e76f51;\"> Submission File </span>"
      ]
    },
    {
      "cell_type": "markdown",
      "metadata": {
        "id": "qm7SSs4y1Lzb"
      },
      "source": [
        "### <span style=\"color:#e76f51;\"> Quick view of Submission File </span>"
      ]
    },
    {
      "cell_type": "code",
      "execution_count": null,
      "metadata": {
        "id": "b55BtH411Lzg"
      },
      "outputs": [],
      "source": [
        "submission.head()"
      ]
    },
    {
      "cell_type": "markdown",
      "metadata": {
        "id": "IjZvTSDv1Lzg"
      },
      "source": [
        "<a href=\"#toc\" role=\"button\" aria-pressed=\"true\" >⬆️Back to Table of Contents ⬆️</a>"
      ]
    },
    {
      "cell_type": "markdown",
      "metadata": {
        "id": "ko5aziYZ1Lzg"
      },
      "source": [
        "<a id=\"4\"></a>\n",
        "# **<center><span style=\"color:#00BFC4;\"> EDA </span></center>**"
      ]
    },
    {
      "cell_type": "markdown",
      "metadata": {
        "id": "-y5pGj1U1Lzg"
      },
      "source": [
        "<a id=\"4.1\"></a>\n",
        "## <span style=\"color:#e76f51;\"> Overview of Data </span>"
      ]
    },
    {
      "cell_type": "code",
      "execution_count": null,
      "metadata": {
        "id": "8CMnqS881Lzg"
      },
      "outputs": [],
      "source": [
        "train.drop([\"PassengerId\"] , axis = 1 , inplace = True)\n",
        "test.drop([\"PassengerId\"] , axis = 1 , inplace = True)\n",
        "TARGET = 'Transported'\n",
        "FEATURES = [col for col in train.columns if col != TARGET]\n",
        "RANDOM_STATE = 12 "
      ]
    },
    {
      "cell_type": "code",
      "execution_count": null,
      "metadata": {
        "id": "0dXecViI1Lzg"
      },
      "outputs": [],
      "source": [
        "train.iloc[:, :-1].describe().T.sort_values(by='std' , ascending = False)\\\n",
        "                     .style.background_gradient(cmap='GnBu')\\\n",
        "                     .bar(subset=[\"max\"], color='#BB0000')\\\n",
        "                     .bar(subset=[\"mean\",], color='green')"
      ]
    },
    {
      "cell_type": "markdown",
      "metadata": {
        "id": "p_cJ050g1Lzh"
      },
      "source": [
        "<a id=\"4.7\"></a>\n",
        "## <span style=\"color:#e76f51;\"> Null Value Distribution  </span>"
      ]
    },
    {
      "cell_type": "markdown",
      "metadata": {
        "id": "2g0IvCQA1Lzh"
      },
      "source": [
        "<div class=\"alert alert-block alert-info\" style=\"font-size:14px; font-family:verdana; line-height: 1.7em;\">\n",
        "    📌 &nbsp;<b><u>Observations in Null Value Distribution :</u></b><br>\n",
        " \n",
        "* <i> The maximum of missing value in an row is <b><u>3</u></b> and the lowest is <b><u>no missing value</u></b></i><br>\n",
        "* <i> Interestingly, the missing value distribution (row basis) is quite the same between <b><u>train</u></b> and <b><u>test</u></b> dataset. </i><br>\n",
        "* <i> There are around <b><u>76%</u></b> of the observations (row basis) that has no missing values.  </i><br>\n",
        "* <i> Rest <b><u>24%</u></b> of the observations (row basis) that have <b><u>1 to 3</u></b>  missing values</i><br>\n",
        "</div>"
      ]
    },
    {
      "cell_type": "markdown",
      "metadata": {
        "id": "kC7TRclc1Lzh"
      },
      "source": [
        "<a id=\"4.2.1\"></a>\n",
        "### <span style=\"color:#e76f51;\">Column wise Null Value Distribution   </span>"
      ]
    },
    {
      "cell_type": "code",
      "execution_count": null,
      "metadata": {
        "id": "XKgcFGJk1Lzh"
      },
      "outputs": [],
      "source": [
        "test_null = pd.DataFrame(test.isna().sum())\n",
        "test_null = test_null.sort_values(by = 0 ,ascending = False)\n",
        "train_null = pd.DataFrame(train.isna().sum())\n",
        "train_null = train_null.sort_values(by = 0 ,ascending = False)[:-1]\n",
        "\n",
        "\n",
        "fig = make_subplots(rows=1, \n",
        "                    cols=2,\n",
        "                    column_titles = [\"Train Data\", \"Test Data\"] ,\n",
        "                    x_title=\"Missing Values\")\n",
        "\n",
        "fig.add_trace(go.Bar(x=train_null[0],\n",
        "                     y=train_null.index,\n",
        "                     orientation=\"h\",\n",
        "                    marker=dict(color=[n for n in range(12)], \n",
        "                                line_color='rgb(0,0,0)' , \n",
        "                                line_width = 2,\n",
        "                                coloraxis=\"coloraxis\")),\n",
        "              1, 1)\n",
        "fig.add_trace(go.Bar(x=test_null[0], \n",
        "                     y=test_null.index,\n",
        "                     orientation=\"h\",\n",
        "                    marker=dict(color=[n for n in range(12)], \n",
        "                                line_color='rgb(0,0,0)', \n",
        "                                line_width = 2,\n",
        "                                coloraxis=\"coloraxis\")),\n",
        "              1, 2)\n",
        "\n",
        "fig.update_layout(showlegend=False, title_text=\"Column wise Null Value Distribution\", title_x=0.5)"
      ]
    },
    {
      "cell_type": "markdown",
      "metadata": {
        "id": "jqPPhoxf1Lzh"
      },
      "source": [
        "<a id=\"4.7.2\"></a>\n",
        "### <span style=\"color:#e76f51;\">Row wise Null Value Distribution   </span>"
      ]
    },
    {
      "cell_type": "code",
      "execution_count": null,
      "metadata": {
        "id": "96q-xZBa1Lzh"
      },
      "outputs": [],
      "source": [
        "missing_train_row = train.isna().sum(axis=1)\n",
        "missing_train_row = pd.DataFrame(missing_train_row.value_counts()/train.shape[0]).reset_index()\n",
        "missing_test_row = test.isna().sum(axis=1)\n",
        "missing_test_row = pd.DataFrame(missing_test_row.value_counts()/test.shape[0]).reset_index()\n",
        "missing_train_row.columns = ['no', 'count']\n",
        "missing_test_row.columns = ['no', 'count']\n",
        "missing_train_row[\"count\"] = missing_train_row[\"count\"]*100\n",
        "missing_test_row[\"count\"] = missing_test_row[\"count\"]*100\n",
        "\n",
        "\n",
        "fig = make_subplots(rows=1, \n",
        "                    cols=2,\n",
        "                    column_titles = [\"Train Data\", \"Test Data\"] ,\n",
        "                    x_title=\"Missing Values\",)\n",
        "\n",
        "fig.add_trace(go.Bar(x=missing_train_row[\"no\"], \n",
        "                     y=missing_train_row[\"count\"]  ,\n",
        "                    marker=dict(color=[n for n in range(4)], \n",
        "                                line_color='rgb(0,0,0)' ,\n",
        "                                line_width = 3\n",
        "                                ,coloraxis=\"coloraxis\")),\n",
        "              1, 1)\n",
        "fig.add_trace(go.Bar(x= missing_test_row[\"no\"], \n",
        "                     y=missing_test_row[\"count\"],\n",
        "                    marker=dict(color=[n for n in range(4)], \n",
        "                                line_color='rgb(0,0,0)',\n",
        "                                line_width = 3 ,\n",
        "                                coloraxis=\"coloraxis\")),\n",
        "              1, 2)\n",
        "fig.update_layout(showlegend=False, title_text=\"Row wise Null Value Distribution\", title_x=0.5)"
      ]
    },
    {
      "cell_type": "markdown",
      "metadata": {
        "id": "gjvZjnk91Lzh"
      },
      "source": [
        "### <span style=\"color:#e76f51;\">Dealing with missing value (reference)  </span>\n",
        "Some references on how to deal with missing value:\n",
        "- [Missing Values](https://www.kaggle.com/alexisbcook/missing-values) by [Alexis Cook](https://www.kaggle.com/alexisbcook)\n",
        "- [Data Cleaning Challenge: Handling missing values](https://www.kaggle.com/rtatman/data-cleaning-challenge-handling-missing-values) by [Rachael Tatman](https://www.kaggle.com/rtatman)\n",
        "- [A Guide to Handling Missing values in Python ](https://www.kaggle.com/parulpandey/a-guide-to-handling-missing-values-in-python) by [Parul Pandey](https://www.kaggle.com/parulpandey)\n",
        "\n",
        "Some models that have capability to handle missing value by default are:\n",
        "- XGBoost: https://xgboost.readthedocs.io/en/latest/faq.html\n",
        "- LightGBM: https://lightgbm.readthedocs.io/en/latest/Advanced-Topics.html\n",
        "- Catboost: https://catboost.ai/docs/concepts/algorithm-missing-values-processing.html"
      ]
    },
    {
      "cell_type": "markdown",
      "metadata": {
        "id": "gQmsB0mx1Lzi"
      },
      "source": [
        "<a href=\"#toc\" role=\"button\" aria-pressed=\"true\" >⬆️Back to Table of Contents ⬆️</a>"
      ]
    },
    {
      "cell_type": "markdown",
      "metadata": {
        "id": "S1o6ftFd1Lzi"
      },
      "source": [
        "<a id=\"4.2\"></a>\n",
        "## <span style=\"color:#e76f51;\">Continuos and Categorical Data Distribution </span>"
      ]
    },
    {
      "cell_type": "markdown",
      "metadata": {
        "id": "1SAip4E41Lzi"
      },
      "source": [
        "<div class=\"alert alert-block alert-info\" style=\"font-size:14px; font-family:verdana; line-height: 1.7em;\">\n",
        "    📌 &nbsp;<b><u>Observations in Null Value Distribution :</u></b><br>\n",
        " \n",
        "* <i> Out of <b><u>12</u></b> features <b><u>6</u></b> features are continous, <b><u>2</u></b> features are text data and <b><u>4</u></b> features are categorical.</i><br>\n",
        "* <i><b><u>HomePlanet</u></b> and <b><u>Destination</u></b> have <b><u>3</u></b> differnt unique values. </i><br>\n",
        "* <i><b><u>CryoSleep</u></b> and <b><u>VIP</u></b> are <b><u>bool</u></b> features </i><br>\n",
        "</div>"
      ]
    },
    {
      "cell_type": "code",
      "execution_count": null,
      "metadata": {
        "id": "cKWD4zvq1Lzi"
      },
      "outputs": [],
      "source": [
        "df = pd.concat([train[FEATURES], test[FEATURES]], axis=0)\n",
        "text_features = [\"Cabin\", \"Name\"]\n",
        "cat_features = [col for col in FEATURES if df[col].nunique() < 25 and col not in text_features ]\n",
        "cont_features = [col for col in FEATURES if df[col].nunique() >= 25 and col not in text_features ]\n",
        "\n",
        "del df\n",
        "print(f'\\033[94mTotal number of features: {len(FEATURES)}')\n",
        "print(f'\\033[94mNumber of categorical features: {len(cat_features)}')\n",
        "print(f'\\033[94mNumber of continuos features: {len(cont_features)}')\n",
        "print(f'\\033[94mNumber of text features: {len(text_features)}')\n",
        "\n",
        "labels=['Categorical', 'Continuos', \"Text\"]\n",
        "values= [len(cat_features), len(cont_features), len(text_features)]\n",
        "colors = ['#DE3163', '#58D68D']\n",
        "\n",
        "fig = go.Figure(data=[go.Pie(\n",
        "    labels=labels, \n",
        "    values=values, pull=[0.1, 0, 0 ],\n",
        "    marker=dict(colors=colors, \n",
        "                line=dict(color='#000000', \n",
        "                          width=2))\n",
        ")])\n",
        "fig.show()"
      ]
    },
    {
      "cell_type": "markdown",
      "metadata": {
        "id": "bEeYw0ar1Lzi"
      },
      "source": [
        "<a href=\"#toc\" role=\"button\" aria-pressed=\"true\" >⬆️Back to Table of Contents ⬆️</a>"
      ]
    },
    {
      "cell_type": "markdown",
      "metadata": {
        "id": "gIIn9bvK1Lzi"
      },
      "source": [
        "<a id=\"4.3\"></a>\n",
        "## <span style=\"color:#e76f51;\"> Feature Distribution of Continous Features </span>\n"
      ]
    },
    {
      "cell_type": "markdown",
      "metadata": {
        "id": "7rFdp7LP1Lzi"
      },
      "source": [
        "### <span style=\"color:#e76f51;\">  Distribution of Age </span>"
      ]
    },
    {
      "cell_type": "code",
      "execution_count": null,
      "metadata": {
        "id": "Blvm1YO31Lzi"
      },
      "outputs": [],
      "source": [
        "train_age = train.copy()\n",
        "test_age = test.copy()\n",
        "train_age[\"type\"] = \"Train\"\n",
        "test_age[\"type\"] = \"Test\"\n",
        "ageDf = pd.concat([train_age, test_age])\n",
        "fig = px.histogram(data_frame = ageDf, \n",
        "                   x=\"Age\",\n",
        "                   color= \"type\",\n",
        "                   color_discrete_sequence =  ['#58D68D','#DE3163'],\n",
        "                   marginal=\"box\",\n",
        "                   nbins= 100,\n",
        "                    template=\"plotly_white\"\n",
        "                )\n",
        "fig.update_layout(title = \"Distribution of Age\" , title_x = 0.5)\n",
        "fig.show()"
      ]
    },
    {
      "cell_type": "markdown",
      "metadata": {
        "id": "7L9Qw1xp1Lzj"
      },
      "source": [
        "<a href=\"#toc\" role=\"button\" aria-pressed=\"true\" >⬆️Back to Table of Contents ⬆️</a>"
      ]
    },
    {
      "cell_type": "markdown",
      "metadata": {
        "id": "zNeV8ErT1Lzj"
      },
      "source": [
        "<a id=\"4.4\"></a>\n",
        "## <span style=\"color:#e76f51;\">  Feature Distribution of Categorical Features </span>"
      ]
    },
    {
      "cell_type": "code",
      "execution_count": null,
      "metadata": {
        "id": "T_AMUFS-1Lzj"
      },
      "outputs": [],
      "source": [
        "if len(cat_features) == 0 :\n",
        "    print(\"No Categorical features\")\n",
        "else:\n",
        "    ncols = 2\n",
        "    nrows = 2\n",
        "\n",
        "    fig, axes = plt.subplots(nrows, ncols, figsize=(18, 10))\n",
        "    for r in range(nrows):\n",
        "        for c in range(ncols):\n",
        "            col = cat_features[r*ncols+c]\n",
        "            sns.countplot(train[col],ax = axes[r,c] ,palette = \"viridis\", label='Train data')\n",
        "            sns.countplot(test[col],ax = axes[r,c] ,palette = \"magma\", label='Test data')\n",
        "            axes[r,c].legend()\n",
        "            axes[r,c].set_ylabel('')\n",
        "            axes[r,c].set_xlabel(col, fontsize=20)\n",
        "            axes[r,c].tick_params(labelsize=10, width=0.5)\n",
        "            axes[r,c].xaxis.offsetText.set_fontsize(4)\n",
        "            axes[r,c].yaxis.offsetText.set_fontsize(4)\n",
        "    plt.show()"
      ]
    },
    {
      "cell_type": "markdown",
      "metadata": {
        "id": "zvr2WZS71Lzj"
      },
      "source": [
        "<a href=\"#toc\" role=\"button\" aria-pressed=\"true\" >⬆️Back to Table of Contents ⬆️</a>"
      ]
    },
    {
      "cell_type": "markdown",
      "metadata": {
        "id": "SBr_Yc1P1Lzj"
      },
      "source": [
        "<a id=\"4.5\"></a>\n",
        "## <span style=\"color:#e76f51;\">  Target Distribution </span>"
      ]
    },
    {
      "cell_type": "markdown",
      "metadata": {
        "id": "EGAcnWeS1Lzj"
      },
      "source": [
        "<div class=\"alert alert-block alert-info\" style=\"font-size:14px; font-family:verdana; line-height: 1.7em;\">\n",
        "    📌 &nbsp;<b><u>Observations in Null Value Distribution :</u></b><br>\n",
        " \n",
        "* <i>There are two target values - <b><u>0</u></b> and <b><u>1</u></b>.</i><br>\n",
        "* <i>Both the target values are almost equally distributed. </i><br>\n",
        "</div>"
      ]
    },
    {
      "cell_type": "code",
      "execution_count": null,
      "metadata": {
        "id": "sTuOxtVd1Lzj"
      },
      "outputs": [],
      "source": [
        "target_df = pd.DataFrame(train[TARGET].value_counts()).reset_index()\n",
        "target_df.columns = [TARGET, 'count']\n",
        "fig = px.bar(data_frame =target_df, \n",
        "             x = TARGET,\n",
        "             y = 'count'\n",
        "            ) \n",
        "fig.update_traces(marker_color =['#58D68D','#DE3163'], \n",
        "                  marker_line_color='rgb(0,0,0)',\n",
        "                  marker_line_width=2,)\n",
        "fig.update_layout(title = \"Target Distribution\",\n",
        "                  template = \"plotly_white\",\n",
        "                  title_x = 0.5)\n",
        "print(\"\\033[94mPercentage of Transported = 0: {:.2f} %\".format(target_df[\"count\"][0] *100 / train.shape[0]))\n",
        "print(\"\\033[94mPercentage of Transported = 1: {:.2f} %\".format(target_df[\"count\"][1]* 100 / train.shape[0]))\n",
        "fig.show()"
      ]
    },
    {
      "cell_type": "markdown",
      "metadata": {
        "id": "7GhXHLPt1Lzk"
      },
      "source": [
        "<a href=\"#toc\" role=\"button\" aria-pressed=\"true\" >⬆️Back to Table of Contents ⬆️</a>"
      ]
    },
    {
      "cell_type": "markdown",
      "metadata": {
        "id": "2lTeB8gO1Lzk"
      },
      "source": [
        "<a id=\"4.6\"></a>\n",
        "## <span style=\"color:#e76f51;\">  Correlation matrix </span>"
      ]
    },
    {
      "cell_type": "code",
      "execution_count": null,
      "metadata": {
        "id": "_PmQ1GT_1Lzk"
      },
      "outputs": [],
      "source": [
        "fig = px.imshow(train.corr() ,text_auto=True, aspect=\"auto\" , color_continuous_scale = \"viridis\")\n",
        "fig.show()"
      ]
    },
    {
      "cell_type": "markdown",
      "metadata": {
        "id": "Fp5wnEGI1Lzk"
      },
      "source": [
        "<a href=\"#toc\" role=\"button\" aria-pressed=\"true\" >⬆️Back to Table of Contents ⬆️</a>"
      ]
    },
    {
      "cell_type": "markdown",
      "metadata": {
        "id": "zIYs0OCJ1Lzk"
      },
      "source": [
        "<a id=\"5\"></a>\n",
        "# **<center><span style=\"color:#00BFC4;\">Data Pre-Processing  </span></center>**"
      ]
    },
    {
      "cell_type": "markdown",
      "metadata": {
        "id": "fTsBXO4-1Lzk"
      },
      "source": [
        "### <span style=\"color:#e76f51;\"> Imputing Missing Values </span>"
      ]
    },
    {
      "cell_type": "code",
      "execution_count": null,
      "metadata": {
        "id": "gdPLayK_1Lzk"
      },
      "outputs": [],
      "source": [
        "imputer_cols = [\"Age\", \"FoodCourt\", \"ShoppingMall\", \"Spa\", \"VRDeck\" ,\"RoomService\"]\n",
        "imputer = SimpleImputer(strategy=STRATEGY )\n",
        "imputer.fit(train[imputer_cols])\n",
        "train[imputer_cols] = imputer.transform(train[imputer_cols])\n",
        "test[imputer_cols] = imputer.transform(test[imputer_cols])\n",
        "train[\"HomePlanet\"].fillna('Z', inplace=True)\n",
        "test[\"HomePlanet\"].fillna('Z', inplace=True)"
      ]
    },
    {
      "cell_type": "markdown",
      "metadata": {
        "id": "BqgQXnTy1Lzk"
      },
      "source": [
        "### <span style=\"color:#e76f51;\">Encoding Categorical Features </span>"
      ]
    },
    {
      "cell_type": "code",
      "execution_count": null,
      "metadata": {
        "id": "okrB7skH1Lzl"
      },
      "outputs": [],
      "source": [
        "label_cols = [\"HomePlanet\", \"CryoSleep\",\"Cabin\", \"Destination\" ,\"VIP\"]\n",
        "def label_encoder(train,test,columns):\n",
        "    for col in columns:\n",
        "        train[col] = train[col].astype(str)\n",
        "        test[col] = test[col].astype(str)\n",
        "        train[col] = LabelEncoder().fit_transform(train[col])\n",
        "        test[col] =  LabelEncoder().fit_transform(test[col])\n",
        "    return train, test\n",
        "\n",
        "train ,test = label_encoder(train,test ,label_cols)"
      ]
    },
    {
      "cell_type": "code",
      "execution_count": null,
      "metadata": {
        "id": "36-zqthQ1Lzl"
      },
      "outputs": [],
      "source": [
        "train.drop([\"Name\" ,\"Cabin\"] , axis = 1 ,inplace = True)\n",
        "test.drop([\"Name\" ,\"Cabin\"] , axis = 1 ,inplace = True)\n",
        "X = train.drop(TARGET , axis =1 )\n",
        "y = train[TARGET]\n",
        "X_train , X_test , y_train , y_test = train_test_split(X , \n",
        "                                                       y, \n",
        "                                                       random_state = 12 ,\n",
        "                                                       test_size =0.33)"
      ]
    },
    {
      "cell_type": "markdown",
      "metadata": {
        "id": "4kDpyuqg1Lzl"
      },
      "source": [
        "<a href=\"#toc\" role=\"button\" aria-pressed=\"true\" >⬆️Back to Table of Contents ⬆️</a>"
      ]
    },
    {
      "cell_type": "markdown",
      "metadata": {
        "id": "6AYPQw_O1Lzl"
      },
      "source": [
        "<a id=\"6\"></a>\n",
        "# **<center><span style=\"color:#00BFC4;\">Modeling </span></center>**"
      ]
    },
    {
      "cell_type": "markdown",
      "metadata": {
        "id": "Gi0UnDCH1Lzl"
      },
      "source": [
        "<a id=\"6.1\"></a>\n",
        "## <span style=\"color:#e76f51;\"> 27 Different Classifiers ( LAZY PREDICT ) : </span>"
      ]
    },
    {
      "cell_type": "code",
      "execution_count": null,
      "metadata": {
        "id": "-7ROCxXk1Lzl"
      },
      "outputs": [],
      "source": [
        "clf = LazyClassifier(verbose=0,\n",
        "                     ignore_warnings=True,\n",
        "                     custom_metric=None,\n",
        "                     predictions=False,\n",
        "                     random_state=12,\n",
        "                     classifiers='all')\n",
        "\n",
        "models, predictions = clf.fit(X_train , X_test , y_train , y_test)\n",
        "clear_output()"
      ]
    },
    {
      "cell_type": "markdown",
      "metadata": {
        "id": "81mXeVFa1Lzl"
      },
      "source": [
        "### <span style=\"color:#e76f51;\">TOP 15 Models </span>"
      ]
    },
    {
      "cell_type": "code",
      "execution_count": null,
      "metadata": {
        "id": "cfZtDrfn1Lzm"
      },
      "outputs": [],
      "source": [
        "models[:15]"
      ]
    },
    {
      "cell_type": "markdown",
      "metadata": {
        "id": "T84zaJb-1Lzm"
      },
      "source": [
        "### <span style=\"color:#e76f51;\">Visualizing Results </span>"
      ]
    },
    {
      "cell_type": "code",
      "execution_count": null,
      "metadata": {
        "id": "-xGSJHnY1Lzm"
      },
      "outputs": [],
      "source": [
        "line = px.line(data_frame= models ,y =[\"Accuracy\"] , markers = True)\n",
        "line.update_xaxes(title=\"Model\",\n",
        "              rangeslider_visible = False)\n",
        "line.update_yaxes(title = \"Accuracy\")\n",
        "line.update_traces(line_color=\"red\")\n",
        "line.update_layout(showlegend = True,\n",
        "    title = {\n",
        "        'text': 'Accuracy vs Model',\n",
        "        'y':0.94,\n",
        "        'x':0.5,\n",
        "        'xanchor': 'center',\n",
        "        'yanchor': 'top'})\n",
        "\n",
        "line.show()"
      ]
    },
    {
      "cell_type": "code",
      "execution_count": null,
      "metadata": {
        "id": "b8Ri5Va41Lzm"
      },
      "outputs": [],
      "source": [
        "line = px.line(data_frame= models ,y =[\"ROC AUC\" , \"F1 Score\"] , markers = True)\n",
        "line.update_xaxes(title=\"Model\",\n",
        "              rangeslider_visible = False)\n",
        "line.update_yaxes(title = \"ROC AUC SCORE\")\n",
        "line.update_layout(showlegend = True,\n",
        "    title = {\n",
        "        'text': 'ROC AUC and F1 Score vs Model',\n",
        "        'y':0.94,\n",
        "        'x':0.5,\n",
        "        'xanchor': 'center',\n",
        "        'yanchor': 'top'})\n",
        "\n",
        "line.show()"
      ]
    },
    {
      "cell_type": "code",
      "execution_count": null,
      "metadata": {
        "id": "B62gdeyG1Lzm"
      },
      "outputs": [],
      "source": [
        "line = px.line(data_frame= models ,y =[\"Time Taken\"] , markers = True)\n",
        "line.update_xaxes(title=\"Model\",\n",
        "              rangeslider_visible = False)\n",
        "line.update_yaxes(title = \"Time(s)\")\n",
        "line.update_traces(line_color=\"purple\")\n",
        "line.update_layout(showlegend = True,\n",
        "    title = {\n",
        "        'text': 'TIME TAKEN vs Model',\n",
        "        'y':0.94,\n",
        "        'x':0.5,\n",
        "        'xanchor': 'center',\n",
        "        'yanchor': 'top'})\n",
        "\n",
        "line.show()"
      ]
    },
    {
      "cell_type": "markdown",
      "metadata": {
        "id": "J-ZD5bNl1Lzm"
      },
      "source": [
        "<a id=\"6.2\"></a>\n",
        "## <span style=\"color:#e76f51;\"> LGBM Classifier(5 FOLDS)  : </span>"
      ]
    },
    {
      "cell_type": "code",
      "execution_count": null,
      "metadata": {
        "id": "9jF5-S_v1Lzm"
      },
      "outputs": [],
      "source": [
        "lgb_params = {\n",
        "    'objective' : 'binary',\n",
        "    'n_estimators' :50,\n",
        "    'learning_rate' : 0.08\n",
        "}\n",
        "\n",
        "lgb_predictions = 0\n",
        "lgb_scores = []\n",
        "lgb_fimp = []\n",
        "LGBM_FEATURES = list(train.columns)[:-1]\n",
        "skf = StratifiedKFold(n_splits=FOLDS, shuffle=True, random_state=RANDOM_STATE)\n",
        "for fold, (train_idx, valid_idx) in enumerate(skf.split(train[LGBM_FEATURES], train[TARGET])):\n",
        "    print(f'\\033[94m')\n",
        "    print(10*\"=\", f\"Fold={fold+1}\", 10*\"=\")\n",
        "    start_time = time.time()\n",
        "    \n",
        "    X_train, X_valid = train.iloc[train_idx][LGBM_FEATURES], train.iloc[valid_idx][LGBM_FEATURES]\n",
        "    y_train , y_valid = train[TARGET].iloc[train_idx] , train[TARGET].iloc[valid_idx]\n",
        "    \n",
        "    model = LGBMClassifier(**lgb_params)\n",
        "    model.fit(X_train, y_train,verbose=0)\n",
        "    \n",
        "    preds_valid = model.predict(X_valid)\n",
        "    acc = accuracy_score(y_valid,  preds_valid)\n",
        "    lgb_scores.append(acc)\n",
        "    run_time = time.time() - start_time\n",
        "    \n",
        "    fim = pd.DataFrame(index=LGBM_FEATURES,\n",
        "                 data=model.feature_importances_,\n",
        "                 columns=[f'{fold}_importance'])\n",
        "    lgb_fimp.append(fim)\n",
        "    \n",
        "    print(f\"Fold={fold+1}, Accuracy score: {acc:.2f}%, Run Time: {run_time:.2f}s\")\n",
        "    test_preds = model.predict(test[LGBM_FEATURES]) \n",
        "    lgb_predictions += test_preds/FOLDS\n",
        "print(\"\")\n",
        "print(\"Mean Accuracy :\", np.mean(lgb_scores))"
      ]
    },
    {
      "cell_type": "markdown",
      "metadata": {
        "id": "NzLql7ib1Lzn"
      },
      "source": [
        "### <span style=\"color:#e76f51;\">Feature Importance </span>"
      ]
    },
    {
      "cell_type": "code",
      "execution_count": null,
      "metadata": {
        "id": "nY3ARo441Lzn"
      },
      "outputs": [],
      "source": [
        "lgbm_fis_df = pd.concat(lgb_fimp, axis=1).head(15)\n",
        "lgbm_fis_df.sort_values('1_importance').plot(kind='barh', figsize=(15, 10),\n",
        "                                       title='Feature Importance Across Folds')\n",
        "plt.show()"
      ]
    },
    {
      "cell_type": "markdown",
      "metadata": {
        "id": "RARHZNXS1Lzn"
      },
      "source": [
        "<a href=\"#toc\" role=\"button\" aria-pressed=\"true\" >⬆️Back to Table of Contents ⬆️</a>"
      ]
    },
    {
      "cell_type": "markdown",
      "metadata": {
        "id": "2JtA1v6A1Lzn"
      },
      "source": [
        "<a id=\"7\"></a>\n",
        "# **<center><span style=\"color:#00BFC4;\">Submission </span></center>**"
      ]
    },
    {
      "cell_type": "markdown",
      "metadata": {
        "id": "O7mvw-rz1Lzn"
      },
      "source": [
        "### <span style=\"color:#e76f51;\">LGBM Classifier Submission : </span>"
      ]
    },
    {
      "cell_type": "code",
      "execution_count": null,
      "metadata": {
        "id": "FbcbxeVB1Lzo"
      },
      "outputs": [],
      "source": [
        "submission[TARGET] = lgb_predictions.astype(\"bool\")\n",
        "submission.to_csv(\"submission.csv\",index=False)\n",
        "submission.head()"
      ]
    },
    {
      "cell_type": "markdown",
      "metadata": {
        "id": "q-OfAtdD1Lzp"
      },
      "source": [
        "<a href=\"#toc\" role=\"button\" aria-pressed=\"true\" >⬆️Back to Table of Contents ⬆️</a>"
      ]
    },
    {
      "cell_type": "markdown",
      "metadata": {
        "id": "gMgl1Xs91Lzp"
      },
      "source": [
        "<div class=\"alert alert-block alert-info\" style=\"font-size:14px; font-family:verdana; line-height: 1.7em;\">\n",
        "    \n",
        "    \n",
        "### <center>Thank you for reading🙂</center>\n",
        "### <center>If you have any feedback or find anything wrong, please let me know!</center>\n"
      ]
    }
  ],
  "metadata": {
    "accelerator": "GPU",
    "colab": {
      "provenance": [],
      "include_colab_link": true
    },
    "gpuClass": "standard",
    "kernelspec": {
      "display_name": "Python 3",
      "language": "python",
      "name": "python3"
    },
    "language_info": {
      "codemirror_mode": {
        "name": "ipython",
        "version": 3
      },
      "file_extension": ".py",
      "mimetype": "text/x-python",
      "name": "python",
      "nbconvert_exporter": "python",
      "pygments_lexer": "ipython3",
      "version": "3.6.4"
    }
  },
  "nbformat": 4,
  "nbformat_minor": 0
}
