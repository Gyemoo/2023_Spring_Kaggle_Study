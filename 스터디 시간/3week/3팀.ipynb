{
  "nbformat": 4,
  "nbformat_minor": 0,
  "metadata": {
    "colab": {
      "provenance": [],
      "authorship_tag": "ABX9TyMaz/WSgtzirVM9scrDYqJO",
      "include_colab_link": true
    },
    "kernelspec": {
      "name": "python3",
      "display_name": "Python 3"
    },
    "language_info": {
      "name": "python"
    }
  },
  "cells": [
    {
      "cell_type": "markdown",
      "metadata": {
        "id": "view-in-github",
        "colab_type": "text"
      },
      "source": [
        "<a href=\"https://colab.research.google.com/github/sejongsmarcle/2023_Spring_Kaggle_Study/blob/main/%EC%8A%A4%ED%84%B0%EB%94%94%20%EC%8B%9C%EA%B0%84/3week/3%ED%8C%80.ipynb\" target=\"_parent\"><img src=\"https://colab.research.google.com/assets/colab-badge.svg\" alt=\"Open In Colab\"/></a>"
      ]
    },
    {
      "cell_type": "code",
      "execution_count": 131,
      "metadata": {
        "id": "Y5jTFwoW-YQF"
      },
      "outputs": [],
      "source": [
        "import pandas as pd\n",
        "import lightgbm as lgbm"
      ]
    },
    {
      "cell_type": "code",
      "source": [
        "train = pd.read_csv('/content/train.csv')\n",
        "test = pd.read_csv('/content/test.csv')\n",
        "submission = pd.read_csv('/content/submission_제출양식.csv')"
      ],
      "metadata": {
        "id": "b3oB41Bm-u8c"
      },
      "execution_count": 132,
      "outputs": []
    },
    {
      "cell_type": "code",
      "source": [
        "from sklearn.ensemble import RandomForestRegressor\n",
        "from sklearn.linear_model import LinearRegression\n",
        "from lightgbm import LGBMRegressor"
      ],
      "metadata": {
        "id": "OtHlcTnF-7k1"
      },
      "execution_count": 133,
      "outputs": []
    },
    {
      "cell_type": "code",
      "source": [
        "train.head()"
      ],
      "metadata": {
        "colab": {
          "base_uri": "https://localhost:8080/",
          "height": 374
        },
        "id": "QzHJ0w1jAHEt",
        "outputId": "2d7f766d-7253-4622-be85-7b5f5c960ec9"
      },
      "execution_count": 134,
      "outputs": [
        {
          "output_type": "execute_result",
          "data": {
            "text/plain": [
              "   id        date   route_id    vh_id route_nm  now_latitude  now_longitude  \\\n",
              "0   0  2019-10-15  405136001  7997025    360-1     33.456267     126.551750   \n",
              "1   1  2019-10-15  405136001  7997025    360-1     33.457724     126.554014   \n",
              "2   2  2019-10-15  405136001  7997025    360-1     33.458783     126.557353   \n",
              "3   3  2019-10-15  405136001  7997025    360-1     33.479705     126.543811   \n",
              "4   4  2019-10-15  405136001  7997025    360-1     33.485662     126.494923   \n",
              "\n",
              "  now_station now_arrive_time  distance     next_station  next_latitude  \\\n",
              "0     제주대학교입구             06시     266.0             제대마을      33.457724   \n",
              "1        제대마을             06시     333.0            제대아파트      33.458783   \n",
              "2       제대아파트             06시     415.0            제주대학교      33.459893   \n",
              "3   남국원(아라방면)             06시     578.0  제주여자중고등학교(아라방면)      33.484860   \n",
              "4         도호동             07시     374.0              은남동      33.485822   \n",
              "\n",
              "   next_longitude  next_arrive_time  \n",
              "0      126.554014                24  \n",
              "1      126.557353                36  \n",
              "2      126.561624                40  \n",
              "3      126.542928                42  \n",
              "4      126.490897                64  "
            ],
            "text/html": [
              "\n",
              "  <div id=\"df-ee5bbe3f-a20c-4b99-8a22-1d02aa5affd8\">\n",
              "    <div class=\"colab-df-container\">\n",
              "      <div>\n",
              "<style scoped>\n",
              "    .dataframe tbody tr th:only-of-type {\n",
              "        vertical-align: middle;\n",
              "    }\n",
              "\n",
              "    .dataframe tbody tr th {\n",
              "        vertical-align: top;\n",
              "    }\n",
              "\n",
              "    .dataframe thead th {\n",
              "        text-align: right;\n",
              "    }\n",
              "</style>\n",
              "<table border=\"1\" class=\"dataframe\">\n",
              "  <thead>\n",
              "    <tr style=\"text-align: right;\">\n",
              "      <th></th>\n",
              "      <th>id</th>\n",
              "      <th>date</th>\n",
              "      <th>route_id</th>\n",
              "      <th>vh_id</th>\n",
              "      <th>route_nm</th>\n",
              "      <th>now_latitude</th>\n",
              "      <th>now_longitude</th>\n",
              "      <th>now_station</th>\n",
              "      <th>now_arrive_time</th>\n",
              "      <th>distance</th>\n",
              "      <th>next_station</th>\n",
              "      <th>next_latitude</th>\n",
              "      <th>next_longitude</th>\n",
              "      <th>next_arrive_time</th>\n",
              "    </tr>\n",
              "  </thead>\n",
              "  <tbody>\n",
              "    <tr>\n",
              "      <th>0</th>\n",
              "      <td>0</td>\n",
              "      <td>2019-10-15</td>\n",
              "      <td>405136001</td>\n",
              "      <td>7997025</td>\n",
              "      <td>360-1</td>\n",
              "      <td>33.456267</td>\n",
              "      <td>126.551750</td>\n",
              "      <td>제주대학교입구</td>\n",
              "      <td>06시</td>\n",
              "      <td>266.0</td>\n",
              "      <td>제대마을</td>\n",
              "      <td>33.457724</td>\n",
              "      <td>126.554014</td>\n",
              "      <td>24</td>\n",
              "    </tr>\n",
              "    <tr>\n",
              "      <th>1</th>\n",
              "      <td>1</td>\n",
              "      <td>2019-10-15</td>\n",
              "      <td>405136001</td>\n",
              "      <td>7997025</td>\n",
              "      <td>360-1</td>\n",
              "      <td>33.457724</td>\n",
              "      <td>126.554014</td>\n",
              "      <td>제대마을</td>\n",
              "      <td>06시</td>\n",
              "      <td>333.0</td>\n",
              "      <td>제대아파트</td>\n",
              "      <td>33.458783</td>\n",
              "      <td>126.557353</td>\n",
              "      <td>36</td>\n",
              "    </tr>\n",
              "    <tr>\n",
              "      <th>2</th>\n",
              "      <td>2</td>\n",
              "      <td>2019-10-15</td>\n",
              "      <td>405136001</td>\n",
              "      <td>7997025</td>\n",
              "      <td>360-1</td>\n",
              "      <td>33.458783</td>\n",
              "      <td>126.557353</td>\n",
              "      <td>제대아파트</td>\n",
              "      <td>06시</td>\n",
              "      <td>415.0</td>\n",
              "      <td>제주대학교</td>\n",
              "      <td>33.459893</td>\n",
              "      <td>126.561624</td>\n",
              "      <td>40</td>\n",
              "    </tr>\n",
              "    <tr>\n",
              "      <th>3</th>\n",
              "      <td>3</td>\n",
              "      <td>2019-10-15</td>\n",
              "      <td>405136001</td>\n",
              "      <td>7997025</td>\n",
              "      <td>360-1</td>\n",
              "      <td>33.479705</td>\n",
              "      <td>126.543811</td>\n",
              "      <td>남국원(아라방면)</td>\n",
              "      <td>06시</td>\n",
              "      <td>578.0</td>\n",
              "      <td>제주여자중고등학교(아라방면)</td>\n",
              "      <td>33.484860</td>\n",
              "      <td>126.542928</td>\n",
              "      <td>42</td>\n",
              "    </tr>\n",
              "    <tr>\n",
              "      <th>4</th>\n",
              "      <td>4</td>\n",
              "      <td>2019-10-15</td>\n",
              "      <td>405136001</td>\n",
              "      <td>7997025</td>\n",
              "      <td>360-1</td>\n",
              "      <td>33.485662</td>\n",
              "      <td>126.494923</td>\n",
              "      <td>도호동</td>\n",
              "      <td>07시</td>\n",
              "      <td>374.0</td>\n",
              "      <td>은남동</td>\n",
              "      <td>33.485822</td>\n",
              "      <td>126.490897</td>\n",
              "      <td>64</td>\n",
              "    </tr>\n",
              "  </tbody>\n",
              "</table>\n",
              "</div>\n",
              "      <button class=\"colab-df-convert\" onclick=\"convertToInteractive('df-ee5bbe3f-a20c-4b99-8a22-1d02aa5affd8')\"\n",
              "              title=\"Convert this dataframe to an interactive table.\"\n",
              "              style=\"display:none;\">\n",
              "        \n",
              "  <svg xmlns=\"http://www.w3.org/2000/svg\" height=\"24px\"viewBox=\"0 0 24 24\"\n",
              "       width=\"24px\">\n",
              "    <path d=\"M0 0h24v24H0V0z\" fill=\"none\"/>\n",
              "    <path d=\"M18.56 5.44l.94 2.06.94-2.06 2.06-.94-2.06-.94-.94-2.06-.94 2.06-2.06.94zm-11 1L8.5 8.5l.94-2.06 2.06-.94-2.06-.94L8.5 2.5l-.94 2.06-2.06.94zm10 10l.94 2.06.94-2.06 2.06-.94-2.06-.94-.94-2.06-.94 2.06-2.06.94z\"/><path d=\"M17.41 7.96l-1.37-1.37c-.4-.4-.92-.59-1.43-.59-.52 0-1.04.2-1.43.59L10.3 9.45l-7.72 7.72c-.78.78-.78 2.05 0 2.83L4 21.41c.39.39.9.59 1.41.59.51 0 1.02-.2 1.41-.59l7.78-7.78 2.81-2.81c.8-.78.8-2.07 0-2.86zM5.41 20L4 18.59l7.72-7.72 1.47 1.35L5.41 20z\"/>\n",
              "  </svg>\n",
              "      </button>\n",
              "      \n",
              "  <style>\n",
              "    .colab-df-container {\n",
              "      display:flex;\n",
              "      flex-wrap:wrap;\n",
              "      gap: 12px;\n",
              "    }\n",
              "\n",
              "    .colab-df-convert {\n",
              "      background-color: #E8F0FE;\n",
              "      border: none;\n",
              "      border-radius: 50%;\n",
              "      cursor: pointer;\n",
              "      display: none;\n",
              "      fill: #1967D2;\n",
              "      height: 32px;\n",
              "      padding: 0 0 0 0;\n",
              "      width: 32px;\n",
              "    }\n",
              "\n",
              "    .colab-df-convert:hover {\n",
              "      background-color: #E2EBFA;\n",
              "      box-shadow: 0px 1px 2px rgba(60, 64, 67, 0.3), 0px 1px 3px 1px rgba(60, 64, 67, 0.15);\n",
              "      fill: #174EA6;\n",
              "    }\n",
              "\n",
              "    [theme=dark] .colab-df-convert {\n",
              "      background-color: #3B4455;\n",
              "      fill: #D2E3FC;\n",
              "    }\n",
              "\n",
              "    [theme=dark] .colab-df-convert:hover {\n",
              "      background-color: #434B5C;\n",
              "      box-shadow: 0px 1px 3px 1px rgba(0, 0, 0, 0.15);\n",
              "      filter: drop-shadow(0px 1px 2px rgba(0, 0, 0, 0.3));\n",
              "      fill: #FFFFFF;\n",
              "    }\n",
              "  </style>\n",
              "\n",
              "      <script>\n",
              "        const buttonEl =\n",
              "          document.querySelector('#df-ee5bbe3f-a20c-4b99-8a22-1d02aa5affd8 button.colab-df-convert');\n",
              "        buttonEl.style.display =\n",
              "          google.colab.kernel.accessAllowed ? 'block' : 'none';\n",
              "\n",
              "        async function convertToInteractive(key) {\n",
              "          const element = document.querySelector('#df-ee5bbe3f-a20c-4b99-8a22-1d02aa5affd8');\n",
              "          const dataTable =\n",
              "            await google.colab.kernel.invokeFunction('convertToInteractive',\n",
              "                                                     [key], {});\n",
              "          if (!dataTable) return;\n",
              "\n",
              "          const docLinkHtml = 'Like what you see? Visit the ' +\n",
              "            '<a target=\"_blank\" href=https://colab.research.google.com/notebooks/data_table.ipynb>data table notebook</a>'\n",
              "            + ' to learn more about interactive tables.';\n",
              "          element.innerHTML = '';\n",
              "          dataTable['output_type'] = 'display_data';\n",
              "          await google.colab.output.renderOutput(dataTable, element);\n",
              "          const docLink = document.createElement('div');\n",
              "          docLink.innerHTML = docLinkHtml;\n",
              "          element.appendChild(docLink);\n",
              "        }\n",
              "      </script>\n",
              "    </div>\n",
              "  </div>\n",
              "  "
            ]
          },
          "metadata": {},
          "execution_count": 134
        }
      ]
    },
    {
      "cell_type": "code",
      "source": [
        "train['now_arrive_time'] = train['now_arrive_time'].str.slice(stop = -1).astype('int')"
      ],
      "metadata": {
        "id": "CoIck1X6AbGQ"
      },
      "execution_count": 135,
      "outputs": []
    },
    {
      "cell_type": "code",
      "source": [
        "test['now_arrive_time'] = test['now_arrive_time'].str.slice(stop = -1).astype('int')"
      ],
      "metadata": {
        "id": "nsHqa2W5FmBC"
      },
      "execution_count": 136,
      "outputs": []
    },
    {
      "cell_type": "code",
      "source": [
        "features = ['now_latitude', 'now_longitude', 'now_arrive_time', 'distance']\n",
        "target = ['next_arrive_time']"
      ],
      "metadata": {
        "id": "27lb7DxRAFLt"
      },
      "execution_count": 137,
      "outputs": []
    },
    {
      "cell_type": "code",
      "source": [
        "X_train = train[features]\n",
        "X_test = test[features]\n",
        "y_train = train[target]"
      ],
      "metadata": {
        "id": "0Wj8n3JrAYpe"
      },
      "execution_count": 138,
      "outputs": []
    },
    {
      "cell_type": "code",
      "source": [
        "model = {\n",
        "    'lr' : LinearRegression(),\n",
        "    'rf' : RandomForestRegressor(n_estimators = 300, random_state = 0),\n",
        "    'lgbm': LGBMRegressor(random_state = 0, max_depth = 20)\n",
        "}"
      ],
      "metadata": {
        "id": "lfUkpSF7_2X6"
      },
      "execution_count": 139,
      "outputs": []
    },
    {
      "cell_type": "code",
      "source": [
        "print(train.shape)\n",
        "print(test.shape)\n",
        "print(submission.shape)"
      ],
      "metadata": {
        "colab": {
          "base_uri": "https://localhost:8080/"
        },
        "id": "bYd2tx3gGPDX",
        "outputId": "ffb03865-2307-49a6-e14d-6930d636d86c"
      },
      "execution_count": 140,
      "outputs": [
        {
          "output_type": "stream",
          "name": "stdout",
          "text": [
            "(210457, 14)\n",
            "(91774, 13)\n",
            "(91774, 2)\n"
          ]
        }
      ]
    },
    {
      "cell_type": "code",
      "source": [
        "jiyool = {}\n",
        "for key in model.keys():\n",
        "    print(\"#### 학습 중 ####\")\n",
        "    model[key].fit(X_train, y_train)\n",
        "    print(\"#### 예측 중 ####\")\n",
        "    jiyool[key] = model[key].predict(X_test)"
      ],
      "metadata": {
        "colab": {
          "base_uri": "https://localhost:8080/"
        },
        "id": "qAUryU62DHOn",
        "outputId": "0688f0b9-dbbc-4deb-b21b-f9b3415923a9"
      },
      "execution_count": 141,
      "outputs": [
        {
          "output_type": "stream",
          "name": "stdout",
          "text": [
            "#### 학습 중 ####\n",
            "#### 예측 중 ####\n"
          ]
        }
      ]
    },
    {
      "cell_type": "code",
      "source": [
        "lr_submit = submission.copy()\n",
        "rf_submit = submission.copy()\n",
        "lgbm_submit = submission.copy()"
      ],
      "metadata": {
        "id": "UPuGPHlyNU3z"
      },
      "execution_count": 142,
      "outputs": []
    },
    {
      "cell_type": "code",
      "source": [
        "lr_submit['next_arrive_time'] = jiyool['lr']\n",
        "rf_submit['next_arrive_time'] = jiyool['rf']\n",
        "lgbm_submit['next_arrive_time'] = jiyool['lgbm']"
      ],
      "metadata": {
        "id": "niB-a4zENlCj"
      },
      "execution_count": 143,
      "outputs": []
    },
    {
      "cell_type": "code",
      "source": [
        "lr_submit.to_csv('lr.csv', index = False)\n",
        "rf_submit.to_csv('rf.csv', index = False)\n",
        "lgbm_submit.to_csv('lgbm.csv', index = False)"
      ],
      "metadata": {
        "id": "6DHnLKh0_0RK"
      },
      "execution_count": 144,
      "outputs": []
    }
  ]
}