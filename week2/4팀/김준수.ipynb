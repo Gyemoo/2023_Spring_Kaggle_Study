{
  "nbformat": 4,
  "nbformat_minor": 0,
  "metadata": {
    "colab": {
      "private_outputs": true,
      "provenance": [],
      "mount_file_id": "1tSutfhLPNQxns4GRHNU1_TPBujRJbtiC",
      "authorship_tag": "ABX9TyMnkt01ljk/I3SVm42ptXPz",
      "include_colab_link": true
    },
    "kernelspec": {
      "name": "python3",
      "display_name": "Python 3"
    },
    "language_info": {
      "name": "python"
    },
    "gpuClass": "standard"
  },
  "cells": [
    {
      "cell_type": "markdown",
      "metadata": {
        "id": "view-in-github",
        "colab_type": "text"
      },
      "source": [
        "<a href=\"https://colab.research.google.com/github/sejongsmarcle/2023_Spring_Kaggle_Study/blob/main/2week_%EB%94%B0%EB%A6%89%EC%9D%B4.ipynb\" target=\"_parent\"><img src=\"https://colab.research.google.com/assets/colab-badge.svg\" alt=\"Open In Colab\"/></a>"
      ]
    },
    {
      "cell_type": "markdown",
      "source": [
        "#라이브러리 및 데이터 불러오기"
      ],
      "metadata": {
        "id": "Iq8-RMfyB74x"
      }
    },
    {
      "cell_type": "code",
      "source": [
        "import pandas as pd"
      ],
      "metadata": {
        "id": "YgOI0aEDCAK5"
      },
      "execution_count": null,
      "outputs": []
    },
    {
      "cell_type": "markdown",
      "source": [
        "# 데이터 불러오기"
      ],
      "metadata": {
        "id": "wCmG_sE7B8CX"
      }
    },
    {
      "cell_type": "code",
      "source": [
        "train = pd.read_csv('/content/sample_data/train.csv')\n",
        "test = pd.read_csv('/content/sample_data/test.csv')\n",
        "submission = pd.read_csv('/content/sample_data/submission.csv')"
      ],
      "metadata": {
        "id": "Iy24cexlDm8l"
      },
      "execution_count": null,
      "outputs": []
    },
    {
      "cell_type": "markdown",
      "source": [
        "#자료 분석 EDA\n",
        "\n",
        "*   데이터 구조와 인덱스 확인\n",
        "*   결측치 값 확인\n",
        "*   데이터들과 결과값의 연관성 확인\n",
        "\n",
        "\n",
        "\n"
      ],
      "metadata": {
        "id": "0uduptWJEYHg"
      }
    },
    {
      "cell_type": "code",
      "source": [
        "train.info() # 데이터타입을 확인 후 non-null값이 큰 차이가 나는지 안나는지를 중점으로 확인\n",
        "# 결측치 값이 존재한다는 것을 확인\n",
        "#precipitation 강수량 비 오면 1 안오면 0\n",
        "#pm 미세먼지"
      ],
      "metadata": {
        "id": "U0ERBQ-QErr5"
      },
      "execution_count": null,
      "outputs": []
    },
    {
      "cell_type": "code",
      "source": [
        "test.info()"
      ],
      "metadata": {
        "id": "IhQylaX3jTwr"
      },
      "execution_count": null,
      "outputs": []
    },
    {
      "cell_type": "code",
      "source": [
        "submission.info()"
      ],
      "metadata": {
        "id": "JyemSQzWKps-"
      },
      "execution_count": null,
      "outputs": []
    },
    {
      "cell_type": "code",
      "source": [
        "print(train.shape) #열과 행의 개수 출력\n",
        "print(test.shape) # count열이 없음\n",
        "print(submission.shape) "
      ],
      "metadata": {
        "id": "4g1T0ZIZLp_F"
      },
      "execution_count": null,
      "outputs": []
    },
    {
      "cell_type": "code",
      "source": [
        "train.describe() # 기술통계량\n",
        "# 분석을 안해봐서 잘 모르겠지만 평균값과 최소 최대값은 도움이 된다."
      ],
      "metadata": {
        "id": "esv9WvUOMwAC"
      },
      "execution_count": null,
      "outputs": []
    },
    {
      "cell_type": "markdown",
      "source": [
        "#시간별 따릉이 이용자 수 확인하기"
      ],
      "metadata": {
        "id": "qZ6vqIfQQXih"
      }
    },
    {
      "cell_type": "code",
      "source": [
        "train[['hour', 'count']].groupby('hour').mean().sort_values(by = ['hour'], ascending = True)\n",
        "#시간에 따른 따릉이 이용자 수를 groupby로 확인해봄.\n",
        "#시간데이터 뿐만 아니라 요일 데이터도 있었으면 어땠을까\n",
        "#.plot() 을 이용하면 시각화 가능\n",
        "#sort_values는 특정 열 지정해서 정렬 해주는 것 \n",
        "#train.groupby('hour').mean()['count'].plot() 이게 더 쉬운 코든데 왜 저렇게 길까 나는..."
      ],
      "metadata": {
        "id": "4E-pvymuL8s3"
      },
      "execution_count": null,
      "outputs": []
    },
    {
      "cell_type": "markdown",
      "source": [
        "#데이터 간 연관성 확인"
      ],
      "metadata": {
        "id": "HO4KoWF6Wj3I"
      }
    },
    {
      "cell_type": "code",
      "source": [
        "import seaborn as sns\n",
        "sns.heatmap(data = train.corr(), annot = True, fmt='.2f', linewidth = 5, cmap = 'Blues')\n",
        "# hour, hour_bef_temperature이 각각 0.63, 0.63 그리고 hour_bef_ozone, hour_bef_windspeed이 각각 0.48, 0.46으로 연관성 높은걸 확인.\n",
        "# 비가 오는 여부도 관련이 크다고 생각했는데 0과 1로 표시해서 그런가 연관성이 떨어진걸로 나오는것 같음.\n",
        "# 상관계수를 보는 것 말고는 다른건 없을까\n",
        "# pd.corr() 상관계수 데이터를 맵으로 보여주는거였다.."
      ],
      "metadata": {
        "id": "8kDCt0E9OS1I"
      },
      "execution_count": null,
      "outputs": []
    },
    {
      "cell_type": "code",
      "source": [
        "pd.crosstab(train['count'], train['hour_bef_precipitation'])\n",
        "#구글링하다가 한번 써봤는데 이해불가.."
      ],
      "metadata": {
        "id": "wm_LsnUclis8"
      },
      "execution_count": null,
      "outputs": []
    },
    {
      "cell_type": "markdown",
      "source": [
        "#데이터 전처리\n"
      ],
      "metadata": {
        "id": "_-kDnB9SWcWN"
      }
    },
    {
      "cell_type": "code",
      "source": [
        "train.isna().sum() # 결측치 값 다수 존재 hour_bef_pm2.5, hour_bef_pm10, hour_bef_ozone 등등\n",
        "#train.isnull().sum() 같은\n",
        "#시간 온도 오존 3개의 데이터로 결정"
      ],
      "metadata": {
        "id": "jB7vHZ0HTC9C"
      },
      "execution_count": null,
      "outputs": []
    },
    {
      "cell_type": "code",
      "source": [
        "train[train['hour_bef_ozone'].isna()].index\n",
        "# 결측치 값이 있는 행을 보여준다.\n",
        "# 뒤에 [해당 열] 을 하면 그 데이터만 확인 가능."
      ],
      "metadata": {
        "id": "DofolWW6VRs6"
      },
      "execution_count": null,
      "outputs": []
    },
    {
      "cell_type": "code",
      "source": [
        "train[train['hour_bef_temperature'].isna()].index"
      ],
      "metadata": {
        "id": "ers_0yiDUs7m"
      },
      "execution_count": null,
      "outputs": []
    },
    {
      "cell_type": "code",
      "source": [
        "train.iloc[[14,   44,   46,   84,  122,  140,  142,  147,  158,  176,  222,\n",
        "             236,  244,  265,  289,  317,  324,  331,  356,  422,  429,  451,\n",
        "             463,  466,  472,  479,  507,  532,  537,  554,  576,  579,  589,\n",
        "             595,  623,  624,  631,  645,  649,  660,  686,  698,  708,  728,\n",
        "             745,  763,  778,  796,  811,  861,  868,  876,  897,  934,  957,\n",
        "             970, 1024, 1035, 1070, 1100, 1120, 1142, 1154, 1156, 1165, 1168,\n",
        "            1186, 1211, 1221, 1273, 1278, 1283, 1322, 1329, 1361, 1391]].sort_values(by = ['hour'], ascending = True)"
      ],
      "metadata": {
        "id": "5Ac3EXm_gg6H"
      },
      "execution_count": null,
      "outputs": []
    },
    {
      "cell_type": "markdown",
      "source": [
        "#결측치에 데이터값을 저장"
      ],
      "metadata": {
        "id": "t1B1gEp4TVAD"
      }
    },
    {
      "cell_type": "code",
      "source": [
        "train[['hour', 'hour_bef_temperature', 'hour_bef_ozone', 'count']].groupby('hour').mean().sort_values(by = ['hour'], ascending = True)"
      ],
      "metadata": {
        "id": "IFtrclxjfdhp"
      },
      "execution_count": null,
      "outputs": []
    },
    {
      "cell_type": "code",
      "source": [
        "train['hour_bef_temperature'].fillna({934:14.788136, 1035:20.926667}, inplace = True) #index 지정해서 결측치 값 채우기"
      ],
      "metadata": {
        "id": "gp64DF9ETAm7"
      },
      "execution_count": null,
      "outputs": []
    },
    {
      "cell_type": "code",
      "source": [
        "train.isna().sum() # 결측치 값 채운거 확인"
      ],
      "metadata": {
        "id": "-H04d-j9hOzw"
      },
      "execution_count": null,
      "outputs": []
    },
    {
      "cell_type": "code",
      "source": [
        "train['hour_bef_ozone'].fillna({44:0.060362,122:0.060579,140:0.025167, 422:0.058508,532:0.036817,\n",
        "                                451:0.060362, 537:0.025300,595:0.030367,\n",
        "                                631:0.057400, 645:0.029317,868:0.060579 ,897:0.045203, \n",
        "                                934:0.033763, 1035:0.05850,1211:0.060579}, inplace = True)\n",
        "# 시간이 1시간일 때 다 결측치라 0일때와 2일때를 더해서 평균치를 집어 넣었다 그전에 다른 결측치 값들은 해당시간에 맞게\n",
        "# 평균값 집어넣었음"
      ],
      "metadata": {
        "id": "hB-hZxBBweqz"
      },
      "execution_count": null,
      "outputs": []
    },
    {
      "cell_type": "code",
      "source": [
        "train['hour_bef_ozone'].fillna(0.0321275, inplace = True) # 한번에 시간이 1일때 결측치 값들 집어넣기"
      ],
      "metadata": {
        "id": "Wsw6033Z3_9p"
      },
      "execution_count": null,
      "outputs": []
    },
    {
      "cell_type": "code",
      "source": [
        "train.isna().sum() #확인"
      ],
      "metadata": {
        "id": "RANOODmc4Gw1"
      },
      "execution_count": null,
      "outputs": []
    },
    {
      "cell_type": "code",
      "source": [
        "test.isna().sum() # 테스트 데이터 확인"
      ],
      "metadata": {
        "id": "hk3Lp8bI4TTg"
      },
      "execution_count": null,
      "outputs": []
    },
    {
      "cell_type": "code",
      "source": [
        "test[['hour', 'hour_bef_temperature', 'hour_bef_ozone']].groupby('hour').mean().sort_values(by = ['hour'], ascending = True)"
      ],
      "metadata": {
        "id": "Z6iBl2ET4xwq"
      },
      "execution_count": null,
      "outputs": []
    },
    {
      "cell_type": "code",
      "source": [
        "test[test['hour_bef_temperature'].isna()]"
      ],
      "metadata": {
        "id": "SKTbnKpK4mDA"
      },
      "execution_count": null,
      "outputs": []
    },
    {
      "cell_type": "code",
      "source": [
        "test['hour_bef_temperature'].fillna(26.110345, inplace=True)"
      ],
      "metadata": {
        "id": "6LPPe7GlK95o"
      },
      "execution_count": null,
      "outputs": []
    },
    {
      "cell_type": "code",
      "source": [
        "test.isna().sum()"
      ],
      "metadata": {
        "id": "EmYxLTXa55G0"
      },
      "execution_count": null,
      "outputs": []
    },
    {
      "cell_type": "code",
      "source": [
        "test[test['hour_bef_ozone'].isna()].sort_values(by = ['hour'], ascending = True)"
      ],
      "metadata": {
        "id": "QaLN9avT58v4"
      },
      "execution_count": null,
      "outputs": []
    },
    {
      "cell_type": "code",
      "source": [
        "test['hour_bef_ozone'].fillna({637:0.049276,658:0.058893,386:0.058893,212:0.065138,653:0.054207},inplace = True)"
      ],
      "metadata": {
        "id": "rcVt__AO6d-l"
      },
      "execution_count": null,
      "outputs": []
    },
    {
      "cell_type": "code",
      "source": [
        "test['hour_bef_ozone'].fillna(0.296665 ,inplace = True)"
      ],
      "metadata": {
        "id": "axMkIoZD66vM"
      },
      "execution_count": null,
      "outputs": []
    },
    {
      "cell_type": "code",
      "source": [
        "test.isna().sum()"
      ],
      "metadata": {
        "id": "JoXyPIke7Hiv"
      },
      "execution_count": null,
      "outputs": []
    },
    {
      "cell_type": "markdown",
      "source": [
        "#모델링"
      ],
      "metadata": {
        "id": "hs_r8kwlFfJ0"
      }
    },
    {
      "cell_type": "code",
      "source": [
        "import lightgbm as lgb"
      ],
      "metadata": {
        "id": "6r5-SsTw7Mlt"
      },
      "execution_count": null,
      "outputs": []
    },
    {
      "cell_type": "code",
      "source": [
        "model = lgb.LGBMRegressor(random_state = 777, n_estimators = 1000)"
      ],
      "metadata": {
        "id": "T2c5whLj7isI"
      },
      "execution_count": null,
      "outputs": []
    },
    {
      "cell_type": "code",
      "source": [
        "features = ['hour', 'hour_bef_temperature', 'hour_bef_ozone']\n",
        "target = ['count']"
      ],
      "metadata": {
        "id": "r2l-yKjc7wPd"
      },
      "execution_count": null,
      "outputs": []
    },
    {
      "cell_type": "code",
      "source": [
        "X_train, X_test, y_train = train[features], test[features], train[target]"
      ],
      "metadata": {
        "id": "zv_ODfk27-_m"
      },
      "execution_count": null,
      "outputs": []
    },
    {
      "cell_type": "markdown",
      "source": [
        "#모델 학습 및 검증하기"
      ],
      "metadata": {
        "id": "eHtTTAav8Jl2"
      }
    },
    {
      "cell_type": "code",
      "source": [
        "model.fit(X_train, y_train)"
      ],
      "metadata": {
        "id": "xcfZpa158Iqf"
      },
      "execution_count": null,
      "outputs": []
    },
    {
      "cell_type": "code",
      "source": [
        "singleLGBM = submission.copy() # 답안지 복사"
      ],
      "metadata": {
        "id": "bO5gDGG_8QF5"
      },
      "execution_count": null,
      "outputs": []
    },
    {
      "cell_type": "code",
      "source": [
        "singleLGBM.head() #?? 정말 이상할듯..."
      ],
      "metadata": {
        "id": "XYO1sNpg8YQ-"
      },
      "execution_count": null,
      "outputs": []
    },
    {
      "cell_type": "code",
      "source": [
        "singleLGBM['count'] = model.predict(X_test) # 예측시작"
      ],
      "metadata": {
        "id": "VFU7GfqK8fjn"
      },
      "execution_count": null,
      "outputs": []
    },
    {
      "cell_type": "code",
      "source": [
        "singleLGBM['count'] #결과 확인"
      ],
      "metadata": {
        "id": "pHBIMoVk8j7P"
      },
      "execution_count": null,
      "outputs": []
    },
    {
      "cell_type": "code",
      "source": [
        "singleLGBM.to_csv('singleLGBM.csv', index = False) # 저장"
      ],
      "metadata": {
        "id": "5wu4N1Nj8qly"
      },
      "execution_count": null,
      "outputs": []
    },
    {
      "cell_type": "markdown",
      "source": [
        "#결과는 1247등 52.2477점~"
      ],
      "metadata": {
        "id": "c3BPeX6q9Lhd"
      }
    }
  ]
}
