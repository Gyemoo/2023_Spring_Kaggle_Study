{
  "nbformat": 4,
  "nbformat_minor": 0,
  "metadata": {
    "colab": {
      "provenance": [],
      "include_colab_link": true
    },
    "kernelspec": {
      "name": "python3",
      "display_name": "Python 3"
    }
  },
  "cells": [
    {
      "cell_type": "markdown",
      "metadata": {
        "id": "view-in-github",
        "colab_type": "text"
      },
      "source": [
        "<a href=\"https://colab.research.google.com/github/sejongsmarcle/2023_Spring_Kaggle_Study/blob/main/%EC%98%81%ED%99%94_%EA%B4%80%EA%B0%9D%EC%88%98_%EC%98%88%EC%B8%A1_%EC%A0%84%EC%9C%A0%EC%A7%84.ipynb\" target=\"_parent\"><img src=\"https://colab.research.google.com/assets/colab-badge.svg\" alt=\"Open In Colab\"/></a>"
      ]
    },
    {
      "cell_type": "code",
      "source": [
        "from google.colab import drive\n",
        "drive.mount('/content/drive')"
      ],
      "metadata": {
        "colab": {
          "base_uri": "https://localhost:8080/"
        },
        "id": "akr4WPLwDj7I",
        "outputId": "356f10f7-814a-4adb-e566-4d49e1af3b79"
      },
      "execution_count": null,
      "outputs": [
        {
          "output_type": "stream",
          "name": "stdout",
          "text": [
            "Mounted at /content/drive\n"
          ]
        }
      ]
    },
    {
      "cell_type": "markdown",
      "metadata": {
        "id": "HXO69Xc02m8C"
      },
      "source": [
        "## 영화 관객 수 데이터를 활용한 데이터 분석"
      ]
    },
    {
      "cell_type": "markdown",
      "metadata": {
        "id": "qqNkDlCW2s5d"
      },
      "source": [
        "감독, 이름, 상영등급, 스태프 수 등의 정보로 영화 관객 수를 예측하는 모델을 만들어 주세요!"
      ]
    },
    {
      "cell_type": "markdown",
      "metadata": {
        "id": "q0cR7t3V2xH6"
      },
      "source": [
        "## 1. 라이브러리 및 데이터\n",
        "## Library & Data"
      ]
    },
    {
      "cell_type": "code",
      "metadata": {
        "id": "pb0OD3v82lnT"
      },
      "source": [
        "import pandas as pd #판다스 패키지 불러오기\n",
        "import lightgbm as lgb  #라이트 비지엠"
      ],
      "execution_count": null,
      "outputs": []
    },
    {
      "cell_type": "code",
      "metadata": {
        "id": "RzzCqQ8i1Vu7"
      },
      "source": [
        "# 데이터 불러오기\n",
        "train = pd.read_csv('/content/drive/MyDrive/SMARCLE/영화/movies_train.csv');\n",
        "test = pd.read_csv('/content/drive/MyDrive/SMARCLE/영화/movies_test.csv');\n",
        "submission = pd.read_csv('/content/drive/MyDrive/SMARCLE/영화/submission.csv');"
      ],
      "execution_count": null,
      "outputs": []
    },
    {
      "cell_type": "markdown",
      "metadata": {
        "id": "jwLtCHGC2lnb"
      },
      "source": [
        "## 2. 탐색적 자료분석\n",
        "## Exploratory Data Analysis (EDA)\n"
      ]
    },
    {
      "cell_type": "markdown",
      "metadata": {
        "id": "2JQmZSvV1VvA"
      },
      "source": [
        "### pd.DataFrame.head()\n",
        " - 데이터 프레임의 위에서 부터 n개 행을 보여주는 함수\n",
        " - n의 기본 값(default 값)은 5"
      ]
    },
    {
      "cell_type": "code",
      "metadata": {
        "id": "JHnbWsINM73F",
        "colab": {
          "base_uri": "https://localhost:8080/",
          "height": 443
        },
        "outputId": "91761f49-e88b-4e07-de86-049aadc03d92"
      },
      "source": [
        "train.head()"
      ],
      "execution_count": null,
      "outputs": [
        {
          "output_type": "execute_result",
          "data": {
            "text/plain": [
              "       title   distributor genre release_time  time screening_rat director  \\\n",
              "0     개들의 전쟁      롯데엔터테인먼트    액션   2012-11-22    96      청소년 관람불가      조병옥   \n",
              "1       내부자들        (주)쇼박스   느와르   2015-11-19   130      청소년 관람불가      우민호   \n",
              "2  은밀하게 위대하게        (주)쇼박스    액션   2013-06-05   123       15세 관람가      장철수   \n",
              "3   나는 공무원이다        (주)NEW   코미디   2012-07-12   101        전체 관람가      구자홍   \n",
              "4       불량남녀  쇼박스(주)미디어플렉스   코미디   2010-11-04   108       15세 관람가      신근호   \n",
              "\n",
              "   dir_prev_bfnum  dir_prev_num  num_staff  num_actor  box_off_num  \n",
              "0             NaN             0         91          2        23398  \n",
              "1      1161602.50             2        387          3      7072501  \n",
              "2       220775.25             4        343          4      6959083  \n",
              "3        23894.00             2         20          6       217866  \n",
              "4            1.00             1        251          2       483387  "
            ],
            "text/html": [
              "\n",
              "  <div id=\"df-acfbd6f1-10c5-4479-bef2-77ac9eefa4a0\">\n",
              "    <div class=\"colab-df-container\">\n",
              "      <div>\n",
              "<style scoped>\n",
              "    .dataframe tbody tr th:only-of-type {\n",
              "        vertical-align: middle;\n",
              "    }\n",
              "\n",
              "    .dataframe tbody tr th {\n",
              "        vertical-align: top;\n",
              "    }\n",
              "\n",
              "    .dataframe thead th {\n",
              "        text-align: right;\n",
              "    }\n",
              "</style>\n",
              "<table border=\"1\" class=\"dataframe\">\n",
              "  <thead>\n",
              "    <tr style=\"text-align: right;\">\n",
              "      <th></th>\n",
              "      <th>title</th>\n",
              "      <th>distributor</th>\n",
              "      <th>genre</th>\n",
              "      <th>release_time</th>\n",
              "      <th>time</th>\n",
              "      <th>screening_rat</th>\n",
              "      <th>director</th>\n",
              "      <th>dir_prev_bfnum</th>\n",
              "      <th>dir_prev_num</th>\n",
              "      <th>num_staff</th>\n",
              "      <th>num_actor</th>\n",
              "      <th>box_off_num</th>\n",
              "    </tr>\n",
              "  </thead>\n",
              "  <tbody>\n",
              "    <tr>\n",
              "      <th>0</th>\n",
              "      <td>개들의 전쟁</td>\n",
              "      <td>롯데엔터테인먼트</td>\n",
              "      <td>액션</td>\n",
              "      <td>2012-11-22</td>\n",
              "      <td>96</td>\n",
              "      <td>청소년 관람불가</td>\n",
              "      <td>조병옥</td>\n",
              "      <td>NaN</td>\n",
              "      <td>0</td>\n",
              "      <td>91</td>\n",
              "      <td>2</td>\n",
              "      <td>23398</td>\n",
              "    </tr>\n",
              "    <tr>\n",
              "      <th>1</th>\n",
              "      <td>내부자들</td>\n",
              "      <td>(주)쇼박스</td>\n",
              "      <td>느와르</td>\n",
              "      <td>2015-11-19</td>\n",
              "      <td>130</td>\n",
              "      <td>청소년 관람불가</td>\n",
              "      <td>우민호</td>\n",
              "      <td>1161602.50</td>\n",
              "      <td>2</td>\n",
              "      <td>387</td>\n",
              "      <td>3</td>\n",
              "      <td>7072501</td>\n",
              "    </tr>\n",
              "    <tr>\n",
              "      <th>2</th>\n",
              "      <td>은밀하게 위대하게</td>\n",
              "      <td>(주)쇼박스</td>\n",
              "      <td>액션</td>\n",
              "      <td>2013-06-05</td>\n",
              "      <td>123</td>\n",
              "      <td>15세 관람가</td>\n",
              "      <td>장철수</td>\n",
              "      <td>220775.25</td>\n",
              "      <td>4</td>\n",
              "      <td>343</td>\n",
              "      <td>4</td>\n",
              "      <td>6959083</td>\n",
              "    </tr>\n",
              "    <tr>\n",
              "      <th>3</th>\n",
              "      <td>나는 공무원이다</td>\n",
              "      <td>(주)NEW</td>\n",
              "      <td>코미디</td>\n",
              "      <td>2012-07-12</td>\n",
              "      <td>101</td>\n",
              "      <td>전체 관람가</td>\n",
              "      <td>구자홍</td>\n",
              "      <td>23894.00</td>\n",
              "      <td>2</td>\n",
              "      <td>20</td>\n",
              "      <td>6</td>\n",
              "      <td>217866</td>\n",
              "    </tr>\n",
              "    <tr>\n",
              "      <th>4</th>\n",
              "      <td>불량남녀</td>\n",
              "      <td>쇼박스(주)미디어플렉스</td>\n",
              "      <td>코미디</td>\n",
              "      <td>2010-11-04</td>\n",
              "      <td>108</td>\n",
              "      <td>15세 관람가</td>\n",
              "      <td>신근호</td>\n",
              "      <td>1.00</td>\n",
              "      <td>1</td>\n",
              "      <td>251</td>\n",
              "      <td>2</td>\n",
              "      <td>483387</td>\n",
              "    </tr>\n",
              "  </tbody>\n",
              "</table>\n",
              "</div>\n",
              "      <button class=\"colab-df-convert\" onclick=\"convertToInteractive('df-acfbd6f1-10c5-4479-bef2-77ac9eefa4a0')\"\n",
              "              title=\"Convert this dataframe to an interactive table.\"\n",
              "              style=\"display:none;\">\n",
              "        \n",
              "  <svg xmlns=\"http://www.w3.org/2000/svg\" height=\"24px\"viewBox=\"0 0 24 24\"\n",
              "       width=\"24px\">\n",
              "    <path d=\"M0 0h24v24H0V0z\" fill=\"none\"/>\n",
              "    <path d=\"M18.56 5.44l.94 2.06.94-2.06 2.06-.94-2.06-.94-.94-2.06-.94 2.06-2.06.94zm-11 1L8.5 8.5l.94-2.06 2.06-.94-2.06-.94L8.5 2.5l-.94 2.06-2.06.94zm10 10l.94 2.06.94-2.06 2.06-.94-2.06-.94-.94-2.06-.94 2.06-2.06.94z\"/><path d=\"M17.41 7.96l-1.37-1.37c-.4-.4-.92-.59-1.43-.59-.52 0-1.04.2-1.43.59L10.3 9.45l-7.72 7.72c-.78.78-.78 2.05 0 2.83L4 21.41c.39.39.9.59 1.41.59.51 0 1.02-.2 1.41-.59l7.78-7.78 2.81-2.81c.8-.78.8-2.07 0-2.86zM5.41 20L4 18.59l7.72-7.72 1.47 1.35L5.41 20z\"/>\n",
              "  </svg>\n",
              "      </button>\n",
              "      \n",
              "  <style>\n",
              "    .colab-df-container {\n",
              "      display:flex;\n",
              "      flex-wrap:wrap;\n",
              "      gap: 12px;\n",
              "    }\n",
              "\n",
              "    .colab-df-convert {\n",
              "      background-color: #E8F0FE;\n",
              "      border: none;\n",
              "      border-radius: 50%;\n",
              "      cursor: pointer;\n",
              "      display: none;\n",
              "      fill: #1967D2;\n",
              "      height: 32px;\n",
              "      padding: 0 0 0 0;\n",
              "      width: 32px;\n",
              "    }\n",
              "\n",
              "    .colab-df-convert:hover {\n",
              "      background-color: #E2EBFA;\n",
              "      box-shadow: 0px 1px 2px rgba(60, 64, 67, 0.3), 0px 1px 3px 1px rgba(60, 64, 67, 0.15);\n",
              "      fill: #174EA6;\n",
              "    }\n",
              "\n",
              "    [theme=dark] .colab-df-convert {\n",
              "      background-color: #3B4455;\n",
              "      fill: #D2E3FC;\n",
              "    }\n",
              "\n",
              "    [theme=dark] .colab-df-convert:hover {\n",
              "      background-color: #434B5C;\n",
              "      box-shadow: 0px 1px 3px 1px rgba(0, 0, 0, 0.15);\n",
              "      filter: drop-shadow(0px 1px 2px rgba(0, 0, 0, 0.3));\n",
              "      fill: #FFFFFF;\n",
              "    }\n",
              "  </style>\n",
              "\n",
              "      <script>\n",
              "        const buttonEl =\n",
              "          document.querySelector('#df-acfbd6f1-10c5-4479-bef2-77ac9eefa4a0 button.colab-df-convert');\n",
              "        buttonEl.style.display =\n",
              "          google.colab.kernel.accessAllowed ? 'block' : 'none';\n",
              "\n",
              "        async function convertToInteractive(key) {\n",
              "          const element = document.querySelector('#df-acfbd6f1-10c5-4479-bef2-77ac9eefa4a0');\n",
              "          const dataTable =\n",
              "            await google.colab.kernel.invokeFunction('convertToInteractive',\n",
              "                                                     [key], {});\n",
              "          if (!dataTable) return;\n",
              "\n",
              "          const docLinkHtml = 'Like what you see? Visit the ' +\n",
              "            '<a target=\"_blank\" href=https://colab.research.google.com/notebooks/data_table.ipynb>data table notebook</a>'\n",
              "            + ' to learn more about interactive tables.';\n",
              "          element.innerHTML = '';\n",
              "          dataTable['output_type'] = 'display_data';\n",
              "          await google.colab.output.renderOutput(dataTable, element);\n",
              "          const docLink = document.createElement('div');\n",
              "          docLink.innerHTML = docLinkHtml;\n",
              "          element.appendChild(docLink);\n",
              "        }\n",
              "      </script>\n",
              "    </div>\n",
              "  </div>\n",
              "  "
            ]
          },
          "metadata": {},
          "execution_count": 4
        }
      ]
    },
    {
      "cell_type": "markdown",
      "metadata": {
        "id": "F41FW4c31VvH"
      },
      "source": [
        "+ title : 영화의 제목\n",
        "+ distributor : 배급사\n",
        "+ genre : 장르\n",
        "+ release_time : 개봉일\n",
        "+ time : 상영시간(분)\n",
        "+ screening_rat : 상영등급\n",
        "+ director : 감독이름\n",
        "+ dir_prev_bfnum : 해당 감독이 이 영화를 만들기 전 제작에 참여한 영화에서의 평균 관객수(단 관객수가 알려지지 않은 영화 제외)\n",
        "+ dir_prev_num : 해당 감독이 이 영화를 만들기 전 제작에 참여한 영화의 개수(단 관객수가 알려지지 않은 영화 제외)\n",
        "+ num_staff : 스텝수\n",
        "+ num_actor : 주연배우수\n",
        "+ box_off_num : 관객수"
      ]
    },
    {
      "cell_type": "code",
      "metadata": {
        "id": "soFvOanKM-r6",
        "colab": {
          "base_uri": "https://localhost:8080/",
          "height": 426
        },
        "outputId": "1e7189d8-8201-45cd-e4f0-9f834d61732c"
      },
      "source": [
        "test.head()"
      ],
      "execution_count": null,
      "outputs": [
        {
          "output_type": "execute_result",
          "data": {
            "text/plain": [
              "         title distributor   genre release_time  time screening_rat director  \\\n",
              "0       용서는 없다      시네마서비스     느와르   2010-01-07   125      청소년 관람불가      김형준   \n",
              "1  아빠가 여자를 좋아해      (주)쇼박스  멜로/로맨스   2010-01-14   113       12세 관람가      이광재   \n",
              "2          하모니   CJ 엔터테인먼트     드라마   2010-01-28   115       12세 관람가      강대규   \n",
              "3          의형제      (주)쇼박스      액션   2010-02-04   116       15세 관람가       장훈   \n",
              "4        평행 이론   CJ 엔터테인먼트      공포   2010-02-18   110       15세 관람가      권호영   \n",
              "\n",
              "   dir_prev_bfnum  dir_prev_num  num_staff  num_actor  \n",
              "0    3.005290e+05             2        304          3  \n",
              "1    3.427002e+05             4        275          3  \n",
              "2    4.206611e+06             3        419          7  \n",
              "3    6.913420e+05             2        408          2  \n",
              "4    3.173800e+04             1        380          1  "
            ],
            "text/html": [
              "\n",
              "  <div id=\"df-ad76ab97-6338-4c52-bb99-92f29c182e37\">\n",
              "    <div class=\"colab-df-container\">\n",
              "      <div>\n",
              "<style scoped>\n",
              "    .dataframe tbody tr th:only-of-type {\n",
              "        vertical-align: middle;\n",
              "    }\n",
              "\n",
              "    .dataframe tbody tr th {\n",
              "        vertical-align: top;\n",
              "    }\n",
              "\n",
              "    .dataframe thead th {\n",
              "        text-align: right;\n",
              "    }\n",
              "</style>\n",
              "<table border=\"1\" class=\"dataframe\">\n",
              "  <thead>\n",
              "    <tr style=\"text-align: right;\">\n",
              "      <th></th>\n",
              "      <th>title</th>\n",
              "      <th>distributor</th>\n",
              "      <th>genre</th>\n",
              "      <th>release_time</th>\n",
              "      <th>time</th>\n",
              "      <th>screening_rat</th>\n",
              "      <th>director</th>\n",
              "      <th>dir_prev_bfnum</th>\n",
              "      <th>dir_prev_num</th>\n",
              "      <th>num_staff</th>\n",
              "      <th>num_actor</th>\n",
              "    </tr>\n",
              "  </thead>\n",
              "  <tbody>\n",
              "    <tr>\n",
              "      <th>0</th>\n",
              "      <td>용서는 없다</td>\n",
              "      <td>시네마서비스</td>\n",
              "      <td>느와르</td>\n",
              "      <td>2010-01-07</td>\n",
              "      <td>125</td>\n",
              "      <td>청소년 관람불가</td>\n",
              "      <td>김형준</td>\n",
              "      <td>3.005290e+05</td>\n",
              "      <td>2</td>\n",
              "      <td>304</td>\n",
              "      <td>3</td>\n",
              "    </tr>\n",
              "    <tr>\n",
              "      <th>1</th>\n",
              "      <td>아빠가 여자를 좋아해</td>\n",
              "      <td>(주)쇼박스</td>\n",
              "      <td>멜로/로맨스</td>\n",
              "      <td>2010-01-14</td>\n",
              "      <td>113</td>\n",
              "      <td>12세 관람가</td>\n",
              "      <td>이광재</td>\n",
              "      <td>3.427002e+05</td>\n",
              "      <td>4</td>\n",
              "      <td>275</td>\n",
              "      <td>3</td>\n",
              "    </tr>\n",
              "    <tr>\n",
              "      <th>2</th>\n",
              "      <td>하모니</td>\n",
              "      <td>CJ 엔터테인먼트</td>\n",
              "      <td>드라마</td>\n",
              "      <td>2010-01-28</td>\n",
              "      <td>115</td>\n",
              "      <td>12세 관람가</td>\n",
              "      <td>강대규</td>\n",
              "      <td>4.206611e+06</td>\n",
              "      <td>3</td>\n",
              "      <td>419</td>\n",
              "      <td>7</td>\n",
              "    </tr>\n",
              "    <tr>\n",
              "      <th>3</th>\n",
              "      <td>의형제</td>\n",
              "      <td>(주)쇼박스</td>\n",
              "      <td>액션</td>\n",
              "      <td>2010-02-04</td>\n",
              "      <td>116</td>\n",
              "      <td>15세 관람가</td>\n",
              "      <td>장훈</td>\n",
              "      <td>6.913420e+05</td>\n",
              "      <td>2</td>\n",
              "      <td>408</td>\n",
              "      <td>2</td>\n",
              "    </tr>\n",
              "    <tr>\n",
              "      <th>4</th>\n",
              "      <td>평행 이론</td>\n",
              "      <td>CJ 엔터테인먼트</td>\n",
              "      <td>공포</td>\n",
              "      <td>2010-02-18</td>\n",
              "      <td>110</td>\n",
              "      <td>15세 관람가</td>\n",
              "      <td>권호영</td>\n",
              "      <td>3.173800e+04</td>\n",
              "      <td>1</td>\n",
              "      <td>380</td>\n",
              "      <td>1</td>\n",
              "    </tr>\n",
              "  </tbody>\n",
              "</table>\n",
              "</div>\n",
              "      <button class=\"colab-df-convert\" onclick=\"convertToInteractive('df-ad76ab97-6338-4c52-bb99-92f29c182e37')\"\n",
              "              title=\"Convert this dataframe to an interactive table.\"\n",
              "              style=\"display:none;\">\n",
              "        \n",
              "  <svg xmlns=\"http://www.w3.org/2000/svg\" height=\"24px\"viewBox=\"0 0 24 24\"\n",
              "       width=\"24px\">\n",
              "    <path d=\"M0 0h24v24H0V0z\" fill=\"none\"/>\n",
              "    <path d=\"M18.56 5.44l.94 2.06.94-2.06 2.06-.94-2.06-.94-.94-2.06-.94 2.06-2.06.94zm-11 1L8.5 8.5l.94-2.06 2.06-.94-2.06-.94L8.5 2.5l-.94 2.06-2.06.94zm10 10l.94 2.06.94-2.06 2.06-.94-2.06-.94-.94-2.06-.94 2.06-2.06.94z\"/><path d=\"M17.41 7.96l-1.37-1.37c-.4-.4-.92-.59-1.43-.59-.52 0-1.04.2-1.43.59L10.3 9.45l-7.72 7.72c-.78.78-.78 2.05 0 2.83L4 21.41c.39.39.9.59 1.41.59.51 0 1.02-.2 1.41-.59l7.78-7.78 2.81-2.81c.8-.78.8-2.07 0-2.86zM5.41 20L4 18.59l7.72-7.72 1.47 1.35L5.41 20z\"/>\n",
              "  </svg>\n",
              "      </button>\n",
              "      \n",
              "  <style>\n",
              "    .colab-df-container {\n",
              "      display:flex;\n",
              "      flex-wrap:wrap;\n",
              "      gap: 12px;\n",
              "    }\n",
              "\n",
              "    .colab-df-convert {\n",
              "      background-color: #E8F0FE;\n",
              "      border: none;\n",
              "      border-radius: 50%;\n",
              "      cursor: pointer;\n",
              "      display: none;\n",
              "      fill: #1967D2;\n",
              "      height: 32px;\n",
              "      padding: 0 0 0 0;\n",
              "      width: 32px;\n",
              "    }\n",
              "\n",
              "    .colab-df-convert:hover {\n",
              "      background-color: #E2EBFA;\n",
              "      box-shadow: 0px 1px 2px rgba(60, 64, 67, 0.3), 0px 1px 3px 1px rgba(60, 64, 67, 0.15);\n",
              "      fill: #174EA6;\n",
              "    }\n",
              "\n",
              "    [theme=dark] .colab-df-convert {\n",
              "      background-color: #3B4455;\n",
              "      fill: #D2E3FC;\n",
              "    }\n",
              "\n",
              "    [theme=dark] .colab-df-convert:hover {\n",
              "      background-color: #434B5C;\n",
              "      box-shadow: 0px 1px 3px 1px rgba(0, 0, 0, 0.15);\n",
              "      filter: drop-shadow(0px 1px 2px rgba(0, 0, 0, 0.3));\n",
              "      fill: #FFFFFF;\n",
              "    }\n",
              "  </style>\n",
              "\n",
              "      <script>\n",
              "        const buttonEl =\n",
              "          document.querySelector('#df-ad76ab97-6338-4c52-bb99-92f29c182e37 button.colab-df-convert');\n",
              "        buttonEl.style.display =\n",
              "          google.colab.kernel.accessAllowed ? 'block' : 'none';\n",
              "\n",
              "        async function convertToInteractive(key) {\n",
              "          const element = document.querySelector('#df-ad76ab97-6338-4c52-bb99-92f29c182e37');\n",
              "          const dataTable =\n",
              "            await google.colab.kernel.invokeFunction('convertToInteractive',\n",
              "                                                     [key], {});\n",
              "          if (!dataTable) return;\n",
              "\n",
              "          const docLinkHtml = 'Like what you see? Visit the ' +\n",
              "            '<a target=\"_blank\" href=https://colab.research.google.com/notebooks/data_table.ipynb>data table notebook</a>'\n",
              "            + ' to learn more about interactive tables.';\n",
              "          element.innerHTML = '';\n",
              "          dataTable['output_type'] = 'display_data';\n",
              "          await google.colab.output.renderOutput(dataTable, element);\n",
              "          const docLink = document.createElement('div');\n",
              "          docLink.innerHTML = docLinkHtml;\n",
              "          element.appendChild(docLink);\n",
              "        }\n",
              "      </script>\n",
              "    </div>\n",
              "  </div>\n",
              "  "
            ]
          },
          "metadata": {},
          "execution_count": 5
        }
      ]
    },
    {
      "cell_type": "code",
      "metadata": {
        "id": "XGXcZLgkPpuQ",
        "colab": {
          "base_uri": "https://localhost:8080/",
          "height": 206
        },
        "outputId": "c35c0af3-70c6-44a1-a80e-c465cc358d61"
      },
      "source": [
        "submission.head()"
      ],
      "execution_count": null,
      "outputs": [
        {
          "output_type": "execute_result",
          "data": {
            "text/plain": [
              "         title  box_off_num\n",
              "0       용서는 없다            0\n",
              "1  아빠가 여자를 좋아해            0\n",
              "2          하모니            0\n",
              "3          의형제            0\n",
              "4        평행 이론            0"
            ],
            "text/html": [
              "\n",
              "  <div id=\"df-68b43cfe-8ce5-4f7b-817f-c5189996a703\">\n",
              "    <div class=\"colab-df-container\">\n",
              "      <div>\n",
              "<style scoped>\n",
              "    .dataframe tbody tr th:only-of-type {\n",
              "        vertical-align: middle;\n",
              "    }\n",
              "\n",
              "    .dataframe tbody tr th {\n",
              "        vertical-align: top;\n",
              "    }\n",
              "\n",
              "    .dataframe thead th {\n",
              "        text-align: right;\n",
              "    }\n",
              "</style>\n",
              "<table border=\"1\" class=\"dataframe\">\n",
              "  <thead>\n",
              "    <tr style=\"text-align: right;\">\n",
              "      <th></th>\n",
              "      <th>title</th>\n",
              "      <th>box_off_num</th>\n",
              "    </tr>\n",
              "  </thead>\n",
              "  <tbody>\n",
              "    <tr>\n",
              "      <th>0</th>\n",
              "      <td>용서는 없다</td>\n",
              "      <td>0</td>\n",
              "    </tr>\n",
              "    <tr>\n",
              "      <th>1</th>\n",
              "      <td>아빠가 여자를 좋아해</td>\n",
              "      <td>0</td>\n",
              "    </tr>\n",
              "    <tr>\n",
              "      <th>2</th>\n",
              "      <td>하모니</td>\n",
              "      <td>0</td>\n",
              "    </tr>\n",
              "    <tr>\n",
              "      <th>3</th>\n",
              "      <td>의형제</td>\n",
              "      <td>0</td>\n",
              "    </tr>\n",
              "    <tr>\n",
              "      <th>4</th>\n",
              "      <td>평행 이론</td>\n",
              "      <td>0</td>\n",
              "    </tr>\n",
              "  </tbody>\n",
              "</table>\n",
              "</div>\n",
              "      <button class=\"colab-df-convert\" onclick=\"convertToInteractive('df-68b43cfe-8ce5-4f7b-817f-c5189996a703')\"\n",
              "              title=\"Convert this dataframe to an interactive table.\"\n",
              "              style=\"display:none;\">\n",
              "        \n",
              "  <svg xmlns=\"http://www.w3.org/2000/svg\" height=\"24px\"viewBox=\"0 0 24 24\"\n",
              "       width=\"24px\">\n",
              "    <path d=\"M0 0h24v24H0V0z\" fill=\"none\"/>\n",
              "    <path d=\"M18.56 5.44l.94 2.06.94-2.06 2.06-.94-2.06-.94-.94-2.06-.94 2.06-2.06.94zm-11 1L8.5 8.5l.94-2.06 2.06-.94-2.06-.94L8.5 2.5l-.94 2.06-2.06.94zm10 10l.94 2.06.94-2.06 2.06-.94-2.06-.94-.94-2.06-.94 2.06-2.06.94z\"/><path d=\"M17.41 7.96l-1.37-1.37c-.4-.4-.92-.59-1.43-.59-.52 0-1.04.2-1.43.59L10.3 9.45l-7.72 7.72c-.78.78-.78 2.05 0 2.83L4 21.41c.39.39.9.59 1.41.59.51 0 1.02-.2 1.41-.59l7.78-7.78 2.81-2.81c.8-.78.8-2.07 0-2.86zM5.41 20L4 18.59l7.72-7.72 1.47 1.35L5.41 20z\"/>\n",
              "  </svg>\n",
              "      </button>\n",
              "      \n",
              "  <style>\n",
              "    .colab-df-container {\n",
              "      display:flex;\n",
              "      flex-wrap:wrap;\n",
              "      gap: 12px;\n",
              "    }\n",
              "\n",
              "    .colab-df-convert {\n",
              "      background-color: #E8F0FE;\n",
              "      border: none;\n",
              "      border-radius: 50%;\n",
              "      cursor: pointer;\n",
              "      display: none;\n",
              "      fill: #1967D2;\n",
              "      height: 32px;\n",
              "      padding: 0 0 0 0;\n",
              "      width: 32px;\n",
              "    }\n",
              "\n",
              "    .colab-df-convert:hover {\n",
              "      background-color: #E2EBFA;\n",
              "      box-shadow: 0px 1px 2px rgba(60, 64, 67, 0.3), 0px 1px 3px 1px rgba(60, 64, 67, 0.15);\n",
              "      fill: #174EA6;\n",
              "    }\n",
              "\n",
              "    [theme=dark] .colab-df-convert {\n",
              "      background-color: #3B4455;\n",
              "      fill: #D2E3FC;\n",
              "    }\n",
              "\n",
              "    [theme=dark] .colab-df-convert:hover {\n",
              "      background-color: #434B5C;\n",
              "      box-shadow: 0px 1px 3px 1px rgba(0, 0, 0, 0.15);\n",
              "      filter: drop-shadow(0px 1px 2px rgba(0, 0, 0, 0.3));\n",
              "      fill: #FFFFFF;\n",
              "    }\n",
              "  </style>\n",
              "\n",
              "      <script>\n",
              "        const buttonEl =\n",
              "          document.querySelector('#df-68b43cfe-8ce5-4f7b-817f-c5189996a703 button.colab-df-convert');\n",
              "        buttonEl.style.display =\n",
              "          google.colab.kernel.accessAllowed ? 'block' : 'none';\n",
              "\n",
              "        async function convertToInteractive(key) {\n",
              "          const element = document.querySelector('#df-68b43cfe-8ce5-4f7b-817f-c5189996a703');\n",
              "          const dataTable =\n",
              "            await google.colab.kernel.invokeFunction('convertToInteractive',\n",
              "                                                     [key], {});\n",
              "          if (!dataTable) return;\n",
              "\n",
              "          const docLinkHtml = 'Like what you see? Visit the ' +\n",
              "            '<a target=\"_blank\" href=https://colab.research.google.com/notebooks/data_table.ipynb>data table notebook</a>'\n",
              "            + ' to learn more about interactive tables.';\n",
              "          element.innerHTML = '';\n",
              "          dataTable['output_type'] = 'display_data';\n",
              "          await google.colab.output.renderOutput(dataTable, element);\n",
              "          const docLink = document.createElement('div');\n",
              "          docLink.innerHTML = docLinkHtml;\n",
              "          element.appendChild(docLink);\n",
              "        }\n",
              "      </script>\n",
              "    </div>\n",
              "  </div>\n",
              "  "
            ]
          },
          "metadata": {},
          "execution_count": 6
        }
      ]
    },
    {
      "cell_type": "markdown",
      "metadata": {
        "id": "LRE6tX7k1VvP"
      },
      "source": [
        "### pd.DataFrame.tail()\n",
        " - 데이터 프레임의 아래에서 부터 n개 행을 보여주는 함수\n",
        " - n의 기본 값(default 값)은 5"
      ]
    },
    {
      "cell_type": "code",
      "metadata": {
        "id": "kln4vTqZM_zr",
        "colab": {
          "base_uri": "https://localhost:8080/"
        },
        "outputId": "a77477e8-d5c4-4c25-9fee-938320e9bf16"
      },
      "source": [
        "print(train.tail())"
      ],
      "execution_count": null,
      "outputs": [
        {
          "output_type": "stream",
          "name": "stdout",
          "text": [
            "      title distributor genre release_time  time screening_rat director  \\\n",
            "595      해무      (주)NEW   드라마   2014-08-13   111      청소년 관람불가      심성보   \n",
            "596    파파로티      (주)쇼박스   드라마   2013-03-14   127       15세 관람가      윤종찬   \n",
            "597   살인의 강   (주)마운틴픽쳐스    공포   2010-09-30    99      청소년 관람불가      김대현   \n",
            "598  악의 연대기   CJ 엔터테인먼트   느와르   2015-05-14   102       15세 관람가      백운학   \n",
            "599     베를린   CJ 엔터테인먼트    액션   2013-01-30   120       15세 관람가      류승완   \n",
            "\n",
            "     dir_prev_bfnum  dir_prev_num  num_staff  num_actor  box_off_num  \n",
            "595          3833.0             1        510          7      1475091  \n",
            "596        496061.0             1        286          6      1716438  \n",
            "597             NaN             0        123          4         2475  \n",
            "598             NaN             0        431          4      2192525  \n",
            "599             NaN             0        363          5      7166532  \n"
          ]
        }
      ]
    },
    {
      "cell_type": "code",
      "source": [
        "print(test.tail())"
      ],
      "metadata": {
        "colab": {
          "base_uri": "https://localhost:8080/"
        },
        "id": "ZCpc8o0Mc3sx",
        "outputId": "156c6178-eace-4d1e-ce59-87de44157d03"
      },
      "execution_count": null,
      "outputs": [
        {
          "output_type": "stream",
          "name": "stdout",
          "text": [
            "               title  distributor   genre release_time  time screening_rat  \\\n",
            "238        해에게서 소년에게          디씨드     드라마   2015-11-19    78       15세 관람가   \n",
            "239           울보 권투부        인디스토리   다큐멘터리   2015-10-29    86       12세 관람가   \n",
            "240             어떤살인   (주)컨텐츠온미디어     느와르   2015-10-28   107      청소년 관람불가   \n",
            "241        말하지 못한 비밀  (주)씨타마운틴픽쳐스     드라마   2015-10-22   102      청소년 관람불가   \n",
            "242  조선안방 스캔들-칠거지악 2    (주) 케이알씨지  멜로/로맨스   2015-10-22    76      청소년 관람불가   \n",
            "\n",
            "    director  dir_prev_bfnum  dir_prev_num  num_staff  num_actor  \n",
            "238      안슬기          2590.0             1          4          4  \n",
            "239      이일하             NaN             0         18          2  \n",
            "240      안용훈             NaN             0        224          4  \n",
            "241      송동윤         50699.0             1         68          7  \n",
            "242       이전             NaN             0         10          4  \n"
          ]
        }
      ]
    },
    {
      "cell_type": "code",
      "source": [
        "print(submission.tail())"
      ],
      "metadata": {
        "colab": {
          "base_uri": "https://localhost:8080/"
        },
        "id": "IKD55su9c7dZ",
        "outputId": "ccfd48d5-4058-43df-c439-42cdfed3d485"
      },
      "execution_count": null,
      "outputs": [
        {
          "output_type": "stream",
          "name": "stdout",
          "text": [
            "               title  box_off_num\n",
            "238        해에게서 소년에게            0\n",
            "239           울보 권투부            0\n",
            "240             어떤살인            0\n",
            "241        말하지 못한 비밀            0\n",
            "242  조선안방 스캔들-칠거지악 2            0\n"
          ]
        }
      ]
    },
    {
      "cell_type": "markdown",
      "metadata": {
        "id": "GjzgUE5Q1VvV"
      },
      "source": [
        "### pd.DataFrame.shape\n",
        " - 데이터 프레임의 행의 개수와 열의 개수가 저장되어 있는 속성(attribute)"
      ]
    },
    {
      "cell_type": "code",
      "metadata": {
        "id": "VkMTk4b61VvW",
        "colab": {
          "base_uri": "https://localhost:8080/"
        },
        "outputId": "c3f8ced8-fb9f-41be-fc05-61c8cf17f342"
      },
      "source": [
        "print(train.shape)\n",
        "print(test.shape)\n",
        "print(submission.shape)"
      ],
      "execution_count": null,
      "outputs": [
        {
          "output_type": "stream",
          "name": "stdout",
          "text": [
            "(600, 12)\n",
            "(243, 11)\n",
            "(243, 2)\n"
          ]
        }
      ]
    },
    {
      "cell_type": "markdown",
      "metadata": {
        "id": "tMIOo3ON1Vva"
      },
      "source": [
        "### pd.DataFrame.info()\n",
        "- 데이터셋의 column별 정보를 알려주는 함수\n",
        "- 비어 있지 않은 값은 (non-null)은 몇개인지?\n",
        "- column의 type은 무엇인지?\n",
        " - type의 종류 : int(정수), float(실수), object(문자열), 등등 (date, ...)"
      ]
    },
    {
      "cell_type": "code",
      "metadata": {
        "id": "sEp0YkCP1Vvb",
        "colab": {
          "base_uri": "https://localhost:8080/"
        },
        "outputId": "43551ffc-9101-4098-97af-bd1fd358677a"
      },
      "source": [
        "train.info()"
      ],
      "execution_count": null,
      "outputs": [
        {
          "output_type": "stream",
          "name": "stdout",
          "text": [
            "<class 'pandas.core.frame.DataFrame'>\n",
            "RangeIndex: 600 entries, 0 to 599\n",
            "Data columns (total 12 columns):\n",
            " #   Column          Non-Null Count  Dtype  \n",
            "---  ------          --------------  -----  \n",
            " 0   title           600 non-null    object \n",
            " 1   distributor     600 non-null    object \n",
            " 2   genre           600 non-null    object \n",
            " 3   release_time    600 non-null    object \n",
            " 4   time            600 non-null    int64  \n",
            " 5   screening_rat   600 non-null    object \n",
            " 6   director        600 non-null    object \n",
            " 7   dir_prev_bfnum  270 non-null    float64\n",
            " 8   dir_prev_num    600 non-null    int64  \n",
            " 9   num_staff       600 non-null    int64  \n",
            " 10  num_actor       600 non-null    int64  \n",
            " 11  box_off_num     600 non-null    int64  \n",
            "dtypes: float64(1), int64(5), object(6)\n",
            "memory usage: 56.4+ KB\n"
          ]
        }
      ]
    },
    {
      "cell_type": "code",
      "metadata": {
        "id": "p78KV6tHQVAT",
        "colab": {
          "base_uri": "https://localhost:8080/"
        },
        "outputId": "955d9584-5d02-45cc-8a81-614871b7fe70"
      },
      "source": [
        "test.info()"
      ],
      "execution_count": null,
      "outputs": [
        {
          "output_type": "stream",
          "name": "stdout",
          "text": [
            "<class 'pandas.core.frame.DataFrame'>\n",
            "RangeIndex: 243 entries, 0 to 242\n",
            "Data columns (total 11 columns):\n",
            " #   Column          Non-Null Count  Dtype  \n",
            "---  ------          --------------  -----  \n",
            " 0   title           243 non-null    object \n",
            " 1   distributor     243 non-null    object \n",
            " 2   genre           243 non-null    object \n",
            " 3   release_time    243 non-null    object \n",
            " 4   time            243 non-null    int64  \n",
            " 5   screening_rat   243 non-null    object \n",
            " 6   director        243 non-null    object \n",
            " 7   dir_prev_bfnum  107 non-null    float64\n",
            " 8   dir_prev_num    243 non-null    int64  \n",
            " 9   num_staff       243 non-null    int64  \n",
            " 10  num_actor       243 non-null    int64  \n",
            "dtypes: float64(1), int64(4), object(6)\n",
            "memory usage: 21.0+ KB\n"
          ]
        }
      ]
    },
    {
      "cell_type": "code",
      "source": [
        "submission.info()"
      ],
      "metadata": {
        "colab": {
          "base_uri": "https://localhost:8080/"
        },
        "id": "VXGuItdEdrSh",
        "outputId": "aa840e52-a5e6-403f-fb82-705931d1a42e"
      },
      "execution_count": null,
      "outputs": [
        {
          "output_type": "stream",
          "name": "stdout",
          "text": [
            "<class 'pandas.core.frame.DataFrame'>\n",
            "RangeIndex: 243 entries, 0 to 242\n",
            "Data columns (total 2 columns):\n",
            " #   Column       Non-Null Count  Dtype \n",
            "---  ------       --------------  ----- \n",
            " 0   title        243 non-null    object\n",
            " 1   box_off_num  243 non-null    int64 \n",
            "dtypes: int64(1), object(1)\n",
            "memory usage: 3.9+ KB\n"
          ]
        }
      ]
    },
    {
      "cell_type": "markdown",
      "metadata": {
        "id": "GFcwJdfj1Vve"
      },
      "source": [
        "### pd.DataFrame.describe()\n",
        "- 숫자형 (int, float) column들의 기술 통계량을 보여주는 함수\n",
        "\n",
        "- 기술통계량이란?\n",
        " - 해당 column을 대표할 수 있는 통계값들을 의미\n",
        " \n",
        " \n",
        "- 기술통계량 종류\n",
        " - count: 해당 column에서 비어 있지 않은 값의 개수\n",
        " - mean: 평균\n",
        " - std: 표준편차\n",
        " - min: 최솟값 (이상치 포함)\n",
        " - 25% (Q1): 전체 데이터를 순서대로 정렬했을 때, 아래에서 부터 1/4번째 지점에 있는 값\n",
        " - 50% (Q2): 중앙값 (전체 데이터를 순서대로 정렬했을 때, 아래에서 부터 2/4번째 지점에 있는 값)\n",
        " - 75% (Q3): 전체 데이터를 순서대로 정렬했을 때, 아래에서 부터 3/4번째 지점에 있는 값\n",
        " - max: 최댓값 (이상치 포함) \n",
        " \n",
        " \n",
        " \n",
        "- 이상치: 울타리 밖에 있는 부분을 이상치라고 정의함\n",
        "   - 아래쪽 울타리: $Q_1$ - $1.5 * IQR$\n",
        "   - 위쪽 울타리: $Q_3$ + $1.5 * IQR$\n",
        "   - $IQR$ = $Q_3 - Q_1$\n",
        " \n",
        " \n",
        "<img src=\"https://miro.medium.com/max/10125/1*NRlqiZGQdsIyAu0KzP7LaQ.png\" width=\"700\" height=\"500\">"
      ]
    },
    {
      "cell_type": "code",
      "metadata": {
        "id": "QmTGqyRy1Vvi"
      },
      "source": [],
      "execution_count": null,
      "outputs": []
    },
    {
      "cell_type": "code",
      "metadata": {
        "id": "D-KKVC78QmNh"
      },
      "source": [],
      "execution_count": null,
      "outputs": []
    },
    {
      "cell_type": "code",
      "metadata": {
        "id": "IzsYttKU1Vvf"
      },
      "source": [
        "pd.options.display.float_format = '{:.1f}'.format"
      ],
      "execution_count": null,
      "outputs": []
    },
    {
      "cell_type": "markdown",
      "metadata": {
        "id": "9GwC_kJd1Vvm"
      },
      "source": [
        "### pd.DataFrame.groupby()\n",
        " - 집단에 대한 통계량 확인 \n",
        " \n",
        "<img src=\"https://s3.amazonaws.com/files.dezyre.com/images/Tutorials/Split+Apply+Combine+Strategy.png\" width=\"700\" height=\"500\">"
      ]
    },
    {
      "cell_type": "code",
      "metadata": {
        "id": "9yIPJJSZ3WI2"
      },
      "source": [],
      "execution_count": null,
      "outputs": []
    },
    {
      "cell_type": "markdown",
      "metadata": {
        "id": "NREQ7SS71Vvr"
      },
      "source": [
        "- 상관계수: 두 개의 변수가 같이 일어나는 강도를 나타내는 수치 \n",
        "- -1에서 1사이의 값을 지닙니다. \n",
        "- -1이나 1인 수치는 현실 세계에서 관측되기 힘든 수치입니다. \n",
        "- 분야별로 기준을 정하는 것에 따라 달라지겠지만, 보통 0.4이상이면 두 개의 변수간에 상관성이 있다고 얘기합니다. "
      ]
    },
    {
      "cell_type": "markdown",
      "metadata": {
        "id": "kzOj_ulG1Vvr"
      },
      "source": [
        "![상관계수](https://t1.daumcdn.net/cfile/tistory/99DEE1425C6A9F2008)"
      ]
    },
    {
      "cell_type": "markdown",
      "metadata": {
        "id": "dlYFBA2B1Vvs"
      },
      "source": [
        "- 상관관계는 인과관계와 다릅니다. 아래의 예시를 확인해 봅시다."
      ]
    },
    {
      "cell_type": "markdown",
      "metadata": {
        "id": "xeCI5B971Vvt"
      },
      "source": [
        "![상관성 예시](https://miro.medium.com/max/684/1*JLYI5eCVEN7ZUWXBIrrapw.png)"
      ]
    },
    {
      "cell_type": "markdown",
      "metadata": {
        "id": "rV1HNVZA1Vvt"
      },
      "source": [
        "- 선글라스 판매량이 증가함에 따라, 아이스크림 판매액도 같이 증가하는 것을 볼 수 있습니다. \n",
        "- 하지만 선글라스 판매량이 증가했기 **때문에** 아이스크림 판매액이 증가했다라고 해석하는 것은 타당하지 않습니다. \n",
        "- 선글라스 판매량이 증가했다는 것은 여름 때문이라고 볼 수 있으므로, 날씨가 더워짐에 따라 선글라스 판매량과 아이스크림 판매액이 같이 증가했다고 보는 것이 타당할 것입니다. "
      ]
    },
    {
      "cell_type": "markdown",
      "metadata": {
        "id": "PG8N04Nh1Vvu"
      },
      "source": [
        "### pd.DataFrame.corr()"
      ]
    },
    {
      "cell_type": "markdown",
      "metadata": {
        "id": "Fey4UhOH1Vvu"
      },
      "source": [
        "- correlation coefficient 의 줄임말 입니다 "
      ]
    },
    {
      "cell_type": "code",
      "metadata": {
        "id": "YZ0HP8Yo1Vvv"
      },
      "source": [
        "pd.reset_option('display.float_format')"
      ],
      "execution_count": null,
      "outputs": []
    },
    {
      "cell_type": "code",
      "metadata": {
        "id": "7wojxWtL1Vvz"
      },
      "source": [],
      "execution_count": null,
      "outputs": []
    },
    {
      "cell_type": "code",
      "metadata": {
        "id": "SUdt_MFY1Vv3"
      },
      "source": [
        "import seaborn as sns"
      ],
      "execution_count": null,
      "outputs": []
    },
    {
      "cell_type": "code",
      "metadata": {
        "id": "KlOF9RXQ1Vv7"
      },
      "source": [],
      "execution_count": null,
      "outputs": []
    },
    {
      "cell_type": "markdown",
      "metadata": {
        "id": "3zjQY_KY2lnR"
      },
      "source": [
        "## 3. 데이터 전처리\n",
        "## Data Cleansing & Pre-Processing  "
      ]
    },
    {
      "cell_type": "markdown",
      "metadata": {
        "id": "YiJUQxts1VwZ"
      },
      "source": [
        "### pd.Series.isna()\n",
        "- 결측치 여부를 확인해줍니다.\n",
        "- 결측치면 True, 아니면 False"
      ]
    },
    {
      "cell_type": "code",
      "metadata": {
        "id": "6YwFolq-1VwZ",
        "colab": {
          "base_uri": "https://localhost:8080/"
        },
        "outputId": "06243da8-e080-42d4-85f3-f1408893b40c"
      },
      "source": [
        "train.isna().sum() / 600 #관측값으로 나누면"
      ],
      "execution_count": null,
      "outputs": [
        {
          "output_type": "execute_result",
          "data": {
            "text/plain": [
              "title             0.00\n",
              "distributor       0.00\n",
              "genre             0.00\n",
              "release_time      0.00\n",
              "time              0.00\n",
              "screening_rat     0.00\n",
              "director          0.00\n",
              "dir_prev_bfnum    0.55\n",
              "dir_prev_num      0.00\n",
              "num_staff         0.00\n",
              "num_actor         0.00\n",
              "box_off_num       0.00\n",
              "dtype: float64"
            ]
          },
          "metadata": {},
          "execution_count": 15
        }
      ]
    },
    {
      "cell_type": "code",
      "source": [
        "train[train['dir_prev_bfnum'].isna()] #결측값이 있는 순서로 정렬"
      ],
      "metadata": {
        "colab": {
          "base_uri": "https://localhost:8080/",
          "height": 869
        },
        "id": "p5Ozd7qKenSK",
        "outputId": "dd0a1307-a626-413b-821e-964e6d3c10c4"
      },
      "execution_count": null,
      "outputs": [
        {
          "output_type": "execute_result",
          "data": {
            "text/plain": [
              "               title      distributor   genre release_time  time  \\\n",
              "0             개들의 전쟁         롯데엔터테인먼트      액션   2012-11-22    96   \n",
              "6               길위에서             백두대간   다큐멘터리   2013-05-23   104   \n",
              "8    1789, 바스티유의 연인들  유니버설픽쳐스인터내셔널코리아     뮤지컬   2014-09-18   129   \n",
              "9              청춘그루브           (주)두타연     드라마   2012-03-15    94   \n",
              "10            AV 아이돌        (주) 케이알씨지  멜로/로맨스   2015-07-27    89   \n",
              "..               ...              ...     ...          ...   ...   \n",
              "593       낭만파 남편의 편지             퍼스트런    미스터리   2013-09-12    97   \n",
              "594         오빠가 돌아왔다        (주)마운틴픽쳐스     코미디   2014-03-20    94   \n",
              "597            살인의 강        (주)마운틴픽쳐스      공포   2010-09-30    99   \n",
              "598           악의 연대기        CJ 엔터테인먼트     느와르   2015-05-14   102   \n",
              "599              베를린        CJ 엔터테인먼트      액션   2013-01-30   120   \n",
              "\n",
              "    screening_rat director  dir_prev_bfnum  dir_prev_num  num_staff  \\\n",
              "0        청소년 관람불가      조병옥             NaN             0         91   \n",
              "6          전체 관람가      이창재             NaN             0         32   \n",
              "8          전체 관람가      정성복             NaN             0          3   \n",
              "9         15세 관람가      변성현             NaN             0        138   \n",
              "10       청소년 관람불가   조조 히데오             NaN             0          0   \n",
              "..            ...      ...             ...           ...        ...   \n",
              "593      청소년 관람불가      최위안             NaN             0          5   \n",
              "594      청소년 관람불가      노진수             NaN             0         37   \n",
              "597      청소년 관람불가      김대현             NaN             0        123   \n",
              "598       15세 관람가      백운학             NaN             0        431   \n",
              "599       15세 관람가      류승완             NaN             0        363   \n",
              "\n",
              "     num_actor  box_off_num  \n",
              "0            2        23398  \n",
              "6            5        53526  \n",
              "8            5         4778  \n",
              "9            3          868  \n",
              "10           4          745  \n",
              "..         ...          ...  \n",
              "593          3         1132  \n",
              "594          5         1958  \n",
              "597          4         2475  \n",
              "598          4      2192525  \n",
              "599          5      7166532  \n",
              "\n",
              "[330 rows x 12 columns]"
            ],
            "text/html": [
              "\n",
              "  <div id=\"df-c713bb68-8452-413f-9d53-0ef1b7d20f8f\">\n",
              "    <div class=\"colab-df-container\">\n",
              "      <div>\n",
              "<style scoped>\n",
              "    .dataframe tbody tr th:only-of-type {\n",
              "        vertical-align: middle;\n",
              "    }\n",
              "\n",
              "    .dataframe tbody tr th {\n",
              "        vertical-align: top;\n",
              "    }\n",
              "\n",
              "    .dataframe thead th {\n",
              "        text-align: right;\n",
              "    }\n",
              "</style>\n",
              "<table border=\"1\" class=\"dataframe\">\n",
              "  <thead>\n",
              "    <tr style=\"text-align: right;\">\n",
              "      <th></th>\n",
              "      <th>title</th>\n",
              "      <th>distributor</th>\n",
              "      <th>genre</th>\n",
              "      <th>release_time</th>\n",
              "      <th>time</th>\n",
              "      <th>screening_rat</th>\n",
              "      <th>director</th>\n",
              "      <th>dir_prev_bfnum</th>\n",
              "      <th>dir_prev_num</th>\n",
              "      <th>num_staff</th>\n",
              "      <th>num_actor</th>\n",
              "      <th>box_off_num</th>\n",
              "    </tr>\n",
              "  </thead>\n",
              "  <tbody>\n",
              "    <tr>\n",
              "      <th>0</th>\n",
              "      <td>개들의 전쟁</td>\n",
              "      <td>롯데엔터테인먼트</td>\n",
              "      <td>액션</td>\n",
              "      <td>2012-11-22</td>\n",
              "      <td>96</td>\n",
              "      <td>청소년 관람불가</td>\n",
              "      <td>조병옥</td>\n",
              "      <td>NaN</td>\n",
              "      <td>0</td>\n",
              "      <td>91</td>\n",
              "      <td>2</td>\n",
              "      <td>23398</td>\n",
              "    </tr>\n",
              "    <tr>\n",
              "      <th>6</th>\n",
              "      <td>길위에서</td>\n",
              "      <td>백두대간</td>\n",
              "      <td>다큐멘터리</td>\n",
              "      <td>2013-05-23</td>\n",
              "      <td>104</td>\n",
              "      <td>전체 관람가</td>\n",
              "      <td>이창재</td>\n",
              "      <td>NaN</td>\n",
              "      <td>0</td>\n",
              "      <td>32</td>\n",
              "      <td>5</td>\n",
              "      <td>53526</td>\n",
              "    </tr>\n",
              "    <tr>\n",
              "      <th>8</th>\n",
              "      <td>1789, 바스티유의 연인들</td>\n",
              "      <td>유니버설픽쳐스인터내셔널코리아</td>\n",
              "      <td>뮤지컬</td>\n",
              "      <td>2014-09-18</td>\n",
              "      <td>129</td>\n",
              "      <td>전체 관람가</td>\n",
              "      <td>정성복</td>\n",
              "      <td>NaN</td>\n",
              "      <td>0</td>\n",
              "      <td>3</td>\n",
              "      <td>5</td>\n",
              "      <td>4778</td>\n",
              "    </tr>\n",
              "    <tr>\n",
              "      <th>9</th>\n",
              "      <td>청춘그루브</td>\n",
              "      <td>(주)두타연</td>\n",
              "      <td>드라마</td>\n",
              "      <td>2012-03-15</td>\n",
              "      <td>94</td>\n",
              "      <td>15세 관람가</td>\n",
              "      <td>변성현</td>\n",
              "      <td>NaN</td>\n",
              "      <td>0</td>\n",
              "      <td>138</td>\n",
              "      <td>3</td>\n",
              "      <td>868</td>\n",
              "    </tr>\n",
              "    <tr>\n",
              "      <th>10</th>\n",
              "      <td>AV 아이돌</td>\n",
              "      <td>(주) 케이알씨지</td>\n",
              "      <td>멜로/로맨스</td>\n",
              "      <td>2015-07-27</td>\n",
              "      <td>89</td>\n",
              "      <td>청소년 관람불가</td>\n",
              "      <td>조조 히데오</td>\n",
              "      <td>NaN</td>\n",
              "      <td>0</td>\n",
              "      <td>0</td>\n",
              "      <td>4</td>\n",
              "      <td>745</td>\n",
              "    </tr>\n",
              "    <tr>\n",
              "      <th>...</th>\n",
              "      <td>...</td>\n",
              "      <td>...</td>\n",
              "      <td>...</td>\n",
              "      <td>...</td>\n",
              "      <td>...</td>\n",
              "      <td>...</td>\n",
              "      <td>...</td>\n",
              "      <td>...</td>\n",
              "      <td>...</td>\n",
              "      <td>...</td>\n",
              "      <td>...</td>\n",
              "      <td>...</td>\n",
              "    </tr>\n",
              "    <tr>\n",
              "      <th>593</th>\n",
              "      <td>낭만파 남편의 편지</td>\n",
              "      <td>퍼스트런</td>\n",
              "      <td>미스터리</td>\n",
              "      <td>2013-09-12</td>\n",
              "      <td>97</td>\n",
              "      <td>청소년 관람불가</td>\n",
              "      <td>최위안</td>\n",
              "      <td>NaN</td>\n",
              "      <td>0</td>\n",
              "      <td>5</td>\n",
              "      <td>3</td>\n",
              "      <td>1132</td>\n",
              "    </tr>\n",
              "    <tr>\n",
              "      <th>594</th>\n",
              "      <td>오빠가 돌아왔다</td>\n",
              "      <td>(주)마운틴픽쳐스</td>\n",
              "      <td>코미디</td>\n",
              "      <td>2014-03-20</td>\n",
              "      <td>94</td>\n",
              "      <td>청소년 관람불가</td>\n",
              "      <td>노진수</td>\n",
              "      <td>NaN</td>\n",
              "      <td>0</td>\n",
              "      <td>37</td>\n",
              "      <td>5</td>\n",
              "      <td>1958</td>\n",
              "    </tr>\n",
              "    <tr>\n",
              "      <th>597</th>\n",
              "      <td>살인의 강</td>\n",
              "      <td>(주)마운틴픽쳐스</td>\n",
              "      <td>공포</td>\n",
              "      <td>2010-09-30</td>\n",
              "      <td>99</td>\n",
              "      <td>청소년 관람불가</td>\n",
              "      <td>김대현</td>\n",
              "      <td>NaN</td>\n",
              "      <td>0</td>\n",
              "      <td>123</td>\n",
              "      <td>4</td>\n",
              "      <td>2475</td>\n",
              "    </tr>\n",
              "    <tr>\n",
              "      <th>598</th>\n",
              "      <td>악의 연대기</td>\n",
              "      <td>CJ 엔터테인먼트</td>\n",
              "      <td>느와르</td>\n",
              "      <td>2015-05-14</td>\n",
              "      <td>102</td>\n",
              "      <td>15세 관람가</td>\n",
              "      <td>백운학</td>\n",
              "      <td>NaN</td>\n",
              "      <td>0</td>\n",
              "      <td>431</td>\n",
              "      <td>4</td>\n",
              "      <td>2192525</td>\n",
              "    </tr>\n",
              "    <tr>\n",
              "      <th>599</th>\n",
              "      <td>베를린</td>\n",
              "      <td>CJ 엔터테인먼트</td>\n",
              "      <td>액션</td>\n",
              "      <td>2013-01-30</td>\n",
              "      <td>120</td>\n",
              "      <td>15세 관람가</td>\n",
              "      <td>류승완</td>\n",
              "      <td>NaN</td>\n",
              "      <td>0</td>\n",
              "      <td>363</td>\n",
              "      <td>5</td>\n",
              "      <td>7166532</td>\n",
              "    </tr>\n",
              "  </tbody>\n",
              "</table>\n",
              "<p>330 rows × 12 columns</p>\n",
              "</div>\n",
              "      <button class=\"colab-df-convert\" onclick=\"convertToInteractive('df-c713bb68-8452-413f-9d53-0ef1b7d20f8f')\"\n",
              "              title=\"Convert this dataframe to an interactive table.\"\n",
              "              style=\"display:none;\">\n",
              "        \n",
              "  <svg xmlns=\"http://www.w3.org/2000/svg\" height=\"24px\"viewBox=\"0 0 24 24\"\n",
              "       width=\"24px\">\n",
              "    <path d=\"M0 0h24v24H0V0z\" fill=\"none\"/>\n",
              "    <path d=\"M18.56 5.44l.94 2.06.94-2.06 2.06-.94-2.06-.94-.94-2.06-.94 2.06-2.06.94zm-11 1L8.5 8.5l.94-2.06 2.06-.94-2.06-.94L8.5 2.5l-.94 2.06-2.06.94zm10 10l.94 2.06.94-2.06 2.06-.94-2.06-.94-.94-2.06-.94 2.06-2.06.94z\"/><path d=\"M17.41 7.96l-1.37-1.37c-.4-.4-.92-.59-1.43-.59-.52 0-1.04.2-1.43.59L10.3 9.45l-7.72 7.72c-.78.78-.78 2.05 0 2.83L4 21.41c.39.39.9.59 1.41.59.51 0 1.02-.2 1.41-.59l7.78-7.78 2.81-2.81c.8-.78.8-2.07 0-2.86zM5.41 20L4 18.59l7.72-7.72 1.47 1.35L5.41 20z\"/>\n",
              "  </svg>\n",
              "      </button>\n",
              "      \n",
              "  <style>\n",
              "    .colab-df-container {\n",
              "      display:flex;\n",
              "      flex-wrap:wrap;\n",
              "      gap: 12px;\n",
              "    }\n",
              "\n",
              "    .colab-df-convert {\n",
              "      background-color: #E8F0FE;\n",
              "      border: none;\n",
              "      border-radius: 50%;\n",
              "      cursor: pointer;\n",
              "      display: none;\n",
              "      fill: #1967D2;\n",
              "      height: 32px;\n",
              "      padding: 0 0 0 0;\n",
              "      width: 32px;\n",
              "    }\n",
              "\n",
              "    .colab-df-convert:hover {\n",
              "      background-color: #E2EBFA;\n",
              "      box-shadow: 0px 1px 2px rgba(60, 64, 67, 0.3), 0px 1px 3px 1px rgba(60, 64, 67, 0.15);\n",
              "      fill: #174EA6;\n",
              "    }\n",
              "\n",
              "    [theme=dark] .colab-df-convert {\n",
              "      background-color: #3B4455;\n",
              "      fill: #D2E3FC;\n",
              "    }\n",
              "\n",
              "    [theme=dark] .colab-df-convert:hover {\n",
              "      background-color: #434B5C;\n",
              "      box-shadow: 0px 1px 3px 1px rgba(0, 0, 0, 0.15);\n",
              "      filter: drop-shadow(0px 1px 2px rgba(0, 0, 0, 0.3));\n",
              "      fill: #FFFFFF;\n",
              "    }\n",
              "  </style>\n",
              "\n",
              "      <script>\n",
              "        const buttonEl =\n",
              "          document.querySelector('#df-c713bb68-8452-413f-9d53-0ef1b7d20f8f button.colab-df-convert');\n",
              "        buttonEl.style.display =\n",
              "          google.colab.kernel.accessAllowed ? 'block' : 'none';\n",
              "\n",
              "        async function convertToInteractive(key) {\n",
              "          const element = document.querySelector('#df-c713bb68-8452-413f-9d53-0ef1b7d20f8f');\n",
              "          const dataTable =\n",
              "            await google.colab.kernel.invokeFunction('convertToInteractive',\n",
              "                                                     [key], {});\n",
              "          if (!dataTable) return;\n",
              "\n",
              "          const docLinkHtml = 'Like what you see? Visit the ' +\n",
              "            '<a target=\"_blank\" href=https://colab.research.google.com/notebooks/data_table.ipynb>data table notebook</a>'\n",
              "            + ' to learn more about interactive tables.';\n",
              "          element.innerHTML = '';\n",
              "          dataTable['output_type'] = 'display_data';\n",
              "          await google.colab.output.renderOutput(dataTable, element);\n",
              "          const docLink = document.createElement('div');\n",
              "          docLink.innerHTML = docLinkHtml;\n",
              "          element.appendChild(docLink);\n",
              "        }\n",
              "      </script>\n",
              "    </div>\n",
              "  </div>\n",
              "  "
            ]
          },
          "metadata": {},
          "execution_count": 17
        }
      ]
    },
    {
      "cell_type": "code",
      "source": [
        "train[train['dir_prev_bfnum'].isna()]['dir_prev_num'] #prev_num 순서대로 정렬"
      ],
      "metadata": {
        "colab": {
          "base_uri": "https://localhost:8080/"
        },
        "id": "dtvDLehTe_f-",
        "outputId": "8946a982-524d-47a3-f5c1-060e1ea0a91c"
      },
      "execution_count": null,
      "outputs": [
        {
          "output_type": "execute_result",
          "data": {
            "text/plain": [
              "0      0\n",
              "6      0\n",
              "8      0\n",
              "9      0\n",
              "10     0\n",
              "      ..\n",
              "593    0\n",
              "594    0\n",
              "597    0\n",
              "598    0\n",
              "599    0\n",
              "Name: dir_prev_num, Length: 330, dtype: int64"
            ]
          },
          "metadata": {},
          "execution_count": 18
        }
      ]
    },
    {
      "cell_type": "code",
      "source": [
        "train[train['dir_prev_bfnum'].isna()]['dir_prev_num'].sum() #모두 0이면 합도 0으로 나옴."
      ],
      "metadata": {
        "colab": {
          "base_uri": "https://localhost:8080/"
        },
        "id": "YvYlTAUWfIVb",
        "outputId": "bd69a5be-fa0c-4bf9-83ae-7b67c92ddd43"
      },
      "execution_count": null,
      "outputs": [
        {
          "output_type": "execute_result",
          "data": {
            "text/plain": [
              "0"
            ]
          },
          "metadata": {},
          "execution_count": 19
        }
      ]
    },
    {
      "cell_type": "markdown",
      "metadata": {
        "id": "bgAPBLl71Vwe"
      },
      "source": [
        "### pd.DataFrame.fillna()\n",
        "- 결측치를 채우고자 하는 column과 결측치를 대신하여 넣고자 하는 값을 명시해주어야 합니다.\n",
        "- 범주형 변수일 경우, 최빈값으로 대체할 수 있습니다. "
      ]
    },
    {
      "cell_type": "code",
      "metadata": {
        "id": "-wu43ZeD1Vwf"
      },
      "source": [
        "train['dir_prev_bfnum'].fillna(0, inplace = True)"
      ],
      "execution_count": null,
      "outputs": []
    },
    {
      "cell_type": "code",
      "source": [
        "train"
      ],
      "metadata": {
        "colab": {
          "base_uri": "https://localhost:8080/",
          "height": 765
        },
        "id": "ayovGAglfh0z",
        "outputId": "c2b9ceeb-b1df-4a23-aa0f-e3850bd61f2b"
      },
      "execution_count": null,
      "outputs": [
        {
          "output_type": "execute_result",
          "data": {
            "text/plain": [
              "         title   distributor genre release_time  time screening_rat director  \\\n",
              "0       개들의 전쟁      롯데엔터테인먼트    액션   2012-11-22    96      청소년 관람불가      조병옥   \n",
              "1         내부자들        (주)쇼박스   느와르   2015-11-19   130      청소년 관람불가      우민호   \n",
              "2    은밀하게 위대하게        (주)쇼박스    액션   2013-06-05   123       15세 관람가      장철수   \n",
              "3     나는 공무원이다        (주)NEW   코미디   2012-07-12   101        전체 관람가      구자홍   \n",
              "4         불량남녀  쇼박스(주)미디어플렉스   코미디   2010-11-04   108       15세 관람가      신근호   \n",
              "..         ...           ...   ...          ...   ...           ...      ...   \n",
              "595         해무        (주)NEW   드라마   2014-08-13   111      청소년 관람불가      심성보   \n",
              "596       파파로티        (주)쇼박스   드라마   2013-03-14   127       15세 관람가      윤종찬   \n",
              "597      살인의 강     (주)마운틴픽쳐스    공포   2010-09-30    99      청소년 관람불가      김대현   \n",
              "598     악의 연대기     CJ 엔터테인먼트   느와르   2015-05-14   102       15세 관람가      백운학   \n",
              "599        베를린     CJ 엔터테인먼트    액션   2013-01-30   120       15세 관람가      류승완   \n",
              "\n",
              "     dir_prev_bfnum  dir_prev_num  num_staff  num_actor  box_off_num  \n",
              "0              0.00             0         91          2        23398  \n",
              "1        1161602.50             2        387          3      7072501  \n",
              "2         220775.25             4        343          4      6959083  \n",
              "3          23894.00             2         20          6       217866  \n",
              "4              1.00             1        251          2       483387  \n",
              "..              ...           ...        ...        ...          ...  \n",
              "595         3833.00             1        510          7      1475091  \n",
              "596       496061.00             1        286          6      1716438  \n",
              "597            0.00             0        123          4         2475  \n",
              "598            0.00             0        431          4      2192525  \n",
              "599            0.00             0        363          5      7166532  \n",
              "\n",
              "[600 rows x 12 columns]"
            ],
            "text/html": [
              "\n",
              "  <div id=\"df-552a5ff7-54b1-4d88-b60c-18d945e8d749\">\n",
              "    <div class=\"colab-df-container\">\n",
              "      <div>\n",
              "<style scoped>\n",
              "    .dataframe tbody tr th:only-of-type {\n",
              "        vertical-align: middle;\n",
              "    }\n",
              "\n",
              "    .dataframe tbody tr th {\n",
              "        vertical-align: top;\n",
              "    }\n",
              "\n",
              "    .dataframe thead th {\n",
              "        text-align: right;\n",
              "    }\n",
              "</style>\n",
              "<table border=\"1\" class=\"dataframe\">\n",
              "  <thead>\n",
              "    <tr style=\"text-align: right;\">\n",
              "      <th></th>\n",
              "      <th>title</th>\n",
              "      <th>distributor</th>\n",
              "      <th>genre</th>\n",
              "      <th>release_time</th>\n",
              "      <th>time</th>\n",
              "      <th>screening_rat</th>\n",
              "      <th>director</th>\n",
              "      <th>dir_prev_bfnum</th>\n",
              "      <th>dir_prev_num</th>\n",
              "      <th>num_staff</th>\n",
              "      <th>num_actor</th>\n",
              "      <th>box_off_num</th>\n",
              "    </tr>\n",
              "  </thead>\n",
              "  <tbody>\n",
              "    <tr>\n",
              "      <th>0</th>\n",
              "      <td>개들의 전쟁</td>\n",
              "      <td>롯데엔터테인먼트</td>\n",
              "      <td>액션</td>\n",
              "      <td>2012-11-22</td>\n",
              "      <td>96</td>\n",
              "      <td>청소년 관람불가</td>\n",
              "      <td>조병옥</td>\n",
              "      <td>0.00</td>\n",
              "      <td>0</td>\n",
              "      <td>91</td>\n",
              "      <td>2</td>\n",
              "      <td>23398</td>\n",
              "    </tr>\n",
              "    <tr>\n",
              "      <th>1</th>\n",
              "      <td>내부자들</td>\n",
              "      <td>(주)쇼박스</td>\n",
              "      <td>느와르</td>\n",
              "      <td>2015-11-19</td>\n",
              "      <td>130</td>\n",
              "      <td>청소년 관람불가</td>\n",
              "      <td>우민호</td>\n",
              "      <td>1161602.50</td>\n",
              "      <td>2</td>\n",
              "      <td>387</td>\n",
              "      <td>3</td>\n",
              "      <td>7072501</td>\n",
              "    </tr>\n",
              "    <tr>\n",
              "      <th>2</th>\n",
              "      <td>은밀하게 위대하게</td>\n",
              "      <td>(주)쇼박스</td>\n",
              "      <td>액션</td>\n",
              "      <td>2013-06-05</td>\n",
              "      <td>123</td>\n",
              "      <td>15세 관람가</td>\n",
              "      <td>장철수</td>\n",
              "      <td>220775.25</td>\n",
              "      <td>4</td>\n",
              "      <td>343</td>\n",
              "      <td>4</td>\n",
              "      <td>6959083</td>\n",
              "    </tr>\n",
              "    <tr>\n",
              "      <th>3</th>\n",
              "      <td>나는 공무원이다</td>\n",
              "      <td>(주)NEW</td>\n",
              "      <td>코미디</td>\n",
              "      <td>2012-07-12</td>\n",
              "      <td>101</td>\n",
              "      <td>전체 관람가</td>\n",
              "      <td>구자홍</td>\n",
              "      <td>23894.00</td>\n",
              "      <td>2</td>\n",
              "      <td>20</td>\n",
              "      <td>6</td>\n",
              "      <td>217866</td>\n",
              "    </tr>\n",
              "    <tr>\n",
              "      <th>4</th>\n",
              "      <td>불량남녀</td>\n",
              "      <td>쇼박스(주)미디어플렉스</td>\n",
              "      <td>코미디</td>\n",
              "      <td>2010-11-04</td>\n",
              "      <td>108</td>\n",
              "      <td>15세 관람가</td>\n",
              "      <td>신근호</td>\n",
              "      <td>1.00</td>\n",
              "      <td>1</td>\n",
              "      <td>251</td>\n",
              "      <td>2</td>\n",
              "      <td>483387</td>\n",
              "    </tr>\n",
              "    <tr>\n",
              "      <th>...</th>\n",
              "      <td>...</td>\n",
              "      <td>...</td>\n",
              "      <td>...</td>\n",
              "      <td>...</td>\n",
              "      <td>...</td>\n",
              "      <td>...</td>\n",
              "      <td>...</td>\n",
              "      <td>...</td>\n",
              "      <td>...</td>\n",
              "      <td>...</td>\n",
              "      <td>...</td>\n",
              "      <td>...</td>\n",
              "    </tr>\n",
              "    <tr>\n",
              "      <th>595</th>\n",
              "      <td>해무</td>\n",
              "      <td>(주)NEW</td>\n",
              "      <td>드라마</td>\n",
              "      <td>2014-08-13</td>\n",
              "      <td>111</td>\n",
              "      <td>청소년 관람불가</td>\n",
              "      <td>심성보</td>\n",
              "      <td>3833.00</td>\n",
              "      <td>1</td>\n",
              "      <td>510</td>\n",
              "      <td>7</td>\n",
              "      <td>1475091</td>\n",
              "    </tr>\n",
              "    <tr>\n",
              "      <th>596</th>\n",
              "      <td>파파로티</td>\n",
              "      <td>(주)쇼박스</td>\n",
              "      <td>드라마</td>\n",
              "      <td>2013-03-14</td>\n",
              "      <td>127</td>\n",
              "      <td>15세 관람가</td>\n",
              "      <td>윤종찬</td>\n",
              "      <td>496061.00</td>\n",
              "      <td>1</td>\n",
              "      <td>286</td>\n",
              "      <td>6</td>\n",
              "      <td>1716438</td>\n",
              "    </tr>\n",
              "    <tr>\n",
              "      <th>597</th>\n",
              "      <td>살인의 강</td>\n",
              "      <td>(주)마운틴픽쳐스</td>\n",
              "      <td>공포</td>\n",
              "      <td>2010-09-30</td>\n",
              "      <td>99</td>\n",
              "      <td>청소년 관람불가</td>\n",
              "      <td>김대현</td>\n",
              "      <td>0.00</td>\n",
              "      <td>0</td>\n",
              "      <td>123</td>\n",
              "      <td>4</td>\n",
              "      <td>2475</td>\n",
              "    </tr>\n",
              "    <tr>\n",
              "      <th>598</th>\n",
              "      <td>악의 연대기</td>\n",
              "      <td>CJ 엔터테인먼트</td>\n",
              "      <td>느와르</td>\n",
              "      <td>2015-05-14</td>\n",
              "      <td>102</td>\n",
              "      <td>15세 관람가</td>\n",
              "      <td>백운학</td>\n",
              "      <td>0.00</td>\n",
              "      <td>0</td>\n",
              "      <td>431</td>\n",
              "      <td>4</td>\n",
              "      <td>2192525</td>\n",
              "    </tr>\n",
              "    <tr>\n",
              "      <th>599</th>\n",
              "      <td>베를린</td>\n",
              "      <td>CJ 엔터테인먼트</td>\n",
              "      <td>액션</td>\n",
              "      <td>2013-01-30</td>\n",
              "      <td>120</td>\n",
              "      <td>15세 관람가</td>\n",
              "      <td>류승완</td>\n",
              "      <td>0.00</td>\n",
              "      <td>0</td>\n",
              "      <td>363</td>\n",
              "      <td>5</td>\n",
              "      <td>7166532</td>\n",
              "    </tr>\n",
              "  </tbody>\n",
              "</table>\n",
              "<p>600 rows × 12 columns</p>\n",
              "</div>\n",
              "      <button class=\"colab-df-convert\" onclick=\"convertToInteractive('df-552a5ff7-54b1-4d88-b60c-18d945e8d749')\"\n",
              "              title=\"Convert this dataframe to an interactive table.\"\n",
              "              style=\"display:none;\">\n",
              "        \n",
              "  <svg xmlns=\"http://www.w3.org/2000/svg\" height=\"24px\"viewBox=\"0 0 24 24\"\n",
              "       width=\"24px\">\n",
              "    <path d=\"M0 0h24v24H0V0z\" fill=\"none\"/>\n",
              "    <path d=\"M18.56 5.44l.94 2.06.94-2.06 2.06-.94-2.06-.94-.94-2.06-.94 2.06-2.06.94zm-11 1L8.5 8.5l.94-2.06 2.06-.94-2.06-.94L8.5 2.5l-.94 2.06-2.06.94zm10 10l.94 2.06.94-2.06 2.06-.94-2.06-.94-.94-2.06-.94 2.06-2.06.94z\"/><path d=\"M17.41 7.96l-1.37-1.37c-.4-.4-.92-.59-1.43-.59-.52 0-1.04.2-1.43.59L10.3 9.45l-7.72 7.72c-.78.78-.78 2.05 0 2.83L4 21.41c.39.39.9.59 1.41.59.51 0 1.02-.2 1.41-.59l7.78-7.78 2.81-2.81c.8-.78.8-2.07 0-2.86zM5.41 20L4 18.59l7.72-7.72 1.47 1.35L5.41 20z\"/>\n",
              "  </svg>\n",
              "      </button>\n",
              "      \n",
              "  <style>\n",
              "    .colab-df-container {\n",
              "      display:flex;\n",
              "      flex-wrap:wrap;\n",
              "      gap: 12px;\n",
              "    }\n",
              "\n",
              "    .colab-df-convert {\n",
              "      background-color: #E8F0FE;\n",
              "      border: none;\n",
              "      border-radius: 50%;\n",
              "      cursor: pointer;\n",
              "      display: none;\n",
              "      fill: #1967D2;\n",
              "      height: 32px;\n",
              "      padding: 0 0 0 0;\n",
              "      width: 32px;\n",
              "    }\n",
              "\n",
              "    .colab-df-convert:hover {\n",
              "      background-color: #E2EBFA;\n",
              "      box-shadow: 0px 1px 2px rgba(60, 64, 67, 0.3), 0px 1px 3px 1px rgba(60, 64, 67, 0.15);\n",
              "      fill: #174EA6;\n",
              "    }\n",
              "\n",
              "    [theme=dark] .colab-df-convert {\n",
              "      background-color: #3B4455;\n",
              "      fill: #D2E3FC;\n",
              "    }\n",
              "\n",
              "    [theme=dark] .colab-df-convert:hover {\n",
              "      background-color: #434B5C;\n",
              "      box-shadow: 0px 1px 3px 1px rgba(0, 0, 0, 0.15);\n",
              "      filter: drop-shadow(0px 1px 2px rgba(0, 0, 0, 0.3));\n",
              "      fill: #FFFFFF;\n",
              "    }\n",
              "  </style>\n",
              "\n",
              "      <script>\n",
              "        const buttonEl =\n",
              "          document.querySelector('#df-552a5ff7-54b1-4d88-b60c-18d945e8d749 button.colab-df-convert');\n",
              "        buttonEl.style.display =\n",
              "          google.colab.kernel.accessAllowed ? 'block' : 'none';\n",
              "\n",
              "        async function convertToInteractive(key) {\n",
              "          const element = document.querySelector('#df-552a5ff7-54b1-4d88-b60c-18d945e8d749');\n",
              "          const dataTable =\n",
              "            await google.colab.kernel.invokeFunction('convertToInteractive',\n",
              "                                                     [key], {});\n",
              "          if (!dataTable) return;\n",
              "\n",
              "          const docLinkHtml = 'Like what you see? Visit the ' +\n",
              "            '<a target=\"_blank\" href=https://colab.research.google.com/notebooks/data_table.ipynb>data table notebook</a>'\n",
              "            + ' to learn more about interactive tables.';\n",
              "          element.innerHTML = '';\n",
              "          dataTable['output_type'] = 'display_data';\n",
              "          await google.colab.output.renderOutput(dataTable, element);\n",
              "          const docLink = document.createElement('div');\n",
              "          docLink.innerHTML = docLinkHtml;\n",
              "          element.appendChild(docLink);\n",
              "        }\n",
              "      </script>\n",
              "    </div>\n",
              "  </div>\n",
              "  "
            ]
          },
          "metadata": {},
          "execution_count": 21
        }
      ]
    },
    {
      "cell_type": "code",
      "source": [
        "test[test['dir_prev_bfnum'].isna()]"
      ],
      "metadata": {
        "colab": {
          "base_uri": "https://localhost:8080/",
          "height": 904
        },
        "id": "tpJu6mRjfx1k",
        "outputId": "7562d227-a13a-464b-bde0-11a15d5c11d8"
      },
      "execution_count": null,
      "outputs": [
        {
          "output_type": "execute_result",
          "data": {
            "text/plain": [
              "               title      distributor   genre release_time  time  \\\n",
              "5             회오리 바람             모쿠슈라     드라마   2010-02-25    95   \n",
              "6             경계도시 2            시네마 달   다큐멘터리   2010-03-18   104   \n",
              "7             이웃집 남자        (주)루믹스미디어     드라마   2010-03-18   100   \n",
              "8        아마존의 눈물 극장판           마운틴픽쳐스   다큐멘터리   2010-03-25    88   \n",
              "9            반가운 살인자  롯데쇼핑(주)롯데엔터테인먼트     코미디   2010-04-08   107   \n",
              "..               ...              ...     ...          ...   ...   \n",
              "235              타이밍      (주)스톰픽쳐스코리아   애니메이션   2015-12-10   100   \n",
              "237           어떤이의 꿈              하준사     드라마   2015-11-26    72   \n",
              "239           울보 권투부            인디스토리   다큐멘터리   2015-10-29    86   \n",
              "240             어떤살인       (주)컨텐츠온미디어     느와르   2015-10-28   107   \n",
              "242  조선안방 스캔들-칠거지악 2        (주) 케이알씨지  멜로/로맨스   2015-10-22    76   \n",
              "\n",
              "    screening_rat director  dir_prev_bfnum  dir_prev_num  num_staff  num_actor  \n",
              "5         15세 관람가      장건재             NaN             0        156          2  \n",
              "6         15세 관람가      홍형숙             NaN             0         11          2  \n",
              "7        청소년 관람불가      장동홍             NaN             0        117          5  \n",
              "8         15세 관람가      김진만             NaN             0         76          1  \n",
              "9         15세 관람가      김동욱             NaN             0        255          3  \n",
              "..            ...      ...             ...           ...        ...        ...  \n",
              "235       15세 관람가      민경조             NaN             0         56          1  \n",
              "237       12세 관람가      조성규             NaN             0         29          3  \n",
              "239       12세 관람가      이일하             NaN             0         18          2  \n",
              "240      청소년 관람불가      안용훈             NaN             0        224          4  \n",
              "242      청소년 관람불가       이전             NaN             0         10          4  \n",
              "\n",
              "[136 rows x 11 columns]"
            ],
            "text/html": [
              "\n",
              "  <div id=\"df-a4a15742-4838-4997-bfb0-0be3f191429b\">\n",
              "    <div class=\"colab-df-container\">\n",
              "      <div>\n",
              "<style scoped>\n",
              "    .dataframe tbody tr th:only-of-type {\n",
              "        vertical-align: middle;\n",
              "    }\n",
              "\n",
              "    .dataframe tbody tr th {\n",
              "        vertical-align: top;\n",
              "    }\n",
              "\n",
              "    .dataframe thead th {\n",
              "        text-align: right;\n",
              "    }\n",
              "</style>\n",
              "<table border=\"1\" class=\"dataframe\">\n",
              "  <thead>\n",
              "    <tr style=\"text-align: right;\">\n",
              "      <th></th>\n",
              "      <th>title</th>\n",
              "      <th>distributor</th>\n",
              "      <th>genre</th>\n",
              "      <th>release_time</th>\n",
              "      <th>time</th>\n",
              "      <th>screening_rat</th>\n",
              "      <th>director</th>\n",
              "      <th>dir_prev_bfnum</th>\n",
              "      <th>dir_prev_num</th>\n",
              "      <th>num_staff</th>\n",
              "      <th>num_actor</th>\n",
              "    </tr>\n",
              "  </thead>\n",
              "  <tbody>\n",
              "    <tr>\n",
              "      <th>5</th>\n",
              "      <td>회오리 바람</td>\n",
              "      <td>모쿠슈라</td>\n",
              "      <td>드라마</td>\n",
              "      <td>2010-02-25</td>\n",
              "      <td>95</td>\n",
              "      <td>15세 관람가</td>\n",
              "      <td>장건재</td>\n",
              "      <td>NaN</td>\n",
              "      <td>0</td>\n",
              "      <td>156</td>\n",
              "      <td>2</td>\n",
              "    </tr>\n",
              "    <tr>\n",
              "      <th>6</th>\n",
              "      <td>경계도시 2</td>\n",
              "      <td>시네마 달</td>\n",
              "      <td>다큐멘터리</td>\n",
              "      <td>2010-03-18</td>\n",
              "      <td>104</td>\n",
              "      <td>15세 관람가</td>\n",
              "      <td>홍형숙</td>\n",
              "      <td>NaN</td>\n",
              "      <td>0</td>\n",
              "      <td>11</td>\n",
              "      <td>2</td>\n",
              "    </tr>\n",
              "    <tr>\n",
              "      <th>7</th>\n",
              "      <td>이웃집 남자</td>\n",
              "      <td>(주)루믹스미디어</td>\n",
              "      <td>드라마</td>\n",
              "      <td>2010-03-18</td>\n",
              "      <td>100</td>\n",
              "      <td>청소년 관람불가</td>\n",
              "      <td>장동홍</td>\n",
              "      <td>NaN</td>\n",
              "      <td>0</td>\n",
              "      <td>117</td>\n",
              "      <td>5</td>\n",
              "    </tr>\n",
              "    <tr>\n",
              "      <th>8</th>\n",
              "      <td>아마존의 눈물 극장판</td>\n",
              "      <td>마운틴픽쳐스</td>\n",
              "      <td>다큐멘터리</td>\n",
              "      <td>2010-03-25</td>\n",
              "      <td>88</td>\n",
              "      <td>15세 관람가</td>\n",
              "      <td>김진만</td>\n",
              "      <td>NaN</td>\n",
              "      <td>0</td>\n",
              "      <td>76</td>\n",
              "      <td>1</td>\n",
              "    </tr>\n",
              "    <tr>\n",
              "      <th>9</th>\n",
              "      <td>반가운 살인자</td>\n",
              "      <td>롯데쇼핑(주)롯데엔터테인먼트</td>\n",
              "      <td>코미디</td>\n",
              "      <td>2010-04-08</td>\n",
              "      <td>107</td>\n",
              "      <td>15세 관람가</td>\n",
              "      <td>김동욱</td>\n",
              "      <td>NaN</td>\n",
              "      <td>0</td>\n",
              "      <td>255</td>\n",
              "      <td>3</td>\n",
              "    </tr>\n",
              "    <tr>\n",
              "      <th>...</th>\n",
              "      <td>...</td>\n",
              "      <td>...</td>\n",
              "      <td>...</td>\n",
              "      <td>...</td>\n",
              "      <td>...</td>\n",
              "      <td>...</td>\n",
              "      <td>...</td>\n",
              "      <td>...</td>\n",
              "      <td>...</td>\n",
              "      <td>...</td>\n",
              "      <td>...</td>\n",
              "    </tr>\n",
              "    <tr>\n",
              "      <th>235</th>\n",
              "      <td>타이밍</td>\n",
              "      <td>(주)스톰픽쳐스코리아</td>\n",
              "      <td>애니메이션</td>\n",
              "      <td>2015-12-10</td>\n",
              "      <td>100</td>\n",
              "      <td>15세 관람가</td>\n",
              "      <td>민경조</td>\n",
              "      <td>NaN</td>\n",
              "      <td>0</td>\n",
              "      <td>56</td>\n",
              "      <td>1</td>\n",
              "    </tr>\n",
              "    <tr>\n",
              "      <th>237</th>\n",
              "      <td>어떤이의 꿈</td>\n",
              "      <td>하준사</td>\n",
              "      <td>드라마</td>\n",
              "      <td>2015-11-26</td>\n",
              "      <td>72</td>\n",
              "      <td>12세 관람가</td>\n",
              "      <td>조성규</td>\n",
              "      <td>NaN</td>\n",
              "      <td>0</td>\n",
              "      <td>29</td>\n",
              "      <td>3</td>\n",
              "    </tr>\n",
              "    <tr>\n",
              "      <th>239</th>\n",
              "      <td>울보 권투부</td>\n",
              "      <td>인디스토리</td>\n",
              "      <td>다큐멘터리</td>\n",
              "      <td>2015-10-29</td>\n",
              "      <td>86</td>\n",
              "      <td>12세 관람가</td>\n",
              "      <td>이일하</td>\n",
              "      <td>NaN</td>\n",
              "      <td>0</td>\n",
              "      <td>18</td>\n",
              "      <td>2</td>\n",
              "    </tr>\n",
              "    <tr>\n",
              "      <th>240</th>\n",
              "      <td>어떤살인</td>\n",
              "      <td>(주)컨텐츠온미디어</td>\n",
              "      <td>느와르</td>\n",
              "      <td>2015-10-28</td>\n",
              "      <td>107</td>\n",
              "      <td>청소년 관람불가</td>\n",
              "      <td>안용훈</td>\n",
              "      <td>NaN</td>\n",
              "      <td>0</td>\n",
              "      <td>224</td>\n",
              "      <td>4</td>\n",
              "    </tr>\n",
              "    <tr>\n",
              "      <th>242</th>\n",
              "      <td>조선안방 스캔들-칠거지악 2</td>\n",
              "      <td>(주) 케이알씨지</td>\n",
              "      <td>멜로/로맨스</td>\n",
              "      <td>2015-10-22</td>\n",
              "      <td>76</td>\n",
              "      <td>청소년 관람불가</td>\n",
              "      <td>이전</td>\n",
              "      <td>NaN</td>\n",
              "      <td>0</td>\n",
              "      <td>10</td>\n",
              "      <td>4</td>\n",
              "    </tr>\n",
              "  </tbody>\n",
              "</table>\n",
              "<p>136 rows × 11 columns</p>\n",
              "</div>\n",
              "      <button class=\"colab-df-convert\" onclick=\"convertToInteractive('df-a4a15742-4838-4997-bfb0-0be3f191429b')\"\n",
              "              title=\"Convert this dataframe to an interactive table.\"\n",
              "              style=\"display:none;\">\n",
              "        \n",
              "  <svg xmlns=\"http://www.w3.org/2000/svg\" height=\"24px\"viewBox=\"0 0 24 24\"\n",
              "       width=\"24px\">\n",
              "    <path d=\"M0 0h24v24H0V0z\" fill=\"none\"/>\n",
              "    <path d=\"M18.56 5.44l.94 2.06.94-2.06 2.06-.94-2.06-.94-.94-2.06-.94 2.06-2.06.94zm-11 1L8.5 8.5l.94-2.06 2.06-.94-2.06-.94L8.5 2.5l-.94 2.06-2.06.94zm10 10l.94 2.06.94-2.06 2.06-.94-2.06-.94-.94-2.06-.94 2.06-2.06.94z\"/><path d=\"M17.41 7.96l-1.37-1.37c-.4-.4-.92-.59-1.43-.59-.52 0-1.04.2-1.43.59L10.3 9.45l-7.72 7.72c-.78.78-.78 2.05 0 2.83L4 21.41c.39.39.9.59 1.41.59.51 0 1.02-.2 1.41-.59l7.78-7.78 2.81-2.81c.8-.78.8-2.07 0-2.86zM5.41 20L4 18.59l7.72-7.72 1.47 1.35L5.41 20z\"/>\n",
              "  </svg>\n",
              "      </button>\n",
              "      \n",
              "  <style>\n",
              "    .colab-df-container {\n",
              "      display:flex;\n",
              "      flex-wrap:wrap;\n",
              "      gap: 12px;\n",
              "    }\n",
              "\n",
              "    .colab-df-convert {\n",
              "      background-color: #E8F0FE;\n",
              "      border: none;\n",
              "      border-radius: 50%;\n",
              "      cursor: pointer;\n",
              "      display: none;\n",
              "      fill: #1967D2;\n",
              "      height: 32px;\n",
              "      padding: 0 0 0 0;\n",
              "      width: 32px;\n",
              "    }\n",
              "\n",
              "    .colab-df-convert:hover {\n",
              "      background-color: #E2EBFA;\n",
              "      box-shadow: 0px 1px 2px rgba(60, 64, 67, 0.3), 0px 1px 3px 1px rgba(60, 64, 67, 0.15);\n",
              "      fill: #174EA6;\n",
              "    }\n",
              "\n",
              "    [theme=dark] .colab-df-convert {\n",
              "      background-color: #3B4455;\n",
              "      fill: #D2E3FC;\n",
              "    }\n",
              "\n",
              "    [theme=dark] .colab-df-convert:hover {\n",
              "      background-color: #434B5C;\n",
              "      box-shadow: 0px 1px 3px 1px rgba(0, 0, 0, 0.15);\n",
              "      filter: drop-shadow(0px 1px 2px rgba(0, 0, 0, 0.3));\n",
              "      fill: #FFFFFF;\n",
              "    }\n",
              "  </style>\n",
              "\n",
              "      <script>\n",
              "        const buttonEl =\n",
              "          document.querySelector('#df-a4a15742-4838-4997-bfb0-0be3f191429b button.colab-df-convert');\n",
              "        buttonEl.style.display =\n",
              "          google.colab.kernel.accessAllowed ? 'block' : 'none';\n",
              "\n",
              "        async function convertToInteractive(key) {\n",
              "          const element = document.querySelector('#df-a4a15742-4838-4997-bfb0-0be3f191429b');\n",
              "          const dataTable =\n",
              "            await google.colab.kernel.invokeFunction('convertToInteractive',\n",
              "                                                     [key], {});\n",
              "          if (!dataTable) return;\n",
              "\n",
              "          const docLinkHtml = 'Like what you see? Visit the ' +\n",
              "            '<a target=\"_blank\" href=https://colab.research.google.com/notebooks/data_table.ipynb>data table notebook</a>'\n",
              "            + ' to learn more about interactive tables.';\n",
              "          element.innerHTML = '';\n",
              "          dataTable['output_type'] = 'display_data';\n",
              "          await google.colab.output.renderOutput(dataTable, element);\n",
              "          const docLink = document.createElement('div');\n",
              "          docLink.innerHTML = docLinkHtml;\n",
              "          element.appendChild(docLink);\n",
              "        }\n",
              "      </script>\n",
              "    </div>\n",
              "  </div>\n",
              "  "
            ]
          },
          "metadata": {},
          "execution_count": 23
        }
      ]
    },
    {
      "cell_type": "code",
      "source": [
        "test[test['dir_prev_bfnum'].isna()]['dir_prev_num'].sum()"
      ],
      "metadata": {
        "colab": {
          "base_uri": "https://localhost:8080/"
        },
        "id": "6q1GRq9Ef9Ah",
        "outputId": "05820fbe-b648-464a-f52c-47c358537baf"
      },
      "execution_count": null,
      "outputs": [
        {
          "output_type": "execute_result",
          "data": {
            "text/plain": [
              "0"
            ]
          },
          "metadata": {},
          "execution_count": 24
        }
      ]
    },
    {
      "cell_type": "code",
      "source": [
        "test['dir_prev_bfnum'].fillna(0, inplace = True)"
      ],
      "metadata": {
        "id": "JYer5ksqgOL6"
      },
      "execution_count": null,
      "outputs": []
    },
    {
      "cell_type": "code",
      "source": [
        "test.isna().sum()/600"
      ],
      "metadata": {
        "colab": {
          "base_uri": "https://localhost:8080/"
        },
        "id": "OTSZA88UgV7O",
        "outputId": "0063504d-fbdc-421f-a8c5-a77f85e676d5"
      },
      "execution_count": null,
      "outputs": [
        {
          "output_type": "execute_result",
          "data": {
            "text/plain": [
              "title             0.0\n",
              "distributor       0.0\n",
              "genre             0.0\n",
              "release_time      0.0\n",
              "time              0.0\n",
              "screening_rat     0.0\n",
              "director          0.0\n",
              "dir_prev_bfnum    0.0\n",
              "dir_prev_num      0.0\n",
              "num_staff         0.0\n",
              "num_actor         0.0\n",
              "dtype: float64"
            ]
          },
          "metadata": {},
          "execution_count": 26
        }
      ]
    },
    {
      "cell_type": "markdown",
      "metadata": {
        "id": "Qyq90ZzB2lnk"
      },
      "source": [
        "## 4. 변수 선택 및 모델 구축\n",
        "## Feature Engineering & Initial Modeling  "
      ]
    },
    {
      "cell_type": "code",
      "metadata": {
        "id": "K2bxgsvP1Vwn"
      },
      "source": [
        "model = lgb.LGBMRegressor(random_state = 777, n_estimators = 1000)"
      ],
      "execution_count": null,
      "outputs": []
    },
    {
      "cell_type": "code",
      "source": [
        "features = ['time', 'dir_prev_num','num_staff', 'num_actor']\n",
        "target = ['box_off_num']"
      ],
      "metadata": {
        "id": "7ONhX1XPnCON"
      },
      "execution_count": null,
      "outputs": []
    },
    {
      "cell_type": "code",
      "source": [
        "X_train, X_test, y_train = train[features], test[features], train[target]"
      ],
      "metadata": {
        "id": "FNNU2U8TnLC7"
      },
      "execution_count": null,
      "outputs": []
    },
    {
      "cell_type": "markdown",
      "metadata": {
        "id": "V21KUtyl2lnu"
      },
      "source": [
        "## 5. 모델 학습 및 검증\n",
        "## Model Tuning & Evaluation"
      ]
    },
    {
      "cell_type": "markdown",
      "metadata": {
        "id": "6bZesLX51Vw2"
      },
      "source": [
        "### a. lightGBM (base model)\n",
        "### b. k-fold lightGBM (k-fold model)\n",
        "### c. feature engineering (fe)\n",
        "### d. grid search (hyperparameter tuning)"
      ]
    },
    {
      "cell_type": "markdown",
      "source": [
        "a->d로 갈수록 성능이 점점 좋아진다."
      ],
      "metadata": {
        "id": "dZ4Oe_AKnob1"
      }
    },
    {
      "cell_type": "markdown",
      "metadata": {
        "id": "l-SaEW-11Vw2"
      },
      "source": [
        "## LightGBM"
      ]
    },
    {
      "cell_type": "markdown",
      "metadata": {
        "id": "FoDu6RWk1Vw3"
      },
      "source": [
        "- 부스팅 모델\n",
        "- 기존 모델이 못 맞춘 문제에 가중치를 두어 지속적으로 학습 이어나감\n",
        "- 타 부스팅 모델에 비해 속도가 빠름\n",
        "* 빨라서 -> Light! BGM"
      ]
    },
    {
      "cell_type": "markdown",
      "metadata": {
        "id": "dw_3cnfk1Vw3"
      },
      "source": [
        "![부스팅](https://quantdare.com/wp-content/uploads/2016/04/bb3.png)"
      ]
    },
    {
      "cell_type": "markdown",
      "source": [
        "light GBM = Boosting 방식 (순차적으로, \n",
        "1차 결과값 보면서 2차 진행 ...\n",
        "2차 결과값 보면서 3차 진행 )\n",
        "- 기존 모델의 오차를 기반으로 가중치를 둬서 해당문제를 집중적으로 맞추도록 함.\n",
        "\n",
        "random forest = bagging 방식 (동시 병행적)"
      ],
      "metadata": {
        "id": "J4MbcVUemWZO"
      }
    },
    {
      "cell_type": "code",
      "metadata": {
        "id": "M4HWuAq2mUPA",
        "colab": {
          "base_uri": "https://localhost:8080/",
          "height": 74
        },
        "outputId": "9a689f34-7e36-42c3-c95e-5b0f6af02ca4"
      },
      "source": [
        "model.fit(X_train,y_train)"
      ],
      "execution_count": null,
      "outputs": [
        {
          "output_type": "execute_result",
          "data": {
            "text/plain": [
              "LGBMRegressor(n_estimators=1000, random_state=777)"
            ],
            "text/html": [
              "<style>#sk-container-id-1 {color: black;background-color: white;}#sk-container-id-1 pre{padding: 0;}#sk-container-id-1 div.sk-toggleable {background-color: white;}#sk-container-id-1 label.sk-toggleable__label {cursor: pointer;display: block;width: 100%;margin-bottom: 0;padding: 0.3em;box-sizing: border-box;text-align: center;}#sk-container-id-1 label.sk-toggleable__label-arrow:before {content: \"▸\";float: left;margin-right: 0.25em;color: #696969;}#sk-container-id-1 label.sk-toggleable__label-arrow:hover:before {color: black;}#sk-container-id-1 div.sk-estimator:hover label.sk-toggleable__label-arrow:before {color: black;}#sk-container-id-1 div.sk-toggleable__content {max-height: 0;max-width: 0;overflow: hidden;text-align: left;background-color: #f0f8ff;}#sk-container-id-1 div.sk-toggleable__content pre {margin: 0.2em;color: black;border-radius: 0.25em;background-color: #f0f8ff;}#sk-container-id-1 input.sk-toggleable__control:checked~div.sk-toggleable__content {max-height: 200px;max-width: 100%;overflow: auto;}#sk-container-id-1 input.sk-toggleable__control:checked~label.sk-toggleable__label-arrow:before {content: \"▾\";}#sk-container-id-1 div.sk-estimator input.sk-toggleable__control:checked~label.sk-toggleable__label {background-color: #d4ebff;}#sk-container-id-1 div.sk-label input.sk-toggleable__control:checked~label.sk-toggleable__label {background-color: #d4ebff;}#sk-container-id-1 input.sk-hidden--visually {border: 0;clip: rect(1px 1px 1px 1px);clip: rect(1px, 1px, 1px, 1px);height: 1px;margin: -1px;overflow: hidden;padding: 0;position: absolute;width: 1px;}#sk-container-id-1 div.sk-estimator {font-family: monospace;background-color: #f0f8ff;border: 1px dotted black;border-radius: 0.25em;box-sizing: border-box;margin-bottom: 0.5em;}#sk-container-id-1 div.sk-estimator:hover {background-color: #d4ebff;}#sk-container-id-1 div.sk-parallel-item::after {content: \"\";width: 100%;border-bottom: 1px solid gray;flex-grow: 1;}#sk-container-id-1 div.sk-label:hover label.sk-toggleable__label {background-color: #d4ebff;}#sk-container-id-1 div.sk-serial::before {content: \"\";position: absolute;border-left: 1px solid gray;box-sizing: border-box;top: 0;bottom: 0;left: 50%;z-index: 0;}#sk-container-id-1 div.sk-serial {display: flex;flex-direction: column;align-items: center;background-color: white;padding-right: 0.2em;padding-left: 0.2em;position: relative;}#sk-container-id-1 div.sk-item {position: relative;z-index: 1;}#sk-container-id-1 div.sk-parallel {display: flex;align-items: stretch;justify-content: center;background-color: white;position: relative;}#sk-container-id-1 div.sk-item::before, #sk-container-id-1 div.sk-parallel-item::before {content: \"\";position: absolute;border-left: 1px solid gray;box-sizing: border-box;top: 0;bottom: 0;left: 50%;z-index: -1;}#sk-container-id-1 div.sk-parallel-item {display: flex;flex-direction: column;z-index: 1;position: relative;background-color: white;}#sk-container-id-1 div.sk-parallel-item:first-child::after {align-self: flex-end;width: 50%;}#sk-container-id-1 div.sk-parallel-item:last-child::after {align-self: flex-start;width: 50%;}#sk-container-id-1 div.sk-parallel-item:only-child::after {width: 0;}#sk-container-id-1 div.sk-dashed-wrapped {border: 1px dashed gray;margin: 0 0.4em 0.5em 0.4em;box-sizing: border-box;padding-bottom: 0.4em;background-color: white;}#sk-container-id-1 div.sk-label label {font-family: monospace;font-weight: bold;display: inline-block;line-height: 1.2em;}#sk-container-id-1 div.sk-label-container {text-align: center;}#sk-container-id-1 div.sk-container {/* jupyter's `normalize.less` sets `[hidden] { display: none; }` but bootstrap.min.css set `[hidden] { display: none !important; }` so we also need the `!important` here to be able to override the default hidden behavior on the sphinx rendered scikit-learn.org. See: https://github.com/scikit-learn/scikit-learn/issues/21755 */display: inline-block !important;position: relative;}#sk-container-id-1 div.sk-text-repr-fallback {display: none;}</style><div id=\"sk-container-id-1\" class=\"sk-top-container\"><div class=\"sk-text-repr-fallback\"><pre>LGBMRegressor(n_estimators=1000, random_state=777)</pre><b>In a Jupyter environment, please rerun this cell to show the HTML representation or trust the notebook. <br />On GitHub, the HTML representation is unable to render, please try loading this page with nbviewer.org.</b></div><div class=\"sk-container\" hidden><div class=\"sk-item\"><div class=\"sk-estimator sk-toggleable\"><input class=\"sk-toggleable__control sk-hidden--visually\" id=\"sk-estimator-id-1\" type=\"checkbox\" checked><label for=\"sk-estimator-id-1\" class=\"sk-toggleable__label sk-toggleable__label-arrow\">LGBMRegressor</label><div class=\"sk-toggleable__content\"><pre>LGBMRegressor(n_estimators=1000, random_state=777)</pre></div></div></div></div></div>"
            ]
          },
          "metadata": {},
          "execution_count": 32
        }
      ]
    },
    {
      "cell_type": "code",
      "source": [
        "singleLGBM = submission.copy()"
      ],
      "metadata": {
        "id": "0GFN4afQn7ib"
      },
      "execution_count": null,
      "outputs": []
    },
    {
      "cell_type": "code",
      "source": [
        "singleLGBM.head()"
      ],
      "metadata": {
        "colab": {
          "base_uri": "https://localhost:8080/",
          "height": 206
        },
        "id": "FbK2s4Pmn_kq",
        "outputId": "3c877f7a-6d99-4e75-f50b-05d42b5ad1a7"
      },
      "execution_count": null,
      "outputs": [
        {
          "output_type": "execute_result",
          "data": {
            "text/plain": [
              "         title   box_off_num\n",
              "0       용서는 없다  2.817995e+06\n",
              "1  아빠가 여자를 좋아해  3.753772e+05\n",
              "2          하모니 -5.693243e+05\n",
              "3          의형제  1.581189e+06\n",
              "4        평행 이론 -5.277806e+05"
            ],
            "text/html": [
              "\n",
              "  <div id=\"df-dd4e6593-7fa2-47a7-a43a-0aec3cb186b6\">\n",
              "    <div class=\"colab-df-container\">\n",
              "      <div>\n",
              "<style scoped>\n",
              "    .dataframe tbody tr th:only-of-type {\n",
              "        vertical-align: middle;\n",
              "    }\n",
              "\n",
              "    .dataframe tbody tr th {\n",
              "        vertical-align: top;\n",
              "    }\n",
              "\n",
              "    .dataframe thead th {\n",
              "        text-align: right;\n",
              "    }\n",
              "</style>\n",
              "<table border=\"1\" class=\"dataframe\">\n",
              "  <thead>\n",
              "    <tr style=\"text-align: right;\">\n",
              "      <th></th>\n",
              "      <th>title</th>\n",
              "      <th>box_off_num</th>\n",
              "    </tr>\n",
              "  </thead>\n",
              "  <tbody>\n",
              "    <tr>\n",
              "      <th>0</th>\n",
              "      <td>용서는 없다</td>\n",
              "      <td>2.817995e+06</td>\n",
              "    </tr>\n",
              "    <tr>\n",
              "      <th>1</th>\n",
              "      <td>아빠가 여자를 좋아해</td>\n",
              "      <td>3.753772e+05</td>\n",
              "    </tr>\n",
              "    <tr>\n",
              "      <th>2</th>\n",
              "      <td>하모니</td>\n",
              "      <td>-5.693243e+05</td>\n",
              "    </tr>\n",
              "    <tr>\n",
              "      <th>3</th>\n",
              "      <td>의형제</td>\n",
              "      <td>1.581189e+06</td>\n",
              "    </tr>\n",
              "    <tr>\n",
              "      <th>4</th>\n",
              "      <td>평행 이론</td>\n",
              "      <td>-5.277806e+05</td>\n",
              "    </tr>\n",
              "  </tbody>\n",
              "</table>\n",
              "</div>\n",
              "      <button class=\"colab-df-convert\" onclick=\"convertToInteractive('df-dd4e6593-7fa2-47a7-a43a-0aec3cb186b6')\"\n",
              "              title=\"Convert this dataframe to an interactive table.\"\n",
              "              style=\"display:none;\">\n",
              "        \n",
              "  <svg xmlns=\"http://www.w3.org/2000/svg\" height=\"24px\"viewBox=\"0 0 24 24\"\n",
              "       width=\"24px\">\n",
              "    <path d=\"M0 0h24v24H0V0z\" fill=\"none\"/>\n",
              "    <path d=\"M18.56 5.44l.94 2.06.94-2.06 2.06-.94-2.06-.94-.94-2.06-.94 2.06-2.06.94zm-11 1L8.5 8.5l.94-2.06 2.06-.94-2.06-.94L8.5 2.5l-.94 2.06-2.06.94zm10 10l.94 2.06.94-2.06 2.06-.94-2.06-.94-.94-2.06-.94 2.06-2.06.94z\"/><path d=\"M17.41 7.96l-1.37-1.37c-.4-.4-.92-.59-1.43-.59-.52 0-1.04.2-1.43.59L10.3 9.45l-7.72 7.72c-.78.78-.78 2.05 0 2.83L4 21.41c.39.39.9.59 1.41.59.51 0 1.02-.2 1.41-.59l7.78-7.78 2.81-2.81c.8-.78.8-2.07 0-2.86zM5.41 20L4 18.59l7.72-7.72 1.47 1.35L5.41 20z\"/>\n",
              "  </svg>\n",
              "      </button>\n",
              "      \n",
              "  <style>\n",
              "    .colab-df-container {\n",
              "      display:flex;\n",
              "      flex-wrap:wrap;\n",
              "      gap: 12px;\n",
              "    }\n",
              "\n",
              "    .colab-df-convert {\n",
              "      background-color: #E8F0FE;\n",
              "      border: none;\n",
              "      border-radius: 50%;\n",
              "      cursor: pointer;\n",
              "      display: none;\n",
              "      fill: #1967D2;\n",
              "      height: 32px;\n",
              "      padding: 0 0 0 0;\n",
              "      width: 32px;\n",
              "    }\n",
              "\n",
              "    .colab-df-convert:hover {\n",
              "      background-color: #E2EBFA;\n",
              "      box-shadow: 0px 1px 2px rgba(60, 64, 67, 0.3), 0px 1px 3px 1px rgba(60, 64, 67, 0.15);\n",
              "      fill: #174EA6;\n",
              "    }\n",
              "\n",
              "    [theme=dark] .colab-df-convert {\n",
              "      background-color: #3B4455;\n",
              "      fill: #D2E3FC;\n",
              "    }\n",
              "\n",
              "    [theme=dark] .colab-df-convert:hover {\n",
              "      background-color: #434B5C;\n",
              "      box-shadow: 0px 1px 3px 1px rgba(0, 0, 0, 0.15);\n",
              "      filter: drop-shadow(0px 1px 2px rgba(0, 0, 0, 0.3));\n",
              "      fill: #FFFFFF;\n",
              "    }\n",
              "  </style>\n",
              "\n",
              "      <script>\n",
              "        const buttonEl =\n",
              "          document.querySelector('#df-dd4e6593-7fa2-47a7-a43a-0aec3cb186b6 button.colab-df-convert');\n",
              "        buttonEl.style.display =\n",
              "          google.colab.kernel.accessAllowed ? 'block' : 'none';\n",
              "\n",
              "        async function convertToInteractive(key) {\n",
              "          const element = document.querySelector('#df-dd4e6593-7fa2-47a7-a43a-0aec3cb186b6');\n",
              "          const dataTable =\n",
              "            await google.colab.kernel.invokeFunction('convertToInteractive',\n",
              "                                                     [key], {});\n",
              "          if (!dataTable) return;\n",
              "\n",
              "          const docLinkHtml = 'Like what you see? Visit the ' +\n",
              "            '<a target=\"_blank\" href=https://colab.research.google.com/notebooks/data_table.ipynb>data table notebook</a>'\n",
              "            + ' to learn more about interactive tables.';\n",
              "          element.innerHTML = '';\n",
              "          dataTable['output_type'] = 'display_data';\n",
              "          await google.colab.output.renderOutput(dataTable, element);\n",
              "          const docLink = document.createElement('div');\n",
              "          docLink.innerHTML = docLinkHtml;\n",
              "          element.appendChild(docLink);\n",
              "        }\n",
              "      </script>\n",
              "    </div>\n",
              "  </div>\n",
              "  "
            ]
          },
          "metadata": {},
          "execution_count": 36
        }
      ]
    },
    {
      "cell_type": "code",
      "source": [
        "singleLGBM['box_off_num'] = model.predict(X_test)"
      ],
      "metadata": {
        "id": "gnfHqNVmoJE8"
      },
      "execution_count": null,
      "outputs": []
    },
    {
      "cell_type": "code",
      "source": [
        "singleLGBM.to_csv('singleLGBM.csv', index = False) #답안지 일단 저장"
      ],
      "metadata": {
        "id": "4z16xeotoSXj"
      },
      "execution_count": null,
      "outputs": []
    },
    {
      "cell_type": "markdown",
      "metadata": {
        "id": "eVUokVnW1VxK"
      },
      "source": [
        "## k-fold 교차검증 (k-fold cross validation)"
      ]
    },
    {
      "cell_type": "markdown",
      "metadata": {
        "id": "5zEBI-9Y1VxL"
      },
      "source": [
        "- 과대적합 방지\n",
        "- 모델 간 일반적인 성능 비교\n",
        "- (초록색부분) validation set, development set "
      ]
    },
    {
      "cell_type": "markdown",
      "metadata": {
        "id": "7Iq7W8AP1VxL"
      },
      "source": [
        "![교차검증](https://mblogthumb-phinf.pstatic.net/MjAxOTA3MjVfMTYz/MDAxNTY0MDY1ODk4NTM0.HiTh5fw3_Fulbq6dv1iLrxS7EmEM4htsWC-5fh-TiGAg.5rbp2nHtWYOZvzoN-Kl4mCKF4nZ4rd5bmO_IDh-sieAg.PNG.ckdgus1433/image.png?type=w800)"
      ]
    },
    {
      "cell_type": "code",
      "metadata": {
        "id": "Hp6b2WeM1VxM"
      },
      "source": [
        "from sklearn.model_selection import KFold"
      ],
      "execution_count": null,
      "outputs": []
    },
    {
      "cell_type": "code",
      "source": [
        "k_fold = KFold(n_splits=5, shuffle= True, random_state=777) #데이터 순번을 섞어서(Shuffling)"
      ],
      "metadata": {
        "id": "S_pXKcZlpbEv"
      },
      "execution_count": null,
      "outputs": []
    },
    {
      "cell_type": "code",
      "source": [
        "for train_idx, val_idx in k_fold.split(X_train):\n",
        "  print(len(train_idx), len(val_idx))\n",
        "  break"
      ],
      "metadata": {
        "colab": {
          "base_uri": "https://localhost:8080/"
        },
        "id": "DLU7e_hWrGXk",
        "outputId": "79f1297e-ea98-4c72-e845-5bd48326d468"
      },
      "execution_count": null,
      "outputs": [
        {
          "output_type": "stream",
          "name": "stdout",
          "text": [
            "480 120\n"
          ]
        }
      ]
    },
    {
      "cell_type": "code",
      "source": [
        "model = lgb.LGBMRegressor(random_state=777, n_estimators = 1000)\n",
        "\n",
        "models = []\n",
        "\n",
        "for train_idx, val_idx in k_fold.split(X_train):\n",
        "  x_t = X_train.iloc[train_idx]\n",
        "  y_t = y_train.iloc[train_idx]\n",
        "  x_val = X_train.iloc[val_idx]\n",
        "  y_val = y_train.iloc[val_idx]\n",
        "\n",
        "  models.append(model.fit(x_t, y_t, eval_set = (x_val, y_val), early_stopping_rounds = 100, verbose = 100))\n",
        "  #early stopping rounds : 순차과정에서 너무 오래하면 과적합됨-> 초록색 부분 덕분에 중간중간에 멈출 수 있음.\n",
        "  #verbose: 몇번째 모델마다 모델의 성능값을 출력해달라는 의미."
      ],
      "metadata": {
        "colab": {
          "base_uri": "https://localhost:8080/"
        },
        "id": "_ZaMVJQ0p0Xk",
        "outputId": "2cb3270a-cb64-40a1-b63d-874c6704162b"
      },
      "execution_count": null,
      "outputs": [
        {
          "output_type": "stream",
          "name": "stdout",
          "text": [
            "[100]\tvalid_0's l2: 2.70572e+12\n",
            "[100]\tvalid_0's l2: 3.90847e+12\n",
            "[100]\tvalid_0's l2: 3.50344e+12\n",
            "[100]\tvalid_0's l2: 1.45977e+12\n",
            "[100]\tvalid_0's l2: 1.77214e+12\n"
          ]
        },
        {
          "output_type": "stream",
          "name": "stderr",
          "text": [
            "/usr/local/lib/python3.9/dist-packages/lightgbm/sklearn.py:726: UserWarning: 'early_stopping_rounds' argument is deprecated and will be removed in a future release of LightGBM. Pass 'early_stopping()' callback via 'callbacks' argument instead.\n",
            "  _log_warning(\"'early_stopping_rounds' argument is deprecated and will be removed in a future release of LightGBM. \"\n",
            "/usr/local/lib/python3.9/dist-packages/lightgbm/sklearn.py:736: UserWarning: 'verbose' argument is deprecated and will be removed in a future release of LightGBM. Pass 'log_evaluation()' callback via 'callbacks' argument instead.\n",
            "  _log_warning(\"'verbose' argument is deprecated and will be removed in a future release of LightGBM. \"\n"
          ]
        }
      ]
    },
    {
      "cell_type": "code",
      "source": [
        "models"
      ],
      "metadata": {
        "colab": {
          "base_uri": "https://localhost:8080/"
        },
        "id": "h11tF-KDrtOs",
        "outputId": "bd7332a9-5d91-4b29-aa36-842f162d3e9d"
      },
      "execution_count": null,
      "outputs": [
        {
          "output_type": "execute_result",
          "data": {
            "text/plain": [
              "[LGBMRegressor(n_estimators=1000, random_state=777),\n",
              " LGBMRegressor(n_estimators=1000, random_state=777),\n",
              " LGBMRegressor(n_estimators=1000, random_state=777),\n",
              " LGBMRegressor(n_estimators=1000, random_state=777),\n",
              " LGBMRegressor(n_estimators=1000, random_state=777)]"
            ]
          },
          "metadata": {},
          "execution_count": 42
        }
      ]
    },
    {
      "cell_type": "code",
      "source": [
        "preds=[]\n",
        "for model in models:\n",
        "  preds.append(model.predict(X_test))\n",
        "len(preds) #저장해주기"
      ],
      "metadata": {
        "colab": {
          "base_uri": "https://localhost:8080/"
        },
        "id": "LMRJZlQ3rbJe",
        "outputId": "62a43e68-4604-4882-cf64-a38b5249412b"
      },
      "execution_count": null,
      "outputs": [
        {
          "output_type": "execute_result",
          "data": {
            "text/plain": [
              "5"
            ]
          },
          "metadata": {},
          "execution_count": 43
        }
      ]
    },
    {
      "cell_type": "code",
      "source": [
        "preds"
      ],
      "metadata": {
        "id": "QdHPfLS8sNj8"
      },
      "execution_count": null,
      "outputs": []
    },
    {
      "cell_type": "code",
      "source": [
        "import numpy as np"
      ],
      "metadata": {
        "id": "3OdwSJwxsAON"
      },
      "execution_count": null,
      "outputs": []
    },
    {
      "cell_type": "code",
      "source": [
        "kfoldLightGBM = submission.copy()"
      ],
      "metadata": {
        "id": "NA2jJsHLr_cG"
      },
      "execution_count": null,
      "outputs": []
    },
    {
      "cell_type": "code",
      "source": [
        "kfoldLightGBM['box_off_num'] = np.mean(preds, axis = 0)"
      ],
      "metadata": {
        "id": "oSWPifRusDlh"
      },
      "execution_count": null,
      "outputs": []
    },
    {
      "cell_type": "code",
      "source": [
        "kfoldLightGBM.to_csv('kfoldLightGBM.csv',index = False)"
      ],
      "metadata": {
        "id": "gOwsdZ9Ys4gk"
      },
      "execution_count": null,
      "outputs": []
    },
    {
      "cell_type": "markdown",
      "metadata": {
        "id": "4EyOb4QV1Vxv"
      },
      "source": [
        "## feature engineering"
      ]
    },
    {
      "cell_type": "code",
      "metadata": {
        "id": "hycnqOHOmhBd",
        "colab": {
          "base_uri": "https://localhost:8080/"
        },
        "outputId": "c5904d82-01c8-4e8f-d877-9c48cfec2320"
      },
      "source": [
        "features"
      ],
      "execution_count": null,
      "outputs": [
        {
          "output_type": "execute_result",
          "data": {
            "text/plain": [
              "['time', 'dir_prev_num', 'num_staff', 'num_actor']"
            ]
          },
          "metadata": {},
          "execution_count": 53
        }
      ]
    },
    {
      "cell_type": "code",
      "metadata": {
        "id": "lwZKXXYImhI-",
        "colab": {
          "base_uri": "https://localhost:8080/"
        },
        "outputId": "1df61ecf-114a-442a-9c79-a67957880087"
      },
      "source": [
        "train.columns"
      ],
      "execution_count": null,
      "outputs": [
        {
          "output_type": "execute_result",
          "data": {
            "text/plain": [
              "Index(['title', 'distributor', 'genre', 'release_time', 'time',\n",
              "       'screening_rat', 'director', 'dir_prev_bfnum', 'dir_prev_num',\n",
              "       'num_staff', 'num_actor', 'box_off_num'],\n",
              "      dtype='object')"
            ]
          },
          "metadata": {},
          "execution_count": 54
        }
      ]
    },
    {
      "cell_type": "code",
      "metadata": {
        "id": "NRFW0QmPmhM0",
        "colab": {
          "base_uri": "https://localhost:8080/"
        },
        "outputId": "d23527b1-c368-4623-aa28-e8ba619e10cf"
      },
      "source": [
        "train.genre"
      ],
      "execution_count": null,
      "outputs": [
        {
          "output_type": "execute_result",
          "data": {
            "text/plain": [
              "0       액션\n",
              "1      느와르\n",
              "2       액션\n",
              "3      코미디\n",
              "4      코미디\n",
              "      ... \n",
              "595    드라마\n",
              "596    드라마\n",
              "597     공포\n",
              "598    느와르\n",
              "599     액션\n",
              "Name: genre, Length: 600, dtype: object"
            ]
          },
          "metadata": {},
          "execution_count": 55
        }
      ]
    },
    {
      "cell_type": "code",
      "metadata": {
        "id": "T4OSUenEmhQK"
      },
      "source": [
        "from sklearn import preprocessing\n",
        "le = preprocessing.LabelEncoder()\n",
        "train['genre'] = le.fit_transform(train['genre'])  #장르 값들을 다 숫자로 변환"
      ],
      "execution_count": null,
      "outputs": []
    },
    {
      "cell_type": "code",
      "metadata": {
        "id": "WGIfzeQEmhTM",
        "colab": {
          "base_uri": "https://localhost:8080/"
        },
        "outputId": "92096f13-7d1a-46e2-ddeb-44129ae76fd7"
      },
      "source": [
        "train['genre']"
      ],
      "execution_count": null,
      "outputs": [
        {
          "output_type": "execute_result",
          "data": {
            "text/plain": [
              "0      10\n",
              "1       2\n",
              "2      10\n",
              "3      11\n",
              "4      11\n",
              "       ..\n",
              "595     4\n",
              "596     4\n",
              "597     1\n",
              "598     2\n",
              "599    10\n",
              "Name: genre, Length: 600, dtype: int64"
            ]
          },
          "metadata": {},
          "execution_count": 57
        }
      ]
    },
    {
      "cell_type": "code",
      "metadata": {
        "id": "HUiWVV2TmhWj"
      },
      "source": [
        "test['genre'] = le.transform(test['genre'])"
      ],
      "execution_count": null,
      "outputs": []
    },
    {
      "cell_type": "code",
      "metadata": {
        "id": "7BxEAzntmhZ7"
      },
      "source": [
        "features = ['time','dir_prev_num','num_staff', 'num_actor','dir_prev_bfnum','genre']"
      ],
      "execution_count": null,
      "outputs": []
    },
    {
      "cell_type": "code",
      "source": [
        "model = lgb.LGBMRegressor(random_state=777, n_estimators = 1000)\n",
        "\n",
        "models = []\n",
        "\n",
        "for train_idx, val_idx in k_fold.split(X_train):\n",
        "  x_t = X_train.iloc[train_idx]\n",
        "  y_t = y_train.iloc[train_idx]\n",
        "  x_val = X_train.iloc[val_idx]\n",
        "  y_val = y_train.iloc[val_idx]\n",
        "\n",
        "  models.append(model.fit(x_t, y_t, eval_set = (x_val, y_val), early_stopping_rounds = 100, verbose = 100))\n",
        "  "
      ],
      "metadata": {
        "colab": {
          "base_uri": "https://localhost:8080/"
        },
        "id": "_4TmdfZLuAaf",
        "outputId": "0cc90043-545d-475f-b800-9b62d77c6bac"
      },
      "execution_count": null,
      "outputs": [
        {
          "output_type": "stream",
          "name": "stderr",
          "text": [
            "/usr/local/lib/python3.9/dist-packages/lightgbm/sklearn.py:726: UserWarning: 'early_stopping_rounds' argument is deprecated and will be removed in a future release of LightGBM. Pass 'early_stopping()' callback via 'callbacks' argument instead.\n",
            "  _log_warning(\"'early_stopping_rounds' argument is deprecated and will be removed in a future release of LightGBM. \"\n",
            "/usr/local/lib/python3.9/dist-packages/lightgbm/sklearn.py:736: UserWarning: 'verbose' argument is deprecated and will be removed in a future release of LightGBM. Pass 'log_evaluation()' callback via 'callbacks' argument instead.\n",
            "  _log_warning(\"'verbose' argument is deprecated and will be removed in a future release of LightGBM. \"\n"
          ]
        },
        {
          "output_type": "stream",
          "name": "stdout",
          "text": [
            "[100]\tvalid_0's l2: 2.70572e+12\n",
            "[100]\tvalid_0's l2: 3.90847e+12\n",
            "[100]\tvalid_0's l2: 3.50344e+12\n",
            "[100]\tvalid_0's l2: 1.45977e+12\n",
            "[100]\tvalid_0's l2: 1.77214e+12\n"
          ]
        }
      ]
    },
    {
      "cell_type": "code",
      "source": [
        "preds=[]\n",
        "for model in models:\n",
        "  preds.append(model.predict(X_test))\n",
        "len(preds) #예측까지 똑같이 반복!"
      ],
      "metadata": {
        "colab": {
          "base_uri": "https://localhost:8080/"
        },
        "id": "yH1m0DosuK8x",
        "outputId": "41126d7b-f585-4ca6-ec48-0c64ac832e54"
      },
      "execution_count": null,
      "outputs": [
        {
          "output_type": "execute_result",
          "data": {
            "text/plain": [
              "5"
            ]
          },
          "metadata": {},
          "execution_count": 61
        }
      ]
    },
    {
      "cell_type": "code",
      "source": [
        "X_test"
      ],
      "metadata": {
        "colab": {
          "base_uri": "https://localhost:8080/",
          "height": 423
        },
        "id": "xklUPHbmuRaz",
        "outputId": "0bb75674-7228-46fd-8853-c851c721610a"
      },
      "execution_count": null,
      "outputs": [
        {
          "output_type": "execute_result",
          "data": {
            "text/plain": [
              "     time  dir_prev_num  num_staff  num_actor\n",
              "0     125             2        304          3\n",
              "1     113             4        275          3\n",
              "2     115             3        419          7\n",
              "3     116             2        408          2\n",
              "4     110             1        380          1\n",
              "..    ...           ...        ...        ...\n",
              "238    78             1          4          4\n",
              "239    86             0         18          2\n",
              "240   107             0        224          4\n",
              "241   102             1         68          7\n",
              "242    76             0         10          4\n",
              "\n",
              "[243 rows x 4 columns]"
            ],
            "text/html": [
              "\n",
              "  <div id=\"df-54e2dc2f-7560-4faa-94f2-0e5816e7e22b\">\n",
              "    <div class=\"colab-df-container\">\n",
              "      <div>\n",
              "<style scoped>\n",
              "    .dataframe tbody tr th:only-of-type {\n",
              "        vertical-align: middle;\n",
              "    }\n",
              "\n",
              "    .dataframe tbody tr th {\n",
              "        vertical-align: top;\n",
              "    }\n",
              "\n",
              "    .dataframe thead th {\n",
              "        text-align: right;\n",
              "    }\n",
              "</style>\n",
              "<table border=\"1\" class=\"dataframe\">\n",
              "  <thead>\n",
              "    <tr style=\"text-align: right;\">\n",
              "      <th></th>\n",
              "      <th>time</th>\n",
              "      <th>dir_prev_num</th>\n",
              "      <th>num_staff</th>\n",
              "      <th>num_actor</th>\n",
              "    </tr>\n",
              "  </thead>\n",
              "  <tbody>\n",
              "    <tr>\n",
              "      <th>0</th>\n",
              "      <td>125</td>\n",
              "      <td>2</td>\n",
              "      <td>304</td>\n",
              "      <td>3</td>\n",
              "    </tr>\n",
              "    <tr>\n",
              "      <th>1</th>\n",
              "      <td>113</td>\n",
              "      <td>4</td>\n",
              "      <td>275</td>\n",
              "      <td>3</td>\n",
              "    </tr>\n",
              "    <tr>\n",
              "      <th>2</th>\n",
              "      <td>115</td>\n",
              "      <td>3</td>\n",
              "      <td>419</td>\n",
              "      <td>7</td>\n",
              "    </tr>\n",
              "    <tr>\n",
              "      <th>3</th>\n",
              "      <td>116</td>\n",
              "      <td>2</td>\n",
              "      <td>408</td>\n",
              "      <td>2</td>\n",
              "    </tr>\n",
              "    <tr>\n",
              "      <th>4</th>\n",
              "      <td>110</td>\n",
              "      <td>1</td>\n",
              "      <td>380</td>\n",
              "      <td>1</td>\n",
              "    </tr>\n",
              "    <tr>\n",
              "      <th>...</th>\n",
              "      <td>...</td>\n",
              "      <td>...</td>\n",
              "      <td>...</td>\n",
              "      <td>...</td>\n",
              "    </tr>\n",
              "    <tr>\n",
              "      <th>238</th>\n",
              "      <td>78</td>\n",
              "      <td>1</td>\n",
              "      <td>4</td>\n",
              "      <td>4</td>\n",
              "    </tr>\n",
              "    <tr>\n",
              "      <th>239</th>\n",
              "      <td>86</td>\n",
              "      <td>0</td>\n",
              "      <td>18</td>\n",
              "      <td>2</td>\n",
              "    </tr>\n",
              "    <tr>\n",
              "      <th>240</th>\n",
              "      <td>107</td>\n",
              "      <td>0</td>\n",
              "      <td>224</td>\n",
              "      <td>4</td>\n",
              "    </tr>\n",
              "    <tr>\n",
              "      <th>241</th>\n",
              "      <td>102</td>\n",
              "      <td>1</td>\n",
              "      <td>68</td>\n",
              "      <td>7</td>\n",
              "    </tr>\n",
              "    <tr>\n",
              "      <th>242</th>\n",
              "      <td>76</td>\n",
              "      <td>0</td>\n",
              "      <td>10</td>\n",
              "      <td>4</td>\n",
              "    </tr>\n",
              "  </tbody>\n",
              "</table>\n",
              "<p>243 rows × 4 columns</p>\n",
              "</div>\n",
              "      <button class=\"colab-df-convert\" onclick=\"convertToInteractive('df-54e2dc2f-7560-4faa-94f2-0e5816e7e22b')\"\n",
              "              title=\"Convert this dataframe to an interactive table.\"\n",
              "              style=\"display:none;\">\n",
              "        \n",
              "  <svg xmlns=\"http://www.w3.org/2000/svg\" height=\"24px\"viewBox=\"0 0 24 24\"\n",
              "       width=\"24px\">\n",
              "    <path d=\"M0 0h24v24H0V0z\" fill=\"none\"/>\n",
              "    <path d=\"M18.56 5.44l.94 2.06.94-2.06 2.06-.94-2.06-.94-.94-2.06-.94 2.06-2.06.94zm-11 1L8.5 8.5l.94-2.06 2.06-.94-2.06-.94L8.5 2.5l-.94 2.06-2.06.94zm10 10l.94 2.06.94-2.06 2.06-.94-2.06-.94-.94-2.06-.94 2.06-2.06.94z\"/><path d=\"M17.41 7.96l-1.37-1.37c-.4-.4-.92-.59-1.43-.59-.52 0-1.04.2-1.43.59L10.3 9.45l-7.72 7.72c-.78.78-.78 2.05 0 2.83L4 21.41c.39.39.9.59 1.41.59.51 0 1.02-.2 1.41-.59l7.78-7.78 2.81-2.81c.8-.78.8-2.07 0-2.86zM5.41 20L4 18.59l7.72-7.72 1.47 1.35L5.41 20z\"/>\n",
              "  </svg>\n",
              "      </button>\n",
              "      \n",
              "  <style>\n",
              "    .colab-df-container {\n",
              "      display:flex;\n",
              "      flex-wrap:wrap;\n",
              "      gap: 12px;\n",
              "    }\n",
              "\n",
              "    .colab-df-convert {\n",
              "      background-color: #E8F0FE;\n",
              "      border: none;\n",
              "      border-radius: 50%;\n",
              "      cursor: pointer;\n",
              "      display: none;\n",
              "      fill: #1967D2;\n",
              "      height: 32px;\n",
              "      padding: 0 0 0 0;\n",
              "      width: 32px;\n",
              "    }\n",
              "\n",
              "    .colab-df-convert:hover {\n",
              "      background-color: #E2EBFA;\n",
              "      box-shadow: 0px 1px 2px rgba(60, 64, 67, 0.3), 0px 1px 3px 1px rgba(60, 64, 67, 0.15);\n",
              "      fill: #174EA6;\n",
              "    }\n",
              "\n",
              "    [theme=dark] .colab-df-convert {\n",
              "      background-color: #3B4455;\n",
              "      fill: #D2E3FC;\n",
              "    }\n",
              "\n",
              "    [theme=dark] .colab-df-convert:hover {\n",
              "      background-color: #434B5C;\n",
              "      box-shadow: 0px 1px 3px 1px rgba(0, 0, 0, 0.15);\n",
              "      filter: drop-shadow(0px 1px 2px rgba(0, 0, 0, 0.3));\n",
              "      fill: #FFFFFF;\n",
              "    }\n",
              "  </style>\n",
              "\n",
              "      <script>\n",
              "        const buttonEl =\n",
              "          document.querySelector('#df-54e2dc2f-7560-4faa-94f2-0e5816e7e22b button.colab-df-convert');\n",
              "        buttonEl.style.display =\n",
              "          google.colab.kernel.accessAllowed ? 'block' : 'none';\n",
              "\n",
              "        async function convertToInteractive(key) {\n",
              "          const element = document.querySelector('#df-54e2dc2f-7560-4faa-94f2-0e5816e7e22b');\n",
              "          const dataTable =\n",
              "            await google.colab.kernel.invokeFunction('convertToInteractive',\n",
              "                                                     [key], {});\n",
              "          if (!dataTable) return;\n",
              "\n",
              "          const docLinkHtml = 'Like what you see? Visit the ' +\n",
              "            '<a target=\"_blank\" href=https://colab.research.google.com/notebooks/data_table.ipynb>data table notebook</a>'\n",
              "            + ' to learn more about interactive tables.';\n",
              "          element.innerHTML = '';\n",
              "          dataTable['output_type'] = 'display_data';\n",
              "          await google.colab.output.renderOutput(dataTable, element);\n",
              "          const docLink = document.createElement('div');\n",
              "          docLink.innerHTML = docLinkHtml;\n",
              "          element.appendChild(docLink);\n",
              "        }\n",
              "      </script>\n",
              "    </div>\n",
              "  </div>\n",
              "  "
            ]
          },
          "metadata": {},
          "execution_count": 62
        }
      ]
    },
    {
      "cell_type": "code",
      "source": [
        "feLightGBM = submission.copy()\n",
        "feLightGBM['box_off_num'] = np.mean(preds, axis = 0)\n",
        "feLightGBM.to_csv('feLightGBM.csv',index = False)"
      ],
      "metadata": {
        "id": "I0CbBrrouf1-"
      },
      "execution_count": null,
      "outputs": []
    },
    {
      "cell_type": "code",
      "metadata": {
        "id": "Vzo1SGQA1Vx9"
      },
      "source": [
        "# ?? from sklearn import preprocessing\n"
      ],
      "execution_count": null,
      "outputs": []
    },
    {
      "cell_type": "markdown",
      "metadata": {
        "id": "F7HK_oqN1Vyi"
      },
      "source": [
        "## Grid Search"
      ]
    },
    {
      "cell_type": "markdown",
      "metadata": {
        "id": "0-9OuESR1Vyj"
      },
      "source": [
        "![그리드서치](https://trello-attachments.s3.amazonaws.com/5e0d387cd4f8ba5e8f790d8b/5e634450ee4a88284a40a05a/3e9490f6010aa32e74bfde07398ac603/image.png)"
      ]
    },
    {
      "cell_type": "code",
      "metadata": {
        "id": "gipiMf0C1Vyk"
      },
      "source": [
        "from sklearn.model_selection import GridSearchCV"
      ],
      "execution_count": null,
      "outputs": []
    },
    {
      "cell_type": "code",
      "source": [],
      "metadata": {
        "id": "SeJzSJuIuzQN"
      },
      "execution_count": null,
      "outputs": []
    },
    {
      "cell_type": "markdown",
      "metadata": {
        "id": "3BNtFKiZ2ln6"
      },
      "source": [
        "## 6. 결과 및 결언\n",
        "## Conclusion & Discussion"
      ]
    },
    {
      "cell_type": "code",
      "metadata": {
        "id": "NMEdF_8z2ln7"
      },
      "source": [],
      "execution_count": null,
      "outputs": []
    }
  ]
}