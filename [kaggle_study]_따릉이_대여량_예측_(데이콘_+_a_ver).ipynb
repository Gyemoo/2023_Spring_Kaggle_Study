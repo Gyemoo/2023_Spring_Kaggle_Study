{
  "nbformat": 4,
  "nbformat_minor": 0,
  "metadata": {
    "colab": {
      "provenance": [],
      "collapsed_sections": [
        "ydXt2GU2kcGB",
        "J4IAjqOevKXS",
        "cFyZHQhPTznz",
        "fl1YbODemVpH",
        "kB_JGU5KoeVb",
        "lsWBQruCxrsE"
      ],
      "authorship_tag": "ABX9TyOffm5nSMTZaofErFqKC0ey",
      "include_colab_link": true
    },
    "kernelspec": {
      "name": "python3",
      "display_name": "Python 3"
    },
    "language_info": {
      "name": "python"
    }
  },
  "cells": [
    {
      "cell_type": "markdown",
      "metadata": {
        "id": "view-in-github",
        "colab_type": "text"
      },
      "source": [
        "<a href=\"https://colab.research.google.com/github/sejongsmarcle/2023_Spring_Kaggle_Study/blob/main/%5Bkaggle_study%5D_%EB%94%B0%EB%A6%89%EC%9D%B4_%EB%8C%80%EC%97%AC%EB%9F%89_%EC%98%88%EC%B8%A1_(%EB%8D%B0%EC%9D%B4%EC%BD%98_%2B_a_ver).ipynb\" target=\"_parent\"><img src=\"https://colab.research.google.com/assets/colab-badge.svg\" alt=\"Open In Colab\"/></a>"
      ]
    },
    {
      "cell_type": "markdown",
      "source": [
        "# 1. 데이터 준비\n",
        "\n",
        "- 데이터 분석, 전처리, 모델링에 필요한 라이브러리 불러오기\n",
        "  - pandas : df를 분석, 조작하기 위해 필요한 라이브러리\n",
        "  - seaborn : 히트맵, 통계용 차트와 같이 데이터 분석을 시각화하기 위해 필요한 라이브러리\n",
        "  - matplotlib : 그래프를 그리기위한 라이브러리\n",
        "  - RandomForestRegressor : 여러 개의 결정 트리를 임의적으로 학습하는 앙상블의 배깅 유형\n",
        "    - 앙상블 : 여러 가지 우수한 학습 모델을 조합해 예측력을 향상시키는 모델\n",
        "    - 배깅 : 조금씩 서로 다른 훈련 데이터를 생성하여 모델을 생성하고 결과치를 결합하는 방법"
      ],
      "metadata": {
        "id": "ydXt2GU2kcGB"
      }
    },
    {
      "cell_type": "code",
      "execution_count": null,
      "metadata": {
        "id": "zwMxz7ubNukz"
      },
      "outputs": [],
      "source": [
        "import pandas as pd\n",
        "import seaborn as sns\n",
        "import matplotlib.pyplot as plt\n",
        "from sklearn.ensemble import RandomForestRegressor "
      ]
    },
    {
      "cell_type": "code",
      "source": [
        "train = pd.read_csv('/content/train.csv')\n",
        "test = pd.read_csv('/content/test.csv')\n",
        "submission = pd.read_csv('/content/submission.csv')"
      ],
      "metadata": {
        "id": "4ySCqZdEOGEP"
      },
      "execution_count": null,
      "outputs": []
    },
    {
      "cell_type": "code",
      "source": [
        "train.info()"
      ],
      "metadata": {
        "colab": {
          "base_uri": "https://localhost:8080/"
        },
        "id": "RDlmchSKOh1E",
        "outputId": "26a45b5f-424a-44d8-f729-2b0315903210"
      },
      "execution_count": null,
      "outputs": [
        {
          "output_type": "stream",
          "name": "stdout",
          "text": [
            "<class 'pandas.core.frame.DataFrame'>\n",
            "RangeIndex: 1459 entries, 0 to 1458\n",
            "Data columns (total 11 columns):\n",
            " #   Column                  Non-Null Count  Dtype  \n",
            "---  ------                  --------------  -----  \n",
            " 0   id                      1459 non-null   int64  \n",
            " 1   hour                    1459 non-null   int64  \n",
            " 2   hour_bef_temperature    1457 non-null   float64\n",
            " 3   hour_bef_precipitation  1457 non-null   float64\n",
            " 4   hour_bef_windspeed      1450 non-null   float64\n",
            " 5   hour_bef_humidity       1457 non-null   float64\n",
            " 6   hour_bef_visibility     1457 non-null   float64\n",
            " 7   hour_bef_ozone          1383 non-null   float64\n",
            " 8   hour_bef_pm10           1369 non-null   float64\n",
            " 9   hour_bef_pm2.5          1342 non-null   float64\n",
            " 10  count                   1459 non-null   float64\n",
            "dtypes: float64(9), int64(2)\n",
            "memory usage: 125.5 KB\n"
          ]
        }
      ]
    },
    {
      "cell_type": "code",
      "source": [
        "test.info()"
      ],
      "metadata": {
        "colab": {
          "base_uri": "https://localhost:8080/"
        },
        "id": "t934e-pUOjPE",
        "outputId": "2e9d35ce-3f5a-4ac7-dda6-4f57e3ee8d64"
      },
      "execution_count": null,
      "outputs": [
        {
          "output_type": "stream",
          "name": "stdout",
          "text": [
            "<class 'pandas.core.frame.DataFrame'>\n",
            "RangeIndex: 715 entries, 0 to 714\n",
            "Data columns (total 10 columns):\n",
            " #   Column                  Non-Null Count  Dtype  \n",
            "---  ------                  --------------  -----  \n",
            " 0   id                      715 non-null    int64  \n",
            " 1   hour                    715 non-null    int64  \n",
            " 2   hour_bef_temperature    714 non-null    float64\n",
            " 3   hour_bef_precipitation  714 non-null    float64\n",
            " 4   hour_bef_windspeed      714 non-null    float64\n",
            " 5   hour_bef_humidity       714 non-null    float64\n",
            " 6   hour_bef_visibility     714 non-null    float64\n",
            " 7   hour_bef_ozone          680 non-null    float64\n",
            " 8   hour_bef_pm10           678 non-null    float64\n",
            " 9   hour_bef_pm2.5          679 non-null    float64\n",
            "dtypes: float64(8), int64(2)\n",
            "memory usage: 56.0 KB\n"
          ]
        }
      ]
    },
    {
      "cell_type": "code",
      "source": [
        "train.head()"
      ],
      "metadata": {
        "colab": {
          "base_uri": "https://localhost:8080/",
          "height": 270
        },
        "id": "NrXdCQHCOvjJ",
        "outputId": "16a5fe7d-8b1b-43a7-8417-969143cd9da3"
      },
      "execution_count": null,
      "outputs": [
        {
          "output_type": "execute_result",
          "data": {
            "text/plain": [
              "   id  hour  hour_bef_temperature  hour_bef_precipitation  hour_bef_windspeed  \\\n",
              "0   3    20                  16.3                     1.0                 1.5   \n",
              "1   6    13                  20.1                     0.0                 1.4   \n",
              "2   7     6                  13.9                     0.0                 0.7   \n",
              "3   8    23                   8.1                     0.0                 2.7   \n",
              "4   9    18                  29.5                     0.0                 4.8   \n",
              "\n",
              "   hour_bef_humidity  hour_bef_visibility  hour_bef_ozone  hour_bef_pm10  \\\n",
              "0               89.0                576.0           0.027           76.0   \n",
              "1               48.0                916.0           0.042           73.0   \n",
              "2               79.0               1382.0           0.033           32.0   \n",
              "3               54.0                946.0           0.040           75.0   \n",
              "4                7.0               2000.0           0.057           27.0   \n",
              "\n",
              "   hour_bef_pm2.5  count  \n",
              "0            33.0   49.0  \n",
              "1            40.0  159.0  \n",
              "2            19.0   26.0  \n",
              "3            64.0   57.0  \n",
              "4            11.0  431.0  "
            ],
            "text/html": [
              "\n",
              "  <div id=\"df-c8d61101-c110-403d-be10-9fe4e1e52bc7\">\n",
              "    <div class=\"colab-df-container\">\n",
              "      <div>\n",
              "<style scoped>\n",
              "    .dataframe tbody tr th:only-of-type {\n",
              "        vertical-align: middle;\n",
              "    }\n",
              "\n",
              "    .dataframe tbody tr th {\n",
              "        vertical-align: top;\n",
              "    }\n",
              "\n",
              "    .dataframe thead th {\n",
              "        text-align: right;\n",
              "    }\n",
              "</style>\n",
              "<table border=\"1\" class=\"dataframe\">\n",
              "  <thead>\n",
              "    <tr style=\"text-align: right;\">\n",
              "      <th></th>\n",
              "      <th>id</th>\n",
              "      <th>hour</th>\n",
              "      <th>hour_bef_temperature</th>\n",
              "      <th>hour_bef_precipitation</th>\n",
              "      <th>hour_bef_windspeed</th>\n",
              "      <th>hour_bef_humidity</th>\n",
              "      <th>hour_bef_visibility</th>\n",
              "      <th>hour_bef_ozone</th>\n",
              "      <th>hour_bef_pm10</th>\n",
              "      <th>hour_bef_pm2.5</th>\n",
              "      <th>count</th>\n",
              "    </tr>\n",
              "  </thead>\n",
              "  <tbody>\n",
              "    <tr>\n",
              "      <th>0</th>\n",
              "      <td>3</td>\n",
              "      <td>20</td>\n",
              "      <td>16.3</td>\n",
              "      <td>1.0</td>\n",
              "      <td>1.5</td>\n",
              "      <td>89.0</td>\n",
              "      <td>576.0</td>\n",
              "      <td>0.027</td>\n",
              "      <td>76.0</td>\n",
              "      <td>33.0</td>\n",
              "      <td>49.0</td>\n",
              "    </tr>\n",
              "    <tr>\n",
              "      <th>1</th>\n",
              "      <td>6</td>\n",
              "      <td>13</td>\n",
              "      <td>20.1</td>\n",
              "      <td>0.0</td>\n",
              "      <td>1.4</td>\n",
              "      <td>48.0</td>\n",
              "      <td>916.0</td>\n",
              "      <td>0.042</td>\n",
              "      <td>73.0</td>\n",
              "      <td>40.0</td>\n",
              "      <td>159.0</td>\n",
              "    </tr>\n",
              "    <tr>\n",
              "      <th>2</th>\n",
              "      <td>7</td>\n",
              "      <td>6</td>\n",
              "      <td>13.9</td>\n",
              "      <td>0.0</td>\n",
              "      <td>0.7</td>\n",
              "      <td>79.0</td>\n",
              "      <td>1382.0</td>\n",
              "      <td>0.033</td>\n",
              "      <td>32.0</td>\n",
              "      <td>19.0</td>\n",
              "      <td>26.0</td>\n",
              "    </tr>\n",
              "    <tr>\n",
              "      <th>3</th>\n",
              "      <td>8</td>\n",
              "      <td>23</td>\n",
              "      <td>8.1</td>\n",
              "      <td>0.0</td>\n",
              "      <td>2.7</td>\n",
              "      <td>54.0</td>\n",
              "      <td>946.0</td>\n",
              "      <td>0.040</td>\n",
              "      <td>75.0</td>\n",
              "      <td>64.0</td>\n",
              "      <td>57.0</td>\n",
              "    </tr>\n",
              "    <tr>\n",
              "      <th>4</th>\n",
              "      <td>9</td>\n",
              "      <td>18</td>\n",
              "      <td>29.5</td>\n",
              "      <td>0.0</td>\n",
              "      <td>4.8</td>\n",
              "      <td>7.0</td>\n",
              "      <td>2000.0</td>\n",
              "      <td>0.057</td>\n",
              "      <td>27.0</td>\n",
              "      <td>11.0</td>\n",
              "      <td>431.0</td>\n",
              "    </tr>\n",
              "  </tbody>\n",
              "</table>\n",
              "</div>\n",
              "      <button class=\"colab-df-convert\" onclick=\"convertToInteractive('df-c8d61101-c110-403d-be10-9fe4e1e52bc7')\"\n",
              "              title=\"Convert this dataframe to an interactive table.\"\n",
              "              style=\"display:none;\">\n",
              "        \n",
              "  <svg xmlns=\"http://www.w3.org/2000/svg\" height=\"24px\"viewBox=\"0 0 24 24\"\n",
              "       width=\"24px\">\n",
              "    <path d=\"M0 0h24v24H0V0z\" fill=\"none\"/>\n",
              "    <path d=\"M18.56 5.44l.94 2.06.94-2.06 2.06-.94-2.06-.94-.94-2.06-.94 2.06-2.06.94zm-11 1L8.5 8.5l.94-2.06 2.06-.94-2.06-.94L8.5 2.5l-.94 2.06-2.06.94zm10 10l.94 2.06.94-2.06 2.06-.94-2.06-.94-.94-2.06-.94 2.06-2.06.94z\"/><path d=\"M17.41 7.96l-1.37-1.37c-.4-.4-.92-.59-1.43-.59-.52 0-1.04.2-1.43.59L10.3 9.45l-7.72 7.72c-.78.78-.78 2.05 0 2.83L4 21.41c.39.39.9.59 1.41.59.51 0 1.02-.2 1.41-.59l7.78-7.78 2.81-2.81c.8-.78.8-2.07 0-2.86zM5.41 20L4 18.59l7.72-7.72 1.47 1.35L5.41 20z\"/>\n",
              "  </svg>\n",
              "      </button>\n",
              "      \n",
              "  <style>\n",
              "    .colab-df-container {\n",
              "      display:flex;\n",
              "      flex-wrap:wrap;\n",
              "      gap: 12px;\n",
              "    }\n",
              "\n",
              "    .colab-df-convert {\n",
              "      background-color: #E8F0FE;\n",
              "      border: none;\n",
              "      border-radius: 50%;\n",
              "      cursor: pointer;\n",
              "      display: none;\n",
              "      fill: #1967D2;\n",
              "      height: 32px;\n",
              "      padding: 0 0 0 0;\n",
              "      width: 32px;\n",
              "    }\n",
              "\n",
              "    .colab-df-convert:hover {\n",
              "      background-color: #E2EBFA;\n",
              "      box-shadow: 0px 1px 2px rgba(60, 64, 67, 0.3), 0px 1px 3px 1px rgba(60, 64, 67, 0.15);\n",
              "      fill: #174EA6;\n",
              "    }\n",
              "\n",
              "    [theme=dark] .colab-df-convert {\n",
              "      background-color: #3B4455;\n",
              "      fill: #D2E3FC;\n",
              "    }\n",
              "\n",
              "    [theme=dark] .colab-df-convert:hover {\n",
              "      background-color: #434B5C;\n",
              "      box-shadow: 0px 1px 3px 1px rgba(0, 0, 0, 0.15);\n",
              "      filter: drop-shadow(0px 1px 2px rgba(0, 0, 0, 0.3));\n",
              "      fill: #FFFFFF;\n",
              "    }\n",
              "  </style>\n",
              "\n",
              "      <script>\n",
              "        const buttonEl =\n",
              "          document.querySelector('#df-c8d61101-c110-403d-be10-9fe4e1e52bc7 button.colab-df-convert');\n",
              "        buttonEl.style.display =\n",
              "          google.colab.kernel.accessAllowed ? 'block' : 'none';\n",
              "\n",
              "        async function convertToInteractive(key) {\n",
              "          const element = document.querySelector('#df-c8d61101-c110-403d-be10-9fe4e1e52bc7');\n",
              "          const dataTable =\n",
              "            await google.colab.kernel.invokeFunction('convertToInteractive',\n",
              "                                                     [key], {});\n",
              "          if (!dataTable) return;\n",
              "\n",
              "          const docLinkHtml = 'Like what you see? Visit the ' +\n",
              "            '<a target=\"_blank\" href=https://colab.research.google.com/notebooks/data_table.ipynb>data table notebook</a>'\n",
              "            + ' to learn more about interactive tables.';\n",
              "          element.innerHTML = '';\n",
              "          dataTable['output_type'] = 'display_data';\n",
              "          await google.colab.output.renderOutput(dataTable, element);\n",
              "          const docLink = document.createElement('div');\n",
              "          docLink.innerHTML = docLinkHtml;\n",
              "          element.appendChild(docLink);\n",
              "        }\n",
              "      </script>\n",
              "    </div>\n",
              "  </div>\n",
              "  "
            ]
          },
          "metadata": {},
          "execution_count": 5
        }
      ]
    },
    {
      "cell_type": "markdown",
      "source": [
        "id 고유 id\n",
        "\n",
        "hour 시간\n",
        "\n",
        "temperature 기온\n",
        "\n",
        "precipitation 비가 오지 않았으면 0, 비가 오면 1\n",
        "\n",
        "windspeed 풍속(평균)\n",
        "\n",
        "humidity 습도\n",
        "\n",
        "visibility 시정(視程), 시계(視界)(특정 기상 \n",
        "상태에 따른 가시성을 의미)\n",
        "\n",
        "ozone 오존\n",
        "\n",
        "pm10 미세먼지(머리카락 굵기의 1/5에서 1/7 \n",
        "크기의 미세먼지)\n",
        "\n",
        "pm2.5 미세먼지(머리카락 굵기의 1/20에서 1/30 크기의 미세먼지)\n",
        "\n",
        "count 시간에 따른 따릉이 대여 수"
      ],
      "metadata": {
        "id": "u4Ew8ZUdqhcx"
      }
    },
    {
      "cell_type": "markdown",
      "source": [
        "**각 데이터의 결측치 개수 분석**"
      ],
      "metadata": {
        "id": "0MlUqi0LmMTO"
      }
    },
    {
      "cell_type": "code",
      "source": [
        "train.isnull().sum()"
      ],
      "metadata": {
        "colab": {
          "base_uri": "https://localhost:8080/"
        },
        "id": "iZtLbpU2OlWD",
        "outputId": "80bb1185-4a94-4f75-d175-a927966866bf"
      },
      "execution_count": null,
      "outputs": [
        {
          "output_type": "execute_result",
          "data": {
            "text/plain": [
              "id                          0\n",
              "hour                        0\n",
              "hour_bef_temperature        2\n",
              "hour_bef_precipitation      2\n",
              "hour_bef_windspeed          9\n",
              "hour_bef_humidity           2\n",
              "hour_bef_visibility         2\n",
              "hour_bef_ozone             76\n",
              "hour_bef_pm10              90\n",
              "hour_bef_pm2.5            117\n",
              "count                       0\n",
              "dtype: int64"
            ]
          },
          "metadata": {},
          "execution_count": 6
        }
      ]
    },
    {
      "cell_type": "code",
      "source": [
        "test.isnull().sum()"
      ],
      "metadata": {
        "colab": {
          "base_uri": "https://localhost:8080/"
        },
        "id": "Tb-EtAk7OoUn",
        "outputId": "3c4a3379-9c81-4d1b-e974-8da20a3b2fa6"
      },
      "execution_count": null,
      "outputs": [
        {
          "output_type": "execute_result",
          "data": {
            "text/plain": [
              "id                         0\n",
              "hour                       0\n",
              "hour_bef_temperature       1\n",
              "hour_bef_precipitation     1\n",
              "hour_bef_windspeed         1\n",
              "hour_bef_humidity          1\n",
              "hour_bef_visibility        1\n",
              "hour_bef_ozone            35\n",
              "hour_bef_pm10             37\n",
              "hour_bef_pm2.5            36\n",
              "dtype: int64"
            ]
          },
          "metadata": {},
          "execution_count": 7
        }
      ]
    },
    {
      "cell_type": "markdown",
      "source": [
        "# 2. 데이터 분석"
      ],
      "metadata": {
        "id": "J4IAjqOevKXS"
      }
    },
    {
      "cell_type": "code",
      "source": [
        "train.describe()"
      ],
      "metadata": {
        "colab": {
          "base_uri": "https://localhost:8080/",
          "height": 364
        },
        "id": "lvId60H4Oz9l",
        "outputId": "9ef4df74-d0fe-4dc6-eb17-872ae38c8cb3"
      },
      "execution_count": null,
      "outputs": [
        {
          "output_type": "execute_result",
          "data": {
            "text/plain": [
              "                id         hour  hour_bef_temperature  hour_bef_precipitation  \\\n",
              "count  1459.000000  1459.000000           1457.000000             1457.000000   \n",
              "mean   1105.914325    11.493489             16.717433                0.031572   \n",
              "std     631.338681     6.922790              5.239150                0.174917   \n",
              "min       3.000000     0.000000              3.100000                0.000000   \n",
              "25%     555.500000     5.500000             12.800000                0.000000   \n",
              "50%    1115.000000    11.000000             16.600000                0.000000   \n",
              "75%    1651.000000    17.500000             20.100000                0.000000   \n",
              "max    2179.000000    23.000000             30.000000                1.000000   \n",
              "\n",
              "       hour_bef_windspeed  hour_bef_humidity  hour_bef_visibility  \\\n",
              "count         1450.000000        1457.000000          1457.000000   \n",
              "mean             2.479034          52.231297          1405.216884   \n",
              "std              1.378265          20.370387           583.131708   \n",
              "min              0.000000           7.000000            78.000000   \n",
              "25%              1.400000          36.000000           879.000000   \n",
              "50%              2.300000          51.000000          1577.000000   \n",
              "75%              3.400000          69.000000          1994.000000   \n",
              "max              8.000000          99.000000          2000.000000   \n",
              "\n",
              "       hour_bef_ozone  hour_bef_pm10  hour_bef_pm2.5        count  \n",
              "count     1383.000000    1369.000000     1342.000000  1459.000000  \n",
              "mean         0.039149      57.168736       30.327124   108.563400  \n",
              "std          0.019509      31.771019       14.713252    82.631733  \n",
              "min          0.003000       9.000000        8.000000     1.000000  \n",
              "25%          0.025500      36.000000       20.000000    37.000000  \n",
              "50%          0.039000      51.000000       26.000000    96.000000  \n",
              "75%          0.052000      69.000000       37.000000   150.000000  \n",
              "max          0.125000     269.000000       90.000000   431.000000  "
            ],
            "text/html": [
              "\n",
              "  <div id=\"df-65aa3568-2bb6-4168-9b54-f1183e4f44be\">\n",
              "    <div class=\"colab-df-container\">\n",
              "      <div>\n",
              "<style scoped>\n",
              "    .dataframe tbody tr th:only-of-type {\n",
              "        vertical-align: middle;\n",
              "    }\n",
              "\n",
              "    .dataframe tbody tr th {\n",
              "        vertical-align: top;\n",
              "    }\n",
              "\n",
              "    .dataframe thead th {\n",
              "        text-align: right;\n",
              "    }\n",
              "</style>\n",
              "<table border=\"1\" class=\"dataframe\">\n",
              "  <thead>\n",
              "    <tr style=\"text-align: right;\">\n",
              "      <th></th>\n",
              "      <th>id</th>\n",
              "      <th>hour</th>\n",
              "      <th>hour_bef_temperature</th>\n",
              "      <th>hour_bef_precipitation</th>\n",
              "      <th>hour_bef_windspeed</th>\n",
              "      <th>hour_bef_humidity</th>\n",
              "      <th>hour_bef_visibility</th>\n",
              "      <th>hour_bef_ozone</th>\n",
              "      <th>hour_bef_pm10</th>\n",
              "      <th>hour_bef_pm2.5</th>\n",
              "      <th>count</th>\n",
              "    </tr>\n",
              "  </thead>\n",
              "  <tbody>\n",
              "    <tr>\n",
              "      <th>count</th>\n",
              "      <td>1459.000000</td>\n",
              "      <td>1459.000000</td>\n",
              "      <td>1457.000000</td>\n",
              "      <td>1457.000000</td>\n",
              "      <td>1450.000000</td>\n",
              "      <td>1457.000000</td>\n",
              "      <td>1457.000000</td>\n",
              "      <td>1383.000000</td>\n",
              "      <td>1369.000000</td>\n",
              "      <td>1342.000000</td>\n",
              "      <td>1459.000000</td>\n",
              "    </tr>\n",
              "    <tr>\n",
              "      <th>mean</th>\n",
              "      <td>1105.914325</td>\n",
              "      <td>11.493489</td>\n",
              "      <td>16.717433</td>\n",
              "      <td>0.031572</td>\n",
              "      <td>2.479034</td>\n",
              "      <td>52.231297</td>\n",
              "      <td>1405.216884</td>\n",
              "      <td>0.039149</td>\n",
              "      <td>57.168736</td>\n",
              "      <td>30.327124</td>\n",
              "      <td>108.563400</td>\n",
              "    </tr>\n",
              "    <tr>\n",
              "      <th>std</th>\n",
              "      <td>631.338681</td>\n",
              "      <td>6.922790</td>\n",
              "      <td>5.239150</td>\n",
              "      <td>0.174917</td>\n",
              "      <td>1.378265</td>\n",
              "      <td>20.370387</td>\n",
              "      <td>583.131708</td>\n",
              "      <td>0.019509</td>\n",
              "      <td>31.771019</td>\n",
              "      <td>14.713252</td>\n",
              "      <td>82.631733</td>\n",
              "    </tr>\n",
              "    <tr>\n",
              "      <th>min</th>\n",
              "      <td>3.000000</td>\n",
              "      <td>0.000000</td>\n",
              "      <td>3.100000</td>\n",
              "      <td>0.000000</td>\n",
              "      <td>0.000000</td>\n",
              "      <td>7.000000</td>\n",
              "      <td>78.000000</td>\n",
              "      <td>0.003000</td>\n",
              "      <td>9.000000</td>\n",
              "      <td>8.000000</td>\n",
              "      <td>1.000000</td>\n",
              "    </tr>\n",
              "    <tr>\n",
              "      <th>25%</th>\n",
              "      <td>555.500000</td>\n",
              "      <td>5.500000</td>\n",
              "      <td>12.800000</td>\n",
              "      <td>0.000000</td>\n",
              "      <td>1.400000</td>\n",
              "      <td>36.000000</td>\n",
              "      <td>879.000000</td>\n",
              "      <td>0.025500</td>\n",
              "      <td>36.000000</td>\n",
              "      <td>20.000000</td>\n",
              "      <td>37.000000</td>\n",
              "    </tr>\n",
              "    <tr>\n",
              "      <th>50%</th>\n",
              "      <td>1115.000000</td>\n",
              "      <td>11.000000</td>\n",
              "      <td>16.600000</td>\n",
              "      <td>0.000000</td>\n",
              "      <td>2.300000</td>\n",
              "      <td>51.000000</td>\n",
              "      <td>1577.000000</td>\n",
              "      <td>0.039000</td>\n",
              "      <td>51.000000</td>\n",
              "      <td>26.000000</td>\n",
              "      <td>96.000000</td>\n",
              "    </tr>\n",
              "    <tr>\n",
              "      <th>75%</th>\n",
              "      <td>1651.000000</td>\n",
              "      <td>17.500000</td>\n",
              "      <td>20.100000</td>\n",
              "      <td>0.000000</td>\n",
              "      <td>3.400000</td>\n",
              "      <td>69.000000</td>\n",
              "      <td>1994.000000</td>\n",
              "      <td>0.052000</td>\n",
              "      <td>69.000000</td>\n",
              "      <td>37.000000</td>\n",
              "      <td>150.000000</td>\n",
              "    </tr>\n",
              "    <tr>\n",
              "      <th>max</th>\n",
              "      <td>2179.000000</td>\n",
              "      <td>23.000000</td>\n",
              "      <td>30.000000</td>\n",
              "      <td>1.000000</td>\n",
              "      <td>8.000000</td>\n",
              "      <td>99.000000</td>\n",
              "      <td>2000.000000</td>\n",
              "      <td>0.125000</td>\n",
              "      <td>269.000000</td>\n",
              "      <td>90.000000</td>\n",
              "      <td>431.000000</td>\n",
              "    </tr>\n",
              "  </tbody>\n",
              "</table>\n",
              "</div>\n",
              "      <button class=\"colab-df-convert\" onclick=\"convertToInteractive('df-65aa3568-2bb6-4168-9b54-f1183e4f44be')\"\n",
              "              title=\"Convert this dataframe to an interactive table.\"\n",
              "              style=\"display:none;\">\n",
              "        \n",
              "  <svg xmlns=\"http://www.w3.org/2000/svg\" height=\"24px\"viewBox=\"0 0 24 24\"\n",
              "       width=\"24px\">\n",
              "    <path d=\"M0 0h24v24H0V0z\" fill=\"none\"/>\n",
              "    <path d=\"M18.56 5.44l.94 2.06.94-2.06 2.06-.94-2.06-.94-.94-2.06-.94 2.06-2.06.94zm-11 1L8.5 8.5l.94-2.06 2.06-.94-2.06-.94L8.5 2.5l-.94 2.06-2.06.94zm10 10l.94 2.06.94-2.06 2.06-.94-2.06-.94-.94-2.06-.94 2.06-2.06.94z\"/><path d=\"M17.41 7.96l-1.37-1.37c-.4-.4-.92-.59-1.43-.59-.52 0-1.04.2-1.43.59L10.3 9.45l-7.72 7.72c-.78.78-.78 2.05 0 2.83L4 21.41c.39.39.9.59 1.41.59.51 0 1.02-.2 1.41-.59l7.78-7.78 2.81-2.81c.8-.78.8-2.07 0-2.86zM5.41 20L4 18.59l7.72-7.72 1.47 1.35L5.41 20z\"/>\n",
              "  </svg>\n",
              "      </button>\n",
              "      \n",
              "  <style>\n",
              "    .colab-df-container {\n",
              "      display:flex;\n",
              "      flex-wrap:wrap;\n",
              "      gap: 12px;\n",
              "    }\n",
              "\n",
              "    .colab-df-convert {\n",
              "      background-color: #E8F0FE;\n",
              "      border: none;\n",
              "      border-radius: 50%;\n",
              "      cursor: pointer;\n",
              "      display: none;\n",
              "      fill: #1967D2;\n",
              "      height: 32px;\n",
              "      padding: 0 0 0 0;\n",
              "      width: 32px;\n",
              "    }\n",
              "\n",
              "    .colab-df-convert:hover {\n",
              "      background-color: #E2EBFA;\n",
              "      box-shadow: 0px 1px 2px rgba(60, 64, 67, 0.3), 0px 1px 3px 1px rgba(60, 64, 67, 0.15);\n",
              "      fill: #174EA6;\n",
              "    }\n",
              "\n",
              "    [theme=dark] .colab-df-convert {\n",
              "      background-color: #3B4455;\n",
              "      fill: #D2E3FC;\n",
              "    }\n",
              "\n",
              "    [theme=dark] .colab-df-convert:hover {\n",
              "      background-color: #434B5C;\n",
              "      box-shadow: 0px 1px 3px 1px rgba(0, 0, 0, 0.15);\n",
              "      filter: drop-shadow(0px 1px 2px rgba(0, 0, 0, 0.3));\n",
              "      fill: #FFFFFF;\n",
              "    }\n",
              "  </style>\n",
              "\n",
              "      <script>\n",
              "        const buttonEl =\n",
              "          document.querySelector('#df-65aa3568-2bb6-4168-9b54-f1183e4f44be button.colab-df-convert');\n",
              "        buttonEl.style.display =\n",
              "          google.colab.kernel.accessAllowed ? 'block' : 'none';\n",
              "\n",
              "        async function convertToInteractive(key) {\n",
              "          const element = document.querySelector('#df-65aa3568-2bb6-4168-9b54-f1183e4f44be');\n",
              "          const dataTable =\n",
              "            await google.colab.kernel.invokeFunction('convertToInteractive',\n",
              "                                                     [key], {});\n",
              "          if (!dataTable) return;\n",
              "\n",
              "          const docLinkHtml = 'Like what you see? Visit the ' +\n",
              "            '<a target=\"_blank\" href=https://colab.research.google.com/notebooks/data_table.ipynb>data table notebook</a>'\n",
              "            + ' to learn more about interactive tables.';\n",
              "          element.innerHTML = '';\n",
              "          dataTable['output_type'] = 'display_data';\n",
              "          await google.colab.output.renderOutput(dataTable, element);\n",
              "          const docLink = document.createElement('div');\n",
              "          docLink.innerHTML = docLinkHtml;\n",
              "          element.appendChild(docLink);\n",
              "        }\n",
              "      </script>\n",
              "    </div>\n",
              "  </div>\n",
              "  "
            ]
          },
          "metadata": {},
          "execution_count": 8
        }
      ]
    },
    {
      "cell_type": "markdown",
      "source": [
        "**train.describe()**\n",
        "\n",
        "*기본적으로 NAN값은 빼고 계산됨*\n",
        "\n",
        "\n",
        "---\n",
        "\n",
        "\n",
        "- count : 총 데이터의 값\n",
        "- mean : 평균 값\n",
        "- std : 표준편차 값\n",
        "  - 표준편차가 작을 수록 값들이 평균에 밀집되어 있음\n"
      ],
      "metadata": {
        "id": "QCKU3Nfwm7UO"
      }
    },
    {
      "cell_type": "code",
      "source": [
        "hour_m = train.groupby('hour').mean()['count']\n",
        "hour_m"
      ],
      "metadata": {
        "colab": {
          "base_uri": "https://localhost:8080/"
        },
        "id": "s4q1FdkcO-HT",
        "outputId": "4c9656a5-2e7f-4e76-8ad3-c618ec64fcef"
      },
      "execution_count": null,
      "outputs": [
        {
          "output_type": "execute_result",
          "data": {
            "text/plain": [
              "hour\n",
              "0      71.766667\n",
              "1      47.606557\n",
              "2      31.409836\n",
              "3      21.377049\n",
              "4      13.524590\n",
              "5      13.114754\n",
              "6      24.557377\n",
              "7      62.360656\n",
              "8     136.688525\n",
              "9      93.540984\n",
              "10     78.803279\n",
              "11     88.327869\n",
              "12    111.901639\n",
              "13    120.050000\n",
              "14    134.590164\n",
              "15    152.967213\n",
              "16    169.100000\n",
              "17    187.133333\n",
              "18    262.163934\n",
              "19    201.606557\n",
              "20    164.868852\n",
              "21    168.816667\n",
              "22    148.245902\n",
              "23    103.852459\n",
              "Name: count, dtype: float64"
            ]
          },
          "metadata": {},
          "execution_count": 9
        }
      ]
    },
    {
      "cell_type": "markdown",
      "source": [
        "**train.groupby()**\n",
        "\n",
        "*데이터를 그룹별로 분할하여 독립된 그룹에 대하여 별도로 데이터를 처리할 때 사용*\n",
        "\n",
        "\n",
        "---\n",
        "\n",
        "\n",
        "df.groupby(컬럼) + 통계함수의 형태로 사용\n",
        "\n",
        "\n",
        "- 주로 사용하는 파라미터\n",
        "  - count : 데이터의 개수\n",
        "  - sum : 합계\n",
        "  - mean : 평균\n",
        "  - median : 중앙값\n",
        "\n"
      ],
      "metadata": {
        "id": "Dmb4rAAMnuZ0"
      }
    },
    {
      "cell_type": "markdown",
      "source": [
        "시간당 평균 대여량에 대한 그래프"
      ],
      "metadata": {
        "id": "nDUxmvtIqHiC"
      }
    },
    {
      "cell_type": "code",
      "source": [
        "plt.plot(hour_m)\n",
        "plt.grid() # 격자\n",
        "\n",
        "plt.title('count by hour')\n",
        "plt.xlabel('hour')\n",
        "plt.ylabel('count')\n",
        "\n",
        "plt.axvline(8,color ='r') #  특정 격자에 줄 표시\n",
        "plt.axvline(18,color ='r')"
      ],
      "metadata": {
        "colab": {
          "base_uri": "https://localhost:8080/",
          "height": 313
        },
        "id": "phjh2K9EPSw2",
        "outputId": "96e1ad03-9711-46f1-80e4-39abca087f3a"
      },
      "execution_count": null,
      "outputs": [
        {
          "output_type": "execute_result",
          "data": {
            "text/plain": [
              "<matplotlib.lines.Line2D at 0x7f30b1756c40>"
            ]
          },
          "metadata": {},
          "execution_count": 10
        },
        {
          "output_type": "display_data",
          "data": {
            "text/plain": [
              "<Figure size 432x288 with 1 Axes>"
            ],
            "image/png": "[encoded data removed]"
          },
          "metadata": {
            "needs_background": "light"
          }
        }
      ]
    },
    {
      "cell_type": "code",
      "source": [
        "train.corr()"
      ],
      "metadata": {
        "colab": {
          "base_uri": "https://localhost:8080/",
          "height": 458
        },
        "id": "dkRHtKmKPlhG",
        "outputId": "7b407d7a-7772-4d07-a25c-9c1d7cb1538e"
      },
      "execution_count": null,
      "outputs": [
        {
          "output_type": "execute_result",
          "data": {
            "text/plain": [
              "                              id      hour  hour_bef_temperature  \\\n",
              "id                      1.000000 -0.010901             -0.000029   \n",
              "hour                   -0.010901  1.000000              0.407306   \n",
              "hour_bef_temperature   -0.000029  0.407306              1.000000   \n",
              "hour_bef_precipitation -0.056267  0.021646             -0.097056   \n",
              "hour_bef_windspeed     -0.003353  0.462797              0.375618   \n",
              "hour_bef_humidity      -0.017948 -0.329612             -0.496088   \n",
              "hour_bef_visibility     0.008950  0.176491              0.197417   \n",
              "hour_bef_ozone          0.055234  0.390188              0.541228   \n",
              "hour_bef_pm10          -0.025510 -0.035907             -0.003830   \n",
              "hour_bef_pm2.5          0.003545 -0.061229             -0.078665   \n",
              "count                  -0.002131  0.626047              0.619404   \n",
              "\n",
              "                        hour_bef_precipitation  hour_bef_windspeed  \\\n",
              "id                                   -0.056267           -0.003353   \n",
              "hour                                  0.021646            0.462797   \n",
              "hour_bef_temperature                 -0.097056            0.375618   \n",
              "hour_bef_precipitation                1.000000            0.022746   \n",
              "hour_bef_windspeed                    0.022746            1.000000   \n",
              "hour_bef_humidity                     0.276481           -0.433012   \n",
              "hour_bef_visibility                  -0.217155            0.252092   \n",
              "hour_bef_ozone                       -0.062461            0.520526   \n",
              "hour_bef_pm10                        -0.051266            0.010176   \n",
              "hour_bef_pm2.5                        0.004742           -0.199113   \n",
              "count                                -0.163985            0.459906   \n",
              "\n",
              "                        hour_bef_humidity  hour_bef_visibility  \\\n",
              "id                              -0.017948             0.008950   \n",
              "hour                            -0.329612             0.176491   \n",
              "hour_bef_temperature            -0.496088             0.197417   \n",
              "hour_bef_precipitation           0.276481            -0.217155   \n",
              "hour_bef_windspeed              -0.433012             0.252092   \n",
              "hour_bef_humidity                1.000000            -0.592244   \n",
              "hour_bef_visibility             -0.592244             1.000000   \n",
              "hour_bef_ozone                  -0.421047             0.101899   \n",
              "hour_bef_pm10                   -0.108106            -0.403277   \n",
              "hour_bef_pm2.5                   0.167736            -0.644989   \n",
              "count                           -0.471142             0.299094   \n",
              "\n",
              "                        hour_bef_ozone  hour_bef_pm10  hour_bef_pm2.5  \\\n",
              "id                            0.055234      -0.025510        0.003545   \n",
              "hour                          0.390188      -0.035907       -0.061229   \n",
              "hour_bef_temperature          0.541228      -0.003830       -0.078665   \n",
              "hour_bef_precipitation       -0.062461      -0.051266        0.004742   \n",
              "hour_bef_windspeed            0.520526       0.010176       -0.199113   \n",
              "hour_bef_humidity            -0.421047      -0.108106        0.167736   \n",
              "hour_bef_visibility           0.101899      -0.403277       -0.644989   \n",
              "hour_bef_ozone                1.000000       0.113015        0.017313   \n",
              "hour_bef_pm10                 0.113015       1.000000        0.489558   \n",
              "hour_bef_pm2.5                0.017313       0.489558        1.000000   \n",
              "count                         0.477614      -0.114288       -0.134293   \n",
              "\n",
              "                           count  \n",
              "id                     -0.002131  \n",
              "hour                    0.626047  \n",
              "hour_bef_temperature    0.619404  \n",
              "hour_bef_precipitation -0.163985  \n",
              "hour_bef_windspeed      0.459906  \n",
              "hour_bef_humidity      -0.471142  \n",
              "hour_bef_visibility     0.299094  \n",
              "hour_bef_ozone          0.477614  \n",
              "hour_bef_pm10          -0.114288  \n",
              "hour_bef_pm2.5         -0.134293  \n",
              "count                   1.000000  "
            ],
            "text/html": [
              "\n",
              "  <div id=\"df-c1360581-0321-45cc-a4f5-376fa51092e4\">\n",
              "    <div class=\"colab-df-container\">\n",
              "      <div>\n",
              "<style scoped>\n",
              "    .dataframe tbody tr th:only-of-type {\n",
              "        vertical-align: middle;\n",
              "    }\n",
              "\n",
              "    .dataframe tbody tr th {\n",
              "        vertical-align: top;\n",
              "    }\n",
              "\n",
              "    .dataframe thead th {\n",
              "        text-align: right;\n",
              "    }\n",
              "</style>\n",
              "<table border=\"1\" class=\"dataframe\">\n",
              "  <thead>\n",
              "    <tr style=\"text-align: right;\">\n",
              "      <th></th>\n",
              "      <th>id</th>\n",
              "      <th>hour</th>\n",
              "      <th>hour_bef_temperature</th>\n",
              "      <th>hour_bef_precipitation</th>\n",
              "      <th>hour_bef_windspeed</th>\n",
              "      <th>hour_bef_humidity</th>\n",
              "      <th>hour_bef_visibility</th>\n",
              "      <th>hour_bef_ozone</th>\n",
              "      <th>hour_bef_pm10</th>\n",
              "      <th>hour_bef_pm2.5</th>\n",
              "      <th>count</th>\n",
              "    </tr>\n",
              "  </thead>\n",
              "  <tbody>\n",
              "    <tr>\n",
              "      <th>id</th>\n",
              "      <td>1.000000</td>\n",
              "      <td>-0.010901</td>\n",
              "      <td>-0.000029</td>\n",
              "      <td>-0.056267</td>\n",
              "      <td>-0.003353</td>\n",
              "      <td>-0.017948</td>\n",
              "      <td>0.008950</td>\n",
              "      <td>0.055234</td>\n",
              "      <td>-0.025510</td>\n",
              "      <td>0.003545</td>\n",
              "      <td>-0.002131</td>\n",
              "    </tr>\n",
              "    <tr>\n",
              "      <th>hour</th>\n",
              "      <td>-0.010901</td>\n",
              "      <td>1.000000</td>\n",
              "      <td>0.407306</td>\n",
              "      <td>0.021646</td>\n",
              "      <td>0.462797</td>\n",
              "      <td>-0.329612</td>\n",
              "      <td>0.176491</td>\n",
              "      <td>0.390188</td>\n",
              "      <td>-0.035907</td>\n",
              "      <td>-0.061229</td>\n",
              "      <td>0.626047</td>\n",
              "    </tr>\n",
              "    <tr>\n",
              "      <th>hour_bef_temperature</th>\n",
              "      <td>-0.000029</td>\n",
              "      <td>0.407306</td>\n",
              "      <td>1.000000</td>\n",
              "      <td>-0.097056</td>\n",
              "      <td>0.375618</td>\n",
              "      <td>-0.496088</td>\n",
              "      <td>0.197417</td>\n",
              "      <td>0.541228</td>\n",
              "      <td>-0.003830</td>\n",
              "      <td>-0.078665</td>\n",
              "      <td>0.619404</td>\n",
              "    </tr>\n",
              "    <tr>\n",
              "      <th>hour_bef_precipitation</th>\n",
              "      <td>-0.056267</td>\n",
              "      <td>0.021646</td>\n",
              "      <td>-0.097056</td>\n",
              "      <td>1.000000</td>\n",
              "      <td>0.022746</td>\n",
              "      <td>0.276481</td>\n",
              "      <td>-0.217155</td>\n",
              "      <td>-0.062461</td>\n",
              "      <td>-0.051266</td>\n",
              "      <td>0.004742</td>\n",
              "      <td>-0.163985</td>\n",
              "    </tr>\n",
              "    <tr>\n",
              "      <th>hour_bef_windspeed</th>\n",
              "      <td>-0.003353</td>\n",
              "      <td>0.462797</td>\n",
              "      <td>0.375618</td>\n",
              "      <td>0.022746</td>\n",
              "      <td>1.000000</td>\n",
              "      <td>-0.433012</td>\n",
              "      <td>0.252092</td>\n",
              "      <td>0.520526</td>\n",
              "      <td>0.010176</td>\n",
              "      <td>-0.199113</td>\n",
              "      <td>0.459906</td>\n",
              "    </tr>\n",
              "    <tr>\n",
              "      <th>hour_bef_humidity</th>\n",
              "      <td>-0.017948</td>\n",
              "      <td>-0.329612</td>\n",
              "      <td>-0.496088</td>\n",
              "      <td>0.276481</td>\n",
              "      <td>-0.433012</td>\n",
              "      <td>1.000000</td>\n",
              "      <td>-0.592244</td>\n",
              "      <td>-0.421047</td>\n",
              "      <td>-0.108106</td>\n",
              "      <td>0.167736</td>\n",
              "      <td>-0.471142</td>\n",
              "    </tr>\n",
              "    <tr>\n",
              "      <th>hour_bef_visibility</th>\n",
              "      <td>0.008950</td>\n",
              "      <td>0.176491</td>\n",
              "      <td>0.197417</td>\n",
              "      <td>-0.217155</td>\n",
              "      <td>0.252092</td>\n",
              "      <td>-0.592244</td>\n",
              "      <td>1.000000</td>\n",
              "      <td>0.101899</td>\n",
              "      <td>-0.403277</td>\n",
              "      <td>-0.644989</td>\n",
              "      <td>0.299094</td>\n",
              "    </tr>\n",
              "    <tr>\n",
              "      <th>hour_bef_ozone</th>\n",
              "      <td>0.055234</td>\n",
              "      <td>0.390188</td>\n",
              "      <td>0.541228</td>\n",
              "      <td>-0.062461</td>\n",
              "      <td>0.520526</td>\n",
              "      <td>-0.421047</td>\n",
              "      <td>0.101899</td>\n",
              "      <td>1.000000</td>\n",
              "      <td>0.113015</td>\n",
              "      <td>0.017313</td>\n",
              "      <td>0.477614</td>\n",
              "    </tr>\n",
              "    <tr>\n",
              "      <th>hour_bef_pm10</th>\n",
              "      <td>-0.025510</td>\n",
              "      <td>-0.035907</td>\n",
              "      <td>-0.003830</td>\n",
              "      <td>-0.051266</td>\n",
              "      <td>0.010176</td>\n",
              "      <td>-0.108106</td>\n",
              "      <td>-0.403277</td>\n",
              "      <td>0.113015</td>\n",
              "      <td>1.000000</td>\n",
              "      <td>0.489558</td>\n",
              "      <td>-0.114288</td>\n",
              "    </tr>\n",
              "    <tr>\n",
              "      <th>hour_bef_pm2.5</th>\n",
              "      <td>0.003545</td>\n",
              "      <td>-0.061229</td>\n",
              "      <td>-0.078665</td>\n",
              "      <td>0.004742</td>\n",
              "      <td>-0.199113</td>\n",
              "      <td>0.167736</td>\n",
              "      <td>-0.644989</td>\n",
              "      <td>0.017313</td>\n",
              "      <td>0.489558</td>\n",
              "      <td>1.000000</td>\n",
              "      <td>-0.134293</td>\n",
              "    </tr>\n",
              "    <tr>\n",
              "      <th>count</th>\n",
              "      <td>-0.002131</td>\n",
              "      <td>0.626047</td>\n",
              "      <td>0.619404</td>\n",
              "      <td>-0.163985</td>\n",
              "      <td>0.459906</td>\n",
              "      <td>-0.471142</td>\n",
              "      <td>0.299094</td>\n",
              "      <td>0.477614</td>\n",
              "      <td>-0.114288</td>\n",
              "      <td>-0.134293</td>\n",
              "      <td>1.000000</td>\n",
              "    </tr>\n",
              "  </tbody>\n",
              "</table>\n",
              "</div>\n",
              "      <button class=\"colab-df-convert\" onclick=\"convertToInteractive('df-c1360581-0321-45cc-a4f5-376fa51092e4')\"\n",
              "              title=\"Convert this dataframe to an interactive table.\"\n",
              "              style=\"display:none;\">\n",
              "        \n",
              "  <svg xmlns=\"http://www.w3.org/2000/svg\" height=\"24px\"viewBox=\"0 0 24 24\"\n",
              "       width=\"24px\">\n",
              "    <path d=\"M0 0h24v24H0V0z\" fill=\"none\"/>\n",
              "    <path d=\"M18.56 5.44l.94 2.06.94-2.06 2.06-.94-2.06-.94-.94-2.06-.94 2.06-2.06.94zm-11 1L8.5 8.5l.94-2.06 2.06-.94-2.06-.94L8.5 2.5l-.94 2.06-2.06.94zm10 10l.94 2.06.94-2.06 2.06-.94-2.06-.94-.94-2.06-.94 2.06-2.06.94z\"/><path d=\"M17.41 7.96l-1.37-1.37c-.4-.4-.92-.59-1.43-.59-.52 0-1.04.2-1.43.59L10.3 9.45l-7.72 7.72c-.78.78-.78 2.05 0 2.83L4 21.41c.39.39.9.59 1.41.59.51 0 1.02-.2 1.41-.59l7.78-7.78 2.81-2.81c.8-.78.8-2.07 0-2.86zM5.41 20L4 18.59l7.72-7.72 1.47 1.35L5.41 20z\"/>\n",
              "  </svg>\n",
              "      </button>\n",
              "      \n",
              "  <style>\n",
              "    .colab-df-container {\n",
              "      display:flex;\n",
              "      flex-wrap:wrap;\n",
              "      gap: 12px;\n",
              "    }\n",
              "\n",
              "    .colab-df-convert {\n",
              "      background-color: #E8F0FE;\n",
              "      border: none;\n",
              "      border-radius: 50%;\n",
              "      cursor: pointer;\n",
              "      display: none;\n",
              "      fill: #1967D2;\n",
              "      height: 32px;\n",
              "      padding: 0 0 0 0;\n",
              "      width: 32px;\n",
              "    }\n",
              "\n",
              "    .colab-df-convert:hover {\n",
              "      background-color: #E2EBFA;\n",
              "      box-shadow: 0px 1px 2px rgba(60, 64, 67, 0.3), 0px 1px 3px 1px rgba(60, 64, 67, 0.15);\n",
              "      fill: #174EA6;\n",
              "    }\n",
              "\n",
              "    [theme=dark] .colab-df-convert {\n",
              "      background-color: #3B4455;\n",
              "      fill: #D2E3FC;\n",
              "    }\n",
              "\n",
              "    [theme=dark] .colab-df-convert:hover {\n",
              "      background-color: #434B5C;\n",
              "      box-shadow: 0px 1px 3px 1px rgba(0, 0, 0, 0.15);\n",
              "      filter: drop-shadow(0px 1px 2px rgba(0, 0, 0, 0.3));\n",
              "      fill: #FFFFFF;\n",
              "    }\n",
              "  </style>\n",
              "\n",
              "      <script>\n",
              "        const buttonEl =\n",
              "          document.querySelector('#df-c1360581-0321-45cc-a4f5-376fa51092e4 button.colab-df-convert');\n",
              "        buttonEl.style.display =\n",
              "          google.colab.kernel.accessAllowed ? 'block' : 'none';\n",
              "\n",
              "        async function convertToInteractive(key) {\n",
              "          const element = document.querySelector('#df-c1360581-0321-45cc-a4f5-376fa51092e4');\n",
              "          const dataTable =\n",
              "            await google.colab.kernel.invokeFunction('convertToInteractive',\n",
              "                                                     [key], {});\n",
              "          if (!dataTable) return;\n",
              "\n",
              "          const docLinkHtml = 'Like what you see? Visit the ' +\n",
              "            '<a target=\"_blank\" href=https://colab.research.google.com/notebooks/data_table.ipynb>data table notebook</a>'\n",
              "            + ' to learn more about interactive tables.';\n",
              "          element.innerHTML = '';\n",
              "          dataTable['output_type'] = 'display_data';\n",
              "          await google.colab.output.renderOutput(dataTable, element);\n",
              "          const docLink = document.createElement('div');\n",
              "          docLink.innerHTML = docLinkHtml;\n",
              "          element.appendChild(docLink);\n",
              "        }\n",
              "      </script>\n",
              "    </div>\n",
              "  </div>\n",
              "  "
            ]
          },
          "metadata": {},
          "execution_count": 11
        }
      ]
    },
    {
      "cell_type": "markdown",
      "source": [
        "**train.corr()**\n",
        "\n",
        "*각 열 간의 상관 계수를 반환하는 메서드*\n",
        "\n",
        "\n",
        "---\n",
        "\n",
        "\n",
        "**상관계수 분석하기**\n",
        "\n",
        "*상관계수(r)은 -1 ~ 1 사이 범위에 존재함*\n",
        "\n",
        "1. r 이 0에 근접할수록 선형관계는 약해짐\n",
        "2. 양수 r 값은 양의 상관관계를 나타냄 (두 변수는 함께 증가함)\n",
        "3. 음수 r 값은 음의 상관관계를 나타냄 (한 변수가 증가하면 다른 한 변수는 감소함) "
      ],
      "metadata": {
        "id": "tRS-48_nRKGA"
      }
    },
    {
      "cell_type": "markdown",
      "source": [
        "**sns.heatmap()**\n",
        "*히트맵을 사용하기 위한 라이브러리*\n",
        "\n",
        "\n",
        "---\n",
        "- 주요 파라미터 \n",
        "  - annot : 수치 표시\n",
        "  - annot_kws = {'size':~} : 수치표시 사이즈\n",
        "  - cmap : 색상변경\n"
      ],
      "metadata": {
        "id": "ji1zZy2Wq4km"
      }
    },
    {
      "cell_type": "code",
      "source": [
        "plt.figure(figsize=(15,15))\n",
        "sns.heatmap(train.corr(),annot = True)"
      ],
      "metadata": {
        "colab": {
          "base_uri": "https://localhost:8080/",
          "height": 987
        },
        "id": "fk7pFj3kQwo0",
        "outputId": "66ef764a-5dd6-4f9a-a27e-729cd46718cc"
      },
      "execution_count": null,
      "outputs": [
        {
          "output_type": "execute_result",
          "data": {
            "text/plain": [
              "<Axes: >"
            ]
          },
          "metadata": {},
          "execution_count": 12
        },
        {
          "output_type": "display_data",
          "data": {
            "text/plain": [
              "<Figure size 1080x1080 with 2 Axes>"
            ],
            "image/png": "[encoded data removed]"
          },
          "metadata": {
            "needs_background": "light"
          }
        }
      ]
    },
    {
      "cell_type": "markdown",
      "source": [
        "**count와 상관관계가 짙은 것 (0.5 근접 ~ 이상)** \n",
        "\n",
        "\n",
        "---\n",
        "\n",
        "\n",
        "hour,temperture, windspread, humidity, ozone\n",
        "\n",
        "ozone은 결측치가 많아서 일방 처리"
      ],
      "metadata": {
        "id": "KgGzs0KiSZ3L"
      }
    },
    {
      "cell_type": "markdown",
      "source": [
        "# 3-1. train 데이터 전처리\n",
        "\n",
        "- 결측치 개수 확인\n",
        "- 결측치 제외 전체 데이터의 경향성 확인\n",
        "- 위의 과정을 통해서 결측치에 대한 대처하기\n",
        "\n"
      ],
      "metadata": {
        "id": "cFyZHQhPTznz"
      }
    },
    {
      "cell_type": "markdown",
      "source": [
        "**1. temperature 결측치**\n",
        "\n",
        "*특이 사항 : 수가 많지 않음*"
      ],
      "metadata": {
        "id": "cMzuQMzevT5R"
      }
    },
    {
      "cell_type": "code",
      "source": [
        "# temperature 텍스트 중에서 결측치가 있는 열만 확인\n",
        "\n",
        "train[train['hour_bef_temperature'].isnull()]"
      ],
      "metadata": {
        "colab": {
          "base_uri": "https://localhost:8080/",
          "height": 176
        },
        "id": "op2L3x7MQ1S8",
        "outputId": "034571e4-6411-47fc-95f4-c7bf72629364"
      },
      "execution_count": null,
      "outputs": [
        {
          "output_type": "execute_result",
          "data": {
            "text/plain": [
              "        id  hour  hour_bef_temperature  hour_bef_precipitation  \\\n",
              "934   1420     0                   NaN                     NaN   \n",
              "1035  1553    18                   NaN                     NaN   \n",
              "\n",
              "      hour_bef_windspeed  hour_bef_humidity  hour_bef_visibility  \\\n",
              "934                  NaN                NaN                  NaN   \n",
              "1035                 NaN                NaN                  NaN   \n",
              "\n",
              "      hour_bef_ozone  hour_bef_pm10  hour_bef_pm2.5  count  \n",
              "934              NaN            NaN             NaN   39.0  \n",
              "1035             NaN            NaN             NaN    1.0  "
            ],
            "text/html": [
              "\n",
              "  <div id=\"df-d52a3a38-40fa-48be-a9bf-408a0d690cb4\">\n",
              "    <div class=\"colab-df-container\">\n",
              "      <div>\n",
              "<style scoped>\n",
              "    .dataframe tbody tr th:only-of-type {\n",
              "        vertical-align: middle;\n",
              "    }\n",
              "\n",
              "    .dataframe tbody tr th {\n",
              "        vertical-align: top;\n",
              "    }\n",
              "\n",
              "    .dataframe thead th {\n",
              "        text-align: right;\n",
              "    }\n",
              "</style>\n",
              "<table border=\"1\" class=\"dataframe\">\n",
              "  <thead>\n",
              "    <tr style=\"text-align: right;\">\n",
              "      <th></th>\n",
              "      <th>id</th>\n",
              "      <th>hour</th>\n",
              "      <th>hour_bef_temperature</th>\n",
              "      <th>hour_bef_precipitation</th>\n",
              "      <th>hour_bef_windspeed</th>\n",
              "      <th>hour_bef_humidity</th>\n",
              "      <th>hour_bef_visibility</th>\n",
              "      <th>hour_bef_ozone</th>\n",
              "      <th>hour_bef_pm10</th>\n",
              "      <th>hour_bef_pm2.5</th>\n",
              "      <th>count</th>\n",
              "    </tr>\n",
              "  </thead>\n",
              "  <tbody>\n",
              "    <tr>\n",
              "      <th>934</th>\n",
              "      <td>1420</td>\n",
              "      <td>0</td>\n",
              "      <td>NaN</td>\n",
              "      <td>NaN</td>\n",
              "      <td>NaN</td>\n",
              "      <td>NaN</td>\n",
              "      <td>NaN</td>\n",
              "      <td>NaN</td>\n",
              "      <td>NaN</td>\n",
              "      <td>NaN</td>\n",
              "      <td>39.0</td>\n",
              "    </tr>\n",
              "    <tr>\n",
              "      <th>1035</th>\n",
              "      <td>1553</td>\n",
              "      <td>18</td>\n",
              "      <td>NaN</td>\n",
              "      <td>NaN</td>\n",
              "      <td>NaN</td>\n",
              "      <td>NaN</td>\n",
              "      <td>NaN</td>\n",
              "      <td>NaN</td>\n",
              "      <td>NaN</td>\n",
              "      <td>NaN</td>\n",
              "      <td>1.0</td>\n",
              "    </tr>\n",
              "  </tbody>\n",
              "</table>\n",
              "</div>\n",
              "      <button class=\"colab-df-convert\" onclick=\"convertToInteractive('df-d52a3a38-40fa-48be-a9bf-408a0d690cb4')\"\n",
              "              title=\"Convert this dataframe to an interactive table.\"\n",
              "              style=\"display:none;\">\n",
              "        \n",
              "  <svg xmlns=\"http://www.w3.org/2000/svg\" height=\"24px\"viewBox=\"0 0 24 24\"\n",
              "       width=\"24px\">\n",
              "    <path d=\"M0 0h24v24H0V0z\" fill=\"none\"/>\n",
              "    <path d=\"M18.56 5.44l.94 2.06.94-2.06 2.06-.94-2.06-.94-.94-2.06-.94 2.06-2.06.94zm-11 1L8.5 8.5l.94-2.06 2.06-.94-2.06-.94L8.5 2.5l-.94 2.06-2.06.94zm10 10l.94 2.06.94-2.06 2.06-.94-2.06-.94-.94-2.06-.94 2.06-2.06.94z\"/><path d=\"M17.41 7.96l-1.37-1.37c-.4-.4-.92-.59-1.43-.59-.52 0-1.04.2-1.43.59L10.3 9.45l-7.72 7.72c-.78.78-.78 2.05 0 2.83L4 21.41c.39.39.9.59 1.41.59.51 0 1.02-.2 1.41-.59l7.78-7.78 2.81-2.81c.8-.78.8-2.07 0-2.86zM5.41 20L4 18.59l7.72-7.72 1.47 1.35L5.41 20z\"/>\n",
              "  </svg>\n",
              "      </button>\n",
              "      \n",
              "  <style>\n",
              "    .colab-df-container {\n",
              "      display:flex;\n",
              "      flex-wrap:wrap;\n",
              "      gap: 12px;\n",
              "    }\n",
              "\n",
              "    .colab-df-convert {\n",
              "      background-color: #E8F0FE;\n",
              "      border: none;\n",
              "      border-radius: 50%;\n",
              "      cursor: pointer;\n",
              "      display: none;\n",
              "      fill: #1967D2;\n",
              "      height: 32px;\n",
              "      padding: 0 0 0 0;\n",
              "      width: 32px;\n",
              "    }\n",
              "\n",
              "    .colab-df-convert:hover {\n",
              "      background-color: #E2EBFA;\n",
              "      box-shadow: 0px 1px 2px rgba(60, 64, 67, 0.3), 0px 1px 3px 1px rgba(60, 64, 67, 0.15);\n",
              "      fill: #174EA6;\n",
              "    }\n",
              "\n",
              "    [theme=dark] .colab-df-convert {\n",
              "      background-color: #3B4455;\n",
              "      fill: #D2E3FC;\n",
              "    }\n",
              "\n",
              "    [theme=dark] .colab-df-convert:hover {\n",
              "      background-color: #434B5C;\n",
              "      box-shadow: 0px 1px 3px 1px rgba(0, 0, 0, 0.15);\n",
              "      filter: drop-shadow(0px 1px 2px rgba(0, 0, 0, 0.3));\n",
              "      fill: #FFFFFF;\n",
              "    }\n",
              "  </style>\n",
              "\n",
              "      <script>\n",
              "        const buttonEl =\n",
              "          document.querySelector('#df-d52a3a38-40fa-48be-a9bf-408a0d690cb4 button.colab-df-convert');\n",
              "        buttonEl.style.display =\n",
              "          google.colab.kernel.accessAllowed ? 'block' : 'none';\n",
              "\n",
              "        async function convertToInteractive(key) {\n",
              "          const element = document.querySelector('#df-d52a3a38-40fa-48be-a9bf-408a0d690cb4');\n",
              "          const dataTable =\n",
              "            await google.colab.kernel.invokeFunction('convertToInteractive',\n",
              "                                                     [key], {});\n",
              "          if (!dataTable) return;\n",
              "\n",
              "          const docLinkHtml = 'Like what you see? Visit the ' +\n",
              "            '<a target=\"_blank\" href=https://colab.research.google.com/notebooks/data_table.ipynb>data table notebook</a>'\n",
              "            + ' to learn more about interactive tables.';\n",
              "          element.innerHTML = '';\n",
              "          dataTable['output_type'] = 'display_data';\n",
              "          await google.colab.output.renderOutput(dataTable, element);\n",
              "          const docLink = document.createElement('div');\n",
              "          docLink.innerHTML = docLinkHtml;\n",
              "          element.appendChild(docLink);\n",
              "        }\n",
              "      </script>\n",
              "    </div>\n",
              "  </div>\n",
              "  "
            ]
          },
          "metadata": {},
          "execution_count": 13
        }
      ]
    },
    {
      "cell_type": "code",
      "source": [
        "# 결측치를 채우기 위해서 시간당 평균 값 도출\n",
        "\n",
        "hour_temp=train.groupby('hour').mean()['hour_bef_temperature']\n",
        "hour_temp"
      ],
      "metadata": {
        "colab": {
          "base_uri": "https://localhost:8080/"
        },
        "id": "w9GAy8i1S5cU",
        "outputId": "c6786d16-bf59-4f67-936d-c2d28718e18b"
      },
      "execution_count": null,
      "outputs": [
        {
          "output_type": "execute_result",
          "data": {
            "text/plain": [
              "hour\n",
              "0     14.788136\n",
              "1     14.155738\n",
              "2     13.747541\n",
              "3     13.357377\n",
              "4     13.001639\n",
              "5     12.673770\n",
              "6     12.377049\n",
              "7     12.191803\n",
              "8     12.600000\n",
              "9     14.318033\n",
              "10    16.242623\n",
              "11    18.019672\n",
              "12    19.457377\n",
              "13    20.648333\n",
              "14    21.234426\n",
              "15    21.744262\n",
              "16    22.015000\n",
              "17    21.603333\n",
              "18    20.926667\n",
              "19    19.704918\n",
              "20    18.191803\n",
              "21    16.978333\n",
              "22    16.063934\n",
              "23    15.418033\n",
              "Name: hour_bef_temperature, dtype: float64"
            ]
          },
          "metadata": {},
          "execution_count": 14
        }
      ]
    },
    {
      "cell_type": "code",
      "source": [
        "# 시간당 온도 값에 차이가 많이 남 -> 0이나 평균값 등 하나의 값으로 통일할 수 없음\n",
        "# 따라서 시간당 평균값을 해당 NaN 값에 넣어서 결측치를 채워줌\n",
        "\n",
        "plt.plot(hour_temp)"
      ],
      "metadata": {
        "colab": {
          "base_uri": "https://localhost:8080/",
          "height": 283
        },
        "id": "AKLu3JL-UBvs",
        "outputId": "e71e4623-129a-4e22-b269-50ad575918df"
      },
      "execution_count": null,
      "outputs": [
        {
          "output_type": "execute_result",
          "data": {
            "text/plain": [
              "[<matplotlib.lines.Line2D at 0x7f30aed4e190>]"
            ]
          },
          "metadata": {},
          "execution_count": 15
        },
        {
          "output_type": "display_data",
          "data": {
            "text/plain": [
              "<Figure size 432x288 with 1 Axes>"
            ],
            "image/png": "[encoded data removed]"
          },
          "metadata": {
            "needs_background": "light"
          }
        }
      ]
    },
    {
      "cell_type": "code",
      "source": [
        "train['hour_bef_temperature'].fillna({934:14.788136,1035:20.926667},inplace = True)"
      ],
      "metadata": {
        "id": "IPh2W1azUV44"
      },
      "execution_count": null,
      "outputs": []
    },
    {
      "cell_type": "markdown",
      "source": [
        "**train.fillna()**\n",
        "\n",
        "*결측값을 채우는 역할을 수행*\n",
        "\n",
        "\n",
        "---\n",
        "- 여러 값을 한번에 채우기 \n",
        "  - zero : df[col].fillna(0)\n",
        "  - mean : df[col].fillna(df[col].mean())\n",
        "    - median, min, max도 같은 방식으로 채울 수 있음\n",
        "\n",
        "- 특정 값으로 채우기 \n",
        "  - df[col].fillna[{a:b,c:d}, inplace = True)\n",
        "    - 여러값을 한번에 채울 때도 inplace = True 해줘야함"
      ],
      "metadata": {
        "id": "MrIABFdxta9x"
      }
    },
    {
      "cell_type": "code",
      "source": [
        "train.loc[[934, 1035],:]"
      ],
      "metadata": {
        "colab": {
          "base_uri": "https://localhost:8080/",
          "height": 176
        },
        "id": "Or6BGdQtU99P",
        "outputId": "9c6e9046-2e21-4931-a7f7-0d3b00e31123"
      },
      "execution_count": null,
      "outputs": [
        {
          "output_type": "execute_result",
          "data": {
            "text/plain": [
              "        id  hour  hour_bef_temperature  hour_bef_precipitation  \\\n",
              "934   1420     0             14.788136                     NaN   \n",
              "1035  1553    18             20.926667                     NaN   \n",
              "\n",
              "      hour_bef_windspeed  hour_bef_humidity  hour_bef_visibility  \\\n",
              "934                  NaN                NaN                  NaN   \n",
              "1035                 NaN                NaN                  NaN   \n",
              "\n",
              "      hour_bef_ozone  hour_bef_pm10  hour_bef_pm2.5  count  \n",
              "934              NaN            NaN             NaN   39.0  \n",
              "1035             NaN            NaN             NaN    1.0  "
            ],
            "text/html": [
              "\n",
              "  <div id=\"df-be1e56f3-71da-4b85-a851-00a3e3cd51c9\">\n",
              "    <div class=\"colab-df-container\">\n",
              "      <div>\n",
              "<style scoped>\n",
              "    .dataframe tbody tr th:only-of-type {\n",
              "        vertical-align: middle;\n",
              "    }\n",
              "\n",
              "    .dataframe tbody tr th {\n",
              "        vertical-align: top;\n",
              "    }\n",
              "\n",
              "    .dataframe thead th {\n",
              "        text-align: right;\n",
              "    }\n",
              "</style>\n",
              "<table border=\"1\" class=\"dataframe\">\n",
              "  <thead>\n",
              "    <tr style=\"text-align: right;\">\n",
              "      <th></th>\n",
              "      <th>id</th>\n",
              "      <th>hour</th>\n",
              "      <th>hour_bef_temperature</th>\n",
              "      <th>hour_bef_precipitation</th>\n",
              "      <th>hour_bef_windspeed</th>\n",
              "      <th>hour_bef_humidity</th>\n",
              "      <th>hour_bef_visibility</th>\n",
              "      <th>hour_bef_ozone</th>\n",
              "      <th>hour_bef_pm10</th>\n",
              "      <th>hour_bef_pm2.5</th>\n",
              "      <th>count</th>\n",
              "    </tr>\n",
              "  </thead>\n",
              "  <tbody>\n",
              "    <tr>\n",
              "      <th>934</th>\n",
              "      <td>1420</td>\n",
              "      <td>0</td>\n",
              "      <td>14.788136</td>\n",
              "      <td>NaN</td>\n",
              "      <td>NaN</td>\n",
              "      <td>NaN</td>\n",
              "      <td>NaN</td>\n",
              "      <td>NaN</td>\n",
              "      <td>NaN</td>\n",
              "      <td>NaN</td>\n",
              "      <td>39.0</td>\n",
              "    </tr>\n",
              "    <tr>\n",
              "      <th>1035</th>\n",
              "      <td>1553</td>\n",
              "      <td>18</td>\n",
              "      <td>20.926667</td>\n",
              "      <td>NaN</td>\n",
              "      <td>NaN</td>\n",
              "      <td>NaN</td>\n",
              "      <td>NaN</td>\n",
              "      <td>NaN</td>\n",
              "      <td>NaN</td>\n",
              "      <td>NaN</td>\n",
              "      <td>1.0</td>\n",
              "    </tr>\n",
              "  </tbody>\n",
              "</table>\n",
              "</div>\n",
              "      <button class=\"colab-df-convert\" onclick=\"convertToInteractive('df-be1e56f3-71da-4b85-a851-00a3e3cd51c9')\"\n",
              "              title=\"Convert this dataframe to an interactive table.\"\n",
              "              style=\"display:none;\">\n",
              "        \n",
              "  <svg xmlns=\"http://www.w3.org/2000/svg\" height=\"24px\"viewBox=\"0 0 24 24\"\n",
              "       width=\"24px\">\n",
              "    <path d=\"M0 0h24v24H0V0z\" fill=\"none\"/>\n",
              "    <path d=\"M18.56 5.44l.94 2.06.94-2.06 2.06-.94-2.06-.94-.94-2.06-.94 2.06-2.06.94zm-11 1L8.5 8.5l.94-2.06 2.06-.94-2.06-.94L8.5 2.5l-.94 2.06-2.06.94zm10 10l.94 2.06.94-2.06 2.06-.94-2.06-.94-.94-2.06-.94 2.06-2.06.94z\"/><path d=\"M17.41 7.96l-1.37-1.37c-.4-.4-.92-.59-1.43-.59-.52 0-1.04.2-1.43.59L10.3 9.45l-7.72 7.72c-.78.78-.78 2.05 0 2.83L4 21.41c.39.39.9.59 1.41.59.51 0 1.02-.2 1.41-.59l7.78-7.78 2.81-2.81c.8-.78.8-2.07 0-2.86zM5.41 20L4 18.59l7.72-7.72 1.47 1.35L5.41 20z\"/>\n",
              "  </svg>\n",
              "      </button>\n",
              "      \n",
              "  <style>\n",
              "    .colab-df-container {\n",
              "      display:flex;\n",
              "      flex-wrap:wrap;\n",
              "      gap: 12px;\n",
              "    }\n",
              "\n",
              "    .colab-df-convert {\n",
              "      background-color: #E8F0FE;\n",
              "      border: none;\n",
              "      border-radius: 50%;\n",
              "      cursor: pointer;\n",
              "      display: none;\n",
              "      fill: #1967D2;\n",
              "      height: 32px;\n",
              "      padding: 0 0 0 0;\n",
              "      width: 32px;\n",
              "    }\n",
              "\n",
              "    .colab-df-convert:hover {\n",
              "      background-color: #E2EBFA;\n",
              "      box-shadow: 0px 1px 2px rgba(60, 64, 67, 0.3), 0px 1px 3px 1px rgba(60, 64, 67, 0.15);\n",
              "      fill: #174EA6;\n",
              "    }\n",
              "\n",
              "    [theme=dark] .colab-df-convert {\n",
              "      background-color: #3B4455;\n",
              "      fill: #D2E3FC;\n",
              "    }\n",
              "\n",
              "    [theme=dark] .colab-df-convert:hover {\n",
              "      background-color: #434B5C;\n",
              "      box-shadow: 0px 1px 3px 1px rgba(0, 0, 0, 0.15);\n",
              "      filter: drop-shadow(0px 1px 2px rgba(0, 0, 0, 0.3));\n",
              "      fill: #FFFFFF;\n",
              "    }\n",
              "  </style>\n",
              "\n",
              "      <script>\n",
              "        const buttonEl =\n",
              "          document.querySelector('#df-be1e56f3-71da-4b85-a851-00a3e3cd51c9 button.colab-df-convert');\n",
              "        buttonEl.style.display =\n",
              "          google.colab.kernel.accessAllowed ? 'block' : 'none';\n",
              "\n",
              "        async function convertToInteractive(key) {\n",
              "          const element = document.querySelector('#df-be1e56f3-71da-4b85-a851-00a3e3cd51c9');\n",
              "          const dataTable =\n",
              "            await google.colab.kernel.invokeFunction('convertToInteractive',\n",
              "                                                     [key], {});\n",
              "          if (!dataTable) return;\n",
              "\n",
              "          const docLinkHtml = 'Like what you see? Visit the ' +\n",
              "            '<a target=\"_blank\" href=https://colab.research.google.com/notebooks/data_table.ipynb>data table notebook</a>'\n",
              "            + ' to learn more about interactive tables.';\n",
              "          element.innerHTML = '';\n",
              "          dataTable['output_type'] = 'display_data';\n",
              "          await google.colab.output.renderOutput(dataTable, element);\n",
              "          const docLink = document.createElement('div');\n",
              "          docLink.innerHTML = docLinkHtml;\n",
              "          element.appendChild(docLink);\n",
              "        }\n",
              "      </script>\n",
              "    </div>\n",
              "  </div>\n",
              "  "
            ]
          },
          "metadata": {},
          "execution_count": 17
        }
      ]
    },
    {
      "cell_type": "markdown",
      "source": [
        "**2. Windspread 결측치**\n",
        "\n",
        "*특이사항 : 결측치 많지 않음 -> 위와 같은 메커니즘으로 진행*"
      ],
      "metadata": {
        "id": "TPlQESdoVLBf"
      }
    },
    {
      "cell_type": "code",
      "source": [
        "train[train['hour_bef_windspeed'].isnull()]"
      ],
      "metadata": {
        "colab": {
          "base_uri": "https://localhost:8080/",
          "height": 395
        },
        "id": "wzHim303VXuZ",
        "outputId": "19118ef4-1314-4ab2-dd62-347d2746e947"
      },
      "execution_count": null,
      "outputs": [
        {
          "output_type": "execute_result",
          "data": {
            "text/plain": [
              "        id  hour  hour_bef_temperature  hour_bef_precipitation  \\\n",
              "18      33    13             22.600000                     0.0   \n",
              "244    381     1             14.100000                     0.0   \n",
              "260    404     3             14.000000                     0.0   \n",
              "376    570     0             14.300000                     0.0   \n",
              "780   1196    20             16.500000                     0.0   \n",
              "934   1420     0             14.788136                     NaN   \n",
              "1035  1553    18             20.926667                     NaN   \n",
              "1138  1717    12             21.400000                     0.0   \n",
              "1229  1855     2             14.000000                     0.0   \n",
              "\n",
              "      hour_bef_windspeed  hour_bef_humidity  hour_bef_visibility  \\\n",
              "18                   NaN               41.0                987.0   \n",
              "244                  NaN               55.0               1992.0   \n",
              "260                  NaN               50.0               2000.0   \n",
              "376                  NaN               49.0               2000.0   \n",
              "780                  NaN               31.0               2000.0   \n",
              "934                  NaN                NaN                  NaN   \n",
              "1035                 NaN                NaN                  NaN   \n",
              "1138                 NaN               44.0               1375.0   \n",
              "1229                 NaN               52.0               2000.0   \n",
              "\n",
              "      hour_bef_ozone  hour_bef_pm10  hour_bef_pm2.5  count  \n",
              "18             0.046           64.0            39.0  208.0  \n",
              "244              NaN            NaN             NaN   38.0  \n",
              "260            0.049           35.0            22.0   17.0  \n",
              "376            0.044           37.0            20.0   58.0  \n",
              "780            0.058           39.0            18.0  181.0  \n",
              "934              NaN            NaN             NaN   39.0  \n",
              "1035             NaN            NaN             NaN    1.0  \n",
              "1138           0.044           61.0            37.0  116.0  \n",
              "1229           0.044           37.0            20.0   20.0  "
            ],
            "text/html": [
              "\n",
              "  <div id=\"df-8d322f89-4761-4891-83ac-6bf24a9cbe90\">\n",
              "    <div class=\"colab-df-container\">\n",
              "      <div>\n",
              "<style scoped>\n",
              "    .dataframe tbody tr th:only-of-type {\n",
              "        vertical-align: middle;\n",
              "    }\n",
              "\n",
              "    .dataframe tbody tr th {\n",
              "        vertical-align: top;\n",
              "    }\n",
              "\n",
              "    .dataframe thead th {\n",
              "        text-align: right;\n",
              "    }\n",
              "</style>\n",
              "<table border=\"1\" class=\"dataframe\">\n",
              "  <thead>\n",
              "    <tr style=\"text-align: right;\">\n",
              "      <th></th>\n",
              "      <th>id</th>\n",
              "      <th>hour</th>\n",
              "      <th>hour_bef_temperature</th>\n",
              "      <th>hour_bef_precipitation</th>\n",
              "      <th>hour_bef_windspeed</th>\n",
              "      <th>hour_bef_humidity</th>\n",
              "      <th>hour_bef_visibility</th>\n",
              "      <th>hour_bef_ozone</th>\n",
              "      <th>hour_bef_pm10</th>\n",
              "      <th>hour_bef_pm2.5</th>\n",
              "      <th>count</th>\n",
              "    </tr>\n",
              "  </thead>\n",
              "  <tbody>\n",
              "    <tr>\n",
              "      <th>18</th>\n",
              "      <td>33</td>\n",
              "      <td>13</td>\n",
              "      <td>22.600000</td>\n",
              "      <td>0.0</td>\n",
              "      <td>NaN</td>\n",
              "      <td>41.0</td>\n",
              "      <td>987.0</td>\n",
              "      <td>0.046</td>\n",
              "      <td>64.0</td>\n",
              "      <td>39.0</td>\n",
              "      <td>208.0</td>\n",
              "    </tr>\n",
              "    <tr>\n",
              "      <th>244</th>\n",
              "      <td>381</td>\n",
              "      <td>1</td>\n",
              "      <td>14.100000</td>\n",
              "      <td>0.0</td>\n",
              "      <td>NaN</td>\n",
              "      <td>55.0</td>\n",
              "      <td>1992.0</td>\n",
              "      <td>NaN</td>\n",
              "      <td>NaN</td>\n",
              "      <td>NaN</td>\n",
              "      <td>38.0</td>\n",
              "    </tr>\n",
              "    <tr>\n",
              "      <th>260</th>\n",
              "      <td>404</td>\n",
              "      <td>3</td>\n",
              "      <td>14.000000</td>\n",
              "      <td>0.0</td>\n",
              "      <td>NaN</td>\n",
              "      <td>50.0</td>\n",
              "      <td>2000.0</td>\n",
              "      <td>0.049</td>\n",
              "      <td>35.0</td>\n",
              "      <td>22.0</td>\n",
              "      <td>17.0</td>\n",
              "    </tr>\n",
              "    <tr>\n",
              "      <th>376</th>\n",
              "      <td>570</td>\n",
              "      <td>0</td>\n",
              "      <td>14.300000</td>\n",
              "      <td>0.0</td>\n",
              "      <td>NaN</td>\n",
              "      <td>49.0</td>\n",
              "      <td>2000.0</td>\n",
              "      <td>0.044</td>\n",
              "      <td>37.0</td>\n",
              "      <td>20.0</td>\n",
              "      <td>58.0</td>\n",
              "    </tr>\n",
              "    <tr>\n",
              "      <th>780</th>\n",
              "      <td>1196</td>\n",
              "      <td>20</td>\n",
              "      <td>16.500000</td>\n",
              "      <td>0.0</td>\n",
              "      <td>NaN</td>\n",
              "      <td>31.0</td>\n",
              "      <td>2000.0</td>\n",
              "      <td>0.058</td>\n",
              "      <td>39.0</td>\n",
              "      <td>18.0</td>\n",
              "      <td>181.0</td>\n",
              "    </tr>\n",
              "    <tr>\n",
              "      <th>934</th>\n",
              "      <td>1420</td>\n",
              "      <td>0</td>\n",
              "      <td>14.788136</td>\n",
              "      <td>NaN</td>\n",
              "      <td>NaN</td>\n",
              "      <td>NaN</td>\n",
              "      <td>NaN</td>\n",
              "      <td>NaN</td>\n",
              "      <td>NaN</td>\n",
              "      <td>NaN</td>\n",
              "      <td>39.0</td>\n",
              "    </tr>\n",
              "    <tr>\n",
              "      <th>1035</th>\n",
              "      <td>1553</td>\n",
              "      <td>18</td>\n",
              "      <td>20.926667</td>\n",
              "      <td>NaN</td>\n",
              "      <td>NaN</td>\n",
              "      <td>NaN</td>\n",
              "      <td>NaN</td>\n",
              "      <td>NaN</td>\n",
              "      <td>NaN</td>\n",
              "      <td>NaN</td>\n",
              "      <td>1.0</td>\n",
              "    </tr>\n",
              "    <tr>\n",
              "      <th>1138</th>\n",
              "      <td>1717</td>\n",
              "      <td>12</td>\n",
              "      <td>21.400000</td>\n",
              "      <td>0.0</td>\n",
              "      <td>NaN</td>\n",
              "      <td>44.0</td>\n",
              "      <td>1375.0</td>\n",
              "      <td>0.044</td>\n",
              "      <td>61.0</td>\n",
              "      <td>37.0</td>\n",
              "      <td>116.0</td>\n",
              "    </tr>\n",
              "    <tr>\n",
              "      <th>1229</th>\n",
              "      <td>1855</td>\n",
              "      <td>2</td>\n",
              "      <td>14.000000</td>\n",
              "      <td>0.0</td>\n",
              "      <td>NaN</td>\n",
              "      <td>52.0</td>\n",
              "      <td>2000.0</td>\n",
              "      <td>0.044</td>\n",
              "      <td>37.0</td>\n",
              "      <td>20.0</td>\n",
              "      <td>20.0</td>\n",
              "    </tr>\n",
              "  </tbody>\n",
              "</table>\n",
              "</div>\n",
              "      <button class=\"colab-df-convert\" onclick=\"convertToInteractive('df-8d322f89-4761-4891-83ac-6bf24a9cbe90')\"\n",
              "              title=\"Convert this dataframe to an interactive table.\"\n",
              "              style=\"display:none;\">\n",
              "        \n",
              "  <svg xmlns=\"http://www.w3.org/2000/svg\" height=\"24px\"viewBox=\"0 0 24 24\"\n",
              "       width=\"24px\">\n",
              "    <path d=\"M0 0h24v24H0V0z\" fill=\"none\"/>\n",
              "    <path d=\"M18.56 5.44l.94 2.06.94-2.06 2.06-.94-2.06-.94-.94-2.06-.94 2.06-2.06.94zm-11 1L8.5 8.5l.94-2.06 2.06-.94-2.06-.94L8.5 2.5l-.94 2.06-2.06.94zm10 10l.94 2.06.94-2.06 2.06-.94-2.06-.94-.94-2.06-.94 2.06-2.06.94z\"/><path d=\"M17.41 7.96l-1.37-1.37c-.4-.4-.92-.59-1.43-.59-.52 0-1.04.2-1.43.59L10.3 9.45l-7.72 7.72c-.78.78-.78 2.05 0 2.83L4 21.41c.39.39.9.59 1.41.59.51 0 1.02-.2 1.41-.59l7.78-7.78 2.81-2.81c.8-.78.8-2.07 0-2.86zM5.41 20L4 18.59l7.72-7.72 1.47 1.35L5.41 20z\"/>\n",
              "  </svg>\n",
              "      </button>\n",
              "      \n",
              "  <style>\n",
              "    .colab-df-container {\n",
              "      display:flex;\n",
              "      flex-wrap:wrap;\n",
              "      gap: 12px;\n",
              "    }\n",
              "\n",
              "    .colab-df-convert {\n",
              "      background-color: #E8F0FE;\n",
              "      border: none;\n",
              "      border-radius: 50%;\n",
              "      cursor: pointer;\n",
              "      display: none;\n",
              "      fill: #1967D2;\n",
              "      height: 32px;\n",
              "      padding: 0 0 0 0;\n",
              "      width: 32px;\n",
              "    }\n",
              "\n",
              "    .colab-df-convert:hover {\n",
              "      background-color: #E2EBFA;\n",
              "      box-shadow: 0px 1px 2px rgba(60, 64, 67, 0.3), 0px 1px 3px 1px rgba(60, 64, 67, 0.15);\n",
              "      fill: #174EA6;\n",
              "    }\n",
              "\n",
              "    [theme=dark] .colab-df-convert {\n",
              "      background-color: #3B4455;\n",
              "      fill: #D2E3FC;\n",
              "    }\n",
              "\n",
              "    [theme=dark] .colab-df-convert:hover {\n",
              "      background-color: #434B5C;\n",
              "      box-shadow: 0px 1px 3px 1px rgba(0, 0, 0, 0.15);\n",
              "      filter: drop-shadow(0px 1px 2px rgba(0, 0, 0, 0.3));\n",
              "      fill: #FFFFFF;\n",
              "    }\n",
              "  </style>\n",
              "\n",
              "      <script>\n",
              "        const buttonEl =\n",
              "          document.querySelector('#df-8d322f89-4761-4891-83ac-6bf24a9cbe90 button.colab-df-convert');\n",
              "        buttonEl.style.display =\n",
              "          google.colab.kernel.accessAllowed ? 'block' : 'none';\n",
              "\n",
              "        async function convertToInteractive(key) {\n",
              "          const element = document.querySelector('#df-8d322f89-4761-4891-83ac-6bf24a9cbe90');\n",
              "          const dataTable =\n",
              "            await google.colab.kernel.invokeFunction('convertToInteractive',\n",
              "                                                     [key], {});\n",
              "          if (!dataTable) return;\n",
              "\n",
              "          const docLinkHtml = 'Like what you see? Visit the ' +\n",
              "            '<a target=\"_blank\" href=https://colab.research.google.com/notebooks/data_table.ipynb>data table notebook</a>'\n",
              "            + ' to learn more about interactive tables.';\n",
              "          element.innerHTML = '';\n",
              "          dataTable['output_type'] = 'display_data';\n",
              "          await google.colab.output.renderOutput(dataTable, element);\n",
              "          const docLink = document.createElement('div');\n",
              "          docLink.innerHTML = docLinkHtml;\n",
              "          element.appendChild(docLink);\n",
              "        }\n",
              "      </script>\n",
              "    </div>\n",
              "  </div>\n",
              "  "
            ]
          },
          "metadata": {},
          "execution_count": 18
        }
      ]
    },
    {
      "cell_type": "markdown",
      "source": [
        "**sns.Implot**\n",
        "\n",
        "*산점도와 회귀 직선을 동시에 그릴 수 있음*\n",
        "\n",
        "\n",
        "---\n",
        "\n",
        "- sns.lmplot(x='a', y='b', data=df) : 기본 형식\n",
        "\n",
        "https://zephyrus1111.tistory.com/265 : 구체적인 사용 방식 설명\n"
      ],
      "metadata": {
        "id": "bN7GWpbKuvt5"
      }
    },
    {
      "cell_type": "code",
      "source": [
        "sns.lmplot(x ='hour', y='hour_bef_windspeed', data = train)"
      ],
      "metadata": {
        "colab": {
          "base_uri": "https://localhost:8080/",
          "height": 387
        },
        "id": "mZfxS8SAVxJh",
        "outputId": "a606c8c8-cc74-4bc3-8d14-d6a7cf8ed179"
      },
      "execution_count": null,
      "outputs": [
        {
          "output_type": "execute_result",
          "data": {
            "text/plain": [
              "<seaborn.axisgrid.FacetGrid at 0x7f30ba65d2b0>"
            ]
          },
          "metadata": {},
          "execution_count": 19
        },
        {
          "output_type": "display_data",
          "data": {
            "text/plain": [
              "<Figure size 360x360 with 1 Axes>"
            ],
            "image/png": "[encoded data removed]"
          },
          "metadata": {
            "needs_background": "light"
          }
        }
      ]
    },
    {
      "cell_type": "code",
      "source": [
        "hour_wind = train.groupby('hour').mean()['hour_bef_windspeed']\n",
        "hour_wind"
      ],
      "metadata": {
        "colab": {
          "base_uri": "https://localhost:8080/"
        },
        "id": "V3GPZP2EV9eF",
        "outputId": "96b1d469-57d5-4b91-d26f-cb9693291f7a"
      },
      "execution_count": null,
      "outputs": [
        {
          "output_type": "execute_result",
          "data": {
            "text/plain": [
              "hour\n",
              "0     1.965517\n",
              "1     1.836667\n",
              "2     1.633333\n",
              "3     1.620000\n",
              "4     1.409836\n",
              "5     1.296721\n",
              "6     1.331148\n",
              "7     1.262295\n",
              "8     1.632787\n",
              "9     1.829508\n",
              "10    2.122951\n",
              "11    2.485246\n",
              "12    2.766667\n",
              "13    3.281356\n",
              "14    3.522951\n",
              "15    3.768852\n",
              "16    3.820000\n",
              "17    3.801667\n",
              "18    3.838333\n",
              "19    3.595082\n",
              "20    3.278333\n",
              "21    2.755000\n",
              "22    2.498361\n",
              "23    2.195082\n",
              "Name: hour_bef_windspeed, dtype: float64"
            ]
          },
          "metadata": {},
          "execution_count": 20
        }
      ]
    },
    {
      "cell_type": "code",
      "source": [
        "train['hour_bef_windspeed'].fillna({18:3.281356,244:1.836667260,260:1.620000,376:1.965517,780:3.278333,934:1.965517,1035:3.838333,1138:2.766667,1229:1.633333},inplace = True)"
      ],
      "metadata": {
        "id": "8Ci4FIWecnMz"
      },
      "execution_count": null,
      "outputs": []
    },
    {
      "cell_type": "code",
      "source": [
        "train.isnull().sum()"
      ],
      "metadata": {
        "colab": {
          "base_uri": "https://localhost:8080/"
        },
        "id": "woZeldpZfx4V",
        "outputId": "9028ed77-72ed-4d01-d53b-57e12f57c753"
      },
      "execution_count": null,
      "outputs": [
        {
          "output_type": "execute_result",
          "data": {
            "text/plain": [
              "id                          0\n",
              "hour                        0\n",
              "hour_bef_temperature        0\n",
              "hour_bef_precipitation      2\n",
              "hour_bef_windspeed          0\n",
              "hour_bef_humidity           2\n",
              "hour_bef_visibility         2\n",
              "hour_bef_ozone             76\n",
              "hour_bef_pm10              90\n",
              "hour_bef_pm2.5            117\n",
              "count                       0\n",
              "dtype: int64"
            ]
          },
          "metadata": {},
          "execution_count": 22
        }
      ]
    },
    {
      "cell_type": "markdown",
      "source": [
        "**3. humidity 결측값**\n",
        "\n",
        "*특이사항 : 결측치 많지 않음 -> 위와 같은 메커니즘으로 진행*"
      ],
      "metadata": {
        "id": "6E2tHuwCguIi"
      }
    },
    {
      "cell_type": "code",
      "source": [
        "train[train['hour_bef_humidity'].isnull()]"
      ],
      "metadata": {
        "colab": {
          "base_uri": "https://localhost:8080/",
          "height": 176
        },
        "id": "oYDvLK_ukH2E",
        "outputId": "bb9b3686-0f08-4309-84f0-fca972ff58d4"
      },
      "execution_count": null,
      "outputs": [
        {
          "output_type": "execute_result",
          "data": {
            "text/plain": [
              "        id  hour  hour_bef_temperature  hour_bef_precipitation  \\\n",
              "934   1420     0             14.788136                     NaN   \n",
              "1035  1553    18             20.926667                     NaN   \n",
              "\n",
              "      hour_bef_windspeed  hour_bef_humidity  hour_bef_visibility  \\\n",
              "934             1.965517                NaN                  NaN   \n",
              "1035            3.838333                NaN                  NaN   \n",
              "\n",
              "      hour_bef_ozone  hour_bef_pm10  hour_bef_pm2.5  count  \n",
              "934              NaN            NaN             NaN   39.0  \n",
              "1035             NaN            NaN             NaN    1.0  "
            ],
            "text/html": [
              "\n",
              "  <div id=\"df-192c6996-5cae-4b40-8889-5bfb2736b4a4\">\n",
              "    <div class=\"colab-df-container\">\n",
              "      <div>\n",
              "<style scoped>\n",
              "    .dataframe tbody tr th:only-of-type {\n",
              "        vertical-align: middle;\n",
              "    }\n",
              "\n",
              "    .dataframe tbody tr th {\n",
              "        vertical-align: top;\n",
              "    }\n",
              "\n",
              "    .dataframe thead th {\n",
              "        text-align: right;\n",
              "    }\n",
              "</style>\n",
              "<table border=\"1\" class=\"dataframe\">\n",
              "  <thead>\n",
              "    <tr style=\"text-align: right;\">\n",
              "      <th></th>\n",
              "      <th>id</th>\n",
              "      <th>hour</th>\n",
              "      <th>hour_bef_temperature</th>\n",
              "      <th>hour_bef_precipitation</th>\n",
              "      <th>hour_bef_windspeed</th>\n",
              "      <th>hour_bef_humidity</th>\n",
              "      <th>hour_bef_visibility</th>\n",
              "      <th>hour_bef_ozone</th>\n",
              "      <th>hour_bef_pm10</th>\n",
              "      <th>hour_bef_pm2.5</th>\n",
              "      <th>count</th>\n",
              "    </tr>\n",
              "  </thead>\n",
              "  <tbody>\n",
              "    <tr>\n",
              "      <th>934</th>\n",
              "      <td>1420</td>\n",
              "      <td>0</td>\n",
              "      <td>14.788136</td>\n",
              "      <td>NaN</td>\n",
              "      <td>1.965517</td>\n",
              "      <td>NaN</td>\n",
              "      <td>NaN</td>\n",
              "      <td>NaN</td>\n",
              "      <td>NaN</td>\n",
              "      <td>NaN</td>\n",
              "      <td>39.0</td>\n",
              "    </tr>\n",
              "    <tr>\n",
              "      <th>1035</th>\n",
              "      <td>1553</td>\n",
              "      <td>18</td>\n",
              "      <td>20.926667</td>\n",
              "      <td>NaN</td>\n",
              "      <td>3.838333</td>\n",
              "      <td>NaN</td>\n",
              "      <td>NaN</td>\n",
              "      <td>NaN</td>\n",
              "      <td>NaN</td>\n",
              "      <td>NaN</td>\n",
              "      <td>1.0</td>\n",
              "    </tr>\n",
              "  </tbody>\n",
              "</table>\n",
              "</div>\n",
              "      <button class=\"colab-df-convert\" onclick=\"convertToInteractive('df-192c6996-5cae-4b40-8889-5bfb2736b4a4')\"\n",
              "              title=\"Convert this dataframe to an interactive table.\"\n",
              "              style=\"display:none;\">\n",
              "        \n",
              "  <svg xmlns=\"http://www.w3.org/2000/svg\" height=\"24px\"viewBox=\"0 0 24 24\"\n",
              "       width=\"24px\">\n",
              "    <path d=\"M0 0h24v24H0V0z\" fill=\"none\"/>\n",
              "    <path d=\"M18.56 5.44l.94 2.06.94-2.06 2.06-.94-2.06-.94-.94-2.06-.94 2.06-2.06.94zm-11 1L8.5 8.5l.94-2.06 2.06-.94-2.06-.94L8.5 2.5l-.94 2.06-2.06.94zm10 10l.94 2.06.94-2.06 2.06-.94-2.06-.94-.94-2.06-.94 2.06-2.06.94z\"/><path d=\"M17.41 7.96l-1.37-1.37c-.4-.4-.92-.59-1.43-.59-.52 0-1.04.2-1.43.59L10.3 9.45l-7.72 7.72c-.78.78-.78 2.05 0 2.83L4 21.41c.39.39.9.59 1.41.59.51 0 1.02-.2 1.41-.59l7.78-7.78 2.81-2.81c.8-.78.8-2.07 0-2.86zM5.41 20L4 18.59l7.72-7.72 1.47 1.35L5.41 20z\"/>\n",
              "  </svg>\n",
              "      </button>\n",
              "      \n",
              "  <style>\n",
              "    .colab-df-container {\n",
              "      display:flex;\n",
              "      flex-wrap:wrap;\n",
              "      gap: 12px;\n",
              "    }\n",
              "\n",
              "    .colab-df-convert {\n",
              "      background-color: #E8F0FE;\n",
              "      border: none;\n",
              "      border-radius: 50%;\n",
              "      cursor: pointer;\n",
              "      display: none;\n",
              "      fill: #1967D2;\n",
              "      height: 32px;\n",
              "      padding: 0 0 0 0;\n",
              "      width: 32px;\n",
              "    }\n",
              "\n",
              "    .colab-df-convert:hover {\n",
              "      background-color: #E2EBFA;\n",
              "      box-shadow: 0px 1px 2px rgba(60, 64, 67, 0.3), 0px 1px 3px 1px rgba(60, 64, 67, 0.15);\n",
              "      fill: #174EA6;\n",
              "    }\n",
              "\n",
              "    [theme=dark] .colab-df-convert {\n",
              "      background-color: #3B4455;\n",
              "      fill: #D2E3FC;\n",
              "    }\n",
              "\n",
              "    [theme=dark] .colab-df-convert:hover {\n",
              "      background-color: #434B5C;\n",
              "      box-shadow: 0px 1px 3px 1px rgba(0, 0, 0, 0.15);\n",
              "      filter: drop-shadow(0px 1px 2px rgba(0, 0, 0, 0.3));\n",
              "      fill: #FFFFFF;\n",
              "    }\n",
              "  </style>\n",
              "\n",
              "      <script>\n",
              "        const buttonEl =\n",
              "          document.querySelector('#df-192c6996-5cae-4b40-8889-5bfb2736b4a4 button.colab-df-convert');\n",
              "        buttonEl.style.display =\n",
              "          google.colab.kernel.accessAllowed ? 'block' : 'none';\n",
              "\n",
              "        async function convertToInteractive(key) {\n",
              "          const element = document.querySelector('#df-192c6996-5cae-4b40-8889-5bfb2736b4a4');\n",
              "          const dataTable =\n",
              "            await google.colab.kernel.invokeFunction('convertToInteractive',\n",
              "                                                     [key], {});\n",
              "          if (!dataTable) return;\n",
              "\n",
              "          const docLinkHtml = 'Like what you see? Visit the ' +\n",
              "            '<a target=\"_blank\" href=https://colab.research.google.com/notebooks/data_table.ipynb>data table notebook</a>'\n",
              "            + ' to learn more about interactive tables.';\n",
              "          element.innerHTML = '';\n",
              "          dataTable['output_type'] = 'display_data';\n",
              "          await google.colab.output.renderOutput(dataTable, element);\n",
              "          const docLink = document.createElement('div');\n",
              "          docLink.innerHTML = docLinkHtml;\n",
              "          element.appendChild(docLink);\n",
              "        }\n",
              "      </script>\n",
              "    </div>\n",
              "  </div>\n",
              "  "
            ]
          },
          "metadata": {},
          "execution_count": 25
        }
      ]
    },
    {
      "cell_type": "code",
      "source": [
        "sns.lmplot(x ='hour', y='hour_bef_humidity', data = train)"
      ],
      "metadata": {
        "colab": {
          "base_uri": "https://localhost:8080/",
          "height": 387
        },
        "id": "rjDfgk3okPvI",
        "outputId": "a976da71-652d-4528-da7a-ece22daafb34"
      },
      "execution_count": null,
      "outputs": [
        {
          "output_type": "execute_result",
          "data": {
            "text/plain": [
              "<seaborn.axisgrid.FacetGrid at 0x7f30aecabc40>"
            ]
          },
          "metadata": {},
          "execution_count": 26
        },
        {
          "output_type": "display_data",
          "data": {
            "text/plain": [
              "<Figure size 360x360 with 1 Axes>"
            ],
            "image/png": "[encoded data removed]"
          },
          "metadata": {
            "needs_background": "light"
          }
        }
      ]
    },
    {
      "cell_type": "code",
      "source": [
        "hour_hum = train.groupby('hour').mean()['hour_bef_humidity']\n",
        "hour_hum"
      ],
      "metadata": {
        "colab": {
          "base_uri": "https://localhost:8080/"
        },
        "id": "SkdjuHDilIit",
        "outputId": "583853da-eafe-4aff-e92c-98c5859c5a2a"
      },
      "execution_count": null,
      "outputs": [
        {
          "output_type": "execute_result",
          "data": {
            "text/plain": [
              "hour\n",
              "0     58.169492\n",
              "1     60.459016\n",
              "2     61.721311\n",
              "3     63.131148\n",
              "4     64.573770\n",
              "5     66.000000\n",
              "6     67.409836\n",
              "7     67.934426\n",
              "8     64.049180\n",
              "9     57.803279\n",
              "10    51.622951\n",
              "11    46.262295\n",
              "12    42.147541\n",
              "13    38.850000\n",
              "14    37.573770\n",
              "15    37.393443\n",
              "16    36.450000\n",
              "17    38.883333\n",
              "18    40.450000\n",
              "19    43.573770\n",
              "20    47.573770\n",
              "21    50.450000\n",
              "22    53.950820\n",
              "23    56.393443\n",
              "Name: hour_bef_humidity, dtype: float64"
            ]
          },
          "metadata": {},
          "execution_count": 28
        }
      ]
    },
    {
      "cell_type": "code",
      "source": [
        "plt.plot(hour_hum)"
      ],
      "metadata": {
        "colab": {
          "base_uri": "https://localhost:8080/",
          "height": 283
        },
        "id": "jqNpcCHZlV-T",
        "outputId": "0c3b62ef-42a5-46ed-8679-94b304670abe"
      },
      "execution_count": null,
      "outputs": [
        {
          "output_type": "execute_result",
          "data": {
            "text/plain": [
              "[<matplotlib.lines.Line2D at 0x7f30ac09f280>]"
            ]
          },
          "metadata": {},
          "execution_count": 29
        },
        {
          "output_type": "display_data",
          "data": {
            "text/plain": [
              "<Figure size 432x288 with 1 Axes>"
            ],
            "image/png": "[encoded data removed]"
          },
          "metadata": {
            "needs_background": "light"
          }
        }
      ]
    },
    {
      "cell_type": "code",
      "source": [
        "train['hour_bef_humidity'].fillna({934:58.169492,1035:40.450000},inplace = True)"
      ],
      "metadata": {
        "id": "eWxT8mkalZR8"
      },
      "execution_count": null,
      "outputs": []
    },
    {
      "cell_type": "code",
      "source": [
        "train.loc[[934,1035],:]"
      ],
      "metadata": {
        "colab": {
          "base_uri": "https://localhost:8080/",
          "height": 176
        },
        "id": "gHGExdvel035",
        "outputId": "4685dced-35b6-4b41-f601-86c395917c3a"
      },
      "execution_count": null,
      "outputs": [
        {
          "output_type": "execute_result",
          "data": {
            "text/plain": [
              "        id  hour  hour_bef_temperature  hour_bef_precipitation  \\\n",
              "934   1420     0             14.788136                     NaN   \n",
              "1035  1553    18             20.926667                     NaN   \n",
              "\n",
              "      hour_bef_windspeed  hour_bef_humidity  hour_bef_visibility  \\\n",
              "934             1.965517          58.169492                  NaN   \n",
              "1035            3.838333          40.450000                  NaN   \n",
              "\n",
              "      hour_bef_ozone  hour_bef_pm10  hour_bef_pm2.5  count  \n",
              "934              NaN            NaN             NaN   39.0  \n",
              "1035             NaN            NaN             NaN    1.0  "
            ],
            "text/html": [
              "\n",
              "  <div id=\"df-9a373918-16f5-48a7-b2d7-68bc577258e8\">\n",
              "    <div class=\"colab-df-container\">\n",
              "      <div>\n",
              "<style scoped>\n",
              "    .dataframe tbody tr th:only-of-type {\n",
              "        vertical-align: middle;\n",
              "    }\n",
              "\n",
              "    .dataframe tbody tr th {\n",
              "        vertical-align: top;\n",
              "    }\n",
              "\n",
              "    .dataframe thead th {\n",
              "        text-align: right;\n",
              "    }\n",
              "</style>\n",
              "<table border=\"1\" class=\"dataframe\">\n",
              "  <thead>\n",
              "    <tr style=\"text-align: right;\">\n",
              "      <th></th>\n",
              "      <th>id</th>\n",
              "      <th>hour</th>\n",
              "      <th>hour_bef_temperature</th>\n",
              "      <th>hour_bef_precipitation</th>\n",
              "      <th>hour_bef_windspeed</th>\n",
              "      <th>hour_bef_humidity</th>\n",
              "      <th>hour_bef_visibility</th>\n",
              "      <th>hour_bef_ozone</th>\n",
              "      <th>hour_bef_pm10</th>\n",
              "      <th>hour_bef_pm2.5</th>\n",
              "      <th>count</th>\n",
              "    </tr>\n",
              "  </thead>\n",
              "  <tbody>\n",
              "    <tr>\n",
              "      <th>934</th>\n",
              "      <td>1420</td>\n",
              "      <td>0</td>\n",
              "      <td>14.788136</td>\n",
              "      <td>NaN</td>\n",
              "      <td>1.965517</td>\n",
              "      <td>58.169492</td>\n",
              "      <td>NaN</td>\n",
              "      <td>NaN</td>\n",
              "      <td>NaN</td>\n",
              "      <td>NaN</td>\n",
              "      <td>39.0</td>\n",
              "    </tr>\n",
              "    <tr>\n",
              "      <th>1035</th>\n",
              "      <td>1553</td>\n",
              "      <td>18</td>\n",
              "      <td>20.926667</td>\n",
              "      <td>NaN</td>\n",
              "      <td>3.838333</td>\n",
              "      <td>40.450000</td>\n",
              "      <td>NaN</td>\n",
              "      <td>NaN</td>\n",
              "      <td>NaN</td>\n",
              "      <td>NaN</td>\n",
              "      <td>1.0</td>\n",
              "    </tr>\n",
              "  </tbody>\n",
              "</table>\n",
              "</div>\n",
              "      <button class=\"colab-df-convert\" onclick=\"convertToInteractive('df-9a373918-16f5-48a7-b2d7-68bc577258e8')\"\n",
              "              title=\"Convert this dataframe to an interactive table.\"\n",
              "              style=\"display:none;\">\n",
              "        \n",
              "  <svg xmlns=\"http://www.w3.org/2000/svg\" height=\"24px\"viewBox=\"0 0 24 24\"\n",
              "       width=\"24px\">\n",
              "    <path d=\"M0 0h24v24H0V0z\" fill=\"none\"/>\n",
              "    <path d=\"M18.56 5.44l.94 2.06.94-2.06 2.06-.94-2.06-.94-.94-2.06-.94 2.06-2.06.94zm-11 1L8.5 8.5l.94-2.06 2.06-.94-2.06-.94L8.5 2.5l-.94 2.06-2.06.94zm10 10l.94 2.06.94-2.06 2.06-.94-2.06-.94-.94-2.06-.94 2.06-2.06.94z\"/><path d=\"M17.41 7.96l-1.37-1.37c-.4-.4-.92-.59-1.43-.59-.52 0-1.04.2-1.43.59L10.3 9.45l-7.72 7.72c-.78.78-.78 2.05 0 2.83L4 21.41c.39.39.9.59 1.41.59.51 0 1.02-.2 1.41-.59l7.78-7.78 2.81-2.81c.8-.78.8-2.07 0-2.86zM5.41 20L4 18.59l7.72-7.72 1.47 1.35L5.41 20z\"/>\n",
              "  </svg>\n",
              "      </button>\n",
              "      \n",
              "  <style>\n",
              "    .colab-df-container {\n",
              "      display:flex;\n",
              "      flex-wrap:wrap;\n",
              "      gap: 12px;\n",
              "    }\n",
              "\n",
              "    .colab-df-convert {\n",
              "      background-color: #E8F0FE;\n",
              "      border: none;\n",
              "      border-radius: 50%;\n",
              "      cursor: pointer;\n",
              "      display: none;\n",
              "      fill: #1967D2;\n",
              "      height: 32px;\n",
              "      padding: 0 0 0 0;\n",
              "      width: 32px;\n",
              "    }\n",
              "\n",
              "    .colab-df-convert:hover {\n",
              "      background-color: #E2EBFA;\n",
              "      box-shadow: 0px 1px 2px rgba(60, 64, 67, 0.3), 0px 1px 3px 1px rgba(60, 64, 67, 0.15);\n",
              "      fill: #174EA6;\n",
              "    }\n",
              "\n",
              "    [theme=dark] .colab-df-convert {\n",
              "      background-color: #3B4455;\n",
              "      fill: #D2E3FC;\n",
              "    }\n",
              "\n",
              "    [theme=dark] .colab-df-convert:hover {\n",
              "      background-color: #434B5C;\n",
              "      box-shadow: 0px 1px 3px 1px rgba(0, 0, 0, 0.15);\n",
              "      filter: drop-shadow(0px 1px 2px rgba(0, 0, 0, 0.3));\n",
              "      fill: #FFFFFF;\n",
              "    }\n",
              "  </style>\n",
              "\n",
              "      <script>\n",
              "        const buttonEl =\n",
              "          document.querySelector('#df-9a373918-16f5-48a7-b2d7-68bc577258e8 button.colab-df-convert');\n",
              "        buttonEl.style.display =\n",
              "          google.colab.kernel.accessAllowed ? 'block' : 'none';\n",
              "\n",
              "        async function convertToInteractive(key) {\n",
              "          const element = document.querySelector('#df-9a373918-16f5-48a7-b2d7-68bc577258e8');\n",
              "          const dataTable =\n",
              "            await google.colab.kernel.invokeFunction('convertToInteractive',\n",
              "                                                     [key], {});\n",
              "          if (!dataTable) return;\n",
              "\n",
              "          const docLinkHtml = 'Like what you see? Visit the ' +\n",
              "            '<a target=\"_blank\" href=https://colab.research.google.com/notebooks/data_table.ipynb>data table notebook</a>'\n",
              "            + ' to learn more about interactive tables.';\n",
              "          element.innerHTML = '';\n",
              "          dataTable['output_type'] = 'display_data';\n",
              "          await google.colab.output.renderOutput(dataTable, element);\n",
              "          const docLink = document.createElement('div');\n",
              "          docLink.innerHTML = docLinkHtml;\n",
              "          element.appendChild(docLink);\n",
              "        }\n",
              "      </script>\n",
              "    </div>\n",
              "  </div>\n",
              "  "
            ]
          },
          "metadata": {},
          "execution_count": 31
        }
      ]
    },
    {
      "cell_type": "markdown",
      "source": [
        "**4. ozone 결측값**\n",
        "\n",
        "*특이사항 : 결측치 많음*\n",
        "\n",
        "\n",
        "---\n",
        "- 결측치가 많아서 영상에선 다루지 않았지만, 상관계수가 높았기 때문에 선정 & 표준편차 (std) 값이 매우 낮았기 때문에 평균치에 몰려있다고 판단 \n",
        "\n",
        "- 결론적으로, 결측치는 해당 오존 값의 평균값으로 결측치 채움\n",
        "\n"
      ],
      "metadata": {
        "id": "yeCdEll6l9oZ"
      }
    },
    {
      "cell_type": "code",
      "source": [
        "train['hour_bef_ozone'].fillna(train['hour_bef_ozone'].mean(),inplace=True)"
      ],
      "metadata": {
        "id": "w74bGI5Rl8LI"
      },
      "execution_count": null,
      "outputs": []
    },
    {
      "cell_type": "code",
      "source": [
        "train.isnull().sum()"
      ],
      "metadata": {
        "colab": {
          "base_uri": "https://localhost:8080/"
        },
        "id": "bGWGqFRRmO3J",
        "outputId": "536d6e4a-005b-41ab-c314-1a5b9db2587a"
      },
      "execution_count": null,
      "outputs": [
        {
          "output_type": "execute_result",
          "data": {
            "text/plain": [
              "id                          0\n",
              "hour                        0\n",
              "hour_bef_temperature        0\n",
              "hour_bef_precipitation      2\n",
              "hour_bef_windspeed          0\n",
              "hour_bef_humidity           0\n",
              "hour_bef_visibility         2\n",
              "hour_bef_ozone              0\n",
              "hour_bef_pm10              90\n",
              "hour_bef_pm2.5            117\n",
              "count                       0\n",
              "dtype: int64"
            ]
          },
          "metadata": {},
          "execution_count": 33
        }
      ]
    },
    {
      "cell_type": "markdown",
      "source": [
        "# 3-2. test 데이터 전처리\n",
        "*train data 처리했던 방식으로 처리함*\n",
        "\n",
        "*결측치의 개수가 매우 작기 때문에 분석 과정은 생략*"
      ],
      "metadata": {
        "id": "fl1YbODemVpH"
      }
    },
    {
      "cell_type": "code",
      "source": [
        "test.isnull().sum()"
      ],
      "metadata": {
        "colab": {
          "base_uri": "https://localhost:8080/"
        },
        "id": "cTa6v8evmTzM",
        "outputId": "80d524ec-614c-4c4d-c844-9ae6a58dfb74"
      },
      "execution_count": null,
      "outputs": [
        {
          "output_type": "execute_result",
          "data": {
            "text/plain": [
              "id                         0\n",
              "hour                       0\n",
              "hour_bef_temperature       1\n",
              "hour_bef_precipitation     1\n",
              "hour_bef_windspeed         1\n",
              "hour_bef_humidity          1\n",
              "hour_bef_visibility        1\n",
              "hour_bef_ozone            35\n",
              "hour_bef_pm10             37\n",
              "hour_bef_pm2.5            36\n",
              "dtype: int64"
            ]
          },
          "metadata": {},
          "execution_count": 35
        }
      ]
    },
    {
      "cell_type": "code",
      "source": [
        "#temperature\n",
        "test[test['hour_bef_temperature'].isnull()]"
      ],
      "metadata": {
        "colab": {
          "base_uri": "https://localhost:8080/",
          "height": 145
        },
        "id": "W0JRZtuemaPl",
        "outputId": "086c3728-a84a-49d6-86e6-8d89bfa4cfe6"
      },
      "execution_count": null,
      "outputs": [
        {
          "output_type": "execute_result",
          "data": {
            "text/plain": [
              "       id  hour  hour_bef_temperature  hour_bef_precipitation  \\\n",
              "653  1943    19                   NaN                     NaN   \n",
              "\n",
              "     hour_bef_windspeed  hour_bef_humidity  hour_bef_visibility  \\\n",
              "653                 NaN                NaN                  NaN   \n",
              "\n",
              "     hour_bef_ozone  hour_bef_pm10  hour_bef_pm2.5  \n",
              "653             NaN            NaN             NaN  "
            ],
            "text/html": [
              "\n",
              "  <div id=\"df-f7aa71fd-c142-4935-a56f-836dbf780162\">\n",
              "    <div class=\"colab-df-container\">\n",
              "      <div>\n",
              "<style scoped>\n",
              "    .dataframe tbody tr th:only-of-type {\n",
              "        vertical-align: middle;\n",
              "    }\n",
              "\n",
              "    .dataframe tbody tr th {\n",
              "        vertical-align: top;\n",
              "    }\n",
              "\n",
              "    .dataframe thead th {\n",
              "        text-align: right;\n",
              "    }\n",
              "</style>\n",
              "<table border=\"1\" class=\"dataframe\">\n",
              "  <thead>\n",
              "    <tr style=\"text-align: right;\">\n",
              "      <th></th>\n",
              "      <th>id</th>\n",
              "      <th>hour</th>\n",
              "      <th>hour_bef_temperature</th>\n",
              "      <th>hour_bef_precipitation</th>\n",
              "      <th>hour_bef_windspeed</th>\n",
              "      <th>hour_bef_humidity</th>\n",
              "      <th>hour_bef_visibility</th>\n",
              "      <th>hour_bef_ozone</th>\n",
              "      <th>hour_bef_pm10</th>\n",
              "      <th>hour_bef_pm2.5</th>\n",
              "    </tr>\n",
              "  </thead>\n",
              "  <tbody>\n",
              "    <tr>\n",
              "      <th>653</th>\n",
              "      <td>1943</td>\n",
              "      <td>19</td>\n",
              "      <td>NaN</td>\n",
              "      <td>NaN</td>\n",
              "      <td>NaN</td>\n",
              "      <td>NaN</td>\n",
              "      <td>NaN</td>\n",
              "      <td>NaN</td>\n",
              "      <td>NaN</td>\n",
              "      <td>NaN</td>\n",
              "    </tr>\n",
              "  </tbody>\n",
              "</table>\n",
              "</div>\n",
              "      <button class=\"colab-df-convert\" onclick=\"convertToInteractive('df-f7aa71fd-c142-4935-a56f-836dbf780162')\"\n",
              "              title=\"Convert this dataframe to an interactive table.\"\n",
              "              style=\"display:none;\">\n",
              "        \n",
              "  <svg xmlns=\"http://www.w3.org/2000/svg\" height=\"24px\"viewBox=\"0 0 24 24\"\n",
              "       width=\"24px\">\n",
              "    <path d=\"M0 0h24v24H0V0z\" fill=\"none\"/>\n",
              "    <path d=\"M18.56 5.44l.94 2.06.94-2.06 2.06-.94-2.06-.94-.94-2.06-.94 2.06-2.06.94zm-11 1L8.5 8.5l.94-2.06 2.06-.94-2.06-.94L8.5 2.5l-.94 2.06-2.06.94zm10 10l.94 2.06.94-2.06 2.06-.94-2.06-.94-.94-2.06-.94 2.06-2.06.94z\"/><path d=\"M17.41 7.96l-1.37-1.37c-.4-.4-.92-.59-1.43-.59-.52 0-1.04.2-1.43.59L10.3 9.45l-7.72 7.72c-.78.78-.78 2.05 0 2.83L4 21.41c.39.39.9.59 1.41.59.51 0 1.02-.2 1.41-.59l7.78-7.78 2.81-2.81c.8-.78.8-2.07 0-2.86zM5.41 20L4 18.59l7.72-7.72 1.47 1.35L5.41 20z\"/>\n",
              "  </svg>\n",
              "      </button>\n",
              "      \n",
              "  <style>\n",
              "    .colab-df-container {\n",
              "      display:flex;\n",
              "      flex-wrap:wrap;\n",
              "      gap: 12px;\n",
              "    }\n",
              "\n",
              "    .colab-df-convert {\n",
              "      background-color: #E8F0FE;\n",
              "      border: none;\n",
              "      border-radius: 50%;\n",
              "      cursor: pointer;\n",
              "      display: none;\n",
              "      fill: #1967D2;\n",
              "      height: 32px;\n",
              "      padding: 0 0 0 0;\n",
              "      width: 32px;\n",
              "    }\n",
              "\n",
              "    .colab-df-convert:hover {\n",
              "      background-color: #E2EBFA;\n",
              "      box-shadow: 0px 1px 2px rgba(60, 64, 67, 0.3), 0px 1px 3px 1px rgba(60, 64, 67, 0.15);\n",
              "      fill: #174EA6;\n",
              "    }\n",
              "\n",
              "    [theme=dark] .colab-df-convert {\n",
              "      background-color: #3B4455;\n",
              "      fill: #D2E3FC;\n",
              "    }\n",
              "\n",
              "    [theme=dark] .colab-df-convert:hover {\n",
              "      background-color: #434B5C;\n",
              "      box-shadow: 0px 1px 3px 1px rgba(0, 0, 0, 0.15);\n",
              "      filter: drop-shadow(0px 1px 2px rgba(0, 0, 0, 0.3));\n",
              "      fill: #FFFFFF;\n",
              "    }\n",
              "  </style>\n",
              "\n",
              "      <script>\n",
              "        const buttonEl =\n",
              "          document.querySelector('#df-f7aa71fd-c142-4935-a56f-836dbf780162 button.colab-df-convert');\n",
              "        buttonEl.style.display =\n",
              "          google.colab.kernel.accessAllowed ? 'block' : 'none';\n",
              "\n",
              "        async function convertToInteractive(key) {\n",
              "          const element = document.querySelector('#df-f7aa71fd-c142-4935-a56f-836dbf780162');\n",
              "          const dataTable =\n",
              "            await google.colab.kernel.invokeFunction('convertToInteractive',\n",
              "                                                     [key], {});\n",
              "          if (!dataTable) return;\n",
              "\n",
              "          const docLinkHtml = 'Like what you see? Visit the ' +\n",
              "            '<a target=\"_blank\" href=https://colab.research.google.com/notebooks/data_table.ipynb>data table notebook</a>'\n",
              "            + ' to learn more about interactive tables.';\n",
              "          element.innerHTML = '';\n",
              "          dataTable['output_type'] = 'display_data';\n",
              "          await google.colab.output.renderOutput(dataTable, element);\n",
              "          const docLink = document.createElement('div');\n",
              "          docLink.innerHTML = docLinkHtml;\n",
              "          element.appendChild(docLink);\n",
              "        }\n",
              "      </script>\n",
              "    </div>\n",
              "  </div>\n",
              "  "
            ]
          },
          "metadata": {},
          "execution_count": 37
        }
      ]
    },
    {
      "cell_type": "code",
      "source": [
        "test.groupby('hour').mean()['hour_bef_temperature']"
      ],
      "metadata": {
        "colab": {
          "base_uri": "https://localhost:8080/"
        },
        "id": "B2e0FmSFmjkk",
        "outputId": "ef7c3ade-e0d0-41ed-c74c-7f7cf5be0f80"
      },
      "execution_count": null,
      "outputs": [
        {
          "output_type": "execute_result",
          "data": {
            "text/plain": [
              "hour\n",
              "0     21.386667\n",
              "1     20.986667\n",
              "2     20.600000\n",
              "3     20.203333\n",
              "4     19.853333\n",
              "5     19.634483\n",
              "6     19.243333\n",
              "7     19.190000\n",
              "8     19.846667\n",
              "9     21.266667\n",
              "10    22.683333\n",
              "11    24.110000\n",
              "12    25.430000\n",
              "13    26.630000\n",
              "14    27.473333\n",
              "15    28.040000\n",
              "16    28.255172\n",
              "17    27.848276\n",
              "18    27.010345\n",
              "19    26.110345\n",
              "20    24.803333\n",
              "21    23.696552\n",
              "22    22.523333\n",
              "23    21.926667\n",
              "Name: hour_bef_temperature, dtype: float64"
            ]
          },
          "metadata": {},
          "execution_count": 38
        }
      ]
    },
    {
      "cell_type": "code",
      "source": [
        "test['hour_bef_temperature'].fillna({653:26.110345},inplace = True)"
      ],
      "metadata": {
        "id": "t1xh9vPlm8bE"
      },
      "execution_count": null,
      "outputs": []
    },
    {
      "cell_type": "code",
      "source": [
        "#windspeed\n",
        "\n",
        "test[test['hour_bef_windspeed'].isnull()]"
      ],
      "metadata": {
        "colab": {
          "base_uri": "https://localhost:8080/",
          "height": 145
        },
        "id": "Uk_2AIA-nLTG",
        "outputId": "633c4c48-cd4b-46cc-8d66-21a4fe5b3737"
      },
      "execution_count": null,
      "outputs": [
        {
          "output_type": "execute_result",
          "data": {
            "text/plain": [
              "       id  hour  hour_bef_temperature  hour_bef_precipitation  \\\n",
              "653  1943    19             26.110345                     NaN   \n",
              "\n",
              "     hour_bef_windspeed  hour_bef_humidity  hour_bef_visibility  \\\n",
              "653                 NaN                NaN                  NaN   \n",
              "\n",
              "     hour_bef_ozone  hour_bef_pm10  hour_bef_pm2.5  \n",
              "653             NaN            NaN             NaN  "
            ],
            "text/html": [
              "\n",
              "  <div id=\"df-bf55f7f1-830b-4eed-aedc-3df6b323d6fe\">\n",
              "    <div class=\"colab-df-container\">\n",
              "      <div>\n",
              "<style scoped>\n",
              "    .dataframe tbody tr th:only-of-type {\n",
              "        vertical-align: middle;\n",
              "    }\n",
              "\n",
              "    .dataframe tbody tr th {\n",
              "        vertical-align: top;\n",
              "    }\n",
              "\n",
              "    .dataframe thead th {\n",
              "        text-align: right;\n",
              "    }\n",
              "</style>\n",
              "<table border=\"1\" class=\"dataframe\">\n",
              "  <thead>\n",
              "    <tr style=\"text-align: right;\">\n",
              "      <th></th>\n",
              "      <th>id</th>\n",
              "      <th>hour</th>\n",
              "      <th>hour_bef_temperature</th>\n",
              "      <th>hour_bef_precipitation</th>\n",
              "      <th>hour_bef_windspeed</th>\n",
              "      <th>hour_bef_humidity</th>\n",
              "      <th>hour_bef_visibility</th>\n",
              "      <th>hour_bef_ozone</th>\n",
              "      <th>hour_bef_pm10</th>\n",
              "      <th>hour_bef_pm2.5</th>\n",
              "    </tr>\n",
              "  </thead>\n",
              "  <tbody>\n",
              "    <tr>\n",
              "      <th>653</th>\n",
              "      <td>1943</td>\n",
              "      <td>19</td>\n",
              "      <td>26.110345</td>\n",
              "      <td>NaN</td>\n",
              "      <td>NaN</td>\n",
              "      <td>NaN</td>\n",
              "      <td>NaN</td>\n",
              "      <td>NaN</td>\n",
              "      <td>NaN</td>\n",
              "      <td>NaN</td>\n",
              "    </tr>\n",
              "  </tbody>\n",
              "</table>\n",
              "</div>\n",
              "      <button class=\"colab-df-convert\" onclick=\"convertToInteractive('df-bf55f7f1-830b-4eed-aedc-3df6b323d6fe')\"\n",
              "              title=\"Convert this dataframe to an interactive table.\"\n",
              "              style=\"display:none;\">\n",
              "        \n",
              "  <svg xmlns=\"http://www.w3.org/2000/svg\" height=\"24px\"viewBox=\"0 0 24 24\"\n",
              "       width=\"24px\">\n",
              "    <path d=\"M0 0h24v24H0V0z\" fill=\"none\"/>\n",
              "    <path d=\"M18.56 5.44l.94 2.06.94-2.06 2.06-.94-2.06-.94-.94-2.06-.94 2.06-2.06.94zm-11 1L8.5 8.5l.94-2.06 2.06-.94-2.06-.94L8.5 2.5l-.94 2.06-2.06.94zm10 10l.94 2.06.94-2.06 2.06-.94-2.06-.94-.94-2.06-.94 2.06-2.06.94z\"/><path d=\"M17.41 7.96l-1.37-1.37c-.4-.4-.92-.59-1.43-.59-.52 0-1.04.2-1.43.59L10.3 9.45l-7.72 7.72c-.78.78-.78 2.05 0 2.83L4 21.41c.39.39.9.59 1.41.59.51 0 1.02-.2 1.41-.59l7.78-7.78 2.81-2.81c.8-.78.8-2.07 0-2.86zM5.41 20L4 18.59l7.72-7.72 1.47 1.35L5.41 20z\"/>\n",
              "  </svg>\n",
              "      </button>\n",
              "      \n",
              "  <style>\n",
              "    .colab-df-container {\n",
              "      display:flex;\n",
              "      flex-wrap:wrap;\n",
              "      gap: 12px;\n",
              "    }\n",
              "\n",
              "    .colab-df-convert {\n",
              "      background-color: #E8F0FE;\n",
              "      border: none;\n",
              "      border-radius: 50%;\n",
              "      cursor: pointer;\n",
              "      display: none;\n",
              "      fill: #1967D2;\n",
              "      height: 32px;\n",
              "      padding: 0 0 0 0;\n",
              "      width: 32px;\n",
              "    }\n",
              "\n",
              "    .colab-df-convert:hover {\n",
              "      background-color: #E2EBFA;\n",
              "      box-shadow: 0px 1px 2px rgba(60, 64, 67, 0.3), 0px 1px 3px 1px rgba(60, 64, 67, 0.15);\n",
              "      fill: #174EA6;\n",
              "    }\n",
              "\n",
              "    [theme=dark] .colab-df-convert {\n",
              "      background-color: #3B4455;\n",
              "      fill: #D2E3FC;\n",
              "    }\n",
              "\n",
              "    [theme=dark] .colab-df-convert:hover {\n",
              "      background-color: #434B5C;\n",
              "      box-shadow: 0px 1px 3px 1px rgba(0, 0, 0, 0.15);\n",
              "      filter: drop-shadow(0px 1px 2px rgba(0, 0, 0, 0.3));\n",
              "      fill: #FFFFFF;\n",
              "    }\n",
              "  </style>\n",
              "\n",
              "      <script>\n",
              "        const buttonEl =\n",
              "          document.querySelector('#df-bf55f7f1-830b-4eed-aedc-3df6b323d6fe button.colab-df-convert');\n",
              "        buttonEl.style.display =\n",
              "          google.colab.kernel.accessAllowed ? 'block' : 'none';\n",
              "\n",
              "        async function convertToInteractive(key) {\n",
              "          const element = document.querySelector('#df-bf55f7f1-830b-4eed-aedc-3df6b323d6fe');\n",
              "          const dataTable =\n",
              "            await google.colab.kernel.invokeFunction('convertToInteractive',\n",
              "                                                     [key], {});\n",
              "          if (!dataTable) return;\n",
              "\n",
              "          const docLinkHtml = 'Like what you see? Visit the ' +\n",
              "            '<a target=\"_blank\" href=https://colab.research.google.com/notebooks/data_table.ipynb>data table notebook</a>'\n",
              "            + ' to learn more about interactive tables.';\n",
              "          element.innerHTML = '';\n",
              "          dataTable['output_type'] = 'display_data';\n",
              "          await google.colab.output.renderOutput(dataTable, element);\n",
              "          const docLink = document.createElement('div');\n",
              "          docLink.innerHTML = docLinkHtml;\n",
              "          element.appendChild(docLink);\n",
              "        }\n",
              "      </script>\n",
              "    </div>\n",
              "  </div>\n",
              "  "
            ]
          },
          "metadata": {},
          "execution_count": 41
        }
      ]
    },
    {
      "cell_type": "code",
      "source": [
        "test.groupby('hour').mean()['hour_bef_windspeed']"
      ],
      "metadata": {
        "colab": {
          "base_uri": "https://localhost:8080/"
        },
        "id": "xyJ_qPm_nU8d",
        "outputId": "da15d945-a7ef-4690-fc78-b1c8990d0788"
      },
      "execution_count": null,
      "outputs": [
        {
          "output_type": "execute_result",
          "data": {
            "text/plain": [
              "hour\n",
              "0     1.986667\n",
              "1     1.840000\n",
              "2     1.823333\n",
              "3     1.636667\n",
              "4     1.543333\n",
              "5     1.589655\n",
              "6     1.396667\n",
              "7     1.453333\n",
              "8     1.446667\n",
              "9     1.646667\n",
              "10    1.920000\n",
              "11    2.186667\n",
              "12    2.636667\n",
              "13    2.836667\n",
              "14    2.903333\n",
              "15    3.140000\n",
              "16    3.406897\n",
              "17    3.558621\n",
              "18    3.503448\n",
              "19    3.541379\n",
              "20    3.406667\n",
              "21    3.041379\n",
              "22    2.686667\n",
              "23    2.336667\n",
              "Name: hour_bef_windspeed, dtype: float64"
            ]
          },
          "metadata": {},
          "execution_count": 42
        }
      ]
    },
    {
      "cell_type": "code",
      "source": [
        "test['hour_bef_windspeed'].fillna({653:3.541379},inplace = True)"
      ],
      "metadata": {
        "id": "gpwPkVxXnjPQ"
      },
      "execution_count": null,
      "outputs": []
    },
    {
      "cell_type": "code",
      "source": [
        "#humidity\n",
        "\n",
        "test[test['hour_bef_humidity'].isnull()]"
      ],
      "metadata": {
        "colab": {
          "base_uri": "https://localhost:8080/",
          "height": 145
        },
        "id": "JcTuI25ensCd",
        "outputId": "9e40a45b-446e-40c1-86fe-3530572e0fb3"
      },
      "execution_count": null,
      "outputs": [
        {
          "output_type": "execute_result",
          "data": {
            "text/plain": [
              "       id  hour  hour_bef_temperature  hour_bef_precipitation  \\\n",
              "653  1943    19             26.110345                     NaN   \n",
              "\n",
              "     hour_bef_windspeed  hour_bef_humidity  hour_bef_visibility  \\\n",
              "653            3.541379                NaN                  NaN   \n",
              "\n",
              "     hour_bef_ozone  hour_bef_pm10  hour_bef_pm2.5  \n",
              "653             NaN            NaN             NaN  "
            ],
            "text/html": [
              "\n",
              "  <div id=\"df-dbaebcb2-3b2e-42c8-8615-0ce9a19c2d94\">\n",
              "    <div class=\"colab-df-container\">\n",
              "      <div>\n",
              "<style scoped>\n",
              "    .dataframe tbody tr th:only-of-type {\n",
              "        vertical-align: middle;\n",
              "    }\n",
              "\n",
              "    .dataframe tbody tr th {\n",
              "        vertical-align: top;\n",
              "    }\n",
              "\n",
              "    .dataframe thead th {\n",
              "        text-align: right;\n",
              "    }\n",
              "</style>\n",
              "<table border=\"1\" class=\"dataframe\">\n",
              "  <thead>\n",
              "    <tr style=\"text-align: right;\">\n",
              "      <th></th>\n",
              "      <th>id</th>\n",
              "      <th>hour</th>\n",
              "      <th>hour_bef_temperature</th>\n",
              "      <th>hour_bef_precipitation</th>\n",
              "      <th>hour_bef_windspeed</th>\n",
              "      <th>hour_bef_humidity</th>\n",
              "      <th>hour_bef_visibility</th>\n",
              "      <th>hour_bef_ozone</th>\n",
              "      <th>hour_bef_pm10</th>\n",
              "      <th>hour_bef_pm2.5</th>\n",
              "    </tr>\n",
              "  </thead>\n",
              "  <tbody>\n",
              "    <tr>\n",
              "      <th>653</th>\n",
              "      <td>1943</td>\n",
              "      <td>19</td>\n",
              "      <td>26.110345</td>\n",
              "      <td>NaN</td>\n",
              "      <td>3.541379</td>\n",
              "      <td>NaN</td>\n",
              "      <td>NaN</td>\n",
              "      <td>NaN</td>\n",
              "      <td>NaN</td>\n",
              "      <td>NaN</td>\n",
              "    </tr>\n",
              "  </tbody>\n",
              "</table>\n",
              "</div>\n",
              "      <button class=\"colab-df-convert\" onclick=\"convertToInteractive('df-dbaebcb2-3b2e-42c8-8615-0ce9a19c2d94')\"\n",
              "              title=\"Convert this dataframe to an interactive table.\"\n",
              "              style=\"display:none;\">\n",
              "        \n",
              "  <svg xmlns=\"http://www.w3.org/2000/svg\" height=\"24px\"viewBox=\"0 0 24 24\"\n",
              "       width=\"24px\">\n",
              "    <path d=\"M0 0h24v24H0V0z\" fill=\"none\"/>\n",
              "    <path d=\"M18.56 5.44l.94 2.06.94-2.06 2.06-.94-2.06-.94-.94-2.06-.94 2.06-2.06.94zm-11 1L8.5 8.5l.94-2.06 2.06-.94-2.06-.94L8.5 2.5l-.94 2.06-2.06.94zm10 10l.94 2.06.94-2.06 2.06-.94-2.06-.94-.94-2.06-.94 2.06-2.06.94z\"/><path d=\"M17.41 7.96l-1.37-1.37c-.4-.4-.92-.59-1.43-.59-.52 0-1.04.2-1.43.59L10.3 9.45l-7.72 7.72c-.78.78-.78 2.05 0 2.83L4 21.41c.39.39.9.59 1.41.59.51 0 1.02-.2 1.41-.59l7.78-7.78 2.81-2.81c.8-.78.8-2.07 0-2.86zM5.41 20L4 18.59l7.72-7.72 1.47 1.35L5.41 20z\"/>\n",
              "  </svg>\n",
              "      </button>\n",
              "      \n",
              "  <style>\n",
              "    .colab-df-container {\n",
              "      display:flex;\n",
              "      flex-wrap:wrap;\n",
              "      gap: 12px;\n",
              "    }\n",
              "\n",
              "    .colab-df-convert {\n",
              "      background-color: #E8F0FE;\n",
              "      border: none;\n",
              "      border-radius: 50%;\n",
              "      cursor: pointer;\n",
              "      display: none;\n",
              "      fill: #1967D2;\n",
              "      height: 32px;\n",
              "      padding: 0 0 0 0;\n",
              "      width: 32px;\n",
              "    }\n",
              "\n",
              "    .colab-df-convert:hover {\n",
              "      background-color: #E2EBFA;\n",
              "      box-shadow: 0px 1px 2px rgba(60, 64, 67, 0.3), 0px 1px 3px 1px rgba(60, 64, 67, 0.15);\n",
              "      fill: #174EA6;\n",
              "    }\n",
              "\n",
              "    [theme=dark] .colab-df-convert {\n",
              "      background-color: #3B4455;\n",
              "      fill: #D2E3FC;\n",
              "    }\n",
              "\n",
              "    [theme=dark] .colab-df-convert:hover {\n",
              "      background-color: #434B5C;\n",
              "      box-shadow: 0px 1px 3px 1px rgba(0, 0, 0, 0.15);\n",
              "      filter: drop-shadow(0px 1px 2px rgba(0, 0, 0, 0.3));\n",
              "      fill: #FFFFFF;\n",
              "    }\n",
              "  </style>\n",
              "\n",
              "      <script>\n",
              "        const buttonEl =\n",
              "          document.querySelector('#df-dbaebcb2-3b2e-42c8-8615-0ce9a19c2d94 button.colab-df-convert');\n",
              "        buttonEl.style.display =\n",
              "          google.colab.kernel.accessAllowed ? 'block' : 'none';\n",
              "\n",
              "        async function convertToInteractive(key) {\n",
              "          const element = document.querySelector('#df-dbaebcb2-3b2e-42c8-8615-0ce9a19c2d94');\n",
              "          const dataTable =\n",
              "            await google.colab.kernel.invokeFunction('convertToInteractive',\n",
              "                                                     [key], {});\n",
              "          if (!dataTable) return;\n",
              "\n",
              "          const docLinkHtml = 'Like what you see? Visit the ' +\n",
              "            '<a target=\"_blank\" href=https://colab.research.google.com/notebooks/data_table.ipynb>data table notebook</a>'\n",
              "            + ' to learn more about interactive tables.';\n",
              "          element.innerHTML = '';\n",
              "          dataTable['output_type'] = 'display_data';\n",
              "          await google.colab.output.renderOutput(dataTable, element);\n",
              "          const docLink = document.createElement('div');\n",
              "          docLink.innerHTML = docLinkHtml;\n",
              "          element.appendChild(docLink);\n",
              "        }\n",
              "      </script>\n",
              "    </div>\n",
              "  </div>\n",
              "  "
            ]
          },
          "metadata": {},
          "execution_count": 45
        }
      ]
    },
    {
      "cell_type": "code",
      "source": [
        "test.groupby('hour').mean()['hour_bef_humidity']"
      ],
      "metadata": {
        "colab": {
          "base_uri": "https://localhost:8080/"
        },
        "id": "VfcTLfDGn21R",
        "outputId": "b29fdfac-e19a-4b6d-d13a-f94e507a481b"
      },
      "execution_count": null,
      "outputs": [
        {
          "output_type": "execute_result",
          "data": {
            "text/plain": [
              "hour\n",
              "0     63.200000\n",
              "1     65.000000\n",
              "2     67.266667\n",
              "3     68.700000\n",
              "4     69.600000\n",
              "5     70.034483\n",
              "6     72.333333\n",
              "7     71.900000\n",
              "8     67.700000\n",
              "9     62.366667\n",
              "10    57.100000\n",
              "11    52.366667\n",
              "12    47.033333\n",
              "13    42.766667\n",
              "14    40.566667\n",
              "15    38.900000\n",
              "16    40.000000\n",
              "17    42.689655\n",
              "18    45.793103\n",
              "19    47.689655\n",
              "20    50.566667\n",
              "21    53.517241\n",
              "22    59.700000\n",
              "23    61.900000\n",
              "Name: hour_bef_humidity, dtype: float64"
            ]
          },
          "metadata": {},
          "execution_count": 46
        }
      ]
    },
    {
      "cell_type": "code",
      "source": [
        "test['hour_bef_humidity'].fillna({653:47.689655},inplace=True)"
      ],
      "metadata": {
        "id": "eStxlDLQn9rs"
      },
      "execution_count": null,
      "outputs": []
    },
    {
      "cell_type": "code",
      "source": [
        "#ozone\n",
        "\n",
        "test['hour_bef_ozone'].fillna(test['hour_bef_ozone'].mean(),inplace = True)"
      ],
      "metadata": {
        "id": "pRupt5QdoHlj"
      },
      "execution_count": null,
      "outputs": []
    },
    {
      "cell_type": "code",
      "source": [
        "test.isnull().sum()"
      ],
      "metadata": {
        "colab": {
          "base_uri": "https://localhost:8080/"
        },
        "id": "nxJ-o1x-oUh2",
        "outputId": "147db24c-c769-4c8e-f8b9-4eb637a3f6cc"
      },
      "execution_count": null,
      "outputs": [
        {
          "output_type": "execute_result",
          "data": {
            "text/plain": [
              "id                         0\n",
              "hour                       0\n",
              "hour_bef_temperature       0\n",
              "hour_bef_precipitation     1\n",
              "hour_bef_windspeed         0\n",
              "hour_bef_humidity          0\n",
              "hour_bef_visibility        1\n",
              "hour_bef_ozone             0\n",
              "hour_bef_pm10             37\n",
              "hour_bef_pm2.5            36\n",
              "dtype: int64"
            ]
          },
          "metadata": {},
          "execution_count": 51
        }
      ]
    },
    {
      "cell_type": "markdown",
      "source": [
        "# 4. 데이터 모델링\n",
        "\n",
        "*앞에서 불러왔던 랜덤포레스트 이용*"
      ],
      "metadata": {
        "id": "kB_JGU5KoeVb"
      }
    },
    {
      "cell_type": "code",
      "source": [
        "train.info()"
      ],
      "metadata": {
        "colab": {
          "base_uri": "https://localhost:8080/"
        },
        "id": "Jmv_T5pOq6zh",
        "outputId": "88e68d35-b8d4-4215-9ade-f2eb01384bc3"
      },
      "execution_count": null,
      "outputs": [
        {
          "output_type": "stream",
          "name": "stdout",
          "text": [
            "<class 'pandas.core.frame.DataFrame'>\n",
            "RangeIndex: 1459 entries, 0 to 1458\n",
            "Data columns (total 11 columns):\n",
            " #   Column                  Non-Null Count  Dtype  \n",
            "---  ------                  --------------  -----  \n",
            " 0   id                      1459 non-null   int64  \n",
            " 1   hour                    1459 non-null   int64  \n",
            " 2   hour_bef_temperature    1459 non-null   float64\n",
            " 3   hour_bef_precipitation  1457 non-null   float64\n",
            " 4   hour_bef_windspeed      1459 non-null   float64\n",
            " 5   hour_bef_humidity       1459 non-null   float64\n",
            " 6   hour_bef_visibility     1457 non-null   float64\n",
            " 7   hour_bef_ozone          1459 non-null   float64\n",
            " 8   hour_bef_pm10           1369 non-null   float64\n",
            " 9   hour_bef_pm2.5          1342 non-null   float64\n",
            " 10  count                   1459 non-null   float64\n",
            "dtypes: float64(9), int64(2)\n",
            "memory usage: 125.5 KB\n"
          ]
        }
      ]
    },
    {
      "cell_type": "markdown",
      "source": [
        "전체 데이터를 학습 시키지 않고, count에 영향을 많이 미치는 값만 추려서 학습시킴"
      ],
      "metadata": {
        "id": "c6R35kADxeur"
      }
    },
    {
      "cell_type": "code",
      "source": [
        "features= ['hour','hour_bef_temperature','hour_bef_windspeed','hour_bef_humidity','hour_bef_ozone']\n",
        "x_train = train[features]\n",
        "y_train = train['count']\n",
        "x_test = test[features]"
      ],
      "metadata": {
        "id": "JHxV51jjoci3"
      },
      "execution_count": null,
      "outputs": []
    },
    {
      "cell_type": "markdown",
      "source": [
        "shape값 : 데이터의 개수"
      ],
      "metadata": {
        "id": "mdzGlDuGxlM0"
      }
    },
    {
      "cell_type": "code",
      "source": [
        "print(x_train.shape)\n",
        "print(y_train.shape)\n",
        "print(x_test.shape)"
      ],
      "metadata": {
        "colab": {
          "base_uri": "https://localhost:8080/"
        },
        "id": "tfFGh_6frERX",
        "outputId": "f881fb3e-48c7-428d-dadb-dd3c45063332"
      },
      "execution_count": null,
      "outputs": [
        {
          "output_type": "stream",
          "name": "stdout",
          "text": [
            "(1459, 5)\n",
            "(1459,)\n",
            "(715, 5)\n"
          ]
        }
      ]
    },
    {
      "cell_type": "markdown",
      "source": [
        "**! Random Forest 알고리즘 !**\n",
        "\n",
        "*여러 개의 결정 트리를 임의적으로 학습하는 앙상블의 배깅 유형*\n",
        "\n",
        "---\n",
        "- 장점 : 단일 트리 모델 단점 보완(성능, 과대적합)\n",
        "\n",
        "- 단점 : 대용량 데이터 셋으로 처리시간 증가\n",
        "\n",
        "---\n",
        "**하이퍼 파라미터**\n",
        "![image.png](data:image/png;base64,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)"
      ],
      "metadata": {
        "id": "CufJjCUhxxoZ"
      }
    },
    {
      "cell_type": "markdown",
      "source": [
        "*기본값*\n",
        "\n",
        "    estimator = RandomForestRegressor(n_estimators=10, bootstrap=True, criterion='mse', max_depth=None, max_leaf_nodes=None, min_samples_split=2, min_samples_leaf=1, max_features=’auto’)"
      ],
      "metadata": {
        "id": "-vRbnV7d0AQN"
      }
    },
    {
      "cell_type": "markdown",
      "source": [
        "값을 다르게해서 여러가지 모델을 출력 후 -> 최고 점수 확인"
      ],
      "metadata": {
        "id": "F3t4SS_c0N9N"
      }
    },
    {
      "cell_type": "code",
      "source": [
        "model100=RandomForestRegressor(n_estimators= 100, random_state = 0)\n",
        "model100_5=RandomForestRegressor(n_estimators= 100, max_depth = 5, random_state = 0)\n",
        "model200=RandomForestRegressor(n_estimators= 200, random_state = 0)"
      ],
      "metadata": {
        "id": "nUafR1aqrnHs"
      },
      "execution_count": null,
      "outputs": []
    },
    {
      "cell_type": "code",
      "source": [
        "model100.fit(x_train,y_train)\n",
        "model100_5.fit(x_train,y_train)\n",
        "model200.fit(x_train,y_train)"
      ],
      "metadata": {
        "colab": {
          "base_uri": "https://localhost:8080/",
          "height": 74
        },
        "id": "J0caB-nMswSR",
        "outputId": "c4a7daff-0399-49ab-f982-aabfc6857c84"
      },
      "execution_count": null,
      "outputs": [
        {
          "output_type": "execute_result",
          "data": {
            "text/plain": [
              "RandomForestRegressor(n_estimators=200, random_state=0)"
            ],
            "text/html": [
              "<style>#sk-container-id-2 {color: black;background-color: white;}#sk-container-id-2 pre{padding: 0;}#sk-container-id-2 div.sk-toggleable {background-color: white;}#sk-container-id-2 label.sk-toggleable__label {cursor: pointer;display: block;width: 100%;margin-bottom: 0;padding: 0.3em;box-sizing: border-box;text-align: center;}#sk-container-id-2 label.sk-toggleable__label-arrow:before {content: \"▸\";float: left;margin-right: 0.25em;color: #696969;}#sk-container-id-2 label.sk-toggleable__label-arrow:hover:before {color: black;}#sk-container-id-2 div.sk-estimator:hover label.sk-toggleable__label-arrow:before {color: black;}#sk-container-id-2 div.sk-toggleable__content {max-height: 0;max-width: 0;overflow: hidden;text-align: left;background-color: #f0f8ff;}#sk-container-id-2 div.sk-toggleable__content pre {margin: 0.2em;color: black;border-radius: 0.25em;background-color: #f0f8ff;}#sk-container-id-2 input.sk-toggleable__control:checked~div.sk-toggleable__content {max-height: 200px;max-width: 100%;overflow: auto;}#sk-container-id-2 input.sk-toggleable__control:checked~label.sk-toggleable__label-arrow:before {content: \"▾\";}#sk-container-id-2 div.sk-estimator input.sk-toggleable__control:checked~label.sk-toggleable__label {background-color: #d4ebff;}#sk-container-id-2 div.sk-label input.sk-toggleable__control:checked~label.sk-toggleable__label {background-color: #d4ebff;}#sk-container-id-2 input.sk-hidden--visually {border: 0;clip: rect(1px 1px 1px 1px);clip: rect(1px, 1px, 1px, 1px);height: 1px;margin: -1px;overflow: hidden;padding: 0;position: absolute;width: 1px;}#sk-container-id-2 div.sk-estimator {font-family: monospace;background-color: #f0f8ff;border: 1px dotted black;border-radius: 0.25em;box-sizing: border-box;margin-bottom: 0.5em;}#sk-container-id-2 div.sk-estimator:hover {background-color: #d4ebff;}#sk-container-id-2 div.sk-parallel-item::after {content: \"\";width: 100%;border-bottom: 1px solid gray;flex-grow: 1;}#sk-container-id-2 div.sk-label:hover label.sk-toggleable__label {background-color: #d4ebff;}#sk-container-id-2 div.sk-serial::before {content: \"\";position: absolute;border-left: 1px solid gray;box-sizing: border-box;top: 0;bottom: 0;left: 50%;z-index: 0;}#sk-container-id-2 div.sk-serial {display: flex;flex-direction: column;align-items: center;background-color: white;padding-right: 0.2em;padding-left: 0.2em;position: relative;}#sk-container-id-2 div.sk-item {position: relative;z-index: 1;}#sk-container-id-2 div.sk-parallel {display: flex;align-items: stretch;justify-content: center;background-color: white;position: relative;}#sk-container-id-2 div.sk-item::before, #sk-container-id-2 div.sk-parallel-item::before {content: \"\";position: absolute;border-left: 1px solid gray;box-sizing: border-box;top: 0;bottom: 0;left: 50%;z-index: -1;}#sk-container-id-2 div.sk-parallel-item {display: flex;flex-direction: column;z-index: 1;position: relative;background-color: white;}#sk-container-id-2 div.sk-parallel-item:first-child::after {align-self: flex-end;width: 50%;}#sk-container-id-2 div.sk-parallel-item:last-child::after {align-self: flex-start;width: 50%;}#sk-container-id-2 div.sk-parallel-item:only-child::after {width: 0;}#sk-container-id-2 div.sk-dashed-wrapped {border: 1px dashed gray;margin: 0 0.4em 0.5em 0.4em;box-sizing: border-box;padding-bottom: 0.4em;background-color: white;}#sk-container-id-2 div.sk-label label {font-family: monospace;font-weight: bold;display: inline-block;line-height: 1.2em;}#sk-container-id-2 div.sk-label-container {text-align: center;}#sk-container-id-2 div.sk-container {/* jupyter's `normalize.less` sets `[hidden] { display: none; }` but bootstrap.min.css set `[hidden] { display: none !important; }` so we also need the `!important` here to be able to override the default hidden behavior on the sphinx rendered scikit-learn.org. See: https://github.com/scikit-learn/scikit-learn/issues/21755 */display: inline-block !important;position: relative;}#sk-container-id-2 div.sk-text-repr-fallback {display: none;}</style><div id=\"sk-container-id-2\" class=\"sk-top-container\"><div class=\"sk-text-repr-fallback\"><pre>RandomForestRegressor(n_estimators=200, random_state=0)</pre><b>In a Jupyter environment, please rerun this cell to show the HTML representation or trust the notebook. <br />On GitHub, the HTML representation is unable to render, please try loading this page with nbviewer.org.</b></div><div class=\"sk-container\" hidden><div class=\"sk-item\"><div class=\"sk-estimator sk-toggleable\"><input class=\"sk-toggleable__control sk-hidden--visually\" id=\"sk-estimator-id-2\" type=\"checkbox\" checked><label for=\"sk-estimator-id-2\" class=\"sk-toggleable__label sk-toggleable__label-arrow\">RandomForestRegressor</label><div class=\"sk-toggleable__content\"><pre>RandomForestRegressor(n_estimators=200, random_state=0)</pre></div></div></div></div></div>"
            ]
          },
          "metadata": {},
          "execution_count": 61
        }
      ]
    },
    {
      "cell_type": "markdown",
      "source": [
        "x_test data 활용해서 predicct"
      ],
      "metadata": {
        "id": "dvVqkaMa0VoH"
      }
    },
    {
      "cell_type": "code",
      "source": [
        "ypred1 = model100.predict(x_test)\n",
        "ypred2 = model100_5.predict(x_test)\n",
        "ypred3 = model200.predict(x_test)"
      ],
      "metadata": {
        "id": "DTrasLIUs38X"
      },
      "execution_count": null,
      "outputs": []
    },
    {
      "cell_type": "markdown",
      "source": [
        "# 5. 최종 데이터 값 출력"
      ],
      "metadata": {
        "id": "lsWBQruCxrsE"
      }
    },
    {
      "cell_type": "code",
      "source": [
        "submission"
      ],
      "metadata": {
        "colab": {
          "base_uri": "https://localhost:8080/",
          "height": 423
        },
        "id": "0BFBwDaqtlWd",
        "outputId": "057d4af6-4412-4f7a-b5d5-0972cde77ece"
      },
      "execution_count": null,
      "outputs": [
        {
          "output_type": "execute_result",
          "data": {
            "text/plain": [
              "       id  count\n",
              "0       0    NaN\n",
              "1       1    NaN\n",
              "2       2    NaN\n",
              "3       4    NaN\n",
              "4       5    NaN\n",
              "..    ...    ...\n",
              "710  2148    NaN\n",
              "711  2149    NaN\n",
              "712  2165    NaN\n",
              "713  2166    NaN\n",
              "714  2177    NaN\n",
              "\n",
              "[715 rows x 2 columns]"
            ],
            "text/html": [
              "\n",
              "  <div id=\"df-072a4474-c5fb-4b29-9393-ea34cab740ca\">\n",
              "    <div class=\"colab-df-container\">\n",
              "      <div>\n",
              "<style scoped>\n",
              "    .dataframe tbody tr th:only-of-type {\n",
              "        vertical-align: middle;\n",
              "    }\n",
              "\n",
              "    .dataframe tbody tr th {\n",
              "        vertical-align: top;\n",
              "    }\n",
              "\n",
              "    .dataframe thead th {\n",
              "        text-align: right;\n",
              "    }\n",
              "</style>\n",
              "<table border=\"1\" class=\"dataframe\">\n",
              "  <thead>\n",
              "    <tr style=\"text-align: right;\">\n",
              "      <th></th>\n",
              "      <th>id</th>\n",
              "      <th>count</th>\n",
              "    </tr>\n",
              "  </thead>\n",
              "  <tbody>\n",
              "    <tr>\n",
              "      <th>0</th>\n",
              "      <td>0</td>\n",
              "      <td>NaN</td>\n",
              "    </tr>\n",
              "    <tr>\n",
              "      <th>1</th>\n",
              "      <td>1</td>\n",
              "      <td>NaN</td>\n",
              "    </tr>\n",
              "    <tr>\n",
              "      <th>2</th>\n",
              "      <td>2</td>\n",
              "      <td>NaN</td>\n",
              "    </tr>\n",
              "    <tr>\n",
              "      <th>3</th>\n",
              "      <td>4</td>\n",
              "      <td>NaN</td>\n",
              "    </tr>\n",
              "    <tr>\n",
              "      <th>4</th>\n",
              "      <td>5</td>\n",
              "      <td>NaN</td>\n",
              "    </tr>\n",
              "    <tr>\n",
              "      <th>...</th>\n",
              "      <td>...</td>\n",
              "      <td>...</td>\n",
              "    </tr>\n",
              "    <tr>\n",
              "      <th>710</th>\n",
              "      <td>2148</td>\n",
              "      <td>NaN</td>\n",
              "    </tr>\n",
              "    <tr>\n",
              "      <th>711</th>\n",
              "      <td>2149</td>\n",
              "      <td>NaN</td>\n",
              "    </tr>\n",
              "    <tr>\n",
              "      <th>712</th>\n",
              "      <td>2165</td>\n",
              "      <td>NaN</td>\n",
              "    </tr>\n",
              "    <tr>\n",
              "      <th>713</th>\n",
              "      <td>2166</td>\n",
              "      <td>NaN</td>\n",
              "    </tr>\n",
              "    <tr>\n",
              "      <th>714</th>\n",
              "      <td>2177</td>\n",
              "      <td>NaN</td>\n",
              "    </tr>\n",
              "  </tbody>\n",
              "</table>\n",
              "<p>715 rows × 2 columns</p>\n",
              "</div>\n",
              "      <button class=\"colab-df-convert\" onclick=\"convertToInteractive('df-072a4474-c5fb-4b29-9393-ea34cab740ca')\"\n",
              "              title=\"Convert this dataframe to an interactive table.\"\n",
              "              style=\"display:none;\">\n",
              "        \n",
              "  <svg xmlns=\"http://www.w3.org/2000/svg\" height=\"24px\"viewBox=\"0 0 24 24\"\n",
              "       width=\"24px\">\n",
              "    <path d=\"M0 0h24v24H0V0z\" fill=\"none\"/>\n",
              "    <path d=\"M18.56 5.44l.94 2.06.94-2.06 2.06-.94-2.06-.94-.94-2.06-.94 2.06-2.06.94zm-11 1L8.5 8.5l.94-2.06 2.06-.94-2.06-.94L8.5 2.5l-.94 2.06-2.06.94zm10 10l.94 2.06.94-2.06 2.06-.94-2.06-.94-.94-2.06-.94 2.06-2.06.94z\"/><path d=\"M17.41 7.96l-1.37-1.37c-.4-.4-.92-.59-1.43-.59-.52 0-1.04.2-1.43.59L10.3 9.45l-7.72 7.72c-.78.78-.78 2.05 0 2.83L4 21.41c.39.39.9.59 1.41.59.51 0 1.02-.2 1.41-.59l7.78-7.78 2.81-2.81c.8-.78.8-2.07 0-2.86zM5.41 20L4 18.59l7.72-7.72 1.47 1.35L5.41 20z\"/>\n",
              "  </svg>\n",
              "      </button>\n",
              "      \n",
              "  <style>\n",
              "    .colab-df-container {\n",
              "      display:flex;\n",
              "      flex-wrap:wrap;\n",
              "      gap: 12px;\n",
              "    }\n",
              "\n",
              "    .colab-df-convert {\n",
              "      background-color: #E8F0FE;\n",
              "      border: none;\n",
              "      border-radius: 50%;\n",
              "      cursor: pointer;\n",
              "      display: none;\n",
              "      fill: #1967D2;\n",
              "      height: 32px;\n",
              "      padding: 0 0 0 0;\n",
              "      width: 32px;\n",
              "    }\n",
              "\n",
              "    .colab-df-convert:hover {\n",
              "      background-color: #E2EBFA;\n",
              "      box-shadow: 0px 1px 2px rgba(60, 64, 67, 0.3), 0px 1px 3px 1px rgba(60, 64, 67, 0.15);\n",
              "      fill: #174EA6;\n",
              "    }\n",
              "\n",
              "    [theme=dark] .colab-df-convert {\n",
              "      background-color: #3B4455;\n",
              "      fill: #D2E3FC;\n",
              "    }\n",
              "\n",
              "    [theme=dark] .colab-df-convert:hover {\n",
              "      background-color: #434B5C;\n",
              "      box-shadow: 0px 1px 3px 1px rgba(0, 0, 0, 0.15);\n",
              "      filter: drop-shadow(0px 1px 2px rgba(0, 0, 0, 0.3));\n",
              "      fill: #FFFFFF;\n",
              "    }\n",
              "  </style>\n",
              "\n",
              "      <script>\n",
              "        const buttonEl =\n",
              "          document.querySelector('#df-072a4474-c5fb-4b29-9393-ea34cab740ca button.colab-df-convert');\n",
              "        buttonEl.style.display =\n",
              "          google.colab.kernel.accessAllowed ? 'block' : 'none';\n",
              "\n",
              "        async function convertToInteractive(key) {\n",
              "          const element = document.querySelector('#df-072a4474-c5fb-4b29-9393-ea34cab740ca');\n",
              "          const dataTable =\n",
              "            await google.colab.kernel.invokeFunction('convertToInteractive',\n",
              "                                                     [key], {});\n",
              "          if (!dataTable) return;\n",
              "\n",
              "          const docLinkHtml = 'Like what you see? Visit the ' +\n",
              "            '<a target=\"_blank\" href=https://colab.research.google.com/notebooks/data_table.ipynb>data table notebook</a>'\n",
              "            + ' to learn more about interactive tables.';\n",
              "          element.innerHTML = '';\n",
              "          dataTable['output_type'] = 'display_data';\n",
              "          await google.colab.output.renderOutput(dataTable, element);\n",
              "          const docLink = document.createElement('div');\n",
              "          docLink.innerHTML = docLinkHtml;\n",
              "          element.appendChild(docLink);\n",
              "        }\n",
              "      </script>\n",
              "    </div>\n",
              "  </div>\n",
              "  "
            ]
          },
          "metadata": {},
          "execution_count": 63
        }
      ]
    },
    {
      "cell_type": "code",
      "source": [
        "submission['count']=ypred1\n",
        "submission.to_csv('model100.csv',index = False)"
      ],
      "metadata": {
        "id": "XgY420RwtoNQ"
      },
      "execution_count": null,
      "outputs": []
    },
    {
      "cell_type": "code",
      "source": [
        "submission['count']=ypred2\n",
        "submission.to_csv('model100_5.csv',index = False)"
      ],
      "metadata": {
        "id": "n9K5zkC0txHN"
      },
      "execution_count": null,
      "outputs": []
    },
    {
      "cell_type": "code",
      "source": [
        "submission['count']=ypred3\n",
        "submission.to_csv('model200.csv',index = False)"
      ],
      "metadata": {
        "id": "VTp-Kb9Qt0eq"
      },
      "execution_count": null,
      "outputs": []
    }
  ]
}