{
 "cells": [
  {
   "cell_type": "markdown",
   "id": "0640c5ef",
   "metadata": {
    "papermill": {
     "duration": 0.018015,
     "end_time": "2023-05-10T11:24:04.941805",
     "exception": false,
     "start_time": "2023-05-10T11:24:04.923790",
     "status": "completed"
    },
    "tags": []
   },
   "source": [
    "**Imports**   \n",
    "Installing LazyPredict: "
   ]
  },
  {
   "cell_type": "code",
   "execution_count": 1,
   "id": "95478c09",
   "metadata": {
    "_cell_guid": "b1076dfc-b9ad-4769-8c92-a6c4dae69d19",
    "_uuid": "8f2839f25d086af736a60e9eeb907d3b93b6e0e5",
    "execution": {
     "iopub.execute_input": "2023-05-10T11:24:04.974308Z",
     "iopub.status.busy": "2023-05-10T11:24:04.973896Z",
     "iopub.status.idle": "2023-05-10T11:24:42.570327Z",
     "shell.execute_reply": "2023-05-10T11:24:42.568928Z"
    },
    "papermill": {
     "duration": 37.615968,
     "end_time": "2023-05-10T11:24:42.573305",
     "exception": false,
     "start_time": "2023-05-10T11:24:04.957337",
     "status": "completed"
    },
    "tags": []
   },
   "outputs": [],
   "source": [
    "from IPython.display import clear_output\n",
    "!pip3 install -U lazypredict\n",
    "!pip3 install -U pandas #Upgrading pandas\n",
    "\n",
    "clear_output()"
   ]
  },
  {
   "cell_type": "code",
   "execution_count": 2,
   "id": "8748d353",
   "metadata": {
    "execution": {
     "iopub.execute_input": "2023-05-10T11:24:42.607499Z",
     "iopub.status.busy": "2023-05-10T11:24:42.606469Z",
     "iopub.status.idle": "2023-05-10T11:24:48.958258Z",
     "shell.execute_reply": "2023-05-10T11:24:48.957159Z"
    },
    "papermill": {
     "duration": 6.371703,
     "end_time": "2023-05-10T11:24:48.960820",
     "exception": false,
     "start_time": "2023-05-10T11:24:42.589117",
     "status": "completed"
    },
    "tags": []
   },
   "outputs": [
    {
     "name": "stderr",
     "output_type": "stream",
     "text": [
      "/opt/conda/lib/python3.10/site-packages/scipy/__init__.py:146: UserWarning: A NumPy version >=1.16.5 and <1.23.0 is required for this version of SciPy (detected version 1.23.5\n",
      "  warnings.warn(f\"A NumPy version >={np_minversion} and <{np_maxversion}\"\n"
     ]
    }
   ],
   "source": [
    "import numpy as np\n",
    "import pandas as pd\n",
    "import seaborn as sns\n",
    "import plotly.express as px\n",
    "import matplotlib.pyplot as plt\n",
    "import plotly.graph_objects as go\n",
    "from plotly.subplots import make_subplots\n",
    "\n",
    "\n",
    "\n",
    "from sklearn.impute import SimpleImputer\n",
    "from sklearn.metrics import accuracy_score\n",
    "from sklearn.preprocessing import LabelEncoder\n",
    "from sklearn.model_selection import StratifiedKFold, train_test_split\n",
    "\n",
    "\n",
    "from lightgbm import LGBMClassifier\n",
    "import lazypredict\n",
    "from lazypredict.Supervised import LazyClassifier\n",
    "\n",
    "import time\n",
    "import warnings\n",
    "warnings.filterwarnings('ignore')"
   ]
  },
  {
   "cell_type": "markdown",
   "id": "d5956ed9",
   "metadata": {
    "papermill": {
     "duration": 0.015005,
     "end_time": "2023-05-10T11:24:48.991306",
     "exception": false,
     "start_time": "2023-05-10T11:24:48.976301",
     "status": "completed"
    },
    "tags": []
   },
   "source": [
    "**Data Loading and Preparation**"
   ]
  },
  {
   "cell_type": "code",
   "execution_count": 3,
   "id": "241895f0",
   "metadata": {
    "execution": {
     "iopub.execute_input": "2023-05-10T11:24:49.025383Z",
     "iopub.status.busy": "2023-05-10T11:24:49.024914Z",
     "iopub.status.idle": "2023-05-10T11:24:49.137009Z",
     "shell.execute_reply": "2023-05-10T11:24:49.135768Z"
    },
    "papermill": {
     "duration": 0.132718,
     "end_time": "2023-05-10T11:24:49.139923",
     "exception": false,
     "start_time": "2023-05-10T11:24:49.007205",
     "status": "completed"
    },
    "tags": []
   },
   "outputs": [],
   "source": [
    "#데이터 불러오기\n",
    "train = pd.read_csv(\"../input/spaceship-titanic/train.csv\")\n",
    "test = pd.read_csv(\"../input/spaceship-titanic/test.csv\")\n",
    "submission = pd.read_csv(\"../input/spaceship-titanic/sample_submission.csv\")\n",
    "\n",
    "RANDOM_STATE = 12 \n",
    "FOLDS = 5\n",
    "STRATEGY = 'median'"
   ]
  },
  {
   "cell_type": "markdown",
   "id": "821fe32a",
   "metadata": {
    "papermill": {
     "duration": 0.015271,
     "end_time": "2023-05-10T11:24:49.171311",
     "exception": false,
     "start_time": "2023-05-10T11:24:49.156040",
     "status": "completed"
    },
    "tags": []
   },
   "source": [
    "**Exploring Train Data**   \n",
    "Quick view of Train Data: "
   ]
  },
  {
   "cell_type": "code",
   "execution_count": 4,
   "id": "72fc61a3",
   "metadata": {
    "execution": {
     "iopub.execute_input": "2023-05-10T11:24:49.205061Z",
     "iopub.status.busy": "2023-05-10T11:24:49.204626Z",
     "iopub.status.idle": "2023-05-10T11:24:49.229035Z",
     "shell.execute_reply": "2023-05-10T11:24:49.227455Z"
    },
    "papermill": {
     "duration": 0.0445,
     "end_time": "2023-05-10T11:24:49.231700",
     "exception": false,
     "start_time": "2023-05-10T11:24:49.187200",
     "status": "completed"
    },
    "tags": []
   },
   "outputs": [
    {
     "data": {
      "text/html": [
       "<div>\n",
       "<style scoped>\n",
       "    .dataframe tbody tr th:only-of-type {\n",
       "        vertical-align: middle;\n",
       "    }\n",
       "\n",
       "    .dataframe tbody tr th {\n",
       "        vertical-align: top;\n",
       "    }\n",
       "\n",
       "    .dataframe thead th {\n",
       "        text-align: right;\n",
       "    }\n",
       "</style>\n",
       "<table border=\"1\" class=\"dataframe\">\n",
       "  <thead>\n",
       "    <tr style=\"text-align: right;\">\n",
       "      <th></th>\n",
       "      <th>PassengerId</th>\n",
       "      <th>HomePlanet</th>\n",
       "      <th>CryoSleep</th>\n",
       "      <th>Cabin</th>\n",
       "      <th>Destination</th>\n",
       "      <th>Age</th>\n",
       "      <th>VIP</th>\n",
       "      <th>RoomService</th>\n",
       "      <th>FoodCourt</th>\n",
       "      <th>ShoppingMall</th>\n",
       "      <th>Spa</th>\n",
       "      <th>VRDeck</th>\n",
       "      <th>Name</th>\n",
       "      <th>Transported</th>\n",
       "    </tr>\n",
       "  </thead>\n",
       "  <tbody>\n",
       "    <tr>\n",
       "      <th>0</th>\n",
       "      <td>0001_01</td>\n",
       "      <td>Europa</td>\n",
       "      <td>False</td>\n",
       "      <td>B/0/P</td>\n",
       "      <td>TRAPPIST-1e</td>\n",
       "      <td>39.00</td>\n",
       "      <td>False</td>\n",
       "      <td>0.00</td>\n",
       "      <td>0.00</td>\n",
       "      <td>0.00</td>\n",
       "      <td>0.00</td>\n",
       "      <td>0.00</td>\n",
       "      <td>Maham Ofracculy</td>\n",
       "      <td>False</td>\n",
       "    </tr>\n",
       "    <tr>\n",
       "      <th>1</th>\n",
       "      <td>0002_01</td>\n",
       "      <td>Earth</td>\n",
       "      <td>False</td>\n",
       "      <td>F/0/S</td>\n",
       "      <td>TRAPPIST-1e</td>\n",
       "      <td>24.00</td>\n",
       "      <td>False</td>\n",
       "      <td>109.00</td>\n",
       "      <td>9.00</td>\n",
       "      <td>25.00</td>\n",
       "      <td>549.00</td>\n",
       "      <td>44.00</td>\n",
       "      <td>Juanna Vines</td>\n",
       "      <td>True</td>\n",
       "    </tr>\n",
       "    <tr>\n",
       "      <th>2</th>\n",
       "      <td>0003_01</td>\n",
       "      <td>Europa</td>\n",
       "      <td>False</td>\n",
       "      <td>A/0/S</td>\n",
       "      <td>TRAPPIST-1e</td>\n",
       "      <td>58.00</td>\n",
       "      <td>True</td>\n",
       "      <td>43.00</td>\n",
       "      <td>3576.00</td>\n",
       "      <td>0.00</td>\n",
       "      <td>6715.00</td>\n",
       "      <td>49.00</td>\n",
       "      <td>Altark Susent</td>\n",
       "      <td>False</td>\n",
       "    </tr>\n",
       "    <tr>\n",
       "      <th>3</th>\n",
       "      <td>0003_02</td>\n",
       "      <td>Europa</td>\n",
       "      <td>False</td>\n",
       "      <td>A/0/S</td>\n",
       "      <td>TRAPPIST-1e</td>\n",
       "      <td>33.00</td>\n",
       "      <td>False</td>\n",
       "      <td>0.00</td>\n",
       "      <td>1283.00</td>\n",
       "      <td>371.00</td>\n",
       "      <td>3329.00</td>\n",
       "      <td>193.00</td>\n",
       "      <td>Solam Susent</td>\n",
       "      <td>False</td>\n",
       "    </tr>\n",
       "    <tr>\n",
       "      <th>4</th>\n",
       "      <td>0004_01</td>\n",
       "      <td>Earth</td>\n",
       "      <td>False</td>\n",
       "      <td>F/1/S</td>\n",
       "      <td>TRAPPIST-1e</td>\n",
       "      <td>16.00</td>\n",
       "      <td>False</td>\n",
       "      <td>303.00</td>\n",
       "      <td>70.00</td>\n",
       "      <td>151.00</td>\n",
       "      <td>565.00</td>\n",
       "      <td>2.00</td>\n",
       "      <td>Willy Santantines</td>\n",
       "      <td>True</td>\n",
       "    </tr>\n",
       "  </tbody>\n",
       "</table>\n",
       "</div>"
      ],
      "text/plain": [
       "  PassengerId HomePlanet CryoSleep  Cabin  Destination   Age    VIP  \\\n",
       "0     0001_01     Europa     False  B/0/P  TRAPPIST-1e 39.00  False   \n",
       "1     0002_01      Earth     False  F/0/S  TRAPPIST-1e 24.00  False   \n",
       "2     0003_01     Europa     False  A/0/S  TRAPPIST-1e 58.00   True   \n",
       "3     0003_02     Europa     False  A/0/S  TRAPPIST-1e 33.00  False   \n",
       "4     0004_01      Earth     False  F/1/S  TRAPPIST-1e 16.00  False   \n",
       "\n",
       "   RoomService  FoodCourt  ShoppingMall     Spa  VRDeck               Name  \\\n",
       "0         0.00       0.00          0.00    0.00    0.00    Maham Ofracculy   \n",
       "1       109.00       9.00         25.00  549.00   44.00       Juanna Vines   \n",
       "2        43.00    3576.00          0.00 6715.00   49.00      Altark Susent   \n",
       "3         0.00    1283.00        371.00 3329.00  193.00       Solam Susent   \n",
       "4       303.00      70.00        151.00  565.00    2.00  Willy Santantines   \n",
       "\n",
       "   Transported  \n",
       "0        False  \n",
       "1         True  \n",
       "2        False  \n",
       "3        False  \n",
       "4         True  "
      ]
     },
     "execution_count": 4,
     "metadata": {},
     "output_type": "execute_result"
    }
   ],
   "source": [
    "train.head()"
   ]
  },
  {
   "cell_type": "code",
   "execution_count": 5,
   "id": "0cd97d59",
   "metadata": {
    "execution": {
     "iopub.execute_input": "2023-05-10T11:24:49.265573Z",
     "iopub.status.busy": "2023-05-10T11:24:49.265120Z",
     "iopub.status.idle": "2023-05-10T11:24:49.315509Z",
     "shell.execute_reply": "2023-05-10T11:24:49.314623Z"
    },
    "papermill": {
     "duration": 0.07074,
     "end_time": "2023-05-10T11:24:49.318390",
     "exception": false,
     "start_time": "2023-05-10T11:24:49.247650",
     "status": "completed"
    },
    "tags": []
   },
   "outputs": [
    {
     "name": "stdout",
     "output_type": "stream",
     "text": [
      "\u001b[94mNumber of rows in train data: 8693\n",
      "\u001b[94mNumber of columns in train data: 14\n",
      "\u001b[94mNumber of values in train data: 119378\n",
      "\u001b[94mNumber missing values in train data: 2324\n"
     ]
    }
   ],
   "source": [
    "#train 데이터 개수 보기\n",
    "print(f'\\033[94mNumber of rows in train data: {train.shape[0]}') #행 개수\n",
    "print(f'\\033[94mNumber of columns in train data: {train.shape[1]}') #열 개수\n",
    "print(f'\\033[94mNumber of values in train data: {train.count().sum()}') #값의 개수\n",
    "print(f'\\033[94mNumber missing values in train data: {sum(train.isna().sum())}') #결측값 개수"
   ]
  },
  {
   "cell_type": "markdown",
   "id": "fefcd8f3",
   "metadata": {
    "papermill": {
     "duration": 0.016099,
     "end_time": "2023-05-10T11:24:49.350590",
     "exception": false,
     "start_time": "2023-05-10T11:24:49.334491",
     "status": "completed"
    },
    "tags": []
   },
   "source": [
    "Column Wise missing values: "
   ]
  },
  {
   "cell_type": "code",
   "execution_count": 6,
   "id": "da4a375b",
   "metadata": {
    "execution": {
     "iopub.execute_input": "2023-05-10T11:24:49.385839Z",
     "iopub.status.busy": "2023-05-10T11:24:49.384693Z",
     "iopub.status.idle": "2023-05-10T11:24:49.415596Z",
     "shell.execute_reply": "2023-05-10T11:24:49.414150Z"
    },
    "papermill": {
     "duration": 0.051535,
     "end_time": "2023-05-10T11:24:49.418766",
     "exception": false,
     "start_time": "2023-05-10T11:24:49.367231",
     "status": "completed"
    },
    "tags": []
   },
   "outputs": [
    {
     "name": "stdout",
     "output_type": "stream",
     "text": [
      "\u001b[94m\n",
      "CryoSleep       217\n",
      "ShoppingMall    208\n",
      "VIP             203\n",
      "HomePlanet      201\n",
      "Name            200\n",
      "Cabin           199\n",
      "VRDeck          188\n",
      "FoodCourt       183\n",
      "Spa             183\n",
      "Destination     182\n",
      "RoomService     181\n",
      "Age             179\n",
      "PassengerId       0\n",
      "Transported       0\n",
      "dtype: int64\n"
     ]
    }
   ],
   "source": [
    "#코드 색상 변경\n",
    "print(f'\\033[94m')\n",
    "#pandas의 isna()함수로 결측값의 개수 확인후 내림차순으로 정렬 \n",
    "print(train.isna().sum().sort_values(ascending = False))\n"
   ]
  },
  {
   "cell_type": "markdown",
   "id": "89c477f6",
   "metadata": {
    "papermill": {
     "duration": 0.015838,
     "end_time": "2023-05-10T11:24:49.451228",
     "exception": false,
     "start_time": "2023-05-10T11:24:49.435390",
     "status": "completed"
    },
    "tags": []
   },
   "source": [
    "Basic statistics of training data: \n"
   ]
  },
  {
   "cell_type": "code",
   "execution_count": 7,
   "id": "b6d52fa4",
   "metadata": {
    "execution": {
     "iopub.execute_input": "2023-05-10T11:24:49.486088Z",
     "iopub.status.busy": "2023-05-10T11:24:49.485641Z",
     "iopub.status.idle": "2023-05-10T11:24:49.521524Z",
     "shell.execute_reply": "2023-05-10T11:24:49.520338Z"
    },
    "papermill": {
     "duration": 0.056663,
     "end_time": "2023-05-10T11:24:49.524064",
     "exception": false,
     "start_time": "2023-05-10T11:24:49.467401",
     "status": "completed"
    },
    "tags": []
   },
   "outputs": [
    {
     "data": {
      "text/html": [
       "<div>\n",
       "<style scoped>\n",
       "    .dataframe tbody tr th:only-of-type {\n",
       "        vertical-align: middle;\n",
       "    }\n",
       "\n",
       "    .dataframe tbody tr th {\n",
       "        vertical-align: top;\n",
       "    }\n",
       "\n",
       "    .dataframe thead th {\n",
       "        text-align: right;\n",
       "    }\n",
       "</style>\n",
       "<table border=\"1\" class=\"dataframe\">\n",
       "  <thead>\n",
       "    <tr style=\"text-align: right;\">\n",
       "      <th></th>\n",
       "      <th>Age</th>\n",
       "      <th>RoomService</th>\n",
       "      <th>FoodCourt</th>\n",
       "      <th>ShoppingMall</th>\n",
       "      <th>Spa</th>\n",
       "      <th>VRDeck</th>\n",
       "    </tr>\n",
       "  </thead>\n",
       "  <tbody>\n",
       "    <tr>\n",
       "      <th>count</th>\n",
       "      <td>8514.00</td>\n",
       "      <td>8512.00</td>\n",
       "      <td>8510.00</td>\n",
       "      <td>8485.00</td>\n",
       "      <td>8510.00</td>\n",
       "      <td>8505.00</td>\n",
       "    </tr>\n",
       "    <tr>\n",
       "      <th>mean</th>\n",
       "      <td>28.83</td>\n",
       "      <td>224.69</td>\n",
       "      <td>458.08</td>\n",
       "      <td>173.73</td>\n",
       "      <td>311.14</td>\n",
       "      <td>304.85</td>\n",
       "    </tr>\n",
       "    <tr>\n",
       "      <th>std</th>\n",
       "      <td>14.49</td>\n",
       "      <td>666.72</td>\n",
       "      <td>1611.49</td>\n",
       "      <td>604.70</td>\n",
       "      <td>1136.71</td>\n",
       "      <td>1145.72</td>\n",
       "    </tr>\n",
       "    <tr>\n",
       "      <th>min</th>\n",
       "      <td>0.00</td>\n",
       "      <td>0.00</td>\n",
       "      <td>0.00</td>\n",
       "      <td>0.00</td>\n",
       "      <td>0.00</td>\n",
       "      <td>0.00</td>\n",
       "    </tr>\n",
       "    <tr>\n",
       "      <th>25%</th>\n",
       "      <td>19.00</td>\n",
       "      <td>0.00</td>\n",
       "      <td>0.00</td>\n",
       "      <td>0.00</td>\n",
       "      <td>0.00</td>\n",
       "      <td>0.00</td>\n",
       "    </tr>\n",
       "    <tr>\n",
       "      <th>50%</th>\n",
       "      <td>27.00</td>\n",
       "      <td>0.00</td>\n",
       "      <td>0.00</td>\n",
       "      <td>0.00</td>\n",
       "      <td>0.00</td>\n",
       "      <td>0.00</td>\n",
       "    </tr>\n",
       "    <tr>\n",
       "      <th>75%</th>\n",
       "      <td>38.00</td>\n",
       "      <td>47.00</td>\n",
       "      <td>76.00</td>\n",
       "      <td>27.00</td>\n",
       "      <td>59.00</td>\n",
       "      <td>46.00</td>\n",
       "    </tr>\n",
       "    <tr>\n",
       "      <th>max</th>\n",
       "      <td>79.00</td>\n",
       "      <td>14327.00</td>\n",
       "      <td>29813.00</td>\n",
       "      <td>23492.00</td>\n",
       "      <td>22408.00</td>\n",
       "      <td>24133.00</td>\n",
       "    </tr>\n",
       "  </tbody>\n",
       "</table>\n",
       "</div>"
      ],
      "text/plain": [
       "          Age  RoomService  FoodCourt  ShoppingMall      Spa   VRDeck\n",
       "count 8514.00      8512.00    8510.00       8485.00  8510.00  8505.00\n",
       "mean    28.83       224.69     458.08        173.73   311.14   304.85\n",
       "std     14.49       666.72    1611.49        604.70  1136.71  1145.72\n",
       "min      0.00         0.00       0.00          0.00     0.00     0.00\n",
       "25%     19.00         0.00       0.00          0.00     0.00     0.00\n",
       "50%     27.00         0.00       0.00          0.00     0.00     0.00\n",
       "75%     38.00        47.00      76.00         27.00    59.00    46.00\n",
       "max     79.00     14327.00   29813.00      23492.00 22408.00 24133.00"
      ]
     },
     "execution_count": 7,
     "metadata": {},
     "output_type": "execute_result"
    }
   ],
   "source": [
    "#train의 중간값, 평균값 등 여러가지 계산값 확인하기\n",
    "train.describe()"
   ]
  },
  {
   "cell_type": "markdown",
   "id": "61111675",
   "metadata": {
    "_kg_hide-input": true,
    "papermill": {
     "duration": 0.016437,
     "end_time": "2023-05-10T11:24:49.556940",
     "exception": false,
     "start_time": "2023-05-10T11:24:49.540503",
     "status": "completed"
    },
    "tags": []
   },
   "source": [
    "**Exploring Test data**   \n",
    "Quick view of Test data: "
   ]
  },
  {
   "cell_type": "code",
   "execution_count": 8,
   "id": "2c0599dc",
   "metadata": {
    "execution": {
     "iopub.execute_input": "2023-05-10T11:24:49.591941Z",
     "iopub.status.busy": "2023-05-10T11:24:49.591487Z",
     "iopub.status.idle": "2023-05-10T11:24:49.609470Z",
     "shell.execute_reply": "2023-05-10T11:24:49.608072Z"
    },
    "papermill": {
     "duration": 0.038242,
     "end_time": "2023-05-10T11:24:49.611921",
     "exception": false,
     "start_time": "2023-05-10T11:24:49.573679",
     "status": "completed"
    },
    "tags": []
   },
   "outputs": [
    {
     "data": {
      "text/html": [
       "<div>\n",
       "<style scoped>\n",
       "    .dataframe tbody tr th:only-of-type {\n",
       "        vertical-align: middle;\n",
       "    }\n",
       "\n",
       "    .dataframe tbody tr th {\n",
       "        vertical-align: top;\n",
       "    }\n",
       "\n",
       "    .dataframe thead th {\n",
       "        text-align: right;\n",
       "    }\n",
       "</style>\n",
       "<table border=\"1\" class=\"dataframe\">\n",
       "  <thead>\n",
       "    <tr style=\"text-align: right;\">\n",
       "      <th></th>\n",
       "      <th>PassengerId</th>\n",
       "      <th>HomePlanet</th>\n",
       "      <th>CryoSleep</th>\n",
       "      <th>Cabin</th>\n",
       "      <th>Destination</th>\n",
       "      <th>Age</th>\n",
       "      <th>VIP</th>\n",
       "      <th>RoomService</th>\n",
       "      <th>FoodCourt</th>\n",
       "      <th>ShoppingMall</th>\n",
       "      <th>Spa</th>\n",
       "      <th>VRDeck</th>\n",
       "      <th>Name</th>\n",
       "    </tr>\n",
       "  </thead>\n",
       "  <tbody>\n",
       "    <tr>\n",
       "      <th>0</th>\n",
       "      <td>0013_01</td>\n",
       "      <td>Earth</td>\n",
       "      <td>True</td>\n",
       "      <td>G/3/S</td>\n",
       "      <td>TRAPPIST-1e</td>\n",
       "      <td>27.00</td>\n",
       "      <td>False</td>\n",
       "      <td>0.00</td>\n",
       "      <td>0.00</td>\n",
       "      <td>0.00</td>\n",
       "      <td>0.00</td>\n",
       "      <td>0.00</td>\n",
       "      <td>Nelly Carsoning</td>\n",
       "    </tr>\n",
       "    <tr>\n",
       "      <th>1</th>\n",
       "      <td>0018_01</td>\n",
       "      <td>Earth</td>\n",
       "      <td>False</td>\n",
       "      <td>F/4/S</td>\n",
       "      <td>TRAPPIST-1e</td>\n",
       "      <td>19.00</td>\n",
       "      <td>False</td>\n",
       "      <td>0.00</td>\n",
       "      <td>9.00</td>\n",
       "      <td>0.00</td>\n",
       "      <td>2823.00</td>\n",
       "      <td>0.00</td>\n",
       "      <td>Lerome Peckers</td>\n",
       "    </tr>\n",
       "    <tr>\n",
       "      <th>2</th>\n",
       "      <td>0019_01</td>\n",
       "      <td>Europa</td>\n",
       "      <td>True</td>\n",
       "      <td>C/0/S</td>\n",
       "      <td>55 Cancri e</td>\n",
       "      <td>31.00</td>\n",
       "      <td>False</td>\n",
       "      <td>0.00</td>\n",
       "      <td>0.00</td>\n",
       "      <td>0.00</td>\n",
       "      <td>0.00</td>\n",
       "      <td>0.00</td>\n",
       "      <td>Sabih Unhearfus</td>\n",
       "    </tr>\n",
       "    <tr>\n",
       "      <th>3</th>\n",
       "      <td>0021_01</td>\n",
       "      <td>Europa</td>\n",
       "      <td>False</td>\n",
       "      <td>C/1/S</td>\n",
       "      <td>TRAPPIST-1e</td>\n",
       "      <td>38.00</td>\n",
       "      <td>False</td>\n",
       "      <td>0.00</td>\n",
       "      <td>6652.00</td>\n",
       "      <td>0.00</td>\n",
       "      <td>181.00</td>\n",
       "      <td>585.00</td>\n",
       "      <td>Meratz Caltilter</td>\n",
       "    </tr>\n",
       "    <tr>\n",
       "      <th>4</th>\n",
       "      <td>0023_01</td>\n",
       "      <td>Earth</td>\n",
       "      <td>False</td>\n",
       "      <td>F/5/S</td>\n",
       "      <td>TRAPPIST-1e</td>\n",
       "      <td>20.00</td>\n",
       "      <td>False</td>\n",
       "      <td>10.00</td>\n",
       "      <td>0.00</td>\n",
       "      <td>635.00</td>\n",
       "      <td>0.00</td>\n",
       "      <td>0.00</td>\n",
       "      <td>Brence Harperez</td>\n",
       "    </tr>\n",
       "  </tbody>\n",
       "</table>\n",
       "</div>"
      ],
      "text/plain": [
       "  PassengerId HomePlanet CryoSleep  Cabin  Destination   Age    VIP  \\\n",
       "0     0013_01      Earth      True  G/3/S  TRAPPIST-1e 27.00  False   \n",
       "1     0018_01      Earth     False  F/4/S  TRAPPIST-1e 19.00  False   \n",
       "2     0019_01     Europa      True  C/0/S  55 Cancri e 31.00  False   \n",
       "3     0021_01     Europa     False  C/1/S  TRAPPIST-1e 38.00  False   \n",
       "4     0023_01      Earth     False  F/5/S  TRAPPIST-1e 20.00  False   \n",
       "\n",
       "   RoomService  FoodCourt  ShoppingMall     Spa  VRDeck              Name  \n",
       "0         0.00       0.00          0.00    0.00    0.00   Nelly Carsoning  \n",
       "1         0.00       9.00          0.00 2823.00    0.00    Lerome Peckers  \n",
       "2         0.00       0.00          0.00    0.00    0.00   Sabih Unhearfus  \n",
       "3         0.00    6652.00          0.00  181.00  585.00  Meratz Caltilter  \n",
       "4        10.00       0.00        635.00    0.00    0.00   Brence Harperez  "
      ]
     },
     "execution_count": 8,
     "metadata": {},
     "output_type": "execute_result"
    }
   ],
   "source": [
    "test.head()"
   ]
  },
  {
   "cell_type": "code",
   "execution_count": 9,
   "id": "9d989beb",
   "metadata": {
    "execution": {
     "iopub.execute_input": "2023-05-10T11:24:49.647127Z",
     "iopub.status.busy": "2023-05-10T11:24:49.646723Z",
     "iopub.status.idle": "2023-05-10T11:24:49.676215Z",
     "shell.execute_reply": "2023-05-10T11:24:49.674912Z"
    },
    "papermill": {
     "duration": 0.049951,
     "end_time": "2023-05-10T11:24:49.678417",
     "exception": false,
     "start_time": "2023-05-10T11:24:49.628466",
     "status": "completed"
    },
    "tags": []
   },
   "outputs": [
    {
     "name": "stdout",
     "output_type": "stream",
     "text": [
      "\u001b[94mNumber of rows in test data: 4277\n",
      "\u001b[94mNumber of columns in test data: 13\n",
      "\u001b[94mNumber of values in train data: 54484\n",
      "\u001b[94mNo of rows with missing values  in test data: 1117\n"
     ]
    }
   ],
   "source": [
    "print(f'\\033[94mNumber of rows in test data: {test.shape[0]}')\n",
    "print(f'\\033[94mNumber of columns in test data: {test.shape[1]}')\n",
    "print(f'\\033[94mNumber of values in train data: {test.count().sum()}')\n",
    "print(f'\\033[94mNo of rows with missing values  in test data: {sum(test.isna().sum())}')"
   ]
  },
  {
   "cell_type": "markdown",
   "id": "cd2d5a2b",
   "metadata": {
    "papermill": {
     "duration": 0.016987,
     "end_time": "2023-05-10T11:24:49.712238",
     "exception": false,
     "start_time": "2023-05-10T11:24:49.695251",
     "status": "completed"
    },
    "tags": []
   },
   "source": [
    "Column Wise missing values: "
   ]
  },
  {
   "cell_type": "code",
   "execution_count": 10,
   "id": "c7eb0e14",
   "metadata": {
    "execution": {
     "iopub.execute_input": "2023-05-10T11:24:49.747696Z",
     "iopub.status.busy": "2023-05-10T11:24:49.747243Z",
     "iopub.status.idle": "2023-05-10T11:24:49.765391Z",
     "shell.execute_reply": "2023-05-10T11:24:49.764085Z"
    },
    "papermill": {
     "duration": 0.038853,
     "end_time": "2023-05-10T11:24:49.767918",
     "exception": false,
     "start_time": "2023-05-10T11:24:49.729065",
     "status": "completed"
    },
    "tags": []
   },
   "outputs": [
    {
     "name": "stdout",
     "output_type": "stream",
     "text": [
      "\u001b[94m\n",
      "FoodCourt       106\n",
      "Spa             101\n",
      "Cabin           100\n",
      "ShoppingMall     98\n",
      "Name             94\n",
      "CryoSleep        93\n",
      "VIP              93\n",
      "Destination      92\n",
      "Age              91\n",
      "HomePlanet       87\n",
      "RoomService      82\n",
      "VRDeck           80\n",
      "PassengerId       0\n",
      "dtype: int64\n"
     ]
    }
   ],
   "source": [
    "print(f'\\033[94m')\n",
    "print((test.isna().sum().sort_values(ascending = False)))"
   ]
  },
  {
   "cell_type": "markdown",
   "id": "d1b7ca23",
   "metadata": {
    "papermill": {
     "duration": 0.016659,
     "end_time": "2023-05-10T11:24:49.801838",
     "exception": false,
     "start_time": "2023-05-10T11:24:49.785179",
     "status": "completed"
    },
    "tags": []
   },
   "source": [
    "Basic statistics of test data"
   ]
  },
  {
   "cell_type": "code",
   "execution_count": 11,
   "id": "23e7664a",
   "metadata": {
    "execution": {
     "iopub.execute_input": "2023-05-10T11:24:49.838933Z",
     "iopub.status.busy": "2023-05-10T11:24:49.838453Z",
     "iopub.status.idle": "2023-05-10T11:24:49.872499Z",
     "shell.execute_reply": "2023-05-10T11:24:49.871057Z"
    },
    "papermill": {
     "duration": 0.056776,
     "end_time": "2023-05-10T11:24:49.875690",
     "exception": false,
     "start_time": "2023-05-10T11:24:49.818914",
     "status": "completed"
    },
    "tags": []
   },
   "outputs": [
    {
     "data": {
      "text/html": [
       "<div>\n",
       "<style scoped>\n",
       "    .dataframe tbody tr th:only-of-type {\n",
       "        vertical-align: middle;\n",
       "    }\n",
       "\n",
       "    .dataframe tbody tr th {\n",
       "        vertical-align: top;\n",
       "    }\n",
       "\n",
       "    .dataframe thead th {\n",
       "        text-align: right;\n",
       "    }\n",
       "</style>\n",
       "<table border=\"1\" class=\"dataframe\">\n",
       "  <thead>\n",
       "    <tr style=\"text-align: right;\">\n",
       "      <th></th>\n",
       "      <th>Age</th>\n",
       "      <th>RoomService</th>\n",
       "      <th>FoodCourt</th>\n",
       "      <th>ShoppingMall</th>\n",
       "      <th>Spa</th>\n",
       "      <th>VRDeck</th>\n",
       "    </tr>\n",
       "  </thead>\n",
       "  <tbody>\n",
       "    <tr>\n",
       "      <th>count</th>\n",
       "      <td>4186.00</td>\n",
       "      <td>4195.00</td>\n",
       "      <td>4171.00</td>\n",
       "      <td>4179.00</td>\n",
       "      <td>4176.00</td>\n",
       "      <td>4197.00</td>\n",
       "    </tr>\n",
       "    <tr>\n",
       "      <th>mean</th>\n",
       "      <td>28.66</td>\n",
       "      <td>219.27</td>\n",
       "      <td>439.48</td>\n",
       "      <td>177.30</td>\n",
       "      <td>303.05</td>\n",
       "      <td>310.71</td>\n",
       "    </tr>\n",
       "    <tr>\n",
       "      <th>std</th>\n",
       "      <td>14.18</td>\n",
       "      <td>607.01</td>\n",
       "      <td>1527.66</td>\n",
       "      <td>560.82</td>\n",
       "      <td>1117.19</td>\n",
       "      <td>1246.99</td>\n",
       "    </tr>\n",
       "    <tr>\n",
       "      <th>min</th>\n",
       "      <td>0.00</td>\n",
       "      <td>0.00</td>\n",
       "      <td>0.00</td>\n",
       "      <td>0.00</td>\n",
       "      <td>0.00</td>\n",
       "      <td>0.00</td>\n",
       "    </tr>\n",
       "    <tr>\n",
       "      <th>25%</th>\n",
       "      <td>19.00</td>\n",
       "      <td>0.00</td>\n",
       "      <td>0.00</td>\n",
       "      <td>0.00</td>\n",
       "      <td>0.00</td>\n",
       "      <td>0.00</td>\n",
       "    </tr>\n",
       "    <tr>\n",
       "      <th>50%</th>\n",
       "      <td>26.00</td>\n",
       "      <td>0.00</td>\n",
       "      <td>0.00</td>\n",
       "      <td>0.00</td>\n",
       "      <td>0.00</td>\n",
       "      <td>0.00</td>\n",
       "    </tr>\n",
       "    <tr>\n",
       "      <th>75%</th>\n",
       "      <td>37.00</td>\n",
       "      <td>53.00</td>\n",
       "      <td>78.00</td>\n",
       "      <td>33.00</td>\n",
       "      <td>50.00</td>\n",
       "      <td>36.00</td>\n",
       "    </tr>\n",
       "    <tr>\n",
       "      <th>max</th>\n",
       "      <td>79.00</td>\n",
       "      <td>11567.00</td>\n",
       "      <td>25273.00</td>\n",
       "      <td>8292.00</td>\n",
       "      <td>19844.00</td>\n",
       "      <td>22272.00</td>\n",
       "    </tr>\n",
       "  </tbody>\n",
       "</table>\n",
       "</div>"
      ],
      "text/plain": [
       "          Age  RoomService  FoodCourt  ShoppingMall      Spa   VRDeck\n",
       "count 4186.00      4195.00    4171.00       4179.00  4176.00  4197.00\n",
       "mean    28.66       219.27     439.48        177.30   303.05   310.71\n",
       "std     14.18       607.01    1527.66        560.82  1117.19  1246.99\n",
       "min      0.00         0.00       0.00          0.00     0.00     0.00\n",
       "25%     19.00         0.00       0.00          0.00     0.00     0.00\n",
       "50%     26.00         0.00       0.00          0.00     0.00     0.00\n",
       "75%     37.00        53.00      78.00         33.00    50.00    36.00\n",
       "max     79.00     11567.00   25273.00       8292.00 19844.00 22272.00"
      ]
     },
     "execution_count": 11,
     "metadata": {},
     "output_type": "execute_result"
    }
   ],
   "source": [
    "test.describe()"
   ]
  },
  {
   "cell_type": "markdown",
   "id": "0bbc19f1",
   "metadata": {
    "papermill": {
     "duration": 0.017009,
     "end_time": "2023-05-10T11:24:49.910213",
     "exception": false,
     "start_time": "2023-05-10T11:24:49.893204",
     "status": "completed"
    },
    "tags": []
   },
   "source": [
    "**Submission File**   \n",
    "Quick view of Submission File"
   ]
  },
  {
   "cell_type": "code",
   "execution_count": 12,
   "id": "35846bc4",
   "metadata": {
    "execution": {
     "iopub.execute_input": "2023-05-10T11:24:49.946878Z",
     "iopub.status.busy": "2023-05-10T11:24:49.946457Z",
     "iopub.status.idle": "2023-05-10T11:24:49.957041Z",
     "shell.execute_reply": "2023-05-10T11:24:49.955940Z"
    },
    "papermill": {
     "duration": 0.032005,
     "end_time": "2023-05-10T11:24:49.959583",
     "exception": false,
     "start_time": "2023-05-10T11:24:49.927578",
     "status": "completed"
    },
    "tags": []
   },
   "outputs": [
    {
     "data": {
      "text/html": [
       "<div>\n",
       "<style scoped>\n",
       "    .dataframe tbody tr th:only-of-type {\n",
       "        vertical-align: middle;\n",
       "    }\n",
       "\n",
       "    .dataframe tbody tr th {\n",
       "        vertical-align: top;\n",
       "    }\n",
       "\n",
       "    .dataframe thead th {\n",
       "        text-align: right;\n",
       "    }\n",
       "</style>\n",
       "<table border=\"1\" class=\"dataframe\">\n",
       "  <thead>\n",
       "    <tr style=\"text-align: right;\">\n",
       "      <th></th>\n",
       "      <th>PassengerId</th>\n",
       "      <th>Transported</th>\n",
       "    </tr>\n",
       "  </thead>\n",
       "  <tbody>\n",
       "    <tr>\n",
       "      <th>0</th>\n",
       "      <td>0013_01</td>\n",
       "      <td>False</td>\n",
       "    </tr>\n",
       "    <tr>\n",
       "      <th>1</th>\n",
       "      <td>0018_01</td>\n",
       "      <td>False</td>\n",
       "    </tr>\n",
       "    <tr>\n",
       "      <th>2</th>\n",
       "      <td>0019_01</td>\n",
       "      <td>False</td>\n",
       "    </tr>\n",
       "    <tr>\n",
       "      <th>3</th>\n",
       "      <td>0021_01</td>\n",
       "      <td>False</td>\n",
       "    </tr>\n",
       "    <tr>\n",
       "      <th>4</th>\n",
       "      <td>0023_01</td>\n",
       "      <td>False</td>\n",
       "    </tr>\n",
       "  </tbody>\n",
       "</table>\n",
       "</div>"
      ],
      "text/plain": [
       "  PassengerId  Transported\n",
       "0     0013_01        False\n",
       "1     0018_01        False\n",
       "2     0019_01        False\n",
       "3     0021_01        False\n",
       "4     0023_01        False"
      ]
     },
     "execution_count": 12,
     "metadata": {},
     "output_type": "execute_result"
    }
   ],
   "source": [
    "submission.head()"
   ]
  },
  {
   "cell_type": "markdown",
   "id": "cc15a6c8",
   "metadata": {
    "papermill": {
     "duration": 0.017072,
     "end_time": "2023-05-10T11:24:49.994219",
     "exception": false,
     "start_time": "2023-05-10T11:24:49.977147",
     "status": "completed"
    },
    "tags": []
   },
   "source": [
    "**EDA**    \n",
    "Overview of Data"
   ]
  },
  {
   "cell_type": "code",
   "execution_count": 13,
   "id": "82465a30",
   "metadata": {
    "execution": {
     "iopub.execute_input": "2023-05-10T11:24:50.031177Z",
     "iopub.status.busy": "2023-05-10T11:24:50.030768Z",
     "iopub.status.idle": "2023-05-10T11:24:50.041479Z",
     "shell.execute_reply": "2023-05-10T11:24:50.040273Z"
    },
    "papermill": {
     "duration": 0.03264,
     "end_time": "2023-05-10T11:24:50.044255",
     "exception": false,
     "start_time": "2023-05-10T11:24:50.011615",
     "status": "completed"
    },
    "tags": []
   },
   "outputs": [],
   "source": [
    "train.drop([\"PassengerId\"] , axis = 1 , inplace = True) #\"PassengerId\"의 세로줄(axis=1)의 삭제후 원본에 저장\n",
    "test.drop([\"PassengerId\"] , axis = 1 , inplace = True) #\"PassengerId\"의 세로줄(axis=1)의 삭제후 원본에 저장\n",
    "TARGET = 'Transported' #target설정\n",
    "FEATURES = [col for col in train.columns if col != TARGET] #target이 아니면 \n",
    "RANDOM_STATE = 12 "
   ]
  },
  {
   "cell_type": "code",
   "execution_count": 14,
   "id": "9a109331",
   "metadata": {
    "execution": {
     "iopub.execute_input": "2023-05-10T11:24:50.081893Z",
     "iopub.status.busy": "2023-05-10T11:24:50.081070Z",
     "iopub.status.idle": "2023-05-10T11:24:50.116527Z",
     "shell.execute_reply": "2023-05-10T11:24:50.115381Z"
    },
    "papermill": {
     "duration": 0.057068,
     "end_time": "2023-05-10T11:24:50.119255",
     "exception": false,
     "start_time": "2023-05-10T11:24:50.062187",
     "status": "completed"
    },
    "tags": []
   },
   "outputs": [
    {
     "data": {
      "text/html": [
       "<div>\n",
       "<style scoped>\n",
       "    .dataframe tbody tr th:only-of-type {\n",
       "        vertical-align: middle;\n",
       "    }\n",
       "\n",
       "    .dataframe tbody tr th {\n",
       "        vertical-align: top;\n",
       "    }\n",
       "\n",
       "    .dataframe thead th {\n",
       "        text-align: right;\n",
       "    }\n",
       "</style>\n",
       "<table border=\"1\" class=\"dataframe\">\n",
       "  <thead>\n",
       "    <tr style=\"text-align: right;\">\n",
       "      <th></th>\n",
       "      <th>count</th>\n",
       "      <th>mean</th>\n",
       "      <th>std</th>\n",
       "      <th>min</th>\n",
       "      <th>25%</th>\n",
       "      <th>50%</th>\n",
       "      <th>75%</th>\n",
       "      <th>max</th>\n",
       "    </tr>\n",
       "  </thead>\n",
       "  <tbody>\n",
       "    <tr>\n",
       "      <th>FoodCourt</th>\n",
       "      <td>8510.00</td>\n",
       "      <td>458.08</td>\n",
       "      <td>1611.49</td>\n",
       "      <td>0.00</td>\n",
       "      <td>0.00</td>\n",
       "      <td>0.00</td>\n",
       "      <td>76.00</td>\n",
       "      <td>29813.00</td>\n",
       "    </tr>\n",
       "    <tr>\n",
       "      <th>VRDeck</th>\n",
       "      <td>8505.00</td>\n",
       "      <td>304.85</td>\n",
       "      <td>1145.72</td>\n",
       "      <td>0.00</td>\n",
       "      <td>0.00</td>\n",
       "      <td>0.00</td>\n",
       "      <td>46.00</td>\n",
       "      <td>24133.00</td>\n",
       "    </tr>\n",
       "    <tr>\n",
       "      <th>Spa</th>\n",
       "      <td>8510.00</td>\n",
       "      <td>311.14</td>\n",
       "      <td>1136.71</td>\n",
       "      <td>0.00</td>\n",
       "      <td>0.00</td>\n",
       "      <td>0.00</td>\n",
       "      <td>59.00</td>\n",
       "      <td>22408.00</td>\n",
       "    </tr>\n",
       "    <tr>\n",
       "      <th>RoomService</th>\n",
       "      <td>8512.00</td>\n",
       "      <td>224.69</td>\n",
       "      <td>666.72</td>\n",
       "      <td>0.00</td>\n",
       "      <td>0.00</td>\n",
       "      <td>0.00</td>\n",
       "      <td>47.00</td>\n",
       "      <td>14327.00</td>\n",
       "    </tr>\n",
       "    <tr>\n",
       "      <th>ShoppingMall</th>\n",
       "      <td>8485.00</td>\n",
       "      <td>173.73</td>\n",
       "      <td>604.70</td>\n",
       "      <td>0.00</td>\n",
       "      <td>0.00</td>\n",
       "      <td>0.00</td>\n",
       "      <td>27.00</td>\n",
       "      <td>23492.00</td>\n",
       "    </tr>\n",
       "    <tr>\n",
       "      <th>Age</th>\n",
       "      <td>8514.00</td>\n",
       "      <td>28.83</td>\n",
       "      <td>14.49</td>\n",
       "      <td>0.00</td>\n",
       "      <td>19.00</td>\n",
       "      <td>27.00</td>\n",
       "      <td>38.00</td>\n",
       "      <td>79.00</td>\n",
       "    </tr>\n",
       "  </tbody>\n",
       "</table>\n",
       "</div>"
      ],
      "text/plain": [
       "               count   mean     std  min   25%   50%   75%      max\n",
       "FoodCourt    8510.00 458.08 1611.49 0.00  0.00  0.00 76.00 29813.00\n",
       "VRDeck       8505.00 304.85 1145.72 0.00  0.00  0.00 46.00 24133.00\n",
       "Spa          8510.00 311.14 1136.71 0.00  0.00  0.00 59.00 22408.00\n",
       "RoomService  8512.00 224.69  666.72 0.00  0.00  0.00 47.00 14327.00\n",
       "ShoppingMall 8485.00 173.73  604.70 0.00  0.00  0.00 27.00 23492.00\n",
       "Age          8514.00  28.83   14.49 0.00 19.00 27.00 38.00    79.00"
      ]
     },
     "execution_count": 14,
     "metadata": {},
     "output_type": "execute_result"
    }
   ],
   "source": [
    "#std를 기준으로 값을 전치해서 내림차순\n",
    "train.iloc[:, :-1].describe().T.sort_values(by='std' , ascending = False)"
   ]
  },
  {
   "cell_type": "markdown",
   "id": "b4c27820",
   "metadata": {
    "papermill": {
     "duration": 0.017754,
     "end_time": "2023-05-10T11:24:50.154815",
     "exception": false,
     "start_time": "2023-05-10T11:24:50.137061",
     "status": "completed"
    },
    "tags": []
   },
   "source": [
    "**Null Value Distribution**   \n",
    "Column wise Null Value Distribution"
   ]
  },
  {
   "cell_type": "code",
   "execution_count": 15,
   "id": "45a71f82",
   "metadata": {
    "execution": {
     "iopub.execute_input": "2023-05-10T11:24:50.192178Z",
     "iopub.status.busy": "2023-05-10T11:24:50.191760Z",
     "iopub.status.idle": "2023-05-10T11:24:50.700572Z",
     "shell.execute_reply": "2023-05-10T11:24:50.699242Z"
    },
    "papermill": {
     "duration": 0.530983,
     "end_time": "2023-05-10T11:24:50.703423",
     "exception": false,
     "start_time": "2023-05-10T11:24:50.172440",
     "status": "completed"
    },
    "tags": []
   },
   "outputs": [
    {
     "data": {
      "text/html": [
       "        <script type=\"text/javascript\">\n",
       "        window.PlotlyConfig = {MathJaxConfig: 'local'};\n",
       "        if (window.MathJax && window.MathJax.Hub && window.MathJax.Hub.Config) {window.MathJax.Hub.Config({SVG: {font: \"STIX-Web\"}});}\n",
       "        if (typeof require !== 'undefined') {\n",
       "        require.undef(\"plotly\");\n",
       "        requirejs.config({\n",
       "            paths: {\n",
       "                'plotly': ['https://cdn.plot.ly/plotly-2.20.0.min']\n",
       "            }\n",
       "        });\n",
       "        require(['plotly'], function(Plotly) {\n",
       "            window._Plotly = Plotly;\n",
       "        });\n",
       "        }\n",
       "        </script>\n",
       "        "
      ]
     },
     "metadata": {},
     "output_type": "display_data"
    },
    {
     "data": {
      "text/html": [
       "<div>                            <div id=\"820c55bf-116b-4205-bda0-e8cd8b2da3ad\" class=\"plotly-graph-div\" style=\"height:525px; width:100%;\"></div>            <script type=\"text/javascript\">                require([\"plotly\"], function(Plotly) {                    window.PLOTLYENV=window.PLOTLYENV || {};                                    if (document.getElementById(\"820c55bf-116b-4205-bda0-e8cd8b2da3ad\")) {                    Plotly.newPlot(                        \"820c55bf-116b-4205-bda0-e8cd8b2da3ad\",                        [{\"marker\":{\"color\":[0,1,2,3,4,5,6,7,8,9,10,11],\"coloraxis\":\"coloraxis\",\"line\":{\"color\":\"rgb(0,0,0)\",\"width\":2}},\"orientation\":\"h\",\"x\":[217,208,203,201,200,199,188,183,183,182,181,179],\"y\":[\"CryoSleep\",\"ShoppingMall\",\"VIP\",\"HomePlanet\",\"Name\",\"Cabin\",\"VRDeck\",\"FoodCourt\",\"Spa\",\"Destination\",\"RoomService\",\"Age\"],\"type\":\"bar\",\"xaxis\":\"x\",\"yaxis\":\"y\"},{\"marker\":{\"color\":[0,1,2,3,4,5,6,7,8,9,10,11],\"coloraxis\":\"coloraxis\",\"line\":{\"color\":\"rgb(0,0,0)\",\"width\":2}},\"orientation\":\"h\",\"x\":[106,101,100,98,94,93,93,92,91,87,82,80],\"y\":[\"FoodCourt\",\"Spa\",\"Cabin\",\"ShoppingMall\",\"Name\",\"CryoSleep\",\"VIP\",\"Destination\",\"Age\",\"HomePlanet\",\"RoomService\",\"VRDeck\"],\"type\":\"bar\",\"xaxis\":\"x2\",\"yaxis\":\"y2\"}],                        {\"template\":{\"data\":{\"histogram2dcontour\":[{\"type\":\"histogram2dcontour\",\"colorbar\":{\"outlinewidth\":0,\"ticks\":\"\"},\"colorscale\":[[0.0,\"#0d0887\"],[0.1111111111111111,\"#46039f\"],[0.2222222222222222,\"#7201a8\"],[0.3333333333333333,\"#9c179e\"],[0.4444444444444444,\"#bd3786\"],[0.5555555555555556,\"#d8576b\"],[0.6666666666666666,\"#ed7953\"],[0.7777777777777778,\"#fb9f3a\"],[0.8888888888888888,\"#fdca26\"],[1.0,\"#f0f921\"]]}],\"choropleth\":[{\"type\":\"choropleth\",\"colorbar\":{\"outlinewidth\":0,\"ticks\":\"\"}}],\"histogram2d\":[{\"type\":\"histogram2d\",\"colorbar\":{\"outlinewidth\":0,\"ticks\":\"\"},\"colorscale\":[[0.0,\"#0d0887\"],[0.1111111111111111,\"#46039f\"],[0.2222222222222222,\"#7201a8\"],[0.3333333333333333,\"#9c179e\"],[0.4444444444444444,\"#bd3786\"],[0.5555555555555556,\"#d8576b\"],[0.6666666666666666,\"#ed7953\"],[0.7777777777777778,\"#fb9f3a\"],[0.8888888888888888,\"#fdca26\"],[1.0,\"#f0f921\"]]}],\"heatmap\":[{\"type\":\"heatmap\",\"colorbar\":{\"outlinewidth\":0,\"ticks\":\"\"},\"colorscale\":[[0.0,\"#0d0887\"],[0.1111111111111111,\"#46039f\"],[0.2222222222222222,\"#7201a8\"],[0.3333333333333333,\"#9c179e\"],[0.4444444444444444,\"#bd3786\"],[0.5555555555555556,\"#d8576b\"],[0.6666666666666666,\"#ed7953\"],[0.7777777777777778,\"#fb9f3a\"],[0.8888888888888888,\"#fdca26\"],[1.0,\"#f0f921\"]]}],\"heatmapgl\":[{\"type\":\"heatmapgl\",\"colorbar\":{\"outlinewidth\":0,\"ticks\":\"\"},\"colorscale\":[[0.0,\"#0d0887\"],[0.1111111111111111,\"#46039f\"],[0.2222222222222222,\"#7201a8\"],[0.3333333333333333,\"#9c179e\"],[0.4444444444444444,\"#bd3786\"],[0.5555555555555556,\"#d8576b\"],[0.6666666666666666,\"#ed7953\"],[0.7777777777777778,\"#fb9f3a\"],[0.8888888888888888,\"#fdca26\"],[1.0,\"#f0f921\"]]}],\"contourcarpet\":[{\"type\":\"contourcarpet\",\"colorbar\":{\"outlinewidth\":0,\"ticks\":\"\"}}],\"contour\":[{\"type\":\"contour\",\"colorbar\":{\"outlinewidth\":0,\"ticks\":\"\"},\"colorscale\":[[0.0,\"#0d0887\"],[0.1111111111111111,\"#46039f\"],[0.2222222222222222,\"#7201a8\"],[0.3333333333333333,\"#9c179e\"],[0.4444444444444444,\"#bd3786\"],[0.5555555555555556,\"#d8576b\"],[0.6666666666666666,\"#ed7953\"],[0.7777777777777778,\"#fb9f3a\"],[0.8888888888888888,\"#fdca26\"],[1.0,\"#f0f921\"]]}],\"surface\":[{\"type\":\"surface\",\"colorbar\":{\"outlinewidth\":0,\"ticks\":\"\"},\"colorscale\":[[0.0,\"#0d0887\"],[0.1111111111111111,\"#46039f\"],[0.2222222222222222,\"#7201a8\"],[0.3333333333333333,\"#9c179e\"],[0.4444444444444444,\"#bd3786\"],[0.5555555555555556,\"#d8576b\"],[0.6666666666666666,\"#ed7953\"],[0.7777777777777778,\"#fb9f3a\"],[0.8888888888888888,\"#fdca26\"],[1.0,\"#f0f921\"]]}],\"mesh3d\":[{\"type\":\"mesh3d\",\"colorbar\":{\"outlinewidth\":0,\"ticks\":\"\"}}],\"scatter\":[{\"fillpattern\":{\"fillmode\":\"overlay\",\"size\":10,\"solidity\":0.2},\"type\":\"scatter\"}],\"parcoords\":[{\"type\":\"parcoords\",\"line\":{\"colorbar\":{\"outlinewidth\":0,\"ticks\":\"\"}}}],\"scatterpolargl\":[{\"type\":\"scatterpolargl\",\"marker\":{\"colorbar\":{\"outlinewidth\":0,\"ticks\":\"\"}}}],\"bar\":[{\"error_x\":{\"color\":\"#2a3f5f\"},\"error_y\":{\"color\":\"#2a3f5f\"},\"marker\":{\"line\":{\"color\":\"#E5ECF6\",\"width\":0.5},\"pattern\":{\"fillmode\":\"overlay\",\"size\":10,\"solidity\":0.2}},\"type\":\"bar\"}],\"scattergeo\":[{\"type\":\"scattergeo\",\"marker\":{\"colorbar\":{\"outlinewidth\":0,\"ticks\":\"\"}}}],\"scatterpolar\":[{\"type\":\"scatterpolar\",\"marker\":{\"colorbar\":{\"outlinewidth\":0,\"ticks\":\"\"}}}],\"histogram\":[{\"marker\":{\"pattern\":{\"fillmode\":\"overlay\",\"size\":10,\"solidity\":0.2}},\"type\":\"histogram\"}],\"scattergl\":[{\"type\":\"scattergl\",\"marker\":{\"colorbar\":{\"outlinewidth\":0,\"ticks\":\"\"}}}],\"scatter3d\":[{\"type\":\"scatter3d\",\"line\":{\"colorbar\":{\"outlinewidth\":0,\"ticks\":\"\"}},\"marker\":{\"colorbar\":{\"outlinewidth\":0,\"ticks\":\"\"}}}],\"scattermapbox\":[{\"type\":\"scattermapbox\",\"marker\":{\"colorbar\":{\"outlinewidth\":0,\"ticks\":\"\"}}}],\"scatterternary\":[{\"type\":\"scatterternary\",\"marker\":{\"colorbar\":{\"outlinewidth\":0,\"ticks\":\"\"}}}],\"scattercarpet\":[{\"type\":\"scattercarpet\",\"marker\":{\"colorbar\":{\"outlinewidth\":0,\"ticks\":\"\"}}}],\"carpet\":[{\"aaxis\":{\"endlinecolor\":\"#2a3f5f\",\"gridcolor\":\"white\",\"linecolor\":\"white\",\"minorgridcolor\":\"white\",\"startlinecolor\":\"#2a3f5f\"},\"baxis\":{\"endlinecolor\":\"#2a3f5f\",\"gridcolor\":\"white\",\"linecolor\":\"white\",\"minorgridcolor\":\"white\",\"startlinecolor\":\"#2a3f5f\"},\"type\":\"carpet\"}],\"table\":[{\"cells\":{\"fill\":{\"color\":\"#EBF0F8\"},\"line\":{\"color\":\"white\"}},\"header\":{\"fill\":{\"color\":\"#C8D4E3\"},\"line\":{\"color\":\"white\"}},\"type\":\"table\"}],\"barpolar\":[{\"marker\":{\"line\":{\"color\":\"#E5ECF6\",\"width\":0.5},\"pattern\":{\"fillmode\":\"overlay\",\"size\":10,\"solidity\":0.2}},\"type\":\"barpolar\"}],\"pie\":[{\"automargin\":true,\"type\":\"pie\"}]},\"layout\":{\"autotypenumbers\":\"strict\",\"colorway\":[\"#636efa\",\"#EF553B\",\"#00cc96\",\"#ab63fa\",\"#FFA15A\",\"#19d3f3\",\"#FF6692\",\"#B6E880\",\"#FF97FF\",\"#FECB52\"],\"font\":{\"color\":\"#2a3f5f\"},\"hovermode\":\"closest\",\"hoverlabel\":{\"align\":\"left\"},\"paper_bgcolor\":\"white\",\"plot_bgcolor\":\"#E5ECF6\",\"polar\":{\"bgcolor\":\"#E5ECF6\",\"angularaxis\":{\"gridcolor\":\"white\",\"linecolor\":\"white\",\"ticks\":\"\"},\"radialaxis\":{\"gridcolor\":\"white\",\"linecolor\":\"white\",\"ticks\":\"\"}},\"ternary\":{\"bgcolor\":\"#E5ECF6\",\"aaxis\":{\"gridcolor\":\"white\",\"linecolor\":\"white\",\"ticks\":\"\"},\"baxis\":{\"gridcolor\":\"white\",\"linecolor\":\"white\",\"ticks\":\"\"},\"caxis\":{\"gridcolor\":\"white\",\"linecolor\":\"white\",\"ticks\":\"\"}},\"coloraxis\":{\"colorbar\":{\"outlinewidth\":0,\"ticks\":\"\"}},\"colorscale\":{\"sequential\":[[0.0,\"#0d0887\"],[0.1111111111111111,\"#46039f\"],[0.2222222222222222,\"#7201a8\"],[0.3333333333333333,\"#9c179e\"],[0.4444444444444444,\"#bd3786\"],[0.5555555555555556,\"#d8576b\"],[0.6666666666666666,\"#ed7953\"],[0.7777777777777778,\"#fb9f3a\"],[0.8888888888888888,\"#fdca26\"],[1.0,\"#f0f921\"]],\"sequentialminus\":[[0.0,\"#0d0887\"],[0.1111111111111111,\"#46039f\"],[0.2222222222222222,\"#7201a8\"],[0.3333333333333333,\"#9c179e\"],[0.4444444444444444,\"#bd3786\"],[0.5555555555555556,\"#d8576b\"],[0.6666666666666666,\"#ed7953\"],[0.7777777777777778,\"#fb9f3a\"],[0.8888888888888888,\"#fdca26\"],[1.0,\"#f0f921\"]],\"diverging\":[[0,\"#8e0152\"],[0.1,\"#c51b7d\"],[0.2,\"#de77ae\"],[0.3,\"#f1b6da\"],[0.4,\"#fde0ef\"],[0.5,\"#f7f7f7\"],[0.6,\"#e6f5d0\"],[0.7,\"#b8e186\"],[0.8,\"#7fbc41\"],[0.9,\"#4d9221\"],[1,\"#276419\"]]},\"xaxis\":{\"gridcolor\":\"white\",\"linecolor\":\"white\",\"ticks\":\"\",\"title\":{\"standoff\":15},\"zerolinecolor\":\"white\",\"automargin\":true,\"zerolinewidth\":2},\"yaxis\":{\"gridcolor\":\"white\",\"linecolor\":\"white\",\"ticks\":\"\",\"title\":{\"standoff\":15},\"zerolinecolor\":\"white\",\"automargin\":true,\"zerolinewidth\":2},\"scene\":{\"xaxis\":{\"backgroundcolor\":\"#E5ECF6\",\"gridcolor\":\"white\",\"linecolor\":\"white\",\"showbackground\":true,\"ticks\":\"\",\"zerolinecolor\":\"white\",\"gridwidth\":2},\"yaxis\":{\"backgroundcolor\":\"#E5ECF6\",\"gridcolor\":\"white\",\"linecolor\":\"white\",\"showbackground\":true,\"ticks\":\"\",\"zerolinecolor\":\"white\",\"gridwidth\":2},\"zaxis\":{\"backgroundcolor\":\"#E5ECF6\",\"gridcolor\":\"white\",\"linecolor\":\"white\",\"showbackground\":true,\"ticks\":\"\",\"zerolinecolor\":\"white\",\"gridwidth\":2}},\"shapedefaults\":{\"line\":{\"color\":\"#2a3f5f\"}},\"annotationdefaults\":{\"arrowcolor\":\"#2a3f5f\",\"arrowhead\":0,\"arrowwidth\":1},\"geo\":{\"bgcolor\":\"white\",\"landcolor\":\"#E5ECF6\",\"subunitcolor\":\"white\",\"showland\":true,\"showlakes\":true,\"lakecolor\":\"white\"},\"title\":{\"x\":0.05},\"mapbox\":{\"style\":\"light\"}}},\"xaxis\":{\"anchor\":\"y\",\"domain\":[0.0,0.45]},\"yaxis\":{\"anchor\":\"x\",\"domain\":[0.0,1.0]},\"xaxis2\":{\"anchor\":\"y2\",\"domain\":[0.55,1.0]},\"yaxis2\":{\"anchor\":\"x2\",\"domain\":[0.0,1.0]},\"annotations\":[{\"font\":{\"size\":16},\"showarrow\":false,\"text\":\"Train Data\",\"x\":0.225,\"xanchor\":\"center\",\"xref\":\"paper\",\"y\":1.0,\"yanchor\":\"bottom\",\"yref\":\"paper\"},{\"font\":{\"size\":16},\"showarrow\":false,\"text\":\"Test Data\",\"x\":0.775,\"xanchor\":\"center\",\"xref\":\"paper\",\"y\":1.0,\"yanchor\":\"bottom\",\"yref\":\"paper\"},{\"font\":{\"size\":16},\"showarrow\":false,\"text\":\"Missing Values\",\"x\":0.5,\"xanchor\":\"center\",\"xref\":\"paper\",\"y\":0,\"yanchor\":\"top\",\"yref\":\"paper\",\"yshift\":-30}],\"title\":{\"text\":\"Column wise Null Value Distribution\",\"x\":0.5},\"showlegend\":false},                        {\"responsive\": true}                    ).then(function(){\n",
       "                            \n",
       "var gd = document.getElementById('820c55bf-116b-4205-bda0-e8cd8b2da3ad');\n",
       "var x = new MutationObserver(function (mutations, observer) {{\n",
       "        var display = window.getComputedStyle(gd).display;\n",
       "        if (!display || display === 'none') {{\n",
       "            console.log([gd, 'removed!']);\n",
       "            Plotly.purge(gd);\n",
       "            observer.disconnect();\n",
       "        }}\n",
       "}});\n",
       "\n",
       "// Listen for the removal of the full notebook cells\n",
       "var notebookContainer = gd.closest('#notebook-container');\n",
       "if (notebookContainer) {{\n",
       "    x.observe(notebookContainer, {childList: true});\n",
       "}}\n",
       "\n",
       "// Listen for the clearing of the current output cell\n",
       "var outputEl = gd.closest('.output');\n",
       "if (outputEl) {{\n",
       "    x.observe(outputEl, {childList: true});\n",
       "}}\n",
       "\n",
       "                        })                };                });            </script>        </div>"
      ]
     },
     "metadata": {},
     "output_type": "display_data"
    }
   ],
   "source": [
    "test_null = pd.DataFrame(test.isna().sum())\n",
    "test_null = test_null.sort_values(by = 0 ,ascending = False)\n",
    "train_null = pd.DataFrame(train.isna().sum())\n",
    "train_null = train_null.sort_values(by = 0 ,ascending = False)[:-1]\n",
    "\n",
    "#그래프를 그릴 때 나란히 출력한다\n",
    "fig = make_subplots(rows=1, \n",
    "                    cols=2,\n",
    "                    column_titles = [\"Train Data\", \"Test Data\"] ,\n",
    "                    x_title=\"Missing Values\")\n",
    "\n",
    "#빈 공간에 그려넣기\n",
    "fig.add_trace(go.Bar(x=train_null[0],\n",
    "                     y=train_null.index,\n",
    "                     orientation=\"h\",\n",
    "                    marker=dict(color=[n for n in range(12)], \n",
    "                                line_color='rgb(0,0,0)' , \n",
    "                                line_width = 2,\n",
    "                                coloraxis=\"coloraxis\")),\n",
    "              1, 1)\n",
    "fig.add_trace(go.Bar(x=test_null[0], \n",
    "                     y=test_null.index,\n",
    "                     orientation=\"h\",\n",
    "                    marker=dict(color=[n for n in range(12)], \n",
    "                                line_color='rgb(0,0,0)', \n",
    "                                line_width = 2,\n",
    "                                coloraxis=\"coloraxis\")),\n",
    "              1, 2)\n",
    "\n",
    "fig.update_layout(showlegend=False, title_text=\"Column wise Null Value Distribution\", title_x=0.5)"
   ]
  },
  {
   "cell_type": "markdown",
   "id": "60ea32f7",
   "metadata": {
    "papermill": {
     "duration": 0.018658,
     "end_time": "2023-05-10T11:24:50.742011",
     "exception": false,
     "start_time": "2023-05-10T11:24:50.723353",
     "status": "completed"
    },
    "tags": []
   },
   "source": [
    "Row wise Null Value Distribution"
   ]
  },
  {
   "cell_type": "code",
   "execution_count": 16,
   "id": "e3b1275e",
   "metadata": {
    "execution": {
     "iopub.execute_input": "2023-05-10T11:24:50.781257Z",
     "iopub.status.busy": "2023-05-10T11:24:50.780817Z",
     "iopub.status.idle": "2023-05-10T11:24:50.861589Z",
     "shell.execute_reply": "2023-05-10T11:24:50.860611Z"
    },
    "papermill": {
     "duration": 0.103404,
     "end_time": "2023-05-10T11:24:50.863991",
     "exception": false,
     "start_time": "2023-05-10T11:24:50.760587",
     "status": "completed"
    },
    "tags": []
   },
   "outputs": [
    {
     "data": {
      "text/html": [
       "<div>                            <div id=\"45517950-57a1-4b51-9e19-5f05d9ad36fd\" class=\"plotly-graph-div\" style=\"height:525px; width:100%;\"></div>            <script type=\"text/javascript\">                require([\"plotly\"], function(Plotly) {                    window.PLOTLYENV=window.PLOTLYENV || {};                                    if (document.getElementById(\"45517950-57a1-4b51-9e19-5f05d9ad36fd\")) {                    Plotly.newPlot(                        \"45517950-57a1-4b51-9e19-5f05d9ad36fd\",                        [{\"marker\":{\"color\":[0,1,2,3],\"coloraxis\":\"coloraxis\",\"line\":{\"color\":\"rgb(0,0,0)\",\"width\":3}},\"x\":[0,1,2,3],\"y\":[75.99217761417232,21.477050500402623,2.3352122397331185,0.19555964569193604],\"type\":\"bar\",\"xaxis\":\"x\",\"yaxis\":\"y\"},{\"marker\":{\"color\":[0,1,2,3],\"coloraxis\":\"coloraxis\",\"line\":{\"color\":\"rgb(0,0,0)\",\"width\":3}},\"x\":[0,1,2,3],\"y\":[76.71264905307459,20.55178863689502,2.6420388122515783,0.09352349777881692],\"type\":\"bar\",\"xaxis\":\"x2\",\"yaxis\":\"y2\"}],                        {\"template\":{\"data\":{\"histogram2dcontour\":[{\"type\":\"histogram2dcontour\",\"colorbar\":{\"outlinewidth\":0,\"ticks\":\"\"},\"colorscale\":[[0.0,\"#0d0887\"],[0.1111111111111111,\"#46039f\"],[0.2222222222222222,\"#7201a8\"],[0.3333333333333333,\"#9c179e\"],[0.4444444444444444,\"#bd3786\"],[0.5555555555555556,\"#d8576b\"],[0.6666666666666666,\"#ed7953\"],[0.7777777777777778,\"#fb9f3a\"],[0.8888888888888888,\"#fdca26\"],[1.0,\"#f0f921\"]]}],\"choropleth\":[{\"type\":\"choropleth\",\"colorbar\":{\"outlinewidth\":0,\"ticks\":\"\"}}],\"histogram2d\":[{\"type\":\"histogram2d\",\"colorbar\":{\"outlinewidth\":0,\"ticks\":\"\"},\"colorscale\":[[0.0,\"#0d0887\"],[0.1111111111111111,\"#46039f\"],[0.2222222222222222,\"#7201a8\"],[0.3333333333333333,\"#9c179e\"],[0.4444444444444444,\"#bd3786\"],[0.5555555555555556,\"#d8576b\"],[0.6666666666666666,\"#ed7953\"],[0.7777777777777778,\"#fb9f3a\"],[0.8888888888888888,\"#fdca26\"],[1.0,\"#f0f921\"]]}],\"heatmap\":[{\"type\":\"heatmap\",\"colorbar\":{\"outlinewidth\":0,\"ticks\":\"\"},\"colorscale\":[[0.0,\"#0d0887\"],[0.1111111111111111,\"#46039f\"],[0.2222222222222222,\"#7201a8\"],[0.3333333333333333,\"#9c179e\"],[0.4444444444444444,\"#bd3786\"],[0.5555555555555556,\"#d8576b\"],[0.6666666666666666,\"#ed7953\"],[0.7777777777777778,\"#fb9f3a\"],[0.8888888888888888,\"#fdca26\"],[1.0,\"#f0f921\"]]}],\"heatmapgl\":[{\"type\":\"heatmapgl\",\"colorbar\":{\"outlinewidth\":0,\"ticks\":\"\"},\"colorscale\":[[0.0,\"#0d0887\"],[0.1111111111111111,\"#46039f\"],[0.2222222222222222,\"#7201a8\"],[0.3333333333333333,\"#9c179e\"],[0.4444444444444444,\"#bd3786\"],[0.5555555555555556,\"#d8576b\"],[0.6666666666666666,\"#ed7953\"],[0.7777777777777778,\"#fb9f3a\"],[0.8888888888888888,\"#fdca26\"],[1.0,\"#f0f921\"]]}],\"contourcarpet\":[{\"type\":\"contourcarpet\",\"colorbar\":{\"outlinewidth\":0,\"ticks\":\"\"}}],\"contour\":[{\"type\":\"contour\",\"colorbar\":{\"outlinewidth\":0,\"ticks\":\"\"},\"colorscale\":[[0.0,\"#0d0887\"],[0.1111111111111111,\"#46039f\"],[0.2222222222222222,\"#7201a8\"],[0.3333333333333333,\"#9c179e\"],[0.4444444444444444,\"#bd3786\"],[0.5555555555555556,\"#d8576b\"],[0.6666666666666666,\"#ed7953\"],[0.7777777777777778,\"#fb9f3a\"],[0.8888888888888888,\"#fdca26\"],[1.0,\"#f0f921\"]]}],\"surface\":[{\"type\":\"surface\",\"colorbar\":{\"outlinewidth\":0,\"ticks\":\"\"},\"colorscale\":[[0.0,\"#0d0887\"],[0.1111111111111111,\"#46039f\"],[0.2222222222222222,\"#7201a8\"],[0.3333333333333333,\"#9c179e\"],[0.4444444444444444,\"#bd3786\"],[0.5555555555555556,\"#d8576b\"],[0.6666666666666666,\"#ed7953\"],[0.7777777777777778,\"#fb9f3a\"],[0.8888888888888888,\"#fdca26\"],[1.0,\"#f0f921\"]]}],\"mesh3d\":[{\"type\":\"mesh3d\",\"colorbar\":{\"outlinewidth\":0,\"ticks\":\"\"}}],\"scatter\":[{\"fillpattern\":{\"fillmode\":\"overlay\",\"size\":10,\"solidity\":0.2},\"type\":\"scatter\"}],\"parcoords\":[{\"type\":\"parcoords\",\"line\":{\"colorbar\":{\"outlinewidth\":0,\"ticks\":\"\"}}}],\"scatterpolargl\":[{\"type\":\"scatterpolargl\",\"marker\":{\"colorbar\":{\"outlinewidth\":0,\"ticks\":\"\"}}}],\"bar\":[{\"error_x\":{\"color\":\"#2a3f5f\"},\"error_y\":{\"color\":\"#2a3f5f\"},\"marker\":{\"line\":{\"color\":\"#E5ECF6\",\"width\":0.5},\"pattern\":{\"fillmode\":\"overlay\",\"size\":10,\"solidity\":0.2}},\"type\":\"bar\"}],\"scattergeo\":[{\"type\":\"scattergeo\",\"marker\":{\"colorbar\":{\"outlinewidth\":0,\"ticks\":\"\"}}}],\"scatterpolar\":[{\"type\":\"scatterpolar\",\"marker\":{\"colorbar\":{\"outlinewidth\":0,\"ticks\":\"\"}}}],\"histogram\":[{\"marker\":{\"pattern\":{\"fillmode\":\"overlay\",\"size\":10,\"solidity\":0.2}},\"type\":\"histogram\"}],\"scattergl\":[{\"type\":\"scattergl\",\"marker\":{\"colorbar\":{\"outlinewidth\":0,\"ticks\":\"\"}}}],\"scatter3d\":[{\"type\":\"scatter3d\",\"line\":{\"colorbar\":{\"outlinewidth\":0,\"ticks\":\"\"}},\"marker\":{\"colorbar\":{\"outlinewidth\":0,\"ticks\":\"\"}}}],\"scattermapbox\":[{\"type\":\"scattermapbox\",\"marker\":{\"colorbar\":{\"outlinewidth\":0,\"ticks\":\"\"}}}],\"scatterternary\":[{\"type\":\"scatterternary\",\"marker\":{\"colorbar\":{\"outlinewidth\":0,\"ticks\":\"\"}}}],\"scattercarpet\":[{\"type\":\"scattercarpet\",\"marker\":{\"colorbar\":{\"outlinewidth\":0,\"ticks\":\"\"}}}],\"carpet\":[{\"aaxis\":{\"endlinecolor\":\"#2a3f5f\",\"gridcolor\":\"white\",\"linecolor\":\"white\",\"minorgridcolor\":\"white\",\"startlinecolor\":\"#2a3f5f\"},\"baxis\":{\"endlinecolor\":\"#2a3f5f\",\"gridcolor\":\"white\",\"linecolor\":\"white\",\"minorgridcolor\":\"white\",\"startlinecolor\":\"#2a3f5f\"},\"type\":\"carpet\"}],\"table\":[{\"cells\":{\"fill\":{\"color\":\"#EBF0F8\"},\"line\":{\"color\":\"white\"}},\"header\":{\"fill\":{\"color\":\"#C8D4E3\"},\"line\":{\"color\":\"white\"}},\"type\":\"table\"}],\"barpolar\":[{\"marker\":{\"line\":{\"color\":\"#E5ECF6\",\"width\":0.5},\"pattern\":{\"fillmode\":\"overlay\",\"size\":10,\"solidity\":0.2}},\"type\":\"barpolar\"}],\"pie\":[{\"automargin\":true,\"type\":\"pie\"}]},\"layout\":{\"autotypenumbers\":\"strict\",\"colorway\":[\"#636efa\",\"#EF553B\",\"#00cc96\",\"#ab63fa\",\"#FFA15A\",\"#19d3f3\",\"#FF6692\",\"#B6E880\",\"#FF97FF\",\"#FECB52\"],\"font\":{\"color\":\"#2a3f5f\"},\"hovermode\":\"closest\",\"hoverlabel\":{\"align\":\"left\"},\"paper_bgcolor\":\"white\",\"plot_bgcolor\":\"#E5ECF6\",\"polar\":{\"bgcolor\":\"#E5ECF6\",\"angularaxis\":{\"gridcolor\":\"white\",\"linecolor\":\"white\",\"ticks\":\"\"},\"radialaxis\":{\"gridcolor\":\"white\",\"linecolor\":\"white\",\"ticks\":\"\"}},\"ternary\":{\"bgcolor\":\"#E5ECF6\",\"aaxis\":{\"gridcolor\":\"white\",\"linecolor\":\"white\",\"ticks\":\"\"},\"baxis\":{\"gridcolor\":\"white\",\"linecolor\":\"white\",\"ticks\":\"\"},\"caxis\":{\"gridcolor\":\"white\",\"linecolor\":\"white\",\"ticks\":\"\"}},\"coloraxis\":{\"colorbar\":{\"outlinewidth\":0,\"ticks\":\"\"}},\"colorscale\":{\"sequential\":[[0.0,\"#0d0887\"],[0.1111111111111111,\"#46039f\"],[0.2222222222222222,\"#7201a8\"],[0.3333333333333333,\"#9c179e\"],[0.4444444444444444,\"#bd3786\"],[0.5555555555555556,\"#d8576b\"],[0.6666666666666666,\"#ed7953\"],[0.7777777777777778,\"#fb9f3a\"],[0.8888888888888888,\"#fdca26\"],[1.0,\"#f0f921\"]],\"sequentialminus\":[[0.0,\"#0d0887\"],[0.1111111111111111,\"#46039f\"],[0.2222222222222222,\"#7201a8\"],[0.3333333333333333,\"#9c179e\"],[0.4444444444444444,\"#bd3786\"],[0.5555555555555556,\"#d8576b\"],[0.6666666666666666,\"#ed7953\"],[0.7777777777777778,\"#fb9f3a\"],[0.8888888888888888,\"#fdca26\"],[1.0,\"#f0f921\"]],\"diverging\":[[0,\"#8e0152\"],[0.1,\"#c51b7d\"],[0.2,\"#de77ae\"],[0.3,\"#f1b6da\"],[0.4,\"#fde0ef\"],[0.5,\"#f7f7f7\"],[0.6,\"#e6f5d0\"],[0.7,\"#b8e186\"],[0.8,\"#7fbc41\"],[0.9,\"#4d9221\"],[1,\"#276419\"]]},\"xaxis\":{\"gridcolor\":\"white\",\"linecolor\":\"white\",\"ticks\":\"\",\"title\":{\"standoff\":15},\"zerolinecolor\":\"white\",\"automargin\":true,\"zerolinewidth\":2},\"yaxis\":{\"gridcolor\":\"white\",\"linecolor\":\"white\",\"ticks\":\"\",\"title\":{\"standoff\":15},\"zerolinecolor\":\"white\",\"automargin\":true,\"zerolinewidth\":2},\"scene\":{\"xaxis\":{\"backgroundcolor\":\"#E5ECF6\",\"gridcolor\":\"white\",\"linecolor\":\"white\",\"showbackground\":true,\"ticks\":\"\",\"zerolinecolor\":\"white\",\"gridwidth\":2},\"yaxis\":{\"backgroundcolor\":\"#E5ECF6\",\"gridcolor\":\"white\",\"linecolor\":\"white\",\"showbackground\":true,\"ticks\":\"\",\"zerolinecolor\":\"white\",\"gridwidth\":2},\"zaxis\":{\"backgroundcolor\":\"#E5ECF6\",\"gridcolor\":\"white\",\"linecolor\":\"white\",\"showbackground\":true,\"ticks\":\"\",\"zerolinecolor\":\"white\",\"gridwidth\":2}},\"shapedefaults\":{\"line\":{\"color\":\"#2a3f5f\"}},\"annotationdefaults\":{\"arrowcolor\":\"#2a3f5f\",\"arrowhead\":0,\"arrowwidth\":1},\"geo\":{\"bgcolor\":\"white\",\"landcolor\":\"#E5ECF6\",\"subunitcolor\":\"white\",\"showland\":true,\"showlakes\":true,\"lakecolor\":\"white\"},\"title\":{\"x\":0.05},\"mapbox\":{\"style\":\"light\"}}},\"xaxis\":{\"anchor\":\"y\",\"domain\":[0.0,0.45]},\"yaxis\":{\"anchor\":\"x\",\"domain\":[0.0,1.0]},\"xaxis2\":{\"anchor\":\"y2\",\"domain\":[0.55,1.0]},\"yaxis2\":{\"anchor\":\"x2\",\"domain\":[0.0,1.0]},\"annotations\":[{\"font\":{\"size\":16},\"showarrow\":false,\"text\":\"Train Data\",\"x\":0.225,\"xanchor\":\"center\",\"xref\":\"paper\",\"y\":1.0,\"yanchor\":\"bottom\",\"yref\":\"paper\"},{\"font\":{\"size\":16},\"showarrow\":false,\"text\":\"Test Data\",\"x\":0.775,\"xanchor\":\"center\",\"xref\":\"paper\",\"y\":1.0,\"yanchor\":\"bottom\",\"yref\":\"paper\"},{\"font\":{\"size\":16},\"showarrow\":false,\"text\":\"Missing Values\",\"x\":0.5,\"xanchor\":\"center\",\"xref\":\"paper\",\"y\":0,\"yanchor\":\"top\",\"yref\":\"paper\",\"yshift\":-30}],\"title\":{\"text\":\"Row wise Null Value Distribution\",\"x\":0.5},\"showlegend\":false},                        {\"responsive\": true}                    ).then(function(){\n",
       "                            \n",
       "var gd = document.getElementById('45517950-57a1-4b51-9e19-5f05d9ad36fd');\n",
       "var x = new MutationObserver(function (mutations, observer) {{\n",
       "        var display = window.getComputedStyle(gd).display;\n",
       "        if (!display || display === 'none') {{\n",
       "            console.log([gd, 'removed!']);\n",
       "            Plotly.purge(gd);\n",
       "            observer.disconnect();\n",
       "        }}\n",
       "}});\n",
       "\n",
       "// Listen for the removal of the full notebook cells\n",
       "var notebookContainer = gd.closest('#notebook-container');\n",
       "if (notebookContainer) {{\n",
       "    x.observe(notebookContainer, {childList: true});\n",
       "}}\n",
       "\n",
       "// Listen for the clearing of the current output cell\n",
       "var outputEl = gd.closest('.output');\n",
       "if (outputEl) {{\n",
       "    x.observe(outputEl, {childList: true});\n",
       "}}\n",
       "\n",
       "                        })                };                });            </script>        </div>"
      ]
     },
     "metadata": {},
     "output_type": "display_data"
    }
   ],
   "source": [
    "#column이 아닌 row기준으로 출력\n",
    "missing_train_row = train.isna().sum(axis=1)\n",
    "missing_train_row = pd.DataFrame(missing_train_row.value_counts()/train.shape[0]).reset_index()\n",
    "missing_test_row = test.isna().sum(axis=1)\n",
    "missing_test_row = pd.DataFrame(missing_test_row.value_counts()/test.shape[0]).reset_index()\n",
    "missing_train_row.columns = ['no', 'count']\n",
    "missing_test_row.columns = ['no', 'count']\n",
    "missing_train_row[\"count\"] = missing_train_row[\"count\"]*100\n",
    "missing_test_row[\"count\"] = missing_test_row[\"count\"]*100\n",
    "\n",
    "\n",
    "fig = make_subplots(rows=1, \n",
    "                    cols=2,\n",
    "                    column_titles = [\"Train Data\", \"Test Data\"] ,\n",
    "                    x_title=\"Missing Values\",)\n",
    "\n",
    "fig.add_trace(go.Bar(x=missing_train_row[\"no\"], \n",
    "                     y=missing_train_row[\"count\"]  ,\n",
    "                    marker=dict(color=[n for n in range(4)], \n",
    "                                line_color='rgb(0,0,0)' ,\n",
    "                                line_width = 3\n",
    "                                ,coloraxis=\"coloraxis\")),\n",
    "              1, 1)\n",
    "fig.add_trace(go.Bar(x= missing_test_row[\"no\"], \n",
    "                     y=missing_test_row[\"count\"],\n",
    "                    marker=dict(color=[n for n in range(4)], \n",
    "                                line_color='rgb(0,0,0)',\n",
    "                                line_width = 3 ,\n",
    "                                coloraxis=\"coloraxis\")),\n",
    "              1, 2)\n",
    "fig.update_layout(showlegend=False, title_text=\"Row wise Null Value Distribution\", title_x=0.5)"
   ]
  },
  {
   "cell_type": "markdown",
   "id": "dcec6efd",
   "metadata": {
    "papermill": {
     "duration": 0.017856,
     "end_time": "2023-05-10T11:24:50.900448",
     "exception": false,
     "start_time": "2023-05-10T11:24:50.882592",
     "status": "completed"
    },
    "tags": []
   },
   "source": [
    "Dealing with missing value (reference)"
   ]
  },
  {
   "cell_type": "markdown",
   "id": "eb09865b",
   "metadata": {
    "papermill": {
     "duration": 0.017987,
     "end_time": "2023-05-10T11:24:50.936734",
     "exception": false,
     "start_time": "2023-05-10T11:24:50.918747",
     "status": "completed"
    },
    "tags": []
   },
   "source": [
    "**Continuos and Categorical Data Distribution**"
   ]
  },
  {
   "cell_type": "code",
   "execution_count": 17,
   "id": "71799ce6",
   "metadata": {
    "execution": {
     "iopub.execute_input": "2023-05-10T11:24:50.975903Z",
     "iopub.status.busy": "2023-05-10T11:24:50.974925Z",
     "iopub.status.idle": "2023-05-10T11:24:51.067859Z",
     "shell.execute_reply": "2023-05-10T11:24:51.066610Z"
    },
    "papermill": {
     "duration": 0.115162,
     "end_time": "2023-05-10T11:24:51.070441",
     "exception": false,
     "start_time": "2023-05-10T11:24:50.955279",
     "status": "completed"
    },
    "tags": []
   },
   "outputs": [
    {
     "name": "stdout",
     "output_type": "stream",
     "text": [
      "\u001b[94mTotal number of features: 12\n",
      "\u001b[94mNumber of categorical features: 4\n",
      "\u001b[94mNumber of continuos features: 6\n",
      "\u001b[94mNumber of text features: 2\n"
     ]
    },
    {
     "data": {
      "text/html": [
       "<div>                            <div id=\"5b8fb0d5-20d8-4265-b84b-ad450d7726ef\" class=\"plotly-graph-div\" style=\"height:525px; width:100%;\"></div>            <script type=\"text/javascript\">                require([\"plotly\"], function(Plotly) {                    window.PLOTLYENV=window.PLOTLYENV || {};                                    if (document.getElementById(\"5b8fb0d5-20d8-4265-b84b-ad450d7726ef\")) {                    Plotly.newPlot(                        \"5b8fb0d5-20d8-4265-b84b-ad450d7726ef\",                        [{\"labels\":[\"Categorical\",\"Continuos\",\"Text\"],\"marker\":{\"colors\":[\"#DE3163\",\"#58D68D\"],\"line\":{\"color\":\"#000000\",\"width\":2}},\"pull\":[0.1,0,0],\"values\":[4,6,2],\"type\":\"pie\"}],                        {\"template\":{\"data\":{\"histogram2dcontour\":[{\"type\":\"histogram2dcontour\",\"colorbar\":{\"outlinewidth\":0,\"ticks\":\"\"},\"colorscale\":[[0.0,\"#0d0887\"],[0.1111111111111111,\"#46039f\"],[0.2222222222222222,\"#7201a8\"],[0.3333333333333333,\"#9c179e\"],[0.4444444444444444,\"#bd3786\"],[0.5555555555555556,\"#d8576b\"],[0.6666666666666666,\"#ed7953\"],[0.7777777777777778,\"#fb9f3a\"],[0.8888888888888888,\"#fdca26\"],[1.0,\"#f0f921\"]]}],\"choropleth\":[{\"type\":\"choropleth\",\"colorbar\":{\"outlinewidth\":0,\"ticks\":\"\"}}],\"histogram2d\":[{\"type\":\"histogram2d\",\"colorbar\":{\"outlinewidth\":0,\"ticks\":\"\"},\"colorscale\":[[0.0,\"#0d0887\"],[0.1111111111111111,\"#46039f\"],[0.2222222222222222,\"#7201a8\"],[0.3333333333333333,\"#9c179e\"],[0.4444444444444444,\"#bd3786\"],[0.5555555555555556,\"#d8576b\"],[0.6666666666666666,\"#ed7953\"],[0.7777777777777778,\"#fb9f3a\"],[0.8888888888888888,\"#fdca26\"],[1.0,\"#f0f921\"]]}],\"heatmap\":[{\"type\":\"heatmap\",\"colorbar\":{\"outlinewidth\":0,\"ticks\":\"\"},\"colorscale\":[[0.0,\"#0d0887\"],[0.1111111111111111,\"#46039f\"],[0.2222222222222222,\"#7201a8\"],[0.3333333333333333,\"#9c179e\"],[0.4444444444444444,\"#bd3786\"],[0.5555555555555556,\"#d8576b\"],[0.6666666666666666,\"#ed7953\"],[0.7777777777777778,\"#fb9f3a\"],[0.8888888888888888,\"#fdca26\"],[1.0,\"#f0f921\"]]}],\"heatmapgl\":[{\"type\":\"heatmapgl\",\"colorbar\":{\"outlinewidth\":0,\"ticks\":\"\"},\"colorscale\":[[0.0,\"#0d0887\"],[0.1111111111111111,\"#46039f\"],[0.2222222222222222,\"#7201a8\"],[0.3333333333333333,\"#9c179e\"],[0.4444444444444444,\"#bd3786\"],[0.5555555555555556,\"#d8576b\"],[0.6666666666666666,\"#ed7953\"],[0.7777777777777778,\"#fb9f3a\"],[0.8888888888888888,\"#fdca26\"],[1.0,\"#f0f921\"]]}],\"contourcarpet\":[{\"type\":\"contourcarpet\",\"colorbar\":{\"outlinewidth\":0,\"ticks\":\"\"}}],\"contour\":[{\"type\":\"contour\",\"colorbar\":{\"outlinewidth\":0,\"ticks\":\"\"},\"colorscale\":[[0.0,\"#0d0887\"],[0.1111111111111111,\"#46039f\"],[0.2222222222222222,\"#7201a8\"],[0.3333333333333333,\"#9c179e\"],[0.4444444444444444,\"#bd3786\"],[0.5555555555555556,\"#d8576b\"],[0.6666666666666666,\"#ed7953\"],[0.7777777777777778,\"#fb9f3a\"],[0.8888888888888888,\"#fdca26\"],[1.0,\"#f0f921\"]]}],\"surface\":[{\"type\":\"surface\",\"colorbar\":{\"outlinewidth\":0,\"ticks\":\"\"},\"colorscale\":[[0.0,\"#0d0887\"],[0.1111111111111111,\"#46039f\"],[0.2222222222222222,\"#7201a8\"],[0.3333333333333333,\"#9c179e\"],[0.4444444444444444,\"#bd3786\"],[0.5555555555555556,\"#d8576b\"],[0.6666666666666666,\"#ed7953\"],[0.7777777777777778,\"#fb9f3a\"],[0.8888888888888888,\"#fdca26\"],[1.0,\"#f0f921\"]]}],\"mesh3d\":[{\"type\":\"mesh3d\",\"colorbar\":{\"outlinewidth\":0,\"ticks\":\"\"}}],\"scatter\":[{\"fillpattern\":{\"fillmode\":\"overlay\",\"size\":10,\"solidity\":0.2},\"type\":\"scatter\"}],\"parcoords\":[{\"type\":\"parcoords\",\"line\":{\"colorbar\":{\"outlinewidth\":0,\"ticks\":\"\"}}}],\"scatterpolargl\":[{\"type\":\"scatterpolargl\",\"marker\":{\"colorbar\":{\"outlinewidth\":0,\"ticks\":\"\"}}}],\"bar\":[{\"error_x\":{\"color\":\"#2a3f5f\"},\"error_y\":{\"color\":\"#2a3f5f\"},\"marker\":{\"line\":{\"color\":\"#E5ECF6\",\"width\":0.5},\"pattern\":{\"fillmode\":\"overlay\",\"size\":10,\"solidity\":0.2}},\"type\":\"bar\"}],\"scattergeo\":[{\"type\":\"scattergeo\",\"marker\":{\"colorbar\":{\"outlinewidth\":0,\"ticks\":\"\"}}}],\"scatterpolar\":[{\"type\":\"scatterpolar\",\"marker\":{\"colorbar\":{\"outlinewidth\":0,\"ticks\":\"\"}}}],\"histogram\":[{\"marker\":{\"pattern\":{\"fillmode\":\"overlay\",\"size\":10,\"solidity\":0.2}},\"type\":\"histogram\"}],\"scattergl\":[{\"type\":\"scattergl\",\"marker\":{\"colorbar\":{\"outlinewidth\":0,\"ticks\":\"\"}}}],\"scatter3d\":[{\"type\":\"scatter3d\",\"line\":{\"colorbar\":{\"outlinewidth\":0,\"ticks\":\"\"}},\"marker\":{\"colorbar\":{\"outlinewidth\":0,\"ticks\":\"\"}}}],\"scattermapbox\":[{\"type\":\"scattermapbox\",\"marker\":{\"colorbar\":{\"outlinewidth\":0,\"ticks\":\"\"}}}],\"scatterternary\":[{\"type\":\"scatterternary\",\"marker\":{\"colorbar\":{\"outlinewidth\":0,\"ticks\":\"\"}}}],\"scattercarpet\":[{\"type\":\"scattercarpet\",\"marker\":{\"colorbar\":{\"outlinewidth\":0,\"ticks\":\"\"}}}],\"carpet\":[{\"aaxis\":{\"endlinecolor\":\"#2a3f5f\",\"gridcolor\":\"white\",\"linecolor\":\"white\",\"minorgridcolor\":\"white\",\"startlinecolor\":\"#2a3f5f\"},\"baxis\":{\"endlinecolor\":\"#2a3f5f\",\"gridcolor\":\"white\",\"linecolor\":\"white\",\"minorgridcolor\":\"white\",\"startlinecolor\":\"#2a3f5f\"},\"type\":\"carpet\"}],\"table\":[{\"cells\":{\"fill\":{\"color\":\"#EBF0F8\"},\"line\":{\"color\":\"white\"}},\"header\":{\"fill\":{\"color\":\"#C8D4E3\"},\"line\":{\"color\":\"white\"}},\"type\":\"table\"}],\"barpolar\":[{\"marker\":{\"line\":{\"color\":\"#E5ECF6\",\"width\":0.5},\"pattern\":{\"fillmode\":\"overlay\",\"size\":10,\"solidity\":0.2}},\"type\":\"barpolar\"}],\"pie\":[{\"automargin\":true,\"type\":\"pie\"}]},\"layout\":{\"autotypenumbers\":\"strict\",\"colorway\":[\"#636efa\",\"#EF553B\",\"#00cc96\",\"#ab63fa\",\"#FFA15A\",\"#19d3f3\",\"#FF6692\",\"#B6E880\",\"#FF97FF\",\"#FECB52\"],\"font\":{\"color\":\"#2a3f5f\"},\"hovermode\":\"closest\",\"hoverlabel\":{\"align\":\"left\"},\"paper_bgcolor\":\"white\",\"plot_bgcolor\":\"#E5ECF6\",\"polar\":{\"bgcolor\":\"#E5ECF6\",\"angularaxis\":{\"gridcolor\":\"white\",\"linecolor\":\"white\",\"ticks\":\"\"},\"radialaxis\":{\"gridcolor\":\"white\",\"linecolor\":\"white\",\"ticks\":\"\"}},\"ternary\":{\"bgcolor\":\"#E5ECF6\",\"aaxis\":{\"gridcolor\":\"white\",\"linecolor\":\"white\",\"ticks\":\"\"},\"baxis\":{\"gridcolor\":\"white\",\"linecolor\":\"white\",\"ticks\":\"\"},\"caxis\":{\"gridcolor\":\"white\",\"linecolor\":\"white\",\"ticks\":\"\"}},\"coloraxis\":{\"colorbar\":{\"outlinewidth\":0,\"ticks\":\"\"}},\"colorscale\":{\"sequential\":[[0.0,\"#0d0887\"],[0.1111111111111111,\"#46039f\"],[0.2222222222222222,\"#7201a8\"],[0.3333333333333333,\"#9c179e\"],[0.4444444444444444,\"#bd3786\"],[0.5555555555555556,\"#d8576b\"],[0.6666666666666666,\"#ed7953\"],[0.7777777777777778,\"#fb9f3a\"],[0.8888888888888888,\"#fdca26\"],[1.0,\"#f0f921\"]],\"sequentialminus\":[[0.0,\"#0d0887\"],[0.1111111111111111,\"#46039f\"],[0.2222222222222222,\"#7201a8\"],[0.3333333333333333,\"#9c179e\"],[0.4444444444444444,\"#bd3786\"],[0.5555555555555556,\"#d8576b\"],[0.6666666666666666,\"#ed7953\"],[0.7777777777777778,\"#fb9f3a\"],[0.8888888888888888,\"#fdca26\"],[1.0,\"#f0f921\"]],\"diverging\":[[0,\"#8e0152\"],[0.1,\"#c51b7d\"],[0.2,\"#de77ae\"],[0.3,\"#f1b6da\"],[0.4,\"#fde0ef\"],[0.5,\"#f7f7f7\"],[0.6,\"#e6f5d0\"],[0.7,\"#b8e186\"],[0.8,\"#7fbc41\"],[0.9,\"#4d9221\"],[1,\"#276419\"]]},\"xaxis\":{\"gridcolor\":\"white\",\"linecolor\":\"white\",\"ticks\":\"\",\"title\":{\"standoff\":15},\"zerolinecolor\":\"white\",\"automargin\":true,\"zerolinewidth\":2},\"yaxis\":{\"gridcolor\":\"white\",\"linecolor\":\"white\",\"ticks\":\"\",\"title\":{\"standoff\":15},\"zerolinecolor\":\"white\",\"automargin\":true,\"zerolinewidth\":2},\"scene\":{\"xaxis\":{\"backgroundcolor\":\"#E5ECF6\",\"gridcolor\":\"white\",\"linecolor\":\"white\",\"showbackground\":true,\"ticks\":\"\",\"zerolinecolor\":\"white\",\"gridwidth\":2},\"yaxis\":{\"backgroundcolor\":\"#E5ECF6\",\"gridcolor\":\"white\",\"linecolor\":\"white\",\"showbackground\":true,\"ticks\":\"\",\"zerolinecolor\":\"white\",\"gridwidth\":2},\"zaxis\":{\"backgroundcolor\":\"#E5ECF6\",\"gridcolor\":\"white\",\"linecolor\":\"white\",\"showbackground\":true,\"ticks\":\"\",\"zerolinecolor\":\"white\",\"gridwidth\":2}},\"shapedefaults\":{\"line\":{\"color\":\"#2a3f5f\"}},\"annotationdefaults\":{\"arrowcolor\":\"#2a3f5f\",\"arrowhead\":0,\"arrowwidth\":1},\"geo\":{\"bgcolor\":\"white\",\"landcolor\":\"#E5ECF6\",\"subunitcolor\":\"white\",\"showland\":true,\"showlakes\":true,\"lakecolor\":\"white\"},\"title\":{\"x\":0.05},\"mapbox\":{\"style\":\"light\"}}}},                        {\"responsive\": true}                    ).then(function(){\n",
       "                            \n",
       "var gd = document.getElementById('5b8fb0d5-20d8-4265-b84b-ad450d7726ef');\n",
       "var x = new MutationObserver(function (mutations, observer) {{\n",
       "        var display = window.getComputedStyle(gd).display;\n",
       "        if (!display || display === 'none') {{\n",
       "            console.log([gd, 'removed!']);\n",
       "            Plotly.purge(gd);\n",
       "            observer.disconnect();\n",
       "        }}\n",
       "}});\n",
       "\n",
       "// Listen for the removal of the full notebook cells\n",
       "var notebookContainer = gd.closest('#notebook-container');\n",
       "if (notebookContainer) {{\n",
       "    x.observe(notebookContainer, {childList: true});\n",
       "}}\n",
       "\n",
       "// Listen for the clearing of the current output cell\n",
       "var outputEl = gd.closest('.output');\n",
       "if (outputEl) {{\n",
       "    x.observe(outputEl, {childList: true});\n",
       "}}\n",
       "\n",
       "                        })                };                });            </script>        </div>"
      ]
     },
     "metadata": {},
     "output_type": "display_data"
    }
   ],
   "source": [
    "#train의 feature와 test의 feature 합치기\n",
    "df = pd.concat([train[FEATURES], test[FEATURES]], axis=0)\n",
    "text_features = [\"Cabin\", \"Name\"]\n",
    "cat_features = [col for col in FEATURES if df[col].nunique() < 25 and col not in text_features ]\n",
    "cont_features = [col for col in FEATURES if df[col].nunique() >= 25 and col not in text_features ]\n",
    "\n",
    "del df\n",
    "print(f'\\033[94mTotal number of features: {len(FEATURES)}')\n",
    "print(f'\\033[94mNumber of categorical features: {len(cat_features)}')\n",
    "print(f'\\033[94mNumber of continuos features: {len(cont_features)}')\n",
    "print(f'\\033[94mNumber of text features: {len(text_features)}')\n",
    "\n",
    "labels=['Categorical', 'Continuos', \"Text\"]\n",
    "values= [len(cat_features), len(cont_features), len(text_features)]\n",
    "colors = ['#DE3163', '#58D68D']\n",
    "\n",
    "fig = go.Figure(data=[go.Pie(\n",
    "    labels=labels, \n",
    "    values=values, pull=[0.1, 0, 0 ],\n",
    "    marker=dict(colors=colors, \n",
    "                line=dict(color='#000000', \n",
    "                          width=2))\n",
    ")])\n",
    "fig.show()"
   ]
  },
  {
   "cell_type": "markdown",
   "id": "6b347d2d",
   "metadata": {
    "papermill": {
     "duration": 0.019015,
     "end_time": "2023-05-10T11:24:51.109536",
     "exception": false,
     "start_time": "2023-05-10T11:24:51.090521",
     "status": "completed"
    },
    "tags": []
   },
   "source": [
    "**Feature Distribution of Continous Features**   \n",
    "Distribution of Age"
   ]
  },
  {
   "cell_type": "code",
   "execution_count": 18,
   "id": "9f971b32",
   "metadata": {
    "execution": {
     "iopub.execute_input": "2023-05-10T11:24:51.149278Z",
     "iopub.status.busy": "2023-05-10T11:24:51.148886Z",
     "iopub.status.idle": "2023-05-10T11:24:52.699173Z",
     "shell.execute_reply": "2023-05-10T11:24:52.698067Z"
    },
    "papermill": {
     "duration": 1.57446,
     "end_time": "2023-05-10T11:24:52.702832",
     "exception": false,
     "start_time": "2023-05-10T11:24:51.128372",
     "status": "completed"
    },
    "tags": []
   },
   "outputs": [
    {
     "data": {
      "text/html": [
       "<div>                            <div id=\"bc874b64-60fd-4c58-81f0-d2a8223ce206\" class=\"plotly-graph-div\" style=\"height:525px; width:100%;\"></div>            <script type=\"text/javascript\">                require([\"plotly\"], function(Plotly) {                    window.PLOTLYENV=window.PLOTLYENV || {};                                    if (document.getElementById(\"bc874b64-60fd-4c58-81f0-d2a8223ce206\")) {                    Plotly.newPlot(                        \"bc874b64-60fd-4c58-81f0-d2a8223ce206\",                        [{\"alignmentgroup\":\"True\",\"bingroup\":\"x\",\"hovertemplate\":\"type=Train<br>Age=%{x}<br>count=%{y}<extra></extra>\",\"legendgroup\":\"Train\",\"marker\":{\"color\":\"#58D68D\",\"pattern\":{\"shape\":\"\"}},\"name\":\"Train\",\"nbinsx\":100,\"offsetgroup\":\"Train\",\"orientation\":\"v\",\"showlegend\":true,\"x\":[39.0,24.0,58.0,33.0,16.0,44.0,26.0,28.0,35.0,14.0,34.0,45.0,32.0,48.0,28.0,31.0,27.0,24.0,45.0,0.0,14.0,1.0,49.0,29.0,10.0,1.0,7.0,21.0,62.0,15.0,34.0,43.0,32.0,47.0,2.0,20.0,28.0,23.0,15.0,20.0,30.0,17.0,45.0,55.0,4.0,21.0,21.0,19.0,35.0,56.0,null,25.0,2.0,38.0,27.0,36.0,22.0,62.0,15.0,33.0,62.0,0.0,18.0,21.0,null,42.0,19.0,17.0,14.0,37.0,42.0,27.0,28.0,38.0,13.0,42.0,2.0,8.0,24.0,40.0,43.0,45.0,35.0,26.0,27.0,19.0,0.0,3.0,54.0,26.0,26.0,23.0,2.0,31.0,18.0,24.0,9.0,6.0,27.0,21.0,23.0,31.0,0.0,32.0,40.0,42.0,28.0,29.0,48.0,64.0,27.0,26.0,33.0,39.0,13.0,24.0,29.0,18.0,67.0,35.0,61.0,45.0,22.0,19.0,36.0,19.0,47.0,13.0,34.0,35.0,24.0,26.0,31.0,20.0,56.0,50.0,42.0,null,38.0,41.0,22.0,26.0,17.0,57.0,17.0,35.0,13.0,27.0,31.0,24.0,19.0,32.0,58.0,21.0,38.0,38.0,19.0,0.0,3.0,20.0,24.0,37.0,25.0,56.0,49.0,11.0,1.0,8.0,39.0,2.0,23.0,0.0,39.0,25.0,36.0,52.0,18.0,15.0,35.0,47.0,45.0,null,51.0,29.0,null,19.0,24.0,29.0,11.0,17.0,13.0,35.0,21.0,21.0,38.0,19.0,2.0,0.0,13.0,25.0,16.0,1.0,15.0,21.0,23.0,33.0,21.0,41.0,16.0,42.0,20.0,24.0,16.0,21.0,32.0,58.0,24.0,30.0,27.0,32.0,43.0,42.0,37.0,35.0,33.0,18.0,21.0,43.0,14.0,46.0,33.0,21.0,33.0,47.0,54.0,30.0,29.0,21.0,24.0,21.0,60.0,22.0,26.0,26.0,28.0,39.0,13.0,47.0,63.0,null,50.0,35.0,45.0,19.0,21.0,29.0,22.0,14.0,42.0,57.0,39.0,28.0,19.0,19.0,26.0,17.0,43.0,9.0,40.0,50.0,24.0,57.0,16.0,23.0,23.0,28.0,23.0,23.0,18.0,18.0,67.0,60.0,null,49.0,0.0,26.0,35.0,24.0,20.0,18.0,21.0,59.0,13.0,43.0,29.0,19.0,2.0,32.0,33.0,25.0,29.0,29.0,44.0,2.0,19.0,0.0,18.0,38.0,5.0,31.0,30.0,15.0,27.0,22.0,36.0,14.0,23.0,18.0,36.0,41.0,50.0,32.0,26.0,15.0,33.0,null,26.0,61.0,24.0,30.0,24.0,24.0,41.0,20.0,22.0,63.0,18.0,21.0,79.0,56.0,13.0,33.0,32.0,31.0,26.0,18.0,38.0,23.0,28.0,34.0,0.0,14.0,23.0,49.0,14.0,18.0,27.0,48.0,31.0,61.0,18.0,45.0,22.0,30.0,30.0,32.0,43.0,17.0,23.0,20.0,39.0,35.0,31.0,21.0,16.0,60.0,18.0,42.0,68.0,22.0,59.0,null,37.0,3.0,31.0,31.0,29.0,20.0,46.0,29.0,43.0,17.0,27.0,47.0,45.0,17.0,10.0,56.0,39.0,40.0,40.0,34.0,32.0,35.0,32.0,26.0,25.0,26.0,22.0,22.0,24.0,32.0,11.0,22.0,19.0,34.0,74.0,28.0,42.0,43.0,55.0,19.0,6.0,7.0,28.0,15.0,24.0,31.0,22.0,1.0,50.0,34.0,14.0,19.0,null,36.0,34.0,25.0,36.0,16.0,30.0,37.0,15.0,36.0,27.0,27.0,12.0,22.0,27.0,13.0,27.0,28.0,21.0,39.0,28.0,14.0,27.0,46.0,27.0,21.0,21.0,42.0,22.0,10.0,43.0,42.0,18.0,54.0,24.0,64.0,18.0,53.0,23.0,39.0,59.0,32.0,55.0,21.0,50.0,55.0,null,35.0,null,55.0,23.0,42.0,35.0,47.0,null,34.0,46.0,26.0,1.0,null,33.0,34.0,49.0,22.0,28.0,null,36.0,30.0,49.0,38.0,31.0,17.0,26.0,23.0,24.0,23.0,24.0,32.0,43.0,23.0,42.0,29.0,40.0,37.0,61.0,33.0,19.0,21.0,4.0,12.0,44.0,22.0,33.0,32.0,28.0,28.0,31.0,13.0,14.0,33.0,null,23.0,36.0,22.0,19.0,42.0,30.0,16.0,55.0,55.0,19.0,null,18.0,21.0,65.0,55.0,50.0,49.0,22.0,33.0,3.0,0.0,33.0,48.0,5.0,23.0,53.0,18.0,20.0,23.0,48.0,19.0,null,9.0,24.0,46.0,23.0,21.0,19.0,0.0,4.0,26.0,9.0,24.0,24.0,25.0,21.0,21.0,37.0,44.0,43.0,7.0,33.0,24.0,31.0,27.0,34.0,58.0,7.0,3.0,21.0,21.0,39.0,43.0,22.0,44.0,38.0,32.0,55.0,31.0,39.0,35.0,37.0,13.0,21.0,20.0,20.0,63.0,36.0,29.0,36.0,79.0,30.0,30.0,19.0,33.0,20.0,38.0,7.0,58.0,33.0,3.0,39.0,37.0,32.0,28.0,38.0,21.0,18.0,15.0,44.0,44.0,36.0,28.0,15.0,45.0,26.0,46.0,25.0,46.0,15.0,37.0,20.0,45.0,7.0,5.0,38.0,30.0,null,0.0,20.0,41.0,18.0,29.0,19.0,34.0,36.0,54.0,19.0,21.0,23.0,35.0,34.0,22.0,24.0,18.0,24.0,33.0,24.0,18.0,19.0,43.0,44.0,25.0,25.0,23.0,23.0,20.0,2.0,26.0,38.0,1.0,12.0,2.0,25.0,1.0,0.0,54.0,21.0,19.0,24.0,20.0,23.0,29.0,14.0,19.0,23.0,62.0,23.0,65.0,47.0,67.0,14.0,41.0,14.0,19.0,22.0,34.0,65.0,42.0,22.0,54.0,34.0,27.0,67.0,33.0,30.0,22.0,35.0,23.0,49.0,36.0,31.0,54.0,0.0,null,54.0,10.0,0.0,7.0,25.0,37.0,15.0,26.0,7.0,30.0,19.0,30.0,21.0,21.0,59.0,28.0,32.0,19.0,7.0,16.0,31.0,30.0,26.0,20.0,24.0,39.0,19.0,27.0,34.0,28.0,29.0,38.0,null,1.0,36.0,31.0,1.0,31.0,10.0,null,42.0,0.0,41.0,0.0,0.0,59.0,13.0,24.0,20.0,71.0,23.0,15.0,18.0,19.0,4.0,42.0,51.0,13.0,27.0,42.0,41.0,21.0,31.0,36.0,31.0,14.0,32.0,32.0,27.0,57.0,13.0,30.0,14.0,27.0,32.0,54.0,23.0,38.0,32.0,24.0,36.0,11.0,6.0,36.0,22.0,null,37.0,55.0,null,20.0,16.0,19.0,38.0,35.0,33.0,37.0,46.0,41.0,13.0,31.0,52.0,48.0,27.0,16.0,32.0,25.0,26.0,44.0,32.0,18.0,23.0,44.0,29.0,19.0,41.0,28.0,19.0,32.0,74.0,31.0,38.0,20.0,24.0,26.0,44.0,33.0,31.0,null,22.0,33.0,34.0,11.0,41.0,30.0,30.0,25.0,31.0,38.0,15.0,19.0,29.0,30.0,29.0,36.0,24.0,30.0,0.0,15.0,38.0,13.0,18.0,16.0,8.0,19.0,26.0,15.0,38.0,45.0,48.0,17.0,28.0,41.0,19.0,14.0,21.0,48.0,19.0,29.0,20.0,44.0,19.0,64.0,21.0,32.0,20.0,24.0,44.0,57.0,51.0,34.0,45.0,24.0,23.0,30.0,20.0,22.0,null,71.0,18.0,16.0,28.0,36.0,6.0,26.0,27.0,49.0,29.0,46.0,35.0,17.0,37.0,24.0,47.0,26.0,46.0,27.0,56.0,18.0,15.0,3.0,42.0,1.0,56.0,20.0,21.0,5.0,12.0,39.0,60.0,31.0,58.0,19.0,29.0,19.0,44.0,20.0,18.0,36.0,25.0,15.0,18.0,0.0,54.0,0.0,20.0,21.0,8.0,46.0,31.0,3.0,30.0,23.0,14.0,25.0,61.0,31.0,13.0,24.0,47.0,15.0,46.0,49.0,37.0,44.0,16.0,58.0,20.0,36.0,31.0,21.0,22.0,27.0,58.0,38.0,30.0,20.0,19.0,57.0,26.0,38.0,15.0,null,35.0,38.0,35.0,14.0,27.0,25.0,37.0,25.0,41.0,50.0,33.0,27.0,23.0,18.0,31.0,54.0,0.0,11.0,4.0,19.0,7.0,20.0,33.0,26.0,35.0,23.0,60.0,34.0,null,42.0,22.0,18.0,5.0,18.0,29.0,39.0,17.0,58.0,5.0,23.0,26.0,40.0,20.0,38.0,31.0,34.0,9.0,36.0,26.0,18.0,55.0,28.0,18.0,28.0,23.0,20.0,22.0,27.0,13.0,32.0,53.0,34.0,42.0,19.0,54.0,12.0,35.0,55.0,26.0,49.0,22.0,null,30.0,39.0,14.0,29.0,34.0,8.0,7.0,3.0,0.0,10.0,16.0,41.0,18.0,25.0,32.0,26.0,26.0,18.0,27.0,26.0,28.0,19.0,31.0,35.0,46.0,37.0,29.0,17.0,30.0,28.0,16.0,40.0,23.0,24.0,36.0,34.0,59.0,20.0,15.0,19.0,64.0,24.0,23.0,30.0,0.0,8.0,1.0,48.0,12.0,30.0,10.0,11.0,58.0,52.0,36.0,32.0,16.0,25.0,28.0,32.0,28.0,16.0,50.0,20.0,23.0,45.0,23.0,53.0,8.0,6.0,3.0,13.0,60.0,1.0,40.0,51.0,31.0,28.0,20.0,14.0,23.0,4.0,20.0,75.0,24.0,18.0,21.0,59.0,27.0,38.0,41.0,36.0,29.0,22.0,23.0,32.0,21.0,26.0,61.0,30.0,40.0,37.0,41.0,32.0,30.0,27.0,22.0,54.0,27.0,52.0,15.0,27.0,30.0,19.0,22.0,43.0,25.0,51.0,34.0,21.0,21.0,23.0,38.0,30.0,31.0,44.0,14.0,18.0,19.0,null,36.0,10.0,1.0,4.0,21.0,24.0,8.0,18.0,33.0,31.0,43.0,20.0,28.0,30.0,28.0,19.0,22.0,27.0,22.0,2.0,4.0,10.0,9.0,37.0,2.0,44.0,11.0,22.0,40.0,30.0,37.0,26.0,19.0,57.0,1.0,17.0,26.0,21.0,28.0,36.0,25.0,40.0,23.0,2.0,10.0,43.0,0.0,24.0,42.0,30.0,19.0,26.0,47.0,28.0,24.0,29.0,32.0,44.0,17.0,35.0,23.0,34.0,25.0,67.0,22.0,null,27.0,14.0,42.0,19.0,22.0,31.0,10.0,39.0,41.0,0.0,22.0,21.0,40.0,25.0,23.0,33.0,20.0,40.0,27.0,21.0,25.0,2.0,19.0,41.0,43.0,19.0,22.0,16.0,42.0,20.0,35.0,53.0,17.0,6.0,22.0,41.0,19.0,39.0,23.0,31.0,38.0,1.0,13.0,21.0,44.0,36.0,19.0,7.0,39.0,28.0,28.0,14.0,18.0,23.0,33.0,18.0,47.0,42.0,17.0,21.0,17.0,26.0,23.0,15.0,18.0,65.0,33.0,27.0,41.0,42.0,null,37.0,17.0,24.0,39.0,59.0,32.0,29.0,8.0,28.0,35.0,24.0,1.0,4.0,28.0,46.0,67.0,44.0,14.0,23.0,51.0,20.0,0.0,0.0,23.0,24.0,41.0,30.0,27.0,13.0,16.0,30.0,8.0,59.0,43.0,30.0,46.0,39.0,21.0,70.0,34.0,33.0,44.0,16.0,63.0,37.0,29.0,29.0,22.0,26.0,76.0,61.0,46.0,19.0,13.0,null,30.0,23.0,63.0,21.0,32.0,33.0,39.0,49.0,27.0,16.0,38.0,42.0,19.0,26.0,32.0,56.0,0.0,38.0,30.0,21.0,11.0,3.0,17.0,35.0,17.0,0.0,46.0,63.0,35.0,61.0,19.0,43.0,14.0,78.0,21.0,32.0,31.0,40.0,13.0,36.0,31.0,18.0,40.0,28.0,41.0,35.0,14.0,20.0,23.0,22.0,25.0,18.0,25.0,30.0,46.0,27.0,53.0,21.0,32.0,32.0,33.0,26.0,47.0,13.0,34.0,21.0,20.0,21.0,51.0,18.0,26.0,53.0,30.0,37.0,45.0,62.0,38.0,24.0,18.0,23.0,16.0,37.0,22.0,18.0,25.0,26.0,25.0,55.0,28.0,23.0,22.0,26.0,13.0,18.0,38.0,28.0,57.0,0.0,18.0,25.0,35.0,37.0,33.0,35.0,47.0,23.0,null,27.0,23.0,31.0,19.0,53.0,37.0,18.0,42.0,7.0,7.0,24.0,20.0,24.0,42.0,49.0,47.0,16.0,26.0,24.0,38.0,0.0,37.0,39.0,25.0,25.0,35.0,0.0,46.0,4.0,19.0,29.0,19.0,47.0,1.0,4.0,37.0,61.0,32.0,4.0,16.0,25.0,22.0,41.0,25.0,19.0,21.0,14.0,18.0,34.0,33.0,14.0,28.0,43.0,3.0,0.0,47.0,28.0,40.0,17.0,21.0,null,41.0,20.0,56.0,57.0,48.0,37.0,20.0,36.0,38.0,22.0,31.0,0.0,21.0,49.0,44.0,null,29.0,16.0,20.0,26.0,19.0,34.0,38.0,51.0,7.0,3.0,26.0,27.0,7.0,19.0,28.0,27.0,31.0,26.0,43.0,23.0,14.0,47.0,17.0,64.0,13.0,18.0,29.0,70.0,23.0,23.0,35.0,17.0,26.0,15.0,19.0,20.0,51.0,17.0,27.0,43.0,5.0,17.0,40.0,38.0,20.0,13.0,15.0,15.0,59.0,24.0,null,52.0,38.0,26.0,17.0,17.0,20.0,15.0,30.0,22.0,18.0,22.0,20.0,22.0,34.0,28.0,50.0,19.0,21.0,0.0,4.0,59.0,15.0,24.0,26.0,67.0,55.0,50.0,23.0,21.0,15.0,41.0,59.0,18.0,21.0,14.0,50.0,32.0,46.0,null,58.0,15.0,35.0,30.0,30.0,43.0,21.0,15.0,37.0,28.0,28.0,40.0,42.0,21.0,31.0,51.0,73.0,26.0,33.0,39.0,19.0,12.0,10.0,0.0,0.0,1.0,33.0,23.0,5.0,24.0,26.0,30.0,33.0,56.0,25.0,null,25.0,18.0,60.0,41.0,16.0,17.0,26.0,31.0,67.0,16.0,24.0,19.0,48.0,30.0,22.0,28.0,23.0,29.0,22.0,48.0,26.0,23.0,55.0,46.0,38.0,2.0,3.0,20.0,65.0,null,25.0,54.0,25.0,14.0,53.0,0.0,39.0,22.0,31.0,24.0,35.0,35.0,32.0,61.0,58.0,26.0,4.0,1.0,8.0,7.0,25.0,6.0,29.0,64.0,31.0,25.0,30.0,0.0,29.0,37.0,49.0,36.0,20.0,20.0,18.0,17.0,48.0,26.0,35.0,30.0,22.0,5.0,43.0,52.0,50.0,29.0,19.0,39.0,38.0,21.0,25.0,42.0,36.0,19.0,42.0,40.0,14.0,50.0,18.0,46.0,null,15.0,22.0,0.0,52.0,38.0,46.0,23.0,63.0,24.0,50.0,20.0,55.0,21.0,56.0,45.0,18.0,47.0,36.0,57.0,13.0,27.0,20.0,47.0,15.0,34.0,21.0,51.0,23.0,58.0,37.0,44.0,25.0,15.0,40.0,29.0,36.0,21.0,35.0,24.0,2.0,0.0,43.0,63.0,30.0,38.0,27.0,54.0,39.0,41.0,22.0,23.0,34.0,26.0,39.0,15.0,64.0,25.0,35.0,19.0,26.0,3.0,29.0,44.0,27.0,17.0,37.0,19.0,44.0,22.0,22.0,21.0,31.0,17.0,30.0,15.0,42.0,55.0,28.0,33.0,19.0,24.0,4.0,2.0,30.0,31.0,17.0,40.0,33.0,46.0,30.0,17.0,19.0,22.0,20.0,36.0,0.0,17.0,null,15.0,20.0,19.0,24.0,43.0,26.0,42.0,21.0,50.0,25.0,64.0,50.0,24.0,27.0,42.0,30.0,20.0,31.0,26.0,39.0,null,32.0,25.0,6.0,3.0,11.0,52.0,14.0,68.0,18.0,55.0,22.0,34.0,17.0,38.0,13.0,19.0,30.0,27.0,17.0,45.0,28.0,23.0,24.0,23.0,29.0,46.0,17.0,20.0,24.0,40.0,null,38.0,65.0,19.0,54.0,38.0,40.0,21.0,22.0,33.0,18.0,43.0,13.0,26.0,22.0,21.0,25.0,29.0,49.0,29.0,45.0,45.0,30.0,29.0,26.0,16.0,20.0,33.0,18.0,24.0,29.0,40.0,27.0,35.0,31.0,26.0,49.0,23.0,23.0,14.0,21.0,18.0,null,19.0,22.0,17.0,13.0,26.0,null,16.0,20.0,20.0,23.0,61.0,27.0,3.0,4.0,13.0,19.0,18.0,66.0,39.0,21.0,7.0,56.0,15.0,null,13.0,18.0,38.0,45.0,21.0,19.0,49.0,21.0,18.0,43.0,27.0,0.0,27.0,21.0,20.0,35.0,20.0,24.0,41.0,23.0,27.0,58.0,53.0,30.0,24.0,31.0,46.0,20.0,20.0,30.0,24.0,34.0,20.0,48.0,25.0,43.0,27.0,47.0,26.0,37.0,42.0,61.0,29.0,32.0,51.0,43.0,25.0,31.0,13.0,20.0,29.0,16.0,15.0,50.0,41.0,43.0,32.0,36.0,18.0,47.0,29.0,null,14.0,25.0,63.0,22.0,32.0,31.0,24.0,39.0,20.0,20.0,19.0,20.0,31.0,17.0,24.0,27.0,28.0,41.0,25.0,26.0,27.0,22.0,62.0,58.0,37.0,54.0,26.0,44.0,34.0,47.0,27.0,22.0,46.0,29.0,43.0,42.0,39.0,30.0,43.0,19.0,26.0,46.0,3.0,21.0,1.0,22.0,27.0,28.0,36.0,19.0,18.0,47.0,18.0,6.0,20.0,18.0,37.0,22.0,37.0,6.0,36.0,46.0,75.0,37.0,22.0,33.0,35.0,19.0,34.0,23.0,37.0,24.0,54.0,52.0,60.0,1.0,null,22.0,27.0,48.0,47.0,25.0,49.0,33.0,67.0,5.0,60.0,56.0,59.0,44.0,33.0,28.0,29.0,13.0,34.0,45.0,39.0,18.0,57.0,null,25.0,22.0,32.0,29.0,21.0,16.0,45.0,44.0,27.0,26.0,46.0,24.0,15.0,53.0,28.0,11.0,7.0,0.0,15.0,31.0,9.0,44.0,35.0,30.0,13.0,45.0,4.0,21.0,20.0,24.0,3.0,29.0,28.0,44.0,50.0,35.0,19.0,22.0,30.0,36.0,20.0,22.0,22.0,32.0,35.0,41.0,57.0,3.0,11.0,4.0,17.0,30.0,11.0,23.0,58.0,22.0,24.0,20.0,37.0,49.0,46.0,30.0,36.0,21.0,25.0,42.0,13.0,25.0,29.0,17.0,36.0,44.0,18.0,22.0,22.0,43.0,29.0,24.0,18.0,42.0,43.0,32.0,15.0,22.0,20.0,34.0,70.0,18.0,26.0,17.0,13.0,19.0,32.0,33.0,21.0,23.0,24.0,17.0,34.0,31.0,43.0,43.0,33.0,28.0,27.0,7.0,16.0,42.0,27.0,19.0,42.0,13.0,16.0,21.0,28.0,69.0,15.0,48.0,42.0,42.0,23.0,26.0,45.0,30.0,36.0,null,35.0,21.0,50.0,52.0,21.0,41.0,35.0,26.0,17.0,69.0,27.0,25.0,27.0,25.0,36.0,14.0,27.0,22.0,24.0,null,4.0,19.0,19.0,38.0,39.0,23.0,57.0,18.0,43.0,28.0,33.0,37.0,28.0,28.0,18.0,29.0,29.0,28.0,24.0,59.0,43.0,20.0,23.0,27.0,38.0,38.0,48.0,25.0,25.0,24.0,69.0,20.0,18.0,28.0,23.0,24.0,44.0,29.0,6.0,42.0,78.0,36.0,37.0,41.0,18.0,62.0,0.0,55.0,16.0,32.0,19.0,7.0,4.0,30.0,24.0,34.0,30.0,3.0,32.0,55.0,0.0,51.0,0.0,21.0,2.0,19.0,24.0,20.0,42.0,17.0,32.0,28.0,21.0,56.0,28.0,42.0,18.0,24.0,20.0,22.0,22.0,21.0,28.0,26.0,50.0,26.0,30.0,29.0,8.0,45.0,35.0,18.0,23.0,29.0,18.0,28.0,34.0,0.0,4.0,28.0,8.0,20.0,20.0,25.0,31.0,37.0,21.0,24.0,34.0,0.0,25.0,43.0,null,45.0,63.0,17.0,35.0,12.0,null,17.0,32.0,23.0,17.0,34.0,15.0,14.0,22.0,19.0,40.0,25.0,51.0,22.0,50.0,26.0,39.0,18.0,22.0,26.0,19.0,16.0,24.0,34.0,55.0,42.0,14.0,28.0,26.0,33.0,24.0,23.0,16.0,36.0,44.0,22.0,30.0,20.0,21.0,14.0,27.0,19.0,21.0,null,13.0,71.0,28.0,18.0,23.0,34.0,20.0,17.0,21.0,33.0,34.0,51.0,21.0,null,31.0,36.0,39.0,26.0,51.0,24.0,27.0,31.0,24.0,57.0,36.0,55.0,null,18.0,27.0,50.0,24.0,20.0,24.0,18.0,44.0,27.0,58.0,29.0,23.0,3.0,0.0,33.0,12.0,44.0,20.0,59.0,18.0,72.0,23.0,11.0,1.0,25.0,25.0,24.0,54.0,17.0,48.0,40.0,2.0,32.0,15.0,52.0,16.0,16.0,16.0,6.0,10.0,27.0,45.0,26.0,29.0,38.0,19.0,43.0,15.0,31.0,52.0,49.0,29.0,18.0,41.0,9.0,null,58.0,39.0,13.0,36.0,23.0,24.0,33.0,18.0,2.0,0.0,36.0,15.0,31.0,42.0,27.0,36.0,0.0,3.0,22.0,56.0,23.0,25.0,29.0,17.0,13.0,35.0,53.0,24.0,38.0,21.0,29.0,46.0,58.0,53.0,21.0,27.0,31.0,23.0,41.0,29.0,54.0,43.0,36.0,48.0,34.0,42.0,17.0,22.0,37.0,38.0,21.0,23.0,27.0,23.0,19.0,28.0,33.0,24.0,0.0,41.0,19.0,44.0,43.0,14.0,18.0,25.0,0.0,4.0,24.0,38.0,44.0,57.0,3.0,5.0,3.0,18.0,8.0,21.0,35.0,47.0,28.0,49.0,23.0,19.0,34.0,40.0,26.0,23.0,22.0,51.0,44.0,50.0,28.0,13.0,21.0,20.0,14.0,38.0,29.0,36.0,16.0,40.0,null,18.0,17.0,32.0,27.0,34.0,53.0,36.0,41.0,51.0,61.0,59.0,17.0,27.0,57.0,39.0,55.0,42.0,36.0,42.0,32.0,6.0,15.0,28.0,37.0,44.0,71.0,44.0,36.0,18.0,3.0,12.0,0.0,29.0,9.0,27.0,24.0,38.0,28.0,26.0,16.0,24.0,33.0,24.0,29.0,25.0,0.0,13.0,7.0,32.0,34.0,49.0,43.0,0.0,6.0,23.0,43.0,23.0,43.0,41.0,54.0,51.0,44.0,48.0,45.0,20.0,33.0,21.0,68.0,23.0,16.0,35.0,22.0,51.0,2.0,29.0,0.0,39.0,55.0,22.0,20.0,25.0,18.0,28.0,26.0,28.0,54.0,56.0,25.0,26.0,14.0,21.0,43.0,37.0,null,38.0,14.0,20.0,33.0,33.0,13.0,37.0,15.0,33.0,24.0,49.0,24.0,24.0,26.0,40.0,31.0,47.0,19.0,38.0,33.0,45.0,1.0,32.0,70.0,19.0,55.0,48.0,66.0,13.0,40.0,35.0,32.0,51.0,37.0,31.0,37.0,38.0,19.0,33.0,19.0,31.0,43.0,22.0,24.0,21.0,14.0,30.0,22.0,11.0,4.0,0.0,30.0,21.0,40.0,57.0,35.0,32.0,32.0,30.0,69.0,21.0,17.0,16.0,25.0,25.0,52.0,13.0,37.0,13.0,45.0,55.0,22.0,39.0,35.0,19.0,7.0,19.0,21.0,37.0,35.0,22.0,62.0,41.0,16.0,26.0,36.0,null,22.0,40.0,50.0,57.0,15.0,23.0,60.0,73.0,35.0,28.0,27.0,14.0,26.0,22.0,22.0,71.0,25.0,27.0,1.0,52.0,0.0,30.0,52.0,12.0,22.0,24.0,22.0,15.0,21.0,56.0,50.0,20.0,32.0,28.0,74.0,25.0,31.0,6.0,17.0,12.0,47.0,46.0,31.0,36.0,15.0,38.0,48.0,21.0,4.0,31.0,31.0,62.0,29.0,30.0,26.0,43.0,32.0,24.0,49.0,21.0,18.0,18.0,14.0,21.0,25.0,56.0,0.0,55.0,14.0,13.0,43.0,39.0,null,24.0,26.0,22.0,26.0,19.0,38.0,38.0,77.0,28.0,22.0,20.0,18.0,10.0,34.0,43.0,31.0,40.0,25.0,68.0,20.0,27.0,1.0,60.0,28.0,11.0,0.0,9.0,38.0,18.0,40.0,21.0,24.0,26.0,47.0,46.0,55.0,50.0,10.0,17.0,20.0,37.0,24.0,43.0,0.0,24.0,22.0,14.0,3.0,22.0,23.0,56.0,36.0,58.0,1.0,39.0,33.0,19.0,null,33.0,17.0,28.0,21.0,45.0,62.0,43.0,27.0,1.0,31.0,18.0,21.0,7.0,22.0,26.0,30.0,17.0,null,10.0,25.0,21.0,53.0,21.0,28.0,20.0,54.0,9.0,20.0,19.0,32.0,22.0,35.0,26.0,51.0,8.0,40.0,2.0,19.0,32.0,16.0,64.0,35.0,33.0,9.0,21.0,28.0,28.0,31.0,32.0,43.0,60.0,43.0,43.0,19.0,21.0,38.0,17.0,29.0,2.0,22.0,18.0,16.0,52.0,52.0,14.0,25.0,34.0,20.0,28.0,null,20.0,44.0,64.0,27.0,24.0,38.0,47.0,8.0,1.0,0.0,20.0,41.0,35.0,31.0,14.0,25.0,26.0,26.0,30.0,49.0,19.0,15.0,27.0,39.0,32.0,11.0,44.0,36.0,56.0,42.0,40.0,53.0,31.0,14.0,31.0,42.0,32.0,34.0,55.0,42.0,40.0,48.0,37.0,17.0,60.0,19.0,30.0,32.0,28.0,26.0,24.0,47.0,32.0,73.0,17.0,47.0,null,13.0,22.0,61.0,19.0,45.0,18.0,32.0,52.0,25.0,9.0,18.0,26.0,20.0,6.0,5.0,40.0,20.0,18.0,42.0,14.0,33.0,23.0,35.0,53.0,56.0,35.0,18.0,25.0,20.0,44.0,26.0,23.0,39.0,25.0,42.0,20.0,4.0,64.0,0.0,19.0,6.0,23.0,22.0,18.0,21.0,37.0,24.0,38.0,11.0,6.0,49.0,55.0,15.0,19.0,16.0,48.0,25.0,23.0,27.0,39.0,28.0,72.0,47.0,65.0,40.0,18.0,27.0,21.0,37.0,31.0,33.0,53.0,27.0,74.0,null,23.0,74.0,23.0,26.0,0.0,0.0,24.0,28.0,17.0,26.0,39.0,17.0,15.0,37.0,38.0,33.0,16.0,41.0,7.0,20.0,44.0,42.0,29.0,22.0,21.0,21.0,21.0,13.0,16.0,36.0,36.0,26.0,28.0,14.0,29.0,19.0,51.0,64.0,41.0,null,16.0,20.0,31.0,38.0,59.0,18.0,33.0,33.0,49.0,4.0,0.0,0.0,24.0,52.0,50.0,31.0,25.0,62.0,49.0,24.0,33.0,20.0,46.0,26.0,52.0,28.0,39.0,29.0,19.0,15.0,33.0,47.0,34.0,26.0,15.0,null,27.0,38.0,21.0,1.0,38.0,0.0,32.0,27.0,48.0,22.0,28.0,19.0,37.0,46.0,26.0,16.0,0.0,0.0,26.0,13.0,23.0,70.0,21.0,40.0,18.0,23.0,15.0,28.0,45.0,18.0,23.0,36.0,25.0,28.0,29.0,31.0,14.0,31.0,39.0,17.0,56.0,36.0,21.0,48.0,53.0,5.0,21.0,50.0,18.0,28.0,28.0,18.0,37.0,19.0,27.0,37.0,43.0,17.0,21.0,55.0,14.0,24.0,26.0,19.0,20.0,14.0,19.0,15.0,25.0,24.0,22.0,26.0,23.0,20.0,53.0,55.0,22.0,35.0,40.0,22.0,22.0,21.0,64.0,40.0,8.0,25.0,19.0,24.0,11.0,31.0,46.0,31.0,17.0,16.0,57.0,28.0,27.0,28.0,26.0,17.0,36.0,24.0,18.0,20.0,10.0,null,23.0,36.0,27.0,54.0,38.0,29.0,37.0,36.0,18.0,28.0,61.0,19.0,29.0,37.0,29.0,38.0,41.0,23.0,48.0,0.0,46.0,36.0,42.0,null,16.0,43.0,40.0,22.0,39.0,37.0,28.0,29.0,14.0,15.0,17.0,4.0,24.0,null,22.0,38.0,30.0,29.0,26.0,41.0,50.0,34.0,24.0,24.0,45.0,35.0,23.0,23.0,21.0,19.0,24.0,2.0,0.0,20.0,35.0,34.0,26.0,26.0,32.0,25.0,30.0,57.0,23.0,32.0,27.0,20.0,21.0,19.0,16.0,18.0,18.0,22.0,null,35.0,8.0,5.0,40.0,31.0,9.0,56.0,39.0,18.0,45.0,33.0,2.0,1.0,2.0,16.0,18.0,28.0,45.0,24.0,35.0,16.0,40.0,5.0,29.0,31.0,27.0,34.0,15.0,43.0,30.0,61.0,48.0,17.0,19.0,29.0,2.0,24.0,19.0,34.0,19.0,39.0,26.0,53.0,18.0,null,45.0,32.0,18.0,48.0,24.0,52.0,55.0,43.0,24.0,8.0,18.0,38.0,18.0,23.0,26.0,21.0,45.0,24.0,44.0,20.0,47.0,16.0,28.0,8.0,20.0,22.0,42.0,23.0,30.0,18.0,35.0,42.0,46.0,29.0,35.0,48.0,24.0,38.0,51.0,77.0,22.0,38.0,42.0,55.0,7.0,null,25.0,15.0,13.0,23.0,null,33.0,26.0,67.0,27.0,33.0,18.0,36.0,18.0,51.0,54.0,33.0,18.0,57.0,23.0,24.0,20.0,32.0,21.0,null,41.0,27.0,49.0,18.0,34.0,73.0,40.0,63.0,21.0,21.0,23.0,31.0,41.0,15.0,36.0,24.0,27.0,24.0,19.0,25.0,39.0,15.0,31.0,25.0,57.0,null,18.0,33.0,23.0,34.0,38.0,21.0,31.0,13.0,54.0,13.0,18.0,null,43.0,56.0,63.0,9.0,9.0,0.0,16.0,42.0,9.0,22.0,47.0,30.0,29.0,null,22.0,19.0,31.0,17.0,38.0,13.0,36.0,0.0,21.0,18.0,36.0,27.0,5.0,18.0,25.0,14.0,23.0,2.0,1.0,7.0,6.0,56.0,4.0,65.0,36.0,25.0,41.0,20.0,18.0,15.0,23.0,29.0,33.0,14.0,55.0,30.0,21.0,26.0,33.0,18.0,9.0,0.0,19.0,18.0,38.0,42.0,28.0,37.0,29.0,42.0,18.0,34.0,34.0,18.0,24.0,24.0,56.0,2.0,12.0,37.0,60.0,55.0,20.0,28.0,28.0,37.0,18.0,14.0,29.0,51.0,45.0,45.0,41.0,21.0,28.0,0.0,46.0,41.0,13.0,55.0,20.0,21.0,49.0,27.0,0.0,22.0,17.0,23.0,44.0,29.0,19.0,3.0,29.0,19.0,22.0,33.0,null,50.0,54.0,43.0,17.0,26.0,44.0,51.0,29.0,4.0,40.0,27.0,8.0,3.0,11.0,24.0,25.0,28.0,25.0,27.0,25.0,0.0,58.0,3.0,4.0,2.0,34.0,5.0,3.0,46.0,22.0,8.0,17.0,4.0,12.0,40.0,16.0,41.0,8.0,14.0,2.0,59.0,45.0,52.0,33.0,51.0,38.0,14.0,42.0,28.0,34.0,21.0,30.0,null,26.0,23.0,20.0,59.0,37.0,32.0,37.0,27.0,42.0,29.0,2.0,10.0,0.0,21.0,8.0,null,27.0,13.0,49.0,38.0,21.0,22.0,14.0,24.0,24.0,34.0,1.0,null,26.0,null,32.0,2.0,10.0,49.0,14.0,29.0,25.0,36.0,22.0,21.0,36.0,54.0,30.0,0.0,1.0,42.0,47.0,25.0,18.0,22.0,27.0,24.0,null,22.0,60.0,38.0,23.0,21.0,55.0,20.0,50.0,22.0,21.0,26.0,36.0,46.0,26.0,24.0,14.0,46.0,15.0,30.0,null,38.0,48.0,31.0,41.0,43.0,23.0,48.0,47.0,19.0,25.0,28.0,16.0,45.0,31.0,19.0,21.0,null,22.0,23.0,54.0,0.0,4.0,23.0,19.0,34.0,18.0,40.0,58.0,39.0,23.0,11.0,43.0,29.0,36.0,13.0,54.0,45.0,33.0,46.0,15.0,35.0,23.0,15.0,27.0,15.0,27.0,16.0,37.0,45.0,58.0,null,38.0,28.0,47.0,41.0,28.0,23.0,24.0,58.0,36.0,24.0,56.0,15.0,19.0,27.0,47.0,37.0,39.0,20.0,20.0,38.0,46.0,13.0,24.0,32.0,null,44.0,19.0,30.0,23.0,4.0,0.0,17.0,44.0,31.0,41.0,33.0,43.0,43.0,36.0,19.0,24.0,17.0,23.0,17.0,18.0,34.0,13.0,66.0,27.0,19.0,55.0,40.0,23.0,7.0,12.0,37.0,22.0,25.0,46.0,37.0,50.0,28.0,26.0,28.0,23.0,23.0,34.0,65.0,20.0,29.0,30.0,3.0,40.0,32.0,31.0,13.0,29.0,28.0,19.0,24.0,22.0,13.0,21.0,24.0,47.0,27.0,18.0,36.0,68.0,31.0,28.0,36.0,17.0,13.0,30.0,58.0,43.0,20.0,29.0,15.0,30.0,33.0,25.0,62.0,41.0,27.0,18.0,27.0,19.0,37.0,24.0,29.0,44.0,19.0,39.0,63.0,39.0,41.0,27.0,56.0,22.0,26.0,24.0,18.0,13.0,32.0,30.0,25.0,55.0,19.0,24.0,32.0,24.0,32.0,36.0,28.0,52.0,29.0,23.0,32.0,35.0,41.0,16.0,33.0,6.0,15.0,38.0,56.0,4.0,21.0,22.0,37.0,6.0,22.0,26.0,22.0,20.0,null,24.0,25.0,48.0,24.0,3.0,24.0,25.0,1.0,20.0,22.0,28.0,17.0,28.0,47.0,34.0,29.0,14.0,36.0,40.0,49.0,51.0,41.0,44.0,47.0,22.0,13.0,18.0,28.0,22.0,50.0,47.0,55.0,21.0,39.0,21.0,37.0,31.0,23.0,28.0,23.0,20.0,28.0,40.0,54.0,18.0,27.0,43.0,25.0,13.0,15.0,37.0,32.0,19.0,21.0,27.0,39.0,22.0,25.0,34.0,54.0,42.0,36.0,43.0,23.0,57.0,54.0,51.0,32.0,33.0,8.0,44.0,27.0,48.0,13.0,5.0,18.0,23.0,23.0,35.0,25.0,32.0,0.0,5.0,16.0,18.0,29.0,55.0,41.0,38.0,27.0,55.0,75.0,50.0,23.0,37.0,33.0,45.0,47.0,13.0,29.0,19.0,30.0,39.0,31.0,29.0,16.0,18.0,38.0,50.0,21.0,22.0,20.0,36.0,23.0,31.0,39.0,50.0,40.0,28.0,38.0,37.0,59.0,41.0,33.0,54.0,40.0,43.0,26.0,65.0,22.0,28.0,35.0,30.0,28.0,23.0,24.0,16.0,18.0,20.0,29.0,29.0,21.0,2.0,43.0,28.0,31.0,23.0,26.0,43.0,28.0,24.0,27.0,13.0,27.0,2.0,24.0,2.0,50.0,27.0,26.0,31.0,28.0,4.0,9.0,0.0,35.0,3.0,25.0,63.0,34.0,35.0,26.0,39.0,34.0,36.0,46.0,26.0,28.0,20.0,35.0,11.0,14.0,4.0,11.0,31.0,15.0,39.0,7.0,24.0,22.0,26.0,53.0,40.0,19.0,54.0,21.0,25.0,48.0,41.0,13.0,57.0,25.0,48.0,34.0,16.0,0.0,15.0,37.0,37.0,49.0,18.0,25.0,null,43.0,20.0,54.0,30.0,37.0,30.0,20.0,20.0,24.0,44.0,0.0,15.0,19.0,20.0,20.0,34.0,17.0,20.0,42.0,28.0,43.0,55.0,21.0,17.0,54.0,25.0,null,45.0,31.0,19.0,30.0,24.0,null,42.0,29.0,37.0,64.0,24.0,23.0,22.0,23.0,21.0,37.0,17.0,35.0,33.0,37.0,32.0,31.0,null,34.0,9.0,25.0,29.0,1.0,30.0,64.0,31.0,27.0,null,25.0,28.0,32.0,36.0,26.0,36.0,37.0,45.0,22.0,24.0,23.0,31.0,37.0,28.0,23.0,14.0,40.0,42.0,53.0,46.0,28.0,25.0,34.0,58.0,31.0,24.0,52.0,25.0,17.0,27.0,29.0,45.0,28.0,25.0,57.0,68.0,26.0,52.0,36.0,41.0,14.0,16.0,24.0,62.0,26.0,45.0,41.0,36.0,13.0,48.0,null,22.0,39.0,45.0,42.0,33.0,27.0,47.0,20.0,32.0,54.0,23.0,9.0,17.0,26.0,38.0,24.0,30.0,2.0,4.0,9.0,30.0,5.0,2.0,32.0,53.0,46.0,2.0,1.0,11.0,3.0,33.0,3.0,38.0,21.0,41.0,64.0,27.0,41.0,19.0,42.0,30.0,38.0,63.0,17.0,2.0,19.0,37.0,50.0,38.0,28.0,35.0,27.0,15.0,29.0,65.0,27.0,0.0,21.0,19.0,39.0,60.0,30.0,30.0,40.0,26.0,38.0,22.0,null,65.0,61.0,20.0,24.0,16.0,35.0,21.0,23.0,17.0,24.0,27.0,26.0,26.0,20.0,28.0,37.0,23.0,49.0,50.0,4.0,32.0,44.0,20.0,30.0,29.0,22.0,35.0,0.0,6.0,38.0,34.0,34.0,null,53.0,28.0,31.0,56.0,36.0,30.0,32.0,44.0,54.0,24.0,44.0,25.0,35.0,29.0,22.0,22.0,22.0,18.0,22.0,52.0,0.0,1.0,34.0,6.0,22.0,31.0,31.0,20.0,25.0,23.0,53.0,32.0,27.0,48.0,37.0,21.0,29.0,46.0,19.0,22.0,54.0,43.0,18.0,36.0,20.0,63.0,50.0,13.0,43.0,16.0,31.0,0.0,10.0,10.0,55.0,18.0,7.0,1.0,44.0,27.0,20.0,49.0,22.0,21.0,26.0,65.0,20.0,0.0,16.0,22.0,0.0,21.0,30.0,14.0,45.0,22.0,21.0,37.0,29.0,29.0,21.0,52.0,36.0,59.0,21.0,25.0,23.0,36.0,38.0,0.0,19.0,30.0,23.0,55.0,44.0,30.0,39.0,19.0,24.0,37.0,24.0,17.0,17.0,14.0,13.0,35.0,32.0,18.0,21.0,25.0,36.0,20.0,22.0,27.0,null,38.0,23.0,21.0,18.0,20.0,28.0,57.0,10.0,23.0,22.0,24.0,52.0,31.0,15.0,40.0,18.0,28.0,40.0,32.0,35.0,52.0,34.0,46.0,23.0,44.0,59.0,42.0,18.0,29.0,15.0,19.0,49.0,19.0,36.0,59.0,24.0,4.0,20.0,24.0,31.0,23.0,3.0,22.0,20.0,0.0,13.0,47.0,51.0,22.0,3.0,4.0,16.0,24.0,1.0,31.0,34.0,20.0,19.0,19.0,35.0,3.0,36.0,20.0,null,58.0,56.0,27.0,25.0,39.0,43.0,42.0,24.0,19.0,32.0,32.0,61.0,64.0,21.0,26.0,35.0,43.0,3.0,56.0,45.0,25.0,12.0,2.0,46.0,32.0,20.0,24.0,28.0,12.0,11.0,16.0,29.0,24.0,22.0,21.0,38.0,35.0,79.0,22.0,42.0,34.0,52.0,43.0,30.0,35.0,18.0,27.0,46.0,15.0,44.0,20.0,35.0,19.0,47.0,26.0,24.0,23.0,26.0,5.0,35.0,18.0,32.0,13.0,15.0,18.0,41.0,36.0,33.0,41.0,47.0,32.0,36.0,13.0,34.0,24.0,16.0,12.0,24.0,35.0,26.0,39.0,18.0,23.0,29.0,38.0,31.0,49.0,17.0,23.0,15.0,11.0,30.0,42.0,21.0,41.0,14.0,27.0,29.0,25.0,54.0,46.0,18.0,22.0,29.0,26.0,36.0,19.0,56.0,20.0,10.0,14.0,27.0,35.0,13.0,21.0,22.0,29.0,32.0,20.0,44.0,22.0,39.0,19.0,0.0,0.0,12.0,7.0,32.0,11.0,18.0,49.0,61.0,7.0,25.0,51.0,56.0,31.0,16.0,29.0,17.0,47.0,25.0,28.0,32.0,56.0,25.0,13.0,41.0,28.0,25.0,11.0,20.0,24.0,41.0,29.0,59.0,31.0,16.0,65.0,21.0,27.0,37.0,42.0,36.0,24.0,null,19.0,26.0,19.0,26.0,35.0,24.0,9.0,40.0,23.0,4.0,20.0,21.0,4.0,19.0,18.0,26.0,13.0,16.0,14.0,40.0,34.0,21.0,29.0,40.0,16.0,37.0,41.0,16.0,39.0,30.0,40.0,63.0,32.0,47.0,23.0,23.0,19.0,44.0,29.0,21.0,23.0,26.0,47.0,20.0,48.0,4.0,25.0,0.0,29.0,21.0,20.0,34.0,9.0,12.0,13.0,27.0,34.0,18.0,16.0,43.0,0.0,20.0,45.0,35.0,21.0,14.0,46.0,22.0,2.0,3.0,28.0,60.0,48.0,18.0,31.0,26.0,41.0,26.0,29.0,24.0,25.0,0.0,30.0,18.0,32.0,28.0,21.0,25.0,47.0,null,8.0,24.0,30.0,24.0,13.0,16.0,23.0,16.0,29.0,46.0,13.0,22.0,29.0,46.0,24.0,33.0,38.0,57.0,null,38.0,28.0,25.0,22.0,33.0,35.0,24.0,31.0,16.0,28.0,8.0,20.0,26.0,43.0,70.0,17.0,14.0,21.0,37.0,15.0,20.0,36.0,14.0,21.0,28.0,20.0,26.0,25.0,29.0,39.0,18.0,37.0,28.0,18.0,30.0,35.0,26.0,0.0,42.0,36.0,31.0,27.0,25.0,32.0,14.0,16.0,51.0,21.0,31.0,9.0,7.0,3.0,2.0,7.0,18.0,33.0,23.0,13.0,32.0,27.0,23.0,25.0,18.0,23.0,31.0,32.0,22.0,38.0,21.0,28.0,38.0,20.0,23.0,48.0,15.0,30.0,40.0,36.0,20.0,17.0,38.0,38.0,14.0,null,21.0,18.0,26.0,35.0,46.0,13.0,39.0,49.0,28.0,27.0,21.0,29.0,27.0,38.0,18.0,35.0,37.0,60.0,31.0,4.0,34.0,46.0,18.0,38.0,29.0,13.0,26.0,30.0,42.0,36.0,23.0,34.0,26.0,31.0,48.0,10.0,27.0,32.0,24.0,20.0,48.0,35.0,14.0,28.0,null,42.0,8.0,30.0,44.0,40.0,38.0,22.0,32.0,16.0,33.0,38.0,23.0,16.0,16.0,11.0,22.0,43.0,20.0,22.0,0.0,30.0,18.0,0.0,41.0,39.0,37.0,26.0,49.0,28.0,13.0,64.0,24.0,18.0,18.0,25.0,19.0,33.0,null,50.0,30.0,44.0,52.0,7.0,30.0,27.0,24.0,13.0,61.0,32.0,17.0,36.0,16.0,21.0,24.0,28.0,null,13.0,39.0,24.0,38.0,20.0,21.0,27.0,49.0,6.0,41.0,33.0,6.0,35.0,46.0,31.0,32.0,31.0,20.0,57.0,37.0,21.0,43.0,49.0,17.0,29.0,36.0,37.0,17.0,45.0,20.0,24.0,28.0,15.0,53.0,51.0,14.0,1.0,26.0,20.0,23.0,22.0,22.0,13.0,28.0,40.0,21.0,35.0,22.0,37.0,21.0,50.0,27.0,20.0,15.0,25.0,31.0,null,18.0,2.0,27.0,0.0,22.0,null,56.0,28.0,42.0,20.0,27.0,29.0,36.0,23.0,64.0,19.0,1.0,49.0,0.0,18.0,39.0,37.0,44.0,43.0,33.0,20.0,0.0,4.0,20.0,50.0,47.0,17.0,26.0,21.0,20.0,26.0,null,34.0,11.0,0.0,28.0,33.0,22.0,28.0,11.0,60.0,43.0,27.0,37.0,23.0,57.0,29.0,28.0,42.0,43.0,26.0,72.0,49.0,29.0,18.0,26.0,19.0,18.0,14.0,44.0,34.0,18.0,36.0,27.0,35.0,52.0,22.0,34.0,37.0,22.0,26.0,14.0,53.0,17.0,30.0,65.0,19.0,36.0,3.0,6.0,4.0,21.0,8.0,35.0,18.0,34.0,45.0,31.0,14.0,23.0,61.0,54.0,28.0,46.0,32.0,49.0,20.0,25.0,19.0,28.0,68.0,16.0,19.0,49.0,15.0,26.0,22.0,23.0,31.0,27.0,28.0,20.0,43.0,22.0,27.0,35.0,37.0,24.0,18.0,15.0,28.0,24.0,39.0,35.0,52.0,48.0,27.0,50.0,24.0,26.0,24.0,15.0,42.0,51.0,43.0,31.0,14.0,31.0,33.0,21.0,13.0,29.0,22.0,22.0,18.0,35.0,20.0,18.0,66.0,33.0,48.0,38.0,62.0,19.0,44.0,25.0,15.0,20.0,34.0,23.0,45.0,39.0,33.0,14.0,26.0,47.0,null,28.0,22.0,17.0,16.0,9.0,15.0,33.0,61.0,19.0,61.0,42.0,4.0,12.0,0.0,19.0,null,29.0,59.0,20.0,70.0,3.0,37.0,58.0,44.0,24.0,20.0,24.0,27.0,28.0,24.0,29.0,25.0,20.0,34.0,28.0,null,23.0,39.0,35.0,18.0,20.0,42.0,32.0,50.0,23.0,19.0,29.0,35.0,18.0,24.0,23.0,51.0,42.0,19.0,23.0,19.0,22.0,25.0,31.0,23.0,22.0,55.0,40.0,24.0,25.0,42.0,33.0,54.0,22.0,22.0,19.0,47.0,23.0,61.0,21.0,46.0,36.0,15.0,33.0,35.0,21.0,21.0,43.0,34.0,47.0,27.0,46.0,46.0,40.0,59.0,45.0,19.0,32.0,39.0,40.0,44.0,26.0,22.0,2.0,18.0,53.0,22.0,46.0,28.0,31.0,36.0,46.0,0.0,3.0,12.0,2.0,41.0,11.0,41.0,17.0,21.0,21.0,27.0,54.0,15.0,39.0,31.0,28.0,21.0,29.0,45.0,44.0,12.0,18.0,20.0,43.0,46.0,53.0,21.0,23.0,9.0,19.0,52.0,31.0,62.0,27.0,23.0,28.0,27.0,58.0,24.0,27.0,33.0,28.0,39.0,27.0,36.0,64.0,41.0,null,27.0,null,22.0,23.0,40.0,2.0,0.0,27.0,0.0,17.0,45.0,62.0,14.0,24.0,51.0,49.0,52.0,35.0,22.0,17.0,47.0,25.0,11.0,17.0,41.0,55.0,29.0,19.0,23.0,32.0,27.0,25.0,24.0,30.0,50.0,51.0,27.0,35.0,48.0,27.0,19.0,18.0,25.0,41.0,62.0,30.0,6.0,15.0,34.0,34.0,23.0,51.0,63.0,42.0,19.0,5.0,2.0,15.0,36.0,32.0,19.0,26.0,33.0,38.0,22.0,32.0,30.0,51.0,29.0,16.0,32.0,24.0,23.0,46.0,49.0,17.0,35.0,43.0,20.0,24.0,28.0,19.0,39.0,34.0,29.0,14.0,null,30.0,null,32.0,7.0,34.0,47.0,19.0,52.0,19.0,18.0,32.0,21.0,22.0,13.0,25.0,33.0,27.0,21.0,17.0,15.0,58.0,29.0,34.0,28.0,29.0,25.0,23.0,22.0,38.0,38.0,0.0,null,0.0,37.0,2.0,40.0,47.0,34.0,43.0,21.0,43.0,33.0,28.0,57.0,null,46.0,19.0,27.0,2.0,0.0,25.0,47.0,38.0,24.0,24.0,25.0,29.0,44.0,20.0,23.0,26.0,20.0,27.0,23.0,33.0,30.0,32.0,19.0,41.0,50.0,36.0,21.0,45.0,26.0,44.0,24.0,15.0,58.0,13.0,19.0,25.0,24.0,20.0,34.0,13.0,null,39.0,0.0,10.0,9.0,34.0,11.0,0.0,24.0,16.0,42.0,41.0,36.0,27.0,32.0,11.0,26.0,28.0,25.0,5.0,null,13.0,30.0,15.0,0.0,49.0,52.0,15.0,40.0,0.0,32.0,15.0,26.0,31.0,8.0,18.0,3.0,44.0,15.0,27.0,22.0,2.0,32.0,16.0,34.0,32.0,28.0,27.0,35.0,25.0,24.0,61.0,28.0,29.0,41.0,20.0,18.0,28.0,18.0,33.0,35.0,68.0,19.0,33.0,55.0,15.0,23.0,23.0,15.0,49.0,33.0,26.0,26.0,18.0,17.0,39.0,8.0,46.0,32.0,19.0,36.0,28.0,39.0,16.0,7.0,1.0,30.0,44.0,28.0,29.0,41.0,13.0,18.0,27.0,26.0,24.0,26.0,27.0,58.0,54.0,18.0,13.0,13.0,28.0,57.0,32.0,32.0,21.0,34.0,33.0,36.0,50.0,28.0,56.0,42.0,39.0,13.0,28.0,55.0,36.0,null,37.0,50.0,27.0,23.0,16.0,33.0,46.0,26.0,24.0,26.0,2.0,33.0,32.0,3.0,2.0,6.0,null,0.0,4.0,58.0,22.0,51.0,37.0,17.0,21.0,null,null,31.0,43.0,null,15.0,18.0,33.0,31.0,41.0,22.0,40.0,49.0,14.0,22.0,22.0,25.0,42.0,16.0,12.0,18.0,33.0,14.0,36.0,23.0,24.0,4.0,null,18.0,21.0,27.0,34.0,28.0,35.0,16.0,36.0,30.0,4.0,19.0,3.0,51.0,null,45.0,18.0,23.0,15.0,34.0,47.0,27.0,26.0,25.0,34.0,27.0,39.0,31.0,4.0,19.0,59.0,19.0,25.0,28.0,37.0,43.0,18.0,36.0,14.0,42.0,29.0,23.0,16.0,8.0,20.0,50.0,38.0,39.0,33.0,30.0,40.0,22.0,52.0,26.0,19.0,33.0,33.0,20.0,28.0,10.0,23.0,28.0,23.0,54.0,57.0,24.0,37.0,59.0,53.0,22.0,18.0,17.0,25.0,18.0,20.0,24.0,33.0,34.0,24.0,37.0,23.0,32.0,13.0,23.0,23.0,27.0,47.0,38.0,28.0,21.0,null,64.0,43.0,21.0,36.0,22.0,24.0,21.0,57.0,46.0,42.0,16.0,40.0,3.0,8.0,3.0,35.0,12.0,null,47.0,19.0,46.0,28.0,5.0,7.0,3.0,1.0,7.0,60.0,34.0,28.0,64.0,13.0,15.0,65.0,53.0,58.0,19.0,null,16.0,48.0,33.0,31.0,44.0,40.0,34.0,21.0,20.0,9.0,33.0,2.0,53.0,0.0,38.0,21.0,31.0,7.0,12.0,0.0,17.0,55.0,2.0,32.0,16.0,0.0,29.0,25.0,39.0,42.0,0.0,14.0,29.0,54.0,35.0,null,18.0,14.0,53.0,48.0,21.0,44.0,25.0,0.0,27.0,40.0,44.0,36.0,3.0,9.0,1.0,17.0,47.0,null,33.0,16.0,30.0,18.0,26.0,19.0,28.0,35.0,40.0,26.0,45.0,18.0,54.0,13.0,26.0,16.0,37.0,17.0,16.0,18.0,21.0,24.0,22.0,41.0,15.0,36.0,23.0,31.0,19.0,23.0,47.0,40.0,34.0,2.0,8.0,0.0,18.0,11.0,18.0,19.0,2.0,25.0,0.0,27.0,34.0,19.0,22.0,22.0,52.0,30.0,65.0,31.0,51.0,21.0,27.0,31.0,28.0,29.0,23.0,11.0,23.0,34.0,20.0,20.0,16.0,18.0,20.0,20.0,27.0,55.0,53.0,37.0,55.0,24.0,24.0,49.0,17.0,39.0,5.0,10.0,1.0,16.0,51.0,5.0,19.0,0.0,20.0,0.0,1.0,38.0,40.0,18.0,36.0,23.0,42.0,37.0,24.0,12.0,2.0,28.0,44.0,26.0,36.0,28.0,14.0,14.0,28.0,27.0,21.0,24.0,18.0,24.0,8.0,36.0,32.0,19.0,12.0,21.0,13.0,20.0,35.0,23.0,17.0,29.0,27.0,22.0,26.0,1.0,7.0,78.0,24.0,26.0,50.0,16.0,57.0,29.0,27.0,42.0,28.0,18.0,38.0,32.0,21.0,6.0,27.0,32.0,23.0,29.0,22.0,31.0,0.0,2.0,null,28.0,20.0,28.0,42.0,32.0,19.0,20.0,20.0,21.0,32.0,16.0,21.0,12.0,21.0,31.0,18.0,35.0,44.0,13.0,21.0,37.0,null,34.0,21.0,38.0,31.0,61.0,20.0,39.0,29.0,68.0,38.0,31.0,41.0,29.0,25.0,27.0,21.0,30.0,40.0,59.0,35.0,41.0,36.0,58.0,27.0,24.0,50.0,22.0,26.0,16.0,56.0,25.0,13.0,53.0,21.0,18.0,38.0,20.0,24.0,56.0,47.0,21.0,null,26.0,34.0,35.0,35.0,49.0,24.0,62.0,25.0,42.0,25.0,21.0,17.0,41.0,50.0,20.0,15.0,29.0,20.0,35.0,22.0,43.0,54.0,15.0,38.0,44.0,34.0,15.0,24.0,29.0,19.0,27.0,26.0,46.0,64.0,17.0,45.0,27.0,29.0,18.0,26.0,39.0,59.0,20.0,17.0,47.0,29.0,16.0,48.0,39.0,28.0,12.0,24.0,30.0,34.0,37.0,47.0,0.0,23.0,0.0,20.0,35.0,18.0,17.0,18.0,53.0,35.0,48.0,68.0,27.0,28.0,37.0,35.0,31.0,14.0,1.0,4.0,30.0,11.0,45.0,29.0,32.0,15.0,25.0,25.0,60.0,24.0,35.0,36.0,22.0,32.0,57.0,30.0,46.0,28.0,26.0,55.0,66.0,20.0,31.0,13.0,50.0,21.0,25.0,46.0,0.0,2.0,36.0,19.0,35.0,41.0,22.0,25.0,24.0,37.0,5.0,null,41.0,44.0,23.0,28.0,27.0,40.0,27.0,17.0,32.0,29.0,29.0,41.0,48.0,27.0,14.0,32.0,47.0,14.0,37.0,33.0,33.0,44.0,37.0,18.0,33.0,21.0,38.0,16.0,58.0,41.0,28.0,28.0,31.0,27.0,7.0,25.0,34.0,21.0,29.0,23.0,31.0,50.0,25.0,25.0,23.0,46.0,0.0,53.0,25.0,30.0,18.0,20.0,54.0,20.0,32.0,31.0,55.0,16.0,0.0,3.0,33.0,45.0,6.0,33.0,14.0,24.0,47.0,37.0,14.0,44.0,11.0,15.0,39.0,15.0,60.0,49.0,23.0,9.0,0.0,17.0,42.0,16.0,0.0,26.0,56.0,26.0,41.0,27.0,31.0,40.0,40.0,15.0,50.0,42.0,50.0,39.0,27.0,20.0,30.0,16.0,36.0,68.0,22.0,36.0,3.0,28.0,32.0,10.0,0.0,9.0,37.0,31.0,31.0,43.0,15.0,58.0,30.0,24.0,49.0,73.0,14.0,50.0,12.0,2.0,49.0,32.0,null,33.0,23.0,23.0,43.0,36.0,26.0,29.0,21.0,30.0,23.0,13.0,22.0,25.0,52.0,22.0,31.0,23.0,35.0,26.0,14.0,39.0,8.0,29.0,15.0,48.0,9.0,25.0,13.0,25.0,27.0,32.0,20.0,40.0,18.0,21.0,38.0,62.0,23.0,48.0,27.0,32.0,53.0,26.0,46.0,32.0,40.0,27.0,28.0,29.0,37.0,0.0,12.0,25.0,null,3.0,9.0,27.0,59.0,24.0,16.0,16.0,46.0,25.0,39.0,15.0,16.0,35.0,43.0,7.0,29.0,60.0,49.0,50.0,40.0,49.0,18.0,29.0,56.0,29.0,29.0,22.0,24.0,23.0,28.0,19.0,32.0,37.0,26.0,43.0,25.0,11.0,4.0,32.0,15.0,17.0,37.0,20.0,47.0,16.0,8.0,22.0,39.0,57.0,29.0,null,70.0,13.0,49.0,25.0,19.0,15.0,37.0,null,28.0,22.0,26.0,25.0,19.0,20.0,35.0,37.0,37.0,13.0,20.0,65.0,29.0,0.0,4.0,19.0,17.0,28.0,28.0,21.0,45.0,21.0,20.0,38.0,24.0,22.0,44.0,41.0,21.0,26.0,54.0,19.0,32.0,null,26.0,28.0,21.0,38.0,43.0,12.0,25.0,27.0,22.0,20.0,24.0,34.0,42.0,24.0,28.0,29.0,31.0,29.0,14.0,16.0,16.0,27.0,null,23.0,16.0,30.0,24.0,36.0,25.0,29.0,21.0,26.0,30.0,31.0,20.0,null,33.0,35.0,46.0,63.0,37.0,23.0,5.0,16.0,20.0,49.0,3.0,41.0,null,14.0,26.0,51.0,36.0,16.0,18.0,48.0,24.0,19.0,21.0,24.0,21.0,13.0,39.0,27.0,23.0,43.0,19.0,30.0,52.0,35.0,16.0,21.0,45.0,22.0,null,0.0,63.0,56.0,40.0,1.0,24.0,36.0,13.0,13.0,37.0,44.0,32.0,57.0,26.0,62.0,2.0,1.0,24.0,1.0,63.0,20.0,15.0,32.0,24.0,32.0,36.0,13.0,29.0,27.0,30.0,27.0,14.0,32.0,33.0,35.0,21.0,57.0,42.0,20.0,18.0,49.0,23.0,24.0,24.0,23.0,24.0,26.0,28.0,17.0,20.0,22.0,23.0,22.0,29.0,null,31.0,37.0,44.0,34.0,23.0,18.0,18.0,23.0,18.0,22.0,10.0,null,31.0,48.0,51.0,25.0,32.0,8.0,49.0,28.0,3.0,null,31.0,11.0,27.0,33.0,32.0,20.0,33.0,65.0,18.0,19.0,33.0,null,31.0,37.0,19.0,18.0,47.0,26.0,25.0,38.0,53.0,38.0,28.0,46.0,18.0,14.0,32.0,44.0,28.0,2.0,28.0,27.0,29.0,14.0,14.0,17.0,35.0,36.0,51.0,54.0,37.0,37.0,24.0,null,38.0,28.0,0.0,16.0,25.0,22.0,24.0,37.0,21.0,53.0,0.0,2.0,64.0,24.0,40.0,32.0,54.0,30.0,37.0,20.0,22.0,57.0,34.0,51.0,47.0,22.0,36.0,16.0,60.0,39.0,18.0,30.0,45.0,30.0,21.0,0.0,51.0,22.0,26.0,10.0,21.0,14.0,null,43.0,22.0,22.0,23.0,25.0,35.0,30.0,37.0,21.0,36.0,13.0,22.0,36.0,17.0,38.0,34.0,20.0,17.0,36.0,52.0,32.0,35.0,null,36.0,36.0,21.0,33.0,40.0,24.0,35.0,29.0,33.0,51.0,10.0,41.0,26.0,39.0,14.0,28.0,18.0,41.0,33.0,26.0,31.0,63.0,30.0,27.0,47.0,37.0,14.0,27.0,61.0,39.0,22.0,30.0,26.0,25.0,42.0,33.0,60.0,16.0,50.0,22.0,15.0,27.0,58.0,48.0,36.0,60.0,46.0,58.0,40.0,3.0,23.0,21.0,29.0,23.0,41.0,20.0,24.0,21.0,55.0,21.0,42.0,40.0,30.0,26.0,43.0,20.0,19.0,40.0,17.0,62.0,32.0,37.0,40.0,25.0,17.0,46.0,38.0,43.0,28.0,31.0,35.0,19.0,24.0,20.0,16.0,45.0,19.0,23.0,19.0,32.0,41.0,30.0,41.0,7.0,39.0,47.0,21.0,29.0,19.0,50.0,28.0,38.0,24.0,31.0,38.0,26.0,28.0,45.0,47.0,60.0,42.0,43.0,17.0,17.0,20.0,18.0,24.0,25.0,20.0,23.0,48.0,26.0,36.0,27.0,41.0,21.0,71.0,64.0,33.0,24.0,35.0,13.0,11.0,null,43.0,36.0,22.0,56.0,34.0,46.0,43.0,25.0,26.0,14.0,63.0,29.0,45.0,15.0,19.0,53.0,45.0,41.0,68.0,5.0,27.0,20.0,54.0,18.0,45.0,26.0,37.0,30.0,51.0,3.0,3.0,19.0,19.0,6.0,4.0,23.0,37.0,18.0,29.0,25.0,52.0,24.0,0.0,25.0,26.0,32.0,58.0,44.0,41.0,24.0,41.0,23.0,27.0,61.0,18.0,18.0,null,15.0,12.0,40.0,19.0,18.0,48.0,37.0,35.0,29.0,54.0,null,22.0,18.0,26.0,19.0,22.0,17.0,18.0,39.0,37.0,17.0,25.0,9.0,15.0,19.0,18.0,50.0,14.0,19.0,33.0,23.0,39.0,14.0,14.0,45.0,22.0,36.0,19.0,59.0,31.0,31.0,39.0,28.0,19.0,29.0,0.0,15.0,18.0,49.0,36.0,40.0,56.0,67.0,44.0,17.0,27.0,23.0,28.0,54.0,26.0,40.0,39.0,40.0,20.0,18.0,17.0,35.0,31.0,40.0,50.0,21.0,29.0,63.0,19.0,36.0,48.0,33.0,28.0,39.0,27.0,58.0,44.0,23.0,21.0,53.0,14.0,17.0,25.0,44.0,24.0,24.0,24.0,0.0,7.0,3.0,18.0,4.0,40.0,16.0,25.0,10.0,40.0,19.0,15.0,24.0,21.0,29.0,37.0,49.0,42.0,54.0,33.0,27.0,53.0,28.0,24.0,20.0,0.0,24.0,28.0,42.0,32.0,36.0,40.0,30.0,34.0,37.0,41.0,25.0,39.0,0.0,54.0,16.0,0.0,13.0,46.0,23.0,18.0,27.0,24.0,27.0,24.0,25.0,30.0,19.0,18.0,49.0,64.0,26.0,53.0,27.0,27.0,25.0,33.0,27.0,20.0,39.0,27.0,19.0,22.0,3.0,24.0,41.0,18.0,63.0,19.0,39.0,null,41.0,44.0,39.0,29.0,37.0,41.0,18.0,null,55.0,21.0,28.0,43.0,32.0,23.0,5.0,14.0,24.0,22.0,14.0,20.0,17.0,20.0,22.0,15.0,67.0,28.0,57.0,21.0,34.0,17.0,33.0,33.0,28.0,18.0,28.0,13.0,38.0,39.0,18.0,43.0,32.0,29.0,45.0,25.0,64.0,18.0,44.0,15.0,21.0,33.0,3.0,19.0,37.0,24.0,26.0,26.0,26.0,22.0,26.0,27.0,27.0,37.0,22.0,24.0,23.0,18.0,28.0,4.0,23.0,2.0,46.0,0.0,16.0,19.0,34.0,34.0,24.0,28.0,44.0,35.0,20.0,18.0,43.0,48.0,46.0,75.0,24.0,34.0,29.0,46.0,22.0,42.0,46.0,15.0,42.0,31.0,9.0,34.0,21.0,16.0,40.0,23.0,6.0,17.0,37.0,30.0,32.0,41.0,43.0,17.0,37.0,18.0,1.0,38.0,25.0,6.0,1.0,7.0,24.0,19.0,26.0,49.0,18.0,25.0,46.0,33.0,10.0,38.0,23.0,26.0,16.0,29.0,35.0,58.0,17.0,16.0,2.0,13.0,18.0,29.0,21.0,43.0,69.0,40.0,1.0,36.0,60.0,17.0,49.0,23.0,39.0,53.0,26.0,31.0,48.0,26.0,25.0,25.0,30.0,null,23.0,24.0,47.0,37.0,24.0,21.0,42.0,39.0,28.0,32.0,31.0,13.0,41.0,21.0,null,9.0,36.0,30.0,27.0,40.0,41.0,16.0,36.0,15.0,39.0,21.0,24.0,28.0,47.0,55.0,null,22.0,26.0,62.0,53.0,29.0,21.0,18.0,34.0,19.0,14.0,21.0,55.0,18.0,33.0,35.0,31.0,27.0,null,13.0,24.0,22.0,32.0,18.0,53.0,4.0,24.0,23.0,1.0,18.0,21.0,40.0,49.0,25.0,21.0,40.0,47.0,25.0,36.0,39.0,26.0,0.0,14.0,7.0,50.0,22.0,17.0,35.0,22.0,26.0,24.0,59.0,24.0,17.0,28.0,38.0,2.0,36.0,32.0,15.0,54.0,18.0,22.0,23.0,14.0,26.0,73.0,29.0,29.0,12.0,27.0,31.0,26.0,35.0,25.0,40.0,18.0,52.0,35.0,51.0,35.0,14.0,null,26.0,21.0,45.0,29.0,39.0,37.0,22.0,22.0,30.0,1.0,0.0,9.0,18.0,29.0,52.0,27.0,54.0,28.0,65.0,26.0,29.0,20.0,39.0,37.0,20.0,40.0,0.0,33.0,23.0,32.0,20.0,60.0,53.0,26.0,35.0,19.0,43.0,29.0,20.0,19.0,21.0,39.0,12.0,20.0,18.0,31.0,35.0,44.0,62.0,23.0,23.0,19.0,29.0,31.0,33.0,41.0,60.0,41.0,69.0,44.0,18.0,26.0,30.0,34.0,18.0,49.0,71.0,19.0,23.0,31.0,40.0,28.0,17.0,24.0,54.0,21.0,2.0,20.0,20.0,36.0,25.0,58.0,37.0,26.0,45.0,44.0,24.0,13.0,4.0,24.0,27.0,39.0,23.0,4.0,0.0,22.0,27.0,22.0,26.0,60.0,18.0,20.0,25.0,24.0,38.0,18.0,45.0,13.0,28.0,5.0,20.0,2.0,42.0,0.0,18.0,26.0,3.0,49.0,19.0,19.0,15.0,53.0,0.0,39.0,45.0,10.0,1.0,9.0,40.0,26.0,18.0,47.0,31.0,null,23.0,32.0,32.0,21.0,null,22.0,18.0,28.0,38.0,46.0,44.0,38.0,28.0,31.0,18.0,18.0,4.0,0.0,0.0,23.0,35.0,43.0,18.0,18.0,18.0,49.0,19.0,22.0,4.0,0.0,null,39.0,36.0,53.0,23.0,24.0,25.0,30.0,20.0,40.0,18.0,57.0,47.0,26.0,29.0,32.0,30.0,18.0,49.0,33.0,18.0,29.0,34.0,43.0,18.0,31.0,15.0,3.0,37.0,1.0,27.0,15.0,33.0,65.0,19.0,30.0,37.0,15.0,19.0,20.0,19.0,21.0,20.0,18.0,27.0,23.0,25.0,72.0,35.0,29.0,11.0,7.0,null,28.0,41.0,null,19.0,8.0,4.0,38.0,21.0,18.0,10.0,29.0,25.0,40.0,19.0,38.0,19.0,0.0,4.0,29.0,46.0,32.0,26.0,23.0,32.0,31.0,34.0,45.0,61.0,21.0,null,15.0,14.0,18.0,39.0,62.0,40.0,21.0,12.0,27.0,28.0,0.0,17.0,23.0,6.0,29.0,41.0,27.0,34.0,36.0,30.0,30.0,29.0,21.0,21.0,18.0,11.0,65.0,25.0,0.0,24.0,19.0,23.0,45.0,52.0,55.0,24.0,31.0,18.0,22.0,39.0,19.0,33.0,14.0,30.0,30.0,21.0,45.0,17.0,39.0,22.0,37.0,48.0,33.0,37.0,27.0,29.0,38.0,16.0,18.0,null,47.0,15.0,13.0,19.0,17.0,31.0,19.0,25.0,26.0,25.0,2.0,7.0,2.0,19.0,1.0,4.0,49.0,61.0,57.0,52.0,22.0,37.0,15.0,28.0,40.0,13.0,24.0,25.0,25.0,43.0,46.0,3.0,3.0,3.0,8.0,57.0,11.0,20.0,27.0,20.0,14.0,24.0,21.0,33.0,32.0,22.0,15.0,41.0,31.0,35.0,48.0,15.0,37.0,21.0,34.0,19.0,52.0,15.0,24.0,45.0,13.0,18.0,19.0,20.0,20.0,27.0,22.0,17.0,23.0,29.0,24.0,26.0,36.0,25.0,36.0,32.0,16.0,32.0,48.0,25.0,46.0,32.0,50.0,31.0,27.0,52.0,34.0,40.0,36.0,19.0,33.0,23.0,57.0,24.0,19.0,54.0,28.0,26.0,43.0,39.0,21.0,24.0,35.0,61.0,21.0,14.0,38.0,23.0,31.0,66.0,56.0,21.0,49.0,21.0,27.0,23.0,27.0,49.0,38.0,60.0,47.0,29.0,19.0,32.0,22.0,35.0,28.0,22.0,42.0,37.0,31.0,33.0,48.0,31.0,18.0,44.0,22.0,18.0,48.0,2.0,0.0,43.0,51.0,48.0,51.0,20.0,41.0,27.0,56.0,26.0,21.0,null,23.0,28.0,40.0,39.0,16.0,20.0,24.0,45.0,33.0,19.0,15.0,18.0,21.0,37.0,53.0,19.0,17.0,58.0,18.0,25.0,39.0,40.0,27.0,3.0,18.0,18.0,29.0,22.0,34.0,19.0,26.0,33.0,34.0,18.0,40.0,53.0,8.0,54.0,29.0,56.0,21.0,25.0,33.0,22.0,50.0,24.0,25.0,59.0,26.0,19.0,37.0,22.0,44.0,25.0,23.0,6.0,39.0,26.0,14.0,3.0,21.0,24.0,18.0,37.0,21.0,67.0,28.0,13.0,26.0,33.0,18.0,24.0,26.0,21.0,27.0,15.0,24.0,31.0,10.0,23.0,50.0,13.0,43.0,20.0,21.0,18.0,16.0,47.0,35.0,15.0,46.0,6.0,26.0,49.0,28.0,37.0,17.0,38.0,18.0,55.0,28.0,25.0,17.0,22.0,4.0,3.0,21.0,24.0,50.0,3.0,19.0,22.0,20.0,18.0,27.0,29.0,23.0,48.0,32.0,55.0,49.0,15.0,50.0,35.0,29.0,38.0,29.0,39.0,49.0,39.0,19.0,19.0,14.0,40.0,40.0,20.0,6.0,41.0,37.0,31.0,8.0,55.0,16.0,29.0,40.0,27.0,21.0,25.0,44.0,34.0,1.0,1.0,42.0,18.0,21.0,24.0,null,18.0,27.0,13.0,10.0,8.0,40.0,35.0,13.0,19.0,44.0,36.0,29.0,28.0,36.0,24.0,14.0,50.0,20.0,38.0,33.0,54.0,20.0,23.0,65.0,51.0,36.0,38.0,28.0,32.0,55.0,23.0,38.0,18.0,32.0,44.0,62.0,66.0,20.0,19.0,null,25.0,20.0,18.0,20.0,14.0,49.0,49.0,19.0,53.0,31.0,18.0,24.0,35.0,27.0,38.0,23.0,22.0,38.0,28.0,25.0,45.0,22.0,30.0,25.0,24.0,44.0,6.0,0.0,14.0,37.0,15.0,0.0,17.0,58.0,15.0,53.0,29.0,24.0,40.0,21.0,30.0,20.0,20.0,18.0,36.0,20.0,4.0,59.0,20.0,4.0,23.0,25.0,20.0,22.0,6.0,14.0,0.0,4.0,37.0,14.0,34.0,3.0,18.0,27.0,19.0,37.0,29.0,37.0,32.0,22.0,38.0,24.0,63.0,23.0,41.0,20.0,48.0,44.0,15.0,29.0,64.0,19.0,28.0,44.0,13.0,45.0,25.0,19.0,29.0,21.0,13.0,25.0,46.0,37.0,19.0,29.0,21.0,13.0,15.0,42.0,null,26.0,19.0,18.0,50.0,28.0,24.0,31.0,19.0,20.0,23.0,19.0,27.0,16.0,76.0,41.0,24.0,12.0,28.0,36.0,20.0,7.0,21.0,33.0,32.0,34.0,38.0,null,28.0,25.0,24.0,18.0,24.0,30.0,38.0,39.0,31.0,33.0,15.0,23.0,24.0,44.0,22.0,28.0,34.0,8.0,26.0,29.0,58.0,4.0,1.0,17.0,27.0,24.0,16.0,28.0,23.0,33.0,24.0,6.0,19.0,31.0,19.0,18.0,35.0,32.0,19.0,24.0,33.0,20.0,27.0,26.0,28.0,19.0,24.0,52.0,23.0,23.0,25.0,22.0,35.0,24.0,24.0,26.0,37.0,14.0,36.0,0.0,17.0,18.0,43.0,21.0,34.0,57.0,18.0,73.0,31.0,25.0,20.0,24.0,null,21.0,22.0,39.0,26.0,32.0,1.0,7.0,4.0,21.0,12.0,28.0,0.0,18.0,52.0,18.0,51.0,21.0,28.0,34.0,13.0,35.0,27.0,35.0,51.0,53.0,29.0,41.0,47.0,22.0,19.0,22.0,25.0,null,17.0,0.0,5.0,30.0,17.0,53.0,9.0,17.0,16.0,29.0,29.0,46.0,27.0,39.0,15.0,30.0,41.0,47.0,32.0,15.0,23.0,20.0,33.0,18.0,31.0,25.0,19.0,32.0,45.0,43.0,21.0,48.0,0.0,29.0,41.0,23.0,48.0,18.0,30.0,26.0,18.0,27.0,58.0,22.0,17.0,28.0,27.0,51.0,37.0,14.0,43.0,27.0,60.0,33.0,39.0,21.0,21.0,28.0,30.0,42.0,25.0,25.0,25.0,54.0,41.0,36.0,33.0,36.0,55.0,16.0,28.0,26.0,42.0,30.0,31.0,22.0,26.0,25.0,44.0,29.0,22.0,23.0,30.0,23.0,13.0,53.0,0.0,27.0,27.0,10.0,2.0,5.0,24.0,32.0,22.0,22.0,44.0,55.0,22.0,8.0,15.0,1.0,9.0,48.0,16.0,27.0,3.0,25.0,70.0,30.0,57.0,42.0,14.0,43.0,34.0,21.0,32.0,21.0,25.0,25.0,38.0,36.0,44.0,37.0,47.0,38.0,28.0,38.0,53.0,26.0,13.0,64.0,16.0,13.0,55.0,26.0,23.0,55.0,50.0,26.0,36.0,33.0,21.0,41.0,33.0,23.0,31.0,28.0,13.0,null,35.0,25.0,19.0,56.0,18.0,22.0,34.0,11.0,37.0,22.0,45.0,19.0,39.0,28.0,36.0,1.0,10.0,12.0,31.0,12.0,3.0,30.0,41.0,19.0,38.0,36.0,0.0,20.0,23.0,35.0,36.0,41.0,38.0,33.0,54.0,33.0,54.0,32.0,24.0,53.0,26.0,31.0,18.0,39.0,37.0,35.0,34.0,28.0,43.0,2.0,24.0,18.0,21.0,24.0,35.0,53.0,32.0,44.0,33.0,40.0,31.0,23.0,44.0,41.0,31.0,30.0,33.0,30.0,26.0,22.0,37.0,15.0,52.0,35.0,40.0,60.0,24.0,31.0,43.0,9.0,51.0,25.0,20.0,22.0,21.0,50.0,24.0,45.0,22.0,7.0,11.0,1.0,0.0,8.0,36.0,2.0,0.0,22.0,41.0,49.0,30.0,37.0,14.0,30.0,62.0,13.0,32.0,33.0,38.0,29.0,25.0,26.0,19.0,16.0,61.0,28.0,13.0,44.0,22.0,30.0,21.0,20.0,31.0,33.0,26.0,21.0,23.0,0.0,32.0,30.0,41.0,18.0,26.0,32.0,44.0],\"xaxis\":\"x\",\"yaxis\":\"y\",\"type\":\"histogram\"},{\"alignmentgroup\":\"True\",\"hovertemplate\":\"type=Train<br>Age=%{x}<extra></extra>\",\"legendgroup\":\"Train\",\"marker\":{\"color\":\"#58D68D\"},\"name\":\"Train\",\"notched\":true,\"offsetgroup\":\"Train\",\"showlegend\":false,\"x\":[39.0,24.0,58.0,33.0,16.0,44.0,26.0,28.0,35.0,14.0,34.0,45.0,32.0,48.0,28.0,31.0,27.0,24.0,45.0,0.0,14.0,1.0,49.0,29.0,10.0,1.0,7.0,21.0,62.0,15.0,34.0,43.0,32.0,47.0,2.0,20.0,28.0,23.0,15.0,20.0,30.0,17.0,45.0,55.0,4.0,21.0,21.0,19.0,35.0,56.0,null,25.0,2.0,38.0,27.0,36.0,22.0,62.0,15.0,33.0,62.0,0.0,18.0,21.0,null,42.0,19.0,17.0,14.0,37.0,42.0,27.0,28.0,38.0,13.0,42.0,2.0,8.0,24.0,40.0,43.0,45.0,35.0,26.0,27.0,19.0,0.0,3.0,54.0,26.0,26.0,23.0,2.0,31.0,18.0,24.0,9.0,6.0,27.0,21.0,23.0,31.0,0.0,32.0,40.0,42.0,28.0,29.0,48.0,64.0,27.0,26.0,33.0,39.0,13.0,24.0,29.0,18.0,67.0,35.0,61.0,45.0,22.0,19.0,36.0,19.0,47.0,13.0,34.0,35.0,24.0,26.0,31.0,20.0,56.0,50.0,42.0,null,38.0,41.0,22.0,26.0,17.0,57.0,17.0,35.0,13.0,27.0,31.0,24.0,19.0,32.0,58.0,21.0,38.0,38.0,19.0,0.0,3.0,20.0,24.0,37.0,25.0,56.0,49.0,11.0,1.0,8.0,39.0,2.0,23.0,0.0,39.0,25.0,36.0,52.0,18.0,15.0,35.0,47.0,45.0,null,51.0,29.0,null,19.0,24.0,29.0,11.0,17.0,13.0,35.0,21.0,21.0,38.0,19.0,2.0,0.0,13.0,25.0,16.0,1.0,15.0,21.0,23.0,33.0,21.0,41.0,16.0,42.0,20.0,24.0,16.0,21.0,32.0,58.0,24.0,30.0,27.0,32.0,43.0,42.0,37.0,35.0,33.0,18.0,21.0,43.0,14.0,46.0,33.0,21.0,33.0,47.0,54.0,30.0,29.0,21.0,24.0,21.0,60.0,22.0,26.0,26.0,28.0,39.0,13.0,47.0,63.0,null,50.0,35.0,45.0,19.0,21.0,29.0,22.0,14.0,42.0,57.0,39.0,28.0,19.0,19.0,26.0,17.0,43.0,9.0,40.0,50.0,24.0,57.0,16.0,23.0,23.0,28.0,23.0,23.0,18.0,18.0,67.0,60.0,null,49.0,0.0,26.0,35.0,24.0,20.0,18.0,21.0,59.0,13.0,43.0,29.0,19.0,2.0,32.0,33.0,25.0,29.0,29.0,44.0,2.0,19.0,0.0,18.0,38.0,5.0,31.0,30.0,15.0,27.0,22.0,36.0,14.0,23.0,18.0,36.0,41.0,50.0,32.0,26.0,15.0,33.0,null,26.0,61.0,24.0,30.0,24.0,24.0,41.0,20.0,22.0,63.0,18.0,21.0,79.0,56.0,13.0,33.0,32.0,31.0,26.0,18.0,38.0,23.0,28.0,34.0,0.0,14.0,23.0,49.0,14.0,18.0,27.0,48.0,31.0,61.0,18.0,45.0,22.0,30.0,30.0,32.0,43.0,17.0,23.0,20.0,39.0,35.0,31.0,21.0,16.0,60.0,18.0,42.0,68.0,22.0,59.0,null,37.0,3.0,31.0,31.0,29.0,20.0,46.0,29.0,43.0,17.0,27.0,47.0,45.0,17.0,10.0,56.0,39.0,40.0,40.0,34.0,32.0,35.0,32.0,26.0,25.0,26.0,22.0,22.0,24.0,32.0,11.0,22.0,19.0,34.0,74.0,28.0,42.0,43.0,55.0,19.0,6.0,7.0,28.0,15.0,24.0,31.0,22.0,1.0,50.0,34.0,14.0,19.0,null,36.0,34.0,25.0,36.0,16.0,30.0,37.0,15.0,36.0,27.0,27.0,12.0,22.0,27.0,13.0,27.0,28.0,21.0,39.0,28.0,14.0,27.0,46.0,27.0,21.0,21.0,42.0,22.0,10.0,43.0,42.0,18.0,54.0,24.0,64.0,18.0,53.0,23.0,39.0,59.0,32.0,55.0,21.0,50.0,55.0,null,35.0,null,55.0,23.0,42.0,35.0,47.0,null,34.0,46.0,26.0,1.0,null,33.0,34.0,49.0,22.0,28.0,null,36.0,30.0,49.0,38.0,31.0,17.0,26.0,23.0,24.0,23.0,24.0,32.0,43.0,23.0,42.0,29.0,40.0,37.0,61.0,33.0,19.0,21.0,4.0,12.0,44.0,22.0,33.0,32.0,28.0,28.0,31.0,13.0,14.0,33.0,null,23.0,36.0,22.0,19.0,42.0,30.0,16.0,55.0,55.0,19.0,null,18.0,21.0,65.0,55.0,50.0,49.0,22.0,33.0,3.0,0.0,33.0,48.0,5.0,23.0,53.0,18.0,20.0,23.0,48.0,19.0,null,9.0,24.0,46.0,23.0,21.0,19.0,0.0,4.0,26.0,9.0,24.0,24.0,25.0,21.0,21.0,37.0,44.0,43.0,7.0,33.0,24.0,31.0,27.0,34.0,58.0,7.0,3.0,21.0,21.0,39.0,43.0,22.0,44.0,38.0,32.0,55.0,31.0,39.0,35.0,37.0,13.0,21.0,20.0,20.0,63.0,36.0,29.0,36.0,79.0,30.0,30.0,19.0,33.0,20.0,38.0,7.0,58.0,33.0,3.0,39.0,37.0,32.0,28.0,38.0,21.0,18.0,15.0,44.0,44.0,36.0,28.0,15.0,45.0,26.0,46.0,25.0,46.0,15.0,37.0,20.0,45.0,7.0,5.0,38.0,30.0,null,0.0,20.0,41.0,18.0,29.0,19.0,34.0,36.0,54.0,19.0,21.0,23.0,35.0,34.0,22.0,24.0,18.0,24.0,33.0,24.0,18.0,19.0,43.0,44.0,25.0,25.0,23.0,23.0,20.0,2.0,26.0,38.0,1.0,12.0,2.0,25.0,1.0,0.0,54.0,21.0,19.0,24.0,20.0,23.0,29.0,14.0,19.0,23.0,62.0,23.0,65.0,47.0,67.0,14.0,41.0,14.0,19.0,22.0,34.0,65.0,42.0,22.0,54.0,34.0,27.0,67.0,33.0,30.0,22.0,35.0,23.0,49.0,36.0,31.0,54.0,0.0,null,54.0,10.0,0.0,7.0,25.0,37.0,15.0,26.0,7.0,30.0,19.0,30.0,21.0,21.0,59.0,28.0,32.0,19.0,7.0,16.0,31.0,30.0,26.0,20.0,24.0,39.0,19.0,27.0,34.0,28.0,29.0,38.0,null,1.0,36.0,31.0,1.0,31.0,10.0,null,42.0,0.0,41.0,0.0,0.0,59.0,13.0,24.0,20.0,71.0,23.0,15.0,18.0,19.0,4.0,42.0,51.0,13.0,27.0,42.0,41.0,21.0,31.0,36.0,31.0,14.0,32.0,32.0,27.0,57.0,13.0,30.0,14.0,27.0,32.0,54.0,23.0,38.0,32.0,24.0,36.0,11.0,6.0,36.0,22.0,null,37.0,55.0,null,20.0,16.0,19.0,38.0,35.0,33.0,37.0,46.0,41.0,13.0,31.0,52.0,48.0,27.0,16.0,32.0,25.0,26.0,44.0,32.0,18.0,23.0,44.0,29.0,19.0,41.0,28.0,19.0,32.0,74.0,31.0,38.0,20.0,24.0,26.0,44.0,33.0,31.0,null,22.0,33.0,34.0,11.0,41.0,30.0,30.0,25.0,31.0,38.0,15.0,19.0,29.0,30.0,29.0,36.0,24.0,30.0,0.0,15.0,38.0,13.0,18.0,16.0,8.0,19.0,26.0,15.0,38.0,45.0,48.0,17.0,28.0,41.0,19.0,14.0,21.0,48.0,19.0,29.0,20.0,44.0,19.0,64.0,21.0,32.0,20.0,24.0,44.0,57.0,51.0,34.0,45.0,24.0,23.0,30.0,20.0,22.0,null,71.0,18.0,16.0,28.0,36.0,6.0,26.0,27.0,49.0,29.0,46.0,35.0,17.0,37.0,24.0,47.0,26.0,46.0,27.0,56.0,18.0,15.0,3.0,42.0,1.0,56.0,20.0,21.0,5.0,12.0,39.0,60.0,31.0,58.0,19.0,29.0,19.0,44.0,20.0,18.0,36.0,25.0,15.0,18.0,0.0,54.0,0.0,20.0,21.0,8.0,46.0,31.0,3.0,30.0,23.0,14.0,25.0,61.0,31.0,13.0,24.0,47.0,15.0,46.0,49.0,37.0,44.0,16.0,58.0,20.0,36.0,31.0,21.0,22.0,27.0,58.0,38.0,30.0,20.0,19.0,57.0,26.0,38.0,15.0,null,35.0,38.0,35.0,14.0,27.0,25.0,37.0,25.0,41.0,50.0,33.0,27.0,23.0,18.0,31.0,54.0,0.0,11.0,4.0,19.0,7.0,20.0,33.0,26.0,35.0,23.0,60.0,34.0,null,42.0,22.0,18.0,5.0,18.0,29.0,39.0,17.0,58.0,5.0,23.0,26.0,40.0,20.0,38.0,31.0,34.0,9.0,36.0,26.0,18.0,55.0,28.0,18.0,28.0,23.0,20.0,22.0,27.0,13.0,32.0,53.0,34.0,42.0,19.0,54.0,12.0,35.0,55.0,26.0,49.0,22.0,null,30.0,39.0,14.0,29.0,34.0,8.0,7.0,3.0,0.0,10.0,16.0,41.0,18.0,25.0,32.0,26.0,26.0,18.0,27.0,26.0,28.0,19.0,31.0,35.0,46.0,37.0,29.0,17.0,30.0,28.0,16.0,40.0,23.0,24.0,36.0,34.0,59.0,20.0,15.0,19.0,64.0,24.0,23.0,30.0,0.0,8.0,1.0,48.0,12.0,30.0,10.0,11.0,58.0,52.0,36.0,32.0,16.0,25.0,28.0,32.0,28.0,16.0,50.0,20.0,23.0,45.0,23.0,53.0,8.0,6.0,3.0,13.0,60.0,1.0,40.0,51.0,31.0,28.0,20.0,14.0,23.0,4.0,20.0,75.0,24.0,18.0,21.0,59.0,27.0,38.0,41.0,36.0,29.0,22.0,23.0,32.0,21.0,26.0,61.0,30.0,40.0,37.0,41.0,32.0,30.0,27.0,22.0,54.0,27.0,52.0,15.0,27.0,30.0,19.0,22.0,43.0,25.0,51.0,34.0,21.0,21.0,23.0,38.0,30.0,31.0,44.0,14.0,18.0,19.0,null,36.0,10.0,1.0,4.0,21.0,24.0,8.0,18.0,33.0,31.0,43.0,20.0,28.0,30.0,28.0,19.0,22.0,27.0,22.0,2.0,4.0,10.0,9.0,37.0,2.0,44.0,11.0,22.0,40.0,30.0,37.0,26.0,19.0,57.0,1.0,17.0,26.0,21.0,28.0,36.0,25.0,40.0,23.0,2.0,10.0,43.0,0.0,24.0,42.0,30.0,19.0,26.0,47.0,28.0,24.0,29.0,32.0,44.0,17.0,35.0,23.0,34.0,25.0,67.0,22.0,null,27.0,14.0,42.0,19.0,22.0,31.0,10.0,39.0,41.0,0.0,22.0,21.0,40.0,25.0,23.0,33.0,20.0,40.0,27.0,21.0,25.0,2.0,19.0,41.0,43.0,19.0,22.0,16.0,42.0,20.0,35.0,53.0,17.0,6.0,22.0,41.0,19.0,39.0,23.0,31.0,38.0,1.0,13.0,21.0,44.0,36.0,19.0,7.0,39.0,28.0,28.0,14.0,18.0,23.0,33.0,18.0,47.0,42.0,17.0,21.0,17.0,26.0,23.0,15.0,18.0,65.0,33.0,27.0,41.0,42.0,null,37.0,17.0,24.0,39.0,59.0,32.0,29.0,8.0,28.0,35.0,24.0,1.0,4.0,28.0,46.0,67.0,44.0,14.0,23.0,51.0,20.0,0.0,0.0,23.0,24.0,41.0,30.0,27.0,13.0,16.0,30.0,8.0,59.0,43.0,30.0,46.0,39.0,21.0,70.0,34.0,33.0,44.0,16.0,63.0,37.0,29.0,29.0,22.0,26.0,76.0,61.0,46.0,19.0,13.0,null,30.0,23.0,63.0,21.0,32.0,33.0,39.0,49.0,27.0,16.0,38.0,42.0,19.0,26.0,32.0,56.0,0.0,38.0,30.0,21.0,11.0,3.0,17.0,35.0,17.0,0.0,46.0,63.0,35.0,61.0,19.0,43.0,14.0,78.0,21.0,32.0,31.0,40.0,13.0,36.0,31.0,18.0,40.0,28.0,41.0,35.0,14.0,20.0,23.0,22.0,25.0,18.0,25.0,30.0,46.0,27.0,53.0,21.0,32.0,32.0,33.0,26.0,47.0,13.0,34.0,21.0,20.0,21.0,51.0,18.0,26.0,53.0,30.0,37.0,45.0,62.0,38.0,24.0,18.0,23.0,16.0,37.0,22.0,18.0,25.0,26.0,25.0,55.0,28.0,23.0,22.0,26.0,13.0,18.0,38.0,28.0,57.0,0.0,18.0,25.0,35.0,37.0,33.0,35.0,47.0,23.0,null,27.0,23.0,31.0,19.0,53.0,37.0,18.0,42.0,7.0,7.0,24.0,20.0,24.0,42.0,49.0,47.0,16.0,26.0,24.0,38.0,0.0,37.0,39.0,25.0,25.0,35.0,0.0,46.0,4.0,19.0,29.0,19.0,47.0,1.0,4.0,37.0,61.0,32.0,4.0,16.0,25.0,22.0,41.0,25.0,19.0,21.0,14.0,18.0,34.0,33.0,14.0,28.0,43.0,3.0,0.0,47.0,28.0,40.0,17.0,21.0,null,41.0,20.0,56.0,57.0,48.0,37.0,20.0,36.0,38.0,22.0,31.0,0.0,21.0,49.0,44.0,null,29.0,16.0,20.0,26.0,19.0,34.0,38.0,51.0,7.0,3.0,26.0,27.0,7.0,19.0,28.0,27.0,31.0,26.0,43.0,23.0,14.0,47.0,17.0,64.0,13.0,18.0,29.0,70.0,23.0,23.0,35.0,17.0,26.0,15.0,19.0,20.0,51.0,17.0,27.0,43.0,5.0,17.0,40.0,38.0,20.0,13.0,15.0,15.0,59.0,24.0,null,52.0,38.0,26.0,17.0,17.0,20.0,15.0,30.0,22.0,18.0,22.0,20.0,22.0,34.0,28.0,50.0,19.0,21.0,0.0,4.0,59.0,15.0,24.0,26.0,67.0,55.0,50.0,23.0,21.0,15.0,41.0,59.0,18.0,21.0,14.0,50.0,32.0,46.0,null,58.0,15.0,35.0,30.0,30.0,43.0,21.0,15.0,37.0,28.0,28.0,40.0,42.0,21.0,31.0,51.0,73.0,26.0,33.0,39.0,19.0,12.0,10.0,0.0,0.0,1.0,33.0,23.0,5.0,24.0,26.0,30.0,33.0,56.0,25.0,null,25.0,18.0,60.0,41.0,16.0,17.0,26.0,31.0,67.0,16.0,24.0,19.0,48.0,30.0,22.0,28.0,23.0,29.0,22.0,48.0,26.0,23.0,55.0,46.0,38.0,2.0,3.0,20.0,65.0,null,25.0,54.0,25.0,14.0,53.0,0.0,39.0,22.0,31.0,24.0,35.0,35.0,32.0,61.0,58.0,26.0,4.0,1.0,8.0,7.0,25.0,6.0,29.0,64.0,31.0,25.0,30.0,0.0,29.0,37.0,49.0,36.0,20.0,20.0,18.0,17.0,48.0,26.0,35.0,30.0,22.0,5.0,43.0,52.0,50.0,29.0,19.0,39.0,38.0,21.0,25.0,42.0,36.0,19.0,42.0,40.0,14.0,50.0,18.0,46.0,null,15.0,22.0,0.0,52.0,38.0,46.0,23.0,63.0,24.0,50.0,20.0,55.0,21.0,56.0,45.0,18.0,47.0,36.0,57.0,13.0,27.0,20.0,47.0,15.0,34.0,21.0,51.0,23.0,58.0,37.0,44.0,25.0,15.0,40.0,29.0,36.0,21.0,35.0,24.0,2.0,0.0,43.0,63.0,30.0,38.0,27.0,54.0,39.0,41.0,22.0,23.0,34.0,26.0,39.0,15.0,64.0,25.0,35.0,19.0,26.0,3.0,29.0,44.0,27.0,17.0,37.0,19.0,44.0,22.0,22.0,21.0,31.0,17.0,30.0,15.0,42.0,55.0,28.0,33.0,19.0,24.0,4.0,2.0,30.0,31.0,17.0,40.0,33.0,46.0,30.0,17.0,19.0,22.0,20.0,36.0,0.0,17.0,null,15.0,20.0,19.0,24.0,43.0,26.0,42.0,21.0,50.0,25.0,64.0,50.0,24.0,27.0,42.0,30.0,20.0,31.0,26.0,39.0,null,32.0,25.0,6.0,3.0,11.0,52.0,14.0,68.0,18.0,55.0,22.0,34.0,17.0,38.0,13.0,19.0,30.0,27.0,17.0,45.0,28.0,23.0,24.0,23.0,29.0,46.0,17.0,20.0,24.0,40.0,null,38.0,65.0,19.0,54.0,38.0,40.0,21.0,22.0,33.0,18.0,43.0,13.0,26.0,22.0,21.0,25.0,29.0,49.0,29.0,45.0,45.0,30.0,29.0,26.0,16.0,20.0,33.0,18.0,24.0,29.0,40.0,27.0,35.0,31.0,26.0,49.0,23.0,23.0,14.0,21.0,18.0,null,19.0,22.0,17.0,13.0,26.0,null,16.0,20.0,20.0,23.0,61.0,27.0,3.0,4.0,13.0,19.0,18.0,66.0,39.0,21.0,7.0,56.0,15.0,null,13.0,18.0,38.0,45.0,21.0,19.0,49.0,21.0,18.0,43.0,27.0,0.0,27.0,21.0,20.0,35.0,20.0,24.0,41.0,23.0,27.0,58.0,53.0,30.0,24.0,31.0,46.0,20.0,20.0,30.0,24.0,34.0,20.0,48.0,25.0,43.0,27.0,47.0,26.0,37.0,42.0,61.0,29.0,32.0,51.0,43.0,25.0,31.0,13.0,20.0,29.0,16.0,15.0,50.0,41.0,43.0,32.0,36.0,18.0,47.0,29.0,null,14.0,25.0,63.0,22.0,32.0,31.0,24.0,39.0,20.0,20.0,19.0,20.0,31.0,17.0,24.0,27.0,28.0,41.0,25.0,26.0,27.0,22.0,62.0,58.0,37.0,54.0,26.0,44.0,34.0,47.0,27.0,22.0,46.0,29.0,43.0,42.0,39.0,30.0,43.0,19.0,26.0,46.0,3.0,21.0,1.0,22.0,27.0,28.0,36.0,19.0,18.0,47.0,18.0,6.0,20.0,18.0,37.0,22.0,37.0,6.0,36.0,46.0,75.0,37.0,22.0,33.0,35.0,19.0,34.0,23.0,37.0,24.0,54.0,52.0,60.0,1.0,null,22.0,27.0,48.0,47.0,25.0,49.0,33.0,67.0,5.0,60.0,56.0,59.0,44.0,33.0,28.0,29.0,13.0,34.0,45.0,39.0,18.0,57.0,null,25.0,22.0,32.0,29.0,21.0,16.0,45.0,44.0,27.0,26.0,46.0,24.0,15.0,53.0,28.0,11.0,7.0,0.0,15.0,31.0,9.0,44.0,35.0,30.0,13.0,45.0,4.0,21.0,20.0,24.0,3.0,29.0,28.0,44.0,50.0,35.0,19.0,22.0,30.0,36.0,20.0,22.0,22.0,32.0,35.0,41.0,57.0,3.0,11.0,4.0,17.0,30.0,11.0,23.0,58.0,22.0,24.0,20.0,37.0,49.0,46.0,30.0,36.0,21.0,25.0,42.0,13.0,25.0,29.0,17.0,36.0,44.0,18.0,22.0,22.0,43.0,29.0,24.0,18.0,42.0,43.0,32.0,15.0,22.0,20.0,34.0,70.0,18.0,26.0,17.0,13.0,19.0,32.0,33.0,21.0,23.0,24.0,17.0,34.0,31.0,43.0,43.0,33.0,28.0,27.0,7.0,16.0,42.0,27.0,19.0,42.0,13.0,16.0,21.0,28.0,69.0,15.0,48.0,42.0,42.0,23.0,26.0,45.0,30.0,36.0,null,35.0,21.0,50.0,52.0,21.0,41.0,35.0,26.0,17.0,69.0,27.0,25.0,27.0,25.0,36.0,14.0,27.0,22.0,24.0,null,4.0,19.0,19.0,38.0,39.0,23.0,57.0,18.0,43.0,28.0,33.0,37.0,28.0,28.0,18.0,29.0,29.0,28.0,24.0,59.0,43.0,20.0,23.0,27.0,38.0,38.0,48.0,25.0,25.0,24.0,69.0,20.0,18.0,28.0,23.0,24.0,44.0,29.0,6.0,42.0,78.0,36.0,37.0,41.0,18.0,62.0,0.0,55.0,16.0,32.0,19.0,7.0,4.0,30.0,24.0,34.0,30.0,3.0,32.0,55.0,0.0,51.0,0.0,21.0,2.0,19.0,24.0,20.0,42.0,17.0,32.0,28.0,21.0,56.0,28.0,42.0,18.0,24.0,20.0,22.0,22.0,21.0,28.0,26.0,50.0,26.0,30.0,29.0,8.0,45.0,35.0,18.0,23.0,29.0,18.0,28.0,34.0,0.0,4.0,28.0,8.0,20.0,20.0,25.0,31.0,37.0,21.0,24.0,34.0,0.0,25.0,43.0,null,45.0,63.0,17.0,35.0,12.0,null,17.0,32.0,23.0,17.0,34.0,15.0,14.0,22.0,19.0,40.0,25.0,51.0,22.0,50.0,26.0,39.0,18.0,22.0,26.0,19.0,16.0,24.0,34.0,55.0,42.0,14.0,28.0,26.0,33.0,24.0,23.0,16.0,36.0,44.0,22.0,30.0,20.0,21.0,14.0,27.0,19.0,21.0,null,13.0,71.0,28.0,18.0,23.0,34.0,20.0,17.0,21.0,33.0,34.0,51.0,21.0,null,31.0,36.0,39.0,26.0,51.0,24.0,27.0,31.0,24.0,57.0,36.0,55.0,null,18.0,27.0,50.0,24.0,20.0,24.0,18.0,44.0,27.0,58.0,29.0,23.0,3.0,0.0,33.0,12.0,44.0,20.0,59.0,18.0,72.0,23.0,11.0,1.0,25.0,25.0,24.0,54.0,17.0,48.0,40.0,2.0,32.0,15.0,52.0,16.0,16.0,16.0,6.0,10.0,27.0,45.0,26.0,29.0,38.0,19.0,43.0,15.0,31.0,52.0,49.0,29.0,18.0,41.0,9.0,null,58.0,39.0,13.0,36.0,23.0,24.0,33.0,18.0,2.0,0.0,36.0,15.0,31.0,42.0,27.0,36.0,0.0,3.0,22.0,56.0,23.0,25.0,29.0,17.0,13.0,35.0,53.0,24.0,38.0,21.0,29.0,46.0,58.0,53.0,21.0,27.0,31.0,23.0,41.0,29.0,54.0,43.0,36.0,48.0,34.0,42.0,17.0,22.0,37.0,38.0,21.0,23.0,27.0,23.0,19.0,28.0,33.0,24.0,0.0,41.0,19.0,44.0,43.0,14.0,18.0,25.0,0.0,4.0,24.0,38.0,44.0,57.0,3.0,5.0,3.0,18.0,8.0,21.0,35.0,47.0,28.0,49.0,23.0,19.0,34.0,40.0,26.0,23.0,22.0,51.0,44.0,50.0,28.0,13.0,21.0,20.0,14.0,38.0,29.0,36.0,16.0,40.0,null,18.0,17.0,32.0,27.0,34.0,53.0,36.0,41.0,51.0,61.0,59.0,17.0,27.0,57.0,39.0,55.0,42.0,36.0,42.0,32.0,6.0,15.0,28.0,37.0,44.0,71.0,44.0,36.0,18.0,3.0,12.0,0.0,29.0,9.0,27.0,24.0,38.0,28.0,26.0,16.0,24.0,33.0,24.0,29.0,25.0,0.0,13.0,7.0,32.0,34.0,49.0,43.0,0.0,6.0,23.0,43.0,23.0,43.0,41.0,54.0,51.0,44.0,48.0,45.0,20.0,33.0,21.0,68.0,23.0,16.0,35.0,22.0,51.0,2.0,29.0,0.0,39.0,55.0,22.0,20.0,25.0,18.0,28.0,26.0,28.0,54.0,56.0,25.0,26.0,14.0,21.0,43.0,37.0,null,38.0,14.0,20.0,33.0,33.0,13.0,37.0,15.0,33.0,24.0,49.0,24.0,24.0,26.0,40.0,31.0,47.0,19.0,38.0,33.0,45.0,1.0,32.0,70.0,19.0,55.0,48.0,66.0,13.0,40.0,35.0,32.0,51.0,37.0,31.0,37.0,38.0,19.0,33.0,19.0,31.0,43.0,22.0,24.0,21.0,14.0,30.0,22.0,11.0,4.0,0.0,30.0,21.0,40.0,57.0,35.0,32.0,32.0,30.0,69.0,21.0,17.0,16.0,25.0,25.0,52.0,13.0,37.0,13.0,45.0,55.0,22.0,39.0,35.0,19.0,7.0,19.0,21.0,37.0,35.0,22.0,62.0,41.0,16.0,26.0,36.0,null,22.0,40.0,50.0,57.0,15.0,23.0,60.0,73.0,35.0,28.0,27.0,14.0,26.0,22.0,22.0,71.0,25.0,27.0,1.0,52.0,0.0,30.0,52.0,12.0,22.0,24.0,22.0,15.0,21.0,56.0,50.0,20.0,32.0,28.0,74.0,25.0,31.0,6.0,17.0,12.0,47.0,46.0,31.0,36.0,15.0,38.0,48.0,21.0,4.0,31.0,31.0,62.0,29.0,30.0,26.0,43.0,32.0,24.0,49.0,21.0,18.0,18.0,14.0,21.0,25.0,56.0,0.0,55.0,14.0,13.0,43.0,39.0,null,24.0,26.0,22.0,26.0,19.0,38.0,38.0,77.0,28.0,22.0,20.0,18.0,10.0,34.0,43.0,31.0,40.0,25.0,68.0,20.0,27.0,1.0,60.0,28.0,11.0,0.0,9.0,38.0,18.0,40.0,21.0,24.0,26.0,47.0,46.0,55.0,50.0,10.0,17.0,20.0,37.0,24.0,43.0,0.0,24.0,22.0,14.0,3.0,22.0,23.0,56.0,36.0,58.0,1.0,39.0,33.0,19.0,null,33.0,17.0,28.0,21.0,45.0,62.0,43.0,27.0,1.0,31.0,18.0,21.0,7.0,22.0,26.0,30.0,17.0,null,10.0,25.0,21.0,53.0,21.0,28.0,20.0,54.0,9.0,20.0,19.0,32.0,22.0,35.0,26.0,51.0,8.0,40.0,2.0,19.0,32.0,16.0,64.0,35.0,33.0,9.0,21.0,28.0,28.0,31.0,32.0,43.0,60.0,43.0,43.0,19.0,21.0,38.0,17.0,29.0,2.0,22.0,18.0,16.0,52.0,52.0,14.0,25.0,34.0,20.0,28.0,null,20.0,44.0,64.0,27.0,24.0,38.0,47.0,8.0,1.0,0.0,20.0,41.0,35.0,31.0,14.0,25.0,26.0,26.0,30.0,49.0,19.0,15.0,27.0,39.0,32.0,11.0,44.0,36.0,56.0,42.0,40.0,53.0,31.0,14.0,31.0,42.0,32.0,34.0,55.0,42.0,40.0,48.0,37.0,17.0,60.0,19.0,30.0,32.0,28.0,26.0,24.0,47.0,32.0,73.0,17.0,47.0,null,13.0,22.0,61.0,19.0,45.0,18.0,32.0,52.0,25.0,9.0,18.0,26.0,20.0,6.0,5.0,40.0,20.0,18.0,42.0,14.0,33.0,23.0,35.0,53.0,56.0,35.0,18.0,25.0,20.0,44.0,26.0,23.0,39.0,25.0,42.0,20.0,4.0,64.0,0.0,19.0,6.0,23.0,22.0,18.0,21.0,37.0,24.0,38.0,11.0,6.0,49.0,55.0,15.0,19.0,16.0,48.0,25.0,23.0,27.0,39.0,28.0,72.0,47.0,65.0,40.0,18.0,27.0,21.0,37.0,31.0,33.0,53.0,27.0,74.0,null,23.0,74.0,23.0,26.0,0.0,0.0,24.0,28.0,17.0,26.0,39.0,17.0,15.0,37.0,38.0,33.0,16.0,41.0,7.0,20.0,44.0,42.0,29.0,22.0,21.0,21.0,21.0,13.0,16.0,36.0,36.0,26.0,28.0,14.0,29.0,19.0,51.0,64.0,41.0,null,16.0,20.0,31.0,38.0,59.0,18.0,33.0,33.0,49.0,4.0,0.0,0.0,24.0,52.0,50.0,31.0,25.0,62.0,49.0,24.0,33.0,20.0,46.0,26.0,52.0,28.0,39.0,29.0,19.0,15.0,33.0,47.0,34.0,26.0,15.0,null,27.0,38.0,21.0,1.0,38.0,0.0,32.0,27.0,48.0,22.0,28.0,19.0,37.0,46.0,26.0,16.0,0.0,0.0,26.0,13.0,23.0,70.0,21.0,40.0,18.0,23.0,15.0,28.0,45.0,18.0,23.0,36.0,25.0,28.0,29.0,31.0,14.0,31.0,39.0,17.0,56.0,36.0,21.0,48.0,53.0,5.0,21.0,50.0,18.0,28.0,28.0,18.0,37.0,19.0,27.0,37.0,43.0,17.0,21.0,55.0,14.0,24.0,26.0,19.0,20.0,14.0,19.0,15.0,25.0,24.0,22.0,26.0,23.0,20.0,53.0,55.0,22.0,35.0,40.0,22.0,22.0,21.0,64.0,40.0,8.0,25.0,19.0,24.0,11.0,31.0,46.0,31.0,17.0,16.0,57.0,28.0,27.0,28.0,26.0,17.0,36.0,24.0,18.0,20.0,10.0,null,23.0,36.0,27.0,54.0,38.0,29.0,37.0,36.0,18.0,28.0,61.0,19.0,29.0,37.0,29.0,38.0,41.0,23.0,48.0,0.0,46.0,36.0,42.0,null,16.0,43.0,40.0,22.0,39.0,37.0,28.0,29.0,14.0,15.0,17.0,4.0,24.0,null,22.0,38.0,30.0,29.0,26.0,41.0,50.0,34.0,24.0,24.0,45.0,35.0,23.0,23.0,21.0,19.0,24.0,2.0,0.0,20.0,35.0,34.0,26.0,26.0,32.0,25.0,30.0,57.0,23.0,32.0,27.0,20.0,21.0,19.0,16.0,18.0,18.0,22.0,null,35.0,8.0,5.0,40.0,31.0,9.0,56.0,39.0,18.0,45.0,33.0,2.0,1.0,2.0,16.0,18.0,28.0,45.0,24.0,35.0,16.0,40.0,5.0,29.0,31.0,27.0,34.0,15.0,43.0,30.0,61.0,48.0,17.0,19.0,29.0,2.0,24.0,19.0,34.0,19.0,39.0,26.0,53.0,18.0,null,45.0,32.0,18.0,48.0,24.0,52.0,55.0,43.0,24.0,8.0,18.0,38.0,18.0,23.0,26.0,21.0,45.0,24.0,44.0,20.0,47.0,16.0,28.0,8.0,20.0,22.0,42.0,23.0,30.0,18.0,35.0,42.0,46.0,29.0,35.0,48.0,24.0,38.0,51.0,77.0,22.0,38.0,42.0,55.0,7.0,null,25.0,15.0,13.0,23.0,null,33.0,26.0,67.0,27.0,33.0,18.0,36.0,18.0,51.0,54.0,33.0,18.0,57.0,23.0,24.0,20.0,32.0,21.0,null,41.0,27.0,49.0,18.0,34.0,73.0,40.0,63.0,21.0,21.0,23.0,31.0,41.0,15.0,36.0,24.0,27.0,24.0,19.0,25.0,39.0,15.0,31.0,25.0,57.0,null,18.0,33.0,23.0,34.0,38.0,21.0,31.0,13.0,54.0,13.0,18.0,null,43.0,56.0,63.0,9.0,9.0,0.0,16.0,42.0,9.0,22.0,47.0,30.0,29.0,null,22.0,19.0,31.0,17.0,38.0,13.0,36.0,0.0,21.0,18.0,36.0,27.0,5.0,18.0,25.0,14.0,23.0,2.0,1.0,7.0,6.0,56.0,4.0,65.0,36.0,25.0,41.0,20.0,18.0,15.0,23.0,29.0,33.0,14.0,55.0,30.0,21.0,26.0,33.0,18.0,9.0,0.0,19.0,18.0,38.0,42.0,28.0,37.0,29.0,42.0,18.0,34.0,34.0,18.0,24.0,24.0,56.0,2.0,12.0,37.0,60.0,55.0,20.0,28.0,28.0,37.0,18.0,14.0,29.0,51.0,45.0,45.0,41.0,21.0,28.0,0.0,46.0,41.0,13.0,55.0,20.0,21.0,49.0,27.0,0.0,22.0,17.0,23.0,44.0,29.0,19.0,3.0,29.0,19.0,22.0,33.0,null,50.0,54.0,43.0,17.0,26.0,44.0,51.0,29.0,4.0,40.0,27.0,8.0,3.0,11.0,24.0,25.0,28.0,25.0,27.0,25.0,0.0,58.0,3.0,4.0,2.0,34.0,5.0,3.0,46.0,22.0,8.0,17.0,4.0,12.0,40.0,16.0,41.0,8.0,14.0,2.0,59.0,45.0,52.0,33.0,51.0,38.0,14.0,42.0,28.0,34.0,21.0,30.0,null,26.0,23.0,20.0,59.0,37.0,32.0,37.0,27.0,42.0,29.0,2.0,10.0,0.0,21.0,8.0,null,27.0,13.0,49.0,38.0,21.0,22.0,14.0,24.0,24.0,34.0,1.0,null,26.0,null,32.0,2.0,10.0,49.0,14.0,29.0,25.0,36.0,22.0,21.0,36.0,54.0,30.0,0.0,1.0,42.0,47.0,25.0,18.0,22.0,27.0,24.0,null,22.0,60.0,38.0,23.0,21.0,55.0,20.0,50.0,22.0,21.0,26.0,36.0,46.0,26.0,24.0,14.0,46.0,15.0,30.0,null,38.0,48.0,31.0,41.0,43.0,23.0,48.0,47.0,19.0,25.0,28.0,16.0,45.0,31.0,19.0,21.0,null,22.0,23.0,54.0,0.0,4.0,23.0,19.0,34.0,18.0,40.0,58.0,39.0,23.0,11.0,43.0,29.0,36.0,13.0,54.0,45.0,33.0,46.0,15.0,35.0,23.0,15.0,27.0,15.0,27.0,16.0,37.0,45.0,58.0,null,38.0,28.0,47.0,41.0,28.0,23.0,24.0,58.0,36.0,24.0,56.0,15.0,19.0,27.0,47.0,37.0,39.0,20.0,20.0,38.0,46.0,13.0,24.0,32.0,null,44.0,19.0,30.0,23.0,4.0,0.0,17.0,44.0,31.0,41.0,33.0,43.0,43.0,36.0,19.0,24.0,17.0,23.0,17.0,18.0,34.0,13.0,66.0,27.0,19.0,55.0,40.0,23.0,7.0,12.0,37.0,22.0,25.0,46.0,37.0,50.0,28.0,26.0,28.0,23.0,23.0,34.0,65.0,20.0,29.0,30.0,3.0,40.0,32.0,31.0,13.0,29.0,28.0,19.0,24.0,22.0,13.0,21.0,24.0,47.0,27.0,18.0,36.0,68.0,31.0,28.0,36.0,17.0,13.0,30.0,58.0,43.0,20.0,29.0,15.0,30.0,33.0,25.0,62.0,41.0,27.0,18.0,27.0,19.0,37.0,24.0,29.0,44.0,19.0,39.0,63.0,39.0,41.0,27.0,56.0,22.0,26.0,24.0,18.0,13.0,32.0,30.0,25.0,55.0,19.0,24.0,32.0,24.0,32.0,36.0,28.0,52.0,29.0,23.0,32.0,35.0,41.0,16.0,33.0,6.0,15.0,38.0,56.0,4.0,21.0,22.0,37.0,6.0,22.0,26.0,22.0,20.0,null,24.0,25.0,48.0,24.0,3.0,24.0,25.0,1.0,20.0,22.0,28.0,17.0,28.0,47.0,34.0,29.0,14.0,36.0,40.0,49.0,51.0,41.0,44.0,47.0,22.0,13.0,18.0,28.0,22.0,50.0,47.0,55.0,21.0,39.0,21.0,37.0,31.0,23.0,28.0,23.0,20.0,28.0,40.0,54.0,18.0,27.0,43.0,25.0,13.0,15.0,37.0,32.0,19.0,21.0,27.0,39.0,22.0,25.0,34.0,54.0,42.0,36.0,43.0,23.0,57.0,54.0,51.0,32.0,33.0,8.0,44.0,27.0,48.0,13.0,5.0,18.0,23.0,23.0,35.0,25.0,32.0,0.0,5.0,16.0,18.0,29.0,55.0,41.0,38.0,27.0,55.0,75.0,50.0,23.0,37.0,33.0,45.0,47.0,13.0,29.0,19.0,30.0,39.0,31.0,29.0,16.0,18.0,38.0,50.0,21.0,22.0,20.0,36.0,23.0,31.0,39.0,50.0,40.0,28.0,38.0,37.0,59.0,41.0,33.0,54.0,40.0,43.0,26.0,65.0,22.0,28.0,35.0,30.0,28.0,23.0,24.0,16.0,18.0,20.0,29.0,29.0,21.0,2.0,43.0,28.0,31.0,23.0,26.0,43.0,28.0,24.0,27.0,13.0,27.0,2.0,24.0,2.0,50.0,27.0,26.0,31.0,28.0,4.0,9.0,0.0,35.0,3.0,25.0,63.0,34.0,35.0,26.0,39.0,34.0,36.0,46.0,26.0,28.0,20.0,35.0,11.0,14.0,4.0,11.0,31.0,15.0,39.0,7.0,24.0,22.0,26.0,53.0,40.0,19.0,54.0,21.0,25.0,48.0,41.0,13.0,57.0,25.0,48.0,34.0,16.0,0.0,15.0,37.0,37.0,49.0,18.0,25.0,null,43.0,20.0,54.0,30.0,37.0,30.0,20.0,20.0,24.0,44.0,0.0,15.0,19.0,20.0,20.0,34.0,17.0,20.0,42.0,28.0,43.0,55.0,21.0,17.0,54.0,25.0,null,45.0,31.0,19.0,30.0,24.0,null,42.0,29.0,37.0,64.0,24.0,23.0,22.0,23.0,21.0,37.0,17.0,35.0,33.0,37.0,32.0,31.0,null,34.0,9.0,25.0,29.0,1.0,30.0,64.0,31.0,27.0,null,25.0,28.0,32.0,36.0,26.0,36.0,37.0,45.0,22.0,24.0,23.0,31.0,37.0,28.0,23.0,14.0,40.0,42.0,53.0,46.0,28.0,25.0,34.0,58.0,31.0,24.0,52.0,25.0,17.0,27.0,29.0,45.0,28.0,25.0,57.0,68.0,26.0,52.0,36.0,41.0,14.0,16.0,24.0,62.0,26.0,45.0,41.0,36.0,13.0,48.0,null,22.0,39.0,45.0,42.0,33.0,27.0,47.0,20.0,32.0,54.0,23.0,9.0,17.0,26.0,38.0,24.0,30.0,2.0,4.0,9.0,30.0,5.0,2.0,32.0,53.0,46.0,2.0,1.0,11.0,3.0,33.0,3.0,38.0,21.0,41.0,64.0,27.0,41.0,19.0,42.0,30.0,38.0,63.0,17.0,2.0,19.0,37.0,50.0,38.0,28.0,35.0,27.0,15.0,29.0,65.0,27.0,0.0,21.0,19.0,39.0,60.0,30.0,30.0,40.0,26.0,38.0,22.0,null,65.0,61.0,20.0,24.0,16.0,35.0,21.0,23.0,17.0,24.0,27.0,26.0,26.0,20.0,28.0,37.0,23.0,49.0,50.0,4.0,32.0,44.0,20.0,30.0,29.0,22.0,35.0,0.0,6.0,38.0,34.0,34.0,null,53.0,28.0,31.0,56.0,36.0,30.0,32.0,44.0,54.0,24.0,44.0,25.0,35.0,29.0,22.0,22.0,22.0,18.0,22.0,52.0,0.0,1.0,34.0,6.0,22.0,31.0,31.0,20.0,25.0,23.0,53.0,32.0,27.0,48.0,37.0,21.0,29.0,46.0,19.0,22.0,54.0,43.0,18.0,36.0,20.0,63.0,50.0,13.0,43.0,16.0,31.0,0.0,10.0,10.0,55.0,18.0,7.0,1.0,44.0,27.0,20.0,49.0,22.0,21.0,26.0,65.0,20.0,0.0,16.0,22.0,0.0,21.0,30.0,14.0,45.0,22.0,21.0,37.0,29.0,29.0,21.0,52.0,36.0,59.0,21.0,25.0,23.0,36.0,38.0,0.0,19.0,30.0,23.0,55.0,44.0,30.0,39.0,19.0,24.0,37.0,24.0,17.0,17.0,14.0,13.0,35.0,32.0,18.0,21.0,25.0,36.0,20.0,22.0,27.0,null,38.0,23.0,21.0,18.0,20.0,28.0,57.0,10.0,23.0,22.0,24.0,52.0,31.0,15.0,40.0,18.0,28.0,40.0,32.0,35.0,52.0,34.0,46.0,23.0,44.0,59.0,42.0,18.0,29.0,15.0,19.0,49.0,19.0,36.0,59.0,24.0,4.0,20.0,24.0,31.0,23.0,3.0,22.0,20.0,0.0,13.0,47.0,51.0,22.0,3.0,4.0,16.0,24.0,1.0,31.0,34.0,20.0,19.0,19.0,35.0,3.0,36.0,20.0,null,58.0,56.0,27.0,25.0,39.0,43.0,42.0,24.0,19.0,32.0,32.0,61.0,64.0,21.0,26.0,35.0,43.0,3.0,56.0,45.0,25.0,12.0,2.0,46.0,32.0,20.0,24.0,28.0,12.0,11.0,16.0,29.0,24.0,22.0,21.0,38.0,35.0,79.0,22.0,42.0,34.0,52.0,43.0,30.0,35.0,18.0,27.0,46.0,15.0,44.0,20.0,35.0,19.0,47.0,26.0,24.0,23.0,26.0,5.0,35.0,18.0,32.0,13.0,15.0,18.0,41.0,36.0,33.0,41.0,47.0,32.0,36.0,13.0,34.0,24.0,16.0,12.0,24.0,35.0,26.0,39.0,18.0,23.0,29.0,38.0,31.0,49.0,17.0,23.0,15.0,11.0,30.0,42.0,21.0,41.0,14.0,27.0,29.0,25.0,54.0,46.0,18.0,22.0,29.0,26.0,36.0,19.0,56.0,20.0,10.0,14.0,27.0,35.0,13.0,21.0,22.0,29.0,32.0,20.0,44.0,22.0,39.0,19.0,0.0,0.0,12.0,7.0,32.0,11.0,18.0,49.0,61.0,7.0,25.0,51.0,56.0,31.0,16.0,29.0,17.0,47.0,25.0,28.0,32.0,56.0,25.0,13.0,41.0,28.0,25.0,11.0,20.0,24.0,41.0,29.0,59.0,31.0,16.0,65.0,21.0,27.0,37.0,42.0,36.0,24.0,null,19.0,26.0,19.0,26.0,35.0,24.0,9.0,40.0,23.0,4.0,20.0,21.0,4.0,19.0,18.0,26.0,13.0,16.0,14.0,40.0,34.0,21.0,29.0,40.0,16.0,37.0,41.0,16.0,39.0,30.0,40.0,63.0,32.0,47.0,23.0,23.0,19.0,44.0,29.0,21.0,23.0,26.0,47.0,20.0,48.0,4.0,25.0,0.0,29.0,21.0,20.0,34.0,9.0,12.0,13.0,27.0,34.0,18.0,16.0,43.0,0.0,20.0,45.0,35.0,21.0,14.0,46.0,22.0,2.0,3.0,28.0,60.0,48.0,18.0,31.0,26.0,41.0,26.0,29.0,24.0,25.0,0.0,30.0,18.0,32.0,28.0,21.0,25.0,47.0,null,8.0,24.0,30.0,24.0,13.0,16.0,23.0,16.0,29.0,46.0,13.0,22.0,29.0,46.0,24.0,33.0,38.0,57.0,null,38.0,28.0,25.0,22.0,33.0,35.0,24.0,31.0,16.0,28.0,8.0,20.0,26.0,43.0,70.0,17.0,14.0,21.0,37.0,15.0,20.0,36.0,14.0,21.0,28.0,20.0,26.0,25.0,29.0,39.0,18.0,37.0,28.0,18.0,30.0,35.0,26.0,0.0,42.0,36.0,31.0,27.0,25.0,32.0,14.0,16.0,51.0,21.0,31.0,9.0,7.0,3.0,2.0,7.0,18.0,33.0,23.0,13.0,32.0,27.0,23.0,25.0,18.0,23.0,31.0,32.0,22.0,38.0,21.0,28.0,38.0,20.0,23.0,48.0,15.0,30.0,40.0,36.0,20.0,17.0,38.0,38.0,14.0,null,21.0,18.0,26.0,35.0,46.0,13.0,39.0,49.0,28.0,27.0,21.0,29.0,27.0,38.0,18.0,35.0,37.0,60.0,31.0,4.0,34.0,46.0,18.0,38.0,29.0,13.0,26.0,30.0,42.0,36.0,23.0,34.0,26.0,31.0,48.0,10.0,27.0,32.0,24.0,20.0,48.0,35.0,14.0,28.0,null,42.0,8.0,30.0,44.0,40.0,38.0,22.0,32.0,16.0,33.0,38.0,23.0,16.0,16.0,11.0,22.0,43.0,20.0,22.0,0.0,30.0,18.0,0.0,41.0,39.0,37.0,26.0,49.0,28.0,13.0,64.0,24.0,18.0,18.0,25.0,19.0,33.0,null,50.0,30.0,44.0,52.0,7.0,30.0,27.0,24.0,13.0,61.0,32.0,17.0,36.0,16.0,21.0,24.0,28.0,null,13.0,39.0,24.0,38.0,20.0,21.0,27.0,49.0,6.0,41.0,33.0,6.0,35.0,46.0,31.0,32.0,31.0,20.0,57.0,37.0,21.0,43.0,49.0,17.0,29.0,36.0,37.0,17.0,45.0,20.0,24.0,28.0,15.0,53.0,51.0,14.0,1.0,26.0,20.0,23.0,22.0,22.0,13.0,28.0,40.0,21.0,35.0,22.0,37.0,21.0,50.0,27.0,20.0,15.0,25.0,31.0,null,18.0,2.0,27.0,0.0,22.0,null,56.0,28.0,42.0,20.0,27.0,29.0,36.0,23.0,64.0,19.0,1.0,49.0,0.0,18.0,39.0,37.0,44.0,43.0,33.0,20.0,0.0,4.0,20.0,50.0,47.0,17.0,26.0,21.0,20.0,26.0,null,34.0,11.0,0.0,28.0,33.0,22.0,28.0,11.0,60.0,43.0,27.0,37.0,23.0,57.0,29.0,28.0,42.0,43.0,26.0,72.0,49.0,29.0,18.0,26.0,19.0,18.0,14.0,44.0,34.0,18.0,36.0,27.0,35.0,52.0,22.0,34.0,37.0,22.0,26.0,14.0,53.0,17.0,30.0,65.0,19.0,36.0,3.0,6.0,4.0,21.0,8.0,35.0,18.0,34.0,45.0,31.0,14.0,23.0,61.0,54.0,28.0,46.0,32.0,49.0,20.0,25.0,19.0,28.0,68.0,16.0,19.0,49.0,15.0,26.0,22.0,23.0,31.0,27.0,28.0,20.0,43.0,22.0,27.0,35.0,37.0,24.0,18.0,15.0,28.0,24.0,39.0,35.0,52.0,48.0,27.0,50.0,24.0,26.0,24.0,15.0,42.0,51.0,43.0,31.0,14.0,31.0,33.0,21.0,13.0,29.0,22.0,22.0,18.0,35.0,20.0,18.0,66.0,33.0,48.0,38.0,62.0,19.0,44.0,25.0,15.0,20.0,34.0,23.0,45.0,39.0,33.0,14.0,26.0,47.0,null,28.0,22.0,17.0,16.0,9.0,15.0,33.0,61.0,19.0,61.0,42.0,4.0,12.0,0.0,19.0,null,29.0,59.0,20.0,70.0,3.0,37.0,58.0,44.0,24.0,20.0,24.0,27.0,28.0,24.0,29.0,25.0,20.0,34.0,28.0,null,23.0,39.0,35.0,18.0,20.0,42.0,32.0,50.0,23.0,19.0,29.0,35.0,18.0,24.0,23.0,51.0,42.0,19.0,23.0,19.0,22.0,25.0,31.0,23.0,22.0,55.0,40.0,24.0,25.0,42.0,33.0,54.0,22.0,22.0,19.0,47.0,23.0,61.0,21.0,46.0,36.0,15.0,33.0,35.0,21.0,21.0,43.0,34.0,47.0,27.0,46.0,46.0,40.0,59.0,45.0,19.0,32.0,39.0,40.0,44.0,26.0,22.0,2.0,18.0,53.0,22.0,46.0,28.0,31.0,36.0,46.0,0.0,3.0,12.0,2.0,41.0,11.0,41.0,17.0,21.0,21.0,27.0,54.0,15.0,39.0,31.0,28.0,21.0,29.0,45.0,44.0,12.0,18.0,20.0,43.0,46.0,53.0,21.0,23.0,9.0,19.0,52.0,31.0,62.0,27.0,23.0,28.0,27.0,58.0,24.0,27.0,33.0,28.0,39.0,27.0,36.0,64.0,41.0,null,27.0,null,22.0,23.0,40.0,2.0,0.0,27.0,0.0,17.0,45.0,62.0,14.0,24.0,51.0,49.0,52.0,35.0,22.0,17.0,47.0,25.0,11.0,17.0,41.0,55.0,29.0,19.0,23.0,32.0,27.0,25.0,24.0,30.0,50.0,51.0,27.0,35.0,48.0,27.0,19.0,18.0,25.0,41.0,62.0,30.0,6.0,15.0,34.0,34.0,23.0,51.0,63.0,42.0,19.0,5.0,2.0,15.0,36.0,32.0,19.0,26.0,33.0,38.0,22.0,32.0,30.0,51.0,29.0,16.0,32.0,24.0,23.0,46.0,49.0,17.0,35.0,43.0,20.0,24.0,28.0,19.0,39.0,34.0,29.0,14.0,null,30.0,null,32.0,7.0,34.0,47.0,19.0,52.0,19.0,18.0,32.0,21.0,22.0,13.0,25.0,33.0,27.0,21.0,17.0,15.0,58.0,29.0,34.0,28.0,29.0,25.0,23.0,22.0,38.0,38.0,0.0,null,0.0,37.0,2.0,40.0,47.0,34.0,43.0,21.0,43.0,33.0,28.0,57.0,null,46.0,19.0,27.0,2.0,0.0,25.0,47.0,38.0,24.0,24.0,25.0,29.0,44.0,20.0,23.0,26.0,20.0,27.0,23.0,33.0,30.0,32.0,19.0,41.0,50.0,36.0,21.0,45.0,26.0,44.0,24.0,15.0,58.0,13.0,19.0,25.0,24.0,20.0,34.0,13.0,null,39.0,0.0,10.0,9.0,34.0,11.0,0.0,24.0,16.0,42.0,41.0,36.0,27.0,32.0,11.0,26.0,28.0,25.0,5.0,null,13.0,30.0,15.0,0.0,49.0,52.0,15.0,40.0,0.0,32.0,15.0,26.0,31.0,8.0,18.0,3.0,44.0,15.0,27.0,22.0,2.0,32.0,16.0,34.0,32.0,28.0,27.0,35.0,25.0,24.0,61.0,28.0,29.0,41.0,20.0,18.0,28.0,18.0,33.0,35.0,68.0,19.0,33.0,55.0,15.0,23.0,23.0,15.0,49.0,33.0,26.0,26.0,18.0,17.0,39.0,8.0,46.0,32.0,19.0,36.0,28.0,39.0,16.0,7.0,1.0,30.0,44.0,28.0,29.0,41.0,13.0,18.0,27.0,26.0,24.0,26.0,27.0,58.0,54.0,18.0,13.0,13.0,28.0,57.0,32.0,32.0,21.0,34.0,33.0,36.0,50.0,28.0,56.0,42.0,39.0,13.0,28.0,55.0,36.0,null,37.0,50.0,27.0,23.0,16.0,33.0,46.0,26.0,24.0,26.0,2.0,33.0,32.0,3.0,2.0,6.0,null,0.0,4.0,58.0,22.0,51.0,37.0,17.0,21.0,null,null,31.0,43.0,null,15.0,18.0,33.0,31.0,41.0,22.0,40.0,49.0,14.0,22.0,22.0,25.0,42.0,16.0,12.0,18.0,33.0,14.0,36.0,23.0,24.0,4.0,null,18.0,21.0,27.0,34.0,28.0,35.0,16.0,36.0,30.0,4.0,19.0,3.0,51.0,null,45.0,18.0,23.0,15.0,34.0,47.0,27.0,26.0,25.0,34.0,27.0,39.0,31.0,4.0,19.0,59.0,19.0,25.0,28.0,37.0,43.0,18.0,36.0,14.0,42.0,29.0,23.0,16.0,8.0,20.0,50.0,38.0,39.0,33.0,30.0,40.0,22.0,52.0,26.0,19.0,33.0,33.0,20.0,28.0,10.0,23.0,28.0,23.0,54.0,57.0,24.0,37.0,59.0,53.0,22.0,18.0,17.0,25.0,18.0,20.0,24.0,33.0,34.0,24.0,37.0,23.0,32.0,13.0,23.0,23.0,27.0,47.0,38.0,28.0,21.0,null,64.0,43.0,21.0,36.0,22.0,24.0,21.0,57.0,46.0,42.0,16.0,40.0,3.0,8.0,3.0,35.0,12.0,null,47.0,19.0,46.0,28.0,5.0,7.0,3.0,1.0,7.0,60.0,34.0,28.0,64.0,13.0,15.0,65.0,53.0,58.0,19.0,null,16.0,48.0,33.0,31.0,44.0,40.0,34.0,21.0,20.0,9.0,33.0,2.0,53.0,0.0,38.0,21.0,31.0,7.0,12.0,0.0,17.0,55.0,2.0,32.0,16.0,0.0,29.0,25.0,39.0,42.0,0.0,14.0,29.0,54.0,35.0,null,18.0,14.0,53.0,48.0,21.0,44.0,25.0,0.0,27.0,40.0,44.0,36.0,3.0,9.0,1.0,17.0,47.0,null,33.0,16.0,30.0,18.0,26.0,19.0,28.0,35.0,40.0,26.0,45.0,18.0,54.0,13.0,26.0,16.0,37.0,17.0,16.0,18.0,21.0,24.0,22.0,41.0,15.0,36.0,23.0,31.0,19.0,23.0,47.0,40.0,34.0,2.0,8.0,0.0,18.0,11.0,18.0,19.0,2.0,25.0,0.0,27.0,34.0,19.0,22.0,22.0,52.0,30.0,65.0,31.0,51.0,21.0,27.0,31.0,28.0,29.0,23.0,11.0,23.0,34.0,20.0,20.0,16.0,18.0,20.0,20.0,27.0,55.0,53.0,37.0,55.0,24.0,24.0,49.0,17.0,39.0,5.0,10.0,1.0,16.0,51.0,5.0,19.0,0.0,20.0,0.0,1.0,38.0,40.0,18.0,36.0,23.0,42.0,37.0,24.0,12.0,2.0,28.0,44.0,26.0,36.0,28.0,14.0,14.0,28.0,27.0,21.0,24.0,18.0,24.0,8.0,36.0,32.0,19.0,12.0,21.0,13.0,20.0,35.0,23.0,17.0,29.0,27.0,22.0,26.0,1.0,7.0,78.0,24.0,26.0,50.0,16.0,57.0,29.0,27.0,42.0,28.0,18.0,38.0,32.0,21.0,6.0,27.0,32.0,23.0,29.0,22.0,31.0,0.0,2.0,null,28.0,20.0,28.0,42.0,32.0,19.0,20.0,20.0,21.0,32.0,16.0,21.0,12.0,21.0,31.0,18.0,35.0,44.0,13.0,21.0,37.0,null,34.0,21.0,38.0,31.0,61.0,20.0,39.0,29.0,68.0,38.0,31.0,41.0,29.0,25.0,27.0,21.0,30.0,40.0,59.0,35.0,41.0,36.0,58.0,27.0,24.0,50.0,22.0,26.0,16.0,56.0,25.0,13.0,53.0,21.0,18.0,38.0,20.0,24.0,56.0,47.0,21.0,null,26.0,34.0,35.0,35.0,49.0,24.0,62.0,25.0,42.0,25.0,21.0,17.0,41.0,50.0,20.0,15.0,29.0,20.0,35.0,22.0,43.0,54.0,15.0,38.0,44.0,34.0,15.0,24.0,29.0,19.0,27.0,26.0,46.0,64.0,17.0,45.0,27.0,29.0,18.0,26.0,39.0,59.0,20.0,17.0,47.0,29.0,16.0,48.0,39.0,28.0,12.0,24.0,30.0,34.0,37.0,47.0,0.0,23.0,0.0,20.0,35.0,18.0,17.0,18.0,53.0,35.0,48.0,68.0,27.0,28.0,37.0,35.0,31.0,14.0,1.0,4.0,30.0,11.0,45.0,29.0,32.0,15.0,25.0,25.0,60.0,24.0,35.0,36.0,22.0,32.0,57.0,30.0,46.0,28.0,26.0,55.0,66.0,20.0,31.0,13.0,50.0,21.0,25.0,46.0,0.0,2.0,36.0,19.0,35.0,41.0,22.0,25.0,24.0,37.0,5.0,null,41.0,44.0,23.0,28.0,27.0,40.0,27.0,17.0,32.0,29.0,29.0,41.0,48.0,27.0,14.0,32.0,47.0,14.0,37.0,33.0,33.0,44.0,37.0,18.0,33.0,21.0,38.0,16.0,58.0,41.0,28.0,28.0,31.0,27.0,7.0,25.0,34.0,21.0,29.0,23.0,31.0,50.0,25.0,25.0,23.0,46.0,0.0,53.0,25.0,30.0,18.0,20.0,54.0,20.0,32.0,31.0,55.0,16.0,0.0,3.0,33.0,45.0,6.0,33.0,14.0,24.0,47.0,37.0,14.0,44.0,11.0,15.0,39.0,15.0,60.0,49.0,23.0,9.0,0.0,17.0,42.0,16.0,0.0,26.0,56.0,26.0,41.0,27.0,31.0,40.0,40.0,15.0,50.0,42.0,50.0,39.0,27.0,20.0,30.0,16.0,36.0,68.0,22.0,36.0,3.0,28.0,32.0,10.0,0.0,9.0,37.0,31.0,31.0,43.0,15.0,58.0,30.0,24.0,49.0,73.0,14.0,50.0,12.0,2.0,49.0,32.0,null,33.0,23.0,23.0,43.0,36.0,26.0,29.0,21.0,30.0,23.0,13.0,22.0,25.0,52.0,22.0,31.0,23.0,35.0,26.0,14.0,39.0,8.0,29.0,15.0,48.0,9.0,25.0,13.0,25.0,27.0,32.0,20.0,40.0,18.0,21.0,38.0,62.0,23.0,48.0,27.0,32.0,53.0,26.0,46.0,32.0,40.0,27.0,28.0,29.0,37.0,0.0,12.0,25.0,null,3.0,9.0,27.0,59.0,24.0,16.0,16.0,46.0,25.0,39.0,15.0,16.0,35.0,43.0,7.0,29.0,60.0,49.0,50.0,40.0,49.0,18.0,29.0,56.0,29.0,29.0,22.0,24.0,23.0,28.0,19.0,32.0,37.0,26.0,43.0,25.0,11.0,4.0,32.0,15.0,17.0,37.0,20.0,47.0,16.0,8.0,22.0,39.0,57.0,29.0,null,70.0,13.0,49.0,25.0,19.0,15.0,37.0,null,28.0,22.0,26.0,25.0,19.0,20.0,35.0,37.0,37.0,13.0,20.0,65.0,29.0,0.0,4.0,19.0,17.0,28.0,28.0,21.0,45.0,21.0,20.0,38.0,24.0,22.0,44.0,41.0,21.0,26.0,54.0,19.0,32.0,null,26.0,28.0,21.0,38.0,43.0,12.0,25.0,27.0,22.0,20.0,24.0,34.0,42.0,24.0,28.0,29.0,31.0,29.0,14.0,16.0,16.0,27.0,null,23.0,16.0,30.0,24.0,36.0,25.0,29.0,21.0,26.0,30.0,31.0,20.0,null,33.0,35.0,46.0,63.0,37.0,23.0,5.0,16.0,20.0,49.0,3.0,41.0,null,14.0,26.0,51.0,36.0,16.0,18.0,48.0,24.0,19.0,21.0,24.0,21.0,13.0,39.0,27.0,23.0,43.0,19.0,30.0,52.0,35.0,16.0,21.0,45.0,22.0,null,0.0,63.0,56.0,40.0,1.0,24.0,36.0,13.0,13.0,37.0,44.0,32.0,57.0,26.0,62.0,2.0,1.0,24.0,1.0,63.0,20.0,15.0,32.0,24.0,32.0,36.0,13.0,29.0,27.0,30.0,27.0,14.0,32.0,33.0,35.0,21.0,57.0,42.0,20.0,18.0,49.0,23.0,24.0,24.0,23.0,24.0,26.0,28.0,17.0,20.0,22.0,23.0,22.0,29.0,null,31.0,37.0,44.0,34.0,23.0,18.0,18.0,23.0,18.0,22.0,10.0,null,31.0,48.0,51.0,25.0,32.0,8.0,49.0,28.0,3.0,null,31.0,11.0,27.0,33.0,32.0,20.0,33.0,65.0,18.0,19.0,33.0,null,31.0,37.0,19.0,18.0,47.0,26.0,25.0,38.0,53.0,38.0,28.0,46.0,18.0,14.0,32.0,44.0,28.0,2.0,28.0,27.0,29.0,14.0,14.0,17.0,35.0,36.0,51.0,54.0,37.0,37.0,24.0,null,38.0,28.0,0.0,16.0,25.0,22.0,24.0,37.0,21.0,53.0,0.0,2.0,64.0,24.0,40.0,32.0,54.0,30.0,37.0,20.0,22.0,57.0,34.0,51.0,47.0,22.0,36.0,16.0,60.0,39.0,18.0,30.0,45.0,30.0,21.0,0.0,51.0,22.0,26.0,10.0,21.0,14.0,null,43.0,22.0,22.0,23.0,25.0,35.0,30.0,37.0,21.0,36.0,13.0,22.0,36.0,17.0,38.0,34.0,20.0,17.0,36.0,52.0,32.0,35.0,null,36.0,36.0,21.0,33.0,40.0,24.0,35.0,29.0,33.0,51.0,10.0,41.0,26.0,39.0,14.0,28.0,18.0,41.0,33.0,26.0,31.0,63.0,30.0,27.0,47.0,37.0,14.0,27.0,61.0,39.0,22.0,30.0,26.0,25.0,42.0,33.0,60.0,16.0,50.0,22.0,15.0,27.0,58.0,48.0,36.0,60.0,46.0,58.0,40.0,3.0,23.0,21.0,29.0,23.0,41.0,20.0,24.0,21.0,55.0,21.0,42.0,40.0,30.0,26.0,43.0,20.0,19.0,40.0,17.0,62.0,32.0,37.0,40.0,25.0,17.0,46.0,38.0,43.0,28.0,31.0,35.0,19.0,24.0,20.0,16.0,45.0,19.0,23.0,19.0,32.0,41.0,30.0,41.0,7.0,39.0,47.0,21.0,29.0,19.0,50.0,28.0,38.0,24.0,31.0,38.0,26.0,28.0,45.0,47.0,60.0,42.0,43.0,17.0,17.0,20.0,18.0,24.0,25.0,20.0,23.0,48.0,26.0,36.0,27.0,41.0,21.0,71.0,64.0,33.0,24.0,35.0,13.0,11.0,null,43.0,36.0,22.0,56.0,34.0,46.0,43.0,25.0,26.0,14.0,63.0,29.0,45.0,15.0,19.0,53.0,45.0,41.0,68.0,5.0,27.0,20.0,54.0,18.0,45.0,26.0,37.0,30.0,51.0,3.0,3.0,19.0,19.0,6.0,4.0,23.0,37.0,18.0,29.0,25.0,52.0,24.0,0.0,25.0,26.0,32.0,58.0,44.0,41.0,24.0,41.0,23.0,27.0,61.0,18.0,18.0,null,15.0,12.0,40.0,19.0,18.0,48.0,37.0,35.0,29.0,54.0,null,22.0,18.0,26.0,19.0,22.0,17.0,18.0,39.0,37.0,17.0,25.0,9.0,15.0,19.0,18.0,50.0,14.0,19.0,33.0,23.0,39.0,14.0,14.0,45.0,22.0,36.0,19.0,59.0,31.0,31.0,39.0,28.0,19.0,29.0,0.0,15.0,18.0,49.0,36.0,40.0,56.0,67.0,44.0,17.0,27.0,23.0,28.0,54.0,26.0,40.0,39.0,40.0,20.0,18.0,17.0,35.0,31.0,40.0,50.0,21.0,29.0,63.0,19.0,36.0,48.0,33.0,28.0,39.0,27.0,58.0,44.0,23.0,21.0,53.0,14.0,17.0,25.0,44.0,24.0,24.0,24.0,0.0,7.0,3.0,18.0,4.0,40.0,16.0,25.0,10.0,40.0,19.0,15.0,24.0,21.0,29.0,37.0,49.0,42.0,54.0,33.0,27.0,53.0,28.0,24.0,20.0,0.0,24.0,28.0,42.0,32.0,36.0,40.0,30.0,34.0,37.0,41.0,25.0,39.0,0.0,54.0,16.0,0.0,13.0,46.0,23.0,18.0,27.0,24.0,27.0,24.0,25.0,30.0,19.0,18.0,49.0,64.0,26.0,53.0,27.0,27.0,25.0,33.0,27.0,20.0,39.0,27.0,19.0,22.0,3.0,24.0,41.0,18.0,63.0,19.0,39.0,null,41.0,44.0,39.0,29.0,37.0,41.0,18.0,null,55.0,21.0,28.0,43.0,32.0,23.0,5.0,14.0,24.0,22.0,14.0,20.0,17.0,20.0,22.0,15.0,67.0,28.0,57.0,21.0,34.0,17.0,33.0,33.0,28.0,18.0,28.0,13.0,38.0,39.0,18.0,43.0,32.0,29.0,45.0,25.0,64.0,18.0,44.0,15.0,21.0,33.0,3.0,19.0,37.0,24.0,26.0,26.0,26.0,22.0,26.0,27.0,27.0,37.0,22.0,24.0,23.0,18.0,28.0,4.0,23.0,2.0,46.0,0.0,16.0,19.0,34.0,34.0,24.0,28.0,44.0,35.0,20.0,18.0,43.0,48.0,46.0,75.0,24.0,34.0,29.0,46.0,22.0,42.0,46.0,15.0,42.0,31.0,9.0,34.0,21.0,16.0,40.0,23.0,6.0,17.0,37.0,30.0,32.0,41.0,43.0,17.0,37.0,18.0,1.0,38.0,25.0,6.0,1.0,7.0,24.0,19.0,26.0,49.0,18.0,25.0,46.0,33.0,10.0,38.0,23.0,26.0,16.0,29.0,35.0,58.0,17.0,16.0,2.0,13.0,18.0,29.0,21.0,43.0,69.0,40.0,1.0,36.0,60.0,17.0,49.0,23.0,39.0,53.0,26.0,31.0,48.0,26.0,25.0,25.0,30.0,null,23.0,24.0,47.0,37.0,24.0,21.0,42.0,39.0,28.0,32.0,31.0,13.0,41.0,21.0,null,9.0,36.0,30.0,27.0,40.0,41.0,16.0,36.0,15.0,39.0,21.0,24.0,28.0,47.0,55.0,null,22.0,26.0,62.0,53.0,29.0,21.0,18.0,34.0,19.0,14.0,21.0,55.0,18.0,33.0,35.0,31.0,27.0,null,13.0,24.0,22.0,32.0,18.0,53.0,4.0,24.0,23.0,1.0,18.0,21.0,40.0,49.0,25.0,21.0,40.0,47.0,25.0,36.0,39.0,26.0,0.0,14.0,7.0,50.0,22.0,17.0,35.0,22.0,26.0,24.0,59.0,24.0,17.0,28.0,38.0,2.0,36.0,32.0,15.0,54.0,18.0,22.0,23.0,14.0,26.0,73.0,29.0,29.0,12.0,27.0,31.0,26.0,35.0,25.0,40.0,18.0,52.0,35.0,51.0,35.0,14.0,null,26.0,21.0,45.0,29.0,39.0,37.0,22.0,22.0,30.0,1.0,0.0,9.0,18.0,29.0,52.0,27.0,54.0,28.0,65.0,26.0,29.0,20.0,39.0,37.0,20.0,40.0,0.0,33.0,23.0,32.0,20.0,60.0,53.0,26.0,35.0,19.0,43.0,29.0,20.0,19.0,21.0,39.0,12.0,20.0,18.0,31.0,35.0,44.0,62.0,23.0,23.0,19.0,29.0,31.0,33.0,41.0,60.0,41.0,69.0,44.0,18.0,26.0,30.0,34.0,18.0,49.0,71.0,19.0,23.0,31.0,40.0,28.0,17.0,24.0,54.0,21.0,2.0,20.0,20.0,36.0,25.0,58.0,37.0,26.0,45.0,44.0,24.0,13.0,4.0,24.0,27.0,39.0,23.0,4.0,0.0,22.0,27.0,22.0,26.0,60.0,18.0,20.0,25.0,24.0,38.0,18.0,45.0,13.0,28.0,5.0,20.0,2.0,42.0,0.0,18.0,26.0,3.0,49.0,19.0,19.0,15.0,53.0,0.0,39.0,45.0,10.0,1.0,9.0,40.0,26.0,18.0,47.0,31.0,null,23.0,32.0,32.0,21.0,null,22.0,18.0,28.0,38.0,46.0,44.0,38.0,28.0,31.0,18.0,18.0,4.0,0.0,0.0,23.0,35.0,43.0,18.0,18.0,18.0,49.0,19.0,22.0,4.0,0.0,null,39.0,36.0,53.0,23.0,24.0,25.0,30.0,20.0,40.0,18.0,57.0,47.0,26.0,29.0,32.0,30.0,18.0,49.0,33.0,18.0,29.0,34.0,43.0,18.0,31.0,15.0,3.0,37.0,1.0,27.0,15.0,33.0,65.0,19.0,30.0,37.0,15.0,19.0,20.0,19.0,21.0,20.0,18.0,27.0,23.0,25.0,72.0,35.0,29.0,11.0,7.0,null,28.0,41.0,null,19.0,8.0,4.0,38.0,21.0,18.0,10.0,29.0,25.0,40.0,19.0,38.0,19.0,0.0,4.0,29.0,46.0,32.0,26.0,23.0,32.0,31.0,34.0,45.0,61.0,21.0,null,15.0,14.0,18.0,39.0,62.0,40.0,21.0,12.0,27.0,28.0,0.0,17.0,23.0,6.0,29.0,41.0,27.0,34.0,36.0,30.0,30.0,29.0,21.0,21.0,18.0,11.0,65.0,25.0,0.0,24.0,19.0,23.0,45.0,52.0,55.0,24.0,31.0,18.0,22.0,39.0,19.0,33.0,14.0,30.0,30.0,21.0,45.0,17.0,39.0,22.0,37.0,48.0,33.0,37.0,27.0,29.0,38.0,16.0,18.0,null,47.0,15.0,13.0,19.0,17.0,31.0,19.0,25.0,26.0,25.0,2.0,7.0,2.0,19.0,1.0,4.0,49.0,61.0,57.0,52.0,22.0,37.0,15.0,28.0,40.0,13.0,24.0,25.0,25.0,43.0,46.0,3.0,3.0,3.0,8.0,57.0,11.0,20.0,27.0,20.0,14.0,24.0,21.0,33.0,32.0,22.0,15.0,41.0,31.0,35.0,48.0,15.0,37.0,21.0,34.0,19.0,52.0,15.0,24.0,45.0,13.0,18.0,19.0,20.0,20.0,27.0,22.0,17.0,23.0,29.0,24.0,26.0,36.0,25.0,36.0,32.0,16.0,32.0,48.0,25.0,46.0,32.0,50.0,31.0,27.0,52.0,34.0,40.0,36.0,19.0,33.0,23.0,57.0,24.0,19.0,54.0,28.0,26.0,43.0,39.0,21.0,24.0,35.0,61.0,21.0,14.0,38.0,23.0,31.0,66.0,56.0,21.0,49.0,21.0,27.0,23.0,27.0,49.0,38.0,60.0,47.0,29.0,19.0,32.0,22.0,35.0,28.0,22.0,42.0,37.0,31.0,33.0,48.0,31.0,18.0,44.0,22.0,18.0,48.0,2.0,0.0,43.0,51.0,48.0,51.0,20.0,41.0,27.0,56.0,26.0,21.0,null,23.0,28.0,40.0,39.0,16.0,20.0,24.0,45.0,33.0,19.0,15.0,18.0,21.0,37.0,53.0,19.0,17.0,58.0,18.0,25.0,39.0,40.0,27.0,3.0,18.0,18.0,29.0,22.0,34.0,19.0,26.0,33.0,34.0,18.0,40.0,53.0,8.0,54.0,29.0,56.0,21.0,25.0,33.0,22.0,50.0,24.0,25.0,59.0,26.0,19.0,37.0,22.0,44.0,25.0,23.0,6.0,39.0,26.0,14.0,3.0,21.0,24.0,18.0,37.0,21.0,67.0,28.0,13.0,26.0,33.0,18.0,24.0,26.0,21.0,27.0,15.0,24.0,31.0,10.0,23.0,50.0,13.0,43.0,20.0,21.0,18.0,16.0,47.0,35.0,15.0,46.0,6.0,26.0,49.0,28.0,37.0,17.0,38.0,18.0,55.0,28.0,25.0,17.0,22.0,4.0,3.0,21.0,24.0,50.0,3.0,19.0,22.0,20.0,18.0,27.0,29.0,23.0,48.0,32.0,55.0,49.0,15.0,50.0,35.0,29.0,38.0,29.0,39.0,49.0,39.0,19.0,19.0,14.0,40.0,40.0,20.0,6.0,41.0,37.0,31.0,8.0,55.0,16.0,29.0,40.0,27.0,21.0,25.0,44.0,34.0,1.0,1.0,42.0,18.0,21.0,24.0,null,18.0,27.0,13.0,10.0,8.0,40.0,35.0,13.0,19.0,44.0,36.0,29.0,28.0,36.0,24.0,14.0,50.0,20.0,38.0,33.0,54.0,20.0,23.0,65.0,51.0,36.0,38.0,28.0,32.0,55.0,23.0,38.0,18.0,32.0,44.0,62.0,66.0,20.0,19.0,null,25.0,20.0,18.0,20.0,14.0,49.0,49.0,19.0,53.0,31.0,18.0,24.0,35.0,27.0,38.0,23.0,22.0,38.0,28.0,25.0,45.0,22.0,30.0,25.0,24.0,44.0,6.0,0.0,14.0,37.0,15.0,0.0,17.0,58.0,15.0,53.0,29.0,24.0,40.0,21.0,30.0,20.0,20.0,18.0,36.0,20.0,4.0,59.0,20.0,4.0,23.0,25.0,20.0,22.0,6.0,14.0,0.0,4.0,37.0,14.0,34.0,3.0,18.0,27.0,19.0,37.0,29.0,37.0,32.0,22.0,38.0,24.0,63.0,23.0,41.0,20.0,48.0,44.0,15.0,29.0,64.0,19.0,28.0,44.0,13.0,45.0,25.0,19.0,29.0,21.0,13.0,25.0,46.0,37.0,19.0,29.0,21.0,13.0,15.0,42.0,null,26.0,19.0,18.0,50.0,28.0,24.0,31.0,19.0,20.0,23.0,19.0,27.0,16.0,76.0,41.0,24.0,12.0,28.0,36.0,20.0,7.0,21.0,33.0,32.0,34.0,38.0,null,28.0,25.0,24.0,18.0,24.0,30.0,38.0,39.0,31.0,33.0,15.0,23.0,24.0,44.0,22.0,28.0,34.0,8.0,26.0,29.0,58.0,4.0,1.0,17.0,27.0,24.0,16.0,28.0,23.0,33.0,24.0,6.0,19.0,31.0,19.0,18.0,35.0,32.0,19.0,24.0,33.0,20.0,27.0,26.0,28.0,19.0,24.0,52.0,23.0,23.0,25.0,22.0,35.0,24.0,24.0,26.0,37.0,14.0,36.0,0.0,17.0,18.0,43.0,21.0,34.0,57.0,18.0,73.0,31.0,25.0,20.0,24.0,null,21.0,22.0,39.0,26.0,32.0,1.0,7.0,4.0,21.0,12.0,28.0,0.0,18.0,52.0,18.0,51.0,21.0,28.0,34.0,13.0,35.0,27.0,35.0,51.0,53.0,29.0,41.0,47.0,22.0,19.0,22.0,25.0,null,17.0,0.0,5.0,30.0,17.0,53.0,9.0,17.0,16.0,29.0,29.0,46.0,27.0,39.0,15.0,30.0,41.0,47.0,32.0,15.0,23.0,20.0,33.0,18.0,31.0,25.0,19.0,32.0,45.0,43.0,21.0,48.0,0.0,29.0,41.0,23.0,48.0,18.0,30.0,26.0,18.0,27.0,58.0,22.0,17.0,28.0,27.0,51.0,37.0,14.0,43.0,27.0,60.0,33.0,39.0,21.0,21.0,28.0,30.0,42.0,25.0,25.0,25.0,54.0,41.0,36.0,33.0,36.0,55.0,16.0,28.0,26.0,42.0,30.0,31.0,22.0,26.0,25.0,44.0,29.0,22.0,23.0,30.0,23.0,13.0,53.0,0.0,27.0,27.0,10.0,2.0,5.0,24.0,32.0,22.0,22.0,44.0,55.0,22.0,8.0,15.0,1.0,9.0,48.0,16.0,27.0,3.0,25.0,70.0,30.0,57.0,42.0,14.0,43.0,34.0,21.0,32.0,21.0,25.0,25.0,38.0,36.0,44.0,37.0,47.0,38.0,28.0,38.0,53.0,26.0,13.0,64.0,16.0,13.0,55.0,26.0,23.0,55.0,50.0,26.0,36.0,33.0,21.0,41.0,33.0,23.0,31.0,28.0,13.0,null,35.0,25.0,19.0,56.0,18.0,22.0,34.0,11.0,37.0,22.0,45.0,19.0,39.0,28.0,36.0,1.0,10.0,12.0,31.0,12.0,3.0,30.0,41.0,19.0,38.0,36.0,0.0,20.0,23.0,35.0,36.0,41.0,38.0,33.0,54.0,33.0,54.0,32.0,24.0,53.0,26.0,31.0,18.0,39.0,37.0,35.0,34.0,28.0,43.0,2.0,24.0,18.0,21.0,24.0,35.0,53.0,32.0,44.0,33.0,40.0,31.0,23.0,44.0,41.0,31.0,30.0,33.0,30.0,26.0,22.0,37.0,15.0,52.0,35.0,40.0,60.0,24.0,31.0,43.0,9.0,51.0,25.0,20.0,22.0,21.0,50.0,24.0,45.0,22.0,7.0,11.0,1.0,0.0,8.0,36.0,2.0,0.0,22.0,41.0,49.0,30.0,37.0,14.0,30.0,62.0,13.0,32.0,33.0,38.0,29.0,25.0,26.0,19.0,16.0,61.0,28.0,13.0,44.0,22.0,30.0,21.0,20.0,31.0,33.0,26.0,21.0,23.0,0.0,32.0,30.0,41.0,18.0,26.0,32.0,44.0],\"xaxis\":\"x2\",\"yaxis\":\"y2\",\"type\":\"box\"},{\"alignmentgroup\":\"True\",\"bingroup\":\"x\",\"hovertemplate\":\"type=Test<br>Age=%{x}<br>count=%{y}<extra></extra>\",\"legendgroup\":\"Test\",\"marker\":{\"color\":\"#DE3163\",\"pattern\":{\"shape\":\"\"}},\"name\":\"Test\",\"nbinsx\":100,\"offsetgroup\":\"Test\",\"orientation\":\"v\",\"showlegend\":true,\"x\":[27.0,19.0,31.0,38.0,20.0,31.0,21.0,20.0,23.0,24.0,19.0,45.0,44.0,46.0,21.0,27.0,20.0,44.0,29.0,40.0,30.0,14.0,31.0,27.0,66.0,24.0,19.0,36.0,21.0,18.0,26.0,19.0,48.0,23.0,24.0,19.0,24.0,27.0,6.0,33.0,23.0,30.0,null,1.0,20.0,17.0,34.0,24.0,29.0,20.0,5.0,22.0,16.0,7.0,36.0,26.0,40.0,29.0,2.0,23.0,0.0,30.0,56.0,36.0,56.0,19.0,39.0,38.0,null,35.0,26.0,31.0,38.0,27.0,30.0,22.0,29.0,0.0,8.0,3.0,27.0,9.0,29.0,18.0,22.0,24.0,25.0,36.0,14.0,24.0,26.0,29.0,40.0,36.0,46.0,42.0,23.0,19.0,25.0,22.0,35.0,39.0,42.0,35.0,29.0,20.0,25.0,36.0,39.0,23.0,19.0,50.0,41.0,19.0,20.0,19.0,38.0,32.0,44.0,18.0,49.0,23.0,31.0,55.0,60.0,20.0,34.0,14.0,26.0,19.0,25.0,42.0,18.0,50.0,26.0,47.0,35.0,58.0,20.0,28.0,12.0,20.0,22.0,31.0,24.0,17.0,null,18.0,48.0,38.0,33.0,20.0,22.0,52.0,15.0,25.0,14.0,null,16.0,48.0,36.0,19.0,43.0,32.0,54.0,33.0,21.0,33.0,28.0,23.0,26.0,41.0,2.0,21.0,70.0,20.0,31.0,8.0,5.0,45.0,37.0,24.0,55.0,18.0,36.0,59.0,61.0,46.0,29.0,18.0,20.0,28.0,26.0,32.0,18.0,50.0,47.0,15.0,35.0,49.0,32.0,63.0,54.0,21.0,38.0,50.0,32.0,33.0,30.0,28.0,22.0,null,37.0,59.0,31.0,25.0,38.0,37.0,44.0,28.0,45.0,53.0,21.0,33.0,18.0,37.0,34.0,46.0,18.0,19.0,4.0,0.0,12.0,7.0,34.0,10.0,0.0,14.0,27.0,21.0,37.0,29.0,17.0,17.0,35.0,34.0,17.0,39.0,56.0,35.0,17.0,29.0,15.0,37.0,36.0,36.0,18.0,61.0,45.0,21.0,65.0,27.0,13.0,32.0,17.0,44.0,21.0,16.0,41.0,40.0,16.0,17.0,40.0,37.0,53.0,42.0,31.0,18.0,51.0,20.0,19.0,22.0,41.0,28.0,0.0,42.0,20.0,25.0,22.0,25.0,45.0,19.0,16.0,18.0,38.0,27.0,36.0,21.0,1.0,25.0,3.0,7.0,0.0,32.0,5.0,79.0,19.0,30.0,13.0,53.0,40.0,32.0,31.0,63.0,18.0,21.0,14.0,41.0,40.0,58.0,22.0,13.0,16.0,13.0,15.0,42.0,24.0,19.0,null,29.0,15.0,38.0,49.0,20.0,null,19.0,46.0,21.0,29.0,null,44.0,19.0,29.0,25.0,41.0,19.0,33.0,25.0,44.0,21.0,32.0,33.0,32.0,19.0,21.0,23.0,31.0,22.0,74.0,53.0,40.0,23.0,36.0,18.0,29.0,48.0,34.0,34.0,27.0,44.0,0.0,1.0,18.0,23.0,26.0,46.0,41.0,25.0,50.0,28.0,17.0,29.0,19.0,34.0,28.0,47.0,28.0,38.0,22.0,18.0,21.0,40.0,67.0,39.0,19.0,28.0,29.0,22.0,23.0,41.0,25.0,43.0,54.0,14.0,69.0,24.0,37.0,28.0,59.0,20.0,23.0,59.0,20.0,36.0,43.0,9.0,32.0,24.0,14.0,45.0,23.0,59.0,28.0,61.0,52.0,5.0,51.0,26.0,44.0,46.0,32.0,17.0,21.0,52.0,52.0,14.0,21.0,42.0,28.0,26.0,7.0,14.0,3.0,26.0,54.0,55.0,16.0,38.0,48.0,13.0,20.0,18.0,45.0,5.0,42.0,50.0,21.0,22.0,23.0,22.0,21.0,24.0,24.0,42.0,19.0,32.0,35.0,19.0,55.0,35.0,63.0,66.0,45.0,20.0,21.0,51.0,13.0,24.0,28.0,52.0,32.0,23.0,37.0,35.0,46.0,33.0,34.0,51.0,null,27.0,22.0,33.0,31.0,16.0,6.0,18.0,30.0,24.0,57.0,24.0,23.0,40.0,21.0,17.0,25.0,34.0,18.0,8.0,14.0,16.0,22.0,21.0,23.0,26.0,18.0,72.0,18.0,24.0,36.0,13.0,19.0,28.0,2.0,5.0,25.0,45.0,59.0,6.0,36.0,40.0,36.0,31.0,19.0,13.0,31.0,22.0,52.0,22.0,34.0,23.0,14.0,30.0,75.0,28.0,61.0,25.0,21.0,null,28.0,41.0,25.0,28.0,0.0,19.0,22.0,2.0,35.0,42.0,46.0,26.0,19.0,11.0,11.0,17.0,23.0,37.0,18.0,48.0,18.0,18.0,32.0,26.0,26.0,55.0,19.0,65.0,28.0,24.0,52.0,67.0,34.0,23.0,26.0,28.0,9.0,1.0,1.0,58.0,59.0,54.0,8.0,28.0,19.0,23.0,47.0,17.0,33.0,43.0,28.0,32.0,13.0,18.0,16.0,6.0,27.0,29.0,32.0,23.0,33.0,51.0,41.0,20.0,0.0,13.0,13.0,13.0,24.0,null,32.0,24.0,27.0,24.0,34.0,26.0,22.0,10.0,28.0,5.0,null,29.0,17.0,18.0,35.0,42.0,35.0,42.0,33.0,20.0,2.0,2.0,43.0,10.0,26.0,42.0,24.0,32.0,23.0,null,15.0,15.0,null,15.0,13.0,33.0,47.0,27.0,18.0,10.0,40.0,28.0,23.0,23.0,41.0,20.0,29.0,17.0,21.0,25.0,25.0,28.0,24.0,56.0,36.0,20.0,50.0,29.0,34.0,40.0,20.0,36.0,25.0,25.0,17.0,42.0,47.0,23.0,null,39.0,43.0,23.0,46.0,31.0,37.0,48.0,28.0,38.0,31.0,35.0,28.0,29.0,19.0,null,44.0,59.0,23.0,48.0,49.0,15.0,30.0,20.0,20.0,6.0,1.0,1.0,2.0,8.0,29.0,43.0,73.0,48.0,24.0,20.0,17.0,42.0,22.0,54.0,41.0,0.0,20.0,54.0,73.0,17.0,21.0,60.0,50.0,17.0,18.0,25.0,57.0,46.0,71.0,21.0,38.0,23.0,24.0,25.0,35.0,21.0,22.0,60.0,29.0,49.0,27.0,23.0,23.0,33.0,35.0,27.0,44.0,18.0,31.0,21.0,27.0,36.0,33.0,30.0,29.0,32.0,31.0,27.0,25.0,38.0,47.0,24.0,46.0,16.0,30.0,0.0,60.0,50.0,37.0,27.0,29.0,null,22.0,null,null,14.0,null,20.0,19.0,14.0,69.0,26.0,25.0,36.0,34.0,4.0,1.0,24.0,21.0,25.0,44.0,22.0,64.0,32.0,42.0,29.0,4.0,17.0,21.0,52.0,29.0,35.0,23.0,27.0,8.0,20.0,16.0,35.0,44.0,19.0,2.0,30.0,28.0,44.0,20.0,22.0,14.0,20.0,45.0,19.0,42.0,23.0,43.0,20.0,11.0,20.0,21.0,17.0,32.0,24.0,4.0,4.0,36.0,27.0,46.0,24.0,3.0,21.0,42.0,26.0,38.0,36.0,28.0,62.0,22.0,18.0,12.0,32.0,11.0,47.0,48.0,38.0,19.0,22.0,21.0,37.0,28.0,15.0,57.0,22.0,22.0,29.0,0.0,44.0,22.0,25.0,64.0,21.0,35.0,15.0,48.0,22.0,42.0,13.0,35.0,27.0,21.0,22.0,33.0,25.0,37.0,36.0,47.0,34.0,29.0,39.0,27.0,35.0,0.0,33.0,24.0,19.0,33.0,19.0,16.0,47.0,40.0,19.0,27.0,31.0,24.0,31.0,41.0,16.0,27.0,11.0,28.0,51.0,1.0,56.0,null,57.0,13.0,32.0,28.0,12.0,35.0,33.0,14.0,26.0,25.0,27.0,23.0,45.0,50.0,24.0,54.0,19.0,19.0,28.0,28.0,39.0,20.0,30.0,35.0,36.0,33.0,30.0,25.0,45.0,23.0,51.0,31.0,55.0,24.0,57.0,24.0,44.0,0.0,15.0,49.0,24.0,47.0,26.0,null,4.0,30.0,23.0,23.0,4.0,3.0,42.0,22.0,21.0,28.0,35.0,20.0,22.0,30.0,0.0,22.0,15.0,4.0,19.0,29.0,17.0,21.0,20.0,24.0,6.0,9.0,21.0,46.0,20.0,27.0,23.0,28.0,53.0,41.0,32.0,27.0,31.0,20.0,19.0,55.0,35.0,70.0,22.0,46.0,16.0,14.0,13.0,44.0,15.0,32.0,26.0,42.0,44.0,15.0,35.0,35.0,24.0,19.0,37.0,31.0,39.0,35.0,26.0,26.0,0.0,8.0,44.0,20.0,56.0,31.0,16.0,29.0,22.0,39.0,25.0,43.0,37.0,24.0,53.0,19.0,24.0,31.0,27.0,57.0,26.0,15.0,19.0,27.0,23.0,6.0,15.0,2.0,21.0,0.0,18.0,46.0,43.0,45.0,40.0,44.0,27.0,55.0,24.0,27.0,33.0,35.0,33.0,34.0,37.0,46.0,45.0,14.0,null,56.0,24.0,19.0,51.0,24.0,23.0,21.0,6.0,11.0,4.0,0.0,7.0,24.0,32.0,43.0,24.0,49.0,21.0,29.0,25.0,27.0,14.0,67.0,17.0,44.0,52.0,14.0,17.0,19.0,36.0,19.0,25.0,39.0,32.0,75.0,37.0,25.0,33.0,25.0,24.0,22.0,22.0,36.0,4.0,61.0,0.0,15.0,42.0,27.0,5.0,32.0,38.0,21.0,23.0,34.0,28.0,23.0,14.0,60.0,78.0,6.0,17.0,41.0,40.0,47.0,23.0,41.0,60.0,46.0,19.0,18.0,0.0,28.0,30.0,9.0,0.0,4.0,22.0,32.0,7.0,19.0,34.0,24.0,17.0,31.0,42.0,14.0,27.0,21.0,24.0,34.0,35.0,43.0,25.0,19.0,25.0,22.0,23.0,42.0,40.0,71.0,18.0,34.0,4.0,18.0,22.0,38.0,33.0,27.0,18.0,34.0,66.0,47.0,35.0,23.0,36.0,36.0,35.0,15.0,39.0,48.0,47.0,21.0,31.0,13.0,32.0,22.0,40.0,15.0,33.0,28.0,17.0,20.0,42.0,18.0,27.0,32.0,19.0,9.0,36.0,21.0,40.0,42.0,40.0,22.0,15.0,38.0,15.0,24.0,22.0,24.0,25.0,22.0,57.0,25.0,21.0,41.0,27.0,18.0,61.0,9.0,1.0,27.0,20.0,2.0,0.0,25.0,22.0,32.0,28.0,43.0,28.0,32.0,54.0,27.0,30.0,25.0,39.0,14.0,8.0,22.0,27.0,43.0,16.0,40.0,48.0,25.0,29.0,60.0,22.0,37.0,35.0,23.0,24.0,15.0,18.0,14.0,39.0,12.0,43.0,45.0,24.0,52.0,18.0,38.0,null,28.0,19.0,45.0,27.0,15.0,22.0,23.0,32.0,15.0,30.0,60.0,50.0,45.0,24.0,22.0,20.0,19.0,40.0,14.0,18.0,20.0,35.0,24.0,30.0,44.0,42.0,3.0,19.0,69.0,50.0,15.0,18.0,25.0,15.0,62.0,19.0,29.0,28.0,25.0,22.0,35.0,61.0,26.0,19.0,2.0,0.0,26.0,6.0,23.0,50.0,18.0,7.0,3.0,3.0,37.0,25.0,22.0,20.0,32.0,34.0,47.0,23.0,22.0,35.0,18.0,36.0,32.0,29.0,19.0,45.0,null,14.0,22.0,31.0,25.0,15.0,28.0,34.0,28.0,45.0,44.0,22.0,48.0,25.0,24.0,20.0,46.0,40.0,26.0,56.0,37.0,35.0,15.0,21.0,24.0,30.0,34.0,16.0,55.0,27.0,44.0,17.0,17.0,36.0,18.0,14.0,21.0,26.0,null,21.0,25.0,27.0,25.0,43.0,35.0,21.0,23.0,17.0,21.0,21.0,39.0,22.0,40.0,25.0,6.0,1.0,1.0,20.0,17.0,22.0,18.0,49.0,27.0,40.0,22.0,55.0,45.0,33.0,42.0,27.0,16.0,23.0,31.0,62.0,43.0,57.0,23.0,20.0,21.0,27.0,31.0,31.0,24.0,27.0,28.0,44.0,19.0,14.0,65.0,73.0,null,25.0,null,34.0,63.0,53.0,18.0,40.0,28.0,45.0,32.0,19.0,65.0,20.0,18.0,18.0,58.0,25.0,13.0,null,22.0,22.0,10.0,14.0,44.0,10.0,37.0,37.0,44.0,42.0,18.0,34.0,15.0,36.0,27.0,33.0,27.0,22.0,19.0,18.0,31.0,41.0,48.0,23.0,29.0,38.0,21.0,20.0,27.0,33.0,24.0,23.0,22.0,13.0,24.0,32.0,17.0,28.0,46.0,18.0,24.0,20.0,17.0,44.0,34.0,19.0,28.0,null,57.0,34.0,18.0,28.0,6.0,53.0,6.0,33.0,43.0,44.0,28.0,37.0,55.0,40.0,38.0,24.0,53.0,61.0,17.0,20.0,22.0,27.0,19.0,23.0,33.0,26.0,33.0,39.0,47.0,33.0,40.0,19.0,26.0,24.0,15.0,2.0,33.0,14.0,22.0,45.0,58.0,13.0,36.0,35.0,23.0,27.0,24.0,43.0,67.0,29.0,28.0,18.0,35.0,22.0,19.0,47.0,16.0,41.0,26.0,37.0,26.0,21.0,45.0,28.0,26.0,35.0,60.0,7.0,15.0,26.0,38.0,24.0,77.0,22.0,22.0,20.0,47.0,25.0,9.0,19.0,44.0,41.0,53.0,27.0,20.0,23.0,20.0,null,51.0,22.0,36.0,18.0,19.0,17.0,29.0,18.0,22.0,43.0,24.0,25.0,20.0,23.0,32.0,51.0,22.0,22.0,30.0,23.0,61.0,24.0,19.0,27.0,29.0,55.0,26.0,58.0,60.0,13.0,39.0,35.0,21.0,37.0,31.0,20.0,27.0,40.0,null,36.0,19.0,22.0,15.0,18.0,25.0,62.0,53.0,null,19.0,21.0,20.0,56.0,64.0,null,36.0,51.0,16.0,21.0,50.0,0.0,34.0,3.0,11.0,5.0,47.0,1.0,0.0,23.0,27.0,46.0,34.0,2.0,11.0,1.0,13.0,41.0,11.0,52.0,15.0,58.0,23.0,34.0,9.0,25.0,38.0,42.0,40.0,18.0,42.0,40.0,28.0,56.0,22.0,39.0,35.0,36.0,34.0,22.0,21.0,16.0,35.0,19.0,36.0,32.0,69.0,44.0,34.0,35.0,25.0,3.0,12.0,3.0,13.0,26.0,2.0,25.0,19.0,33.0,41.0,55.0,30.0,35.0,7.0,38.0,51.0,18.0,44.0,18.0,13.0,49.0,8.0,22.0,32.0,null,56.0,18.0,27.0,46.0,18.0,30.0,35.0,48.0,33.0,0.0,11.0,0.0,14.0,9.0,37.0,30.0,21.0,32.0,4.0,19.0,25.0,34.0,19.0,18.0,23.0,53.0,13.0,20.0,34.0,18.0,0.0,35.0,0.0,62.0,15.0,28.0,5.0,22.0,14.0,43.0,24.0,65.0,44.0,50.0,15.0,18.0,41.0,21.0,16.0,21.0,29.0,19.0,18.0,25.0,45.0,32.0,33.0,null,24.0,29.0,24.0,22.0,18.0,16.0,17.0,18.0,25.0,46.0,36.0,62.0,48.0,16.0,27.0,52.0,25.0,13.0,35.0,20.0,42.0,50.0,66.0,31.0,37.0,72.0,30.0,29.0,21.0,33.0,28.0,41.0,44.0,45.0,61.0,21.0,25.0,38.0,68.0,0.0,21.0,55.0,60.0,19.0,17.0,16.0,29.0,29.0,0.0,15.0,27.0,24.0,14.0,17.0,37.0,23.0,17.0,33.0,30.0,20.0,null,25.0,19.0,31.0,23.0,29.0,20.0,26.0,26.0,51.0,null,17.0,22.0,31.0,2.0,0.0,3.0,28.0,21.0,15.0,18.0,52.0,49.0,42.0,28.0,31.0,19.0,41.0,31.0,13.0,35.0,29.0,0.0,19.0,null,19.0,26.0,47.0,29.0,46.0,18.0,33.0,20.0,37.0,35.0,25.0,22.0,47.0,31.0,27.0,47.0,46.0,47.0,40.0,39.0,39.0,35.0,43.0,38.0,31.0,20.0,44.0,25.0,25.0,20.0,33.0,58.0,23.0,35.0,13.0,21.0,20.0,15.0,48.0,58.0,25.0,43.0,53.0,13.0,8.0,53.0,22.0,31.0,28.0,22.0,27.0,29.0,42.0,42.0,33.0,32.0,42.0,22.0,18.0,46.0,20.0,21.0,26.0,51.0,53.0,29.0,25.0,69.0,26.0,38.0,37.0,14.0,36.0,42.0,25.0,35.0,26.0,12.0,48.0,13.0,21.0,26.0,32.0,25.0,51.0,15.0,14.0,41.0,13.0,39.0,19.0,17.0,41.0,43.0,18.0,22.0,29.0,22.0,62.0,29.0,26.0,8.0,26.0,38.0,49.0,18.0,18.0,35.0,34.0,11.0,null,22.0,18.0,36.0,17.0,25.0,29.0,25.0,34.0,16.0,28.0,29.0,38.0,39.0,48.0,23.0,16.0,21.0,21.0,4.0,27.0,18.0,22.0,28.0,22.0,39.0,29.0,42.0,0.0,52.0,26.0,19.0,23.0,36.0,26.0,62.0,28.0,25.0,0.0,24.0,49.0,21.0,29.0,19.0,32.0,20.0,48.0,27.0,49.0,20.0,25.0,null,73.0,23.0,23.0,26.0,48.0,null,54.0,56.0,30.0,24.0,23.0,57.0,null,14.0,51.0,16.0,29.0,43.0,16.0,38.0,40.0,44.0,25.0,20.0,19.0,47.0,21.0,15.0,26.0,50.0,19.0,null,18.0,0.0,34.0,25.0,8.0,0.0,6.0,27.0,32.0,63.0,36.0,33.0,28.0,43.0,23.0,22.0,56.0,25.0,28.0,44.0,20.0,17.0,18.0,15.0,23.0,27.0,10.0,10.0,0.0,16.0,48.0,7.0,50.0,5.0,50.0,35.0,23.0,28.0,20.0,47.0,26.0,17.0,43.0,37.0,25.0,26.0,23.0,46.0,23.0,26.0,27.0,18.0,63.0,2.0,0.0,0.0,37.0,18.0,33.0,31.0,34.0,18.0,20.0,37.0,30.0,7.0,32.0,68.0,0.0,23.0,38.0,26.0,29.0,43.0,38.0,25.0,18.0,23.0,26.0,45.0,25.0,16.0,25.0,11.0,22.0,38.0,25.0,17.0,20.0,24.0,37.0,32.0,32.0,20.0,50.0,33.0,47.0,49.0,20.0,26.0,24.0,11.0,47.0,22.0,35.0,25.0,33.0,20.0,16.0,29.0,16.0,43.0,33.0,16.0,22.0,18.0,36.0,17.0,34.0,1.0,24.0,20.0,56.0,26.0,35.0,3.0,23.0,19.0,0.0,30.0,50.0,15.0,19.0,null,35.0,45.0,0.0,74.0,24.0,39.0,18.0,39.0,33.0,21.0,35.0,66.0,14.0,20.0,18.0,36.0,27.0,51.0,18.0,46.0,67.0,24.0,35.0,14.0,22.0,20.0,23.0,23.0,21.0,36.0,19.0,22.0,58.0,14.0,18.0,40.0,24.0,26.0,16.0,null,21.0,17.0,23.0,22.0,20.0,38.0,37.0,31.0,27.0,31.0,21.0,36.0,20.0,36.0,40.0,25.0,32.0,25.0,49.0,28.0,58.0,null,22.0,61.0,28.0,24.0,40.0,null,15.0,29.0,18.0,28.0,24.0,18.0,21.0,25.0,16.0,49.0,28.0,22.0,11.0,26.0,17.0,26.0,0.0,null,4.0,19.0,5.0,35.0,25.0,26.0,34.0,21.0,26.0,32.0,40.0,13.0,29.0,11.0,25.0,31.0,51.0,20.0,32.0,22.0,38.0,26.0,42.0,57.0,38.0,23.0,32.0,15.0,41.0,19.0,26.0,null,20.0,19.0,30.0,58.0,17.0,null,19.0,20.0,54.0,21.0,44.0,11.0,2.0,20.0,50.0,27.0,28.0,33.0,23.0,22.0,44.0,45.0,20.0,26.0,18.0,21.0,26.0,55.0,24.0,27.0,18.0,20.0,31.0,37.0,37.0,57.0,39.0,20.0,18.0,29.0,31.0,27.0,43.0,null,32.0,19.0,50.0,19.0,44.0,49.0,30.0,41.0,34.0,30.0,22.0,29.0,32.0,40.0,50.0,31.0,1.0,30.0,null,41.0,34.0,14.0,13.0,16.0,25.0,17.0,41.0,28.0,3.0,18.0,20.0,32.0,59.0,52.0,47.0,56.0,24.0,13.0,15.0,40.0,30.0,25.0,10.0,28.0,36.0,12.0,26.0,33.0,42.0,31.0,20.0,24.0,37.0,19.0,13.0,23.0,44.0,36.0,79.0,1.0,12.0,8.0,45.0,10.0,3.0,37.0,43.0,38.0,33.0,25.0,42.0,35.0,35.0,30.0,33.0,30.0,23.0,13.0,32.0,17.0,37.0,49.0,53.0,27.0,26.0,50.0,17.0,22.0,8.0,42.0,30.0,4.0,27.0,15.0,38.0,51.0,26.0,34.0,45.0,18.0,21.0,23.0,24.0,20.0,32.0,22.0,13.0,42.0,19.0,24.0,45.0,35.0,16.0,16.0,43.0,31.0,null,22.0,48.0,20.0,35.0,23.0,28.0,19.0,45.0,16.0,3.0,60.0,33.0,25.0,37.0,51.0,29.0,39.0,29.0,27.0,38.0,13.0,33.0,45.0,0.0,18.0,0.0,38.0,0.0,21.0,56.0,38.0,35.0,34.0,15.0,22.0,28.0,18.0,47.0,23.0,44.0,18.0,21.0,65.0,18.0,27.0,16.0,17.0,19.0,33.0,20.0,10.0,6.0,0.0,0.0,4.0,null,27.0,54.0,24.0,47.0,16.0,59.0,31.0,28.0,23.0,19.0,18.0,28.0,13.0,33.0,28.0,17.0,36.0,29.0,18.0,37.0,36.0,44.0,21.0,20.0,45.0,28.0,20.0,18.0,null,19.0,27.0,26.0,29.0,18.0,12.0,0.0,2.0,16.0,17.0,20.0,30.0,20.0,31.0,13.0,23.0,19.0,18.0,50.0,43.0,52.0,24.0,46.0,25.0,53.0,17.0,29.0,26.0,35.0,51.0,20.0,19.0,59.0,23.0,22.0,21.0,25.0,23.0,15.0,20.0,22.0,20.0,35.0,41.0,18.0,40.0,25.0,31.0,47.0,29.0,null,18.0,19.0,50.0,26.0,29.0,14.0,14.0,0.0,34.0,23.0,24.0,39.0,22.0,23.0,26.0,28.0,42.0,37.0,45.0,21.0,42.0,20.0,61.0,0.0,3.0,18.0,44.0,50.0,18.0,0.0,58.0,50.0,43.0,21.0,30.0,20.0,24.0,24.0,37.0,21.0,48.0,33.0,21.0,21.0,13.0,5.0,24.0,37.0,23.0,35.0,24.0,20.0,0.0,64.0,31.0,6.0,3.0,10.0,19.0,19.0,46.0,25.0,27.0,23.0,20.0,24.0,50.0,44.0,28.0,25.0,14.0,21.0,16.0,25.0,41.0,20.0,24.0,31.0,23.0,54.0,26.0,49.0,0.0,17.0,22.0,11.0,28.0,17.0,47.0,29.0,46.0,66.0,0.0,5.0,1.0,42.0,5.0,null,41.0,30.0,26.0,16.0,22.0,20.0,44.0,36.0,6.0,13.0,22.0,69.0,40.0,46.0,34.0,39.0,37.0,13.0,20.0,28.0,54.0,9.0,61.0,18.0,null,24.0,24.0,0.0,30.0,null,26.0,26.0,3.0,30.0,51.0,36.0,18.0,27.0,36.0,39.0,17.0,24.0,14.0,25.0,35.0,17.0,45.0,35.0,19.0,null,33.0,22.0,32.0,25.0,26.0,21.0,49.0,26.0,20.0,28.0,35.0,66.0,47.0,25.0,23.0,19.0,8.0,42.0,33.0,29.0,63.0,24.0,62.0,null,52.0,23.0,47.0,50.0,32.0,33.0,26.0,20.0,28.0,38.0,42.0,0.0,23.0,39.0,25.0,17.0,15.0,31.0,49.0,41.0,37.0,27.0,13.0,42.0,21.0,29.0,0.0,19.0,36.0,31.0,16.0,42.0,16.0,23.0,42.0,34.0,38.0,21.0,25.0,30.0,40.0,31.0,20.0,37.0,26.0,22.0,21.0,33.0,40.0,11.0,27.0,22.0,40.0,61.0,28.0,24.0,43.0,22.0,14.0,56.0,35.0,62.0,44.0,32.0,26.0,22.0,56.0,29.0,21.0,34.0,35.0,18.0,23.0,18.0,24.0,19.0,62.0,52.0,37.0,21.0,48.0,43.0,18.0,33.0,33.0,29.0,66.0,41.0,17.0,8.0,20.0,25.0,47.0,40.0,26.0,19.0,35.0,0.0,12.0,37.0,38.0,34.0,30.0,22.0,23.0,59.0,19.0,16.0,22.0,30.0,26.0,18.0,29.0,32.0,33.0,20.0,55.0,41.0,22.0,61.0,20.0,57.0,17.0,60.0,20.0,20.0,40.0,28.0,17.0,18.0,46.0,29.0,25.0,59.0,17.0,65.0,32.0,35.0,18.0,23.0,27.0,0.0,26.0,38.0,35.0,32.0,9.0,11.0,13.0,2.0,12.0,27.0,14.0,37.0,6.0,36.0,27.0,20.0,24.0,21.0,50.0,18.0,34.0,22.0,63.0,39.0,26.0,27.0,17.0,39.0,26.0,30.0,26.0,34.0,24.0,21.0,25.0,64.0,40.0,null,23.0,46.0,22.0,0.0,8.0,35.0,22.0,29.0,25.0,24.0,26.0,20.0,40.0,28.0,22.0,23.0,26.0,19.0,35.0,41.0,37.0,44.0,34.0,39.0,27.0,32.0,13.0,10.0,28.0,25.0,null,27.0,29.0,6.0,2.0,6.0,24.0,31.0,35.0,13.0,64.0,18.0,32.0,21.0,13.0,43.0,39.0,26.0,21.0,18.0,27.0,null,27.0,29.0,20.0,26.0,null,34.0,15.0,24.0,26.0,14.0,24.0,31.0,21.0,28.0,19.0,50.0,15.0,34.0,35.0,34.0,36.0,27.0,30.0,34.0,45.0,21.0,56.0,21.0,28.0,38.0,34.0,33.0,34.0,19.0,19.0,17.0,20.0,22.0,35.0,50.0,19.0,23.0,38.0,20.0,31.0,28.0,36.0,27.0,66.0,14.0,29.0,34.0,13.0,47.0,26.0,50.0,38.0,59.0,43.0,30.0,33.0,33.0,42.0,17.0,18.0,34.0,46.0,35.0,40.0,26.0,43.0,41.0,31.0,23.0,25.0,37.0,14.0,3.0,18.0,35.0,19.0,39.0,48.0,27.0,3.0,28.0,34.0,31.0,60.0,45.0,48.0,21.0,24.0,16.0,19.0,26.0,22.0,33.0,44.0,27.0,23.0,43.0,14.0,41.0,20.0,0.0,2.0,22.0,29.0,35.0,20.0,16.0,38.0,35.0,19.0,25.0,32.0,24.0,20.0,27.0,18.0,31.0,47.0,58.0,37.0,35.0,38.0,32.0,35.0,27.0,61.0,72.0,30.0,14.0,28.0,20.0,41.0,29.0,32.0,33.0,27.0,21.0,21.0,18.0,3.0,0.0,41.0,57.0,50.0,54.0,49.0,19.0,51.0,null,5.0,13.0,0.0,8.0,27.0,13.0,47.0,6.0,59.0,20.0,35.0,22.0,16.0,18.0,26.0,19.0,23.0,21.0,32.0,25.0,50.0,27.0,44.0,47.0,58.0,27.0,52.0,21.0,25.0,31.0,28.0,42.0,49.0,3.0,5.0,null,57.0,29.0,29.0,21.0,25.0,26.0,33.0,43.0,26.0,13.0,30.0,8.0,null,23.0,22.0,36.0,35.0,26.0,15.0,18.0,41.0,41.0,22.0,null,0.0,16.0,27.0,13.0,1.0,32.0,35.0,40.0,17.0,49.0,21.0,9.0,27.0,59.0,25.0,21.0,15.0,28.0,42.0,22.0,21.0,48.0,24.0,47.0,13.0,32.0,29.0,35.0,24.0,52.0,21.0,36.0,19.0,39.0,59.0,45.0,25.0,64.0,24.0,36.0,26.0,31.0,18.0,21.0,34.0,32.0,19.0,18.0,39.0,null,19.0,16.0,24.0,2.0,10.0,2.0,21.0,5.0,29.0,41.0,32.0,23.0,23.0,40.0,45.0,30.0,56.0,13.0,19.0,46.0,0.0,60.0,39.0,20.0,64.0,34.0,30.0,62.0,29.0,33.0,31.0,51.0,23.0,18.0,47.0,58.0,46.0,44.0,19.0,43.0,21.0,29.0,13.0,16.0,25.0,19.0,29.0,35.0,56.0,20.0,38.0,18.0,26.0,0.0,2.0,36.0,25.0,2.0,0.0,18.0,60.0,26.0,36.0,22.0,21.0,37.0,65.0,44.0,31.0,31.0,21.0,47.0,19.0,33.0,25.0,16.0,44.0,9.0,15.0,34.0,24.0,39.0,27.0,34.0,24.0,43.0,41.0,26.0,27.0,39.0,34.0,33.0,16.0,6.0,13.0,50.0,24.0,18.0,24.0,16.0,22.0,13.0,29.0,30.0,25.0,23.0,28.0,37.0,21.0,54.0,21.0,36.0,21.0,21.0,23.0,40.0,18.0,25.0,24.0,37.0,25.0,24.0,3.0,2.0,22.0,24.0,17.0,53.0,23.0,29.0,21.0,22.0,2.0,null,20.0,14.0,26.0,23.0,21.0,20.0,19.0,29.0,58.0,13.0,32.0,23.0,38.0,47.0,38.0,47.0,20.0,32.0,42.0,34.0,60.0,30.0,11.0,45.0,39.0,19.0,18.0,34.0,null,30.0,48.0,38.0,33.0,47.0,29.0,8.0,47.0,26.0,13.0,18.0,27.0,27.0,30.0,25.0,26.0,20.0,52.0,3.0,6.0,0.0,22.0,1.0,44.0,18.0,20.0,29.0,28.0,39.0,11.0,2.0,15.0,32.0,15.0,1.0,20.0,25.0,32.0,32.0,18.0,49.0,2.0,13.0,28.0,56.0,27.0,34.0,28.0,31.0,24.0,8.0,20.0,63.0,0.0,13.0,1.0,13.0,2.0,18.0,30.0,35.0,28.0,28.0,48.0,34.0,16.0,24.0,53.0,24.0,32.0,15.0,24.0,35.0,42.0,18.0,15.0,37.0,35.0,34.0,21.0,14.0,16.0,23.0,53.0,18.0,16.0,34.0,13.0,25.0,43.0,39.0,19.0,21.0,20.0,16.0,9.0,18.0,23.0,36.0,30.0,46.0,22.0,1.0,21.0,24.0,51.0,26.0,35.0,22.0,30.0,28.0,33.0,56.0,32.0,39.0,25.0,25.0,34.0,null,18.0,18.0,23.0,21.0,47.0,18.0,43.0,18.0,25.0,30.0,21.0,24.0,20.0,30.0,58.0,36.0,27.0,33.0,55.0,24.0,17.0,19.0,25.0,22.0,16.0,36.0,40.0,21.0,24.0,26.0,30.0,27.0,24.0,23.0,55.0,47.0,31.0,40.0,19.0,18.0,48.0,15.0,47.0,21.0,18.0,20.0,20.0,19.0,22.0,16.0,26.0,27.0,17.0,24.0,55.0,7.0,null,29.0,31.0,44.0,26.0,3.0,21.0,0.0,40.0,25.0,2.0,28.0,14.0,30.0,21.0,30.0,39.0,43.0,22.0,18.0,35.0,21.0,23.0,15.0,37.0,58.0,null,21.0,0.0,15.0,38.0,26.0,47.0,26.0,56.0,18.0,21.0,18.0,44.0,39.0,54.0,23.0,26.0,22.0,25.0,49.0,46.0,17.0,23.0,18.0,23.0,38.0,32.0,18.0,24.0,37.0,41.0,31.0,28.0,40.0,48.0,41.0,36.0,11.0,19.0,20.0,29.0,26.0,24.0,null,28.0,13.0,null,19.0,32.0,23.0,18.0,25.0,19.0,24.0,29.0,43.0,3.0,4.0,2.0,24.0,27.0,37.0,44.0,21.0,27.0,49.0,27.0,63.0,28.0,33.0,21.0,24.0,26.0,27.0,21.0,56.0,31.0,47.0,24.0,18.0,42.0,31.0,22.0,24.0,20.0,51.0,19.0,17.0,23.0,14.0,18.0,42.0,39.0,37.0,27.0,26.0,49.0,32.0,34.0,13.0,21.0,55.0,61.0,24.0,25.0,0.0,38.0,30.0,15.0,21.0,56.0,51.0,26.0,50.0,22.0,25.0,37.0,17.0,38.0,33.0,24.0,21.0,37.0,49.0,42.0,33.0,25.0,27.0,1.0,20.0,20.0,51.0,33.0,45.0,25.0,21.0,22.0,27.0,33.0,24.0,38.0,18.0,63.0,26.0,29.0,24.0,51.0,25.0,41.0,20.0,22.0,15.0,null,19.0,28.0,18.0,31.0,26.0,9.0,42.0,32.0,22.0,51.0,31.0,44.0,36.0,29.0,36.0,9.0,16.0,18.0,51.0,30.0,44.0,22.0,39.0,18.0,34.0,25.0,25.0,16.0,41.0,28.0,15.0,49.0,43.0,28.0,18.0,14.0,40.0,28.0,34.0,22.0,41.0,19.0,33.0,19.0,24.0,3.0,19.0,19.0,45.0,29.0,54.0,1.0,18.0,24.0,18.0,19.0,22.0,48.0,39.0,40.0,34.0,0.0,25.0,3.0,24.0,39.0,55.0,24.0,null,27.0,19.0,27.0,24.0,31.0,52.0,null,58.0,16.0,36.0,23.0,25.0,21.0,22.0,20.0,56.0,4.0,36.0,47.0,24.0,30.0,21.0,52.0,18.0,53.0,62.0,9.0,2.0,null,23.0,28.0,59.0,23.0,20.0,24.0,48.0,25.0,37.0,40.0,17.0,17.0,21.0,50.0,38.0,39.0,0.0,32.0,39.0,13.0,18.0,31.0,5.0,47.0,43.0,27.0,27.0,31.0,26.0,22.0,25.0,20.0,23.0,19.0,27.0,8.0,66.0,17.0,41.0,14.0,53.0,13.0,19.0,19.0,14.0,18.0,25.0,16.0,6.0,22.0,3.0,19.0,23.0,26.0,23.0,25.0,20.0,29.0,26.0,19.0,28.0,21.0,25.0,27.0,54.0,9.0,24.0,22.0,42.0,35.0,6.0,39.0,24.0,21.0,48.0,24.0,25.0,29.0,52.0,43.0,20.0,19.0,20.0,48.0,29.0,46.0,18.0,36.0,22.0,7.0,38.0,44.0,24.0,42.0,35.0,33.0,22.0,35.0,21.0,19.0,34.0,52.0,18.0,null,32.0,36.0,55.0,65.0,29.0,18.0,0.0,35.0,37.0,13.0,15.0,33.0,null,40.0,36.0,33.0,4.0,20.0,23.0,24.0,18.0,25.0,26.0,52.0,47.0,24.0,3.0,9.0,2.0,19.0,12.0,21.0,20.0,63.0,15.0,25.0,13.0,45.0,17.0,18.0,40.0,40.0,65.0,45.0,34.0,37.0,13.0,16.0,16.0,13.0,19.0,54.0,13.0,40.0,25.0,36.0,58.0,2.0,32.0,32.0,null,54.0,21.0,46.0,43.0,18.0,26.0,15.0,39.0,41.0,39.0,19.0,13.0,43.0,33.0,39.0,1.0,5.0,23.0,41.0,39.0,26.0,25.0,35.0,3.0,1.0,13.0,41.0,36.0,27.0,40.0,59.0,25.0,22.0,32.0,22.0,55.0,22.0,33.0,57.0,26.0,28.0,23.0,62.0,45.0,23.0,0.0,21.0,0.0,23.0,25.0,32.0,46.0,28.0,39.0,18.0,22.0,23.0,22.0,73.0,17.0,20.0,15.0,55.0,42.0,39.0,8.0,38.0,17.0,13.0,28.0,22.0,64.0,30.0,28.0,null,39.0,31.0,24.0,0.0,42.0,0.0,43.0,40.0,23.0,54.0,18.0,20.0,24.0,18.0,18.0,47.0,25.0,28.0,8.0,59.0,51.0,38.0,26.0,65.0,36.0,null,14.0,9.0,20.0,19.0,20.0,34.0,27.0,22.0,15.0,28.0,28.0,19.0,33.0,29.0,48.0,31.0,29.0,24.0,19.0,33.0,29.0,38.0,19.0,44.0,20.0,53.0,27.0,23.0,41.0,28.0,18.0,18.0,52.0,28.0,15.0,null,15.0,16.0,17.0,48.0,26.0,34.0,25.0,29.0,36.0,62.0,29.0,19.0,null,14.0,40.0,30.0,41.0,31.0,17.0,25.0,27.0,47.0,32.0,18.0,33.0,19.0,13.0,40.0,32.0,42.0,22.0,24.0,17.0,21.0,24.0,41.0,13.0,10.0,3.0,16.0,26.0,14.0,0.0,32.0,15.0,35.0,20.0,21.0,32.0,29.0,3.0,20.0,43.0,43.0,40.0,34.0,42.0,null,null,43.0],\"xaxis\":\"x\",\"yaxis\":\"y\",\"type\":\"histogram\"},{\"alignmentgroup\":\"True\",\"hovertemplate\":\"type=Test<br>Age=%{x}<extra></extra>\",\"legendgroup\":\"Test\",\"marker\":{\"color\":\"#DE3163\"},\"name\":\"Test\",\"notched\":true,\"offsetgroup\":\"Test\",\"showlegend\":false,\"x\":[27.0,19.0,31.0,38.0,20.0,31.0,21.0,20.0,23.0,24.0,19.0,45.0,44.0,46.0,21.0,27.0,20.0,44.0,29.0,40.0,30.0,14.0,31.0,27.0,66.0,24.0,19.0,36.0,21.0,18.0,26.0,19.0,48.0,23.0,24.0,19.0,24.0,27.0,6.0,33.0,23.0,30.0,null,1.0,20.0,17.0,34.0,24.0,29.0,20.0,5.0,22.0,16.0,7.0,36.0,26.0,40.0,29.0,2.0,23.0,0.0,30.0,56.0,36.0,56.0,19.0,39.0,38.0,null,35.0,26.0,31.0,38.0,27.0,30.0,22.0,29.0,0.0,8.0,3.0,27.0,9.0,29.0,18.0,22.0,24.0,25.0,36.0,14.0,24.0,26.0,29.0,40.0,36.0,46.0,42.0,23.0,19.0,25.0,22.0,35.0,39.0,42.0,35.0,29.0,20.0,25.0,36.0,39.0,23.0,19.0,50.0,41.0,19.0,20.0,19.0,38.0,32.0,44.0,18.0,49.0,23.0,31.0,55.0,60.0,20.0,34.0,14.0,26.0,19.0,25.0,42.0,18.0,50.0,26.0,47.0,35.0,58.0,20.0,28.0,12.0,20.0,22.0,31.0,24.0,17.0,null,18.0,48.0,38.0,33.0,20.0,22.0,52.0,15.0,25.0,14.0,null,16.0,48.0,36.0,19.0,43.0,32.0,54.0,33.0,21.0,33.0,28.0,23.0,26.0,41.0,2.0,21.0,70.0,20.0,31.0,8.0,5.0,45.0,37.0,24.0,55.0,18.0,36.0,59.0,61.0,46.0,29.0,18.0,20.0,28.0,26.0,32.0,18.0,50.0,47.0,15.0,35.0,49.0,32.0,63.0,54.0,21.0,38.0,50.0,32.0,33.0,30.0,28.0,22.0,null,37.0,59.0,31.0,25.0,38.0,37.0,44.0,28.0,45.0,53.0,21.0,33.0,18.0,37.0,34.0,46.0,18.0,19.0,4.0,0.0,12.0,7.0,34.0,10.0,0.0,14.0,27.0,21.0,37.0,29.0,17.0,17.0,35.0,34.0,17.0,39.0,56.0,35.0,17.0,29.0,15.0,37.0,36.0,36.0,18.0,61.0,45.0,21.0,65.0,27.0,13.0,32.0,17.0,44.0,21.0,16.0,41.0,40.0,16.0,17.0,40.0,37.0,53.0,42.0,31.0,18.0,51.0,20.0,19.0,22.0,41.0,28.0,0.0,42.0,20.0,25.0,22.0,25.0,45.0,19.0,16.0,18.0,38.0,27.0,36.0,21.0,1.0,25.0,3.0,7.0,0.0,32.0,5.0,79.0,19.0,30.0,13.0,53.0,40.0,32.0,31.0,63.0,18.0,21.0,14.0,41.0,40.0,58.0,22.0,13.0,16.0,13.0,15.0,42.0,24.0,19.0,null,29.0,15.0,38.0,49.0,20.0,null,19.0,46.0,21.0,29.0,null,44.0,19.0,29.0,25.0,41.0,19.0,33.0,25.0,44.0,21.0,32.0,33.0,32.0,19.0,21.0,23.0,31.0,22.0,74.0,53.0,40.0,23.0,36.0,18.0,29.0,48.0,34.0,34.0,27.0,44.0,0.0,1.0,18.0,23.0,26.0,46.0,41.0,25.0,50.0,28.0,17.0,29.0,19.0,34.0,28.0,47.0,28.0,38.0,22.0,18.0,21.0,40.0,67.0,39.0,19.0,28.0,29.0,22.0,23.0,41.0,25.0,43.0,54.0,14.0,69.0,24.0,37.0,28.0,59.0,20.0,23.0,59.0,20.0,36.0,43.0,9.0,32.0,24.0,14.0,45.0,23.0,59.0,28.0,61.0,52.0,5.0,51.0,26.0,44.0,46.0,32.0,17.0,21.0,52.0,52.0,14.0,21.0,42.0,28.0,26.0,7.0,14.0,3.0,26.0,54.0,55.0,16.0,38.0,48.0,13.0,20.0,18.0,45.0,5.0,42.0,50.0,21.0,22.0,23.0,22.0,21.0,24.0,24.0,42.0,19.0,32.0,35.0,19.0,55.0,35.0,63.0,66.0,45.0,20.0,21.0,51.0,13.0,24.0,28.0,52.0,32.0,23.0,37.0,35.0,46.0,33.0,34.0,51.0,null,27.0,22.0,33.0,31.0,16.0,6.0,18.0,30.0,24.0,57.0,24.0,23.0,40.0,21.0,17.0,25.0,34.0,18.0,8.0,14.0,16.0,22.0,21.0,23.0,26.0,18.0,72.0,18.0,24.0,36.0,13.0,19.0,28.0,2.0,5.0,25.0,45.0,59.0,6.0,36.0,40.0,36.0,31.0,19.0,13.0,31.0,22.0,52.0,22.0,34.0,23.0,14.0,30.0,75.0,28.0,61.0,25.0,21.0,null,28.0,41.0,25.0,28.0,0.0,19.0,22.0,2.0,35.0,42.0,46.0,26.0,19.0,11.0,11.0,17.0,23.0,37.0,18.0,48.0,18.0,18.0,32.0,26.0,26.0,55.0,19.0,65.0,28.0,24.0,52.0,67.0,34.0,23.0,26.0,28.0,9.0,1.0,1.0,58.0,59.0,54.0,8.0,28.0,19.0,23.0,47.0,17.0,33.0,43.0,28.0,32.0,13.0,18.0,16.0,6.0,27.0,29.0,32.0,23.0,33.0,51.0,41.0,20.0,0.0,13.0,13.0,13.0,24.0,null,32.0,24.0,27.0,24.0,34.0,26.0,22.0,10.0,28.0,5.0,null,29.0,17.0,18.0,35.0,42.0,35.0,42.0,33.0,20.0,2.0,2.0,43.0,10.0,26.0,42.0,24.0,32.0,23.0,null,15.0,15.0,null,15.0,13.0,33.0,47.0,27.0,18.0,10.0,40.0,28.0,23.0,23.0,41.0,20.0,29.0,17.0,21.0,25.0,25.0,28.0,24.0,56.0,36.0,20.0,50.0,29.0,34.0,40.0,20.0,36.0,25.0,25.0,17.0,42.0,47.0,23.0,null,39.0,43.0,23.0,46.0,31.0,37.0,48.0,28.0,38.0,31.0,35.0,28.0,29.0,19.0,null,44.0,59.0,23.0,48.0,49.0,15.0,30.0,20.0,20.0,6.0,1.0,1.0,2.0,8.0,29.0,43.0,73.0,48.0,24.0,20.0,17.0,42.0,22.0,54.0,41.0,0.0,20.0,54.0,73.0,17.0,21.0,60.0,50.0,17.0,18.0,25.0,57.0,46.0,71.0,21.0,38.0,23.0,24.0,25.0,35.0,21.0,22.0,60.0,29.0,49.0,27.0,23.0,23.0,33.0,35.0,27.0,44.0,18.0,31.0,21.0,27.0,36.0,33.0,30.0,29.0,32.0,31.0,27.0,25.0,38.0,47.0,24.0,46.0,16.0,30.0,0.0,60.0,50.0,37.0,27.0,29.0,null,22.0,null,null,14.0,null,20.0,19.0,14.0,69.0,26.0,25.0,36.0,34.0,4.0,1.0,24.0,21.0,25.0,44.0,22.0,64.0,32.0,42.0,29.0,4.0,17.0,21.0,52.0,29.0,35.0,23.0,27.0,8.0,20.0,16.0,35.0,44.0,19.0,2.0,30.0,28.0,44.0,20.0,22.0,14.0,20.0,45.0,19.0,42.0,23.0,43.0,20.0,11.0,20.0,21.0,17.0,32.0,24.0,4.0,4.0,36.0,27.0,46.0,24.0,3.0,21.0,42.0,26.0,38.0,36.0,28.0,62.0,22.0,18.0,12.0,32.0,11.0,47.0,48.0,38.0,19.0,22.0,21.0,37.0,28.0,15.0,57.0,22.0,22.0,29.0,0.0,44.0,22.0,25.0,64.0,21.0,35.0,15.0,48.0,22.0,42.0,13.0,35.0,27.0,21.0,22.0,33.0,25.0,37.0,36.0,47.0,34.0,29.0,39.0,27.0,35.0,0.0,33.0,24.0,19.0,33.0,19.0,16.0,47.0,40.0,19.0,27.0,31.0,24.0,31.0,41.0,16.0,27.0,11.0,28.0,51.0,1.0,56.0,null,57.0,13.0,32.0,28.0,12.0,35.0,33.0,14.0,26.0,25.0,27.0,23.0,45.0,50.0,24.0,54.0,19.0,19.0,28.0,28.0,39.0,20.0,30.0,35.0,36.0,33.0,30.0,25.0,45.0,23.0,51.0,31.0,55.0,24.0,57.0,24.0,44.0,0.0,15.0,49.0,24.0,47.0,26.0,null,4.0,30.0,23.0,23.0,4.0,3.0,42.0,22.0,21.0,28.0,35.0,20.0,22.0,30.0,0.0,22.0,15.0,4.0,19.0,29.0,17.0,21.0,20.0,24.0,6.0,9.0,21.0,46.0,20.0,27.0,23.0,28.0,53.0,41.0,32.0,27.0,31.0,20.0,19.0,55.0,35.0,70.0,22.0,46.0,16.0,14.0,13.0,44.0,15.0,32.0,26.0,42.0,44.0,15.0,35.0,35.0,24.0,19.0,37.0,31.0,39.0,35.0,26.0,26.0,0.0,8.0,44.0,20.0,56.0,31.0,16.0,29.0,22.0,39.0,25.0,43.0,37.0,24.0,53.0,19.0,24.0,31.0,27.0,57.0,26.0,15.0,19.0,27.0,23.0,6.0,15.0,2.0,21.0,0.0,18.0,46.0,43.0,45.0,40.0,44.0,27.0,55.0,24.0,27.0,33.0,35.0,33.0,34.0,37.0,46.0,45.0,14.0,null,56.0,24.0,19.0,51.0,24.0,23.0,21.0,6.0,11.0,4.0,0.0,7.0,24.0,32.0,43.0,24.0,49.0,21.0,29.0,25.0,27.0,14.0,67.0,17.0,44.0,52.0,14.0,17.0,19.0,36.0,19.0,25.0,39.0,32.0,75.0,37.0,25.0,33.0,25.0,24.0,22.0,22.0,36.0,4.0,61.0,0.0,15.0,42.0,27.0,5.0,32.0,38.0,21.0,23.0,34.0,28.0,23.0,14.0,60.0,78.0,6.0,17.0,41.0,40.0,47.0,23.0,41.0,60.0,46.0,19.0,18.0,0.0,28.0,30.0,9.0,0.0,4.0,22.0,32.0,7.0,19.0,34.0,24.0,17.0,31.0,42.0,14.0,27.0,21.0,24.0,34.0,35.0,43.0,25.0,19.0,25.0,22.0,23.0,42.0,40.0,71.0,18.0,34.0,4.0,18.0,22.0,38.0,33.0,27.0,18.0,34.0,66.0,47.0,35.0,23.0,36.0,36.0,35.0,15.0,39.0,48.0,47.0,21.0,31.0,13.0,32.0,22.0,40.0,15.0,33.0,28.0,17.0,20.0,42.0,18.0,27.0,32.0,19.0,9.0,36.0,21.0,40.0,42.0,40.0,22.0,15.0,38.0,15.0,24.0,22.0,24.0,25.0,22.0,57.0,25.0,21.0,41.0,27.0,18.0,61.0,9.0,1.0,27.0,20.0,2.0,0.0,25.0,22.0,32.0,28.0,43.0,28.0,32.0,54.0,27.0,30.0,25.0,39.0,14.0,8.0,22.0,27.0,43.0,16.0,40.0,48.0,25.0,29.0,60.0,22.0,37.0,35.0,23.0,24.0,15.0,18.0,14.0,39.0,12.0,43.0,45.0,24.0,52.0,18.0,38.0,null,28.0,19.0,45.0,27.0,15.0,22.0,23.0,32.0,15.0,30.0,60.0,50.0,45.0,24.0,22.0,20.0,19.0,40.0,14.0,18.0,20.0,35.0,24.0,30.0,44.0,42.0,3.0,19.0,69.0,50.0,15.0,18.0,25.0,15.0,62.0,19.0,29.0,28.0,25.0,22.0,35.0,61.0,26.0,19.0,2.0,0.0,26.0,6.0,23.0,50.0,18.0,7.0,3.0,3.0,37.0,25.0,22.0,20.0,32.0,34.0,47.0,23.0,22.0,35.0,18.0,36.0,32.0,29.0,19.0,45.0,null,14.0,22.0,31.0,25.0,15.0,28.0,34.0,28.0,45.0,44.0,22.0,48.0,25.0,24.0,20.0,46.0,40.0,26.0,56.0,37.0,35.0,15.0,21.0,24.0,30.0,34.0,16.0,55.0,27.0,44.0,17.0,17.0,36.0,18.0,14.0,21.0,26.0,null,21.0,25.0,27.0,25.0,43.0,35.0,21.0,23.0,17.0,21.0,21.0,39.0,22.0,40.0,25.0,6.0,1.0,1.0,20.0,17.0,22.0,18.0,49.0,27.0,40.0,22.0,55.0,45.0,33.0,42.0,27.0,16.0,23.0,31.0,62.0,43.0,57.0,23.0,20.0,21.0,27.0,31.0,31.0,24.0,27.0,28.0,44.0,19.0,14.0,65.0,73.0,null,25.0,null,34.0,63.0,53.0,18.0,40.0,28.0,45.0,32.0,19.0,65.0,20.0,18.0,18.0,58.0,25.0,13.0,null,22.0,22.0,10.0,14.0,44.0,10.0,37.0,37.0,44.0,42.0,18.0,34.0,15.0,36.0,27.0,33.0,27.0,22.0,19.0,18.0,31.0,41.0,48.0,23.0,29.0,38.0,21.0,20.0,27.0,33.0,24.0,23.0,22.0,13.0,24.0,32.0,17.0,28.0,46.0,18.0,24.0,20.0,17.0,44.0,34.0,19.0,28.0,null,57.0,34.0,18.0,28.0,6.0,53.0,6.0,33.0,43.0,44.0,28.0,37.0,55.0,40.0,38.0,24.0,53.0,61.0,17.0,20.0,22.0,27.0,19.0,23.0,33.0,26.0,33.0,39.0,47.0,33.0,40.0,19.0,26.0,24.0,15.0,2.0,33.0,14.0,22.0,45.0,58.0,13.0,36.0,35.0,23.0,27.0,24.0,43.0,67.0,29.0,28.0,18.0,35.0,22.0,19.0,47.0,16.0,41.0,26.0,37.0,26.0,21.0,45.0,28.0,26.0,35.0,60.0,7.0,15.0,26.0,38.0,24.0,77.0,22.0,22.0,20.0,47.0,25.0,9.0,19.0,44.0,41.0,53.0,27.0,20.0,23.0,20.0,null,51.0,22.0,36.0,18.0,19.0,17.0,29.0,18.0,22.0,43.0,24.0,25.0,20.0,23.0,32.0,51.0,22.0,22.0,30.0,23.0,61.0,24.0,19.0,27.0,29.0,55.0,26.0,58.0,60.0,13.0,39.0,35.0,21.0,37.0,31.0,20.0,27.0,40.0,null,36.0,19.0,22.0,15.0,18.0,25.0,62.0,53.0,null,19.0,21.0,20.0,56.0,64.0,null,36.0,51.0,16.0,21.0,50.0,0.0,34.0,3.0,11.0,5.0,47.0,1.0,0.0,23.0,27.0,46.0,34.0,2.0,11.0,1.0,13.0,41.0,11.0,52.0,15.0,58.0,23.0,34.0,9.0,25.0,38.0,42.0,40.0,18.0,42.0,40.0,28.0,56.0,22.0,39.0,35.0,36.0,34.0,22.0,21.0,16.0,35.0,19.0,36.0,32.0,69.0,44.0,34.0,35.0,25.0,3.0,12.0,3.0,13.0,26.0,2.0,25.0,19.0,33.0,41.0,55.0,30.0,35.0,7.0,38.0,51.0,18.0,44.0,18.0,13.0,49.0,8.0,22.0,32.0,null,56.0,18.0,27.0,46.0,18.0,30.0,35.0,48.0,33.0,0.0,11.0,0.0,14.0,9.0,37.0,30.0,21.0,32.0,4.0,19.0,25.0,34.0,19.0,18.0,23.0,53.0,13.0,20.0,34.0,18.0,0.0,35.0,0.0,62.0,15.0,28.0,5.0,22.0,14.0,43.0,24.0,65.0,44.0,50.0,15.0,18.0,41.0,21.0,16.0,21.0,29.0,19.0,18.0,25.0,45.0,32.0,33.0,null,24.0,29.0,24.0,22.0,18.0,16.0,17.0,18.0,25.0,46.0,36.0,62.0,48.0,16.0,27.0,52.0,25.0,13.0,35.0,20.0,42.0,50.0,66.0,31.0,37.0,72.0,30.0,29.0,21.0,33.0,28.0,41.0,44.0,45.0,61.0,21.0,25.0,38.0,68.0,0.0,21.0,55.0,60.0,19.0,17.0,16.0,29.0,29.0,0.0,15.0,27.0,24.0,14.0,17.0,37.0,23.0,17.0,33.0,30.0,20.0,null,25.0,19.0,31.0,23.0,29.0,20.0,26.0,26.0,51.0,null,17.0,22.0,31.0,2.0,0.0,3.0,28.0,21.0,15.0,18.0,52.0,49.0,42.0,28.0,31.0,19.0,41.0,31.0,13.0,35.0,29.0,0.0,19.0,null,19.0,26.0,47.0,29.0,46.0,18.0,33.0,20.0,37.0,35.0,25.0,22.0,47.0,31.0,27.0,47.0,46.0,47.0,40.0,39.0,39.0,35.0,43.0,38.0,31.0,20.0,44.0,25.0,25.0,20.0,33.0,58.0,23.0,35.0,13.0,21.0,20.0,15.0,48.0,58.0,25.0,43.0,53.0,13.0,8.0,53.0,22.0,31.0,28.0,22.0,27.0,29.0,42.0,42.0,33.0,32.0,42.0,22.0,18.0,46.0,20.0,21.0,26.0,51.0,53.0,29.0,25.0,69.0,26.0,38.0,37.0,14.0,36.0,42.0,25.0,35.0,26.0,12.0,48.0,13.0,21.0,26.0,32.0,25.0,51.0,15.0,14.0,41.0,13.0,39.0,19.0,17.0,41.0,43.0,18.0,22.0,29.0,22.0,62.0,29.0,26.0,8.0,26.0,38.0,49.0,18.0,18.0,35.0,34.0,11.0,null,22.0,18.0,36.0,17.0,25.0,29.0,25.0,34.0,16.0,28.0,29.0,38.0,39.0,48.0,23.0,16.0,21.0,21.0,4.0,27.0,18.0,22.0,28.0,22.0,39.0,29.0,42.0,0.0,52.0,26.0,19.0,23.0,36.0,26.0,62.0,28.0,25.0,0.0,24.0,49.0,21.0,29.0,19.0,32.0,20.0,48.0,27.0,49.0,20.0,25.0,null,73.0,23.0,23.0,26.0,48.0,null,54.0,56.0,30.0,24.0,23.0,57.0,null,14.0,51.0,16.0,29.0,43.0,16.0,38.0,40.0,44.0,25.0,20.0,19.0,47.0,21.0,15.0,26.0,50.0,19.0,null,18.0,0.0,34.0,25.0,8.0,0.0,6.0,27.0,32.0,63.0,36.0,33.0,28.0,43.0,23.0,22.0,56.0,25.0,28.0,44.0,20.0,17.0,18.0,15.0,23.0,27.0,10.0,10.0,0.0,16.0,48.0,7.0,50.0,5.0,50.0,35.0,23.0,28.0,20.0,47.0,26.0,17.0,43.0,37.0,25.0,26.0,23.0,46.0,23.0,26.0,27.0,18.0,63.0,2.0,0.0,0.0,37.0,18.0,33.0,31.0,34.0,18.0,20.0,37.0,30.0,7.0,32.0,68.0,0.0,23.0,38.0,26.0,29.0,43.0,38.0,25.0,18.0,23.0,26.0,45.0,25.0,16.0,25.0,11.0,22.0,38.0,25.0,17.0,20.0,24.0,37.0,32.0,32.0,20.0,50.0,33.0,47.0,49.0,20.0,26.0,24.0,11.0,47.0,22.0,35.0,25.0,33.0,20.0,16.0,29.0,16.0,43.0,33.0,16.0,22.0,18.0,36.0,17.0,34.0,1.0,24.0,20.0,56.0,26.0,35.0,3.0,23.0,19.0,0.0,30.0,50.0,15.0,19.0,null,35.0,45.0,0.0,74.0,24.0,39.0,18.0,39.0,33.0,21.0,35.0,66.0,14.0,20.0,18.0,36.0,27.0,51.0,18.0,46.0,67.0,24.0,35.0,14.0,22.0,20.0,23.0,23.0,21.0,36.0,19.0,22.0,58.0,14.0,18.0,40.0,24.0,26.0,16.0,null,21.0,17.0,23.0,22.0,20.0,38.0,37.0,31.0,27.0,31.0,21.0,36.0,20.0,36.0,40.0,25.0,32.0,25.0,49.0,28.0,58.0,null,22.0,61.0,28.0,24.0,40.0,null,15.0,29.0,18.0,28.0,24.0,18.0,21.0,25.0,16.0,49.0,28.0,22.0,11.0,26.0,17.0,26.0,0.0,null,4.0,19.0,5.0,35.0,25.0,26.0,34.0,21.0,26.0,32.0,40.0,13.0,29.0,11.0,25.0,31.0,51.0,20.0,32.0,22.0,38.0,26.0,42.0,57.0,38.0,23.0,32.0,15.0,41.0,19.0,26.0,null,20.0,19.0,30.0,58.0,17.0,null,19.0,20.0,54.0,21.0,44.0,11.0,2.0,20.0,50.0,27.0,28.0,33.0,23.0,22.0,44.0,45.0,20.0,26.0,18.0,21.0,26.0,55.0,24.0,27.0,18.0,20.0,31.0,37.0,37.0,57.0,39.0,20.0,18.0,29.0,31.0,27.0,43.0,null,32.0,19.0,50.0,19.0,44.0,49.0,30.0,41.0,34.0,30.0,22.0,29.0,32.0,40.0,50.0,31.0,1.0,30.0,null,41.0,34.0,14.0,13.0,16.0,25.0,17.0,41.0,28.0,3.0,18.0,20.0,32.0,59.0,52.0,47.0,56.0,24.0,13.0,15.0,40.0,30.0,25.0,10.0,28.0,36.0,12.0,26.0,33.0,42.0,31.0,20.0,24.0,37.0,19.0,13.0,23.0,44.0,36.0,79.0,1.0,12.0,8.0,45.0,10.0,3.0,37.0,43.0,38.0,33.0,25.0,42.0,35.0,35.0,30.0,33.0,30.0,23.0,13.0,32.0,17.0,37.0,49.0,53.0,27.0,26.0,50.0,17.0,22.0,8.0,42.0,30.0,4.0,27.0,15.0,38.0,51.0,26.0,34.0,45.0,18.0,21.0,23.0,24.0,20.0,32.0,22.0,13.0,42.0,19.0,24.0,45.0,35.0,16.0,16.0,43.0,31.0,null,22.0,48.0,20.0,35.0,23.0,28.0,19.0,45.0,16.0,3.0,60.0,33.0,25.0,37.0,51.0,29.0,39.0,29.0,27.0,38.0,13.0,33.0,45.0,0.0,18.0,0.0,38.0,0.0,21.0,56.0,38.0,35.0,34.0,15.0,22.0,28.0,18.0,47.0,23.0,44.0,18.0,21.0,65.0,18.0,27.0,16.0,17.0,19.0,33.0,20.0,10.0,6.0,0.0,0.0,4.0,null,27.0,54.0,24.0,47.0,16.0,59.0,31.0,28.0,23.0,19.0,18.0,28.0,13.0,33.0,28.0,17.0,36.0,29.0,18.0,37.0,36.0,44.0,21.0,20.0,45.0,28.0,20.0,18.0,null,19.0,27.0,26.0,29.0,18.0,12.0,0.0,2.0,16.0,17.0,20.0,30.0,20.0,31.0,13.0,23.0,19.0,18.0,50.0,43.0,52.0,24.0,46.0,25.0,53.0,17.0,29.0,26.0,35.0,51.0,20.0,19.0,59.0,23.0,22.0,21.0,25.0,23.0,15.0,20.0,22.0,20.0,35.0,41.0,18.0,40.0,25.0,31.0,47.0,29.0,null,18.0,19.0,50.0,26.0,29.0,14.0,14.0,0.0,34.0,23.0,24.0,39.0,22.0,23.0,26.0,28.0,42.0,37.0,45.0,21.0,42.0,20.0,61.0,0.0,3.0,18.0,44.0,50.0,18.0,0.0,58.0,50.0,43.0,21.0,30.0,20.0,24.0,24.0,37.0,21.0,48.0,33.0,21.0,21.0,13.0,5.0,24.0,37.0,23.0,35.0,24.0,20.0,0.0,64.0,31.0,6.0,3.0,10.0,19.0,19.0,46.0,25.0,27.0,23.0,20.0,24.0,50.0,44.0,28.0,25.0,14.0,21.0,16.0,25.0,41.0,20.0,24.0,31.0,23.0,54.0,26.0,49.0,0.0,17.0,22.0,11.0,28.0,17.0,47.0,29.0,46.0,66.0,0.0,5.0,1.0,42.0,5.0,null,41.0,30.0,26.0,16.0,22.0,20.0,44.0,36.0,6.0,13.0,22.0,69.0,40.0,46.0,34.0,39.0,37.0,13.0,20.0,28.0,54.0,9.0,61.0,18.0,null,24.0,24.0,0.0,30.0,null,26.0,26.0,3.0,30.0,51.0,36.0,18.0,27.0,36.0,39.0,17.0,24.0,14.0,25.0,35.0,17.0,45.0,35.0,19.0,null,33.0,22.0,32.0,25.0,26.0,21.0,49.0,26.0,20.0,28.0,35.0,66.0,47.0,25.0,23.0,19.0,8.0,42.0,33.0,29.0,63.0,24.0,62.0,null,52.0,23.0,47.0,50.0,32.0,33.0,26.0,20.0,28.0,38.0,42.0,0.0,23.0,39.0,25.0,17.0,15.0,31.0,49.0,41.0,37.0,27.0,13.0,42.0,21.0,29.0,0.0,19.0,36.0,31.0,16.0,42.0,16.0,23.0,42.0,34.0,38.0,21.0,25.0,30.0,40.0,31.0,20.0,37.0,26.0,22.0,21.0,33.0,40.0,11.0,27.0,22.0,40.0,61.0,28.0,24.0,43.0,22.0,14.0,56.0,35.0,62.0,44.0,32.0,26.0,22.0,56.0,29.0,21.0,34.0,35.0,18.0,23.0,18.0,24.0,19.0,62.0,52.0,37.0,21.0,48.0,43.0,18.0,33.0,33.0,29.0,66.0,41.0,17.0,8.0,20.0,25.0,47.0,40.0,26.0,19.0,35.0,0.0,12.0,37.0,38.0,34.0,30.0,22.0,23.0,59.0,19.0,16.0,22.0,30.0,26.0,18.0,29.0,32.0,33.0,20.0,55.0,41.0,22.0,61.0,20.0,57.0,17.0,60.0,20.0,20.0,40.0,28.0,17.0,18.0,46.0,29.0,25.0,59.0,17.0,65.0,32.0,35.0,18.0,23.0,27.0,0.0,26.0,38.0,35.0,32.0,9.0,11.0,13.0,2.0,12.0,27.0,14.0,37.0,6.0,36.0,27.0,20.0,24.0,21.0,50.0,18.0,34.0,22.0,63.0,39.0,26.0,27.0,17.0,39.0,26.0,30.0,26.0,34.0,24.0,21.0,25.0,64.0,40.0,null,23.0,46.0,22.0,0.0,8.0,35.0,22.0,29.0,25.0,24.0,26.0,20.0,40.0,28.0,22.0,23.0,26.0,19.0,35.0,41.0,37.0,44.0,34.0,39.0,27.0,32.0,13.0,10.0,28.0,25.0,null,27.0,29.0,6.0,2.0,6.0,24.0,31.0,35.0,13.0,64.0,18.0,32.0,21.0,13.0,43.0,39.0,26.0,21.0,18.0,27.0,null,27.0,29.0,20.0,26.0,null,34.0,15.0,24.0,26.0,14.0,24.0,31.0,21.0,28.0,19.0,50.0,15.0,34.0,35.0,34.0,36.0,27.0,30.0,34.0,45.0,21.0,56.0,21.0,28.0,38.0,34.0,33.0,34.0,19.0,19.0,17.0,20.0,22.0,35.0,50.0,19.0,23.0,38.0,20.0,31.0,28.0,36.0,27.0,66.0,14.0,29.0,34.0,13.0,47.0,26.0,50.0,38.0,59.0,43.0,30.0,33.0,33.0,42.0,17.0,18.0,34.0,46.0,35.0,40.0,26.0,43.0,41.0,31.0,23.0,25.0,37.0,14.0,3.0,18.0,35.0,19.0,39.0,48.0,27.0,3.0,28.0,34.0,31.0,60.0,45.0,48.0,21.0,24.0,16.0,19.0,26.0,22.0,33.0,44.0,27.0,23.0,43.0,14.0,41.0,20.0,0.0,2.0,22.0,29.0,35.0,20.0,16.0,38.0,35.0,19.0,25.0,32.0,24.0,20.0,27.0,18.0,31.0,47.0,58.0,37.0,35.0,38.0,32.0,35.0,27.0,61.0,72.0,30.0,14.0,28.0,20.0,41.0,29.0,32.0,33.0,27.0,21.0,21.0,18.0,3.0,0.0,41.0,57.0,50.0,54.0,49.0,19.0,51.0,null,5.0,13.0,0.0,8.0,27.0,13.0,47.0,6.0,59.0,20.0,35.0,22.0,16.0,18.0,26.0,19.0,23.0,21.0,32.0,25.0,50.0,27.0,44.0,47.0,58.0,27.0,52.0,21.0,25.0,31.0,28.0,42.0,49.0,3.0,5.0,null,57.0,29.0,29.0,21.0,25.0,26.0,33.0,43.0,26.0,13.0,30.0,8.0,null,23.0,22.0,36.0,35.0,26.0,15.0,18.0,41.0,41.0,22.0,null,0.0,16.0,27.0,13.0,1.0,32.0,35.0,40.0,17.0,49.0,21.0,9.0,27.0,59.0,25.0,21.0,15.0,28.0,42.0,22.0,21.0,48.0,24.0,47.0,13.0,32.0,29.0,35.0,24.0,52.0,21.0,36.0,19.0,39.0,59.0,45.0,25.0,64.0,24.0,36.0,26.0,31.0,18.0,21.0,34.0,32.0,19.0,18.0,39.0,null,19.0,16.0,24.0,2.0,10.0,2.0,21.0,5.0,29.0,41.0,32.0,23.0,23.0,40.0,45.0,30.0,56.0,13.0,19.0,46.0,0.0,60.0,39.0,20.0,64.0,34.0,30.0,62.0,29.0,33.0,31.0,51.0,23.0,18.0,47.0,58.0,46.0,44.0,19.0,43.0,21.0,29.0,13.0,16.0,25.0,19.0,29.0,35.0,56.0,20.0,38.0,18.0,26.0,0.0,2.0,36.0,25.0,2.0,0.0,18.0,60.0,26.0,36.0,22.0,21.0,37.0,65.0,44.0,31.0,31.0,21.0,47.0,19.0,33.0,25.0,16.0,44.0,9.0,15.0,34.0,24.0,39.0,27.0,34.0,24.0,43.0,41.0,26.0,27.0,39.0,34.0,33.0,16.0,6.0,13.0,50.0,24.0,18.0,24.0,16.0,22.0,13.0,29.0,30.0,25.0,23.0,28.0,37.0,21.0,54.0,21.0,36.0,21.0,21.0,23.0,40.0,18.0,25.0,24.0,37.0,25.0,24.0,3.0,2.0,22.0,24.0,17.0,53.0,23.0,29.0,21.0,22.0,2.0,null,20.0,14.0,26.0,23.0,21.0,20.0,19.0,29.0,58.0,13.0,32.0,23.0,38.0,47.0,38.0,47.0,20.0,32.0,42.0,34.0,60.0,30.0,11.0,45.0,39.0,19.0,18.0,34.0,null,30.0,48.0,38.0,33.0,47.0,29.0,8.0,47.0,26.0,13.0,18.0,27.0,27.0,30.0,25.0,26.0,20.0,52.0,3.0,6.0,0.0,22.0,1.0,44.0,18.0,20.0,29.0,28.0,39.0,11.0,2.0,15.0,32.0,15.0,1.0,20.0,25.0,32.0,32.0,18.0,49.0,2.0,13.0,28.0,56.0,27.0,34.0,28.0,31.0,24.0,8.0,20.0,63.0,0.0,13.0,1.0,13.0,2.0,18.0,30.0,35.0,28.0,28.0,48.0,34.0,16.0,24.0,53.0,24.0,32.0,15.0,24.0,35.0,42.0,18.0,15.0,37.0,35.0,34.0,21.0,14.0,16.0,23.0,53.0,18.0,16.0,34.0,13.0,25.0,43.0,39.0,19.0,21.0,20.0,16.0,9.0,18.0,23.0,36.0,30.0,46.0,22.0,1.0,21.0,24.0,51.0,26.0,35.0,22.0,30.0,28.0,33.0,56.0,32.0,39.0,25.0,25.0,34.0,null,18.0,18.0,23.0,21.0,47.0,18.0,43.0,18.0,25.0,30.0,21.0,24.0,20.0,30.0,58.0,36.0,27.0,33.0,55.0,24.0,17.0,19.0,25.0,22.0,16.0,36.0,40.0,21.0,24.0,26.0,30.0,27.0,24.0,23.0,55.0,47.0,31.0,40.0,19.0,18.0,48.0,15.0,47.0,21.0,18.0,20.0,20.0,19.0,22.0,16.0,26.0,27.0,17.0,24.0,55.0,7.0,null,29.0,31.0,44.0,26.0,3.0,21.0,0.0,40.0,25.0,2.0,28.0,14.0,30.0,21.0,30.0,39.0,43.0,22.0,18.0,35.0,21.0,23.0,15.0,37.0,58.0,null,21.0,0.0,15.0,38.0,26.0,47.0,26.0,56.0,18.0,21.0,18.0,44.0,39.0,54.0,23.0,26.0,22.0,25.0,49.0,46.0,17.0,23.0,18.0,23.0,38.0,32.0,18.0,24.0,37.0,41.0,31.0,28.0,40.0,48.0,41.0,36.0,11.0,19.0,20.0,29.0,26.0,24.0,null,28.0,13.0,null,19.0,32.0,23.0,18.0,25.0,19.0,24.0,29.0,43.0,3.0,4.0,2.0,24.0,27.0,37.0,44.0,21.0,27.0,49.0,27.0,63.0,28.0,33.0,21.0,24.0,26.0,27.0,21.0,56.0,31.0,47.0,24.0,18.0,42.0,31.0,22.0,24.0,20.0,51.0,19.0,17.0,23.0,14.0,18.0,42.0,39.0,37.0,27.0,26.0,49.0,32.0,34.0,13.0,21.0,55.0,61.0,24.0,25.0,0.0,38.0,30.0,15.0,21.0,56.0,51.0,26.0,50.0,22.0,25.0,37.0,17.0,38.0,33.0,24.0,21.0,37.0,49.0,42.0,33.0,25.0,27.0,1.0,20.0,20.0,51.0,33.0,45.0,25.0,21.0,22.0,27.0,33.0,24.0,38.0,18.0,63.0,26.0,29.0,24.0,51.0,25.0,41.0,20.0,22.0,15.0,null,19.0,28.0,18.0,31.0,26.0,9.0,42.0,32.0,22.0,51.0,31.0,44.0,36.0,29.0,36.0,9.0,16.0,18.0,51.0,30.0,44.0,22.0,39.0,18.0,34.0,25.0,25.0,16.0,41.0,28.0,15.0,49.0,43.0,28.0,18.0,14.0,40.0,28.0,34.0,22.0,41.0,19.0,33.0,19.0,24.0,3.0,19.0,19.0,45.0,29.0,54.0,1.0,18.0,24.0,18.0,19.0,22.0,48.0,39.0,40.0,34.0,0.0,25.0,3.0,24.0,39.0,55.0,24.0,null,27.0,19.0,27.0,24.0,31.0,52.0,null,58.0,16.0,36.0,23.0,25.0,21.0,22.0,20.0,56.0,4.0,36.0,47.0,24.0,30.0,21.0,52.0,18.0,53.0,62.0,9.0,2.0,null,23.0,28.0,59.0,23.0,20.0,24.0,48.0,25.0,37.0,40.0,17.0,17.0,21.0,50.0,38.0,39.0,0.0,32.0,39.0,13.0,18.0,31.0,5.0,47.0,43.0,27.0,27.0,31.0,26.0,22.0,25.0,20.0,23.0,19.0,27.0,8.0,66.0,17.0,41.0,14.0,53.0,13.0,19.0,19.0,14.0,18.0,25.0,16.0,6.0,22.0,3.0,19.0,23.0,26.0,23.0,25.0,20.0,29.0,26.0,19.0,28.0,21.0,25.0,27.0,54.0,9.0,24.0,22.0,42.0,35.0,6.0,39.0,24.0,21.0,48.0,24.0,25.0,29.0,52.0,43.0,20.0,19.0,20.0,48.0,29.0,46.0,18.0,36.0,22.0,7.0,38.0,44.0,24.0,42.0,35.0,33.0,22.0,35.0,21.0,19.0,34.0,52.0,18.0,null,32.0,36.0,55.0,65.0,29.0,18.0,0.0,35.0,37.0,13.0,15.0,33.0,null,40.0,36.0,33.0,4.0,20.0,23.0,24.0,18.0,25.0,26.0,52.0,47.0,24.0,3.0,9.0,2.0,19.0,12.0,21.0,20.0,63.0,15.0,25.0,13.0,45.0,17.0,18.0,40.0,40.0,65.0,45.0,34.0,37.0,13.0,16.0,16.0,13.0,19.0,54.0,13.0,40.0,25.0,36.0,58.0,2.0,32.0,32.0,null,54.0,21.0,46.0,43.0,18.0,26.0,15.0,39.0,41.0,39.0,19.0,13.0,43.0,33.0,39.0,1.0,5.0,23.0,41.0,39.0,26.0,25.0,35.0,3.0,1.0,13.0,41.0,36.0,27.0,40.0,59.0,25.0,22.0,32.0,22.0,55.0,22.0,33.0,57.0,26.0,28.0,23.0,62.0,45.0,23.0,0.0,21.0,0.0,23.0,25.0,32.0,46.0,28.0,39.0,18.0,22.0,23.0,22.0,73.0,17.0,20.0,15.0,55.0,42.0,39.0,8.0,38.0,17.0,13.0,28.0,22.0,64.0,30.0,28.0,null,39.0,31.0,24.0,0.0,42.0,0.0,43.0,40.0,23.0,54.0,18.0,20.0,24.0,18.0,18.0,47.0,25.0,28.0,8.0,59.0,51.0,38.0,26.0,65.0,36.0,null,14.0,9.0,20.0,19.0,20.0,34.0,27.0,22.0,15.0,28.0,28.0,19.0,33.0,29.0,48.0,31.0,29.0,24.0,19.0,33.0,29.0,38.0,19.0,44.0,20.0,53.0,27.0,23.0,41.0,28.0,18.0,18.0,52.0,28.0,15.0,null,15.0,16.0,17.0,48.0,26.0,34.0,25.0,29.0,36.0,62.0,29.0,19.0,null,14.0,40.0,30.0,41.0,31.0,17.0,25.0,27.0,47.0,32.0,18.0,33.0,19.0,13.0,40.0,32.0,42.0,22.0,24.0,17.0,21.0,24.0,41.0,13.0,10.0,3.0,16.0,26.0,14.0,0.0,32.0,15.0,35.0,20.0,21.0,32.0,29.0,3.0,20.0,43.0,43.0,40.0,34.0,42.0,null,null,43.0],\"xaxis\":\"x2\",\"yaxis\":\"y2\",\"type\":\"box\"}],                        {\"template\":{\"data\":{\"barpolar\":[{\"marker\":{\"line\":{\"color\":\"white\",\"width\":0.5},\"pattern\":{\"fillmode\":\"overlay\",\"size\":10,\"solidity\":0.2}},\"type\":\"barpolar\"}],\"bar\":[{\"error_x\":{\"color\":\"#2a3f5f\"},\"error_y\":{\"color\":\"#2a3f5f\"},\"marker\":{\"line\":{\"color\":\"white\",\"width\":0.5},\"pattern\":{\"fillmode\":\"overlay\",\"size\":10,\"solidity\":0.2}},\"type\":\"bar\"}],\"carpet\":[{\"aaxis\":{\"endlinecolor\":\"#2a3f5f\",\"gridcolor\":\"#C8D4E3\",\"linecolor\":\"#C8D4E3\",\"minorgridcolor\":\"#C8D4E3\",\"startlinecolor\":\"#2a3f5f\"},\"baxis\":{\"endlinecolor\":\"#2a3f5f\",\"gridcolor\":\"#C8D4E3\",\"linecolor\":\"#C8D4E3\",\"minorgridcolor\":\"#C8D4E3\",\"startlinecolor\":\"#2a3f5f\"},\"type\":\"carpet\"}],\"choropleth\":[{\"colorbar\":{\"outlinewidth\":0,\"ticks\":\"\"},\"type\":\"choropleth\"}],\"contourcarpet\":[{\"colorbar\":{\"outlinewidth\":0,\"ticks\":\"\"},\"type\":\"contourcarpet\"}],\"contour\":[{\"colorbar\":{\"outlinewidth\":0,\"ticks\":\"\"},\"colorscale\":[[0.0,\"#0d0887\"],[0.1111111111111111,\"#46039f\"],[0.2222222222222222,\"#7201a8\"],[0.3333333333333333,\"#9c179e\"],[0.4444444444444444,\"#bd3786\"],[0.5555555555555556,\"#d8576b\"],[0.6666666666666666,\"#ed7953\"],[0.7777777777777778,\"#fb9f3a\"],[0.8888888888888888,\"#fdca26\"],[1.0,\"#f0f921\"]],\"type\":\"contour\"}],\"heatmapgl\":[{\"colorbar\":{\"outlinewidth\":0,\"ticks\":\"\"},\"colorscale\":[[0.0,\"#0d0887\"],[0.1111111111111111,\"#46039f\"],[0.2222222222222222,\"#7201a8\"],[0.3333333333333333,\"#9c179e\"],[0.4444444444444444,\"#bd3786\"],[0.5555555555555556,\"#d8576b\"],[0.6666666666666666,\"#ed7953\"],[0.7777777777777778,\"#fb9f3a\"],[0.8888888888888888,\"#fdca26\"],[1.0,\"#f0f921\"]],\"type\":\"heatmapgl\"}],\"heatmap\":[{\"colorbar\":{\"outlinewidth\":0,\"ticks\":\"\"},\"colorscale\":[[0.0,\"#0d0887\"],[0.1111111111111111,\"#46039f\"],[0.2222222222222222,\"#7201a8\"],[0.3333333333333333,\"#9c179e\"],[0.4444444444444444,\"#bd3786\"],[0.5555555555555556,\"#d8576b\"],[0.6666666666666666,\"#ed7953\"],[0.7777777777777778,\"#fb9f3a\"],[0.8888888888888888,\"#fdca26\"],[1.0,\"#f0f921\"]],\"type\":\"heatmap\"}],\"histogram2dcontour\":[{\"colorbar\":{\"outlinewidth\":0,\"ticks\":\"\"},\"colorscale\":[[0.0,\"#0d0887\"],[0.1111111111111111,\"#46039f\"],[0.2222222222222222,\"#7201a8\"],[0.3333333333333333,\"#9c179e\"],[0.4444444444444444,\"#bd3786\"],[0.5555555555555556,\"#d8576b\"],[0.6666666666666666,\"#ed7953\"],[0.7777777777777778,\"#fb9f3a\"],[0.8888888888888888,\"#fdca26\"],[1.0,\"#f0f921\"]],\"type\":\"histogram2dcontour\"}],\"histogram2d\":[{\"colorbar\":{\"outlinewidth\":0,\"ticks\":\"\"},\"colorscale\":[[0.0,\"#0d0887\"],[0.1111111111111111,\"#46039f\"],[0.2222222222222222,\"#7201a8\"],[0.3333333333333333,\"#9c179e\"],[0.4444444444444444,\"#bd3786\"],[0.5555555555555556,\"#d8576b\"],[0.6666666666666666,\"#ed7953\"],[0.7777777777777778,\"#fb9f3a\"],[0.8888888888888888,\"#fdca26\"],[1.0,\"#f0f921\"]],\"type\":\"histogram2d\"}],\"histogram\":[{\"marker\":{\"pattern\":{\"fillmode\":\"overlay\",\"size\":10,\"solidity\":0.2}},\"type\":\"histogram\"}],\"mesh3d\":[{\"colorbar\":{\"outlinewidth\":0,\"ticks\":\"\"},\"type\":\"mesh3d\"}],\"parcoords\":[{\"line\":{\"colorbar\":{\"outlinewidth\":0,\"ticks\":\"\"}},\"type\":\"parcoords\"}],\"pie\":[{\"automargin\":true,\"type\":\"pie\"}],\"scatter3d\":[{\"line\":{\"colorbar\":{\"outlinewidth\":0,\"ticks\":\"\"}},\"marker\":{\"colorbar\":{\"outlinewidth\":0,\"ticks\":\"\"}},\"type\":\"scatter3d\"}],\"scattercarpet\":[{\"marker\":{\"colorbar\":{\"outlinewidth\":0,\"ticks\":\"\"}},\"type\":\"scattercarpet\"}],\"scattergeo\":[{\"marker\":{\"colorbar\":{\"outlinewidth\":0,\"ticks\":\"\"}},\"type\":\"scattergeo\"}],\"scattergl\":[{\"marker\":{\"colorbar\":{\"outlinewidth\":0,\"ticks\":\"\"}},\"type\":\"scattergl\"}],\"scattermapbox\":[{\"marker\":{\"colorbar\":{\"outlinewidth\":0,\"ticks\":\"\"}},\"type\":\"scattermapbox\"}],\"scatterpolargl\":[{\"marker\":{\"colorbar\":{\"outlinewidth\":0,\"ticks\":\"\"}},\"type\":\"scatterpolargl\"}],\"scatterpolar\":[{\"marker\":{\"colorbar\":{\"outlinewidth\":0,\"ticks\":\"\"}},\"type\":\"scatterpolar\"}],\"scatter\":[{\"fillpattern\":{\"fillmode\":\"overlay\",\"size\":10,\"solidity\":0.2},\"type\":\"scatter\"}],\"scatterternary\":[{\"marker\":{\"colorbar\":{\"outlinewidth\":0,\"ticks\":\"\"}},\"type\":\"scatterternary\"}],\"surface\":[{\"colorbar\":{\"outlinewidth\":0,\"ticks\":\"\"},\"colorscale\":[[0.0,\"#0d0887\"],[0.1111111111111111,\"#46039f\"],[0.2222222222222222,\"#7201a8\"],[0.3333333333333333,\"#9c179e\"],[0.4444444444444444,\"#bd3786\"],[0.5555555555555556,\"#d8576b\"],[0.6666666666666666,\"#ed7953\"],[0.7777777777777778,\"#fb9f3a\"],[0.8888888888888888,\"#fdca26\"],[1.0,\"#f0f921\"]],\"type\":\"surface\"}],\"table\":[{\"cells\":{\"fill\":{\"color\":\"#EBF0F8\"},\"line\":{\"color\":\"white\"}},\"header\":{\"fill\":{\"color\":\"#C8D4E3\"},\"line\":{\"color\":\"white\"}},\"type\":\"table\"}]},\"layout\":{\"annotationdefaults\":{\"arrowcolor\":\"#2a3f5f\",\"arrowhead\":0,\"arrowwidth\":1},\"autotypenumbers\":\"strict\",\"coloraxis\":{\"colorbar\":{\"outlinewidth\":0,\"ticks\":\"\"}},\"colorscale\":{\"diverging\":[[0,\"#8e0152\"],[0.1,\"#c51b7d\"],[0.2,\"#de77ae\"],[0.3,\"#f1b6da\"],[0.4,\"#fde0ef\"],[0.5,\"#f7f7f7\"],[0.6,\"#e6f5d0\"],[0.7,\"#b8e186\"],[0.8,\"#7fbc41\"],[0.9,\"#4d9221\"],[1,\"#276419\"]],\"sequential\":[[0.0,\"#0d0887\"],[0.1111111111111111,\"#46039f\"],[0.2222222222222222,\"#7201a8\"],[0.3333333333333333,\"#9c179e\"],[0.4444444444444444,\"#bd3786\"],[0.5555555555555556,\"#d8576b\"],[0.6666666666666666,\"#ed7953\"],[0.7777777777777778,\"#fb9f3a\"],[0.8888888888888888,\"#fdca26\"],[1.0,\"#f0f921\"]],\"sequentialminus\":[[0.0,\"#0d0887\"],[0.1111111111111111,\"#46039f\"],[0.2222222222222222,\"#7201a8\"],[0.3333333333333333,\"#9c179e\"],[0.4444444444444444,\"#bd3786\"],[0.5555555555555556,\"#d8576b\"],[0.6666666666666666,\"#ed7953\"],[0.7777777777777778,\"#fb9f3a\"],[0.8888888888888888,\"#fdca26\"],[1.0,\"#f0f921\"]]},\"colorway\":[\"#636efa\",\"#EF553B\",\"#00cc96\",\"#ab63fa\",\"#FFA15A\",\"#19d3f3\",\"#FF6692\",\"#B6E880\",\"#FF97FF\",\"#FECB52\"],\"font\":{\"color\":\"#2a3f5f\"},\"geo\":{\"bgcolor\":\"white\",\"lakecolor\":\"white\",\"landcolor\":\"white\",\"showlakes\":true,\"showland\":true,\"subunitcolor\":\"#C8D4E3\"},\"hoverlabel\":{\"align\":\"left\"},\"hovermode\":\"closest\",\"mapbox\":{\"style\":\"light\"},\"paper_bgcolor\":\"white\",\"plot_bgcolor\":\"white\",\"polar\":{\"angularaxis\":{\"gridcolor\":\"#EBF0F8\",\"linecolor\":\"#EBF0F8\",\"ticks\":\"\"},\"bgcolor\":\"white\",\"radialaxis\":{\"gridcolor\":\"#EBF0F8\",\"linecolor\":\"#EBF0F8\",\"ticks\":\"\"}},\"scene\":{\"xaxis\":{\"backgroundcolor\":\"white\",\"gridcolor\":\"#DFE8F3\",\"gridwidth\":2,\"linecolor\":\"#EBF0F8\",\"showbackground\":true,\"ticks\":\"\",\"zerolinecolor\":\"#EBF0F8\"},\"yaxis\":{\"backgroundcolor\":\"white\",\"gridcolor\":\"#DFE8F3\",\"gridwidth\":2,\"linecolor\":\"#EBF0F8\",\"showbackground\":true,\"ticks\":\"\",\"zerolinecolor\":\"#EBF0F8\"},\"zaxis\":{\"backgroundcolor\":\"white\",\"gridcolor\":\"#DFE8F3\",\"gridwidth\":2,\"linecolor\":\"#EBF0F8\",\"showbackground\":true,\"ticks\":\"\",\"zerolinecolor\":\"#EBF0F8\"}},\"shapedefaults\":{\"line\":{\"color\":\"#2a3f5f\"}},\"ternary\":{\"aaxis\":{\"gridcolor\":\"#DFE8F3\",\"linecolor\":\"#A2B1C6\",\"ticks\":\"\"},\"baxis\":{\"gridcolor\":\"#DFE8F3\",\"linecolor\":\"#A2B1C6\",\"ticks\":\"\"},\"bgcolor\":\"white\",\"caxis\":{\"gridcolor\":\"#DFE8F3\",\"linecolor\":\"#A2B1C6\",\"ticks\":\"\"}},\"title\":{\"x\":0.05},\"xaxis\":{\"automargin\":true,\"gridcolor\":\"#EBF0F8\",\"linecolor\":\"#EBF0F8\",\"ticks\":\"\",\"title\":{\"standoff\":15},\"zerolinecolor\":\"#EBF0F8\",\"zerolinewidth\":2},\"yaxis\":{\"automargin\":true,\"gridcolor\":\"#EBF0F8\",\"linecolor\":\"#EBF0F8\",\"ticks\":\"\",\"title\":{\"standoff\":15},\"zerolinecolor\":\"#EBF0F8\",\"zerolinewidth\":2}}},\"xaxis\":{\"anchor\":\"y\",\"domain\":[0.0,1.0],\"title\":{\"text\":\"Age\"}},\"yaxis\":{\"anchor\":\"x\",\"domain\":[0.0,0.7326],\"title\":{\"text\":\"count\"}},\"xaxis2\":{\"anchor\":\"y2\",\"domain\":[0.0,1.0],\"matches\":\"x\",\"showticklabels\":false,\"showgrid\":true},\"yaxis2\":{\"anchor\":\"x2\",\"domain\":[0.7426,1.0],\"matches\":\"y2\",\"showticklabels\":false,\"showline\":false,\"ticks\":\"\",\"showgrid\":false},\"legend\":{\"title\":{\"text\":\"type\"},\"tracegroupgap\":0},\"margin\":{\"t\":60},\"barmode\":\"relative\",\"title\":{\"text\":\"Distribution of Age\",\"x\":0.5}},                        {\"responsive\": true}                    ).then(function(){\n",
       "                            \n",
       "var gd = document.getElementById('bc874b64-60fd-4c58-81f0-d2a8223ce206');\n",
       "var x = new MutationObserver(function (mutations, observer) {{\n",
       "        var display = window.getComputedStyle(gd).display;\n",
       "        if (!display || display === 'none') {{\n",
       "            console.log([gd, 'removed!']);\n",
       "            Plotly.purge(gd);\n",
       "            observer.disconnect();\n",
       "        }}\n",
       "}});\n",
       "\n",
       "// Listen for the removal of the full notebook cells\n",
       "var notebookContainer = gd.closest('#notebook-container');\n",
       "if (notebookContainer) {{\n",
       "    x.observe(notebookContainer, {childList: true});\n",
       "}}\n",
       "\n",
       "// Listen for the clearing of the current output cell\n",
       "var outputEl = gd.closest('.output');\n",
       "if (outputEl) {{\n",
       "    x.observe(outputEl, {childList: true});\n",
       "}}\n",
       "\n",
       "                        })                };                });            </script>        </div>"
      ]
     },
     "metadata": {},
     "output_type": "display_data"
    }
   ],
   "source": [
    "#히스토그램 그리기\n",
    "train_age = train.copy()\n",
    "test_age = test.copy()\n",
    "train_age[\"type\"] = \"Train\"\n",
    "test_age[\"type\"] = \"Test\"\n",
    "ageDf = pd.concat([train_age, test_age])\n",
    "fig = px.histogram(data_frame = ageDf, \n",
    "                   x=\"Age\",\n",
    "                   color= \"type\",\n",
    "                   color_discrete_sequence =  ['#58D68D','#DE3163'],\n",
    "                   marginal=\"box\",\n",
    "                   nbins= 100,\n",
    "                    template=\"plotly_white\"\n",
    "                )\n",
    "fig.update_layout(title = \"Distribution of Age\" , title_x = 0.5)\n",
    "fig.show()"
   ]
  },
  {
   "cell_type": "markdown",
   "id": "f6d7b62d",
   "metadata": {
    "papermill": {
     "duration": 0.020418,
     "end_time": "2023-05-10T11:24:52.744448",
     "exception": false,
     "start_time": "2023-05-10T11:24:52.724030",
     "status": "completed"
    },
    "tags": []
   },
   "source": [
    "**Feature Distribution of Categorical Features**"
   ]
  },
  {
   "cell_type": "code",
   "execution_count": 19,
   "id": "b9dd5806",
   "metadata": {
    "execution": {
     "iopub.execute_input": "2023-05-10T11:24:52.787925Z",
     "iopub.status.busy": "2023-05-10T11:24:52.787512Z",
     "iopub.status.idle": "2023-05-10T11:24:54.817443Z",
     "shell.execute_reply": "2023-05-10T11:24:54.815629Z"
    },
    "papermill": {
     "duration": 2.054199,
     "end_time": "2023-05-10T11:24:54.819683",
     "exception": true,
     "start_time": "2023-05-10T11:24:52.765484",
     "status": "failed"
    },
    "tags": []
   },
   "outputs": [
    {
     "ename": "ValueError",
     "evalue": "could not convert string to float: 'Europa'",
     "output_type": "error",
     "traceback": [
      "\u001b[0;31m---------------------------------------------------------------------------\u001b[0m",
      "\u001b[0;31mValueError\u001b[0m                                Traceback (most recent call last)",
      "Cell \u001b[0;32mIn[19], line 11\u001b[0m\n\u001b[1;32m      9\u001b[0m \u001b[38;5;28;01mfor\u001b[39;00m c \u001b[38;5;129;01min\u001b[39;00m \u001b[38;5;28mrange\u001b[39m(ncols):\n\u001b[1;32m     10\u001b[0m     col \u001b[38;5;241m=\u001b[39m cat_features[r\u001b[38;5;241m*\u001b[39mncols\u001b[38;5;241m+\u001b[39mc]\n\u001b[0;32m---> 11\u001b[0m     \u001b[43msns\u001b[49m\u001b[38;5;241;43m.\u001b[39;49m\u001b[43mcountplot\u001b[49m\u001b[43m(\u001b[49m\u001b[43mtrain\u001b[49m\u001b[43m[\u001b[49m\u001b[43mcol\u001b[49m\u001b[43m]\u001b[49m\u001b[43m,\u001b[49m\u001b[43max\u001b[49m\u001b[43m \u001b[49m\u001b[38;5;241;43m=\u001b[39;49m\u001b[43m \u001b[49m\u001b[43maxes\u001b[49m\u001b[43m[\u001b[49m\u001b[43mr\u001b[49m\u001b[43m,\u001b[49m\u001b[43mc\u001b[49m\u001b[43m]\u001b[49m\u001b[43m \u001b[49m\u001b[43m,\u001b[49m\u001b[43mpalette\u001b[49m\u001b[43m \u001b[49m\u001b[38;5;241;43m=\u001b[39;49m\u001b[43m \u001b[49m\u001b[38;5;124;43m\"\u001b[39;49m\u001b[38;5;124;43mviridis\u001b[39;49m\u001b[38;5;124;43m\"\u001b[39;49m\u001b[43m,\u001b[49m\u001b[43m \u001b[49m\u001b[43mlabel\u001b[49m\u001b[38;5;241;43m=\u001b[39;49m\u001b[38;5;124;43m'\u001b[39;49m\u001b[38;5;124;43mTrain data\u001b[39;49m\u001b[38;5;124;43m'\u001b[39;49m\u001b[43m)\u001b[49m\n\u001b[1;32m     12\u001b[0m     sns\u001b[38;5;241m.\u001b[39mcountplot(test[col],ax \u001b[38;5;241m=\u001b[39m axes[r,c] ,palette \u001b[38;5;241m=\u001b[39m \u001b[38;5;124m\"\u001b[39m\u001b[38;5;124mmagma\u001b[39m\u001b[38;5;124m\"\u001b[39m, label\u001b[38;5;241m=\u001b[39m\u001b[38;5;124m'\u001b[39m\u001b[38;5;124mTest data\u001b[39m\u001b[38;5;124m'\u001b[39m)\n\u001b[1;32m     13\u001b[0m     axes[r,c]\u001b[38;5;241m.\u001b[39mlegend()\n",
      "File \u001b[0;32m/opt/conda/lib/python3.10/site-packages/seaborn/categorical.py:2943\u001b[0m, in \u001b[0;36mcountplot\u001b[0;34m(data, x, y, hue, order, hue_order, orient, color, palette, saturation, width, dodge, ax, **kwargs)\u001b[0m\n\u001b[1;32m   2940\u001b[0m \u001b[38;5;28;01melif\u001b[39;00m x \u001b[38;5;129;01mis\u001b[39;00m \u001b[38;5;129;01mnot\u001b[39;00m \u001b[38;5;28;01mNone\u001b[39;00m \u001b[38;5;129;01mand\u001b[39;00m y \u001b[38;5;129;01mis\u001b[39;00m \u001b[38;5;129;01mnot\u001b[39;00m \u001b[38;5;28;01mNone\u001b[39;00m:\n\u001b[1;32m   2941\u001b[0m     \u001b[38;5;28;01mraise\u001b[39;00m \u001b[38;5;167;01mValueError\u001b[39;00m(\u001b[38;5;124m\"\u001b[39m\u001b[38;5;124mCannot pass values for both `x` and `y`\u001b[39m\u001b[38;5;124m\"\u001b[39m)\n\u001b[0;32m-> 2943\u001b[0m plotter \u001b[38;5;241m=\u001b[39m \u001b[43m_CountPlotter\u001b[49m\u001b[43m(\u001b[49m\n\u001b[1;32m   2944\u001b[0m \u001b[43m    \u001b[49m\u001b[43mx\u001b[49m\u001b[43m,\u001b[49m\u001b[43m \u001b[49m\u001b[43my\u001b[49m\u001b[43m,\u001b[49m\u001b[43m \u001b[49m\u001b[43mhue\u001b[49m\u001b[43m,\u001b[49m\u001b[43m \u001b[49m\u001b[43mdata\u001b[49m\u001b[43m,\u001b[49m\u001b[43m \u001b[49m\u001b[43morder\u001b[49m\u001b[43m,\u001b[49m\u001b[43m \u001b[49m\u001b[43mhue_order\u001b[49m\u001b[43m,\u001b[49m\n\u001b[1;32m   2945\u001b[0m \u001b[43m    \u001b[49m\u001b[43mestimator\u001b[49m\u001b[43m,\u001b[49m\u001b[43m \u001b[49m\u001b[43merrorbar\u001b[49m\u001b[43m,\u001b[49m\u001b[43m \u001b[49m\u001b[43mn_boot\u001b[49m\u001b[43m,\u001b[49m\u001b[43m \u001b[49m\u001b[43munits\u001b[49m\u001b[43m,\u001b[49m\u001b[43m \u001b[49m\u001b[43mseed\u001b[49m\u001b[43m,\u001b[49m\n\u001b[1;32m   2946\u001b[0m \u001b[43m    \u001b[49m\u001b[43morient\u001b[49m\u001b[43m,\u001b[49m\u001b[43m \u001b[49m\u001b[43mcolor\u001b[49m\u001b[43m,\u001b[49m\u001b[43m \u001b[49m\u001b[43mpalette\u001b[49m\u001b[43m,\u001b[49m\u001b[43m \u001b[49m\u001b[43msaturation\u001b[49m\u001b[43m,\u001b[49m\n\u001b[1;32m   2947\u001b[0m \u001b[43m    \u001b[49m\u001b[43mwidth\u001b[49m\u001b[43m,\u001b[49m\u001b[43m \u001b[49m\u001b[43merrcolor\u001b[49m\u001b[43m,\u001b[49m\u001b[43m \u001b[49m\u001b[43merrwidth\u001b[49m\u001b[43m,\u001b[49m\u001b[43m \u001b[49m\u001b[43mcapsize\u001b[49m\u001b[43m,\u001b[49m\u001b[43m \u001b[49m\u001b[43mdodge\u001b[49m\n\u001b[1;32m   2948\u001b[0m \u001b[43m\u001b[49m\u001b[43m)\u001b[49m\n\u001b[1;32m   2950\u001b[0m plotter\u001b[38;5;241m.\u001b[39mvalue_label \u001b[38;5;241m=\u001b[39m \u001b[38;5;124m\"\u001b[39m\u001b[38;5;124mcount\u001b[39m\u001b[38;5;124m\"\u001b[39m\n\u001b[1;32m   2952\u001b[0m \u001b[38;5;28;01mif\u001b[39;00m ax \u001b[38;5;129;01mis\u001b[39;00m \u001b[38;5;28;01mNone\u001b[39;00m:\n",
      "File \u001b[0;32m/opt/conda/lib/python3.10/site-packages/seaborn/categorical.py:1530\u001b[0m, in \u001b[0;36m_BarPlotter.__init__\u001b[0;34m(self, x, y, hue, data, order, hue_order, estimator, errorbar, n_boot, units, seed, orient, color, palette, saturation, width, errcolor, errwidth, capsize, dodge)\u001b[0m\n\u001b[1;32m   1525\u001b[0m \u001b[38;5;28;01mdef\u001b[39;00m \u001b[38;5;21m__init__\u001b[39m(\u001b[38;5;28mself\u001b[39m, x, y, hue, data, order, hue_order,\n\u001b[1;32m   1526\u001b[0m              estimator, errorbar, n_boot, units, seed,\n\u001b[1;32m   1527\u001b[0m              orient, color, palette, saturation, width,\n\u001b[1;32m   1528\u001b[0m              errcolor, errwidth, capsize, dodge):\n\u001b[1;32m   1529\u001b[0m \u001b[38;5;250m    \u001b[39m\u001b[38;5;124;03m\"\"\"Initialize the plotter.\"\"\"\u001b[39;00m\n\u001b[0;32m-> 1530\u001b[0m     \u001b[38;5;28;43mself\u001b[39;49m\u001b[38;5;241;43m.\u001b[39;49m\u001b[43mestablish_variables\u001b[49m\u001b[43m(\u001b[49m\u001b[43mx\u001b[49m\u001b[43m,\u001b[49m\u001b[43m \u001b[49m\u001b[43my\u001b[49m\u001b[43m,\u001b[49m\u001b[43m \u001b[49m\u001b[43mhue\u001b[49m\u001b[43m,\u001b[49m\u001b[43m \u001b[49m\u001b[43mdata\u001b[49m\u001b[43m,\u001b[49m\u001b[43m \u001b[49m\u001b[43morient\u001b[49m\u001b[43m,\u001b[49m\n\u001b[1;32m   1531\u001b[0m \u001b[43m                             \u001b[49m\u001b[43morder\u001b[49m\u001b[43m,\u001b[49m\u001b[43m \u001b[49m\u001b[43mhue_order\u001b[49m\u001b[43m,\u001b[49m\u001b[43m \u001b[49m\u001b[43munits\u001b[49m\u001b[43m)\u001b[49m\n\u001b[1;32m   1532\u001b[0m     \u001b[38;5;28mself\u001b[39m\u001b[38;5;241m.\u001b[39mestablish_colors(color, palette, saturation)\n\u001b[1;32m   1533\u001b[0m     \u001b[38;5;28mself\u001b[39m\u001b[38;5;241m.\u001b[39mestimate_statistic(estimator, errorbar, n_boot, seed)\n",
      "File \u001b[0;32m/opt/conda/lib/python3.10/site-packages/seaborn/categorical.py:516\u001b[0m, in \u001b[0;36m_CategoricalPlotter.establish_variables\u001b[0;34m(self, x, y, hue, data, orient, order, hue_order, units)\u001b[0m\n\u001b[1;32m    513\u001b[0m     plot_data \u001b[38;5;241m=\u001b[39m data\n\u001b[1;32m    515\u001b[0m \u001b[38;5;66;03m# Convert to a list of arrays, the common representation\u001b[39;00m\n\u001b[0;32m--> 516\u001b[0m plot_data \u001b[38;5;241m=\u001b[39m [np\u001b[38;5;241m.\u001b[39masarray(d, \u001b[38;5;28mfloat\u001b[39m) \u001b[38;5;28;01mfor\u001b[39;00m d \u001b[38;5;129;01min\u001b[39;00m plot_data]\n\u001b[1;32m    518\u001b[0m \u001b[38;5;66;03m# The group names will just be numeric indices\u001b[39;00m\n\u001b[1;32m    519\u001b[0m group_names \u001b[38;5;241m=\u001b[39m \u001b[38;5;28mlist\u001b[39m(\u001b[38;5;28mrange\u001b[39m(\u001b[38;5;28mlen\u001b[39m(plot_data)))\n",
      "File \u001b[0;32m/opt/conda/lib/python3.10/site-packages/seaborn/categorical.py:516\u001b[0m, in \u001b[0;36m<listcomp>\u001b[0;34m(.0)\u001b[0m\n\u001b[1;32m    513\u001b[0m     plot_data \u001b[38;5;241m=\u001b[39m data\n\u001b[1;32m    515\u001b[0m \u001b[38;5;66;03m# Convert to a list of arrays, the common representation\u001b[39;00m\n\u001b[0;32m--> 516\u001b[0m plot_data \u001b[38;5;241m=\u001b[39m [\u001b[43mnp\u001b[49m\u001b[38;5;241;43m.\u001b[39;49m\u001b[43masarray\u001b[49m\u001b[43m(\u001b[49m\u001b[43md\u001b[49m\u001b[43m,\u001b[49m\u001b[43m \u001b[49m\u001b[38;5;28;43mfloat\u001b[39;49m\u001b[43m)\u001b[49m \u001b[38;5;28;01mfor\u001b[39;00m d \u001b[38;5;129;01min\u001b[39;00m plot_data]\n\u001b[1;32m    518\u001b[0m \u001b[38;5;66;03m# The group names will just be numeric indices\u001b[39;00m\n\u001b[1;32m    519\u001b[0m group_names \u001b[38;5;241m=\u001b[39m \u001b[38;5;28mlist\u001b[39m(\u001b[38;5;28mrange\u001b[39m(\u001b[38;5;28mlen\u001b[39m(plot_data)))\n",
      "File \u001b[0;32m/opt/conda/lib/python3.10/site-packages/pandas/core/series.py:893\u001b[0m, in \u001b[0;36m__array__\u001b[0;34m(self, dtype)\u001b[0m\n\u001b[1;32m    869\u001b[0m \u001b[38;5;28;01mdef\u001b[39;00m \u001b[38;5;21m__array__\u001b[39m(\u001b[38;5;28mself\u001b[39m, dtype: npt\u001b[38;5;241m.\u001b[39mDTypeLike \u001b[38;5;241m|\u001b[39m \u001b[38;5;28;01mNone\u001b[39;00m \u001b[38;5;241m=\u001b[39m \u001b[38;5;28;01mNone\u001b[39;00m) \u001b[38;5;241m-\u001b[39m\u001b[38;5;241m>\u001b[39m np\u001b[38;5;241m.\u001b[39mndarray:\n\u001b[1;32m    870\u001b[0m \u001b[38;5;250m    \u001b[39m\u001b[38;5;124;03m\"\"\"\u001b[39;00m\n\u001b[1;32m    871\u001b[0m \u001b[38;5;124;03m    Return the values as a NumPy array.\u001b[39;00m\n\u001b[1;32m    872\u001b[0m \n\u001b[1;32m    873\u001b[0m \u001b[38;5;124;03m    Users should not call this directly. Rather, it is invoked by\u001b[39;00m\n\u001b[1;32m    874\u001b[0m \u001b[38;5;124;03m    :func:`numpy.array` and :func:`numpy.asarray`.\u001b[39;00m\n\u001b[1;32m    875\u001b[0m \n\u001b[1;32m    876\u001b[0m \u001b[38;5;124;03m    Parameters\u001b[39;00m\n\u001b[1;32m    877\u001b[0m \u001b[38;5;124;03m    ----------\u001b[39;00m\n\u001b[1;32m    878\u001b[0m \u001b[38;5;124;03m    dtype : str or numpy.dtype, optional\u001b[39;00m\n\u001b[1;32m    879\u001b[0m \u001b[38;5;124;03m        The dtype to use for the resulting NumPy array. By default,\u001b[39;00m\n\u001b[1;32m    880\u001b[0m \u001b[38;5;124;03m        the dtype is inferred from the data.\u001b[39;00m\n\u001b[1;32m    881\u001b[0m \n\u001b[1;32m    882\u001b[0m \u001b[38;5;124;03m    Returns\u001b[39;00m\n\u001b[1;32m    883\u001b[0m \u001b[38;5;124;03m    -------\u001b[39;00m\n\u001b[1;32m    884\u001b[0m \u001b[38;5;124;03m    numpy.ndarray\u001b[39;00m\n\u001b[1;32m    885\u001b[0m \u001b[38;5;124;03m        The values in the series converted to a :class:`numpy.ndarray`\u001b[39;00m\n\u001b[1;32m    886\u001b[0m \u001b[38;5;124;03m        with the specified `dtype`.\u001b[39;00m\n\u001b[1;32m    887\u001b[0m \n\u001b[1;32m    888\u001b[0m \u001b[38;5;124;03m    See Also\u001b[39;00m\n\u001b[1;32m    889\u001b[0m \u001b[38;5;124;03m    --------\u001b[39;00m\n\u001b[1;32m    890\u001b[0m \u001b[38;5;124;03m    array : Create a new array from data.\u001b[39;00m\n\u001b[1;32m    891\u001b[0m \u001b[38;5;124;03m    Series.array : Zero-copy view to the array backing the Series.\u001b[39;00m\n\u001b[1;32m    892\u001b[0m \u001b[38;5;124;03m    Series.to_numpy : Series method for similar behavior.\u001b[39;00m\n\u001b[0;32m--> 893\u001b[0m \n\u001b[1;32m    894\u001b[0m \u001b[38;5;124;03m    Examples\u001b[39;00m\n\u001b[1;32m    895\u001b[0m \u001b[38;5;124;03m    --------\u001b[39;00m\n\u001b[1;32m    896\u001b[0m \u001b[38;5;124;03m    >>> ser = pd.Series([1, 2, 3])\u001b[39;00m\n\u001b[1;32m    897\u001b[0m \u001b[38;5;124;03m    >>> np.asarray(ser)\u001b[39;00m\n\u001b[1;32m    898\u001b[0m \u001b[38;5;124;03m    array([1, 2, 3])\u001b[39;00m\n\u001b[1;32m    899\u001b[0m \n\u001b[1;32m    900\u001b[0m \u001b[38;5;124;03m    For timezone-aware data, the timezones may be retained with\u001b[39;00m\n\u001b[1;32m    901\u001b[0m \u001b[38;5;124;03m    ``dtype='object'``\u001b[39;00m\n\u001b[1;32m    902\u001b[0m \n\u001b[1;32m    903\u001b[0m \u001b[38;5;124;03m    >>> tzser = pd.Series(pd.date_range('2000', periods=2, tz=\"CET\"))\u001b[39;00m\n\u001b[1;32m    904\u001b[0m \u001b[38;5;124;03m    >>> np.asarray(tzser, dtype=\"object\")\u001b[39;00m\n\u001b[1;32m    905\u001b[0m \u001b[38;5;124;03m    array([Timestamp('2000-01-01 00:00:00+0100', tz='CET'),\u001b[39;00m\n\u001b[1;32m    906\u001b[0m \u001b[38;5;124;03m           Timestamp('2000-01-02 00:00:00+0100', tz='CET')],\u001b[39;00m\n\u001b[1;32m    907\u001b[0m \u001b[38;5;124;03m          dtype=object)\u001b[39;00m\n\u001b[1;32m    908\u001b[0m \n\u001b[1;32m    909\u001b[0m \u001b[38;5;124;03m    Or the values may be localized to UTC and the tzinfo discarded with\u001b[39;00m\n\u001b[1;32m    910\u001b[0m \u001b[38;5;124;03m    ``dtype='datetime64[ns]'``\u001b[39;00m\n\u001b[1;32m    911\u001b[0m \n\u001b[1;32m    912\u001b[0m \u001b[38;5;124;03m    >>> np.asarray(tzser, dtype=\"datetime64[ns]\")  # doctest: +ELLIPSIS\u001b[39;00m\n\u001b[1;32m    913\u001b[0m \u001b[38;5;124;03m    array(['1999-12-31T23:00:00.000000000', ...],\u001b[39;00m\n\u001b[1;32m    914\u001b[0m \u001b[38;5;124;03m          dtype='datetime64[ns]')\u001b[39;00m\n\u001b[1;32m    915\u001b[0m \u001b[38;5;124;03m    \"\"\"\u001b[39;00m\n\u001b[1;32m    916\u001b[0m     values \u001b[38;5;241m=\u001b[39m \u001b[38;5;28mself\u001b[39m\u001b[38;5;241m.\u001b[39m_values\n\u001b[1;32m    917\u001b[0m     arr \u001b[38;5;241m=\u001b[39m np\u001b[38;5;241m.\u001b[39masarray(values, dtype\u001b[38;5;241m=\u001b[39mdtype)\n",
      "\u001b[0;31mValueError\u001b[0m: could not convert string to float: 'Europa'"
     ]
    },
    {
     "data": {
      "image/png": "[encoded data removed]",
      "text/plain": [
       "<Figure size 1800x1000 with 4 Axes>"
      ]
     },
     "metadata": {},
     "output_type": "display_data"
    }
   ],
   "source": [
    "if len(cat_features) == 0 :\n",
    "    print(\"No Categorical features\")\n",
    "else:\n",
    "    ncols = 2\n",
    "    nrows = 2\n",
    "\n",
    "    fig, axes = plt.subplots(nrows, ncols, figsize=(18, 10))\n",
    "    for r in range(nrows):\n",
    "        for c in range(ncols):\n",
    "            col = cat_features[r*ncols+c]\n",
    "            sns.countplot(train[col],ax = axes[r,c] ,palette = \"viridis\", label='Train data')\n",
    "            sns.countplot(test[col],ax = axes[r,c] ,palette = \"magma\", label='Test data')\n",
    "            axes[r,c].legend()\n",
    "            axes[r,c].set_ylabel('')\n",
    "            axes[r,c].set_xlabel(col, fontsize=20)\n",
    "            axes[r,c].tick_params(labelsize=10, width=0.5)\n",
    "            axes[r,c].xaxis.offsetText.set_fontsize(4)\n",
    "            axes[r,c].yaxis.offsetText.set_fontsize(4)\n",
    "    plt.show()"
   ]
  },
  {
   "cell_type": "markdown",
   "id": "fe624c42",
   "metadata": {
    "papermill": {
     "duration": null,
     "end_time": null,
     "exception": null,
     "start_time": null,
     "status": "pending"
    },
    "tags": []
   },
   "source": [
    "**Target Distribution**"
   ]
  },
  {
   "cell_type": "code",
   "execution_count": null,
   "id": "1d3d6933",
   "metadata": {
    "execution": {
     "iopub.status.busy": "2023-05-10T10:57:00.603930Z",
     "iopub.status.idle": "2023-05-10T10:57:00.605138Z",
     "shell.execute_reply": "2023-05-10T10:57:00.604905Z",
     "shell.execute_reply.started": "2023-05-10T10:57:00.604879Z"
    },
    "papermill": {
     "duration": null,
     "end_time": null,
     "exception": null,
     "start_time": null,
     "status": "pending"
    },
    "tags": []
   },
   "outputs": [],
   "source": [
    "target_df = pd.DataFrame(train[TARGET].value_counts()).reset_index()\n",
    "target_df.columns = [TARGET, 'count']\n",
    "fig = px.bar(data_frame =target_df, \n",
    "             x = TARGET,\n",
    "             y = 'count'\n",
    "            ) \n",
    "fig.update_traces(marker_color =['#58D68D','#DE3163'], \n",
    "                  marker_line_color='rgb(0,0,0)',\n",
    "                  marker_line_width=2,)\n",
    "fig.update_layout(title = \"Target Distribution\",\n",
    "                  template = \"plotly_white\",\n",
    "                  title_x = 0.5)\n",
    "print(\"\\033[94mPercentage of Transported = 0: {:.2f} %\".format(target_df[\"count\"][0] *100 / train.shape[0]))\n",
    "print(\"\\033[94mPercentage of Transported = 1: {:.2f} %\".format(target_df[\"count\"][1]* 100 / train.shape[0]))\n",
    "fig.show()"
   ]
  },
  {
   "cell_type": "markdown",
   "id": "02137548",
   "metadata": {
    "papermill": {
     "duration": null,
     "end_time": null,
     "exception": null,
     "start_time": null,
     "status": "pending"
    },
    "tags": []
   },
   "source": [
    "**Correlation matrix**"
   ]
  },
  {
   "cell_type": "markdown",
   "id": "98e20021",
   "metadata": {
    "papermill": {
     "duration": null,
     "end_time": null,
     "exception": null,
     "start_time": null,
     "status": "pending"
    },
    "tags": []
   },
   "source": [
    "**Data Pre-Processing**"
   ]
  },
  {
   "cell_type": "markdown",
   "id": "3ff60079",
   "metadata": {
    "papermill": {
     "duration": null,
     "end_time": null,
     "exception": null,
     "start_time": null,
     "status": "pending"
    },
    "tags": []
   },
   "source": [
    "Imputing Missing Values"
   ]
  },
  {
   "cell_type": "code",
   "execution_count": null,
   "id": "f1b41131",
   "metadata": {
    "execution": {
     "iopub.execute_input": "2023-05-10T11:06:36.066368Z",
     "iopub.status.busy": "2023-05-10T11:06:36.065227Z",
     "iopub.status.idle": "2023-05-10T11:06:36.140916Z",
     "shell.execute_reply": "2023-05-10T11:06:36.139450Z",
     "shell.execute_reply.started": "2023-05-10T11:06:36.066311Z"
    },
    "papermill": {
     "duration": null,
     "end_time": null,
     "exception": null,
     "start_time": null,
     "status": "pending"
    },
    "tags": []
   },
   "outputs": [],
   "source": [
    "imputer_cols = [\"Age\", \"FoodCourt\", \"ShoppingMall\", \"Spa\",\"VRDeck\", \"RoomService\"]\n",
    "imputer = SimpleImputer(strategy = STRATEGY) #sklearn의 simpleimputer import(= fillna)\n",
    "imputer.fit(train[imputer_cols]) \n",
    "train[imputer_cols] = imputer.transform(train[imputer_cols])\n",
    "test[imputer_cols] = imputer.transform(train[imputer_cols])\n",
    "train[\"HonePlanet\"].fillna('Z', inplace = True)\n",
    "test[\"HomePlanet\"].fillna('Z', inplace = True)"
   ]
  },
  {
   "cell_type": "markdown",
   "id": "bc240658",
   "metadata": {
    "papermill": {
     "duration": null,
     "end_time": null,
     "exception": null,
     "start_time": null,
     "status": "pending"
    },
    "tags": []
   },
   "source": [
    "Encoding Categorical Features"
   ]
  },
  {
   "cell_type": "code",
   "execution_count": null,
   "id": "6efe03fc",
   "metadata": {
    "execution": {
     "iopub.execute_input": "2023-05-10T11:15:18.826970Z",
     "iopub.status.busy": "2023-05-10T11:15:18.826539Z",
     "iopub.status.idle": "2023-05-10T11:15:18.911584Z",
     "shell.execute_reply": "2023-05-10T11:15:18.910255Z",
     "shell.execute_reply.started": "2023-05-10T11:15:18.826936Z"
    },
    "papermill": {
     "duration": null,
     "end_time": null,
     "exception": null,
     "start_time": null,
     "status": "pending"
    },
    "tags": []
   },
   "outputs": [],
   "source": [
    "label_cols = [\"HomePlanet\", \"CryoSleep\",\"Cabin\", \"Destination\" ,\"VIP\"]\n",
    "def label_encoder(train,test,columns):\n",
    "    for col in columns:\n",
    "        train[col] = train[col].astype(str) #자료형 바꾸기 str로\n",
    "        test[col] = test[col].astype(str)\n",
    "        train[col] = LabelEncoder().fit_transform(train[col])\n",
    "        test[col] =  LabelEncoder().fit_transform(test[col])\n",
    "    return train, test\n",
    "\n",
    "train ,test = label_encoder(train,test ,label_cols)"
   ]
  },
  {
   "cell_type": "code",
   "execution_count": null,
   "id": "d3da18c1",
   "metadata": {
    "execution": {
     "iopub.execute_input": "2023-05-10T11:15:27.645156Z",
     "iopub.status.busy": "2023-05-10T11:15:27.643860Z",
     "iopub.status.idle": "2023-05-10T11:15:27.699611Z",
     "shell.execute_reply": "2023-05-10T11:15:27.697935Z",
     "shell.execute_reply.started": "2023-05-10T11:15:27.645113Z"
    },
    "papermill": {
     "duration": null,
     "end_time": null,
     "exception": null,
     "start_time": null,
     "status": "pending"
    },
    "tags": []
   },
   "outputs": [],
   "source": [
    "train.drop([\"Name\" ,\"Cabin\"] , axis = 1 ,inplace = True)\n",
    "test.drop([\"Name\" ,\"Cabin\"] , axis = 1 ,inplace = True)\n",
    "X = train.drop(TARGET , axis =1 )\n",
    "y = train[TARGET]\n",
    "X_train , X_test , y_train , y_test = train_test_split(X , \n",
    "                                                       y, \n",
    "                                                       random_state = 12 ,\n",
    "                                                       test_size =0.33)"
   ]
  },
  {
   "cell_type": "markdown",
   "id": "ca89ca0e",
   "metadata": {
    "papermill": {
     "duration": null,
     "end_time": null,
     "exception": null,
     "start_time": null,
     "status": "pending"
    },
    "tags": []
   },
   "source": [
    "**Modeling**   \n",
    "27 Different Classifiers (LAZY PREDICT):"
   ]
  },
  {
   "cell_type": "code",
   "execution_count": null,
   "id": "fb52808b",
   "metadata": {
    "execution": {
     "iopub.execute_input": "2023-05-10T11:20:18.290799Z",
     "iopub.status.busy": "2023-05-10T11:20:18.290387Z",
     "iopub.status.idle": "2023-05-10T11:20:33.644579Z",
     "shell.execute_reply": "2023-05-10T11:20:33.643085Z",
     "shell.execute_reply.started": "2023-05-10T11:20:18.290769Z"
    },
    "papermill": {
     "duration": null,
     "end_time": null,
     "exception": null,
     "start_time": null,
     "status": "pending"
    },
    "tags": []
   },
   "outputs": [],
   "source": [
    "clf = LazyClassifier(verbose=0,\n",
    "                     ignore_warnings=True,\n",
    "                     custom_metric=None,\n",
    "                     predictions=False,\n",
    "                     random_state=12,\n",
    "                     classifiers='all')\n",
    "\n",
    "models, predictions = clf.fit(X_train , X_test , y_train , y_test)\n",
    "clear_output()"
   ]
  },
  {
   "cell_type": "markdown",
   "id": "4756eb34",
   "metadata": {
    "papermill": {
     "duration": null,
     "end_time": null,
     "exception": null,
     "start_time": null,
     "status": "pending"
    },
    "tags": []
   },
   "source": [
    "TOP 15 Models"
   ]
  },
  {
   "cell_type": "code",
   "execution_count": null,
   "id": "f321bb84",
   "metadata": {
    "execution": {
     "iopub.execute_input": "2023-05-10T11:20:35.886160Z",
     "iopub.status.busy": "2023-05-10T11:20:35.885162Z",
     "iopub.status.idle": "2023-05-10T11:20:35.908561Z",
     "shell.execute_reply": "2023-05-10T11:20:35.906670Z",
     "shell.execute_reply.started": "2023-05-10T11:20:35.886105Z"
    },
    "papermill": {
     "duration": null,
     "end_time": null,
     "exception": null,
     "start_time": null,
     "status": "pending"
    },
    "tags": []
   },
   "outputs": [],
   "source": [
    "models[:15]"
   ]
  },
  {
   "cell_type": "markdown",
   "id": "84424e95",
   "metadata": {
    "papermill": {
     "duration": null,
     "end_time": null,
     "exception": null,
     "start_time": null,
     "status": "pending"
    },
    "tags": []
   },
   "source": [
    "Visualizing Results"
   ]
  },
  {
   "cell_type": "code",
   "execution_count": null,
   "id": "6338872e",
   "metadata": {
    "execution": {
     "iopub.execute_input": "2023-05-10T11:21:03.112300Z",
     "iopub.status.busy": "2023-05-10T11:21:03.111859Z",
     "iopub.status.idle": "2023-05-10T11:21:03.272921Z",
     "shell.execute_reply": "2023-05-10T11:21:03.271212Z",
     "shell.execute_reply.started": "2023-05-10T11:21:03.112268Z"
    },
    "papermill": {
     "duration": null,
     "end_time": null,
     "exception": null,
     "start_time": null,
     "status": "pending"
    },
    "tags": []
   },
   "outputs": [],
   "source": [
    "line = px.line(data_frame= models ,y =[\"Accuracy\"] , markers = True)\n",
    "line.update_xaxes(title=\"Model\",\n",
    "              rangeslider_visible = False)\n",
    "line.update_yaxes(title = \"Accuracy\")\n",
    "line.update_traces(line_color=\"red\")\n",
    "line.update_layout(showlegend = True,\n",
    "    title = {\n",
    "        'text': 'Accuracy vs Model',\n",
    "        'y':0.94,\n",
    "        'x':0.5,\n",
    "        'xanchor': 'center',\n",
    "        'yanchor': 'top'})\n",
    "\n",
    "line.show()"
   ]
  },
  {
   "cell_type": "code",
   "execution_count": null,
   "id": "c1e02fa5",
   "metadata": {
    "execution": {
     "iopub.execute_input": "2023-05-10T11:21:13.892325Z",
     "iopub.status.busy": "2023-05-10T11:21:13.891868Z",
     "iopub.status.idle": "2023-05-10T11:21:13.990924Z",
     "shell.execute_reply": "2023-05-10T11:21:13.990041Z",
     "shell.execute_reply.started": "2023-05-10T11:21:13.892291Z"
    },
    "papermill": {
     "duration": null,
     "end_time": null,
     "exception": null,
     "start_time": null,
     "status": "pending"
    },
    "tags": []
   },
   "outputs": [],
   "source": [
    "line = px.line(data_frame= models ,y =[\"ROC AUC\" , \"F1 Score\"] , markers = True)\n",
    "line.update_xaxes(title=\"Model\",\n",
    "              rangeslider_visible = False)\n",
    "line.update_yaxes(title = \"ROC AUC SCORE\")\n",
    "line.update_layout(showlegend = True,\n",
    "    title = {\n",
    "        'text': 'ROC AUC and F1 Score vs Model',\n",
    "        'y':0.94,\n",
    "        'x':0.5,\n",
    "        'xanchor': 'center',\n",
    "        'yanchor': 'top'})\n",
    "\n",
    "line.show()"
   ]
  },
  {
   "cell_type": "code",
   "execution_count": null,
   "id": "6a846771",
   "metadata": {
    "execution": {
     "iopub.execute_input": "2023-05-10T11:21:31.908493Z",
     "iopub.status.busy": "2023-05-10T11:21:31.907110Z",
     "iopub.status.idle": "2023-05-10T11:21:32.007653Z",
     "shell.execute_reply": "2023-05-10T11:21:32.006210Z",
     "shell.execute_reply.started": "2023-05-10T11:21:31.908442Z"
    },
    "papermill": {
     "duration": null,
     "end_time": null,
     "exception": null,
     "start_time": null,
     "status": "pending"
    },
    "tags": []
   },
   "outputs": [],
   "source": [
    "line = px.line(data_frame= models ,y =[\"Time Taken\"] , markers = True)\n",
    "line.update_xaxes(title=\"Model\",\n",
    "              rangeslider_visible = False)\n",
    "line.update_yaxes(title = \"Time(s)\")\n",
    "line.update_traces(line_color=\"purple\")\n",
    "line.update_layout(showlegend = True,\n",
    "    title = {\n",
    "        'text': 'TIME TAKEN vs Model',\n",
    "        'y':0.94,\n",
    "        'x':0.5,\n",
    "        'xanchor': 'center',\n",
    "        'yanchor': 'top'})\n",
    "\n",
    "line.show()"
   ]
  },
  {
   "cell_type": "markdown",
   "id": "b2a73cb4",
   "metadata": {
    "papermill": {
     "duration": null,
     "end_time": null,
     "exception": null,
     "start_time": null,
     "status": "pending"
    },
    "tags": []
   },
   "source": [
    "LGBM Classifier(5 FOLDS):"
   ]
  },
  {
   "cell_type": "code",
   "execution_count": null,
   "id": "6599f0b3",
   "metadata": {
    "execution": {
     "iopub.execute_input": "2023-05-10T11:21:58.044700Z",
     "iopub.status.busy": "2023-05-10T11:21:58.044210Z",
     "iopub.status.idle": "2023-05-10T11:22:00.363977Z",
     "shell.execute_reply": "2023-05-10T11:22:00.362353Z",
     "shell.execute_reply.started": "2023-05-10T11:21:58.044666Z"
    },
    "papermill": {
     "duration": null,
     "end_time": null,
     "exception": null,
     "start_time": null,
     "status": "pending"
    },
    "tags": []
   },
   "outputs": [],
   "source": [
    "lgb_params = {\n",
    "    'objective' : 'binary',\n",
    "    'n_estimators' :50,\n",
    "    'learning_rate' : 0.08\n",
    "}\n",
    "\n",
    "lgb_predictions = 0\n",
    "lgb_scores = []\n",
    "lgb_fimp = []\n",
    "LGBM_FEATURES = list(train.columns)[:-1]\n",
    "skf = StratifiedKFold(n_splits=FOLDS, shuffle=True, random_state=RANDOM_STATE)\n",
    "for fold, (train_idx, valid_idx) in enumerate(skf.split(train[LGBM_FEATURES], train[TARGET])):\n",
    "    print(f'\\033[94m')\n",
    "    print(10*\"=\", f\"Fold={fold+1}\", 10*\"=\")\n",
    "    start_time = time.time()\n",
    "    \n",
    "    X_train, X_valid = train.iloc[train_idx][LGBM_FEATURES], train.iloc[valid_idx][LGBM_FEATURES]\n",
    "    y_train , y_valid = train[TARGET].iloc[train_idx] , train[TARGET].iloc[valid_idx]\n",
    "    \n",
    "    model = LGBMClassifier(**lgb_params)\n",
    "    model.fit(X_train, y_train,verbose=0)\n",
    "    \n",
    "    preds_valid = model.predict(X_valid)\n",
    "    acc = accuracy_score(y_valid,  preds_valid)\n",
    "    lgb_scores.append(acc)\n",
    "    run_time = time.time() - start_time\n",
    "    \n",
    "    fim = pd.DataFrame(index=LGBM_FEATURES,\n",
    "                 data=model.feature_importances_,\n",
    "                 columns=[f'{fold}_importance'])\n",
    "    lgb_fimp.append(fim)\n",
    "    \n",
    "    print(f\"Fold={fold+1}, Accuracy score: {acc:.2f}%, Run Time: {run_time:.2f}s\")\n",
    "    test_preds = model.predict(test[LGBM_FEATURES]) \n",
    "    lgb_predictions += test_preds/FOLDS\n",
    "print(\"\")\n",
    "print(\"Mean Accuracy :\", np.mean(lgb_scores))"
   ]
  },
  {
   "cell_type": "markdown",
   "id": "637f5b07",
   "metadata": {
    "papermill": {
     "duration": null,
     "end_time": null,
     "exception": null,
     "start_time": null,
     "status": "pending"
    },
    "tags": []
   },
   "source": [
    "Feature Importance"
   ]
  },
  {
   "cell_type": "code",
   "execution_count": null,
   "id": "d4df4eb9",
   "metadata": {
    "execution": {
     "iopub.execute_input": "2023-05-10T11:22:16.343845Z",
     "iopub.status.busy": "2023-05-10T11:22:16.343003Z",
     "iopub.status.idle": "2023-05-10T11:22:16.480215Z",
     "shell.execute_reply": "2023-05-10T11:22:16.478496Z",
     "shell.execute_reply.started": "2023-05-10T11:22:16.343809Z"
    },
    "papermill": {
     "duration": null,
     "end_time": null,
     "exception": null,
     "start_time": null,
     "status": "pending"
    },
    "tags": []
   },
   "outputs": [],
   "source": [
    "lgbm_fis_df = pd.concat(lgb_fimp, axis=1).head(15)\n",
    "lgbm_fis_df.sort_values('1_importance').plot(kind='barh', figsize=(15, 10),\n",
    "                                       title='Feature Importance Across Folds')\n",
    "plt.show()"
   ]
  },
  {
   "cell_type": "markdown",
   "id": "64cb018c",
   "metadata": {
    "papermill": {
     "duration": null,
     "end_time": null,
     "exception": null,
     "start_time": null,
     "status": "pending"
    },
    "tags": []
   },
   "source": [
    "**Submission**   \n",
    "LGBM Classifier Submission: "
   ]
  },
  {
   "cell_type": "code",
   "execution_count": null,
   "id": "327fd18b",
   "metadata": {
    "execution": {
     "iopub.execute_input": "2023-05-10T11:22:56.291504Z",
     "iopub.status.busy": "2023-05-10T11:22:56.290835Z",
     "iopub.status.idle": "2023-05-10T11:22:56.317025Z",
     "shell.execute_reply": "2023-05-10T11:22:56.315952Z",
     "shell.execute_reply.started": "2023-05-10T11:22:56.291472Z"
    },
    "papermill": {
     "duration": null,
     "end_time": null,
     "exception": null,
     "start_time": null,
     "status": "pending"
    },
    "tags": []
   },
   "outputs": [],
   "source": [
    "submission[TARGET] = lgb_predictions.astype(\"bool\")\n",
    "submission.to_csv(\"submission.csv\",index=False)\n",
    "submission.head()"
   ]
  }
 ],
 "metadata": {
  "kernelspec": {
   "display_name": "Python 3",
   "language": "python",
   "name": "python3"
  },
  "language_info": {
   "codemirror_mode": {
    "name": "ipython",
    "version": 3
   },
   "file_extension": ".py",
   "mimetype": "text/x-python",
   "name": "python",
   "nbconvert_exporter": "python",
   "pygments_lexer": "ipython3",
   "version": "3.10.10"
  },
  "papermill": {
   "default_parameters": {},
   "duration": 68.28311,
   "end_time": "2023-05-10T11:24:56.366287",
   "environment_variables": {},
   "exception": true,
   "input_path": "__notebook__.ipynb",
   "output_path": "__notebook__.ipynb",
   "parameters": {},
   "start_time": "2023-05-10T11:23:48.083177",
   "version": "2.4.0"
  }
 },
 "nbformat": 4,
 "nbformat_minor": 5
}
