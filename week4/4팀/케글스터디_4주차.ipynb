{
  "nbformat": 4,
  "nbformat_minor": 0,
  "metadata": {
    "colab": {
      "private_outputs": true,
      "provenance": [],
      "authorship_tag": "ABX9TyOY0ZdBWVMXqBA73jDcjSgN",
      "include_colab_link": true
    },
    "kernelspec": {
      "name": "python3",
      "display_name": "Python 3"
    },
    "language_info": {
      "name": "python"
    }
  },
  "cells": [
    {
      "cell_type": "markdown",
      "metadata": {
        "id": "view-in-github",
        "colab_type": "text"
      },
      "source": [
        "<a href=\"https://colab.research.google.com/github/sejongsmarcle/2023_Spring_Kaggle_Study/blob/main/week4/4%ED%8C%80/%EC%BC%80%EA%B8%80%EC%8A%A4%ED%84%B0%EB%94%94_4%EC%A3%BC%EC%B0%A8.ipynb\" target=\"_parent\"><img src=\"https://colab.research.google.com/assets/colab-badge.svg\" alt=\"Open In Colab\"/></a>"
      ]
    },
    {
      "cell_type": "markdown",
      "source": [
        "#케글스터디 데이터분석 입문 1강\n",
        "#What is Kaggle?"
      ],
      "metadata": {
        "id": "IsYz8oFEqLZt"
      }
    },
    {
      "cell_type": "markdown",
      "source": [
        "케글은 2010년 설립된 빅데이터 솔루션 대회 플랫폼 회사 현) 구글에서 인수\n",
        "\n",
        "- Data science,ML, DL을 주제로 모인 회원 200만명 community\n",
        "\n",
        "- 기업, 공공기관, 정부 등에서 데이터셋을 제공하여 컴피티션 주최\n",
        "\n",
        "- 최소 11883개 이상의 데이터셋을 가지고 있다.\n",
        "\n",
        "- 캐글에서 제공하는 가상환경 with GPU\n",
        "\n",
        "- 분석된 데이터셋 공유"
      ],
      "metadata": {
        "id": "uXLO7205rMJ0"
      }
    },
    {
      "cell_type": "markdown",
      "source": [
        "#케글스터디 데이터분석 입문 2강\n",
        "#Why do Kaggle?"
      ],
      "metadata": {
        "id": "yVbsWnVuqb7h"
      }
    },
    {
      "cell_type": "markdown",
      "source": [
        "- 실력 향상\n",
        " - ML certificate\n",
        " - Portfolio (캐글 프로필)\n",
        " - 경험 (컴피티션)\n",
        "\n",
        "- 실력 향상으로 인한 기회\n",
        " - porto competition 진행 하며, 회사에 입사\n",
        "\n",
        "- 최상위권자들의 프로필을 집중 분석하여 내 것으로 적용하자.\n",
        "\n",
        "발표자는 이런것들을 배웠다.\n",
        "- Exploratory data analysis\n",
        " - Data visualization\n",
        "  - Matplotlib, Seaborn, Plotly\n",
        "  - Data mining\n",
        "  - Pandas, numpy\n",
        "- Feature engineering\n",
        " - Time series features\n",
        " - Categorical features\n",
        " - Numerical features\n",
        " - Aggregation features\n",
        " - Ratio features\n",
        " - Product features\n",
        "- Data preparation\n",
        " - Data augmentation (imbalance)\n",
        "  - Upsampling\n",
        "  - Downsampling\n",
        "  - SMOTE\n",
        "- Model development\n",
        " - Sklearn\n",
        "  - Linear model\n",
        "  - Non-linear model\n",
        "  - Tree model\n",
        " - Not sklearn\n",
        "  - Xgboost\n",
        "  - Lightgbm\n",
        "  - Catboost\n",
        "  - LibFFM\n",
        "- Model evaluation\n",
        " - Various metrics\n",
        "  - Accuracy\n",
        "  - Precision\n",
        "  - Recall\n",
        "  - F1-score\n",
        "  - Etc.\n",
        "- Other technique\n",
        " - Machine learning pipeline\n",
        "  - My pipeline code\n",
        " - Feature management\n",
        "\n",
        "책 추천 : 파이썬 머신러닝 완벽가이드, 창시자 딥러닝\n",
        "\n",
        "- Tensorflow : 30개 단어를 구분하는 AI 만들어라\n",
        "- Quora : 성실한, 불성실한 질문을 구분해내라\n",
        "- Doodle : 340개의 클래스 별 낙서를 ANN 으로 구분하라.\n",
        "- Protein : 28개의 클래스 별 Protein 을 ANN 으로 구분하라.\n",
        "- Airbus : 바다 위 배를 찍은 위성 사진에서 배의 위치를 찾아내라\n",
        "- Statoil : 바다 위 빙산과 배를 구분하라\n",
        "\n",
        "!!대회를 참여해라!!"
      ],
      "metadata": {
        "id": "0mliBRBrtd4S"
      }
    },
    {
      "cell_type": "markdown",
      "source": [
        "\n",
        "#케글스터디 데이터분석 입문 3강\n",
        "#캐글 컴피티션 참여 방법"
      ],
      "metadata": {
        "id": "iH9cB-Ctqiji"
      }
    },
    {
      "cell_type": "markdown",
      "source": [
        "무엇부터 해야하나?\n",
        "- 데이터 분석 먼저\n",
        "머신 러닝?\n",
        "- Pattern recognition\n",
        "- Make general function(conditions) to obtain goal(minimize loss)\n",
        "- Learn statistics(correlations) between feature vs feature / feature vs target\n",
        "\n",
        "★★DATA★★\n",
        "\n",
        "당신의 모델은, 당신이 input으로 준 것 만큼 좋다!\n",
        "\n",
        "컴피티션은 팀으로 구성하여 참가하는게 좋다!\n",
        "\n",
        "순서\n",
        "1. Dtat check\n",
        " - Feature check\n",
        " - Null data check\n",
        " - Outlier check\n",
        "2. Feature engineering\n",
        " - Ratio features\n",
        " - Product features\n",
        " - Addition or Subtraction features\n",
        " - New categorical features\n",
        " - Aggregation features (그룹화)\n",
        " - Categorical features (순서)\n",
        " - Fill missing values and infinite values\n",
        "3. Feature selection\n",
        " - Use various approaches\n",
        "4. Model development\n",
        " - Use LGBM (성능 좋고 빠름)\n",
        "5. Training strategy\n",
        " - Ensemble is always answer\n",
        "6. Stacking and Averaging\n",
        " - 다른사람의 커널과 합침\n",
        " - 여러 모델 합침\n",
        " 성능을 올리려면 뭘 해야할까요\n",
        "Feature generation -> More stacking\n",
        "이후 Parameter tuning은 눈치껏\n",
        "\n",
        "Feature generation -> Cross vaildation system -> cv성능향상? \n",
        "- yes -> FeatSet Update \n",
        "- No -> Feature generation\n",
        "\n"
      ],
      "metadata": {
        "id": "OW_WvjZzteuY"
      }
    },
    {
      "cell_type": "markdown",
      "source": [
        "#케글스터디 데이터분석 입문 4강\n",
        "#Kaggle 사용법"
      ],
      "metadata": {
        "id": "h9wemY_BqtUs"
      }
    },
    {
      "cell_type": "markdown",
      "source": [
        "Description에도 정보가 있기 때문에 읽는 것이 좋다.\n",
        "\n",
        "- evaluation (Metric)\n",
        "- Tutorial\n",
        "- Data\n",
        " - description 보기\n",
        " \n",
        "커널에서 좋아요가 가장 많은 것들 위주로 보자\n",
        "\n",
        "디스커션도 사람들 얘기하는 것을 본다.\n",
        "\n",
        "모르는 단어가 나오면 커널에서 찾아보면 쉽게 알 수 있다.\n",
        "\n"
      ],
      "metadata": {
        "id": "NYaGKYVg4q7l"
      }
    }
  ]
}