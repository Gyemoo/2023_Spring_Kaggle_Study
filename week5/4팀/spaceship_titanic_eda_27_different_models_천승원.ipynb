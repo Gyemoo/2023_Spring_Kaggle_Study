{
  "metadata": {
    "kernelspec": {
      "language": "python",
      "display_name": "Python 3",
      "name": "python3"
    },
    "language_info": {
      "name": "python",
      "version": "3.7.12",
      "mimetype": "text/x-python",
      "codemirror_mode": {
        "name": "ipython",
        "version": 3
      },
      "pygments_lexer": "ipython3",
      "nbconvert_exporter": "python",
      "file_extension": ".py"
    },
    "colab": {
      "provenance": [],
      "include_colab_link": true
    }
  },
  "nbformat_minor": 0,
  "nbformat": 4,
  "cells": [
    {
      "cell_type": "markdown",
      "metadata": {
        "id": "view-in-github",
        "colab_type": "text"
      },
      "source": [
        "<a href=\"https://colab.research.google.com/github/sejongsmarcle/2023_Spring_Kaggle_Study/blob/main/week5/4%ED%8C%80/spaceship_titanic_eda_27_different_models_%EC%B2%9C%EC%8A%B9%EC%9B%90.ipynb\" target=\"_parent\"><img src=\"https://colab.research.google.com/assets/colab-badge.svg\" alt=\"Open In Colab\"/></a>"
      ]
    },
    {
      "cell_type": "markdown",
      "source": [
        "### 추가로 조사한 내용은 모두 주석에 달려 있음.\n",
        "### 지금 from lightgbm import LGBMClassifier 랑 from lazypredict.Supervised import LazyClassifier가 정상적으로 동작하지 않아 뒤의 모든 코드가 오류가 나거나 어떻게든 출력해도 정상적인 출력이 안나오는 상태. - 나중에 해결책을 찾은 뒤 다시 복습하든 해야할듯."
      ],
      "metadata": {
        "id": "JvKyHb-Glg0B"
      }
    },
    {
      "cell_type": "markdown",
      "source": [
        "**Created by Sanskar Hasija**\n",
        "\n",
        "**🚀Spaceship Titanic -📊EDA + 27 different models📈**\n",
        "\n",
        "**24 February 2022**\n"
      ],
      "metadata": {
        "_cell_guid": "b1076dfc-b9ad-4769-8c92-a6c4dae69d19",
        "_uuid": "8f2839f25d086af736a60e9eeb907d3b93b6e0e5",
        "papermill": {
          "duration": 0.046496,
          "end_time": "2022-01-18T20:32:33.025762",
          "exception": false,
          "start_time": "2022-01-18T20:32:32.979266",
          "status": "completed"
        },
        "tags": [],
        "id": "ZXU6ErSG94rq"
      }
    },
    {
      "cell_type": "markdown",
      "source": [
        "# <center> 🚀SPACESHIP TITANIC -📊EDA + 27 DIFFERENT MODELS📈 </center>\n",
        "## <center>If you find this notebook useful, support with an upvote👍</center>"
      ],
      "metadata": {
        "papermill": {
          "duration": 0.04767,
          "end_time": "2022-01-18T20:32:33.118875",
          "exception": false,
          "start_time": "2022-01-18T20:32:33.071205",
          "status": "completed"
        },
        "tags": [],
        "id": "bOOEBoVG94ru"
      }
    },
    {
      "cell_type": "markdown",
      "source": [
        "# Table of Contents\n",
        "<a id=\"toc\"></a>\n",
        "- [1. Introduction](#1)\n",
        "- [2. Imports](#2)\n",
        "- [3. Data Loading and Preperation](#3)\n",
        "    - [3.1 Exploring Train Data](#3.1)\n",
        "    - [3.2 Exploring Test Data](#3.2)\n",
        "    - [3.3 Submission File](#3.3)\n",
        "- [4. EDA](#4)\n",
        "    - [4.1 Overview of Data](#4.1)\n",
        "    - [4.2 Null Value Distribution](#4.7)\n",
        "    - [4.3 Continuos and Categorical Data Distribution](#4.2)\n",
        "    - [4.4 Feature Distribution of Continous Features](#4.3)\n",
        "    - [4.5 Feature Distribution of Categorical Features](#4.4)\n",
        "    - [4.6 Target Distribution ](#4.5)\n",
        "    - [4.7 Correlation Matrix ](#4.6)\n",
        "- [5. Data Pre-Processing](#5)    \n",
        "- [6. Modeling](#6)\n",
        "    - [6.1 27 Different Classifiers ( LAZY PREDICT )](#6.1)\n",
        "    - [6.2 LGBM Classifier](#6.2)\n",
        "- [7. Submission](#7)   "
      ],
      "metadata": {
        "papermill": {
          "duration": 0.045456,
          "end_time": "2022-01-18T20:32:33.20956",
          "exception": false,
          "start_time": "2022-01-18T20:32:33.164104",
          "status": "completed"
        },
        "tags": [],
        "id": "PhJJOlDv94ru"
      }
    },
    {
      "cell_type": "markdown",
      "source": [
        "<a id=\"1\"></a>\n",
        "# **<center><span style=\"color:#00BFC4;\">Introduction  </span></center>**"
      ],
      "metadata": {
        "papermill": {
          "duration": 0.044907,
          "end_time": "2022-01-18T20:32:33.30026",
          "exception": false,
          "start_time": "2022-01-18T20:32:33.255353",
          "status": "completed"
        },
        "tags": [],
        "id": "ccx5nYtd94rv"
      }
    },
    {
      "cell_type": "markdown",
      "source": [
        "![](https://storage.googleapis.com/kaggle-competitions/kaggle/34377/logos/header.png?t=2022-02-11-21-53-06)"
      ],
      "metadata": {
        "id": "IlE1ygWu94rv"
      }
    },
    {
      "cell_type": "markdown",
      "source": [
        "**The competition is organised by `Kaggle` and is in the `GettingStarted Prediction Competition` series.**\n",
        "\n",
        "\n",
        "**In this competition, you are supposed to predict predict which passengers were transported by the anomaly using records recovered from the spaceship’s damaged computer system.**\n",
        "\n",
        "**Submissions are evaluated on `Classification Accuracy`.**"
      ],
      "metadata": {
        "papermill": {
          "duration": 0.045094,
          "end_time": "2022-01-18T20:32:33.390801",
          "exception": false,
          "start_time": "2022-01-18T20:32:33.345707",
          "status": "completed"
        },
        "tags": [],
        "id": "ljs1UeJW94rv"
      }
    },
    {
      "cell_type": "markdown",
      "source": [
        "<a href=\"#toc\" role=\"button\" aria-pressed=\"true\" >⬆️Back to Table of Contents ⬆️</a>"
      ],
      "metadata": {
        "papermill": {
          "duration": 0.044896,
          "end_time": "2022-01-18T20:32:33.480879",
          "exception": false,
          "start_time": "2022-01-18T20:32:33.435983",
          "status": "completed"
        },
        "tags": [],
        "id": "nSKmk3Iu94rv"
      }
    },
    {
      "cell_type": "markdown",
      "source": [
        "<a id=\"2\"></a>\n",
        "# **<center><span style=\"color:#00BFC4;\">Imports  </span></center>**"
      ],
      "metadata": {
        "papermill": {
          "duration": 0.044547,
          "end_time": "2022-01-18T20:32:33.570315",
          "exception": false,
          "start_time": "2022-01-18T20:32:33.525768",
          "status": "completed"
        },
        "tags": [],
        "id": "K4xQtwfI94rw"
      }
    },
    {
      "cell_type": "markdown",
      "source": [
        "### <span style=\"color:#e76f51;\"> Installing LazyPredict : </span>"
      ],
      "metadata": {
        "id": "cKLxA25z94rw"
      }
    },
    {
      "cell_type": "markdown",
      "source": [
        "Check the offical Documentation of LazyPredict here : https://lazypredict.readthedocs.io"
      ],
      "metadata": {
        "id": "-YuoQJ9794rw"
      }
    },
    {
      "cell_type": "code",
      "source": [
        "from IPython.display import clear_output\n",
        "!pip3 install -U lazypredict\n",
        "!pip3 install -U pandas #Upgrading pandas\n",
        "\n",
        "#\n",
        "clear_output()"
      ],
      "metadata": {
        "_kg_hide-input": false,
        "execution": {
          "iopub.status.busy": "2023-05-09T14:38:13.224290Z",
          "iopub.execute_input": "2023-05-09T14:38:13.224657Z",
          "iopub.status.idle": "2023-05-09T14:38:13.320210Z",
          "shell.execute_reply.started": "2023-05-09T14:38:13.224554Z",
          "shell.execute_reply": "2023-05-09T14:38:13.317891Z"
        },
        "trusted": true,
        "id": "3C0J4p7I94rw"
      },
      "execution_count": 40,
      "outputs": []
    },
    {
      "cell_type": "code",
      "source": [
        "import numpy as np\n",
        "import pandas as pd\n",
        "import seaborn as sns\n",
        "import plotly.express as px\n",
        "import matplotlib.pyplot as plt\n",
        "import plotly.graph_objects as go\n",
        "from plotly.subplots import make_subplots\n",
        "\n",
        "from sklearn.impute import SimpleImputer\n",
        "from sklearn.metrics import accuracy_score\n",
        "from sklearn.preprocessing import LabelEncoder\n",
        "from sklearn.model_selection import StratifiedKFold, train_test_split\n",
        "# 원핫인코딩할때 썼던 거(label encoder)랑 정확도 측정때 사용했던 것들(accuracy_score)? k겹 교차검증(kFold)에 test데이터 스플릿함수 import(자세힌 기억이...)\n",
        "\n",
        "# from lightgbm import LGBMClassifier # LGBMClassifier가 지금 전체적으로 오류남.\n",
        "import lazypredict\n",
        "# Lazy predict - 튜닝 없이 Basic 모델을 이용했을 때, 어떤 모델을 이용하면 좋은 결과를 얻을 수 있는지 확인할 수 있다. 단, 튜닝이 없기에 맹신은 금물.\n",
        "\n",
        "# from lazypredict.Supervised import LazyClassifier # 얘도 마찬가지로 오류남.\n",
        "\n",
        "import time\n",
        "import warnings\n",
        "warnings.filterwarnings('ignore')"
      ],
      "metadata": {
        "_kg_hide-input": false,
        "papermill": {
          "duration": 8.468454,
          "end_time": "2022-01-18T20:32:42.084652",
          "exception": false,
          "start_time": "2022-01-18T20:32:33.616198",
          "status": "completed"
        },
        "tags": [],
        "execution": {
          "iopub.status.busy": "2023-05-09T14:39:01.941140Z",
          "iopub.execute_input": "2023-05-09T14:39:01.941659Z",
          "iopub.status.idle": "2023-05-09T14:39:05.257566Z",
          "shell.execute_reply.started": "2023-05-09T14:39:01.941621Z",
          "shell.execute_reply": "2023-05-09T14:39:05.256277Z"
        },
        "trusted": true,
        "id": "CzKriQOR94ry"
      },
      "execution_count": 41,
      "outputs": []
    },
    {
      "cell_type": "markdown",
      "source": [
        "<a href=\"#toc\" role=\"button\" aria-pressed=\"true\" >⬆️Back to Table of Contents ⬆️</a>"
      ],
      "metadata": {
        "papermill": {
          "duration": 0.04567,
          "end_time": "2022-01-18T20:32:42.177468",
          "exception": false,
          "start_time": "2022-01-18T20:32:42.131798",
          "status": "completed"
        },
        "tags": [],
        "id": "8uMis2u694ry"
      }
    },
    {
      "cell_type": "markdown",
      "source": [
        "<a id=\"3\"></a>\n",
        "# **<center><span style=\"color:#00BFC4;\">Data Loading and Preparation </span></center>**"
      ],
      "metadata": {
        "papermill": {
          "duration": 0.04636,
          "end_time": "2022-01-18T20:32:42.269521",
          "exception": false,
          "start_time": "2022-01-18T20:32:42.223161",
          "status": "completed"
        },
        "tags": [],
        "id": "no2_hsaQ94ry"
      }
    },
    {
      "cell_type": "code",
      "source": [
        "train = pd.read_csv(\"/content/train.csv\")\n",
        "test = pd.read_csv(\"/content/test.csv\")\n",
        "submission = pd.read_csv(\"/content/sample_submission.csv\")\n",
        "\n",
        "RANDOM_STATE = 12 \n",
        "FOLDS = 5\n",
        "STRATEGY = 'median'"
      ],
      "metadata": {
        "papermill": {
          "duration": 0.349361,
          "end_time": "2022-01-18T20:32:42.665291",
          "exception": false,
          "start_time": "2022-01-18T20:32:42.31593",
          "status": "completed"
        },
        "tags": [],
        "_kg_hide-input": true,
        "execution": {
          "iopub.status.busy": "2022-04-01T23:14:43.570704Z",
          "iopub.execute_input": "2022-04-01T23:14:43.571122Z",
          "iopub.status.idle": "2022-04-01T23:14:43.680408Z",
          "shell.execute_reply.started": "2022-04-01T23:14:43.571086Z",
          "shell.execute_reply": "2022-04-01T23:14:43.679489Z"
        },
        "trusted": true,
        "id": "tUgreOIT94ry"
      },
      "execution_count": 42,
      "outputs": []
    },
    {
      "cell_type": "markdown",
      "source": [
        "## <span style=\"color:#e76f51;\"> Column 설명  : </span>\n",
        "\n",
        "\n",
        "- `PassengerId` - A unique Id for each passenger. Each Id takes the form gggg_pp where gggg indicates a group the passenger is travelling with and pp is their number within the group. People in a group are often family members, but not always.\n",
        "- `HomePlanet` - The planet the passenger departed from, typically their planet of permanent residence.\n",
        "- `CryoSleep` - Indicates whether the passenger elected to be put into suspended animation for the duration of the voyage. Passengers in cryosleep are confined to their cabins.\n",
        "- `Cabin` - The cabin number where the passenger is staying. Takes the form deck/num/side, where side can be either P for Port or S for Starboard.\n",
        "- `Destination` - The planet the passenger will be debarking to.\n",
        "- `Age` - The age of the passenger.\n",
        "- `VIP` - Whether the passenger has paid for special VIP service during the voyage.\n",
        "- `RoomService`, FoodCourt, ShoppingMall, Spa, VRDeck - Amount the passenger has billed at each of the Spaceship Titanic's many luxury amenities.\n",
        "- `Name` - The first and last names of the passenger.\n",
        "- `Transported` - Whether the passenger was transported to another dimension. This is the target, the column you are trying to predict.\n",
        "\n"
      ],
      "metadata": {
        "id": "O2mvxM0x94rz"
      }
    },
    {
      "cell_type": "markdown",
      "source": [
        "<a id=\"3.1\"></a>\n",
        "## <span style=\"color:#e76f51;\"> Train Data셋 설명 : </span>"
      ],
      "metadata": {
        "papermill": {
          "duration": 0.047229,
          "end_time": "2022-01-18T20:32:42.759691",
          "exception": false,
          "start_time": "2022-01-18T20:32:42.712462",
          "status": "completed"
        },
        "tags": [],
        "id": "UcLRy3Mn94rz"
      }
    },
    {
      "cell_type": "markdown",
      "source": [
        "<div class=\"alert alert-block alert-info\" style=\"font-size:14px; font-family:verdana; line-height: 1.7em;\">\n",
        "    📌 &nbsp;<b><u>Observations in Train Data:</u></b><br>\n",
        " \n",
        "* <i> There are total of <b><u>14</u></b> columns and <b><u>8693</u></b> rows in <b><u>train</u></b> data.</i><br>\n",
        "* <i> Train data contains <b><u>119378</u></b> observation with <b><u>2324</u></b>  missing values.</i><br>\n",
        "* <i> All 12 feature columns have missing values in them with <b><u>CryoSleep</u></b> having highest missing values <u>(217)</u>  </i><br>\n",
        "* <i> <b><u>Transported</u></b> is the target variable which is only available in the <b><u>train</u></b> dataset.</i><br>\n",
        "</div>"
      ],
      "metadata": {
        "papermill": {
          "duration": 0.045439,
          "end_time": "2022-01-18T20:32:42.851098",
          "exception": false,
          "start_time": "2022-01-18T20:32:42.805659",
          "status": "completed"
        },
        "tags": [],
        "id": "8wK1ZADy94rz"
      }
    },
    {
      "cell_type": "markdown",
      "source": [
        "### <span style=\"color:#e76f51;\"> Quick view of Train Data : </span>"
      ],
      "metadata": {
        "papermill": {
          "duration": 0.049179,
          "end_time": "2022-01-18T20:32:42.946183",
          "exception": false,
          "start_time": "2022-01-18T20:32:42.897004",
          "status": "completed"
        },
        "tags": [],
        "id": "q_XZPQ3I94rz"
      }
    },
    {
      "cell_type": "markdown",
      "source": [
        "Below are the first 5 rows of train dataset:"
      ],
      "metadata": {
        "papermill": {
          "duration": 0.056193,
          "end_time": "2022-01-18T20:32:43.059217",
          "exception": false,
          "start_time": "2022-01-18T20:32:43.003024",
          "status": "completed"
        },
        "tags": [],
        "id": "-XZw6CON94rz"
      }
    },
    {
      "cell_type": "code",
      "source": [
        "train.head()"
      ],
      "metadata": {
        "_kg_hide-input": true,
        "papermill": {
          "duration": 0.081686,
          "end_time": "2022-01-18T20:32:43.197777",
          "exception": false,
          "start_time": "2022-01-18T20:32:43.116091",
          "status": "completed"
        },
        "tags": [],
        "execution": {
          "iopub.status.busy": "2022-04-01T23:14:44.612721Z",
          "iopub.execute_input": "2022-04-01T23:14:44.613681Z",
          "iopub.status.idle": "2022-04-01T23:14:44.650458Z",
          "shell.execute_reply.started": "2022-04-01T23:14:44.613614Z",
          "shell.execute_reply": "2022-04-01T23:14:44.649735Z"
        },
        "trusted": true,
        "colab": {
          "base_uri": "https://localhost:8080/",
          "height": 206
        },
        "id": "u00rL2Ll94r0",
        "outputId": "ee8b863b-b2f2-4f0f-fee1-ab557c7faa83"
      },
      "execution_count": 43,
      "outputs": [
        {
          "output_type": "execute_result",
          "data": {
            "text/plain": [
              "  PassengerId HomePlanet CryoSleep  Cabin  Destination   Age    VIP   \n",
              "0     0001_01     Europa     False  B/0/P  TRAPPIST-1e  39.0  False  \\\n",
              "1     0002_01      Earth     False  F/0/S  TRAPPIST-1e  24.0  False   \n",
              "2     0003_01     Europa     False  A/0/S  TRAPPIST-1e  58.0   True   \n",
              "3     0003_02     Europa     False  A/0/S  TRAPPIST-1e  33.0  False   \n",
              "4     0004_01      Earth     False  F/1/S  TRAPPIST-1e  16.0  False   \n",
              "\n",
              "   RoomService  FoodCourt  ShoppingMall     Spa  VRDeck               Name   \n",
              "0          0.0        0.0           0.0     0.0     0.0    Maham Ofracculy  \\\n",
              "1        109.0        9.0          25.0   549.0    44.0       Juanna Vines   \n",
              "2         43.0     3576.0           0.0  6715.0    49.0      Altark Susent   \n",
              "3          0.0     1283.0         371.0  3329.0   193.0       Solam Susent   \n",
              "4        303.0       70.0         151.0   565.0     2.0  Willy Santantines   \n",
              "\n",
              "   Transported  \n",
              "0        False  \n",
              "1         True  \n",
              "2        False  \n",
              "3        False  \n",
              "4         True  "
            ],
            "text/html": [
              "\n",
              "  <div id=\"df-f6e741c0-fb8f-4d61-a8f0-d1c57c932cd9\">\n",
              "    <div class=\"colab-df-container\">\n",
              "      <div>\n",
              "<style scoped>\n",
              "    .dataframe tbody tr th:only-of-type {\n",
              "        vertical-align: middle;\n",
              "    }\n",
              "\n",
              "    .dataframe tbody tr th {\n",
              "        vertical-align: top;\n",
              "    }\n",
              "\n",
              "    .dataframe thead th {\n",
              "        text-align: right;\n",
              "    }\n",
              "</style>\n",
              "<table border=\"1\" class=\"dataframe\">\n",
              "  <thead>\n",
              "    <tr style=\"text-align: right;\">\n",
              "      <th></th>\n",
              "      <th>PassengerId</th>\n",
              "      <th>HomePlanet</th>\n",
              "      <th>CryoSleep</th>\n",
              "      <th>Cabin</th>\n",
              "      <th>Destination</th>\n",
              "      <th>Age</th>\n",
              "      <th>VIP</th>\n",
              "      <th>RoomService</th>\n",
              "      <th>FoodCourt</th>\n",
              "      <th>ShoppingMall</th>\n",
              "      <th>Spa</th>\n",
              "      <th>VRDeck</th>\n",
              "      <th>Name</th>\n",
              "      <th>Transported</th>\n",
              "    </tr>\n",
              "  </thead>\n",
              "  <tbody>\n",
              "    <tr>\n",
              "      <th>0</th>\n",
              "      <td>0001_01</td>\n",
              "      <td>Europa</td>\n",
              "      <td>False</td>\n",
              "      <td>B/0/P</td>\n",
              "      <td>TRAPPIST-1e</td>\n",
              "      <td>39.0</td>\n",
              "      <td>False</td>\n",
              "      <td>0.0</td>\n",
              "      <td>0.0</td>\n",
              "      <td>0.0</td>\n",
              "      <td>0.0</td>\n",
              "      <td>0.0</td>\n",
              "      <td>Maham Ofracculy</td>\n",
              "      <td>False</td>\n",
              "    </tr>\n",
              "    <tr>\n",
              "      <th>1</th>\n",
              "      <td>0002_01</td>\n",
              "      <td>Earth</td>\n",
              "      <td>False</td>\n",
              "      <td>F/0/S</td>\n",
              "      <td>TRAPPIST-1e</td>\n",
              "      <td>24.0</td>\n",
              "      <td>False</td>\n",
              "      <td>109.0</td>\n",
              "      <td>9.0</td>\n",
              "      <td>25.0</td>\n",
              "      <td>549.0</td>\n",
              "      <td>44.0</td>\n",
              "      <td>Juanna Vines</td>\n",
              "      <td>True</td>\n",
              "    </tr>\n",
              "    <tr>\n",
              "      <th>2</th>\n",
              "      <td>0003_01</td>\n",
              "      <td>Europa</td>\n",
              "      <td>False</td>\n",
              "      <td>A/0/S</td>\n",
              "      <td>TRAPPIST-1e</td>\n",
              "      <td>58.0</td>\n",
              "      <td>True</td>\n",
              "      <td>43.0</td>\n",
              "      <td>3576.0</td>\n",
              "      <td>0.0</td>\n",
              "      <td>6715.0</td>\n",
              "      <td>49.0</td>\n",
              "      <td>Altark Susent</td>\n",
              "      <td>False</td>\n",
              "    </tr>\n",
              "    <tr>\n",
              "      <th>3</th>\n",
              "      <td>0003_02</td>\n",
              "      <td>Europa</td>\n",
              "      <td>False</td>\n",
              "      <td>A/0/S</td>\n",
              "      <td>TRAPPIST-1e</td>\n",
              "      <td>33.0</td>\n",
              "      <td>False</td>\n",
              "      <td>0.0</td>\n",
              "      <td>1283.0</td>\n",
              "      <td>371.0</td>\n",
              "      <td>3329.0</td>\n",
              "      <td>193.0</td>\n",
              "      <td>Solam Susent</td>\n",
              "      <td>False</td>\n",
              "    </tr>\n",
              "    <tr>\n",
              "      <th>4</th>\n",
              "      <td>0004_01</td>\n",
              "      <td>Earth</td>\n",
              "      <td>False</td>\n",
              "      <td>F/1/S</td>\n",
              "      <td>TRAPPIST-1e</td>\n",
              "      <td>16.0</td>\n",
              "      <td>False</td>\n",
              "      <td>303.0</td>\n",
              "      <td>70.0</td>\n",
              "      <td>151.0</td>\n",
              "      <td>565.0</td>\n",
              "      <td>2.0</td>\n",
              "      <td>Willy Santantines</td>\n",
              "      <td>True</td>\n",
              "    </tr>\n",
              "  </tbody>\n",
              "</table>\n",
              "</div>\n",
              "      <button class=\"colab-df-convert\" onclick=\"convertToInteractive('df-f6e741c0-fb8f-4d61-a8f0-d1c57c932cd9')\"\n",
              "              title=\"Convert this dataframe to an interactive table.\"\n",
              "              style=\"display:none;\">\n",
              "        \n",
              "  <svg xmlns=\"http://www.w3.org/2000/svg\" height=\"24px\"viewBox=\"0 0 24 24\"\n",
              "       width=\"24px\">\n",
              "    <path d=\"M0 0h24v24H0V0z\" fill=\"none\"/>\n",
              "    <path d=\"M18.56 5.44l.94 2.06.94-2.06 2.06-.94-2.06-.94-.94-2.06-.94 2.06-2.06.94zm-11 1L8.5 8.5l.94-2.06 2.06-.94-2.06-.94L8.5 2.5l-.94 2.06-2.06.94zm10 10l.94 2.06.94-2.06 2.06-.94-2.06-.94-.94-2.06-.94 2.06-2.06.94z\"/><path d=\"M17.41 7.96l-1.37-1.37c-.4-.4-.92-.59-1.43-.59-.52 0-1.04.2-1.43.59L10.3 9.45l-7.72 7.72c-.78.78-.78 2.05 0 2.83L4 21.41c.39.39.9.59 1.41.59.51 0 1.02-.2 1.41-.59l7.78-7.78 2.81-2.81c.8-.78.8-2.07 0-2.86zM5.41 20L4 18.59l7.72-7.72 1.47 1.35L5.41 20z\"/>\n",
              "  </svg>\n",
              "      </button>\n",
              "      \n",
              "  <style>\n",
              "    .colab-df-container {\n",
              "      display:flex;\n",
              "      flex-wrap:wrap;\n",
              "      gap: 12px;\n",
              "    }\n",
              "\n",
              "    .colab-df-convert {\n",
              "      background-color: #E8F0FE;\n",
              "      border: none;\n",
              "      border-radius: 50%;\n",
              "      cursor: pointer;\n",
              "      display: none;\n",
              "      fill: #1967D2;\n",
              "      height: 32px;\n",
              "      padding: 0 0 0 0;\n",
              "      width: 32px;\n",
              "    }\n",
              "\n",
              "    .colab-df-convert:hover {\n",
              "      background-color: #E2EBFA;\n",
              "      box-shadow: 0px 1px 2px rgba(60, 64, 67, 0.3), 0px 1px 3px 1px rgba(60, 64, 67, 0.15);\n",
              "      fill: #174EA6;\n",
              "    }\n",
              "\n",
              "    [theme=dark] .colab-df-convert {\n",
              "      background-color: #3B4455;\n",
              "      fill: #D2E3FC;\n",
              "    }\n",
              "\n",
              "    [theme=dark] .colab-df-convert:hover {\n",
              "      background-color: #434B5C;\n",
              "      box-shadow: 0px 1px 3px 1px rgba(0, 0, 0, 0.15);\n",
              "      filter: drop-shadow(0px 1px 2px rgba(0, 0, 0, 0.3));\n",
              "      fill: #FFFFFF;\n",
              "    }\n",
              "  </style>\n",
              "\n",
              "      <script>\n",
              "        const buttonEl =\n",
              "          document.querySelector('#df-f6e741c0-fb8f-4d61-a8f0-d1c57c932cd9 button.colab-df-convert');\n",
              "        buttonEl.style.display =\n",
              "          google.colab.kernel.accessAllowed ? 'block' : 'none';\n",
              "\n",
              "        async function convertToInteractive(key) {\n",
              "          const element = document.querySelector('#df-f6e741c0-fb8f-4d61-a8f0-d1c57c932cd9');\n",
              "          const dataTable =\n",
              "            await google.colab.kernel.invokeFunction('convertToInteractive',\n",
              "                                                     [key], {});\n",
              "          if (!dataTable) return;\n",
              "\n",
              "          const docLinkHtml = 'Like what you see? Visit the ' +\n",
              "            '<a target=\"_blank\" href=https://colab.research.google.com/notebooks/data_table.ipynb>data table notebook</a>'\n",
              "            + ' to learn more about interactive tables.';\n",
              "          element.innerHTML = '';\n",
              "          dataTable['output_type'] = 'display_data';\n",
              "          await google.colab.output.renderOutput(dataTable, element);\n",
              "          const docLink = document.createElement('div');\n",
              "          docLink.innerHTML = docLinkHtml;\n",
              "          element.appendChild(docLink);\n",
              "        }\n",
              "      </script>\n",
              "    </div>\n",
              "  </div>\n",
              "  "
            ]
          },
          "metadata": {},
          "execution_count": 43
        }
      ]
    },
    {
      "cell_type": "code",
      "source": [
        "print(f'\\033[94mNumber of rows in train data: {train.shape[0]}')\n",
        "print(f'\\033[94mNumber of columns in train data: {train.shape[1]}')\n",
        "print(f'\\033[94mNumber of values in train data: {train.count().sum()}')\n",
        "print(f'\\033[94mNumber missing values in train data: {sum(train.isna().sum())}')\n",
        "#format해서 출력하는 형태. 그냥 shape만 써도 충분하긴 할거 같음."
      ],
      "metadata": {
        "_kg_hide-input": true,
        "papermill": {
          "duration": 0.07625,
          "end_time": "2022-01-18T20:32:43.32076",
          "exception": false,
          "start_time": "2022-01-18T20:32:43.24451",
          "status": "completed"
        },
        "tags": [],
        "execution": {
          "iopub.status.busy": "2022-04-01T23:14:44.819197Z",
          "iopub.execute_input": "2022-04-01T23:14:44.819511Z",
          "iopub.status.idle": "2022-04-01T23:14:44.850496Z",
          "shell.execute_reply.started": "2022-04-01T23:14:44.819475Z",
          "shell.execute_reply": "2022-04-01T23:14:44.849731Z"
        },
        "trusted": true,
        "colab": {
          "base_uri": "https://localhost:8080/"
        },
        "id": "jFpUl5A294r0",
        "outputId": "fd37f1dd-d4c9-40f9-c3bd-6a065d2032f7"
      },
      "execution_count": 44,
      "outputs": [
        {
          "output_type": "stream",
          "name": "stdout",
          "text": [
            "\u001b[94mNumber of rows in train data: 8693\n",
            "\u001b[94mNumber of columns in train data: 14\n",
            "\u001b[94mNumber of values in train data: 119378\n",
            "\u001b[94mNumber missing values in train data: 2324\n"
          ]
        }
      ]
    },
    {
      "cell_type": "markdown",
      "source": [
        "### <span style=\"color:#e76f51;\"> Column Wise missing values : </span>"
      ],
      "metadata": {
        "papermill": {
          "duration": 0.046277,
          "end_time": "2022-01-18T20:32:43.42575",
          "exception": false,
          "start_time": "2022-01-18T20:32:43.379473",
          "status": "completed"
        },
        "tags": [],
        "id": "gP7-CnPm94r0"
      }
    },
    {
      "cell_type": "code",
      "source": [
        "print(f'\\033[94m')\n",
        "print(train.isna().sum().sort_values(ascending = False))\n",
        "#결측값 확인"
      ],
      "metadata": {
        "_kg_hide-input": true,
        "papermill": {
          "duration": 0.058207,
          "end_time": "2022-01-18T20:32:43.530356",
          "exception": false,
          "start_time": "2022-01-18T20:32:43.472149",
          "status": "completed"
        },
        "tags": [],
        "execution": {
          "iopub.status.busy": "2022-04-01T23:14:45.213405Z",
          "iopub.execute_input": "2022-04-01T23:14:45.213738Z",
          "iopub.status.idle": "2022-04-01T23:14:45.229356Z",
          "shell.execute_reply.started": "2022-04-01T23:14:45.213701Z",
          "shell.execute_reply": "2022-04-01T23:14:45.228655Z"
        },
        "trusted": true,
        "colab": {
          "base_uri": "https://localhost:8080/"
        },
        "id": "Frs1WF7g94r0",
        "outputId": "8f2298f1-1b42-4d4a-88e1-8e0f7f89b321"
      },
      "execution_count": 45,
      "outputs": [
        {
          "output_type": "stream",
          "name": "stdout",
          "text": [
            "\u001b[94m\n",
            "CryoSleep       217\n",
            "ShoppingMall    208\n",
            "VIP             203\n",
            "HomePlanet      201\n",
            "Name            200\n",
            "Cabin           199\n",
            "VRDeck          188\n",
            "FoodCourt       183\n",
            "Spa             183\n",
            "Destination     182\n",
            "RoomService     181\n",
            "Age             179\n",
            "PassengerId       0\n",
            "Transported       0\n",
            "dtype: int64\n"
          ]
        }
      ]
    },
    {
      "cell_type": "markdown",
      "source": [
        "### <span style=\"color:#e76f51;\"> Basic statistics of training data : </span>"
      ],
      "metadata": {
        "papermill": {
          "duration": 0.046522,
          "end_time": "2022-01-18T20:32:43.623779",
          "exception": false,
          "start_time": "2022-01-18T20:32:43.577257",
          "status": "completed"
        },
        "tags": [],
        "id": "OtAK5-xk94r0"
      }
    },
    {
      "cell_type": "markdown",
      "source": [
        "Below is the basic statistics for each variables which contain information on `count`, `mean`, `standard deviation`, `minimum`, `1st quartile`, `median`, `3rd quartile` and `maximum`."
      ],
      "metadata": {
        "papermill": {
          "duration": 0.047239,
          "end_time": "2022-01-18T20:32:43.717688",
          "exception": false,
          "start_time": "2022-01-18T20:32:43.670449",
          "status": "completed"
        },
        "tags": [],
        "id": "CpDrxf2E94r0"
      }
    },
    {
      "cell_type": "code",
      "source": [
        "train.describe()"
      ],
      "metadata": {
        "_kg_hide-input": true,
        "papermill": {
          "duration": 0.125578,
          "end_time": "2022-01-18T20:32:43.891208",
          "exception": false,
          "start_time": "2022-01-18T20:32:43.76563",
          "status": "completed"
        },
        "tags": [],
        "execution": {
          "iopub.status.busy": "2022-04-01T23:14:46.022355Z",
          "iopub.execute_input": "2022-04-01T23:14:46.022658Z",
          "iopub.status.idle": "2022-04-01T23:14:46.067208Z",
          "shell.execute_reply.started": "2022-04-01T23:14:46.022613Z",
          "shell.execute_reply": "2022-04-01T23:14:46.066221Z"
        },
        "trusted": true,
        "colab": {
          "base_uri": "https://localhost:8080/",
          "height": 300
        },
        "id": "kWylOh6f94r0",
        "outputId": "75250d21-7369-4536-c07e-e5b38f785517"
      },
      "execution_count": 46,
      "outputs": [
        {
          "output_type": "execute_result",
          "data": {
            "text/plain": [
              "               Age   RoomService     FoodCourt  ShoppingMall           Spa   \n",
              "count  8514.000000   8512.000000   8510.000000   8485.000000   8510.000000  \\\n",
              "mean     28.827930    224.687617    458.077203    173.729169    311.138778   \n",
              "std      14.489021    666.717663   1611.489240    604.696458   1136.705535   \n",
              "min       0.000000      0.000000      0.000000      0.000000      0.000000   \n",
              "25%      19.000000      0.000000      0.000000      0.000000      0.000000   \n",
              "50%      27.000000      0.000000      0.000000      0.000000      0.000000   \n",
              "75%      38.000000     47.000000     76.000000     27.000000     59.000000   \n",
              "max      79.000000  14327.000000  29813.000000  23492.000000  22408.000000   \n",
              "\n",
              "             VRDeck  \n",
              "count   8505.000000  \n",
              "mean     304.854791  \n",
              "std     1145.717189  \n",
              "min        0.000000  \n",
              "25%        0.000000  \n",
              "50%        0.000000  \n",
              "75%       46.000000  \n",
              "max    24133.000000  "
            ],
            "text/html": [
              "\n",
              "  <div id=\"df-167a35de-1ece-4273-a463-7c0057b86369\">\n",
              "    <div class=\"colab-df-container\">\n",
              "      <div>\n",
              "<style scoped>\n",
              "    .dataframe tbody tr th:only-of-type {\n",
              "        vertical-align: middle;\n",
              "    }\n",
              "\n",
              "    .dataframe tbody tr th {\n",
              "        vertical-align: top;\n",
              "    }\n",
              "\n",
              "    .dataframe thead th {\n",
              "        text-align: right;\n",
              "    }\n",
              "</style>\n",
              "<table border=\"1\" class=\"dataframe\">\n",
              "  <thead>\n",
              "    <tr style=\"text-align: right;\">\n",
              "      <th></th>\n",
              "      <th>Age</th>\n",
              "      <th>RoomService</th>\n",
              "      <th>FoodCourt</th>\n",
              "      <th>ShoppingMall</th>\n",
              "      <th>Spa</th>\n",
              "      <th>VRDeck</th>\n",
              "    </tr>\n",
              "  </thead>\n",
              "  <tbody>\n",
              "    <tr>\n",
              "      <th>count</th>\n",
              "      <td>8514.000000</td>\n",
              "      <td>8512.000000</td>\n",
              "      <td>8510.000000</td>\n",
              "      <td>8485.000000</td>\n",
              "      <td>8510.000000</td>\n",
              "      <td>8505.000000</td>\n",
              "    </tr>\n",
              "    <tr>\n",
              "      <th>mean</th>\n",
              "      <td>28.827930</td>\n",
              "      <td>224.687617</td>\n",
              "      <td>458.077203</td>\n",
              "      <td>173.729169</td>\n",
              "      <td>311.138778</td>\n",
              "      <td>304.854791</td>\n",
              "    </tr>\n",
              "    <tr>\n",
              "      <th>std</th>\n",
              "      <td>14.489021</td>\n",
              "      <td>666.717663</td>\n",
              "      <td>1611.489240</td>\n",
              "      <td>604.696458</td>\n",
              "      <td>1136.705535</td>\n",
              "      <td>1145.717189</td>\n",
              "    </tr>\n",
              "    <tr>\n",
              "      <th>min</th>\n",
              "      <td>0.000000</td>\n",
              "      <td>0.000000</td>\n",
              "      <td>0.000000</td>\n",
              "      <td>0.000000</td>\n",
              "      <td>0.000000</td>\n",
              "      <td>0.000000</td>\n",
              "    </tr>\n",
              "    <tr>\n",
              "      <th>25%</th>\n",
              "      <td>19.000000</td>\n",
              "      <td>0.000000</td>\n",
              "      <td>0.000000</td>\n",
              "      <td>0.000000</td>\n",
              "      <td>0.000000</td>\n",
              "      <td>0.000000</td>\n",
              "    </tr>\n",
              "    <tr>\n",
              "      <th>50%</th>\n",
              "      <td>27.000000</td>\n",
              "      <td>0.000000</td>\n",
              "      <td>0.000000</td>\n",
              "      <td>0.000000</td>\n",
              "      <td>0.000000</td>\n",
              "      <td>0.000000</td>\n",
              "    </tr>\n",
              "    <tr>\n",
              "      <th>75%</th>\n",
              "      <td>38.000000</td>\n",
              "      <td>47.000000</td>\n",
              "      <td>76.000000</td>\n",
              "      <td>27.000000</td>\n",
              "      <td>59.000000</td>\n",
              "      <td>46.000000</td>\n",
              "    </tr>\n",
              "    <tr>\n",
              "      <th>max</th>\n",
              "      <td>79.000000</td>\n",
              "      <td>14327.000000</td>\n",
              "      <td>29813.000000</td>\n",
              "      <td>23492.000000</td>\n",
              "      <td>22408.000000</td>\n",
              "      <td>24133.000000</td>\n",
              "    </tr>\n",
              "  </tbody>\n",
              "</table>\n",
              "</div>\n",
              "      <button class=\"colab-df-convert\" onclick=\"convertToInteractive('df-167a35de-1ece-4273-a463-7c0057b86369')\"\n",
              "              title=\"Convert this dataframe to an interactive table.\"\n",
              "              style=\"display:none;\">\n",
              "        \n",
              "  <svg xmlns=\"http://www.w3.org/2000/svg\" height=\"24px\"viewBox=\"0 0 24 24\"\n",
              "       width=\"24px\">\n",
              "    <path d=\"M0 0h24v24H0V0z\" fill=\"none\"/>\n",
              "    <path d=\"M18.56 5.44l.94 2.06.94-2.06 2.06-.94-2.06-.94-.94-2.06-.94 2.06-2.06.94zm-11 1L8.5 8.5l.94-2.06 2.06-.94-2.06-.94L8.5 2.5l-.94 2.06-2.06.94zm10 10l.94 2.06.94-2.06 2.06-.94-2.06-.94-.94-2.06-.94 2.06-2.06.94z\"/><path d=\"M17.41 7.96l-1.37-1.37c-.4-.4-.92-.59-1.43-.59-.52 0-1.04.2-1.43.59L10.3 9.45l-7.72 7.72c-.78.78-.78 2.05 0 2.83L4 21.41c.39.39.9.59 1.41.59.51 0 1.02-.2 1.41-.59l7.78-7.78 2.81-2.81c.8-.78.8-2.07 0-2.86zM5.41 20L4 18.59l7.72-7.72 1.47 1.35L5.41 20z\"/>\n",
              "  </svg>\n",
              "      </button>\n",
              "      \n",
              "  <style>\n",
              "    .colab-df-container {\n",
              "      display:flex;\n",
              "      flex-wrap:wrap;\n",
              "      gap: 12px;\n",
              "    }\n",
              "\n",
              "    .colab-df-convert {\n",
              "      background-color: #E8F0FE;\n",
              "      border: none;\n",
              "      border-radius: 50%;\n",
              "      cursor: pointer;\n",
              "      display: none;\n",
              "      fill: #1967D2;\n",
              "      height: 32px;\n",
              "      padding: 0 0 0 0;\n",
              "      width: 32px;\n",
              "    }\n",
              "\n",
              "    .colab-df-convert:hover {\n",
              "      background-color: #E2EBFA;\n",
              "      box-shadow: 0px 1px 2px rgba(60, 64, 67, 0.3), 0px 1px 3px 1px rgba(60, 64, 67, 0.15);\n",
              "      fill: #174EA6;\n",
              "    }\n",
              "\n",
              "    [theme=dark] .colab-df-convert {\n",
              "      background-color: #3B4455;\n",
              "      fill: #D2E3FC;\n",
              "    }\n",
              "\n",
              "    [theme=dark] .colab-df-convert:hover {\n",
              "      background-color: #434B5C;\n",
              "      box-shadow: 0px 1px 3px 1px rgba(0, 0, 0, 0.15);\n",
              "      filter: drop-shadow(0px 1px 2px rgba(0, 0, 0, 0.3));\n",
              "      fill: #FFFFFF;\n",
              "    }\n",
              "  </style>\n",
              "\n",
              "      <script>\n",
              "        const buttonEl =\n",
              "          document.querySelector('#df-167a35de-1ece-4273-a463-7c0057b86369 button.colab-df-convert');\n",
              "        buttonEl.style.display =\n",
              "          google.colab.kernel.accessAllowed ? 'block' : 'none';\n",
              "\n",
              "        async function convertToInteractive(key) {\n",
              "          const element = document.querySelector('#df-167a35de-1ece-4273-a463-7c0057b86369');\n",
              "          const dataTable =\n",
              "            await google.colab.kernel.invokeFunction('convertToInteractive',\n",
              "                                                     [key], {});\n",
              "          if (!dataTable) return;\n",
              "\n",
              "          const docLinkHtml = 'Like what you see? Visit the ' +\n",
              "            '<a target=\"_blank\" href=https://colab.research.google.com/notebooks/data_table.ipynb>data table notebook</a>'\n",
              "            + ' to learn more about interactive tables.';\n",
              "          element.innerHTML = '';\n",
              "          dataTable['output_type'] = 'display_data';\n",
              "          await google.colab.output.renderOutput(dataTable, element);\n",
              "          const docLink = document.createElement('div');\n",
              "          docLink.innerHTML = docLinkHtml;\n",
              "          element.appendChild(docLink);\n",
              "        }\n",
              "      </script>\n",
              "    </div>\n",
              "  </div>\n",
              "  "
            ]
          },
          "metadata": {},
          "execution_count": 46
        }
      ]
    },
    {
      "cell_type": "markdown",
      "source": [
        "<a id=\"3.2\"></a>\n",
        "## <span style=\"color:#e76f51;\"> Exploring Test Data </span>"
      ],
      "metadata": {
        "papermill": {
          "duration": 0.050667,
          "end_time": "2022-01-18T20:32:43.990557",
          "exception": false,
          "start_time": "2022-01-18T20:32:43.93989",
          "status": "completed"
        },
        "tags": [],
        "id": "kppsqolm94r1"
      }
    },
    {
      "cell_type": "markdown",
      "source": [
        "<div class=\"alert alert-block alert-info\" style=\"font-size:14px; font-family:verdana; line-height: 1.7em;\">\n",
        "    📌 &nbsp;<b><u>Observations in Test Data:</u></b><br>\n",
        " \n",
        "* <i> There are total of <b><u>13</u></b> columns and <b><u>4277</u></b> rows in <b><u>test</u></b> data.</i><br>\n",
        "* <i> Train data contains <b><u>54484</u></b> observation with <b><u>1117</u></b>  missing values.</i><br>\n",
        "* <i> All 12 feature columns have missing values in them with <b><u>FoodCourt</u></b> having highest missing values <u>(106)</u>  </i><br>\n",
        "</div>"
      ],
      "metadata": {
        "id": "-0E9PCsJ94r1"
      }
    },
    {
      "cell_type": "markdown",
      "source": [
        "### <span style=\"color:#e76f51;\"> Quick view of Test Data </span>"
      ],
      "metadata": {
        "papermill": {
          "duration": 0.048498,
          "end_time": "2022-01-18T20:32:44.184253",
          "exception": false,
          "start_time": "2022-01-18T20:32:44.135755",
          "status": "completed"
        },
        "tags": [],
        "id": "QEoT68t094r1"
      }
    },
    {
      "cell_type": "code",
      "source": [
        "test.head()\n",
        "# 동일한 과정으로 진행. head, 크기 확인, 결측값 확인, describe"
      ],
      "metadata": {
        "_kg_hide-input": true,
        "papermill": {
          "duration": 0.065273,
          "end_time": "2022-01-18T20:32:44.297306",
          "exception": false,
          "start_time": "2022-01-18T20:32:44.232033",
          "status": "completed"
        },
        "tags": [],
        "execution": {
          "iopub.status.busy": "2022-04-01T23:14:47.208413Z",
          "iopub.execute_input": "2022-04-01T23:14:47.20877Z",
          "iopub.status.idle": "2022-04-01T23:14:47.2262Z",
          "shell.execute_reply.started": "2022-04-01T23:14:47.208726Z",
          "shell.execute_reply": "2022-04-01T23:14:47.225448Z"
        },
        "trusted": true,
        "colab": {
          "base_uri": "https://localhost:8080/",
          "height": 206
        },
        "id": "u6C4_ZdH94r1",
        "outputId": "40b61d3f-67be-4d30-8ed6-627c8987e4a9"
      },
      "execution_count": 47,
      "outputs": [
        {
          "output_type": "execute_result",
          "data": {
            "text/plain": [
              "  PassengerId HomePlanet CryoSleep  Cabin  Destination   Age    VIP   \n",
              "0     0013_01      Earth      True  G/3/S  TRAPPIST-1e  27.0  False  \\\n",
              "1     0018_01      Earth     False  F/4/S  TRAPPIST-1e  19.0  False   \n",
              "2     0019_01     Europa      True  C/0/S  55 Cancri e  31.0  False   \n",
              "3     0021_01     Europa     False  C/1/S  TRAPPIST-1e  38.0  False   \n",
              "4     0023_01      Earth     False  F/5/S  TRAPPIST-1e  20.0  False   \n",
              "\n",
              "   RoomService  FoodCourt  ShoppingMall     Spa  VRDeck              Name  \n",
              "0          0.0        0.0           0.0     0.0     0.0   Nelly Carsoning  \n",
              "1          0.0        9.0           0.0  2823.0     0.0    Lerome Peckers  \n",
              "2          0.0        0.0           0.0     0.0     0.0   Sabih Unhearfus  \n",
              "3          0.0     6652.0           0.0   181.0   585.0  Meratz Caltilter  \n",
              "4         10.0        0.0         635.0     0.0     0.0   Brence Harperez  "
            ],
            "text/html": [
              "\n",
              "  <div id=\"df-59cefb36-afdc-4222-bfa4-72950e1ab06f\">\n",
              "    <div class=\"colab-df-container\">\n",
              "      <div>\n",
              "<style scoped>\n",
              "    .dataframe tbody tr th:only-of-type {\n",
              "        vertical-align: middle;\n",
              "    }\n",
              "\n",
              "    .dataframe tbody tr th {\n",
              "        vertical-align: top;\n",
              "    }\n",
              "\n",
              "    .dataframe thead th {\n",
              "        text-align: right;\n",
              "    }\n",
              "</style>\n",
              "<table border=\"1\" class=\"dataframe\">\n",
              "  <thead>\n",
              "    <tr style=\"text-align: right;\">\n",
              "      <th></th>\n",
              "      <th>PassengerId</th>\n",
              "      <th>HomePlanet</th>\n",
              "      <th>CryoSleep</th>\n",
              "      <th>Cabin</th>\n",
              "      <th>Destination</th>\n",
              "      <th>Age</th>\n",
              "      <th>VIP</th>\n",
              "      <th>RoomService</th>\n",
              "      <th>FoodCourt</th>\n",
              "      <th>ShoppingMall</th>\n",
              "      <th>Spa</th>\n",
              "      <th>VRDeck</th>\n",
              "      <th>Name</th>\n",
              "    </tr>\n",
              "  </thead>\n",
              "  <tbody>\n",
              "    <tr>\n",
              "      <th>0</th>\n",
              "      <td>0013_01</td>\n",
              "      <td>Earth</td>\n",
              "      <td>True</td>\n",
              "      <td>G/3/S</td>\n",
              "      <td>TRAPPIST-1e</td>\n",
              "      <td>27.0</td>\n",
              "      <td>False</td>\n",
              "      <td>0.0</td>\n",
              "      <td>0.0</td>\n",
              "      <td>0.0</td>\n",
              "      <td>0.0</td>\n",
              "      <td>0.0</td>\n",
              "      <td>Nelly Carsoning</td>\n",
              "    </tr>\n",
              "    <tr>\n",
              "      <th>1</th>\n",
              "      <td>0018_01</td>\n",
              "      <td>Earth</td>\n",
              "      <td>False</td>\n",
              "      <td>F/4/S</td>\n",
              "      <td>TRAPPIST-1e</td>\n",
              "      <td>19.0</td>\n",
              "      <td>False</td>\n",
              "      <td>0.0</td>\n",
              "      <td>9.0</td>\n",
              "      <td>0.0</td>\n",
              "      <td>2823.0</td>\n",
              "      <td>0.0</td>\n",
              "      <td>Lerome Peckers</td>\n",
              "    </tr>\n",
              "    <tr>\n",
              "      <th>2</th>\n",
              "      <td>0019_01</td>\n",
              "      <td>Europa</td>\n",
              "      <td>True</td>\n",
              "      <td>C/0/S</td>\n",
              "      <td>55 Cancri e</td>\n",
              "      <td>31.0</td>\n",
              "      <td>False</td>\n",
              "      <td>0.0</td>\n",
              "      <td>0.0</td>\n",
              "      <td>0.0</td>\n",
              "      <td>0.0</td>\n",
              "      <td>0.0</td>\n",
              "      <td>Sabih Unhearfus</td>\n",
              "    </tr>\n",
              "    <tr>\n",
              "      <th>3</th>\n",
              "      <td>0021_01</td>\n",
              "      <td>Europa</td>\n",
              "      <td>False</td>\n",
              "      <td>C/1/S</td>\n",
              "      <td>TRAPPIST-1e</td>\n",
              "      <td>38.0</td>\n",
              "      <td>False</td>\n",
              "      <td>0.0</td>\n",
              "      <td>6652.0</td>\n",
              "      <td>0.0</td>\n",
              "      <td>181.0</td>\n",
              "      <td>585.0</td>\n",
              "      <td>Meratz Caltilter</td>\n",
              "    </tr>\n",
              "    <tr>\n",
              "      <th>4</th>\n",
              "      <td>0023_01</td>\n",
              "      <td>Earth</td>\n",
              "      <td>False</td>\n",
              "      <td>F/5/S</td>\n",
              "      <td>TRAPPIST-1e</td>\n",
              "      <td>20.0</td>\n",
              "      <td>False</td>\n",
              "      <td>10.0</td>\n",
              "      <td>0.0</td>\n",
              "      <td>635.0</td>\n",
              "      <td>0.0</td>\n",
              "      <td>0.0</td>\n",
              "      <td>Brence Harperez</td>\n",
              "    </tr>\n",
              "  </tbody>\n",
              "</table>\n",
              "</div>\n",
              "      <button class=\"colab-df-convert\" onclick=\"convertToInteractive('df-59cefb36-afdc-4222-bfa4-72950e1ab06f')\"\n",
              "              title=\"Convert this dataframe to an interactive table.\"\n",
              "              style=\"display:none;\">\n",
              "        \n",
              "  <svg xmlns=\"http://www.w3.org/2000/svg\" height=\"24px\"viewBox=\"0 0 24 24\"\n",
              "       width=\"24px\">\n",
              "    <path d=\"M0 0h24v24H0V0z\" fill=\"none\"/>\n",
              "    <path d=\"M18.56 5.44l.94 2.06.94-2.06 2.06-.94-2.06-.94-.94-2.06-.94 2.06-2.06.94zm-11 1L8.5 8.5l.94-2.06 2.06-.94-2.06-.94L8.5 2.5l-.94 2.06-2.06.94zm10 10l.94 2.06.94-2.06 2.06-.94-2.06-.94-.94-2.06-.94 2.06-2.06.94z\"/><path d=\"M17.41 7.96l-1.37-1.37c-.4-.4-.92-.59-1.43-.59-.52 0-1.04.2-1.43.59L10.3 9.45l-7.72 7.72c-.78.78-.78 2.05 0 2.83L4 21.41c.39.39.9.59 1.41.59.51 0 1.02-.2 1.41-.59l7.78-7.78 2.81-2.81c.8-.78.8-2.07 0-2.86zM5.41 20L4 18.59l7.72-7.72 1.47 1.35L5.41 20z\"/>\n",
              "  </svg>\n",
              "      </button>\n",
              "      \n",
              "  <style>\n",
              "    .colab-df-container {\n",
              "      display:flex;\n",
              "      flex-wrap:wrap;\n",
              "      gap: 12px;\n",
              "    }\n",
              "\n",
              "    .colab-df-convert {\n",
              "      background-color: #E8F0FE;\n",
              "      border: none;\n",
              "      border-radius: 50%;\n",
              "      cursor: pointer;\n",
              "      display: none;\n",
              "      fill: #1967D2;\n",
              "      height: 32px;\n",
              "      padding: 0 0 0 0;\n",
              "      width: 32px;\n",
              "    }\n",
              "\n",
              "    .colab-df-convert:hover {\n",
              "      background-color: #E2EBFA;\n",
              "      box-shadow: 0px 1px 2px rgba(60, 64, 67, 0.3), 0px 1px 3px 1px rgba(60, 64, 67, 0.15);\n",
              "      fill: #174EA6;\n",
              "    }\n",
              "\n",
              "    [theme=dark] .colab-df-convert {\n",
              "      background-color: #3B4455;\n",
              "      fill: #D2E3FC;\n",
              "    }\n",
              "\n",
              "    [theme=dark] .colab-df-convert:hover {\n",
              "      background-color: #434B5C;\n",
              "      box-shadow: 0px 1px 3px 1px rgba(0, 0, 0, 0.15);\n",
              "      filter: drop-shadow(0px 1px 2px rgba(0, 0, 0, 0.3));\n",
              "      fill: #FFFFFF;\n",
              "    }\n",
              "  </style>\n",
              "\n",
              "      <script>\n",
              "        const buttonEl =\n",
              "          document.querySelector('#df-59cefb36-afdc-4222-bfa4-72950e1ab06f button.colab-df-convert');\n",
              "        buttonEl.style.display =\n",
              "          google.colab.kernel.accessAllowed ? 'block' : 'none';\n",
              "\n",
              "        async function convertToInteractive(key) {\n",
              "          const element = document.querySelector('#df-59cefb36-afdc-4222-bfa4-72950e1ab06f');\n",
              "          const dataTable =\n",
              "            await google.colab.kernel.invokeFunction('convertToInteractive',\n",
              "                                                     [key], {});\n",
              "          if (!dataTable) return;\n",
              "\n",
              "          const docLinkHtml = 'Like what you see? Visit the ' +\n",
              "            '<a target=\"_blank\" href=https://colab.research.google.com/notebooks/data_table.ipynb>data table notebook</a>'\n",
              "            + ' to learn more about interactive tables.';\n",
              "          element.innerHTML = '';\n",
              "          dataTable['output_type'] = 'display_data';\n",
              "          await google.colab.output.renderOutput(dataTable, element);\n",
              "          const docLink = document.createElement('div');\n",
              "          docLink.innerHTML = docLinkHtml;\n",
              "          element.appendChild(docLink);\n",
              "        }\n",
              "      </script>\n",
              "    </div>\n",
              "  </div>\n",
              "  "
            ]
          },
          "metadata": {},
          "execution_count": 47
        }
      ]
    },
    {
      "cell_type": "code",
      "source": [
        "print(f'\\033[94mNumber of rows in test data: {test.shape[0]}')\n",
        "print(f'\\033[94mNumber of columns in test data: {test.shape[1]}')\n",
        "print(f'\\033[94mNumber of values in train data: {test.count().sum()}')\n",
        "print(f'\\033[94mNo of rows with missing values  in test data: {sum(test.isna().sum())}')"
      ],
      "metadata": {
        "_kg_hide-input": true,
        "papermill": {
          "duration": 0.063633,
          "end_time": "2022-01-18T20:32:44.410196",
          "exception": false,
          "start_time": "2022-01-18T20:32:44.346563",
          "status": "completed"
        },
        "tags": [],
        "execution": {
          "iopub.status.busy": "2022-04-01T23:14:47.41461Z",
          "iopub.execute_input": "2022-04-01T23:14:47.415592Z",
          "iopub.status.idle": "2022-04-01T23:14:47.434523Z",
          "shell.execute_reply.started": "2022-04-01T23:14:47.415532Z",
          "shell.execute_reply": "2022-04-01T23:14:47.433562Z"
        },
        "trusted": true,
        "colab": {
          "base_uri": "https://localhost:8080/"
        },
        "id": "g9eEBH6U94r1",
        "outputId": "423a29f1-99ed-4711-93fa-792256b8632b"
      },
      "execution_count": 48,
      "outputs": [
        {
          "output_type": "stream",
          "name": "stdout",
          "text": [
            "\u001b[94mNumber of rows in test data: 4277\n",
            "\u001b[94mNumber of columns in test data: 13\n",
            "\u001b[94mNumber of values in train data: 54484\n",
            "\u001b[94mNo of rows with missing values  in test data: 1117\n"
          ]
        }
      ]
    },
    {
      "cell_type": "markdown",
      "source": [
        "### <span style=\"color:#e76f51;\"> Column Wise missing values </span>"
      ],
      "metadata": {
        "papermill": {
          "duration": 0.048197,
          "end_time": "2022-01-18T20:32:44.507019",
          "exception": false,
          "start_time": "2022-01-18T20:32:44.458822",
          "status": "completed"
        },
        "tags": [],
        "id": "eHE7CWzO94r2"
      }
    },
    {
      "cell_type": "code",
      "source": [
        "print(f'\\033[94m')\n",
        "print((test.isna().sum().sort_values(ascending = False)))"
      ],
      "metadata": {
        "_kg_hide-input": true,
        "papermill": {
          "duration": 0.060618,
          "end_time": "2022-01-18T20:32:44.61654",
          "exception": false,
          "start_time": "2022-01-18T20:32:44.555922",
          "status": "completed"
        },
        "tags": [],
        "execution": {
          "iopub.status.busy": "2022-04-01T23:14:48.064575Z",
          "iopub.execute_input": "2022-04-01T23:14:48.06578Z",
          "iopub.status.idle": "2022-04-01T23:14:48.078928Z",
          "shell.execute_reply.started": "2022-04-01T23:14:48.065714Z",
          "shell.execute_reply": "2022-04-01T23:14:48.077883Z"
        },
        "trusted": true,
        "colab": {
          "base_uri": "https://localhost:8080/"
        },
        "id": "SWR40FfN94r2",
        "outputId": "006085a2-b661-4d4c-f01e-e1baeda32f54"
      },
      "execution_count": 49,
      "outputs": [
        {
          "output_type": "stream",
          "name": "stdout",
          "text": [
            "\u001b[94m\n",
            "FoodCourt       106\n",
            "Spa             101\n",
            "Cabin           100\n",
            "ShoppingMall     98\n",
            "Name             94\n",
            "CryoSleep        93\n",
            "VIP              93\n",
            "Destination      92\n",
            "Age              91\n",
            "HomePlanet       87\n",
            "RoomService      82\n",
            "VRDeck           80\n",
            "PassengerId       0\n",
            "dtype: int64\n"
          ]
        }
      ]
    },
    {
      "cell_type": "markdown",
      "source": [
        "### <span style=\"color:#e76f51;\"> Basic statistics of test data </span>"
      ],
      "metadata": {
        "papermill": {
          "duration": 0.048676,
          "end_time": "2022-01-18T20:32:44.714337",
          "exception": false,
          "start_time": "2022-01-18T20:32:44.665661",
          "status": "completed"
        },
        "tags": [],
        "id": "y4dkOO1H94r2"
      }
    },
    {
      "cell_type": "markdown",
      "source": [
        "Below is the basic statistics for each variables which contain information on `count`, `mean`, `standard deviation`, `minimum`, `1st quartile`, `median`, `3rd quartile` and `maximum`."
      ],
      "metadata": {
        "papermill": {
          "duration": 0.050088,
          "end_time": "2022-01-18T20:32:44.814023",
          "exception": false,
          "start_time": "2022-01-18T20:32:44.763935",
          "status": "completed"
        },
        "tags": [],
        "id": "5cKXHL4g94r2"
      }
    },
    {
      "cell_type": "code",
      "source": [
        "test.describe()"
      ],
      "metadata": {
        "_kg_hide-input": true,
        "papermill": {
          "duration": 0.097263,
          "end_time": "2022-01-18T20:32:44.961155",
          "exception": false,
          "start_time": "2022-01-18T20:32:44.863892",
          "status": "completed"
        },
        "tags": [],
        "execution": {
          "iopub.status.busy": "2022-04-01T23:14:49.162346Z",
          "iopub.execute_input": "2022-04-01T23:14:49.162969Z",
          "iopub.status.idle": "2022-04-01T23:14:49.189672Z",
          "shell.execute_reply.started": "2022-04-01T23:14:49.162924Z",
          "shell.execute_reply": "2022-04-01T23:14:49.188942Z"
        },
        "trusted": true,
        "colab": {
          "base_uri": "https://localhost:8080/",
          "height": 300
        },
        "id": "5ppH88IS94r2",
        "outputId": "80acd129-e4b3-4de5-9cc5-3bed020329d5"
      },
      "execution_count": 50,
      "outputs": [
        {
          "output_type": "execute_result",
          "data": {
            "text/plain": [
              "               Age   RoomService     FoodCourt  ShoppingMall           Spa   \n",
              "count  4186.000000   4195.000000   4171.000000   4179.000000   4176.000000  \\\n",
              "mean     28.658146    219.266269    439.484296    177.295525    303.052443   \n",
              "std      14.179072    607.011289   1527.663045    560.821123   1117.186015   \n",
              "min       0.000000      0.000000      0.000000      0.000000      0.000000   \n",
              "25%      19.000000      0.000000      0.000000      0.000000      0.000000   \n",
              "50%      26.000000      0.000000      0.000000      0.000000      0.000000   \n",
              "75%      37.000000     53.000000     78.000000     33.000000     50.000000   \n",
              "max      79.000000  11567.000000  25273.000000   8292.000000  19844.000000   \n",
              "\n",
              "             VRDeck  \n",
              "count   4197.000000  \n",
              "mean     310.710031  \n",
              "std     1246.994742  \n",
              "min        0.000000  \n",
              "25%        0.000000  \n",
              "50%        0.000000  \n",
              "75%       36.000000  \n",
              "max    22272.000000  "
            ],
            "text/html": [
              "\n",
              "  <div id=\"df-e86765c6-9c27-4c96-b09b-2f73dc772953\">\n",
              "    <div class=\"colab-df-container\">\n",
              "      <div>\n",
              "<style scoped>\n",
              "    .dataframe tbody tr th:only-of-type {\n",
              "        vertical-align: middle;\n",
              "    }\n",
              "\n",
              "    .dataframe tbody tr th {\n",
              "        vertical-align: top;\n",
              "    }\n",
              "\n",
              "    .dataframe thead th {\n",
              "        text-align: right;\n",
              "    }\n",
              "</style>\n",
              "<table border=\"1\" class=\"dataframe\">\n",
              "  <thead>\n",
              "    <tr style=\"text-align: right;\">\n",
              "      <th></th>\n",
              "      <th>Age</th>\n",
              "      <th>RoomService</th>\n",
              "      <th>FoodCourt</th>\n",
              "      <th>ShoppingMall</th>\n",
              "      <th>Spa</th>\n",
              "      <th>VRDeck</th>\n",
              "    </tr>\n",
              "  </thead>\n",
              "  <tbody>\n",
              "    <tr>\n",
              "      <th>count</th>\n",
              "      <td>4186.000000</td>\n",
              "      <td>4195.000000</td>\n",
              "      <td>4171.000000</td>\n",
              "      <td>4179.000000</td>\n",
              "      <td>4176.000000</td>\n",
              "      <td>4197.000000</td>\n",
              "    </tr>\n",
              "    <tr>\n",
              "      <th>mean</th>\n",
              "      <td>28.658146</td>\n",
              "      <td>219.266269</td>\n",
              "      <td>439.484296</td>\n",
              "      <td>177.295525</td>\n",
              "      <td>303.052443</td>\n",
              "      <td>310.710031</td>\n",
              "    </tr>\n",
              "    <tr>\n",
              "      <th>std</th>\n",
              "      <td>14.179072</td>\n",
              "      <td>607.011289</td>\n",
              "      <td>1527.663045</td>\n",
              "      <td>560.821123</td>\n",
              "      <td>1117.186015</td>\n",
              "      <td>1246.994742</td>\n",
              "    </tr>\n",
              "    <tr>\n",
              "      <th>min</th>\n",
              "      <td>0.000000</td>\n",
              "      <td>0.000000</td>\n",
              "      <td>0.000000</td>\n",
              "      <td>0.000000</td>\n",
              "      <td>0.000000</td>\n",
              "      <td>0.000000</td>\n",
              "    </tr>\n",
              "    <tr>\n",
              "      <th>25%</th>\n",
              "      <td>19.000000</td>\n",
              "      <td>0.000000</td>\n",
              "      <td>0.000000</td>\n",
              "      <td>0.000000</td>\n",
              "      <td>0.000000</td>\n",
              "      <td>0.000000</td>\n",
              "    </tr>\n",
              "    <tr>\n",
              "      <th>50%</th>\n",
              "      <td>26.000000</td>\n",
              "      <td>0.000000</td>\n",
              "      <td>0.000000</td>\n",
              "      <td>0.000000</td>\n",
              "      <td>0.000000</td>\n",
              "      <td>0.000000</td>\n",
              "    </tr>\n",
              "    <tr>\n",
              "      <th>75%</th>\n",
              "      <td>37.000000</td>\n",
              "      <td>53.000000</td>\n",
              "      <td>78.000000</td>\n",
              "      <td>33.000000</td>\n",
              "      <td>50.000000</td>\n",
              "      <td>36.000000</td>\n",
              "    </tr>\n",
              "    <tr>\n",
              "      <th>max</th>\n",
              "      <td>79.000000</td>\n",
              "      <td>11567.000000</td>\n",
              "      <td>25273.000000</td>\n",
              "      <td>8292.000000</td>\n",
              "      <td>19844.000000</td>\n",
              "      <td>22272.000000</td>\n",
              "    </tr>\n",
              "  </tbody>\n",
              "</table>\n",
              "</div>\n",
              "      <button class=\"colab-df-convert\" onclick=\"convertToInteractive('df-e86765c6-9c27-4c96-b09b-2f73dc772953')\"\n",
              "              title=\"Convert this dataframe to an interactive table.\"\n",
              "              style=\"display:none;\">\n",
              "        \n",
              "  <svg xmlns=\"http://www.w3.org/2000/svg\" height=\"24px\"viewBox=\"0 0 24 24\"\n",
              "       width=\"24px\">\n",
              "    <path d=\"M0 0h24v24H0V0z\" fill=\"none\"/>\n",
              "    <path d=\"M18.56 5.44l.94 2.06.94-2.06 2.06-.94-2.06-.94-.94-2.06-.94 2.06-2.06.94zm-11 1L8.5 8.5l.94-2.06 2.06-.94-2.06-.94L8.5 2.5l-.94 2.06-2.06.94zm10 10l.94 2.06.94-2.06 2.06-.94-2.06-.94-.94-2.06-.94 2.06-2.06.94z\"/><path d=\"M17.41 7.96l-1.37-1.37c-.4-.4-.92-.59-1.43-.59-.52 0-1.04.2-1.43.59L10.3 9.45l-7.72 7.72c-.78.78-.78 2.05 0 2.83L4 21.41c.39.39.9.59 1.41.59.51 0 1.02-.2 1.41-.59l7.78-7.78 2.81-2.81c.8-.78.8-2.07 0-2.86zM5.41 20L4 18.59l7.72-7.72 1.47 1.35L5.41 20z\"/>\n",
              "  </svg>\n",
              "      </button>\n",
              "      \n",
              "  <style>\n",
              "    .colab-df-container {\n",
              "      display:flex;\n",
              "      flex-wrap:wrap;\n",
              "      gap: 12px;\n",
              "    }\n",
              "\n",
              "    .colab-df-convert {\n",
              "      background-color: #E8F0FE;\n",
              "      border: none;\n",
              "      border-radius: 50%;\n",
              "      cursor: pointer;\n",
              "      display: none;\n",
              "      fill: #1967D2;\n",
              "      height: 32px;\n",
              "      padding: 0 0 0 0;\n",
              "      width: 32px;\n",
              "    }\n",
              "\n",
              "    .colab-df-convert:hover {\n",
              "      background-color: #E2EBFA;\n",
              "      box-shadow: 0px 1px 2px rgba(60, 64, 67, 0.3), 0px 1px 3px 1px rgba(60, 64, 67, 0.15);\n",
              "      fill: #174EA6;\n",
              "    }\n",
              "\n",
              "    [theme=dark] .colab-df-convert {\n",
              "      background-color: #3B4455;\n",
              "      fill: #D2E3FC;\n",
              "    }\n",
              "\n",
              "    [theme=dark] .colab-df-convert:hover {\n",
              "      background-color: #434B5C;\n",
              "      box-shadow: 0px 1px 3px 1px rgba(0, 0, 0, 0.15);\n",
              "      filter: drop-shadow(0px 1px 2px rgba(0, 0, 0, 0.3));\n",
              "      fill: #FFFFFF;\n",
              "    }\n",
              "  </style>\n",
              "\n",
              "      <script>\n",
              "        const buttonEl =\n",
              "          document.querySelector('#df-e86765c6-9c27-4c96-b09b-2f73dc772953 button.colab-df-convert');\n",
              "        buttonEl.style.display =\n",
              "          google.colab.kernel.accessAllowed ? 'block' : 'none';\n",
              "\n",
              "        async function convertToInteractive(key) {\n",
              "          const element = document.querySelector('#df-e86765c6-9c27-4c96-b09b-2f73dc772953');\n",
              "          const dataTable =\n",
              "            await google.colab.kernel.invokeFunction('convertToInteractive',\n",
              "                                                     [key], {});\n",
              "          if (!dataTable) return;\n",
              "\n",
              "          const docLinkHtml = 'Like what you see? Visit the ' +\n",
              "            '<a target=\"_blank\" href=https://colab.research.google.com/notebooks/data_table.ipynb>data table notebook</a>'\n",
              "            + ' to learn more about interactive tables.';\n",
              "          element.innerHTML = '';\n",
              "          dataTable['output_type'] = 'display_data';\n",
              "          await google.colab.output.renderOutput(dataTable, element);\n",
              "          const docLink = document.createElement('div');\n",
              "          docLink.innerHTML = docLinkHtml;\n",
              "          element.appendChild(docLink);\n",
              "        }\n",
              "      </script>\n",
              "    </div>\n",
              "  </div>\n",
              "  "
            ]
          },
          "metadata": {},
          "execution_count": 50
        }
      ]
    },
    {
      "cell_type": "markdown",
      "source": [
        "<a id=\"3.3\"></a>\n",
        "## <span style=\"color:#e76f51;\"> Submission File </span>"
      ],
      "metadata": {
        "papermill": {
          "duration": 0.049419,
          "end_time": "2022-01-18T20:32:45.060459",
          "exception": false,
          "start_time": "2022-01-18T20:32:45.01104",
          "status": "completed"
        },
        "tags": [],
        "id": "g-SlFN2x94r2"
      }
    },
    {
      "cell_type": "markdown",
      "source": [
        "### <span style=\"color:#e76f51;\"> Quick view of Submission File </span>"
      ],
      "metadata": {
        "papermill": {
          "duration": 0.049321,
          "end_time": "2022-01-18T20:32:45.159558",
          "exception": false,
          "start_time": "2022-01-18T20:32:45.110237",
          "status": "completed"
        },
        "tags": [],
        "id": "MqOD7sEb94r2"
      }
    },
    {
      "cell_type": "code",
      "source": [
        "submission.head()"
      ],
      "metadata": {
        "_kg_hide-input": true,
        "papermill": {
          "duration": 0.061068,
          "end_time": "2022-01-18T20:32:45.270603",
          "exception": false,
          "start_time": "2022-01-18T20:32:45.209535",
          "status": "completed"
        },
        "tags": [],
        "execution": {
          "iopub.status.busy": "2022-04-01T23:14:50.162761Z",
          "iopub.execute_input": "2022-04-01T23:14:50.163279Z",
          "iopub.status.idle": "2022-04-01T23:14:50.175268Z",
          "shell.execute_reply.started": "2022-04-01T23:14:50.163236Z",
          "shell.execute_reply": "2022-04-01T23:14:50.174182Z"
        },
        "trusted": true,
        "colab": {
          "base_uri": "https://localhost:8080/",
          "height": 206
        },
        "id": "Wv8jgRmi94sB",
        "outputId": "efcbc814-9fc3-40ea-8e17-28b721540338"
      },
      "execution_count": 51,
      "outputs": [
        {
          "output_type": "execute_result",
          "data": {
            "text/plain": [
              "  PassengerId  Transported\n",
              "0     0013_01        False\n",
              "1     0018_01        False\n",
              "2     0019_01        False\n",
              "3     0021_01        False\n",
              "4     0023_01        False"
            ],
            "text/html": [
              "\n",
              "  <div id=\"df-66892ca9-5af5-4db6-88db-6f1a69e78c54\">\n",
              "    <div class=\"colab-df-container\">\n",
              "      <div>\n",
              "<style scoped>\n",
              "    .dataframe tbody tr th:only-of-type {\n",
              "        vertical-align: middle;\n",
              "    }\n",
              "\n",
              "    .dataframe tbody tr th {\n",
              "        vertical-align: top;\n",
              "    }\n",
              "\n",
              "    .dataframe thead th {\n",
              "        text-align: right;\n",
              "    }\n",
              "</style>\n",
              "<table border=\"1\" class=\"dataframe\">\n",
              "  <thead>\n",
              "    <tr style=\"text-align: right;\">\n",
              "      <th></th>\n",
              "      <th>PassengerId</th>\n",
              "      <th>Transported</th>\n",
              "    </tr>\n",
              "  </thead>\n",
              "  <tbody>\n",
              "    <tr>\n",
              "      <th>0</th>\n",
              "      <td>0013_01</td>\n",
              "      <td>False</td>\n",
              "    </tr>\n",
              "    <tr>\n",
              "      <th>1</th>\n",
              "      <td>0018_01</td>\n",
              "      <td>False</td>\n",
              "    </tr>\n",
              "    <tr>\n",
              "      <th>2</th>\n",
              "      <td>0019_01</td>\n",
              "      <td>False</td>\n",
              "    </tr>\n",
              "    <tr>\n",
              "      <th>3</th>\n",
              "      <td>0021_01</td>\n",
              "      <td>False</td>\n",
              "    </tr>\n",
              "    <tr>\n",
              "      <th>4</th>\n",
              "      <td>0023_01</td>\n",
              "      <td>False</td>\n",
              "    </tr>\n",
              "  </tbody>\n",
              "</table>\n",
              "</div>\n",
              "      <button class=\"colab-df-convert\" onclick=\"convertToInteractive('df-66892ca9-5af5-4db6-88db-6f1a69e78c54')\"\n",
              "              title=\"Convert this dataframe to an interactive table.\"\n",
              "              style=\"display:none;\">\n",
              "        \n",
              "  <svg xmlns=\"http://www.w3.org/2000/svg\" height=\"24px\"viewBox=\"0 0 24 24\"\n",
              "       width=\"24px\">\n",
              "    <path d=\"M0 0h24v24H0V0z\" fill=\"none\"/>\n",
              "    <path d=\"M18.56 5.44l.94 2.06.94-2.06 2.06-.94-2.06-.94-.94-2.06-.94 2.06-2.06.94zm-11 1L8.5 8.5l.94-2.06 2.06-.94-2.06-.94L8.5 2.5l-.94 2.06-2.06.94zm10 10l.94 2.06.94-2.06 2.06-.94-2.06-.94-.94-2.06-.94 2.06-2.06.94z\"/><path d=\"M17.41 7.96l-1.37-1.37c-.4-.4-.92-.59-1.43-.59-.52 0-1.04.2-1.43.59L10.3 9.45l-7.72 7.72c-.78.78-.78 2.05 0 2.83L4 21.41c.39.39.9.59 1.41.59.51 0 1.02-.2 1.41-.59l7.78-7.78 2.81-2.81c.8-.78.8-2.07 0-2.86zM5.41 20L4 18.59l7.72-7.72 1.47 1.35L5.41 20z\"/>\n",
              "  </svg>\n",
              "      </button>\n",
              "      \n",
              "  <style>\n",
              "    .colab-df-container {\n",
              "      display:flex;\n",
              "      flex-wrap:wrap;\n",
              "      gap: 12px;\n",
              "    }\n",
              "\n",
              "    .colab-df-convert {\n",
              "      background-color: #E8F0FE;\n",
              "      border: none;\n",
              "      border-radius: 50%;\n",
              "      cursor: pointer;\n",
              "      display: none;\n",
              "      fill: #1967D2;\n",
              "      height: 32px;\n",
              "      padding: 0 0 0 0;\n",
              "      width: 32px;\n",
              "    }\n",
              "\n",
              "    .colab-df-convert:hover {\n",
              "      background-color: #E2EBFA;\n",
              "      box-shadow: 0px 1px 2px rgba(60, 64, 67, 0.3), 0px 1px 3px 1px rgba(60, 64, 67, 0.15);\n",
              "      fill: #174EA6;\n",
              "    }\n",
              "\n",
              "    [theme=dark] .colab-df-convert {\n",
              "      background-color: #3B4455;\n",
              "      fill: #D2E3FC;\n",
              "    }\n",
              "\n",
              "    [theme=dark] .colab-df-convert:hover {\n",
              "      background-color: #434B5C;\n",
              "      box-shadow: 0px 1px 3px 1px rgba(0, 0, 0, 0.15);\n",
              "      filter: drop-shadow(0px 1px 2px rgba(0, 0, 0, 0.3));\n",
              "      fill: #FFFFFF;\n",
              "    }\n",
              "  </style>\n",
              "\n",
              "      <script>\n",
              "        const buttonEl =\n",
              "          document.querySelector('#df-66892ca9-5af5-4db6-88db-6f1a69e78c54 button.colab-df-convert');\n",
              "        buttonEl.style.display =\n",
              "          google.colab.kernel.accessAllowed ? 'block' : 'none';\n",
              "\n",
              "        async function convertToInteractive(key) {\n",
              "          const element = document.querySelector('#df-66892ca9-5af5-4db6-88db-6f1a69e78c54');\n",
              "          const dataTable =\n",
              "            await google.colab.kernel.invokeFunction('convertToInteractive',\n",
              "                                                     [key], {});\n",
              "          if (!dataTable) return;\n",
              "\n",
              "          const docLinkHtml = 'Like what you see? Visit the ' +\n",
              "            '<a target=\"_blank\" href=https://colab.research.google.com/notebooks/data_table.ipynb>data table notebook</a>'\n",
              "            + ' to learn more about interactive tables.';\n",
              "          element.innerHTML = '';\n",
              "          dataTable['output_type'] = 'display_data';\n",
              "          await google.colab.output.renderOutput(dataTable, element);\n",
              "          const docLink = document.createElement('div');\n",
              "          docLink.innerHTML = docLinkHtml;\n",
              "          element.appendChild(docLink);\n",
              "        }\n",
              "      </script>\n",
              "    </div>\n",
              "  </div>\n",
              "  "
            ]
          },
          "metadata": {},
          "execution_count": 51
        }
      ]
    },
    {
      "cell_type": "markdown",
      "source": [
        "<a href=\"#toc\" role=\"button\" aria-pressed=\"true\" >⬆️Back to Table of Contents ⬆️</a>"
      ],
      "metadata": {
        "papermill": {
          "duration": 0.050729,
          "end_time": "2022-01-18T20:32:45.372094",
          "exception": false,
          "start_time": "2022-01-18T20:32:45.321365",
          "status": "completed"
        },
        "tags": [],
        "id": "Fms6GGxu94sB"
      }
    },
    {
      "cell_type": "markdown",
      "source": [
        "<a id=\"4\"></a>\n",
        "# **<center><span style=\"color:#00BFC4;\"> EDA </span></center>**"
      ],
      "metadata": {
        "papermill": {
          "duration": 0.050114,
          "end_time": "2022-01-18T20:32:45.473132",
          "exception": false,
          "start_time": "2022-01-18T20:32:45.423018",
          "status": "completed"
        },
        "tags": [],
        "id": "00xo0pL894sB"
      }
    },
    {
      "cell_type": "markdown",
      "source": [
        "<a id=\"4.1\"></a>\n",
        "## <span style=\"color:#e76f51;\"> Overview of Data </span>"
      ],
      "metadata": {
        "papermill": {
          "duration": 0.050815,
          "end_time": "2022-01-18T20:32:45.576343",
          "exception": false,
          "start_time": "2022-01-18T20:32:45.525528",
          "status": "completed"
        },
        "tags": [],
        "id": "O2h6ub6X94sB"
      }
    },
    {
      "cell_type": "code",
      "source": [
        "train.drop([\"PassengerId\"] , axis = 1 , inplace = True)\n",
        "test.drop([\"PassengerId\"] , axis = 1 , inplace = True)\n",
        "TARGET = 'Transported'\n",
        "FEATURES = [col for col in train.columns if col != TARGET]\n",
        "RANDOM_STATE = 12 \n",
        "\n",
        "# passenger id 제거, target은 transported 하지 못한것에 맞춤."
      ],
      "metadata": {
        "_kg_hide-input": true,
        "papermill": {
          "duration": 0.061307,
          "end_time": "2022-01-18T20:32:45.688373",
          "exception": false,
          "start_time": "2022-01-18T20:32:45.627066",
          "status": "completed"
        },
        "tags": [],
        "execution": {
          "iopub.status.busy": "2022-04-01T23:15:01.585249Z",
          "iopub.execute_input": "2022-04-01T23:15:01.585966Z",
          "iopub.status.idle": "2022-04-01T23:15:01.596375Z",
          "shell.execute_reply.started": "2022-04-01T23:15:01.585928Z",
          "shell.execute_reply": "2022-04-01T23:15:01.595411Z"
        },
        "trusted": true,
        "id": "Hc4jqX9u94sC"
      },
      "execution_count": 52,
      "outputs": []
    },
    {
      "cell_type": "code",
      "source": [
        "train.iloc[:, :-1].describe().T.sort_values(by='std' , ascending = False)\\\n",
        "                     .style.background_gradient(cmap='GnBu')\\\n",
        "                     .bar(subset=[\"max\"], color='#BB0000')\\\n",
        "                     .bar(subset=[\"mean\",], color='green')\n",
        "                     # 각 변수간의 상관관계? 를 나타낸듯"
      ],
      "metadata": {
        "_kg_hide-input": true,
        "papermill": {
          "duration": 0.198644,
          "end_time": "2022-01-18T20:32:45.938448",
          "exception": false,
          "start_time": "2022-01-18T20:32:45.739804",
          "status": "completed"
        },
        "tags": [],
        "execution": {
          "iopub.status.busy": "2022-02-24T01:38:47.440012Z",
          "iopub.execute_input": "2022-02-24T01:38:47.440583Z",
          "iopub.status.idle": "2022-02-24T01:38:47.529178Z",
          "shell.execute_reply.started": "2022-02-24T01:38:47.440556Z",
          "shell.execute_reply": "2022-02-24T01:38:47.528379Z"
        },
        "trusted": true,
        "colab": {
          "base_uri": "https://localhost:8080/",
          "height": 238
        },
        "id": "Jm6nmQmK94sC",
        "outputId": "139fd92e-49c9-4950-ae9d-25e1d7a85107"
      },
      "execution_count": 53,
      "outputs": [
        {
          "output_type": "execute_result",
          "data": {
            "text/plain": [
              "<pandas.io.formats.style.Styler at 0x7f259c29d1b0>"
            ],
            "text/html": [
              "<style type=\"text/css\">\n",
              "#T_d636d_row0_col0, #T_d636d_row2_col0 {\n",
              "  background-color: #0b6cae;\n",
              "  color: #f1f1f1;\n",
              "}\n",
              "#T_d636d_row0_col1 {\n",
              "  background-color: #084081;\n",
              "  color: #f1f1f1;\n",
              "  width: 10em;\n",
              "  background: linear-gradient(90deg, green 100.0%, transparent 100.0%);\n",
              "}\n",
              "#T_d636d_row0_col2, #T_d636d_row0_col6, #T_d636d_row5_col0, #T_d636d_row5_col4, #T_d636d_row5_col5 {\n",
              "  background-color: #084081;\n",
              "  color: #f1f1f1;\n",
              "}\n",
              "#T_d636d_row0_col3, #T_d636d_row0_col4, #T_d636d_row0_col5, #T_d636d_row1_col3, #T_d636d_row1_col4, #T_d636d_row1_col5, #T_d636d_row2_col3, #T_d636d_row2_col4, #T_d636d_row2_col5, #T_d636d_row3_col3, #T_d636d_row3_col4, #T_d636d_row3_col5, #T_d636d_row4_col0, #T_d636d_row4_col3, #T_d636d_row4_col4, #T_d636d_row4_col5, #T_d636d_row4_col6, #T_d636d_row5_col2, #T_d636d_row5_col3 {\n",
              "  background-color: #f7fcf0;\n",
              "  color: #000000;\n",
              "}\n",
              "#T_d636d_row0_col7 {\n",
              "  background-color: #084081;\n",
              "  color: #f1f1f1;\n",
              "  width: 10em;\n",
              "  background: linear-gradient(90deg, #BB0000 100.0%, transparent 100.0%);\n",
              "}\n",
              "#T_d636d_row1_col0 {\n",
              "  background-color: #3c9fc8;\n",
              "  color: #f1f1f1;\n",
              "}\n",
              "#T_d636d_row1_col1 {\n",
              "  background-color: #49add0;\n",
              "  color: #f1f1f1;\n",
              "  width: 10em;\n",
              "  background: linear-gradient(90deg, green 66.6%, transparent 66.6%);\n",
              "}\n",
              "#T_d636d_row1_col2 {\n",
              "  background-color: #3699c5;\n",
              "  color: #f1f1f1;\n",
              "}\n",
              "#T_d636d_row1_col6 {\n",
              "  background-color: #a3dbb7;\n",
              "  color: #000000;\n",
              "}\n",
              "#T_d636d_row1_col7 {\n",
              "  background-color: #1a7ab5;\n",
              "  color: #f1f1f1;\n",
              "  width: 10em;\n",
              "  background: linear-gradient(90deg, #BB0000 80.9%, transparent 80.9%);\n",
              "}\n",
              "#T_d636d_row2_col1 {\n",
              "  background-color: #45a8cd;\n",
              "  color: #f1f1f1;\n",
              "  width: 10em;\n",
              "  background: linear-gradient(90deg, green 67.9%, transparent 67.9%);\n",
              "}\n",
              "#T_d636d_row2_col2 {\n",
              "  background-color: #389bc6;\n",
              "  color: #f1f1f1;\n",
              "}\n",
              "#T_d636d_row2_col6 {\n",
              "  background-color: #46aace;\n",
              "  color: #f1f1f1;\n",
              "}\n",
              "#T_d636d_row2_col7 {\n",
              "  background-color: #2a8bbe;\n",
              "  color: #f1f1f1;\n",
              "  width: 10em;\n",
              "  background: linear-gradient(90deg, #BB0000 75.2%, transparent 75.2%);\n",
              "}\n",
              "#T_d636d_row3_col0 {\n",
              "  background-color: #085598;\n",
              "  color: #f1f1f1;\n",
              "}\n",
              "#T_d636d_row3_col1 {\n",
              "  background-color: #8bd2bf;\n",
              "  color: #000000;\n",
              "  width: 10em;\n",
              "  background: linear-gradient(90deg, green 49.1%, transparent 49.1%);\n",
              "}\n",
              "#T_d636d_row3_col2, #T_d636d_row3_col6 {\n",
              "  background-color: #9cd9b9;\n",
              "  color: #000000;\n",
              "}\n",
              "#T_d636d_row3_col7 {\n",
              "  background-color: #83cfc1;\n",
              "  color: #000000;\n",
              "  width: 10em;\n",
              "  background: linear-gradient(90deg, #BB0000 48.1%, transparent 48.1%);\n",
              "}\n",
              "#T_d636d_row4_col1 {\n",
              "  background-color: #b3e1ba;\n",
              "  color: #000000;\n",
              "  width: 10em;\n",
              "  background: linear-gradient(90deg, green 37.9%, transparent 37.9%);\n",
              "}\n",
              "#T_d636d_row4_col2 {\n",
              "  background-color: #aadeb6;\n",
              "  color: #000000;\n",
              "}\n",
              "#T_d636d_row4_col7 {\n",
              "  background-color: #2081b8;\n",
              "  color: #f1f1f1;\n",
              "  width: 10em;\n",
              "  background: linear-gradient(90deg, #BB0000 78.8%, transparent 78.8%);\n",
              "}\n",
              "#T_d636d_row5_col1 {\n",
              "  background-color: #f7fcf0;\n",
              "  color: #000000;\n",
              "  width: 10em;\n",
              "  background: linear-gradient(90deg, green 6.3%, transparent 6.3%);\n",
              "}\n",
              "#T_d636d_row5_col6 {\n",
              "  background-color: #d0edca;\n",
              "  color: #000000;\n",
              "}\n",
              "#T_d636d_row5_col7 {\n",
              "  background-color: #f7fcf0;\n",
              "  color: #000000;\n",
              "  width: 10em;\n",
              "  background: linear-gradient(90deg, #BB0000 0.3%, transparent 0.3%);\n",
              "}\n",
              "</style>\n",
              "<table id=\"T_d636d\" class=\"dataframe\">\n",
              "  <thead>\n",
              "    <tr>\n",
              "      <th class=\"blank level0\" >&nbsp;</th>\n",
              "      <th id=\"T_d636d_level0_col0\" class=\"col_heading level0 col0\" >count</th>\n",
              "      <th id=\"T_d636d_level0_col1\" class=\"col_heading level0 col1\" >mean</th>\n",
              "      <th id=\"T_d636d_level0_col2\" class=\"col_heading level0 col2\" >std</th>\n",
              "      <th id=\"T_d636d_level0_col3\" class=\"col_heading level0 col3\" >min</th>\n",
              "      <th id=\"T_d636d_level0_col4\" class=\"col_heading level0 col4\" >25%</th>\n",
              "      <th id=\"T_d636d_level0_col5\" class=\"col_heading level0 col5\" >50%</th>\n",
              "      <th id=\"T_d636d_level0_col6\" class=\"col_heading level0 col6\" >75%</th>\n",
              "      <th id=\"T_d636d_level0_col7\" class=\"col_heading level0 col7\" >max</th>\n",
              "    </tr>\n",
              "  </thead>\n",
              "  <tbody>\n",
              "    <tr>\n",
              "      <th id=\"T_d636d_level0_row0\" class=\"row_heading level0 row0\" >FoodCourt</th>\n",
              "      <td id=\"T_d636d_row0_col0\" class=\"data row0 col0\" >8510.000000</td>\n",
              "      <td id=\"T_d636d_row0_col1\" class=\"data row0 col1\" >458.077203</td>\n",
              "      <td id=\"T_d636d_row0_col2\" class=\"data row0 col2\" >1611.489240</td>\n",
              "      <td id=\"T_d636d_row0_col3\" class=\"data row0 col3\" >0.000000</td>\n",
              "      <td id=\"T_d636d_row0_col4\" class=\"data row0 col4\" >0.000000</td>\n",
              "      <td id=\"T_d636d_row0_col5\" class=\"data row0 col5\" >0.000000</td>\n",
              "      <td id=\"T_d636d_row0_col6\" class=\"data row0 col6\" >76.000000</td>\n",
              "      <td id=\"T_d636d_row0_col7\" class=\"data row0 col7\" >29813.000000</td>\n",
              "    </tr>\n",
              "    <tr>\n",
              "      <th id=\"T_d636d_level0_row1\" class=\"row_heading level0 row1\" >VRDeck</th>\n",
              "      <td id=\"T_d636d_row1_col0\" class=\"data row1 col0\" >8505.000000</td>\n",
              "      <td id=\"T_d636d_row1_col1\" class=\"data row1 col1\" >304.854791</td>\n",
              "      <td id=\"T_d636d_row1_col2\" class=\"data row1 col2\" >1145.717189</td>\n",
              "      <td id=\"T_d636d_row1_col3\" class=\"data row1 col3\" >0.000000</td>\n",
              "      <td id=\"T_d636d_row1_col4\" class=\"data row1 col4\" >0.000000</td>\n",
              "      <td id=\"T_d636d_row1_col5\" class=\"data row1 col5\" >0.000000</td>\n",
              "      <td id=\"T_d636d_row1_col6\" class=\"data row1 col6\" >46.000000</td>\n",
              "      <td id=\"T_d636d_row1_col7\" class=\"data row1 col7\" >24133.000000</td>\n",
              "    </tr>\n",
              "    <tr>\n",
              "      <th id=\"T_d636d_level0_row2\" class=\"row_heading level0 row2\" >Spa</th>\n",
              "      <td id=\"T_d636d_row2_col0\" class=\"data row2 col0\" >8510.000000</td>\n",
              "      <td id=\"T_d636d_row2_col1\" class=\"data row2 col1\" >311.138778</td>\n",
              "      <td id=\"T_d636d_row2_col2\" class=\"data row2 col2\" >1136.705535</td>\n",
              "      <td id=\"T_d636d_row2_col3\" class=\"data row2 col3\" >0.000000</td>\n",
              "      <td id=\"T_d636d_row2_col4\" class=\"data row2 col4\" >0.000000</td>\n",
              "      <td id=\"T_d636d_row2_col5\" class=\"data row2 col5\" >0.000000</td>\n",
              "      <td id=\"T_d636d_row2_col6\" class=\"data row2 col6\" >59.000000</td>\n",
              "      <td id=\"T_d636d_row2_col7\" class=\"data row2 col7\" >22408.000000</td>\n",
              "    </tr>\n",
              "    <tr>\n",
              "      <th id=\"T_d636d_level0_row3\" class=\"row_heading level0 row3\" >RoomService</th>\n",
              "      <td id=\"T_d636d_row3_col0\" class=\"data row3 col0\" >8512.000000</td>\n",
              "      <td id=\"T_d636d_row3_col1\" class=\"data row3 col1\" >224.687617</td>\n",
              "      <td id=\"T_d636d_row3_col2\" class=\"data row3 col2\" >666.717663</td>\n",
              "      <td id=\"T_d636d_row3_col3\" class=\"data row3 col3\" >0.000000</td>\n",
              "      <td id=\"T_d636d_row3_col4\" class=\"data row3 col4\" >0.000000</td>\n",
              "      <td id=\"T_d636d_row3_col5\" class=\"data row3 col5\" >0.000000</td>\n",
              "      <td id=\"T_d636d_row3_col6\" class=\"data row3 col6\" >47.000000</td>\n",
              "      <td id=\"T_d636d_row3_col7\" class=\"data row3 col7\" >14327.000000</td>\n",
              "    </tr>\n",
              "    <tr>\n",
              "      <th id=\"T_d636d_level0_row4\" class=\"row_heading level0 row4\" >ShoppingMall</th>\n",
              "      <td id=\"T_d636d_row4_col0\" class=\"data row4 col0\" >8485.000000</td>\n",
              "      <td id=\"T_d636d_row4_col1\" class=\"data row4 col1\" >173.729169</td>\n",
              "      <td id=\"T_d636d_row4_col2\" class=\"data row4 col2\" >604.696458</td>\n",
              "      <td id=\"T_d636d_row4_col3\" class=\"data row4 col3\" >0.000000</td>\n",
              "      <td id=\"T_d636d_row4_col4\" class=\"data row4 col4\" >0.000000</td>\n",
              "      <td id=\"T_d636d_row4_col5\" class=\"data row4 col5\" >0.000000</td>\n",
              "      <td id=\"T_d636d_row4_col6\" class=\"data row4 col6\" >27.000000</td>\n",
              "      <td id=\"T_d636d_row4_col7\" class=\"data row4 col7\" >23492.000000</td>\n",
              "    </tr>\n",
              "    <tr>\n",
              "      <th id=\"T_d636d_level0_row5\" class=\"row_heading level0 row5\" >Age</th>\n",
              "      <td id=\"T_d636d_row5_col0\" class=\"data row5 col0\" >8514.000000</td>\n",
              "      <td id=\"T_d636d_row5_col1\" class=\"data row5 col1\" >28.827930</td>\n",
              "      <td id=\"T_d636d_row5_col2\" class=\"data row5 col2\" >14.489021</td>\n",
              "      <td id=\"T_d636d_row5_col3\" class=\"data row5 col3\" >0.000000</td>\n",
              "      <td id=\"T_d636d_row5_col4\" class=\"data row5 col4\" >19.000000</td>\n",
              "      <td id=\"T_d636d_row5_col5\" class=\"data row5 col5\" >27.000000</td>\n",
              "      <td id=\"T_d636d_row5_col6\" class=\"data row5 col6\" >38.000000</td>\n",
              "      <td id=\"T_d636d_row5_col7\" class=\"data row5 col7\" >79.000000</td>\n",
              "    </tr>\n",
              "  </tbody>\n",
              "</table>\n"
            ]
          },
          "metadata": {},
          "execution_count": 53
        }
      ]
    },
    {
      "cell_type": "markdown",
      "source": [
        "<a id=\"4.7\"></a>\n",
        "## <span style=\"color:#e76f51;\"> Null Value Distribution  </span>"
      ],
      "metadata": {
        "papermill": {
          "duration": 0.050454,
          "end_time": "2022-01-18T20:32:46.039473",
          "exception": false,
          "start_time": "2022-01-18T20:32:45.989019",
          "status": "completed"
        },
        "tags": [],
        "id": "vHxsBAxN94sC"
      }
    },
    {
      "cell_type": "markdown",
      "source": [
        "<div class=\"alert alert-block alert-info\" style=\"font-size:14px; font-family:verdana; line-height: 1.7em;\">\n",
        "    📌 &nbsp;<b><u>Observations in Null Value Distribution :</u></b><br>\n",
        " \n",
        "* <i> The maximum of missing value in an row is <b><u>3</u></b> and the lowest is <b><u>no missing value</u></b></i><br>\n",
        "* <i> Interestingly, the missing value distribution (row basis) is quite the same between <b><u>train</u></b> and <b><u>test</u></b> dataset. </i><br>\n",
        "* <i> There are around <b><u>76%</u></b> of the observations (row basis) that has no missing values.  </i><br>\n",
        "* <i> Rest <b><u>24%</u></b> of the observations (row basis) that have <b><u>1 to 3</u></b>  missing values</i><br>\n",
        "</div>"
      ],
      "metadata": {
        "id": "qLejDkfa94sC"
      }
    },
    {
      "cell_type": "markdown",
      "source": [
        "<a id=\"4.2.1\"></a>\n",
        "### <span style=\"color:#e76f51;\">Column wise Null Value Distribution   </span>"
      ],
      "metadata": {
        "papermill": {
          "duration": 0.050549,
          "end_time": "2022-01-18T20:32:46.241456",
          "exception": false,
          "start_time": "2022-01-18T20:32:46.190907",
          "status": "completed"
        },
        "tags": [],
        "id": "OgcZ79Mm94sC"
      }
    },
    {
      "cell_type": "code",
      "source": [
        "test_null = pd.DataFrame(test.isna().sum())\n",
        "test_null = test_null.sort_values(by = 0 ,ascending = False)\n",
        "# test data의 null값들을 뽑아서 값을 정렬한다.\n",
        "train_null = pd.DataFrame(train.isna().sum())\n",
        "train_null = train_null.sort_values(by = 0 ,ascending = False)[:-1]\n",
        "# train data의 null값들을 뽑아서 값을 정렬한다.\n",
        "\n",
        "# subplots를 활용해서 그래프 2개를 나란히 출력할수 있게 한다.\n",
        "fig = make_subplots(rows=1, \n",
        "                    cols=2,\n",
        "                    column_titles = [\"Train Data\", \"Test Data\"] ,\n",
        "                    x_title=\"Missing Values\")\n",
        "\n",
        "# 각각 그래프 추가\n",
        "fig.add_trace(go.Bar(x=train_null[0],\n",
        "                     y=train_null.index,\n",
        "                     orientation=\"h\",\n",
        "                    marker=dict(color=[n for n in range(12)], \n",
        "                                line_color='rgb(0,0,0)' , \n",
        "                                line_width = 2,\n",
        "                                coloraxis=\"coloraxis\")),\n",
        "              1, 1)\n",
        "\n",
        "# 각각 그래프 추가\n",
        "fig.add_trace(go.Bar(x=test_null[0], \n",
        "                     y=test_null.index,\n",
        "                     orientation=\"h\",\n",
        "                    marker=dict(color=[n for n in range(12)], \n",
        "                                line_color='rgb(0,0,0)', \n",
        "                                line_width = 2,\n",
        "                                coloraxis=\"coloraxis\")),\n",
        "              1, 2)\n",
        "\n",
        "fig.update_layout(showlegend=False, title_text=\"Column wise Null Value Distribution\", title_x=0.5)"
      ],
      "metadata": {
        "_kg_hide-input": true,
        "execution": {
          "iopub.status.busy": "2022-02-24T01:38:47.530106Z",
          "iopub.execute_input": "2022-02-24T01:38:47.530278Z",
          "iopub.status.idle": "2022-02-24T01:38:47.761614Z",
          "shell.execute_reply.started": "2022-02-24T01:38:47.530256Z",
          "shell.execute_reply": "2022-02-24T01:38:47.760845Z"
        },
        "trusted": true,
        "colab": {
          "base_uri": "https://localhost:8080/",
          "height": 542
        },
        "id": "rJPisL7M94sD",
        "outputId": "2f46fa47-40a2-4076-aa68-5ccf4ebe5e05"
      },
      "execution_count": 54,
      "outputs": [
        {
          "output_type": "display_data",
          "data": {
            "text/html": [
              "<html>\n",
              "<head><meta charset=\"utf-8\" /></head>\n",
              "<body>\n",
              "    <div>            <script src=\"https://cdnjs.cloudflare.com/ajax/libs/mathjax/2.7.5/MathJax.js?config=TeX-AMS-MML_SVG\"></script><script type=\"text/javascript\">if (window.MathJax && window.MathJax.Hub && window.MathJax.Hub.Config) {window.MathJax.Hub.Config({SVG: {font: \"STIX-Web\"}});}</script>                <script type=\"text/javascript\">window.PlotlyConfig = {MathJaxConfig: 'local'};</script>\n",
              "        <script src=\"https://cdn.plot.ly/plotly-2.18.2.min.js\"></script>                <div id=\"e88502f2-7659-47eb-b615-c8aba8a55e4b\" class=\"plotly-graph-div\" style=\"height:525px; width:100%;\"></div>            <script type=\"text/javascript\">                                    window.PLOTLYENV=window.PLOTLYENV || {};                                    if (document.getElementById(\"e88502f2-7659-47eb-b615-c8aba8a55e4b\")) {                    Plotly.newPlot(                        \"e88502f2-7659-47eb-b615-c8aba8a55e4b\",                        [{\"marker\":{\"color\":[0,1,2,3,4,5,6,7,8,9,10,11],\"coloraxis\":\"coloraxis\",\"line\":{\"color\":\"rgb(0,0,0)\",\"width\":2}},\"orientation\":\"h\",\"x\":[217,208,203,201,200,199,188,183,183,182,181,179],\"y\":[\"CryoSleep\",\"ShoppingMall\",\"VIP\",\"HomePlanet\",\"Name\",\"Cabin\",\"VRDeck\",\"FoodCourt\",\"Spa\",\"Destination\",\"RoomService\",\"Age\"],\"type\":\"bar\",\"xaxis\":\"x\",\"yaxis\":\"y\"},{\"marker\":{\"color\":[0,1,2,3,4,5,6,7,8,9,10,11],\"coloraxis\":\"coloraxis\",\"line\":{\"color\":\"rgb(0,0,0)\",\"width\":2}},\"orientation\":\"h\",\"x\":[106,101,100,98,94,93,93,92,91,87,82,80],\"y\":[\"FoodCourt\",\"Spa\",\"Cabin\",\"ShoppingMall\",\"Name\",\"CryoSleep\",\"VIP\",\"Destination\",\"Age\",\"HomePlanet\",\"RoomService\",\"VRDeck\"],\"type\":\"bar\",\"xaxis\":\"x2\",\"yaxis\":\"y2\"}],                        {\"template\":{\"data\":{\"histogram2dcontour\":[{\"type\":\"histogram2dcontour\",\"colorbar\":{\"outlinewidth\":0,\"ticks\":\"\"},\"colorscale\":[[0.0,\"#0d0887\"],[0.1111111111111111,\"#46039f\"],[0.2222222222222222,\"#7201a8\"],[0.3333333333333333,\"#9c179e\"],[0.4444444444444444,\"#bd3786\"],[0.5555555555555556,\"#d8576b\"],[0.6666666666666666,\"#ed7953\"],[0.7777777777777778,\"#fb9f3a\"],[0.8888888888888888,\"#fdca26\"],[1.0,\"#f0f921\"]]}],\"choropleth\":[{\"type\":\"choropleth\",\"colorbar\":{\"outlinewidth\":0,\"ticks\":\"\"}}],\"histogram2d\":[{\"type\":\"histogram2d\",\"colorbar\":{\"outlinewidth\":0,\"ticks\":\"\"},\"colorscale\":[[0.0,\"#0d0887\"],[0.1111111111111111,\"#46039f\"],[0.2222222222222222,\"#7201a8\"],[0.3333333333333333,\"#9c179e\"],[0.4444444444444444,\"#bd3786\"],[0.5555555555555556,\"#d8576b\"],[0.6666666666666666,\"#ed7953\"],[0.7777777777777778,\"#fb9f3a\"],[0.8888888888888888,\"#fdca26\"],[1.0,\"#f0f921\"]]}],\"heatmap\":[{\"type\":\"heatmap\",\"colorbar\":{\"outlinewidth\":0,\"ticks\":\"\"},\"colorscale\":[[0.0,\"#0d0887\"],[0.1111111111111111,\"#46039f\"],[0.2222222222222222,\"#7201a8\"],[0.3333333333333333,\"#9c179e\"],[0.4444444444444444,\"#bd3786\"],[0.5555555555555556,\"#d8576b\"],[0.6666666666666666,\"#ed7953\"],[0.7777777777777778,\"#fb9f3a\"],[0.8888888888888888,\"#fdca26\"],[1.0,\"#f0f921\"]]}],\"heatmapgl\":[{\"type\":\"heatmapgl\",\"colorbar\":{\"outlinewidth\":0,\"ticks\":\"\"},\"colorscale\":[[0.0,\"#0d0887\"],[0.1111111111111111,\"#46039f\"],[0.2222222222222222,\"#7201a8\"],[0.3333333333333333,\"#9c179e\"],[0.4444444444444444,\"#bd3786\"],[0.5555555555555556,\"#d8576b\"],[0.6666666666666666,\"#ed7953\"],[0.7777777777777778,\"#fb9f3a\"],[0.8888888888888888,\"#fdca26\"],[1.0,\"#f0f921\"]]}],\"contourcarpet\":[{\"type\":\"contourcarpet\",\"colorbar\":{\"outlinewidth\":0,\"ticks\":\"\"}}],\"contour\":[{\"type\":\"contour\",\"colorbar\":{\"outlinewidth\":0,\"ticks\":\"\"},\"colorscale\":[[0.0,\"#0d0887\"],[0.1111111111111111,\"#46039f\"],[0.2222222222222222,\"#7201a8\"],[0.3333333333333333,\"#9c179e\"],[0.4444444444444444,\"#bd3786\"],[0.5555555555555556,\"#d8576b\"],[0.6666666666666666,\"#ed7953\"],[0.7777777777777778,\"#fb9f3a\"],[0.8888888888888888,\"#fdca26\"],[1.0,\"#f0f921\"]]}],\"surface\":[{\"type\":\"surface\",\"colorbar\":{\"outlinewidth\":0,\"ticks\":\"\"},\"colorscale\":[[0.0,\"#0d0887\"],[0.1111111111111111,\"#46039f\"],[0.2222222222222222,\"#7201a8\"],[0.3333333333333333,\"#9c179e\"],[0.4444444444444444,\"#bd3786\"],[0.5555555555555556,\"#d8576b\"],[0.6666666666666666,\"#ed7953\"],[0.7777777777777778,\"#fb9f3a\"],[0.8888888888888888,\"#fdca26\"],[1.0,\"#f0f921\"]]}],\"mesh3d\":[{\"type\":\"mesh3d\",\"colorbar\":{\"outlinewidth\":0,\"ticks\":\"\"}}],\"scatter\":[{\"fillpattern\":{\"fillmode\":\"overlay\",\"size\":10,\"solidity\":0.2},\"type\":\"scatter\"}],\"parcoords\":[{\"type\":\"parcoords\",\"line\":{\"colorbar\":{\"outlinewidth\":0,\"ticks\":\"\"}}}],\"scatterpolargl\":[{\"type\":\"scatterpolargl\",\"marker\":{\"colorbar\":{\"outlinewidth\":0,\"ticks\":\"\"}}}],\"bar\":[{\"error_x\":{\"color\":\"#2a3f5f\"},\"error_y\":{\"color\":\"#2a3f5f\"},\"marker\":{\"line\":{\"color\":\"#E5ECF6\",\"width\":0.5},\"pattern\":{\"fillmode\":\"overlay\",\"size\":10,\"solidity\":0.2}},\"type\":\"bar\"}],\"scattergeo\":[{\"type\":\"scattergeo\",\"marker\":{\"colorbar\":{\"outlinewidth\":0,\"ticks\":\"\"}}}],\"scatterpolar\":[{\"type\":\"scatterpolar\",\"marker\":{\"colorbar\":{\"outlinewidth\":0,\"ticks\":\"\"}}}],\"histogram\":[{\"marker\":{\"pattern\":{\"fillmode\":\"overlay\",\"size\":10,\"solidity\":0.2}},\"type\":\"histogram\"}],\"scattergl\":[{\"type\":\"scattergl\",\"marker\":{\"colorbar\":{\"outlinewidth\":0,\"ticks\":\"\"}}}],\"scatter3d\":[{\"type\":\"scatter3d\",\"line\":{\"colorbar\":{\"outlinewidth\":0,\"ticks\":\"\"}},\"marker\":{\"colorbar\":{\"outlinewidth\":0,\"ticks\":\"\"}}}],\"scattermapbox\":[{\"type\":\"scattermapbox\",\"marker\":{\"colorbar\":{\"outlinewidth\":0,\"ticks\":\"\"}}}],\"scatterternary\":[{\"type\":\"scatterternary\",\"marker\":{\"colorbar\":{\"outlinewidth\":0,\"ticks\":\"\"}}}],\"scattercarpet\":[{\"type\":\"scattercarpet\",\"marker\":{\"colorbar\":{\"outlinewidth\":0,\"ticks\":\"\"}}}],\"carpet\":[{\"aaxis\":{\"endlinecolor\":\"#2a3f5f\",\"gridcolor\":\"white\",\"linecolor\":\"white\",\"minorgridcolor\":\"white\",\"startlinecolor\":\"#2a3f5f\"},\"baxis\":{\"endlinecolor\":\"#2a3f5f\",\"gridcolor\":\"white\",\"linecolor\":\"white\",\"minorgridcolor\":\"white\",\"startlinecolor\":\"#2a3f5f\"},\"type\":\"carpet\"}],\"table\":[{\"cells\":{\"fill\":{\"color\":\"#EBF0F8\"},\"line\":{\"color\":\"white\"}},\"header\":{\"fill\":{\"color\":\"#C8D4E3\"},\"line\":{\"color\":\"white\"}},\"type\":\"table\"}],\"barpolar\":[{\"marker\":{\"line\":{\"color\":\"#E5ECF6\",\"width\":0.5},\"pattern\":{\"fillmode\":\"overlay\",\"size\":10,\"solidity\":0.2}},\"type\":\"barpolar\"}],\"pie\":[{\"automargin\":true,\"type\":\"pie\"}]},\"layout\":{\"autotypenumbers\":\"strict\",\"colorway\":[\"#636efa\",\"#EF553B\",\"#00cc96\",\"#ab63fa\",\"#FFA15A\",\"#19d3f3\",\"#FF6692\",\"#B6E880\",\"#FF97FF\",\"#FECB52\"],\"font\":{\"color\":\"#2a3f5f\"},\"hovermode\":\"closest\",\"hoverlabel\":{\"align\":\"left\"},\"paper_bgcolor\":\"white\",\"plot_bgcolor\":\"#E5ECF6\",\"polar\":{\"bgcolor\":\"#E5ECF6\",\"angularaxis\":{\"gridcolor\":\"white\",\"linecolor\":\"white\",\"ticks\":\"\"},\"radialaxis\":{\"gridcolor\":\"white\",\"linecolor\":\"white\",\"ticks\":\"\"}},\"ternary\":{\"bgcolor\":\"#E5ECF6\",\"aaxis\":{\"gridcolor\":\"white\",\"linecolor\":\"white\",\"ticks\":\"\"},\"baxis\":{\"gridcolor\":\"white\",\"linecolor\":\"white\",\"ticks\":\"\"},\"caxis\":{\"gridcolor\":\"white\",\"linecolor\":\"white\",\"ticks\":\"\"}},\"coloraxis\":{\"colorbar\":{\"outlinewidth\":0,\"ticks\":\"\"}},\"colorscale\":{\"sequential\":[[0.0,\"#0d0887\"],[0.1111111111111111,\"#46039f\"],[0.2222222222222222,\"#7201a8\"],[0.3333333333333333,\"#9c179e\"],[0.4444444444444444,\"#bd3786\"],[0.5555555555555556,\"#d8576b\"],[0.6666666666666666,\"#ed7953\"],[0.7777777777777778,\"#fb9f3a\"],[0.8888888888888888,\"#fdca26\"],[1.0,\"#f0f921\"]],\"sequentialminus\":[[0.0,\"#0d0887\"],[0.1111111111111111,\"#46039f\"],[0.2222222222222222,\"#7201a8\"],[0.3333333333333333,\"#9c179e\"],[0.4444444444444444,\"#bd3786\"],[0.5555555555555556,\"#d8576b\"],[0.6666666666666666,\"#ed7953\"],[0.7777777777777778,\"#fb9f3a\"],[0.8888888888888888,\"#fdca26\"],[1.0,\"#f0f921\"]],\"diverging\":[[0,\"#8e0152\"],[0.1,\"#c51b7d\"],[0.2,\"#de77ae\"],[0.3,\"#f1b6da\"],[0.4,\"#fde0ef\"],[0.5,\"#f7f7f7\"],[0.6,\"#e6f5d0\"],[0.7,\"#b8e186\"],[0.8,\"#7fbc41\"],[0.9,\"#4d9221\"],[1,\"#276419\"]]},\"xaxis\":{\"gridcolor\":\"white\",\"linecolor\":\"white\",\"ticks\":\"\",\"title\":{\"standoff\":15},\"zerolinecolor\":\"white\",\"automargin\":true,\"zerolinewidth\":2},\"yaxis\":{\"gridcolor\":\"white\",\"linecolor\":\"white\",\"ticks\":\"\",\"title\":{\"standoff\":15},\"zerolinecolor\":\"white\",\"automargin\":true,\"zerolinewidth\":2},\"scene\":{\"xaxis\":{\"backgroundcolor\":\"#E5ECF6\",\"gridcolor\":\"white\",\"linecolor\":\"white\",\"showbackground\":true,\"ticks\":\"\",\"zerolinecolor\":\"white\",\"gridwidth\":2},\"yaxis\":{\"backgroundcolor\":\"#E5ECF6\",\"gridcolor\":\"white\",\"linecolor\":\"white\",\"showbackground\":true,\"ticks\":\"\",\"zerolinecolor\":\"white\",\"gridwidth\":2},\"zaxis\":{\"backgroundcolor\":\"#E5ECF6\",\"gridcolor\":\"white\",\"linecolor\":\"white\",\"showbackground\":true,\"ticks\":\"\",\"zerolinecolor\":\"white\",\"gridwidth\":2}},\"shapedefaults\":{\"line\":{\"color\":\"#2a3f5f\"}},\"annotationdefaults\":{\"arrowcolor\":\"#2a3f5f\",\"arrowhead\":0,\"arrowwidth\":1},\"geo\":{\"bgcolor\":\"white\",\"landcolor\":\"#E5ECF6\",\"subunitcolor\":\"white\",\"showland\":true,\"showlakes\":true,\"lakecolor\":\"white\"},\"title\":{\"x\":0.05},\"mapbox\":{\"style\":\"light\"}}},\"xaxis\":{\"anchor\":\"y\",\"domain\":[0.0,0.45]},\"yaxis\":{\"anchor\":\"x\",\"domain\":[0.0,1.0]},\"xaxis2\":{\"anchor\":\"y2\",\"domain\":[0.55,1.0]},\"yaxis2\":{\"anchor\":\"x2\",\"domain\":[0.0,1.0]},\"annotations\":[{\"font\":{\"size\":16},\"showarrow\":false,\"text\":\"Train Data\",\"x\":0.225,\"xanchor\":\"center\",\"xref\":\"paper\",\"y\":1.0,\"yanchor\":\"bottom\",\"yref\":\"paper\"},{\"font\":{\"size\":16},\"showarrow\":false,\"text\":\"Test Data\",\"x\":0.775,\"xanchor\":\"center\",\"xref\":\"paper\",\"y\":1.0,\"yanchor\":\"bottom\",\"yref\":\"paper\"},{\"font\":{\"size\":16},\"showarrow\":false,\"text\":\"Missing Values\",\"x\":0.5,\"xanchor\":\"center\",\"xref\":\"paper\",\"y\":0,\"yanchor\":\"top\",\"yref\":\"paper\",\"yshift\":-30}],\"title\":{\"text\":\"Column wise Null Value Distribution\",\"x\":0.5},\"showlegend\":false},                        {\"responsive\": true}                    ).then(function(){\n",
              "                            \n",
              "var gd = document.getElementById('e88502f2-7659-47eb-b615-c8aba8a55e4b');\n",
              "var x = new MutationObserver(function (mutations, observer) {{\n",
              "        var display = window.getComputedStyle(gd).display;\n",
              "        if (!display || display === 'none') {{\n",
              "            console.log([gd, 'removed!']);\n",
              "            Plotly.purge(gd);\n",
              "            observer.disconnect();\n",
              "        }}\n",
              "}});\n",
              "\n",
              "// Listen for the removal of the full notebook cells\n",
              "var notebookContainer = gd.closest('#notebook-container');\n",
              "if (notebookContainer) {{\n",
              "    x.observe(notebookContainer, {childList: true});\n",
              "}}\n",
              "\n",
              "// Listen for the clearing of the current output cell\n",
              "var outputEl = gd.closest('.output');\n",
              "if (outputEl) {{\n",
              "    x.observe(outputEl, {childList: true});\n",
              "}}\n",
              "\n",
              "                        })                };                            </script>        </div>\n",
              "</body>\n",
              "</html>"
            ]
          },
          "metadata": {}
        }
      ]
    },
    {
      "cell_type": "markdown",
      "source": [
        "<a id=\"4.7.2\"></a>\n",
        "### <span style=\"color:#e76f51;\">Row wise Null Value Distribution   </span>"
      ],
      "metadata": {
        "papermill": {
          "duration": 0.052366,
          "end_time": "2022-01-18T20:32:46.931485",
          "exception": false,
          "start_time": "2022-01-18T20:32:46.879119",
          "status": "completed"
        },
        "tags": [],
        "id": "fRQLmVbz94sD"
      }
    },
    {
      "cell_type": "code",
      "source": [
        "# 앞의 과정과 동일하게 진행하되, 이번엔 column이 아닌 row값 기준으로 분포를 구한다.\n",
        "missing_train_row = train.isna().sum(axis=1)\n",
        "missing_train_row = pd.DataFrame(missing_train_row.value_counts()/train.shape[0]).reset_index()\n",
        "missing_test_row = test.isna().sum(axis=1)\n",
        "missing_test_row = pd.DataFrame(missing_test_row.value_counts()/test.shape[0]).reset_index()\n",
        "missing_train_row.columns = ['no', 'count']\n",
        "missing_test_row.columns = ['no', 'count']\n",
        "missing_train_row[\"count\"] = missing_train_row[\"count\"]*100\n",
        "missing_test_row[\"count\"] = missing_test_row[\"count\"]*100\n",
        "\n",
        "\n",
        "fig = make_subplots(rows=1, \n",
        "                    cols=2,\n",
        "                    column_titles = [\"Train Data\", \"Test Data\"] ,\n",
        "                    x_title=\"Missing Values\",)\n",
        "\n",
        "fig.add_trace(go.Bar(x=missing_train_row[\"no\"], \n",
        "                     y=missing_train_row[\"count\"]  ,\n",
        "                    marker=dict(color=[n for n in range(4)], \n",
        "                                line_color='rgb(0,0,0)' ,\n",
        "                                line_width = 3\n",
        "                                ,coloraxis=\"coloraxis\")),\n",
        "              1, 1)\n",
        "fig.add_trace(go.Bar(x= missing_test_row[\"no\"], \n",
        "                     y=missing_test_row[\"count\"],\n",
        "                    marker=dict(color=[n for n in range(4)], \n",
        "                                line_color='rgb(0,0,0)',\n",
        "                                line_width = 3 ,\n",
        "                                coloraxis=\"coloraxis\")),\n",
        "              1, 2)\n",
        "fig.update_layout(showlegend=False, title_text=\"Row wise Null Value Distribution\", title_x=0.5)"
      ],
      "metadata": {
        "_kg_hide-input": true,
        "execution": {
          "iopub.status.busy": "2022-02-24T01:38:47.762766Z",
          "iopub.execute_input": "2022-02-24T01:38:47.763119Z",
          "iopub.status.idle": "2022-02-24T01:38:47.836022Z",
          "shell.execute_reply.started": "2022-02-24T01:38:47.76309Z",
          "shell.execute_reply": "2022-02-24T01:38:47.835366Z"
        },
        "trusted": true,
        "colab": {
          "base_uri": "https://localhost:8080/",
          "height": 542
        },
        "id": "QvOSQ63i94sD",
        "outputId": "4a7679b1-4aa3-4caa-b746-6bb21d58c939"
      },
      "execution_count": 55,
      "outputs": [
        {
          "output_type": "display_data",
          "data": {
            "text/html": [
              "<html>\n",
              "<head><meta charset=\"utf-8\" /></head>\n",
              "<body>\n",
              "    <div>            <script src=\"https://cdnjs.cloudflare.com/ajax/libs/mathjax/2.7.5/MathJax.js?config=TeX-AMS-MML_SVG\"></script><script type=\"text/javascript\">if (window.MathJax && window.MathJax.Hub && window.MathJax.Hub.Config) {window.MathJax.Hub.Config({SVG: {font: \"STIX-Web\"}});}</script>                <script type=\"text/javascript\">window.PlotlyConfig = {MathJaxConfig: 'local'};</script>\n",
              "        <script src=\"https://cdn.plot.ly/plotly-2.18.2.min.js\"></script>                <div id=\"21ed3233-b749-4cd1-9ca9-351c95545bbe\" class=\"plotly-graph-div\" style=\"height:525px; width:100%;\"></div>            <script type=\"text/javascript\">                                    window.PLOTLYENV=window.PLOTLYENV || {};                                    if (document.getElementById(\"21ed3233-b749-4cd1-9ca9-351c95545bbe\")) {                    Plotly.newPlot(                        \"21ed3233-b749-4cd1-9ca9-351c95545bbe\",                        [{\"marker\":{\"color\":[0,1,2,3],\"coloraxis\":\"coloraxis\",\"line\":{\"color\":\"rgb(0,0,0)\",\"width\":3}},\"x\":[0,1,2,3],\"y\":[75.99217761417232,21.477050500402623,2.3352122397331185,0.19555964569193604],\"type\":\"bar\",\"xaxis\":\"x\",\"yaxis\":\"y\"},{\"marker\":{\"color\":[0,1,2,3],\"coloraxis\":\"coloraxis\",\"line\":{\"color\":\"rgb(0,0,0)\",\"width\":3}},\"x\":[0,1,2,3],\"y\":[76.71264905307459,20.55178863689502,2.6420388122515783,0.09352349777881692],\"type\":\"bar\",\"xaxis\":\"x2\",\"yaxis\":\"y2\"}],                        {\"template\":{\"data\":{\"histogram2dcontour\":[{\"type\":\"histogram2dcontour\",\"colorbar\":{\"outlinewidth\":0,\"ticks\":\"\"},\"colorscale\":[[0.0,\"#0d0887\"],[0.1111111111111111,\"#46039f\"],[0.2222222222222222,\"#7201a8\"],[0.3333333333333333,\"#9c179e\"],[0.4444444444444444,\"#bd3786\"],[0.5555555555555556,\"#d8576b\"],[0.6666666666666666,\"#ed7953\"],[0.7777777777777778,\"#fb9f3a\"],[0.8888888888888888,\"#fdca26\"],[1.0,\"#f0f921\"]]}],\"choropleth\":[{\"type\":\"choropleth\",\"colorbar\":{\"outlinewidth\":0,\"ticks\":\"\"}}],\"histogram2d\":[{\"type\":\"histogram2d\",\"colorbar\":{\"outlinewidth\":0,\"ticks\":\"\"},\"colorscale\":[[0.0,\"#0d0887\"],[0.1111111111111111,\"#46039f\"],[0.2222222222222222,\"#7201a8\"],[0.3333333333333333,\"#9c179e\"],[0.4444444444444444,\"#bd3786\"],[0.5555555555555556,\"#d8576b\"],[0.6666666666666666,\"#ed7953\"],[0.7777777777777778,\"#fb9f3a\"],[0.8888888888888888,\"#fdca26\"],[1.0,\"#f0f921\"]]}],\"heatmap\":[{\"type\":\"heatmap\",\"colorbar\":{\"outlinewidth\":0,\"ticks\":\"\"},\"colorscale\":[[0.0,\"#0d0887\"],[0.1111111111111111,\"#46039f\"],[0.2222222222222222,\"#7201a8\"],[0.3333333333333333,\"#9c179e\"],[0.4444444444444444,\"#bd3786\"],[0.5555555555555556,\"#d8576b\"],[0.6666666666666666,\"#ed7953\"],[0.7777777777777778,\"#fb9f3a\"],[0.8888888888888888,\"#fdca26\"],[1.0,\"#f0f921\"]]}],\"heatmapgl\":[{\"type\":\"heatmapgl\",\"colorbar\":{\"outlinewidth\":0,\"ticks\":\"\"},\"colorscale\":[[0.0,\"#0d0887\"],[0.1111111111111111,\"#46039f\"],[0.2222222222222222,\"#7201a8\"],[0.3333333333333333,\"#9c179e\"],[0.4444444444444444,\"#bd3786\"],[0.5555555555555556,\"#d8576b\"],[0.6666666666666666,\"#ed7953\"],[0.7777777777777778,\"#fb9f3a\"],[0.8888888888888888,\"#fdca26\"],[1.0,\"#f0f921\"]]}],\"contourcarpet\":[{\"type\":\"contourcarpet\",\"colorbar\":{\"outlinewidth\":0,\"ticks\":\"\"}}],\"contour\":[{\"type\":\"contour\",\"colorbar\":{\"outlinewidth\":0,\"ticks\":\"\"},\"colorscale\":[[0.0,\"#0d0887\"],[0.1111111111111111,\"#46039f\"],[0.2222222222222222,\"#7201a8\"],[0.3333333333333333,\"#9c179e\"],[0.4444444444444444,\"#bd3786\"],[0.5555555555555556,\"#d8576b\"],[0.6666666666666666,\"#ed7953\"],[0.7777777777777778,\"#fb9f3a\"],[0.8888888888888888,\"#fdca26\"],[1.0,\"#f0f921\"]]}],\"surface\":[{\"type\":\"surface\",\"colorbar\":{\"outlinewidth\":0,\"ticks\":\"\"},\"colorscale\":[[0.0,\"#0d0887\"],[0.1111111111111111,\"#46039f\"],[0.2222222222222222,\"#7201a8\"],[0.3333333333333333,\"#9c179e\"],[0.4444444444444444,\"#bd3786\"],[0.5555555555555556,\"#d8576b\"],[0.6666666666666666,\"#ed7953\"],[0.7777777777777778,\"#fb9f3a\"],[0.8888888888888888,\"#fdca26\"],[1.0,\"#f0f921\"]]}],\"mesh3d\":[{\"type\":\"mesh3d\",\"colorbar\":{\"outlinewidth\":0,\"ticks\":\"\"}}],\"scatter\":[{\"fillpattern\":{\"fillmode\":\"overlay\",\"size\":10,\"solidity\":0.2},\"type\":\"scatter\"}],\"parcoords\":[{\"type\":\"parcoords\",\"line\":{\"colorbar\":{\"outlinewidth\":0,\"ticks\":\"\"}}}],\"scatterpolargl\":[{\"type\":\"scatterpolargl\",\"marker\":{\"colorbar\":{\"outlinewidth\":0,\"ticks\":\"\"}}}],\"bar\":[{\"error_x\":{\"color\":\"#2a3f5f\"},\"error_y\":{\"color\":\"#2a3f5f\"},\"marker\":{\"line\":{\"color\":\"#E5ECF6\",\"width\":0.5},\"pattern\":{\"fillmode\":\"overlay\",\"size\":10,\"solidity\":0.2}},\"type\":\"bar\"}],\"scattergeo\":[{\"type\":\"scattergeo\",\"marker\":{\"colorbar\":{\"outlinewidth\":0,\"ticks\":\"\"}}}],\"scatterpolar\":[{\"type\":\"scatterpolar\",\"marker\":{\"colorbar\":{\"outlinewidth\":0,\"ticks\":\"\"}}}],\"histogram\":[{\"marker\":{\"pattern\":{\"fillmode\":\"overlay\",\"size\":10,\"solidity\":0.2}},\"type\":\"histogram\"}],\"scattergl\":[{\"type\":\"scattergl\",\"marker\":{\"colorbar\":{\"outlinewidth\":0,\"ticks\":\"\"}}}],\"scatter3d\":[{\"type\":\"scatter3d\",\"line\":{\"colorbar\":{\"outlinewidth\":0,\"ticks\":\"\"}},\"marker\":{\"colorbar\":{\"outlinewidth\":0,\"ticks\":\"\"}}}],\"scattermapbox\":[{\"type\":\"scattermapbox\",\"marker\":{\"colorbar\":{\"outlinewidth\":0,\"ticks\":\"\"}}}],\"scatterternary\":[{\"type\":\"scatterternary\",\"marker\":{\"colorbar\":{\"outlinewidth\":0,\"ticks\":\"\"}}}],\"scattercarpet\":[{\"type\":\"scattercarpet\",\"marker\":{\"colorbar\":{\"outlinewidth\":0,\"ticks\":\"\"}}}],\"carpet\":[{\"aaxis\":{\"endlinecolor\":\"#2a3f5f\",\"gridcolor\":\"white\",\"linecolor\":\"white\",\"minorgridcolor\":\"white\",\"startlinecolor\":\"#2a3f5f\"},\"baxis\":{\"endlinecolor\":\"#2a3f5f\",\"gridcolor\":\"white\",\"linecolor\":\"white\",\"minorgridcolor\":\"white\",\"startlinecolor\":\"#2a3f5f\"},\"type\":\"carpet\"}],\"table\":[{\"cells\":{\"fill\":{\"color\":\"#EBF0F8\"},\"line\":{\"color\":\"white\"}},\"header\":{\"fill\":{\"color\":\"#C8D4E3\"},\"line\":{\"color\":\"white\"}},\"type\":\"table\"}],\"barpolar\":[{\"marker\":{\"line\":{\"color\":\"#E5ECF6\",\"width\":0.5},\"pattern\":{\"fillmode\":\"overlay\",\"size\":10,\"solidity\":0.2}},\"type\":\"barpolar\"}],\"pie\":[{\"automargin\":true,\"type\":\"pie\"}]},\"layout\":{\"autotypenumbers\":\"strict\",\"colorway\":[\"#636efa\",\"#EF553B\",\"#00cc96\",\"#ab63fa\",\"#FFA15A\",\"#19d3f3\",\"#FF6692\",\"#B6E880\",\"#FF97FF\",\"#FECB52\"],\"font\":{\"color\":\"#2a3f5f\"},\"hovermode\":\"closest\",\"hoverlabel\":{\"align\":\"left\"},\"paper_bgcolor\":\"white\",\"plot_bgcolor\":\"#E5ECF6\",\"polar\":{\"bgcolor\":\"#E5ECF6\",\"angularaxis\":{\"gridcolor\":\"white\",\"linecolor\":\"white\",\"ticks\":\"\"},\"radialaxis\":{\"gridcolor\":\"white\",\"linecolor\":\"white\",\"ticks\":\"\"}},\"ternary\":{\"bgcolor\":\"#E5ECF6\",\"aaxis\":{\"gridcolor\":\"white\",\"linecolor\":\"white\",\"ticks\":\"\"},\"baxis\":{\"gridcolor\":\"white\",\"linecolor\":\"white\",\"ticks\":\"\"},\"caxis\":{\"gridcolor\":\"white\",\"linecolor\":\"white\",\"ticks\":\"\"}},\"coloraxis\":{\"colorbar\":{\"outlinewidth\":0,\"ticks\":\"\"}},\"colorscale\":{\"sequential\":[[0.0,\"#0d0887\"],[0.1111111111111111,\"#46039f\"],[0.2222222222222222,\"#7201a8\"],[0.3333333333333333,\"#9c179e\"],[0.4444444444444444,\"#bd3786\"],[0.5555555555555556,\"#d8576b\"],[0.6666666666666666,\"#ed7953\"],[0.7777777777777778,\"#fb9f3a\"],[0.8888888888888888,\"#fdca26\"],[1.0,\"#f0f921\"]],\"sequentialminus\":[[0.0,\"#0d0887\"],[0.1111111111111111,\"#46039f\"],[0.2222222222222222,\"#7201a8\"],[0.3333333333333333,\"#9c179e\"],[0.4444444444444444,\"#bd3786\"],[0.5555555555555556,\"#d8576b\"],[0.6666666666666666,\"#ed7953\"],[0.7777777777777778,\"#fb9f3a\"],[0.8888888888888888,\"#fdca26\"],[1.0,\"#f0f921\"]],\"diverging\":[[0,\"#8e0152\"],[0.1,\"#c51b7d\"],[0.2,\"#de77ae\"],[0.3,\"#f1b6da\"],[0.4,\"#fde0ef\"],[0.5,\"#f7f7f7\"],[0.6,\"#e6f5d0\"],[0.7,\"#b8e186\"],[0.8,\"#7fbc41\"],[0.9,\"#4d9221\"],[1,\"#276419\"]]},\"xaxis\":{\"gridcolor\":\"white\",\"linecolor\":\"white\",\"ticks\":\"\",\"title\":{\"standoff\":15},\"zerolinecolor\":\"white\",\"automargin\":true,\"zerolinewidth\":2},\"yaxis\":{\"gridcolor\":\"white\",\"linecolor\":\"white\",\"ticks\":\"\",\"title\":{\"standoff\":15},\"zerolinecolor\":\"white\",\"automargin\":true,\"zerolinewidth\":2},\"scene\":{\"xaxis\":{\"backgroundcolor\":\"#E5ECF6\",\"gridcolor\":\"white\",\"linecolor\":\"white\",\"showbackground\":true,\"ticks\":\"\",\"zerolinecolor\":\"white\",\"gridwidth\":2},\"yaxis\":{\"backgroundcolor\":\"#E5ECF6\",\"gridcolor\":\"white\",\"linecolor\":\"white\",\"showbackground\":true,\"ticks\":\"\",\"zerolinecolor\":\"white\",\"gridwidth\":2},\"zaxis\":{\"backgroundcolor\":\"#E5ECF6\",\"gridcolor\":\"white\",\"linecolor\":\"white\",\"showbackground\":true,\"ticks\":\"\",\"zerolinecolor\":\"white\",\"gridwidth\":2}},\"shapedefaults\":{\"line\":{\"color\":\"#2a3f5f\"}},\"annotationdefaults\":{\"arrowcolor\":\"#2a3f5f\",\"arrowhead\":0,\"arrowwidth\":1},\"geo\":{\"bgcolor\":\"white\",\"landcolor\":\"#E5ECF6\",\"subunitcolor\":\"white\",\"showland\":true,\"showlakes\":true,\"lakecolor\":\"white\"},\"title\":{\"x\":0.05},\"mapbox\":{\"style\":\"light\"}}},\"xaxis\":{\"anchor\":\"y\",\"domain\":[0.0,0.45]},\"yaxis\":{\"anchor\":\"x\",\"domain\":[0.0,1.0]},\"xaxis2\":{\"anchor\":\"y2\",\"domain\":[0.55,1.0]},\"yaxis2\":{\"anchor\":\"x2\",\"domain\":[0.0,1.0]},\"annotations\":[{\"font\":{\"size\":16},\"showarrow\":false,\"text\":\"Train Data\",\"x\":0.225,\"xanchor\":\"center\",\"xref\":\"paper\",\"y\":1.0,\"yanchor\":\"bottom\",\"yref\":\"paper\"},{\"font\":{\"size\":16},\"showarrow\":false,\"text\":\"Test Data\",\"x\":0.775,\"xanchor\":\"center\",\"xref\":\"paper\",\"y\":1.0,\"yanchor\":\"bottom\",\"yref\":\"paper\"},{\"font\":{\"size\":16},\"showarrow\":false,\"text\":\"Missing Values\",\"x\":0.5,\"xanchor\":\"center\",\"xref\":\"paper\",\"y\":0,\"yanchor\":\"top\",\"yref\":\"paper\",\"yshift\":-30}],\"title\":{\"text\":\"Row wise Null Value Distribution\",\"x\":0.5},\"showlegend\":false},                        {\"responsive\": true}                    ).then(function(){\n",
              "                            \n",
              "var gd = document.getElementById('21ed3233-b749-4cd1-9ca9-351c95545bbe');\n",
              "var x = new MutationObserver(function (mutations, observer) {{\n",
              "        var display = window.getComputedStyle(gd).display;\n",
              "        if (!display || display === 'none') {{\n",
              "            console.log([gd, 'removed!']);\n",
              "            Plotly.purge(gd);\n",
              "            observer.disconnect();\n",
              "        }}\n",
              "}});\n",
              "\n",
              "// Listen for the removal of the full notebook cells\n",
              "var notebookContainer = gd.closest('#notebook-container');\n",
              "if (notebookContainer) {{\n",
              "    x.observe(notebookContainer, {childList: true});\n",
              "}}\n",
              "\n",
              "// Listen for the clearing of the current output cell\n",
              "var outputEl = gd.closest('.output');\n",
              "if (outputEl) {{\n",
              "    x.observe(outputEl, {childList: true});\n",
              "}}\n",
              "\n",
              "                        })                };                            </script>        </div>\n",
              "</body>\n",
              "</html>"
            ]
          },
          "metadata": {}
        }
      ]
    },
    {
      "cell_type": "markdown",
      "source": [
        "### <span style=\"color:#e76f51;\">Dealing with missing value (reference)  </span>\n",
        "Some references on how to deal with missing value:\n",
        "- [Missing Values](https://www.kaggle.com/alexisbcook/missing-values) by [Alexis Cook](https://www.kaggle.com/alexisbcook)\n",
        "- [Data Cleaning Challenge: Handling missing values](https://www.kaggle.com/rtatman/data-cleaning-challenge-handling-missing-values) by [Rachael Tatman](https://www.kaggle.com/rtatman)\n",
        "- [A Guide to Handling Missing values in Python ](https://www.kaggle.com/parulpandey/a-guide-to-handling-missing-values-in-python) by [Parul Pandey](https://www.kaggle.com/parulpandey)\n",
        "\n",
        "Some models that have capability to handle missing value by default are:\n",
        "- XGBoost: https://xgboost.readthedocs.io/en/latest/faq.html\n",
        "- LightGBM: https://lightgbm.readthedocs.io/en/latest/Advanced-Topics.html\n",
        "- Catboost: https://catboost.ai/docs/concepts/algorithm-missing-values-processing.html"
      ],
      "metadata": {
        "papermill": {
          "duration": 0.052968,
          "end_time": "2022-01-18T20:32:47.52835",
          "exception": false,
          "start_time": "2022-01-18T20:32:47.475382",
          "status": "completed"
        },
        "tags": [],
        "id": "SP-1rFix94sD"
      }
    },
    {
      "cell_type": "markdown",
      "source": [
        "<a href=\"#toc\" role=\"button\" aria-pressed=\"true\" >⬆️Back to Table of Contents ⬆️</a>"
      ],
      "metadata": {
        "id": "MmNaXxwh94sD"
      }
    },
    {
      "cell_type": "markdown",
      "source": [
        "<a id=\"4.2\"></a>\n",
        "## <span style=\"color:#e76f51;\">Continuos and Categorical Data Distribution </span>"
      ],
      "metadata": {
        "papermill": {
          "duration": 0.053003,
          "end_time": "2022-01-18T20:32:47.635267",
          "exception": false,
          "start_time": "2022-01-18T20:32:47.582264",
          "status": "completed"
        },
        "tags": [],
        "id": "9M0XcqEJ94sE"
      }
    },
    {
      "cell_type": "markdown",
      "source": [
        "<div class=\"alert alert-block alert-info\" style=\"font-size:14px; font-family:verdana; line-height: 1.7em;\">\n",
        "    📌 &nbsp;<b><u>Observations in Null Value Distribution :</u></b><br>\n",
        " \n",
        "* <i> Out of <b><u>12</u></b> features <b><u>6</u></b> features are continous, <b><u>2</u></b> features are text data and <b><u>4</u></b> features are categorical.</i><br>\n",
        "* <i><b><u>HomePlanet</u></b> and <b><u>Destination</u></b> have <b><u>3</u></b> differnt unique values. </i><br>\n",
        "* <i><b><u>CryoSleep</u></b> and <b><u>VIP</u></b> are <b><u>bool</u></b> features </i><br>\n",
        "</div>"
      ],
      "metadata": {
        "papermill": {
          "duration": 0.052655,
          "end_time": "2022-01-18T20:32:47.740993",
          "exception": false,
          "start_time": "2022-01-18T20:32:47.688338",
          "status": "completed"
        },
        "tags": [],
        "id": "MOrGNolE94sE"
      }
    },
    {
      "cell_type": "code",
      "source": [
        "df = pd.concat([train[FEATURES], test[FEATURES]], axis=0)\n",
        "text_features = [\"Cabin\", \"Name\"]\n",
        "cat_features = [col for col in FEATURES if df[col].nunique() < 25 and col not in text_features ]\n",
        "cont_features = [col for col in FEATURES if df[col].nunique() >= 25 and col not in text_features ]\n",
        "\n",
        "del df\n",
        "print(f'\\033[94mTotal number of features: {len(FEATURES)}')\n",
        "print(f'\\033[94mNumber of categorical features: {len(cat_features)}')\n",
        "print(f'\\033[94mNumber of continuos features: {len(cont_features)}')\n",
        "print(f'\\033[94mNumber of text features: {len(text_features)}')\n",
        "\n",
        "labels=['Categorical', 'Continuos', \"Text\"]\n",
        "values= [len(cat_features), len(cont_features), len(text_features)]\n",
        "colors = ['#DE3163', '#58D68D']\n",
        "\n",
        "fig = go.Figure(data=[go.Pie(\n",
        "    labels=labels, \n",
        "    values=values, pull=[0.1, 0, 0 ],\n",
        "    marker=dict(colors=colors, \n",
        "                line=dict(color='#000000', \n",
        "                          width=2))\n",
        ")])\n",
        "fig.show()\n",
        "\n",
        " # 데이터의 종류를 구분하는 코드?"
      ],
      "metadata": {
        "_kg_hide-input": true,
        "papermill": {
          "duration": 0.22773,
          "end_time": "2022-01-18T20:32:48.022329",
          "exception": false,
          "start_time": "2022-01-18T20:32:47.794599",
          "status": "completed"
        },
        "tags": [],
        "execution": {
          "iopub.status.busy": "2022-02-24T01:38:47.837067Z",
          "iopub.execute_input": "2022-02-24T01:38:47.837293Z",
          "iopub.status.idle": "2022-02-24T01:38:47.895703Z",
          "shell.execute_reply.started": "2022-02-24T01:38:47.837261Z",
          "shell.execute_reply": "2022-02-24T01:38:47.894975Z"
        },
        "trusted": true,
        "colab": {
          "base_uri": "https://localhost:8080/",
          "height": 616
        },
        "id": "NilN3PH494sE",
        "outputId": "0a546e52-d78b-4f14-d494-d88cec806c9b"
      },
      "execution_count": 56,
      "outputs": [
        {
          "output_type": "stream",
          "name": "stdout",
          "text": [
            "\u001b[94mTotal number of features: 12\n",
            "\u001b[94mNumber of categorical features: 4\n",
            "\u001b[94mNumber of continuos features: 6\n",
            "\u001b[94mNumber of text features: 2\n"
          ]
        },
        {
          "output_type": "display_data",
          "data": {
            "text/html": [
              "<html>\n",
              "<head><meta charset=\"utf-8\" /></head>\n",
              "<body>\n",
              "    <div>            <script src=\"https://cdnjs.cloudflare.com/ajax/libs/mathjax/2.7.5/MathJax.js?config=TeX-AMS-MML_SVG\"></script><script type=\"text/javascript\">if (window.MathJax && window.MathJax.Hub && window.MathJax.Hub.Config) {window.MathJax.Hub.Config({SVG: {font: \"STIX-Web\"}});}</script>                <script type=\"text/javascript\">window.PlotlyConfig = {MathJaxConfig: 'local'};</script>\n",
              "        <script src=\"https://cdn.plot.ly/plotly-2.18.2.min.js\"></script>                <div id=\"7b404311-892e-455c-af46-492771ae15af\" class=\"plotly-graph-div\" style=\"height:525px; width:100%;\"></div>            <script type=\"text/javascript\">                                    window.PLOTLYENV=window.PLOTLYENV || {};                                    if (document.getElementById(\"7b404311-892e-455c-af46-492771ae15af\")) {                    Plotly.newPlot(                        \"7b404311-892e-455c-af46-492771ae15af\",                        [{\"labels\":[\"Categorical\",\"Continuos\",\"Text\"],\"marker\":{\"colors\":[\"#DE3163\",\"#58D68D\"],\"line\":{\"color\":\"#000000\",\"width\":2}},\"pull\":[0.1,0,0],\"values\":[4,6,2],\"type\":\"pie\"}],                        {\"template\":{\"data\":{\"histogram2dcontour\":[{\"type\":\"histogram2dcontour\",\"colorbar\":{\"outlinewidth\":0,\"ticks\":\"\"},\"colorscale\":[[0.0,\"#0d0887\"],[0.1111111111111111,\"#46039f\"],[0.2222222222222222,\"#7201a8\"],[0.3333333333333333,\"#9c179e\"],[0.4444444444444444,\"#bd3786\"],[0.5555555555555556,\"#d8576b\"],[0.6666666666666666,\"#ed7953\"],[0.7777777777777778,\"#fb9f3a\"],[0.8888888888888888,\"#fdca26\"],[1.0,\"#f0f921\"]]}],\"choropleth\":[{\"type\":\"choropleth\",\"colorbar\":{\"outlinewidth\":0,\"ticks\":\"\"}}],\"histogram2d\":[{\"type\":\"histogram2d\",\"colorbar\":{\"outlinewidth\":0,\"ticks\":\"\"},\"colorscale\":[[0.0,\"#0d0887\"],[0.1111111111111111,\"#46039f\"],[0.2222222222222222,\"#7201a8\"],[0.3333333333333333,\"#9c179e\"],[0.4444444444444444,\"#bd3786\"],[0.5555555555555556,\"#d8576b\"],[0.6666666666666666,\"#ed7953\"],[0.7777777777777778,\"#fb9f3a\"],[0.8888888888888888,\"#fdca26\"],[1.0,\"#f0f921\"]]}],\"heatmap\":[{\"type\":\"heatmap\",\"colorbar\":{\"outlinewidth\":0,\"ticks\":\"\"},\"colorscale\":[[0.0,\"#0d0887\"],[0.1111111111111111,\"#46039f\"],[0.2222222222222222,\"#7201a8\"],[0.3333333333333333,\"#9c179e\"],[0.4444444444444444,\"#bd3786\"],[0.5555555555555556,\"#d8576b\"],[0.6666666666666666,\"#ed7953\"],[0.7777777777777778,\"#fb9f3a\"],[0.8888888888888888,\"#fdca26\"],[1.0,\"#f0f921\"]]}],\"heatmapgl\":[{\"type\":\"heatmapgl\",\"colorbar\":{\"outlinewidth\":0,\"ticks\":\"\"},\"colorscale\":[[0.0,\"#0d0887\"],[0.1111111111111111,\"#46039f\"],[0.2222222222222222,\"#7201a8\"],[0.3333333333333333,\"#9c179e\"],[0.4444444444444444,\"#bd3786\"],[0.5555555555555556,\"#d8576b\"],[0.6666666666666666,\"#ed7953\"],[0.7777777777777778,\"#fb9f3a\"],[0.8888888888888888,\"#fdca26\"],[1.0,\"#f0f921\"]]}],\"contourcarpet\":[{\"type\":\"contourcarpet\",\"colorbar\":{\"outlinewidth\":0,\"ticks\":\"\"}}],\"contour\":[{\"type\":\"contour\",\"colorbar\":{\"outlinewidth\":0,\"ticks\":\"\"},\"colorscale\":[[0.0,\"#0d0887\"],[0.1111111111111111,\"#46039f\"],[0.2222222222222222,\"#7201a8\"],[0.3333333333333333,\"#9c179e\"],[0.4444444444444444,\"#bd3786\"],[0.5555555555555556,\"#d8576b\"],[0.6666666666666666,\"#ed7953\"],[0.7777777777777778,\"#fb9f3a\"],[0.8888888888888888,\"#fdca26\"],[1.0,\"#f0f921\"]]}],\"surface\":[{\"type\":\"surface\",\"colorbar\":{\"outlinewidth\":0,\"ticks\":\"\"},\"colorscale\":[[0.0,\"#0d0887\"],[0.1111111111111111,\"#46039f\"],[0.2222222222222222,\"#7201a8\"],[0.3333333333333333,\"#9c179e\"],[0.4444444444444444,\"#bd3786\"],[0.5555555555555556,\"#d8576b\"],[0.6666666666666666,\"#ed7953\"],[0.7777777777777778,\"#fb9f3a\"],[0.8888888888888888,\"#fdca26\"],[1.0,\"#f0f921\"]]}],\"mesh3d\":[{\"type\":\"mesh3d\",\"colorbar\":{\"outlinewidth\":0,\"ticks\":\"\"}}],\"scatter\":[{\"fillpattern\":{\"fillmode\":\"overlay\",\"size\":10,\"solidity\":0.2},\"type\":\"scatter\"}],\"parcoords\":[{\"type\":\"parcoords\",\"line\":{\"colorbar\":{\"outlinewidth\":0,\"ticks\":\"\"}}}],\"scatterpolargl\":[{\"type\":\"scatterpolargl\",\"marker\":{\"colorbar\":{\"outlinewidth\":0,\"ticks\":\"\"}}}],\"bar\":[{\"error_x\":{\"color\":\"#2a3f5f\"},\"error_y\":{\"color\":\"#2a3f5f\"},\"marker\":{\"line\":{\"color\":\"#E5ECF6\",\"width\":0.5},\"pattern\":{\"fillmode\":\"overlay\",\"size\":10,\"solidity\":0.2}},\"type\":\"bar\"}],\"scattergeo\":[{\"type\":\"scattergeo\",\"marker\":{\"colorbar\":{\"outlinewidth\":0,\"ticks\":\"\"}}}],\"scatterpolar\":[{\"type\":\"scatterpolar\",\"marker\":{\"colorbar\":{\"outlinewidth\":0,\"ticks\":\"\"}}}],\"histogram\":[{\"marker\":{\"pattern\":{\"fillmode\":\"overlay\",\"size\":10,\"solidity\":0.2}},\"type\":\"histogram\"}],\"scattergl\":[{\"type\":\"scattergl\",\"marker\":{\"colorbar\":{\"outlinewidth\":0,\"ticks\":\"\"}}}],\"scatter3d\":[{\"type\":\"scatter3d\",\"line\":{\"colorbar\":{\"outlinewidth\":0,\"ticks\":\"\"}},\"marker\":{\"colorbar\":{\"outlinewidth\":0,\"ticks\":\"\"}}}],\"scattermapbox\":[{\"type\":\"scattermapbox\",\"marker\":{\"colorbar\":{\"outlinewidth\":0,\"ticks\":\"\"}}}],\"scatterternary\":[{\"type\":\"scatterternary\",\"marker\":{\"colorbar\":{\"outlinewidth\":0,\"ticks\":\"\"}}}],\"scattercarpet\":[{\"type\":\"scattercarpet\",\"marker\":{\"colorbar\":{\"outlinewidth\":0,\"ticks\":\"\"}}}],\"carpet\":[{\"aaxis\":{\"endlinecolor\":\"#2a3f5f\",\"gridcolor\":\"white\",\"linecolor\":\"white\",\"minorgridcolor\":\"white\",\"startlinecolor\":\"#2a3f5f\"},\"baxis\":{\"endlinecolor\":\"#2a3f5f\",\"gridcolor\":\"white\",\"linecolor\":\"white\",\"minorgridcolor\":\"white\",\"startlinecolor\":\"#2a3f5f\"},\"type\":\"carpet\"}],\"table\":[{\"cells\":{\"fill\":{\"color\":\"#EBF0F8\"},\"line\":{\"color\":\"white\"}},\"header\":{\"fill\":{\"color\":\"#C8D4E3\"},\"line\":{\"color\":\"white\"}},\"type\":\"table\"}],\"barpolar\":[{\"marker\":{\"line\":{\"color\":\"#E5ECF6\",\"width\":0.5},\"pattern\":{\"fillmode\":\"overlay\",\"size\":10,\"solidity\":0.2}},\"type\":\"barpolar\"}],\"pie\":[{\"automargin\":true,\"type\":\"pie\"}]},\"layout\":{\"autotypenumbers\":\"strict\",\"colorway\":[\"#636efa\",\"#EF553B\",\"#00cc96\",\"#ab63fa\",\"#FFA15A\",\"#19d3f3\",\"#FF6692\",\"#B6E880\",\"#FF97FF\",\"#FECB52\"],\"font\":{\"color\":\"#2a3f5f\"},\"hovermode\":\"closest\",\"hoverlabel\":{\"align\":\"left\"},\"paper_bgcolor\":\"white\",\"plot_bgcolor\":\"#E5ECF6\",\"polar\":{\"bgcolor\":\"#E5ECF6\",\"angularaxis\":{\"gridcolor\":\"white\",\"linecolor\":\"white\",\"ticks\":\"\"},\"radialaxis\":{\"gridcolor\":\"white\",\"linecolor\":\"white\",\"ticks\":\"\"}},\"ternary\":{\"bgcolor\":\"#E5ECF6\",\"aaxis\":{\"gridcolor\":\"white\",\"linecolor\":\"white\",\"ticks\":\"\"},\"baxis\":{\"gridcolor\":\"white\",\"linecolor\":\"white\",\"ticks\":\"\"},\"caxis\":{\"gridcolor\":\"white\",\"linecolor\":\"white\",\"ticks\":\"\"}},\"coloraxis\":{\"colorbar\":{\"outlinewidth\":0,\"ticks\":\"\"}},\"colorscale\":{\"sequential\":[[0.0,\"#0d0887\"],[0.1111111111111111,\"#46039f\"],[0.2222222222222222,\"#7201a8\"],[0.3333333333333333,\"#9c179e\"],[0.4444444444444444,\"#bd3786\"],[0.5555555555555556,\"#d8576b\"],[0.6666666666666666,\"#ed7953\"],[0.7777777777777778,\"#fb9f3a\"],[0.8888888888888888,\"#fdca26\"],[1.0,\"#f0f921\"]],\"sequentialminus\":[[0.0,\"#0d0887\"],[0.1111111111111111,\"#46039f\"],[0.2222222222222222,\"#7201a8\"],[0.3333333333333333,\"#9c179e\"],[0.4444444444444444,\"#bd3786\"],[0.5555555555555556,\"#d8576b\"],[0.6666666666666666,\"#ed7953\"],[0.7777777777777778,\"#fb9f3a\"],[0.8888888888888888,\"#fdca26\"],[1.0,\"#f0f921\"]],\"diverging\":[[0,\"#8e0152\"],[0.1,\"#c51b7d\"],[0.2,\"#de77ae\"],[0.3,\"#f1b6da\"],[0.4,\"#fde0ef\"],[0.5,\"#f7f7f7\"],[0.6,\"#e6f5d0\"],[0.7,\"#b8e186\"],[0.8,\"#7fbc41\"],[0.9,\"#4d9221\"],[1,\"#276419\"]]},\"xaxis\":{\"gridcolor\":\"white\",\"linecolor\":\"white\",\"ticks\":\"\",\"title\":{\"standoff\":15},\"zerolinecolor\":\"white\",\"automargin\":true,\"zerolinewidth\":2},\"yaxis\":{\"gridcolor\":\"white\",\"linecolor\":\"white\",\"ticks\":\"\",\"title\":{\"standoff\":15},\"zerolinecolor\":\"white\",\"automargin\":true,\"zerolinewidth\":2},\"scene\":{\"xaxis\":{\"backgroundcolor\":\"#E5ECF6\",\"gridcolor\":\"white\",\"linecolor\":\"white\",\"showbackground\":true,\"ticks\":\"\",\"zerolinecolor\":\"white\",\"gridwidth\":2},\"yaxis\":{\"backgroundcolor\":\"#E5ECF6\",\"gridcolor\":\"white\",\"linecolor\":\"white\",\"showbackground\":true,\"ticks\":\"\",\"zerolinecolor\":\"white\",\"gridwidth\":2},\"zaxis\":{\"backgroundcolor\":\"#E5ECF6\",\"gridcolor\":\"white\",\"linecolor\":\"white\",\"showbackground\":true,\"ticks\":\"\",\"zerolinecolor\":\"white\",\"gridwidth\":2}},\"shapedefaults\":{\"line\":{\"color\":\"#2a3f5f\"}},\"annotationdefaults\":{\"arrowcolor\":\"#2a3f5f\",\"arrowhead\":0,\"arrowwidth\":1},\"geo\":{\"bgcolor\":\"white\",\"landcolor\":\"#E5ECF6\",\"subunitcolor\":\"white\",\"showland\":true,\"showlakes\":true,\"lakecolor\":\"white\"},\"title\":{\"x\":0.05},\"mapbox\":{\"style\":\"light\"}}}},                        {\"responsive\": true}                    ).then(function(){\n",
              "                            \n",
              "var gd = document.getElementById('7b404311-892e-455c-af46-492771ae15af');\n",
              "var x = new MutationObserver(function (mutations, observer) {{\n",
              "        var display = window.getComputedStyle(gd).display;\n",
              "        if (!display || display === 'none') {{\n",
              "            console.log([gd, 'removed!']);\n",
              "            Plotly.purge(gd);\n",
              "            observer.disconnect();\n",
              "        }}\n",
              "}});\n",
              "\n",
              "// Listen for the removal of the full notebook cells\n",
              "var notebookContainer = gd.closest('#notebook-container');\n",
              "if (notebookContainer) {{\n",
              "    x.observe(notebookContainer, {childList: true});\n",
              "}}\n",
              "\n",
              "// Listen for the clearing of the current output cell\n",
              "var outputEl = gd.closest('.output');\n",
              "if (outputEl) {{\n",
              "    x.observe(outputEl, {childList: true});\n",
              "}}\n",
              "\n",
              "                        })                };                            </script>        </div>\n",
              "</body>\n",
              "</html>"
            ]
          },
          "metadata": {}
        }
      ]
    },
    {
      "cell_type": "markdown",
      "source": [
        "<a href=\"#toc\" role=\"button\" aria-pressed=\"true\" >⬆️Back to Table of Contents ⬆️</a>"
      ],
      "metadata": {
        "id": "HZwdNc7K94sE"
      }
    },
    {
      "cell_type": "markdown",
      "source": [
        "<a id=\"4.3\"></a>\n",
        "## <span style=\"color:#e76f51;\"> Feature Distribution of Continous Features </span>\n"
      ],
      "metadata": {
        "papermill": {
          "duration": 0.053405,
          "end_time": "2022-01-18T20:32:48.168483",
          "exception": false,
          "start_time": "2022-01-18T20:32:48.115078",
          "status": "completed"
        },
        "tags": [],
        "id": "08yn1zNu94sE"
      }
    },
    {
      "cell_type": "markdown",
      "source": [
        "### <span style=\"color:#e76f51;\">  Distribution of Age </span>"
      ],
      "metadata": {
        "id": "e8y1sQMC94sE"
      }
    },
    {
      "cell_type": "code",
      "source": [
        "train_age = train.copy()\n",
        "test_age = test.copy()\n",
        "train_age[\"type\"] = \"Train\"\n",
        "test_age[\"type\"] = \"Test\"\n",
        "ageDf = pd.concat([train_age, test_age])\n",
        "fig = px.histogram(data_frame = ageDf, \n",
        "                   x=\"Age\",\n",
        "                   color= \"type\",\n",
        "                   color_discrete_sequence =  ['#58D68D','#DE3163'],\n",
        "                   marginal=\"box\",\n",
        "                   nbins= 100,\n",
        "                    template=\"plotly_white\"\n",
        "                )\n",
        "fig.update_layout(title = \"Distribution of Age\" , title_x = 0.5)\n",
        "fig.show()\n",
        "\n",
        "# 나이의 분포를 히스토그램으로 나타내는 코드. "
      ],
      "metadata": {
        "execution": {
          "iopub.status.busy": "2022-02-24T01:38:47.897192Z",
          "iopub.execute_input": "2022-02-24T01:38:47.897662Z",
          "iopub.status.idle": "2022-02-24T01:38:48.483424Z",
          "shell.execute_reply.started": "2022-02-24T01:38:47.897624Z",
          "shell.execute_reply": "2022-02-24T01:38:48.482883Z"
        },
        "trusted": true,
        "colab": {
          "base_uri": "https://localhost:8080/",
          "height": 542
        },
        "id": "APXybExb94sF",
        "outputId": "b8324512-74c6-4a51-cba3-3207f1f368e1"
      },
      "execution_count": 57,
      "outputs": [
        {
          "output_type": "display_data",
          "data": {
            "text/html": [
              "<html>\n",
              "<head><meta charset=\"utf-8\" /></head>\n",
              "<body>\n",
              "    <div>            <script src=\"https://cdnjs.cloudflare.com/ajax/libs/mathjax/2.7.5/MathJax.js?config=TeX-AMS-MML_SVG\"></script><script type=\"text/javascript\">if (window.MathJax && window.MathJax.Hub && window.MathJax.Hub.Config) {window.MathJax.Hub.Config({SVG: {font: \"STIX-Web\"}});}</script>                <script type=\"text/javascript\">window.PlotlyConfig = {MathJaxConfig: 'local'};</script>\n",
              "        <script src=\"https://cdn.plot.ly/plotly-2.18.2.min.js\"></script>                <div id=\"b3647496-12b6-48bb-8b65-da63025ea3a7\" class=\"plotly-graph-div\" style=\"height:525px; width:100%;\"></div>            <script type=\"text/javascript\">                                    window.PLOTLYENV=window.PLOTLYENV || {};                                    if (document.getElementById(\"b3647496-12b6-48bb-8b65-da63025ea3a7\")) {                    Plotly.newPlot(                        \"b3647496-12b6-48bb-8b65-da63025ea3a7\",                        [{\"alignmentgroup\":\"True\",\"bingroup\":\"x\",\"hovertemplate\":\"type=Train<br>Age=%{x}<br>count=%{y}<extra></extra>\",\"legendgroup\":\"Train\",\"marker\":{\"color\":\"#58D68D\",\"pattern\":{\"shape\":\"\"}},\"name\":\"Train\",\"nbinsx\":100,\"offsetgroup\":\"Train\",\"orientation\":\"v\",\"showlegend\":true,\"x\":[39.0,24.0,58.0,33.0,16.0,44.0,26.0,28.0,35.0,14.0,34.0,45.0,32.0,48.0,28.0,31.0,27.0,24.0,45.0,0.0,14.0,1.0,49.0,29.0,10.0,1.0,7.0,21.0,62.0,15.0,34.0,43.0,32.0,47.0,2.0,20.0,28.0,23.0,15.0,20.0,30.0,17.0,45.0,55.0,4.0,21.0,21.0,19.0,35.0,56.0,null,25.0,2.0,38.0,27.0,36.0,22.0,62.0,15.0,33.0,62.0,0.0,18.0,21.0,null,42.0,19.0,17.0,14.0,37.0,42.0,27.0,28.0,38.0,13.0,42.0,2.0,8.0,24.0,40.0,43.0,45.0,35.0,26.0,27.0,19.0,0.0,3.0,54.0,26.0,26.0,23.0,2.0,31.0,18.0,24.0,9.0,6.0,27.0,21.0,23.0,31.0,0.0,32.0,40.0,42.0,28.0,29.0,48.0,64.0,27.0,26.0,33.0,39.0,13.0,24.0,29.0,18.0,67.0,35.0,61.0,45.0,22.0,19.0,36.0,19.0,47.0,13.0,34.0,35.0,24.0,26.0,31.0,20.0,56.0,50.0,42.0,null,38.0,41.0,22.0,26.0,17.0,57.0,17.0,35.0,13.0,27.0,31.0,24.0,19.0,32.0,58.0,21.0,38.0,38.0,19.0,0.0,3.0,20.0,24.0,37.0,25.0,56.0,49.0,11.0,1.0,8.0,39.0,2.0,23.0,0.0,39.0,25.0,36.0,52.0,18.0,15.0,35.0,47.0,45.0,null,51.0,29.0,null,19.0,24.0,29.0,11.0,17.0,13.0,35.0,21.0,21.0,38.0,19.0,2.0,0.0,13.0,25.0,16.0,1.0,15.0,21.0,23.0,33.0,21.0,41.0,16.0,42.0,20.0,24.0,16.0,21.0,32.0,58.0,24.0,30.0,27.0,32.0,43.0,42.0,37.0,35.0,33.0,18.0,21.0,43.0,14.0,46.0,33.0,21.0,33.0,47.0,54.0,30.0,29.0,21.0,24.0,21.0,60.0,22.0,26.0,26.0,28.0,39.0,13.0,47.0,63.0,null,50.0,35.0,45.0,19.0,21.0,29.0,22.0,14.0,42.0,57.0,39.0,28.0,19.0,19.0,26.0,17.0,43.0,9.0,40.0,50.0,24.0,57.0,16.0,23.0,23.0,28.0,23.0,23.0,18.0,18.0,67.0,60.0,null,49.0,0.0,26.0,35.0,24.0,20.0,18.0,21.0,59.0,13.0,43.0,29.0,19.0,2.0,32.0,33.0,25.0,29.0,29.0,44.0,2.0,19.0,0.0,18.0,38.0,5.0,31.0,30.0,15.0,27.0,22.0,36.0,14.0,23.0,18.0,36.0,41.0,50.0,32.0,26.0,15.0,33.0,null,26.0,61.0,24.0,30.0,24.0,24.0,41.0,20.0,22.0,63.0,18.0,21.0,79.0,56.0,13.0,33.0,32.0,31.0,26.0,18.0,38.0,23.0,28.0,34.0,0.0,14.0,23.0,49.0,14.0,18.0,27.0,48.0,31.0,61.0,18.0,45.0,22.0,30.0,30.0,32.0,43.0,17.0,23.0,20.0,39.0,35.0,31.0,21.0,16.0,60.0,18.0,42.0,68.0,22.0,59.0,null,37.0,3.0,31.0,31.0,29.0,20.0,46.0,29.0,43.0,17.0,27.0,47.0,45.0,17.0,10.0,56.0,39.0,40.0,40.0,34.0,32.0,35.0,32.0,26.0,25.0,26.0,22.0,22.0,24.0,32.0,11.0,22.0,19.0,34.0,74.0,28.0,42.0,43.0,55.0,19.0,6.0,7.0,28.0,15.0,24.0,31.0,22.0,1.0,50.0,34.0,14.0,19.0,null,36.0,34.0,25.0,36.0,16.0,30.0,37.0,15.0,36.0,27.0,27.0,12.0,22.0,27.0,13.0,27.0,28.0,21.0,39.0,28.0,14.0,27.0,46.0,27.0,21.0,21.0,42.0,22.0,10.0,43.0,42.0,18.0,54.0,24.0,64.0,18.0,53.0,23.0,39.0,59.0,32.0,55.0,21.0,50.0,55.0,null,35.0,null,55.0,23.0,42.0,35.0,47.0,null,34.0,46.0,26.0,1.0,null,33.0,34.0,49.0,22.0,28.0,null,36.0,30.0,49.0,38.0,31.0,17.0,26.0,23.0,24.0,23.0,24.0,32.0,43.0,23.0,42.0,29.0,40.0,37.0,61.0,33.0,19.0,21.0,4.0,12.0,44.0,22.0,33.0,32.0,28.0,28.0,31.0,13.0,14.0,33.0,null,23.0,36.0,22.0,19.0,42.0,30.0,16.0,55.0,55.0,19.0,null,18.0,21.0,65.0,55.0,50.0,49.0,22.0,33.0,3.0,0.0,33.0,48.0,5.0,23.0,53.0,18.0,20.0,23.0,48.0,19.0,null,9.0,24.0,46.0,23.0,21.0,19.0,0.0,4.0,26.0,9.0,24.0,24.0,25.0,21.0,21.0,37.0,44.0,43.0,7.0,33.0,24.0,31.0,27.0,34.0,58.0,7.0,3.0,21.0,21.0,39.0,43.0,22.0,44.0,38.0,32.0,55.0,31.0,39.0,35.0,37.0,13.0,21.0,20.0,20.0,63.0,36.0,29.0,36.0,79.0,30.0,30.0,19.0,33.0,20.0,38.0,7.0,58.0,33.0,3.0,39.0,37.0,32.0,28.0,38.0,21.0,18.0,15.0,44.0,44.0,36.0,28.0,15.0,45.0,26.0,46.0,25.0,46.0,15.0,37.0,20.0,45.0,7.0,5.0,38.0,30.0,null,0.0,20.0,41.0,18.0,29.0,19.0,34.0,36.0,54.0,19.0,21.0,23.0,35.0,34.0,22.0,24.0,18.0,24.0,33.0,24.0,18.0,19.0,43.0,44.0,25.0,25.0,23.0,23.0,20.0,2.0,26.0,38.0,1.0,12.0,2.0,25.0,1.0,0.0,54.0,21.0,19.0,24.0,20.0,23.0,29.0,14.0,19.0,23.0,62.0,23.0,65.0,47.0,67.0,14.0,41.0,14.0,19.0,22.0,34.0,65.0,42.0,22.0,54.0,34.0,27.0,67.0,33.0,30.0,22.0,35.0,23.0,49.0,36.0,31.0,54.0,0.0,null,54.0,10.0,0.0,7.0,25.0,37.0,15.0,26.0,7.0,30.0,19.0,30.0,21.0,21.0,59.0,28.0,32.0,19.0,7.0,16.0,31.0,30.0,26.0,20.0,24.0,39.0,19.0,27.0,34.0,28.0,29.0,38.0,null,1.0,36.0,31.0,1.0,31.0,10.0,null,42.0,0.0,41.0,0.0,0.0,59.0,13.0,24.0,20.0,71.0,23.0,15.0,18.0,19.0,4.0,42.0,51.0,13.0,27.0,42.0,41.0,21.0,31.0,36.0,31.0,14.0,32.0,32.0,27.0,57.0,13.0,30.0,14.0,27.0,32.0,54.0,23.0,38.0,32.0,24.0,36.0,11.0,6.0,36.0,22.0,null,37.0,55.0,null,20.0,16.0,19.0,38.0,35.0,33.0,37.0,46.0,41.0,13.0,31.0,52.0,48.0,27.0,16.0,32.0,25.0,26.0,44.0,32.0,18.0,23.0,44.0,29.0,19.0,41.0,28.0,19.0,32.0,74.0,31.0,38.0,20.0,24.0,26.0,44.0,33.0,31.0,null,22.0,33.0,34.0,11.0,41.0,30.0,30.0,25.0,31.0,38.0,15.0,19.0,29.0,30.0,29.0,36.0,24.0,30.0,0.0,15.0,38.0,13.0,18.0,16.0,8.0,19.0,26.0,15.0,38.0,45.0,48.0,17.0,28.0,41.0,19.0,14.0,21.0,48.0,19.0,29.0,20.0,44.0,19.0,64.0,21.0,32.0,20.0,24.0,44.0,57.0,51.0,34.0,45.0,24.0,23.0,30.0,20.0,22.0,null,71.0,18.0,16.0,28.0,36.0,6.0,26.0,27.0,49.0,29.0,46.0,35.0,17.0,37.0,24.0,47.0,26.0,46.0,27.0,56.0,18.0,15.0,3.0,42.0,1.0,56.0,20.0,21.0,5.0,12.0,39.0,60.0,31.0,58.0,19.0,29.0,19.0,44.0,20.0,18.0,36.0,25.0,15.0,18.0,0.0,54.0,0.0,20.0,21.0,8.0,46.0,31.0,3.0,30.0,23.0,14.0,25.0,61.0,31.0,13.0,24.0,47.0,15.0,46.0,49.0,37.0,44.0,16.0,58.0,20.0,36.0,31.0,21.0,22.0,27.0,58.0,38.0,30.0,20.0,19.0,57.0,26.0,38.0,15.0,null,35.0,38.0,35.0,14.0,27.0,25.0,37.0,25.0,41.0,50.0,33.0,27.0,23.0,18.0,31.0,54.0,0.0,11.0,4.0,19.0,7.0,20.0,33.0,26.0,35.0,23.0,60.0,34.0,null,42.0,22.0,18.0,5.0,18.0,29.0,39.0,17.0,58.0,5.0,23.0,26.0,40.0,20.0,38.0,31.0,34.0,9.0,36.0,26.0,18.0,55.0,28.0,18.0,28.0,23.0,20.0,22.0,27.0,13.0,32.0,53.0,34.0,42.0,19.0,54.0,12.0,35.0,55.0,26.0,49.0,22.0,null,30.0,39.0,14.0,29.0,34.0,8.0,7.0,3.0,0.0,10.0,16.0,41.0,18.0,25.0,32.0,26.0,26.0,18.0,27.0,26.0,28.0,19.0,31.0,35.0,46.0,37.0,29.0,17.0,30.0,28.0,16.0,40.0,23.0,24.0,36.0,34.0,59.0,20.0,15.0,19.0,64.0,24.0,23.0,30.0,0.0,8.0,1.0,48.0,12.0,30.0,10.0,11.0,58.0,52.0,36.0,32.0,16.0,25.0,28.0,32.0,28.0,16.0,50.0,20.0,23.0,45.0,23.0,53.0,8.0,6.0,3.0,13.0,60.0,1.0,40.0,51.0,31.0,28.0,20.0,14.0,23.0,4.0,20.0,75.0,24.0,18.0,21.0,59.0,27.0,38.0,41.0,36.0,29.0,22.0,23.0,32.0,21.0,26.0,61.0,30.0,40.0,37.0,41.0,32.0,30.0,27.0,22.0,54.0,27.0,52.0,15.0,27.0,30.0,19.0,22.0,43.0,25.0,51.0,34.0,21.0,21.0,23.0,38.0,30.0,31.0,44.0,14.0,18.0,19.0,null,36.0,10.0,1.0,4.0,21.0,24.0,8.0,18.0,33.0,31.0,43.0,20.0,28.0,30.0,28.0,19.0,22.0,27.0,22.0,2.0,4.0,10.0,9.0,37.0,2.0,44.0,11.0,22.0,40.0,30.0,37.0,26.0,19.0,57.0,1.0,17.0,26.0,21.0,28.0,36.0,25.0,40.0,23.0,2.0,10.0,43.0,0.0,24.0,42.0,30.0,19.0,26.0,47.0,28.0,24.0,29.0,32.0,44.0,17.0,35.0,23.0,34.0,25.0,67.0,22.0,null,27.0,14.0,42.0,19.0,22.0,31.0,10.0,39.0,41.0,0.0,22.0,21.0,40.0,25.0,23.0,33.0,20.0,40.0,27.0,21.0,25.0,2.0,19.0,41.0,43.0,19.0,22.0,16.0,42.0,20.0,35.0,53.0,17.0,6.0,22.0,41.0,19.0,39.0,23.0,31.0,38.0,1.0,13.0,21.0,44.0,36.0,19.0,7.0,39.0,28.0,28.0,14.0,18.0,23.0,33.0,18.0,47.0,42.0,17.0,21.0,17.0,26.0,23.0,15.0,18.0,65.0,33.0,27.0,41.0,42.0,null,37.0,17.0,24.0,39.0,59.0,32.0,29.0,8.0,28.0,35.0,24.0,1.0,4.0,28.0,46.0,67.0,44.0,14.0,23.0,51.0,20.0,0.0,0.0,23.0,24.0,41.0,30.0,27.0,13.0,16.0,30.0,8.0,59.0,43.0,30.0,46.0,39.0,21.0,70.0,34.0,33.0,44.0,16.0,63.0,37.0,29.0,29.0,22.0,26.0,76.0,61.0,46.0,19.0,13.0,null,30.0,23.0,63.0,21.0,32.0,33.0,39.0,49.0,27.0,16.0,38.0,42.0,19.0,26.0,32.0,56.0,0.0,38.0,30.0,21.0,11.0,3.0,17.0,35.0,17.0,0.0,46.0,63.0,35.0,61.0,19.0,43.0,14.0,78.0,21.0,32.0,31.0,40.0,13.0,36.0,31.0,18.0,40.0,28.0,41.0,35.0,14.0,20.0,23.0,22.0,25.0,18.0,25.0,30.0,46.0,27.0,53.0,21.0,32.0,32.0,33.0,26.0,47.0,13.0,34.0,21.0,20.0,21.0,51.0,18.0,26.0,53.0,30.0,37.0,45.0,62.0,38.0,24.0,18.0,23.0,16.0,37.0,22.0,18.0,25.0,26.0,25.0,55.0,28.0,23.0,22.0,26.0,13.0,18.0,38.0,28.0,57.0,0.0,18.0,25.0,35.0,37.0,33.0,35.0,47.0,23.0,null,27.0,23.0,31.0,19.0,53.0,37.0,18.0,42.0,7.0,7.0,24.0,20.0,24.0,42.0,49.0,47.0,16.0,26.0,24.0,38.0,0.0,37.0,39.0,25.0,25.0,35.0,0.0,46.0,4.0,19.0,29.0,19.0,47.0,1.0,4.0,37.0,61.0,32.0,4.0,16.0,25.0,22.0,41.0,25.0,19.0,21.0,14.0,18.0,34.0,33.0,14.0,28.0,43.0,3.0,0.0,47.0,28.0,40.0,17.0,21.0,null,41.0,20.0,56.0,57.0,48.0,37.0,20.0,36.0,38.0,22.0,31.0,0.0,21.0,49.0,44.0,null,29.0,16.0,20.0,26.0,19.0,34.0,38.0,51.0,7.0,3.0,26.0,27.0,7.0,19.0,28.0,27.0,31.0,26.0,43.0,23.0,14.0,47.0,17.0,64.0,13.0,18.0,29.0,70.0,23.0,23.0,35.0,17.0,26.0,15.0,19.0,20.0,51.0,17.0,27.0,43.0,5.0,17.0,40.0,38.0,20.0,13.0,15.0,15.0,59.0,24.0,null,52.0,38.0,26.0,17.0,17.0,20.0,15.0,30.0,22.0,18.0,22.0,20.0,22.0,34.0,28.0,50.0,19.0,21.0,0.0,4.0,59.0,15.0,24.0,26.0,67.0,55.0,50.0,23.0,21.0,15.0,41.0,59.0,18.0,21.0,14.0,50.0,32.0,46.0,null,58.0,15.0,35.0,30.0,30.0,43.0,21.0,15.0,37.0,28.0,28.0,40.0,42.0,21.0,31.0,51.0,73.0,26.0,33.0,39.0,19.0,12.0,10.0,0.0,0.0,1.0,33.0,23.0,5.0,24.0,26.0,30.0,33.0,56.0,25.0,null,25.0,18.0,60.0,41.0,16.0,17.0,26.0,31.0,67.0,16.0,24.0,19.0,48.0,30.0,22.0,28.0,23.0,29.0,22.0,48.0,26.0,23.0,55.0,46.0,38.0,2.0,3.0,20.0,65.0,null,25.0,54.0,25.0,14.0,53.0,0.0,39.0,22.0,31.0,24.0,35.0,35.0,32.0,61.0,58.0,26.0,4.0,1.0,8.0,7.0,25.0,6.0,29.0,64.0,31.0,25.0,30.0,0.0,29.0,37.0,49.0,36.0,20.0,20.0,18.0,17.0,48.0,26.0,35.0,30.0,22.0,5.0,43.0,52.0,50.0,29.0,19.0,39.0,38.0,21.0,25.0,42.0,36.0,19.0,42.0,40.0,14.0,50.0,18.0,46.0,null,15.0,22.0,0.0,52.0,38.0,46.0,23.0,63.0,24.0,50.0,20.0,55.0,21.0,56.0,45.0,18.0,47.0,36.0,57.0,13.0,27.0,20.0,47.0,15.0,34.0,21.0,51.0,23.0,58.0,37.0,44.0,25.0,15.0,40.0,29.0,36.0,21.0,35.0,24.0,2.0,0.0,43.0,63.0,30.0,38.0,27.0,54.0,39.0,41.0,22.0,23.0,34.0,26.0,39.0,15.0,64.0,25.0,35.0,19.0,26.0,3.0,29.0,44.0,27.0,17.0,37.0,19.0,44.0,22.0,22.0,21.0,31.0,17.0,30.0,15.0,42.0,55.0,28.0,33.0,19.0,24.0,4.0,2.0,30.0,31.0,17.0,40.0,33.0,46.0,30.0,17.0,19.0,22.0,20.0,36.0,0.0,17.0,null,15.0,20.0,19.0,24.0,43.0,26.0,42.0,21.0,50.0,25.0,64.0,50.0,24.0,27.0,42.0,30.0,20.0,31.0,26.0,39.0,null,32.0,25.0,6.0,3.0,11.0,52.0,14.0,68.0,18.0,55.0,22.0,34.0,17.0,38.0,13.0,19.0,30.0,27.0,17.0,45.0,28.0,23.0,24.0,23.0,29.0,46.0,17.0,20.0,24.0,40.0,null,38.0,65.0,19.0,54.0,38.0,40.0,21.0,22.0,33.0,18.0,43.0,13.0,26.0,22.0,21.0,25.0,29.0,49.0,29.0,45.0,45.0,30.0,29.0,26.0,16.0,20.0,33.0,18.0,24.0,29.0,40.0,27.0,35.0,31.0,26.0,49.0,23.0,23.0,14.0,21.0,18.0,null,19.0,22.0,17.0,13.0,26.0,null,16.0,20.0,20.0,23.0,61.0,27.0,3.0,4.0,13.0,19.0,18.0,66.0,39.0,21.0,7.0,56.0,15.0,null,13.0,18.0,38.0,45.0,21.0,19.0,49.0,21.0,18.0,43.0,27.0,0.0,27.0,21.0,20.0,35.0,20.0,24.0,41.0,23.0,27.0,58.0,53.0,30.0,24.0,31.0,46.0,20.0,20.0,30.0,24.0,34.0,20.0,48.0,25.0,43.0,27.0,47.0,26.0,37.0,42.0,61.0,29.0,32.0,51.0,43.0,25.0,31.0,13.0,20.0,29.0,16.0,15.0,50.0,41.0,43.0,32.0,36.0,18.0,47.0,29.0,null,14.0,25.0,63.0,22.0,32.0,31.0,24.0,39.0,20.0,20.0,19.0,20.0,31.0,17.0,24.0,27.0,28.0,41.0,25.0,26.0,27.0,22.0,62.0,58.0,37.0,54.0,26.0,44.0,34.0,47.0,27.0,22.0,46.0,29.0,43.0,42.0,39.0,30.0,43.0,19.0,26.0,46.0,3.0,21.0,1.0,22.0,27.0,28.0,36.0,19.0,18.0,47.0,18.0,6.0,20.0,18.0,37.0,22.0,37.0,6.0,36.0,46.0,75.0,37.0,22.0,33.0,35.0,19.0,34.0,23.0,37.0,24.0,54.0,52.0,60.0,1.0,null,22.0,27.0,48.0,47.0,25.0,49.0,33.0,67.0,5.0,60.0,56.0,59.0,44.0,33.0,28.0,29.0,13.0,34.0,45.0,39.0,18.0,57.0,null,25.0,22.0,32.0,29.0,21.0,16.0,45.0,44.0,27.0,26.0,46.0,24.0,15.0,53.0,28.0,11.0,7.0,0.0,15.0,31.0,9.0,44.0,35.0,30.0,13.0,45.0,4.0,21.0,20.0,24.0,3.0,29.0,28.0,44.0,50.0,35.0,19.0,22.0,30.0,36.0,20.0,22.0,22.0,32.0,35.0,41.0,57.0,3.0,11.0,4.0,17.0,30.0,11.0,23.0,58.0,22.0,24.0,20.0,37.0,49.0,46.0,30.0,36.0,21.0,25.0,42.0,13.0,25.0,29.0,17.0,36.0,44.0,18.0,22.0,22.0,43.0,29.0,24.0,18.0,42.0,43.0,32.0,15.0,22.0,20.0,34.0,70.0,18.0,26.0,17.0,13.0,19.0,32.0,33.0,21.0,23.0,24.0,17.0,34.0,31.0,43.0,43.0,33.0,28.0,27.0,7.0,16.0,42.0,27.0,19.0,42.0,13.0,16.0,21.0,28.0,69.0,15.0,48.0,42.0,42.0,23.0,26.0,45.0,30.0,36.0,null,35.0,21.0,50.0,52.0,21.0,41.0,35.0,26.0,17.0,69.0,27.0,25.0,27.0,25.0,36.0,14.0,27.0,22.0,24.0,null,4.0,19.0,19.0,38.0,39.0,23.0,57.0,18.0,43.0,28.0,33.0,37.0,28.0,28.0,18.0,29.0,29.0,28.0,24.0,59.0,43.0,20.0,23.0,27.0,38.0,38.0,48.0,25.0,25.0,24.0,69.0,20.0,18.0,28.0,23.0,24.0,44.0,29.0,6.0,42.0,78.0,36.0,37.0,41.0,18.0,62.0,0.0,55.0,16.0,32.0,19.0,7.0,4.0,30.0,24.0,34.0,30.0,3.0,32.0,55.0,0.0,51.0,0.0,21.0,2.0,19.0,24.0,20.0,42.0,17.0,32.0,28.0,21.0,56.0,28.0,42.0,18.0,24.0,20.0,22.0,22.0,21.0,28.0,26.0,50.0,26.0,30.0,29.0,8.0,45.0,35.0,18.0,23.0,29.0,18.0,28.0,34.0,0.0,4.0,28.0,8.0,20.0,20.0,25.0,31.0,37.0,21.0,24.0,34.0,0.0,25.0,43.0,null,45.0,63.0,17.0,35.0,12.0,null,17.0,32.0,23.0,17.0,34.0,15.0,14.0,22.0,19.0,40.0,25.0,51.0,22.0,50.0,26.0,39.0,18.0,22.0,26.0,19.0,16.0,24.0,34.0,55.0,42.0,14.0,28.0,26.0,33.0,24.0,23.0,16.0,36.0,44.0,22.0,30.0,20.0,21.0,14.0,27.0,19.0,21.0,null,13.0,71.0,28.0,18.0,23.0,34.0,20.0,17.0,21.0,33.0,34.0,51.0,21.0,null,31.0,36.0,39.0,26.0,51.0,24.0,27.0,31.0,24.0,57.0,36.0,55.0,null,18.0,27.0,50.0,24.0,20.0,24.0,18.0,44.0,27.0,58.0,29.0,23.0,3.0,0.0,33.0,12.0,44.0,20.0,59.0,18.0,72.0,23.0,11.0,1.0,25.0,25.0,24.0,54.0,17.0,48.0,40.0,2.0,32.0,15.0,52.0,16.0,16.0,16.0,6.0,10.0,27.0,45.0,26.0,29.0,38.0,19.0,43.0,15.0,31.0,52.0,49.0,29.0,18.0,41.0,9.0,null,58.0,39.0,13.0,36.0,23.0,24.0,33.0,18.0,2.0,0.0,36.0,15.0,31.0,42.0,27.0,36.0,0.0,3.0,22.0,56.0,23.0,25.0,29.0,17.0,13.0,35.0,53.0,24.0,38.0,21.0,29.0,46.0,58.0,53.0,21.0,27.0,31.0,23.0,41.0,29.0,54.0,43.0,36.0,48.0,34.0,42.0,17.0,22.0,37.0,38.0,21.0,23.0,27.0,23.0,19.0,28.0,33.0,24.0,0.0,41.0,19.0,44.0,43.0,14.0,18.0,25.0,0.0,4.0,24.0,38.0,44.0,57.0,3.0,5.0,3.0,18.0,8.0,21.0,35.0,47.0,28.0,49.0,23.0,19.0,34.0,40.0,26.0,23.0,22.0,51.0,44.0,50.0,28.0,13.0,21.0,20.0,14.0,38.0,29.0,36.0,16.0,40.0,null,18.0,17.0,32.0,27.0,34.0,53.0,36.0,41.0,51.0,61.0,59.0,17.0,27.0,57.0,39.0,55.0,42.0,36.0,42.0,32.0,6.0,15.0,28.0,37.0,44.0,71.0,44.0,36.0,18.0,3.0,12.0,0.0,29.0,9.0,27.0,24.0,38.0,28.0,26.0,16.0,24.0,33.0,24.0,29.0,25.0,0.0,13.0,7.0,32.0,34.0,49.0,43.0,0.0,6.0,23.0,43.0,23.0,43.0,41.0,54.0,51.0,44.0,48.0,45.0,20.0,33.0,21.0,68.0,23.0,16.0,35.0,22.0,51.0,2.0,29.0,0.0,39.0,55.0,22.0,20.0,25.0,18.0,28.0,26.0,28.0,54.0,56.0,25.0,26.0,14.0,21.0,43.0,37.0,null,38.0,14.0,20.0,33.0,33.0,13.0,37.0,15.0,33.0,24.0,49.0,24.0,24.0,26.0,40.0,31.0,47.0,19.0,38.0,33.0,45.0,1.0,32.0,70.0,19.0,55.0,48.0,66.0,13.0,40.0,35.0,32.0,51.0,37.0,31.0,37.0,38.0,19.0,33.0,19.0,31.0,43.0,22.0,24.0,21.0,14.0,30.0,22.0,11.0,4.0,0.0,30.0,21.0,40.0,57.0,35.0,32.0,32.0,30.0,69.0,21.0,17.0,16.0,25.0,25.0,52.0,13.0,37.0,13.0,45.0,55.0,22.0,39.0,35.0,19.0,7.0,19.0,21.0,37.0,35.0,22.0,62.0,41.0,16.0,26.0,36.0,null,22.0,40.0,50.0,57.0,15.0,23.0,60.0,73.0,35.0,28.0,27.0,14.0,26.0,22.0,22.0,71.0,25.0,27.0,1.0,52.0,0.0,30.0,52.0,12.0,22.0,24.0,22.0,15.0,21.0,56.0,50.0,20.0,32.0,28.0,74.0,25.0,31.0,6.0,17.0,12.0,47.0,46.0,31.0,36.0,15.0,38.0,48.0,21.0,4.0,31.0,31.0,62.0,29.0,30.0,26.0,43.0,32.0,24.0,49.0,21.0,18.0,18.0,14.0,21.0,25.0,56.0,0.0,55.0,14.0,13.0,43.0,39.0,null,24.0,26.0,22.0,26.0,19.0,38.0,38.0,77.0,28.0,22.0,20.0,18.0,10.0,34.0,43.0,31.0,40.0,25.0,68.0,20.0,27.0,1.0,60.0,28.0,11.0,0.0,9.0,38.0,18.0,40.0,21.0,24.0,26.0,47.0,46.0,55.0,50.0,10.0,17.0,20.0,37.0,24.0,43.0,0.0,24.0,22.0,14.0,3.0,22.0,23.0,56.0,36.0,58.0,1.0,39.0,33.0,19.0,null,33.0,17.0,28.0,21.0,45.0,62.0,43.0,27.0,1.0,31.0,18.0,21.0,7.0,22.0,26.0,30.0,17.0,null,10.0,25.0,21.0,53.0,21.0,28.0,20.0,54.0,9.0,20.0,19.0,32.0,22.0,35.0,26.0,51.0,8.0,40.0,2.0,19.0,32.0,16.0,64.0,35.0,33.0,9.0,21.0,28.0,28.0,31.0,32.0,43.0,60.0,43.0,43.0,19.0,21.0,38.0,17.0,29.0,2.0,22.0,18.0,16.0,52.0,52.0,14.0,25.0,34.0,20.0,28.0,null,20.0,44.0,64.0,27.0,24.0,38.0,47.0,8.0,1.0,0.0,20.0,41.0,35.0,31.0,14.0,25.0,26.0,26.0,30.0,49.0,19.0,15.0,27.0,39.0,32.0,11.0,44.0,36.0,56.0,42.0,40.0,53.0,31.0,14.0,31.0,42.0,32.0,34.0,55.0,42.0,40.0,48.0,37.0,17.0,60.0,19.0,30.0,32.0,28.0,26.0,24.0,47.0,32.0,73.0,17.0,47.0,null,13.0,22.0,61.0,19.0,45.0,18.0,32.0,52.0,25.0,9.0,18.0,26.0,20.0,6.0,5.0,40.0,20.0,18.0,42.0,14.0,33.0,23.0,35.0,53.0,56.0,35.0,18.0,25.0,20.0,44.0,26.0,23.0,39.0,25.0,42.0,20.0,4.0,64.0,0.0,19.0,6.0,23.0,22.0,18.0,21.0,37.0,24.0,38.0,11.0,6.0,49.0,55.0,15.0,19.0,16.0,48.0,25.0,23.0,27.0,39.0,28.0,72.0,47.0,65.0,40.0,18.0,27.0,21.0,37.0,31.0,33.0,53.0,27.0,74.0,null,23.0,74.0,23.0,26.0,0.0,0.0,24.0,28.0,17.0,26.0,39.0,17.0,15.0,37.0,38.0,33.0,16.0,41.0,7.0,20.0,44.0,42.0,29.0,22.0,21.0,21.0,21.0,13.0,16.0,36.0,36.0,26.0,28.0,14.0,29.0,19.0,51.0,64.0,41.0,null,16.0,20.0,31.0,38.0,59.0,18.0,33.0,33.0,49.0,4.0,0.0,0.0,24.0,52.0,50.0,31.0,25.0,62.0,49.0,24.0,33.0,20.0,46.0,26.0,52.0,28.0,39.0,29.0,19.0,15.0,33.0,47.0,34.0,26.0,15.0,null,27.0,38.0,21.0,1.0,38.0,0.0,32.0,27.0,48.0,22.0,28.0,19.0,37.0,46.0,26.0,16.0,0.0,0.0,26.0,13.0,23.0,70.0,21.0,40.0,18.0,23.0,15.0,28.0,45.0,18.0,23.0,36.0,25.0,28.0,29.0,31.0,14.0,31.0,39.0,17.0,56.0,36.0,21.0,48.0,53.0,5.0,21.0,50.0,18.0,28.0,28.0,18.0,37.0,19.0,27.0,37.0,43.0,17.0,21.0,55.0,14.0,24.0,26.0,19.0,20.0,14.0,19.0,15.0,25.0,24.0,22.0,26.0,23.0,20.0,53.0,55.0,22.0,35.0,40.0,22.0,22.0,21.0,64.0,40.0,8.0,25.0,19.0,24.0,11.0,31.0,46.0,31.0,17.0,16.0,57.0,28.0,27.0,28.0,26.0,17.0,36.0,24.0,18.0,20.0,10.0,null,23.0,36.0,27.0,54.0,38.0,29.0,37.0,36.0,18.0,28.0,61.0,19.0,29.0,37.0,29.0,38.0,41.0,23.0,48.0,0.0,46.0,36.0,42.0,null,16.0,43.0,40.0,22.0,39.0,37.0,28.0,29.0,14.0,15.0,17.0,4.0,24.0,null,22.0,38.0,30.0,29.0,26.0,41.0,50.0,34.0,24.0,24.0,45.0,35.0,23.0,23.0,21.0,19.0,24.0,2.0,0.0,20.0,35.0,34.0,26.0,26.0,32.0,25.0,30.0,57.0,23.0,32.0,27.0,20.0,21.0,19.0,16.0,18.0,18.0,22.0,null,35.0,8.0,5.0,40.0,31.0,9.0,56.0,39.0,18.0,45.0,33.0,2.0,1.0,2.0,16.0,18.0,28.0,45.0,24.0,35.0,16.0,40.0,5.0,29.0,31.0,27.0,34.0,15.0,43.0,30.0,61.0,48.0,17.0,19.0,29.0,2.0,24.0,19.0,34.0,19.0,39.0,26.0,53.0,18.0,null,45.0,32.0,18.0,48.0,24.0,52.0,55.0,43.0,24.0,8.0,18.0,38.0,18.0,23.0,26.0,21.0,45.0,24.0,44.0,20.0,47.0,16.0,28.0,8.0,20.0,22.0,42.0,23.0,30.0,18.0,35.0,42.0,46.0,29.0,35.0,48.0,24.0,38.0,51.0,77.0,22.0,38.0,42.0,55.0,7.0,null,25.0,15.0,13.0,23.0,null,33.0,26.0,67.0,27.0,33.0,18.0,36.0,18.0,51.0,54.0,33.0,18.0,57.0,23.0,24.0,20.0,32.0,21.0,null,41.0,27.0,49.0,18.0,34.0,73.0,40.0,63.0,21.0,21.0,23.0,31.0,41.0,15.0,36.0,24.0,27.0,24.0,19.0,25.0,39.0,15.0,31.0,25.0,57.0,null,18.0,33.0,23.0,34.0,38.0,21.0,31.0,13.0,54.0,13.0,18.0,null,43.0,56.0,63.0,9.0,9.0,0.0,16.0,42.0,9.0,22.0,47.0,30.0,29.0,null,22.0,19.0,31.0,17.0,38.0,13.0,36.0,0.0,21.0,18.0,36.0,27.0,5.0,18.0,25.0,14.0,23.0,2.0,1.0,7.0,6.0,56.0,4.0,65.0,36.0,25.0,41.0,20.0,18.0,15.0,23.0,29.0,33.0,14.0,55.0,30.0,21.0,26.0,33.0,18.0,9.0,0.0,19.0,18.0,38.0,42.0,28.0,37.0,29.0,42.0,18.0,34.0,34.0,18.0,24.0,24.0,56.0,2.0,12.0,37.0,60.0,55.0,20.0,28.0,28.0,37.0,18.0,14.0,29.0,51.0,45.0,45.0,41.0,21.0,28.0,0.0,46.0,41.0,13.0,55.0,20.0,21.0,49.0,27.0,0.0,22.0,17.0,23.0,44.0,29.0,19.0,3.0,29.0,19.0,22.0,33.0,null,50.0,54.0,43.0,17.0,26.0,44.0,51.0,29.0,4.0,40.0,27.0,8.0,3.0,11.0,24.0,25.0,28.0,25.0,27.0,25.0,0.0,58.0,3.0,4.0,2.0,34.0,5.0,3.0,46.0,22.0,8.0,17.0,4.0,12.0,40.0,16.0,41.0,8.0,14.0,2.0,59.0,45.0,52.0,33.0,51.0,38.0,14.0,42.0,28.0,34.0,21.0,30.0,null,26.0,23.0,20.0,59.0,37.0,32.0,37.0,27.0,42.0,29.0,2.0,10.0,0.0,21.0,8.0,null,27.0,13.0,49.0,38.0,21.0,22.0,14.0,24.0,24.0,34.0,1.0,null,26.0,null,32.0,2.0,10.0,49.0,14.0,29.0,25.0,36.0,22.0,21.0,36.0,54.0,30.0,0.0,1.0,42.0,47.0,25.0,18.0,22.0,27.0,24.0,null,22.0,60.0,38.0,23.0,21.0,55.0,20.0,50.0,22.0,21.0,26.0,36.0,46.0,26.0,24.0,14.0,46.0,15.0,30.0,null,38.0,48.0,31.0,41.0,43.0,23.0,48.0,47.0,19.0,25.0,28.0,16.0,45.0,31.0,19.0,21.0,null,22.0,23.0,54.0,0.0,4.0,23.0,19.0,34.0,18.0,40.0,58.0,39.0,23.0,11.0,43.0,29.0,36.0,13.0,54.0,45.0,33.0,46.0,15.0,35.0,23.0,15.0,27.0,15.0,27.0,16.0,37.0,45.0,58.0,null,38.0,28.0,47.0,41.0,28.0,23.0,24.0,58.0,36.0,24.0,56.0,15.0,19.0,27.0,47.0,37.0,39.0,20.0,20.0,38.0,46.0,13.0,24.0,32.0,null,44.0,19.0,30.0,23.0,4.0,0.0,17.0,44.0,31.0,41.0,33.0,43.0,43.0,36.0,19.0,24.0,17.0,23.0,17.0,18.0,34.0,13.0,66.0,27.0,19.0,55.0,40.0,23.0,7.0,12.0,37.0,22.0,25.0,46.0,37.0,50.0,28.0,26.0,28.0,23.0,23.0,34.0,65.0,20.0,29.0,30.0,3.0,40.0,32.0,31.0,13.0,29.0,28.0,19.0,24.0,22.0,13.0,21.0,24.0,47.0,27.0,18.0,36.0,68.0,31.0,28.0,36.0,17.0,13.0,30.0,58.0,43.0,20.0,29.0,15.0,30.0,33.0,25.0,62.0,41.0,27.0,18.0,27.0,19.0,37.0,24.0,29.0,44.0,19.0,39.0,63.0,39.0,41.0,27.0,56.0,22.0,26.0,24.0,18.0,13.0,32.0,30.0,25.0,55.0,19.0,24.0,32.0,24.0,32.0,36.0,28.0,52.0,29.0,23.0,32.0,35.0,41.0,16.0,33.0,6.0,15.0,38.0,56.0,4.0,21.0,22.0,37.0,6.0,22.0,26.0,22.0,20.0,null,24.0,25.0,48.0,24.0,3.0,24.0,25.0,1.0,20.0,22.0,28.0,17.0,28.0,47.0,34.0,29.0,14.0,36.0,40.0,49.0,51.0,41.0,44.0,47.0,22.0,13.0,18.0,28.0,22.0,50.0,47.0,55.0,21.0,39.0,21.0,37.0,31.0,23.0,28.0,23.0,20.0,28.0,40.0,54.0,18.0,27.0,43.0,25.0,13.0,15.0,37.0,32.0,19.0,21.0,27.0,39.0,22.0,25.0,34.0,54.0,42.0,36.0,43.0,23.0,57.0,54.0,51.0,32.0,33.0,8.0,44.0,27.0,48.0,13.0,5.0,18.0,23.0,23.0,35.0,25.0,32.0,0.0,5.0,16.0,18.0,29.0,55.0,41.0,38.0,27.0,55.0,75.0,50.0,23.0,37.0,33.0,45.0,47.0,13.0,29.0,19.0,30.0,39.0,31.0,29.0,16.0,18.0,38.0,50.0,21.0,22.0,20.0,36.0,23.0,31.0,39.0,50.0,40.0,28.0,38.0,37.0,59.0,41.0,33.0,54.0,40.0,43.0,26.0,65.0,22.0,28.0,35.0,30.0,28.0,23.0,24.0,16.0,18.0,20.0,29.0,29.0,21.0,2.0,43.0,28.0,31.0,23.0,26.0,43.0,28.0,24.0,27.0,13.0,27.0,2.0,24.0,2.0,50.0,27.0,26.0,31.0,28.0,4.0,9.0,0.0,35.0,3.0,25.0,63.0,34.0,35.0,26.0,39.0,34.0,36.0,46.0,26.0,28.0,20.0,35.0,11.0,14.0,4.0,11.0,31.0,15.0,39.0,7.0,24.0,22.0,26.0,53.0,40.0,19.0,54.0,21.0,25.0,48.0,41.0,13.0,57.0,25.0,48.0,34.0,16.0,0.0,15.0,37.0,37.0,49.0,18.0,25.0,null,43.0,20.0,54.0,30.0,37.0,30.0,20.0,20.0,24.0,44.0,0.0,15.0,19.0,20.0,20.0,34.0,17.0,20.0,42.0,28.0,43.0,55.0,21.0,17.0,54.0,25.0,null,45.0,31.0,19.0,30.0,24.0,null,42.0,29.0,37.0,64.0,24.0,23.0,22.0,23.0,21.0,37.0,17.0,35.0,33.0,37.0,32.0,31.0,null,34.0,9.0,25.0,29.0,1.0,30.0,64.0,31.0,27.0,null,25.0,28.0,32.0,36.0,26.0,36.0,37.0,45.0,22.0,24.0,23.0,31.0,37.0,28.0,23.0,14.0,40.0,42.0,53.0,46.0,28.0,25.0,34.0,58.0,31.0,24.0,52.0,25.0,17.0,27.0,29.0,45.0,28.0,25.0,57.0,68.0,26.0,52.0,36.0,41.0,14.0,16.0,24.0,62.0,26.0,45.0,41.0,36.0,13.0,48.0,null,22.0,39.0,45.0,42.0,33.0,27.0,47.0,20.0,32.0,54.0,23.0,9.0,17.0,26.0,38.0,24.0,30.0,2.0,4.0,9.0,30.0,5.0,2.0,32.0,53.0,46.0,2.0,1.0,11.0,3.0,33.0,3.0,38.0,21.0,41.0,64.0,27.0,41.0,19.0,42.0,30.0,38.0,63.0,17.0,2.0,19.0,37.0,50.0,38.0,28.0,35.0,27.0,15.0,29.0,65.0,27.0,0.0,21.0,19.0,39.0,60.0,30.0,30.0,40.0,26.0,38.0,22.0,null,65.0,61.0,20.0,24.0,16.0,35.0,21.0,23.0,17.0,24.0,27.0,26.0,26.0,20.0,28.0,37.0,23.0,49.0,50.0,4.0,32.0,44.0,20.0,30.0,29.0,22.0,35.0,0.0,6.0,38.0,34.0,34.0,null,53.0,28.0,31.0,56.0,36.0,30.0,32.0,44.0,54.0,24.0,44.0,25.0,35.0,29.0,22.0,22.0,22.0,18.0,22.0,52.0,0.0,1.0,34.0,6.0,22.0,31.0,31.0,20.0,25.0,23.0,53.0,32.0,27.0,48.0,37.0,21.0,29.0,46.0,19.0,22.0,54.0,43.0,18.0,36.0,20.0,63.0,50.0,13.0,43.0,16.0,31.0,0.0,10.0,10.0,55.0,18.0,7.0,1.0,44.0,27.0,20.0,49.0,22.0,21.0,26.0,65.0,20.0,0.0,16.0,22.0,0.0,21.0,30.0,14.0,45.0,22.0,21.0,37.0,29.0,29.0,21.0,52.0,36.0,59.0,21.0,25.0,23.0,36.0,38.0,0.0,19.0,30.0,23.0,55.0,44.0,30.0,39.0,19.0,24.0,37.0,24.0,17.0,17.0,14.0,13.0,35.0,32.0,18.0,21.0,25.0,36.0,20.0,22.0,27.0,null,38.0,23.0,21.0,18.0,20.0,28.0,57.0,10.0,23.0,22.0,24.0,52.0,31.0,15.0,40.0,18.0,28.0,40.0,32.0,35.0,52.0,34.0,46.0,23.0,44.0,59.0,42.0,18.0,29.0,15.0,19.0,49.0,19.0,36.0,59.0,24.0,4.0,20.0,24.0,31.0,23.0,3.0,22.0,20.0,0.0,13.0,47.0,51.0,22.0,3.0,4.0,16.0,24.0,1.0,31.0,34.0,20.0,19.0,19.0,35.0,3.0,36.0,20.0,null,58.0,56.0,27.0,25.0,39.0,43.0,42.0,24.0,19.0,32.0,32.0,61.0,64.0,21.0,26.0,35.0,43.0,3.0,56.0,45.0,25.0,12.0,2.0,46.0,32.0,20.0,24.0,28.0,12.0,11.0,16.0,29.0,24.0,22.0,21.0,38.0,35.0,79.0,22.0,42.0,34.0,52.0,43.0,30.0,35.0,18.0,27.0,46.0,15.0,44.0,20.0,35.0,19.0,47.0,26.0,24.0,23.0,26.0,5.0,35.0,18.0,32.0,13.0,15.0,18.0,41.0,36.0,33.0,41.0,47.0,32.0,36.0,13.0,34.0,24.0,16.0,12.0,24.0,35.0,26.0,39.0,18.0,23.0,29.0,38.0,31.0,49.0,17.0,23.0,15.0,11.0,30.0,42.0,21.0,41.0,14.0,27.0,29.0,25.0,54.0,46.0,18.0,22.0,29.0,26.0,36.0,19.0,56.0,20.0,10.0,14.0,27.0,35.0,13.0,21.0,22.0,29.0,32.0,20.0,44.0,22.0,39.0,19.0,0.0,0.0,12.0,7.0,32.0,11.0,18.0,49.0,61.0,7.0,25.0,51.0,56.0,31.0,16.0,29.0,17.0,47.0,25.0,28.0,32.0,56.0,25.0,13.0,41.0,28.0,25.0,11.0,20.0,24.0,41.0,29.0,59.0,31.0,16.0,65.0,21.0,27.0,37.0,42.0,36.0,24.0,null,19.0,26.0,19.0,26.0,35.0,24.0,9.0,40.0,23.0,4.0,20.0,21.0,4.0,19.0,18.0,26.0,13.0,16.0,14.0,40.0,34.0,21.0,29.0,40.0,16.0,37.0,41.0,16.0,39.0,30.0,40.0,63.0,32.0,47.0,23.0,23.0,19.0,44.0,29.0,21.0,23.0,26.0,47.0,20.0,48.0,4.0,25.0,0.0,29.0,21.0,20.0,34.0,9.0,12.0,13.0,27.0,34.0,18.0,16.0,43.0,0.0,20.0,45.0,35.0,21.0,14.0,46.0,22.0,2.0,3.0,28.0,60.0,48.0,18.0,31.0,26.0,41.0,26.0,29.0,24.0,25.0,0.0,30.0,18.0,32.0,28.0,21.0,25.0,47.0,null,8.0,24.0,30.0,24.0,13.0,16.0,23.0,16.0,29.0,46.0,13.0,22.0,29.0,46.0,24.0,33.0,38.0,57.0,null,38.0,28.0,25.0,22.0,33.0,35.0,24.0,31.0,16.0,28.0,8.0,20.0,26.0,43.0,70.0,17.0,14.0,21.0,37.0,15.0,20.0,36.0,14.0,21.0,28.0,20.0,26.0,25.0,29.0,39.0,18.0,37.0,28.0,18.0,30.0,35.0,26.0,0.0,42.0,36.0,31.0,27.0,25.0,32.0,14.0,16.0,51.0,21.0,31.0,9.0,7.0,3.0,2.0,7.0,18.0,33.0,23.0,13.0,32.0,27.0,23.0,25.0,18.0,23.0,31.0,32.0,22.0,38.0,21.0,28.0,38.0,20.0,23.0,48.0,15.0,30.0,40.0,36.0,20.0,17.0,38.0,38.0,14.0,null,21.0,18.0,26.0,35.0,46.0,13.0,39.0,49.0,28.0,27.0,21.0,29.0,27.0,38.0,18.0,35.0,37.0,60.0,31.0,4.0,34.0,46.0,18.0,38.0,29.0,13.0,26.0,30.0,42.0,36.0,23.0,34.0,26.0,31.0,48.0,10.0,27.0,32.0,24.0,20.0,48.0,35.0,14.0,28.0,null,42.0,8.0,30.0,44.0,40.0,38.0,22.0,32.0,16.0,33.0,38.0,23.0,16.0,16.0,11.0,22.0,43.0,20.0,22.0,0.0,30.0,18.0,0.0,41.0,39.0,37.0,26.0,49.0,28.0,13.0,64.0,24.0,18.0,18.0,25.0,19.0,33.0,null,50.0,30.0,44.0,52.0,7.0,30.0,27.0,24.0,13.0,61.0,32.0,17.0,36.0,16.0,21.0,24.0,28.0,null,13.0,39.0,24.0,38.0,20.0,21.0,27.0,49.0,6.0,41.0,33.0,6.0,35.0,46.0,31.0,32.0,31.0,20.0,57.0,37.0,21.0,43.0,49.0,17.0,29.0,36.0,37.0,17.0,45.0,20.0,24.0,28.0,15.0,53.0,51.0,14.0,1.0,26.0,20.0,23.0,22.0,22.0,13.0,28.0,40.0,21.0,35.0,22.0,37.0,21.0,50.0,27.0,20.0,15.0,25.0,31.0,null,18.0,2.0,27.0,0.0,22.0,null,56.0,28.0,42.0,20.0,27.0,29.0,36.0,23.0,64.0,19.0,1.0,49.0,0.0,18.0,39.0,37.0,44.0,43.0,33.0,20.0,0.0,4.0,20.0,50.0,47.0,17.0,26.0,21.0,20.0,26.0,null,34.0,11.0,0.0,28.0,33.0,22.0,28.0,11.0,60.0,43.0,27.0,37.0,23.0,57.0,29.0,28.0,42.0,43.0,26.0,72.0,49.0,29.0,18.0,26.0,19.0,18.0,14.0,44.0,34.0,18.0,36.0,27.0,35.0,52.0,22.0,34.0,37.0,22.0,26.0,14.0,53.0,17.0,30.0,65.0,19.0,36.0,3.0,6.0,4.0,21.0,8.0,35.0,18.0,34.0,45.0,31.0,14.0,23.0,61.0,54.0,28.0,46.0,32.0,49.0,20.0,25.0,19.0,28.0,68.0,16.0,19.0,49.0,15.0,26.0,22.0,23.0,31.0,27.0,28.0,20.0,43.0,22.0,27.0,35.0,37.0,24.0,18.0,15.0,28.0,24.0,39.0,35.0,52.0,48.0,27.0,50.0,24.0,26.0,24.0,15.0,42.0,51.0,43.0,31.0,14.0,31.0,33.0,21.0,13.0,29.0,22.0,22.0,18.0,35.0,20.0,18.0,66.0,33.0,48.0,38.0,62.0,19.0,44.0,25.0,15.0,20.0,34.0,23.0,45.0,39.0,33.0,14.0,26.0,47.0,null,28.0,22.0,17.0,16.0,9.0,15.0,33.0,61.0,19.0,61.0,42.0,4.0,12.0,0.0,19.0,null,29.0,59.0,20.0,70.0,3.0,37.0,58.0,44.0,24.0,20.0,24.0,27.0,28.0,24.0,29.0,25.0,20.0,34.0,28.0,null,23.0,39.0,35.0,18.0,20.0,42.0,32.0,50.0,23.0,19.0,29.0,35.0,18.0,24.0,23.0,51.0,42.0,19.0,23.0,19.0,22.0,25.0,31.0,23.0,22.0,55.0,40.0,24.0,25.0,42.0,33.0,54.0,22.0,22.0,19.0,47.0,23.0,61.0,21.0,46.0,36.0,15.0,33.0,35.0,21.0,21.0,43.0,34.0,47.0,27.0,46.0,46.0,40.0,59.0,45.0,19.0,32.0,39.0,40.0,44.0,26.0,22.0,2.0,18.0,53.0,22.0,46.0,28.0,31.0,36.0,46.0,0.0,3.0,12.0,2.0,41.0,11.0,41.0,17.0,21.0,21.0,27.0,54.0,15.0,39.0,31.0,28.0,21.0,29.0,45.0,44.0,12.0,18.0,20.0,43.0,46.0,53.0,21.0,23.0,9.0,19.0,52.0,31.0,62.0,27.0,23.0,28.0,27.0,58.0,24.0,27.0,33.0,28.0,39.0,27.0,36.0,64.0,41.0,null,27.0,null,22.0,23.0,40.0,2.0,0.0,27.0,0.0,17.0,45.0,62.0,14.0,24.0,51.0,49.0,52.0,35.0,22.0,17.0,47.0,25.0,11.0,17.0,41.0,55.0,29.0,19.0,23.0,32.0,27.0,25.0,24.0,30.0,50.0,51.0,27.0,35.0,48.0,27.0,19.0,18.0,25.0,41.0,62.0,30.0,6.0,15.0,34.0,34.0,23.0,51.0,63.0,42.0,19.0,5.0,2.0,15.0,36.0,32.0,19.0,26.0,33.0,38.0,22.0,32.0,30.0,51.0,29.0,16.0,32.0,24.0,23.0,46.0,49.0,17.0,35.0,43.0,20.0,24.0,28.0,19.0,39.0,34.0,29.0,14.0,null,30.0,null,32.0,7.0,34.0,47.0,19.0,52.0,19.0,18.0,32.0,21.0,22.0,13.0,25.0,33.0,27.0,21.0,17.0,15.0,58.0,29.0,34.0,28.0,29.0,25.0,23.0,22.0,38.0,38.0,0.0,null,0.0,37.0,2.0,40.0,47.0,34.0,43.0,21.0,43.0,33.0,28.0,57.0,null,46.0,19.0,27.0,2.0,0.0,25.0,47.0,38.0,24.0,24.0,25.0,29.0,44.0,20.0,23.0,26.0,20.0,27.0,23.0,33.0,30.0,32.0,19.0,41.0,50.0,36.0,21.0,45.0,26.0,44.0,24.0,15.0,58.0,13.0,19.0,25.0,24.0,20.0,34.0,13.0,null,39.0,0.0,10.0,9.0,34.0,11.0,0.0,24.0,16.0,42.0,41.0,36.0,27.0,32.0,11.0,26.0,28.0,25.0,5.0,null,13.0,30.0,15.0,0.0,49.0,52.0,15.0,40.0,0.0,32.0,15.0,26.0,31.0,8.0,18.0,3.0,44.0,15.0,27.0,22.0,2.0,32.0,16.0,34.0,32.0,28.0,27.0,35.0,25.0,24.0,61.0,28.0,29.0,41.0,20.0,18.0,28.0,18.0,33.0,35.0,68.0,19.0,33.0,55.0,15.0,23.0,23.0,15.0,49.0,33.0,26.0,26.0,18.0,17.0,39.0,8.0,46.0,32.0,19.0,36.0,28.0,39.0,16.0,7.0,1.0,30.0,44.0,28.0,29.0,41.0,13.0,18.0,27.0,26.0,24.0,26.0,27.0,58.0,54.0,18.0,13.0,13.0,28.0,57.0,32.0,32.0,21.0,34.0,33.0,36.0,50.0,28.0,56.0,42.0,39.0,13.0,28.0,55.0,36.0,null,37.0,50.0,27.0,23.0,16.0,33.0,46.0,26.0,24.0,26.0,2.0,33.0,32.0,3.0,2.0,6.0,null,0.0,4.0,58.0,22.0,51.0,37.0,17.0,21.0,null,null,31.0,43.0,null,15.0,18.0,33.0,31.0,41.0,22.0,40.0,49.0,14.0,22.0,22.0,25.0,42.0,16.0,12.0,18.0,33.0,14.0,36.0,23.0,24.0,4.0,null,18.0,21.0,27.0,34.0,28.0,35.0,16.0,36.0,30.0,4.0,19.0,3.0,51.0,null,45.0,18.0,23.0,15.0,34.0,47.0,27.0,26.0,25.0,34.0,27.0,39.0,31.0,4.0,19.0,59.0,19.0,25.0,28.0,37.0,43.0,18.0,36.0,14.0,42.0,29.0,23.0,16.0,8.0,20.0,50.0,38.0,39.0,33.0,30.0,40.0,22.0,52.0,26.0,19.0,33.0,33.0,20.0,28.0,10.0,23.0,28.0,23.0,54.0,57.0,24.0,37.0,59.0,53.0,22.0,18.0,17.0,25.0,18.0,20.0,24.0,33.0,34.0,24.0,37.0,23.0,32.0,13.0,23.0,23.0,27.0,47.0,38.0,28.0,21.0,null,64.0,43.0,21.0,36.0,22.0,24.0,21.0,57.0,46.0,42.0,16.0,40.0,3.0,8.0,3.0,35.0,12.0,null,47.0,19.0,46.0,28.0,5.0,7.0,3.0,1.0,7.0,60.0,34.0,28.0,64.0,13.0,15.0,65.0,53.0,58.0,19.0,null,16.0,48.0,33.0,31.0,44.0,40.0,34.0,21.0,20.0,9.0,33.0,2.0,53.0,0.0,38.0,21.0,31.0,7.0,12.0,0.0,17.0,55.0,2.0,32.0,16.0,0.0,29.0,25.0,39.0,42.0,0.0,14.0,29.0,54.0,35.0,null,18.0,14.0,53.0,48.0,21.0,44.0,25.0,0.0,27.0,40.0,44.0,36.0,3.0,9.0,1.0,17.0,47.0,null,33.0,16.0,30.0,18.0,26.0,19.0,28.0,35.0,40.0,26.0,45.0,18.0,54.0,13.0,26.0,16.0,37.0,17.0,16.0,18.0,21.0,24.0,22.0,41.0,15.0,36.0,23.0,31.0,19.0,23.0,47.0,40.0,34.0,2.0,8.0,0.0,18.0,11.0,18.0,19.0,2.0,25.0,0.0,27.0,34.0,19.0,22.0,22.0,52.0,30.0,65.0,31.0,51.0,21.0,27.0,31.0,28.0,29.0,23.0,11.0,23.0,34.0,20.0,20.0,16.0,18.0,20.0,20.0,27.0,55.0,53.0,37.0,55.0,24.0,24.0,49.0,17.0,39.0,5.0,10.0,1.0,16.0,51.0,5.0,19.0,0.0,20.0,0.0,1.0,38.0,40.0,18.0,36.0,23.0,42.0,37.0,24.0,12.0,2.0,28.0,44.0,26.0,36.0,28.0,14.0,14.0,28.0,27.0,21.0,24.0,18.0,24.0,8.0,36.0,32.0,19.0,12.0,21.0,13.0,20.0,35.0,23.0,17.0,29.0,27.0,22.0,26.0,1.0,7.0,78.0,24.0,26.0,50.0,16.0,57.0,29.0,27.0,42.0,28.0,18.0,38.0,32.0,21.0,6.0,27.0,32.0,23.0,29.0,22.0,31.0,0.0,2.0,null,28.0,20.0,28.0,42.0,32.0,19.0,20.0,20.0,21.0,32.0,16.0,21.0,12.0,21.0,31.0,18.0,35.0,44.0,13.0,21.0,37.0,null,34.0,21.0,38.0,31.0,61.0,20.0,39.0,29.0,68.0,38.0,31.0,41.0,29.0,25.0,27.0,21.0,30.0,40.0,59.0,35.0,41.0,36.0,58.0,27.0,24.0,50.0,22.0,26.0,16.0,56.0,25.0,13.0,53.0,21.0,18.0,38.0,20.0,24.0,56.0,47.0,21.0,null,26.0,34.0,35.0,35.0,49.0,24.0,62.0,25.0,42.0,25.0,21.0,17.0,41.0,50.0,20.0,15.0,29.0,20.0,35.0,22.0,43.0,54.0,15.0,38.0,44.0,34.0,15.0,24.0,29.0,19.0,27.0,26.0,46.0,64.0,17.0,45.0,27.0,29.0,18.0,26.0,39.0,59.0,20.0,17.0,47.0,29.0,16.0,48.0,39.0,28.0,12.0,24.0,30.0,34.0,37.0,47.0,0.0,23.0,0.0,20.0,35.0,18.0,17.0,18.0,53.0,35.0,48.0,68.0,27.0,28.0,37.0,35.0,31.0,14.0,1.0,4.0,30.0,11.0,45.0,29.0,32.0,15.0,25.0,25.0,60.0,24.0,35.0,36.0,22.0,32.0,57.0,30.0,46.0,28.0,26.0,55.0,66.0,20.0,31.0,13.0,50.0,21.0,25.0,46.0,0.0,2.0,36.0,19.0,35.0,41.0,22.0,25.0,24.0,37.0,5.0,null,41.0,44.0,23.0,28.0,27.0,40.0,27.0,17.0,32.0,29.0,29.0,41.0,48.0,27.0,14.0,32.0,47.0,14.0,37.0,33.0,33.0,44.0,37.0,18.0,33.0,21.0,38.0,16.0,58.0,41.0,28.0,28.0,31.0,27.0,7.0,25.0,34.0,21.0,29.0,23.0,31.0,50.0,25.0,25.0,23.0,46.0,0.0,53.0,25.0,30.0,18.0,20.0,54.0,20.0,32.0,31.0,55.0,16.0,0.0,3.0,33.0,45.0,6.0,33.0,14.0,24.0,47.0,37.0,14.0,44.0,11.0,15.0,39.0,15.0,60.0,49.0,23.0,9.0,0.0,17.0,42.0,16.0,0.0,26.0,56.0,26.0,41.0,27.0,31.0,40.0,40.0,15.0,50.0,42.0,50.0,39.0,27.0,20.0,30.0,16.0,36.0,68.0,22.0,36.0,3.0,28.0,32.0,10.0,0.0,9.0,37.0,31.0,31.0,43.0,15.0,58.0,30.0,24.0,49.0,73.0,14.0,50.0,12.0,2.0,49.0,32.0,null,33.0,23.0,23.0,43.0,36.0,26.0,29.0,21.0,30.0,23.0,13.0,22.0,25.0,52.0,22.0,31.0,23.0,35.0,26.0,14.0,39.0,8.0,29.0,15.0,48.0,9.0,25.0,13.0,25.0,27.0,32.0,20.0,40.0,18.0,21.0,38.0,62.0,23.0,48.0,27.0,32.0,53.0,26.0,46.0,32.0,40.0,27.0,28.0,29.0,37.0,0.0,12.0,25.0,null,3.0,9.0,27.0,59.0,24.0,16.0,16.0,46.0,25.0,39.0,15.0,16.0,35.0,43.0,7.0,29.0,60.0,49.0,50.0,40.0,49.0,18.0,29.0,56.0,29.0,29.0,22.0,24.0,23.0,28.0,19.0,32.0,37.0,26.0,43.0,25.0,11.0,4.0,32.0,15.0,17.0,37.0,20.0,47.0,16.0,8.0,22.0,39.0,57.0,29.0,null,70.0,13.0,49.0,25.0,19.0,15.0,37.0,null,28.0,22.0,26.0,25.0,19.0,20.0,35.0,37.0,37.0,13.0,20.0,65.0,29.0,0.0,4.0,19.0,17.0,28.0,28.0,21.0,45.0,21.0,20.0,38.0,24.0,22.0,44.0,41.0,21.0,26.0,54.0,19.0,32.0,null,26.0,28.0,21.0,38.0,43.0,12.0,25.0,27.0,22.0,20.0,24.0,34.0,42.0,24.0,28.0,29.0,31.0,29.0,14.0,16.0,16.0,27.0,null,23.0,16.0,30.0,24.0,36.0,25.0,29.0,21.0,26.0,30.0,31.0,20.0,null,33.0,35.0,46.0,63.0,37.0,23.0,5.0,16.0,20.0,49.0,3.0,41.0,null,14.0,26.0,51.0,36.0,16.0,18.0,48.0,24.0,19.0,21.0,24.0,21.0,13.0,39.0,27.0,23.0,43.0,19.0,30.0,52.0,35.0,16.0,21.0,45.0,22.0,null,0.0,63.0,56.0,40.0,1.0,24.0,36.0,13.0,13.0,37.0,44.0,32.0,57.0,26.0,62.0,2.0,1.0,24.0,1.0,63.0,20.0,15.0,32.0,24.0,32.0,36.0,13.0,29.0,27.0,30.0,27.0,14.0,32.0,33.0,35.0,21.0,57.0,42.0,20.0,18.0,49.0,23.0,24.0,24.0,23.0,24.0,26.0,28.0,17.0,20.0,22.0,23.0,22.0,29.0,null,31.0,37.0,44.0,34.0,23.0,18.0,18.0,23.0,18.0,22.0,10.0,null,31.0,48.0,51.0,25.0,32.0,8.0,49.0,28.0,3.0,null,31.0,11.0,27.0,33.0,32.0,20.0,33.0,65.0,18.0,19.0,33.0,null,31.0,37.0,19.0,18.0,47.0,26.0,25.0,38.0,53.0,38.0,28.0,46.0,18.0,14.0,32.0,44.0,28.0,2.0,28.0,27.0,29.0,14.0,14.0,17.0,35.0,36.0,51.0,54.0,37.0,37.0,24.0,null,38.0,28.0,0.0,16.0,25.0,22.0,24.0,37.0,21.0,53.0,0.0,2.0,64.0,24.0,40.0,32.0,54.0,30.0,37.0,20.0,22.0,57.0,34.0,51.0,47.0,22.0,36.0,16.0,60.0,39.0,18.0,30.0,45.0,30.0,21.0,0.0,51.0,22.0,26.0,10.0,21.0,14.0,null,43.0,22.0,22.0,23.0,25.0,35.0,30.0,37.0,21.0,36.0,13.0,22.0,36.0,17.0,38.0,34.0,20.0,17.0,36.0,52.0,32.0,35.0,null,36.0,36.0,21.0,33.0,40.0,24.0,35.0,29.0,33.0,51.0,10.0,41.0,26.0,39.0,14.0,28.0,18.0,41.0,33.0,26.0,31.0,63.0,30.0,27.0,47.0,37.0,14.0,27.0,61.0,39.0,22.0,30.0,26.0,25.0,42.0,33.0,60.0,16.0,50.0,22.0,15.0,27.0,58.0,48.0,36.0,60.0,46.0,58.0,40.0,3.0,23.0,21.0,29.0,23.0,41.0,20.0,24.0,21.0,55.0,21.0,42.0,40.0,30.0,26.0,43.0,20.0,19.0,40.0,17.0,62.0,32.0,37.0,40.0,25.0,17.0,46.0,38.0,43.0,28.0,31.0,35.0,19.0,24.0,20.0,16.0,45.0,19.0,23.0,19.0,32.0,41.0,30.0,41.0,7.0,39.0,47.0,21.0,29.0,19.0,50.0,28.0,38.0,24.0,31.0,38.0,26.0,28.0,45.0,47.0,60.0,42.0,43.0,17.0,17.0,20.0,18.0,24.0,25.0,20.0,23.0,48.0,26.0,36.0,27.0,41.0,21.0,71.0,64.0,33.0,24.0,35.0,13.0,11.0,null,43.0,36.0,22.0,56.0,34.0,46.0,43.0,25.0,26.0,14.0,63.0,29.0,45.0,15.0,19.0,53.0,45.0,41.0,68.0,5.0,27.0,20.0,54.0,18.0,45.0,26.0,37.0,30.0,51.0,3.0,3.0,19.0,19.0,6.0,4.0,23.0,37.0,18.0,29.0,25.0,52.0,24.0,0.0,25.0,26.0,32.0,58.0,44.0,41.0,24.0,41.0,23.0,27.0,61.0,18.0,18.0,null,15.0,12.0,40.0,19.0,18.0,48.0,37.0,35.0,29.0,54.0,null,22.0,18.0,26.0,19.0,22.0,17.0,18.0,39.0,37.0,17.0,25.0,9.0,15.0,19.0,18.0,50.0,14.0,19.0,33.0,23.0,39.0,14.0,14.0,45.0,22.0,36.0,19.0,59.0,31.0,31.0,39.0,28.0,19.0,29.0,0.0,15.0,18.0,49.0,36.0,40.0,56.0,67.0,44.0,17.0,27.0,23.0,28.0,54.0,26.0,40.0,39.0,40.0,20.0,18.0,17.0,35.0,31.0,40.0,50.0,21.0,29.0,63.0,19.0,36.0,48.0,33.0,28.0,39.0,27.0,58.0,44.0,23.0,21.0,53.0,14.0,17.0,25.0,44.0,24.0,24.0,24.0,0.0,7.0,3.0,18.0,4.0,40.0,16.0,25.0,10.0,40.0,19.0,15.0,24.0,21.0,29.0,37.0,49.0,42.0,54.0,33.0,27.0,53.0,28.0,24.0,20.0,0.0,24.0,28.0,42.0,32.0,36.0,40.0,30.0,34.0,37.0,41.0,25.0,39.0,0.0,54.0,16.0,0.0,13.0,46.0,23.0,18.0,27.0,24.0,27.0,24.0,25.0,30.0,19.0,18.0,49.0,64.0,26.0,53.0,27.0,27.0,25.0,33.0,27.0,20.0,39.0,27.0,19.0,22.0,3.0,24.0,41.0,18.0,63.0,19.0,39.0,null,41.0,44.0,39.0,29.0,37.0,41.0,18.0,null,55.0,21.0,28.0,43.0,32.0,23.0,5.0,14.0,24.0,22.0,14.0,20.0,17.0,20.0,22.0,15.0,67.0,28.0,57.0,21.0,34.0,17.0,33.0,33.0,28.0,18.0,28.0,13.0,38.0,39.0,18.0,43.0,32.0,29.0,45.0,25.0,64.0,18.0,44.0,15.0,21.0,33.0,3.0,19.0,37.0,24.0,26.0,26.0,26.0,22.0,26.0,27.0,27.0,37.0,22.0,24.0,23.0,18.0,28.0,4.0,23.0,2.0,46.0,0.0,16.0,19.0,34.0,34.0,24.0,28.0,44.0,35.0,20.0,18.0,43.0,48.0,46.0,75.0,24.0,34.0,29.0,46.0,22.0,42.0,46.0,15.0,42.0,31.0,9.0,34.0,21.0,16.0,40.0,23.0,6.0,17.0,37.0,30.0,32.0,41.0,43.0,17.0,37.0,18.0,1.0,38.0,25.0,6.0,1.0,7.0,24.0,19.0,26.0,49.0,18.0,25.0,46.0,33.0,10.0,38.0,23.0,26.0,16.0,29.0,35.0,58.0,17.0,16.0,2.0,13.0,18.0,29.0,21.0,43.0,69.0,40.0,1.0,36.0,60.0,17.0,49.0,23.0,39.0,53.0,26.0,31.0,48.0,26.0,25.0,25.0,30.0,null,23.0,24.0,47.0,37.0,24.0,21.0,42.0,39.0,28.0,32.0,31.0,13.0,41.0,21.0,null,9.0,36.0,30.0,27.0,40.0,41.0,16.0,36.0,15.0,39.0,21.0,24.0,28.0,47.0,55.0,null,22.0,26.0,62.0,53.0,29.0,21.0,18.0,34.0,19.0,14.0,21.0,55.0,18.0,33.0,35.0,31.0,27.0,null,13.0,24.0,22.0,32.0,18.0,53.0,4.0,24.0,23.0,1.0,18.0,21.0,40.0,49.0,25.0,21.0,40.0,47.0,25.0,36.0,39.0,26.0,0.0,14.0,7.0,50.0,22.0,17.0,35.0,22.0,26.0,24.0,59.0,24.0,17.0,28.0,38.0,2.0,36.0,32.0,15.0,54.0,18.0,22.0,23.0,14.0,26.0,73.0,29.0,29.0,12.0,27.0,31.0,26.0,35.0,25.0,40.0,18.0,52.0,35.0,51.0,35.0,14.0,null,26.0,21.0,45.0,29.0,39.0,37.0,22.0,22.0,30.0,1.0,0.0,9.0,18.0,29.0,52.0,27.0,54.0,28.0,65.0,26.0,29.0,20.0,39.0,37.0,20.0,40.0,0.0,33.0,23.0,32.0,20.0,60.0,53.0,26.0,35.0,19.0,43.0,29.0,20.0,19.0,21.0,39.0,12.0,20.0,18.0,31.0,35.0,44.0,62.0,23.0,23.0,19.0,29.0,31.0,33.0,41.0,60.0,41.0,69.0,44.0,18.0,26.0,30.0,34.0,18.0,49.0,71.0,19.0,23.0,31.0,40.0,28.0,17.0,24.0,54.0,21.0,2.0,20.0,20.0,36.0,25.0,58.0,37.0,26.0,45.0,44.0,24.0,13.0,4.0,24.0,27.0,39.0,23.0,4.0,0.0,22.0,27.0,22.0,26.0,60.0,18.0,20.0,25.0,24.0,38.0,18.0,45.0,13.0,28.0,5.0,20.0,2.0,42.0,0.0,18.0,26.0,3.0,49.0,19.0,19.0,15.0,53.0,0.0,39.0,45.0,10.0,1.0,9.0,40.0,26.0,18.0,47.0,31.0,null,23.0,32.0,32.0,21.0,null,22.0,18.0,28.0,38.0,46.0,44.0,38.0,28.0,31.0,18.0,18.0,4.0,0.0,0.0,23.0,35.0,43.0,18.0,18.0,18.0,49.0,19.0,22.0,4.0,0.0,null,39.0,36.0,53.0,23.0,24.0,25.0,30.0,20.0,40.0,18.0,57.0,47.0,26.0,29.0,32.0,30.0,18.0,49.0,33.0,18.0,29.0,34.0,43.0,18.0,31.0,15.0,3.0,37.0,1.0,27.0,15.0,33.0,65.0,19.0,30.0,37.0,15.0,19.0,20.0,19.0,21.0,20.0,18.0,27.0,23.0,25.0,72.0,35.0,29.0,11.0,7.0,null,28.0,41.0,null,19.0,8.0,4.0,38.0,21.0,18.0,10.0,29.0,25.0,40.0,19.0,38.0,19.0,0.0,4.0,29.0,46.0,32.0,26.0,23.0,32.0,31.0,34.0,45.0,61.0,21.0,null,15.0,14.0,18.0,39.0,62.0,40.0,21.0,12.0,27.0,28.0,0.0,17.0,23.0,6.0,29.0,41.0,27.0,34.0,36.0,30.0,30.0,29.0,21.0,21.0,18.0,11.0,65.0,25.0,0.0,24.0,19.0,23.0,45.0,52.0,55.0,24.0,31.0,18.0,22.0,39.0,19.0,33.0,14.0,30.0,30.0,21.0,45.0,17.0,39.0,22.0,37.0,48.0,33.0,37.0,27.0,29.0,38.0,16.0,18.0,null,47.0,15.0,13.0,19.0,17.0,31.0,19.0,25.0,26.0,25.0,2.0,7.0,2.0,19.0,1.0,4.0,49.0,61.0,57.0,52.0,22.0,37.0,15.0,28.0,40.0,13.0,24.0,25.0,25.0,43.0,46.0,3.0,3.0,3.0,8.0,57.0,11.0,20.0,27.0,20.0,14.0,24.0,21.0,33.0,32.0,22.0,15.0,41.0,31.0,35.0,48.0,15.0,37.0,21.0,34.0,19.0,52.0,15.0,24.0,45.0,13.0,18.0,19.0,20.0,20.0,27.0,22.0,17.0,23.0,29.0,24.0,26.0,36.0,25.0,36.0,32.0,16.0,32.0,48.0,25.0,46.0,32.0,50.0,31.0,27.0,52.0,34.0,40.0,36.0,19.0,33.0,23.0,57.0,24.0,19.0,54.0,28.0,26.0,43.0,39.0,21.0,24.0,35.0,61.0,21.0,14.0,38.0,23.0,31.0,66.0,56.0,21.0,49.0,21.0,27.0,23.0,27.0,49.0,38.0,60.0,47.0,29.0,19.0,32.0,22.0,35.0,28.0,22.0,42.0,37.0,31.0,33.0,48.0,31.0,18.0,44.0,22.0,18.0,48.0,2.0,0.0,43.0,51.0,48.0,51.0,20.0,41.0,27.0,56.0,26.0,21.0,null,23.0,28.0,40.0,39.0,16.0,20.0,24.0,45.0,33.0,19.0,15.0,18.0,21.0,37.0,53.0,19.0,17.0,58.0,18.0,25.0,39.0,40.0,27.0,3.0,18.0,18.0,29.0,22.0,34.0,19.0,26.0,33.0,34.0,18.0,40.0,53.0,8.0,54.0,29.0,56.0,21.0,25.0,33.0,22.0,50.0,24.0,25.0,59.0,26.0,19.0,37.0,22.0,44.0,25.0,23.0,6.0,39.0,26.0,14.0,3.0,21.0,24.0,18.0,37.0,21.0,67.0,28.0,13.0,26.0,33.0,18.0,24.0,26.0,21.0,27.0,15.0,24.0,31.0,10.0,23.0,50.0,13.0,43.0,20.0,21.0,18.0,16.0,47.0,35.0,15.0,46.0,6.0,26.0,49.0,28.0,37.0,17.0,38.0,18.0,55.0,28.0,25.0,17.0,22.0,4.0,3.0,21.0,24.0,50.0,3.0,19.0,22.0,20.0,18.0,27.0,29.0,23.0,48.0,32.0,55.0,49.0,15.0,50.0,35.0,29.0,38.0,29.0,39.0,49.0,39.0,19.0,19.0,14.0,40.0,40.0,20.0,6.0,41.0,37.0,31.0,8.0,55.0,16.0,29.0,40.0,27.0,21.0,25.0,44.0,34.0,1.0,1.0,42.0,18.0,21.0,24.0,null,18.0,27.0,13.0,10.0,8.0,40.0,35.0,13.0,19.0,44.0,36.0,29.0,28.0,36.0,24.0,14.0,50.0,20.0,38.0,33.0,54.0,20.0,23.0,65.0,51.0,36.0,38.0,28.0,32.0,55.0,23.0,38.0,18.0,32.0,44.0,62.0,66.0,20.0,19.0,null,25.0,20.0,18.0,20.0,14.0,49.0,49.0,19.0,53.0,31.0,18.0,24.0,35.0,27.0,38.0,23.0,22.0,38.0,28.0,25.0,45.0,22.0,30.0,25.0,24.0,44.0,6.0,0.0,14.0,37.0,15.0,0.0,17.0,58.0,15.0,53.0,29.0,24.0,40.0,21.0,30.0,20.0,20.0,18.0,36.0,20.0,4.0,59.0,20.0,4.0,23.0,25.0,20.0,22.0,6.0,14.0,0.0,4.0,37.0,14.0,34.0,3.0,18.0,27.0,19.0,37.0,29.0,37.0,32.0,22.0,38.0,24.0,63.0,23.0,41.0,20.0,48.0,44.0,15.0,29.0,64.0,19.0,28.0,44.0,13.0,45.0,25.0,19.0,29.0,21.0,13.0,25.0,46.0,37.0,19.0,29.0,21.0,13.0,15.0,42.0,null,26.0,19.0,18.0,50.0,28.0,24.0,31.0,19.0,20.0,23.0,19.0,27.0,16.0,76.0,41.0,24.0,12.0,28.0,36.0,20.0,7.0,21.0,33.0,32.0,34.0,38.0,null,28.0,25.0,24.0,18.0,24.0,30.0,38.0,39.0,31.0,33.0,15.0,23.0,24.0,44.0,22.0,28.0,34.0,8.0,26.0,29.0,58.0,4.0,1.0,17.0,27.0,24.0,16.0,28.0,23.0,33.0,24.0,6.0,19.0,31.0,19.0,18.0,35.0,32.0,19.0,24.0,33.0,20.0,27.0,26.0,28.0,19.0,24.0,52.0,23.0,23.0,25.0,22.0,35.0,24.0,24.0,26.0,37.0,14.0,36.0,0.0,17.0,18.0,43.0,21.0,34.0,57.0,18.0,73.0,31.0,25.0,20.0,24.0,null,21.0,22.0,39.0,26.0,32.0,1.0,7.0,4.0,21.0,12.0,28.0,0.0,18.0,52.0,18.0,51.0,21.0,28.0,34.0,13.0,35.0,27.0,35.0,51.0,53.0,29.0,41.0,47.0,22.0,19.0,22.0,25.0,null,17.0,0.0,5.0,30.0,17.0,53.0,9.0,17.0,16.0,29.0,29.0,46.0,27.0,39.0,15.0,30.0,41.0,47.0,32.0,15.0,23.0,20.0,33.0,18.0,31.0,25.0,19.0,32.0,45.0,43.0,21.0,48.0,0.0,29.0,41.0,23.0,48.0,18.0,30.0,26.0,18.0,27.0,58.0,22.0,17.0,28.0,27.0,51.0,37.0,14.0,43.0,27.0,60.0,33.0,39.0,21.0,21.0,28.0,30.0,42.0,25.0,25.0,25.0,54.0,41.0,36.0,33.0,36.0,55.0,16.0,28.0,26.0,42.0,30.0,31.0,22.0,26.0,25.0,44.0,29.0,22.0,23.0,30.0,23.0,13.0,53.0,0.0,27.0,27.0,10.0,2.0,5.0,24.0,32.0,22.0,22.0,44.0,55.0,22.0,8.0,15.0,1.0,9.0,48.0,16.0,27.0,3.0,25.0,70.0,30.0,57.0,42.0,14.0,43.0,34.0,21.0,32.0,21.0,25.0,25.0,38.0,36.0,44.0,37.0,47.0,38.0,28.0,38.0,53.0,26.0,13.0,64.0,16.0,13.0,55.0,26.0,23.0,55.0,50.0,26.0,36.0,33.0,21.0,41.0,33.0,23.0,31.0,28.0,13.0,null,35.0,25.0,19.0,56.0,18.0,22.0,34.0,11.0,37.0,22.0,45.0,19.0,39.0,28.0,36.0,1.0,10.0,12.0,31.0,12.0,3.0,30.0,41.0,19.0,38.0,36.0,0.0,20.0,23.0,35.0,36.0,41.0,38.0,33.0,54.0,33.0,54.0,32.0,24.0,53.0,26.0,31.0,18.0,39.0,37.0,35.0,34.0,28.0,43.0,2.0,24.0,18.0,21.0,24.0,35.0,53.0,32.0,44.0,33.0,40.0,31.0,23.0,44.0,41.0,31.0,30.0,33.0,30.0,26.0,22.0,37.0,15.0,52.0,35.0,40.0,60.0,24.0,31.0,43.0,9.0,51.0,25.0,20.0,22.0,21.0,50.0,24.0,45.0,22.0,7.0,11.0,1.0,0.0,8.0,36.0,2.0,0.0,22.0,41.0,49.0,30.0,37.0,14.0,30.0,62.0,13.0,32.0,33.0,38.0,29.0,25.0,26.0,19.0,16.0,61.0,28.0,13.0,44.0,22.0,30.0,21.0,20.0,31.0,33.0,26.0,21.0,23.0,0.0,32.0,30.0,41.0,18.0,26.0,32.0,44.0],\"xaxis\":\"x\",\"yaxis\":\"y\",\"type\":\"histogram\"},{\"alignmentgroup\":\"True\",\"hovertemplate\":\"type=Train<br>Age=%{x}<extra></extra>\",\"legendgroup\":\"Train\",\"marker\":{\"color\":\"#58D68D\"},\"name\":\"Train\",\"notched\":true,\"offsetgroup\":\"Train\",\"showlegend\":false,\"x\":[39.0,24.0,58.0,33.0,16.0,44.0,26.0,28.0,35.0,14.0,34.0,45.0,32.0,48.0,28.0,31.0,27.0,24.0,45.0,0.0,14.0,1.0,49.0,29.0,10.0,1.0,7.0,21.0,62.0,15.0,34.0,43.0,32.0,47.0,2.0,20.0,28.0,23.0,15.0,20.0,30.0,17.0,45.0,55.0,4.0,21.0,21.0,19.0,35.0,56.0,null,25.0,2.0,38.0,27.0,36.0,22.0,62.0,15.0,33.0,62.0,0.0,18.0,21.0,null,42.0,19.0,17.0,14.0,37.0,42.0,27.0,28.0,38.0,13.0,42.0,2.0,8.0,24.0,40.0,43.0,45.0,35.0,26.0,27.0,19.0,0.0,3.0,54.0,26.0,26.0,23.0,2.0,31.0,18.0,24.0,9.0,6.0,27.0,21.0,23.0,31.0,0.0,32.0,40.0,42.0,28.0,29.0,48.0,64.0,27.0,26.0,33.0,39.0,13.0,24.0,29.0,18.0,67.0,35.0,61.0,45.0,22.0,19.0,36.0,19.0,47.0,13.0,34.0,35.0,24.0,26.0,31.0,20.0,56.0,50.0,42.0,null,38.0,41.0,22.0,26.0,17.0,57.0,17.0,35.0,13.0,27.0,31.0,24.0,19.0,32.0,58.0,21.0,38.0,38.0,19.0,0.0,3.0,20.0,24.0,37.0,25.0,56.0,49.0,11.0,1.0,8.0,39.0,2.0,23.0,0.0,39.0,25.0,36.0,52.0,18.0,15.0,35.0,47.0,45.0,null,51.0,29.0,null,19.0,24.0,29.0,11.0,17.0,13.0,35.0,21.0,21.0,38.0,19.0,2.0,0.0,13.0,25.0,16.0,1.0,15.0,21.0,23.0,33.0,21.0,41.0,16.0,42.0,20.0,24.0,16.0,21.0,32.0,58.0,24.0,30.0,27.0,32.0,43.0,42.0,37.0,35.0,33.0,18.0,21.0,43.0,14.0,46.0,33.0,21.0,33.0,47.0,54.0,30.0,29.0,21.0,24.0,21.0,60.0,22.0,26.0,26.0,28.0,39.0,13.0,47.0,63.0,null,50.0,35.0,45.0,19.0,21.0,29.0,22.0,14.0,42.0,57.0,39.0,28.0,19.0,19.0,26.0,17.0,43.0,9.0,40.0,50.0,24.0,57.0,16.0,23.0,23.0,28.0,23.0,23.0,18.0,18.0,67.0,60.0,null,49.0,0.0,26.0,35.0,24.0,20.0,18.0,21.0,59.0,13.0,43.0,29.0,19.0,2.0,32.0,33.0,25.0,29.0,29.0,44.0,2.0,19.0,0.0,18.0,38.0,5.0,31.0,30.0,15.0,27.0,22.0,36.0,14.0,23.0,18.0,36.0,41.0,50.0,32.0,26.0,15.0,33.0,null,26.0,61.0,24.0,30.0,24.0,24.0,41.0,20.0,22.0,63.0,18.0,21.0,79.0,56.0,13.0,33.0,32.0,31.0,26.0,18.0,38.0,23.0,28.0,34.0,0.0,14.0,23.0,49.0,14.0,18.0,27.0,48.0,31.0,61.0,18.0,45.0,22.0,30.0,30.0,32.0,43.0,17.0,23.0,20.0,39.0,35.0,31.0,21.0,16.0,60.0,18.0,42.0,68.0,22.0,59.0,null,37.0,3.0,31.0,31.0,29.0,20.0,46.0,29.0,43.0,17.0,27.0,47.0,45.0,17.0,10.0,56.0,39.0,40.0,40.0,34.0,32.0,35.0,32.0,26.0,25.0,26.0,22.0,22.0,24.0,32.0,11.0,22.0,19.0,34.0,74.0,28.0,42.0,43.0,55.0,19.0,6.0,7.0,28.0,15.0,24.0,31.0,22.0,1.0,50.0,34.0,14.0,19.0,null,36.0,34.0,25.0,36.0,16.0,30.0,37.0,15.0,36.0,27.0,27.0,12.0,22.0,27.0,13.0,27.0,28.0,21.0,39.0,28.0,14.0,27.0,46.0,27.0,21.0,21.0,42.0,22.0,10.0,43.0,42.0,18.0,54.0,24.0,64.0,18.0,53.0,23.0,39.0,59.0,32.0,55.0,21.0,50.0,55.0,null,35.0,null,55.0,23.0,42.0,35.0,47.0,null,34.0,46.0,26.0,1.0,null,33.0,34.0,49.0,22.0,28.0,null,36.0,30.0,49.0,38.0,31.0,17.0,26.0,23.0,24.0,23.0,24.0,32.0,43.0,23.0,42.0,29.0,40.0,37.0,61.0,33.0,19.0,21.0,4.0,12.0,44.0,22.0,33.0,32.0,28.0,28.0,31.0,13.0,14.0,33.0,null,23.0,36.0,22.0,19.0,42.0,30.0,16.0,55.0,55.0,19.0,null,18.0,21.0,65.0,55.0,50.0,49.0,22.0,33.0,3.0,0.0,33.0,48.0,5.0,23.0,53.0,18.0,20.0,23.0,48.0,19.0,null,9.0,24.0,46.0,23.0,21.0,19.0,0.0,4.0,26.0,9.0,24.0,24.0,25.0,21.0,21.0,37.0,44.0,43.0,7.0,33.0,24.0,31.0,27.0,34.0,58.0,7.0,3.0,21.0,21.0,39.0,43.0,22.0,44.0,38.0,32.0,55.0,31.0,39.0,35.0,37.0,13.0,21.0,20.0,20.0,63.0,36.0,29.0,36.0,79.0,30.0,30.0,19.0,33.0,20.0,38.0,7.0,58.0,33.0,3.0,39.0,37.0,32.0,28.0,38.0,21.0,18.0,15.0,44.0,44.0,36.0,28.0,15.0,45.0,26.0,46.0,25.0,46.0,15.0,37.0,20.0,45.0,7.0,5.0,38.0,30.0,null,0.0,20.0,41.0,18.0,29.0,19.0,34.0,36.0,54.0,19.0,21.0,23.0,35.0,34.0,22.0,24.0,18.0,24.0,33.0,24.0,18.0,19.0,43.0,44.0,25.0,25.0,23.0,23.0,20.0,2.0,26.0,38.0,1.0,12.0,2.0,25.0,1.0,0.0,54.0,21.0,19.0,24.0,20.0,23.0,29.0,14.0,19.0,23.0,62.0,23.0,65.0,47.0,67.0,14.0,41.0,14.0,19.0,22.0,34.0,65.0,42.0,22.0,54.0,34.0,27.0,67.0,33.0,30.0,22.0,35.0,23.0,49.0,36.0,31.0,54.0,0.0,null,54.0,10.0,0.0,7.0,25.0,37.0,15.0,26.0,7.0,30.0,19.0,30.0,21.0,21.0,59.0,28.0,32.0,19.0,7.0,16.0,31.0,30.0,26.0,20.0,24.0,39.0,19.0,27.0,34.0,28.0,29.0,38.0,null,1.0,36.0,31.0,1.0,31.0,10.0,null,42.0,0.0,41.0,0.0,0.0,59.0,13.0,24.0,20.0,71.0,23.0,15.0,18.0,19.0,4.0,42.0,51.0,13.0,27.0,42.0,41.0,21.0,31.0,36.0,31.0,14.0,32.0,32.0,27.0,57.0,13.0,30.0,14.0,27.0,32.0,54.0,23.0,38.0,32.0,24.0,36.0,11.0,6.0,36.0,22.0,null,37.0,55.0,null,20.0,16.0,19.0,38.0,35.0,33.0,37.0,46.0,41.0,13.0,31.0,52.0,48.0,27.0,16.0,32.0,25.0,26.0,44.0,32.0,18.0,23.0,44.0,29.0,19.0,41.0,28.0,19.0,32.0,74.0,31.0,38.0,20.0,24.0,26.0,44.0,33.0,31.0,null,22.0,33.0,34.0,11.0,41.0,30.0,30.0,25.0,31.0,38.0,15.0,19.0,29.0,30.0,29.0,36.0,24.0,30.0,0.0,15.0,38.0,13.0,18.0,16.0,8.0,19.0,26.0,15.0,38.0,45.0,48.0,17.0,28.0,41.0,19.0,14.0,21.0,48.0,19.0,29.0,20.0,44.0,19.0,64.0,21.0,32.0,20.0,24.0,44.0,57.0,51.0,34.0,45.0,24.0,23.0,30.0,20.0,22.0,null,71.0,18.0,16.0,28.0,36.0,6.0,26.0,27.0,49.0,29.0,46.0,35.0,17.0,37.0,24.0,47.0,26.0,46.0,27.0,56.0,18.0,15.0,3.0,42.0,1.0,56.0,20.0,21.0,5.0,12.0,39.0,60.0,31.0,58.0,19.0,29.0,19.0,44.0,20.0,18.0,36.0,25.0,15.0,18.0,0.0,54.0,0.0,20.0,21.0,8.0,46.0,31.0,3.0,30.0,23.0,14.0,25.0,61.0,31.0,13.0,24.0,47.0,15.0,46.0,49.0,37.0,44.0,16.0,58.0,20.0,36.0,31.0,21.0,22.0,27.0,58.0,38.0,30.0,20.0,19.0,57.0,26.0,38.0,15.0,null,35.0,38.0,35.0,14.0,27.0,25.0,37.0,25.0,41.0,50.0,33.0,27.0,23.0,18.0,31.0,54.0,0.0,11.0,4.0,19.0,7.0,20.0,33.0,26.0,35.0,23.0,60.0,34.0,null,42.0,22.0,18.0,5.0,18.0,29.0,39.0,17.0,58.0,5.0,23.0,26.0,40.0,20.0,38.0,31.0,34.0,9.0,36.0,26.0,18.0,55.0,28.0,18.0,28.0,23.0,20.0,22.0,27.0,13.0,32.0,53.0,34.0,42.0,19.0,54.0,12.0,35.0,55.0,26.0,49.0,22.0,null,30.0,39.0,14.0,29.0,34.0,8.0,7.0,3.0,0.0,10.0,16.0,41.0,18.0,25.0,32.0,26.0,26.0,18.0,27.0,26.0,28.0,19.0,31.0,35.0,46.0,37.0,29.0,17.0,30.0,28.0,16.0,40.0,23.0,24.0,36.0,34.0,59.0,20.0,15.0,19.0,64.0,24.0,23.0,30.0,0.0,8.0,1.0,48.0,12.0,30.0,10.0,11.0,58.0,52.0,36.0,32.0,16.0,25.0,28.0,32.0,28.0,16.0,50.0,20.0,23.0,45.0,23.0,53.0,8.0,6.0,3.0,13.0,60.0,1.0,40.0,51.0,31.0,28.0,20.0,14.0,23.0,4.0,20.0,75.0,24.0,18.0,21.0,59.0,27.0,38.0,41.0,36.0,29.0,22.0,23.0,32.0,21.0,26.0,61.0,30.0,40.0,37.0,41.0,32.0,30.0,27.0,22.0,54.0,27.0,52.0,15.0,27.0,30.0,19.0,22.0,43.0,25.0,51.0,34.0,21.0,21.0,23.0,38.0,30.0,31.0,44.0,14.0,18.0,19.0,null,36.0,10.0,1.0,4.0,21.0,24.0,8.0,18.0,33.0,31.0,43.0,20.0,28.0,30.0,28.0,19.0,22.0,27.0,22.0,2.0,4.0,10.0,9.0,37.0,2.0,44.0,11.0,22.0,40.0,30.0,37.0,26.0,19.0,57.0,1.0,17.0,26.0,21.0,28.0,36.0,25.0,40.0,23.0,2.0,10.0,43.0,0.0,24.0,42.0,30.0,19.0,26.0,47.0,28.0,24.0,29.0,32.0,44.0,17.0,35.0,23.0,34.0,25.0,67.0,22.0,null,27.0,14.0,42.0,19.0,22.0,31.0,10.0,39.0,41.0,0.0,22.0,21.0,40.0,25.0,23.0,33.0,20.0,40.0,27.0,21.0,25.0,2.0,19.0,41.0,43.0,19.0,22.0,16.0,42.0,20.0,35.0,53.0,17.0,6.0,22.0,41.0,19.0,39.0,23.0,31.0,38.0,1.0,13.0,21.0,44.0,36.0,19.0,7.0,39.0,28.0,28.0,14.0,18.0,23.0,33.0,18.0,47.0,42.0,17.0,21.0,17.0,26.0,23.0,15.0,18.0,65.0,33.0,27.0,41.0,42.0,null,37.0,17.0,24.0,39.0,59.0,32.0,29.0,8.0,28.0,35.0,24.0,1.0,4.0,28.0,46.0,67.0,44.0,14.0,23.0,51.0,20.0,0.0,0.0,23.0,24.0,41.0,30.0,27.0,13.0,16.0,30.0,8.0,59.0,43.0,30.0,46.0,39.0,21.0,70.0,34.0,33.0,44.0,16.0,63.0,37.0,29.0,29.0,22.0,26.0,76.0,61.0,46.0,19.0,13.0,null,30.0,23.0,63.0,21.0,32.0,33.0,39.0,49.0,27.0,16.0,38.0,42.0,19.0,26.0,32.0,56.0,0.0,38.0,30.0,21.0,11.0,3.0,17.0,35.0,17.0,0.0,46.0,63.0,35.0,61.0,19.0,43.0,14.0,78.0,21.0,32.0,31.0,40.0,13.0,36.0,31.0,18.0,40.0,28.0,41.0,35.0,14.0,20.0,23.0,22.0,25.0,18.0,25.0,30.0,46.0,27.0,53.0,21.0,32.0,32.0,33.0,26.0,47.0,13.0,34.0,21.0,20.0,21.0,51.0,18.0,26.0,53.0,30.0,37.0,45.0,62.0,38.0,24.0,18.0,23.0,16.0,37.0,22.0,18.0,25.0,26.0,25.0,55.0,28.0,23.0,22.0,26.0,13.0,18.0,38.0,28.0,57.0,0.0,18.0,25.0,35.0,37.0,33.0,35.0,47.0,23.0,null,27.0,23.0,31.0,19.0,53.0,37.0,18.0,42.0,7.0,7.0,24.0,20.0,24.0,42.0,49.0,47.0,16.0,26.0,24.0,38.0,0.0,37.0,39.0,25.0,25.0,35.0,0.0,46.0,4.0,19.0,29.0,19.0,47.0,1.0,4.0,37.0,61.0,32.0,4.0,16.0,25.0,22.0,41.0,25.0,19.0,21.0,14.0,18.0,34.0,33.0,14.0,28.0,43.0,3.0,0.0,47.0,28.0,40.0,17.0,21.0,null,41.0,20.0,56.0,57.0,48.0,37.0,20.0,36.0,38.0,22.0,31.0,0.0,21.0,49.0,44.0,null,29.0,16.0,20.0,26.0,19.0,34.0,38.0,51.0,7.0,3.0,26.0,27.0,7.0,19.0,28.0,27.0,31.0,26.0,43.0,23.0,14.0,47.0,17.0,64.0,13.0,18.0,29.0,70.0,23.0,23.0,35.0,17.0,26.0,15.0,19.0,20.0,51.0,17.0,27.0,43.0,5.0,17.0,40.0,38.0,20.0,13.0,15.0,15.0,59.0,24.0,null,52.0,38.0,26.0,17.0,17.0,20.0,15.0,30.0,22.0,18.0,22.0,20.0,22.0,34.0,28.0,50.0,19.0,21.0,0.0,4.0,59.0,15.0,24.0,26.0,67.0,55.0,50.0,23.0,21.0,15.0,41.0,59.0,18.0,21.0,14.0,50.0,32.0,46.0,null,58.0,15.0,35.0,30.0,30.0,43.0,21.0,15.0,37.0,28.0,28.0,40.0,42.0,21.0,31.0,51.0,73.0,26.0,33.0,39.0,19.0,12.0,10.0,0.0,0.0,1.0,33.0,23.0,5.0,24.0,26.0,30.0,33.0,56.0,25.0,null,25.0,18.0,60.0,41.0,16.0,17.0,26.0,31.0,67.0,16.0,24.0,19.0,48.0,30.0,22.0,28.0,23.0,29.0,22.0,48.0,26.0,23.0,55.0,46.0,38.0,2.0,3.0,20.0,65.0,null,25.0,54.0,25.0,14.0,53.0,0.0,39.0,22.0,31.0,24.0,35.0,35.0,32.0,61.0,58.0,26.0,4.0,1.0,8.0,7.0,25.0,6.0,29.0,64.0,31.0,25.0,30.0,0.0,29.0,37.0,49.0,36.0,20.0,20.0,18.0,17.0,48.0,26.0,35.0,30.0,22.0,5.0,43.0,52.0,50.0,29.0,19.0,39.0,38.0,21.0,25.0,42.0,36.0,19.0,42.0,40.0,14.0,50.0,18.0,46.0,null,15.0,22.0,0.0,52.0,38.0,46.0,23.0,63.0,24.0,50.0,20.0,55.0,21.0,56.0,45.0,18.0,47.0,36.0,57.0,13.0,27.0,20.0,47.0,15.0,34.0,21.0,51.0,23.0,58.0,37.0,44.0,25.0,15.0,40.0,29.0,36.0,21.0,35.0,24.0,2.0,0.0,43.0,63.0,30.0,38.0,27.0,54.0,39.0,41.0,22.0,23.0,34.0,26.0,39.0,15.0,64.0,25.0,35.0,19.0,26.0,3.0,29.0,44.0,27.0,17.0,37.0,19.0,44.0,22.0,22.0,21.0,31.0,17.0,30.0,15.0,42.0,55.0,28.0,33.0,19.0,24.0,4.0,2.0,30.0,31.0,17.0,40.0,33.0,46.0,30.0,17.0,19.0,22.0,20.0,36.0,0.0,17.0,null,15.0,20.0,19.0,24.0,43.0,26.0,42.0,21.0,50.0,25.0,64.0,50.0,24.0,27.0,42.0,30.0,20.0,31.0,26.0,39.0,null,32.0,25.0,6.0,3.0,11.0,52.0,14.0,68.0,18.0,55.0,22.0,34.0,17.0,38.0,13.0,19.0,30.0,27.0,17.0,45.0,28.0,23.0,24.0,23.0,29.0,46.0,17.0,20.0,24.0,40.0,null,38.0,65.0,19.0,54.0,38.0,40.0,21.0,22.0,33.0,18.0,43.0,13.0,26.0,22.0,21.0,25.0,29.0,49.0,29.0,45.0,45.0,30.0,29.0,26.0,16.0,20.0,33.0,18.0,24.0,29.0,40.0,27.0,35.0,31.0,26.0,49.0,23.0,23.0,14.0,21.0,18.0,null,19.0,22.0,17.0,13.0,26.0,null,16.0,20.0,20.0,23.0,61.0,27.0,3.0,4.0,13.0,19.0,18.0,66.0,39.0,21.0,7.0,56.0,15.0,null,13.0,18.0,38.0,45.0,21.0,19.0,49.0,21.0,18.0,43.0,27.0,0.0,27.0,21.0,20.0,35.0,20.0,24.0,41.0,23.0,27.0,58.0,53.0,30.0,24.0,31.0,46.0,20.0,20.0,30.0,24.0,34.0,20.0,48.0,25.0,43.0,27.0,47.0,26.0,37.0,42.0,61.0,29.0,32.0,51.0,43.0,25.0,31.0,13.0,20.0,29.0,16.0,15.0,50.0,41.0,43.0,32.0,36.0,18.0,47.0,29.0,null,14.0,25.0,63.0,22.0,32.0,31.0,24.0,39.0,20.0,20.0,19.0,20.0,31.0,17.0,24.0,27.0,28.0,41.0,25.0,26.0,27.0,22.0,62.0,58.0,37.0,54.0,26.0,44.0,34.0,47.0,27.0,22.0,46.0,29.0,43.0,42.0,39.0,30.0,43.0,19.0,26.0,46.0,3.0,21.0,1.0,22.0,27.0,28.0,36.0,19.0,18.0,47.0,18.0,6.0,20.0,18.0,37.0,22.0,37.0,6.0,36.0,46.0,75.0,37.0,22.0,33.0,35.0,19.0,34.0,23.0,37.0,24.0,54.0,52.0,60.0,1.0,null,22.0,27.0,48.0,47.0,25.0,49.0,33.0,67.0,5.0,60.0,56.0,59.0,44.0,33.0,28.0,29.0,13.0,34.0,45.0,39.0,18.0,57.0,null,25.0,22.0,32.0,29.0,21.0,16.0,45.0,44.0,27.0,26.0,46.0,24.0,15.0,53.0,28.0,11.0,7.0,0.0,15.0,31.0,9.0,44.0,35.0,30.0,13.0,45.0,4.0,21.0,20.0,24.0,3.0,29.0,28.0,44.0,50.0,35.0,19.0,22.0,30.0,36.0,20.0,22.0,22.0,32.0,35.0,41.0,57.0,3.0,11.0,4.0,17.0,30.0,11.0,23.0,58.0,22.0,24.0,20.0,37.0,49.0,46.0,30.0,36.0,21.0,25.0,42.0,13.0,25.0,29.0,17.0,36.0,44.0,18.0,22.0,22.0,43.0,29.0,24.0,18.0,42.0,43.0,32.0,15.0,22.0,20.0,34.0,70.0,18.0,26.0,17.0,13.0,19.0,32.0,33.0,21.0,23.0,24.0,17.0,34.0,31.0,43.0,43.0,33.0,28.0,27.0,7.0,16.0,42.0,27.0,19.0,42.0,13.0,16.0,21.0,28.0,69.0,15.0,48.0,42.0,42.0,23.0,26.0,45.0,30.0,36.0,null,35.0,21.0,50.0,52.0,21.0,41.0,35.0,26.0,17.0,69.0,27.0,25.0,27.0,25.0,36.0,14.0,27.0,22.0,24.0,null,4.0,19.0,19.0,38.0,39.0,23.0,57.0,18.0,43.0,28.0,33.0,37.0,28.0,28.0,18.0,29.0,29.0,28.0,24.0,59.0,43.0,20.0,23.0,27.0,38.0,38.0,48.0,25.0,25.0,24.0,69.0,20.0,18.0,28.0,23.0,24.0,44.0,29.0,6.0,42.0,78.0,36.0,37.0,41.0,18.0,62.0,0.0,55.0,16.0,32.0,19.0,7.0,4.0,30.0,24.0,34.0,30.0,3.0,32.0,55.0,0.0,51.0,0.0,21.0,2.0,19.0,24.0,20.0,42.0,17.0,32.0,28.0,21.0,56.0,28.0,42.0,18.0,24.0,20.0,22.0,22.0,21.0,28.0,26.0,50.0,26.0,30.0,29.0,8.0,45.0,35.0,18.0,23.0,29.0,18.0,28.0,34.0,0.0,4.0,28.0,8.0,20.0,20.0,25.0,31.0,37.0,21.0,24.0,34.0,0.0,25.0,43.0,null,45.0,63.0,17.0,35.0,12.0,null,17.0,32.0,23.0,17.0,34.0,15.0,14.0,22.0,19.0,40.0,25.0,51.0,22.0,50.0,26.0,39.0,18.0,22.0,26.0,19.0,16.0,24.0,34.0,55.0,42.0,14.0,28.0,26.0,33.0,24.0,23.0,16.0,36.0,44.0,22.0,30.0,20.0,21.0,14.0,27.0,19.0,21.0,null,13.0,71.0,28.0,18.0,23.0,34.0,20.0,17.0,21.0,33.0,34.0,51.0,21.0,null,31.0,36.0,39.0,26.0,51.0,24.0,27.0,31.0,24.0,57.0,36.0,55.0,null,18.0,27.0,50.0,24.0,20.0,24.0,18.0,44.0,27.0,58.0,29.0,23.0,3.0,0.0,33.0,12.0,44.0,20.0,59.0,18.0,72.0,23.0,11.0,1.0,25.0,25.0,24.0,54.0,17.0,48.0,40.0,2.0,32.0,15.0,52.0,16.0,16.0,16.0,6.0,10.0,27.0,45.0,26.0,29.0,38.0,19.0,43.0,15.0,31.0,52.0,49.0,29.0,18.0,41.0,9.0,null,58.0,39.0,13.0,36.0,23.0,24.0,33.0,18.0,2.0,0.0,36.0,15.0,31.0,42.0,27.0,36.0,0.0,3.0,22.0,56.0,23.0,25.0,29.0,17.0,13.0,35.0,53.0,24.0,38.0,21.0,29.0,46.0,58.0,53.0,21.0,27.0,31.0,23.0,41.0,29.0,54.0,43.0,36.0,48.0,34.0,42.0,17.0,22.0,37.0,38.0,21.0,23.0,27.0,23.0,19.0,28.0,33.0,24.0,0.0,41.0,19.0,44.0,43.0,14.0,18.0,25.0,0.0,4.0,24.0,38.0,44.0,57.0,3.0,5.0,3.0,18.0,8.0,21.0,35.0,47.0,28.0,49.0,23.0,19.0,34.0,40.0,26.0,23.0,22.0,51.0,44.0,50.0,28.0,13.0,21.0,20.0,14.0,38.0,29.0,36.0,16.0,40.0,null,18.0,17.0,32.0,27.0,34.0,53.0,36.0,41.0,51.0,61.0,59.0,17.0,27.0,57.0,39.0,55.0,42.0,36.0,42.0,32.0,6.0,15.0,28.0,37.0,44.0,71.0,44.0,36.0,18.0,3.0,12.0,0.0,29.0,9.0,27.0,24.0,38.0,28.0,26.0,16.0,24.0,33.0,24.0,29.0,25.0,0.0,13.0,7.0,32.0,34.0,49.0,43.0,0.0,6.0,23.0,43.0,23.0,43.0,41.0,54.0,51.0,44.0,48.0,45.0,20.0,33.0,21.0,68.0,23.0,16.0,35.0,22.0,51.0,2.0,29.0,0.0,39.0,55.0,22.0,20.0,25.0,18.0,28.0,26.0,28.0,54.0,56.0,25.0,26.0,14.0,21.0,43.0,37.0,null,38.0,14.0,20.0,33.0,33.0,13.0,37.0,15.0,33.0,24.0,49.0,24.0,24.0,26.0,40.0,31.0,47.0,19.0,38.0,33.0,45.0,1.0,32.0,70.0,19.0,55.0,48.0,66.0,13.0,40.0,35.0,32.0,51.0,37.0,31.0,37.0,38.0,19.0,33.0,19.0,31.0,43.0,22.0,24.0,21.0,14.0,30.0,22.0,11.0,4.0,0.0,30.0,21.0,40.0,57.0,35.0,32.0,32.0,30.0,69.0,21.0,17.0,16.0,25.0,25.0,52.0,13.0,37.0,13.0,45.0,55.0,22.0,39.0,35.0,19.0,7.0,19.0,21.0,37.0,35.0,22.0,62.0,41.0,16.0,26.0,36.0,null,22.0,40.0,50.0,57.0,15.0,23.0,60.0,73.0,35.0,28.0,27.0,14.0,26.0,22.0,22.0,71.0,25.0,27.0,1.0,52.0,0.0,30.0,52.0,12.0,22.0,24.0,22.0,15.0,21.0,56.0,50.0,20.0,32.0,28.0,74.0,25.0,31.0,6.0,17.0,12.0,47.0,46.0,31.0,36.0,15.0,38.0,48.0,21.0,4.0,31.0,31.0,62.0,29.0,30.0,26.0,43.0,32.0,24.0,49.0,21.0,18.0,18.0,14.0,21.0,25.0,56.0,0.0,55.0,14.0,13.0,43.0,39.0,null,24.0,26.0,22.0,26.0,19.0,38.0,38.0,77.0,28.0,22.0,20.0,18.0,10.0,34.0,43.0,31.0,40.0,25.0,68.0,20.0,27.0,1.0,60.0,28.0,11.0,0.0,9.0,38.0,18.0,40.0,21.0,24.0,26.0,47.0,46.0,55.0,50.0,10.0,17.0,20.0,37.0,24.0,43.0,0.0,24.0,22.0,14.0,3.0,22.0,23.0,56.0,36.0,58.0,1.0,39.0,33.0,19.0,null,33.0,17.0,28.0,21.0,45.0,62.0,43.0,27.0,1.0,31.0,18.0,21.0,7.0,22.0,26.0,30.0,17.0,null,10.0,25.0,21.0,53.0,21.0,28.0,20.0,54.0,9.0,20.0,19.0,32.0,22.0,35.0,26.0,51.0,8.0,40.0,2.0,19.0,32.0,16.0,64.0,35.0,33.0,9.0,21.0,28.0,28.0,31.0,32.0,43.0,60.0,43.0,43.0,19.0,21.0,38.0,17.0,29.0,2.0,22.0,18.0,16.0,52.0,52.0,14.0,25.0,34.0,20.0,28.0,null,20.0,44.0,64.0,27.0,24.0,38.0,47.0,8.0,1.0,0.0,20.0,41.0,35.0,31.0,14.0,25.0,26.0,26.0,30.0,49.0,19.0,15.0,27.0,39.0,32.0,11.0,44.0,36.0,56.0,42.0,40.0,53.0,31.0,14.0,31.0,42.0,32.0,34.0,55.0,42.0,40.0,48.0,37.0,17.0,60.0,19.0,30.0,32.0,28.0,26.0,24.0,47.0,32.0,73.0,17.0,47.0,null,13.0,22.0,61.0,19.0,45.0,18.0,32.0,52.0,25.0,9.0,18.0,26.0,20.0,6.0,5.0,40.0,20.0,18.0,42.0,14.0,33.0,23.0,35.0,53.0,56.0,35.0,18.0,25.0,20.0,44.0,26.0,23.0,39.0,25.0,42.0,20.0,4.0,64.0,0.0,19.0,6.0,23.0,22.0,18.0,21.0,37.0,24.0,38.0,11.0,6.0,49.0,55.0,15.0,19.0,16.0,48.0,25.0,23.0,27.0,39.0,28.0,72.0,47.0,65.0,40.0,18.0,27.0,21.0,37.0,31.0,33.0,53.0,27.0,74.0,null,23.0,74.0,23.0,26.0,0.0,0.0,24.0,28.0,17.0,26.0,39.0,17.0,15.0,37.0,38.0,33.0,16.0,41.0,7.0,20.0,44.0,42.0,29.0,22.0,21.0,21.0,21.0,13.0,16.0,36.0,36.0,26.0,28.0,14.0,29.0,19.0,51.0,64.0,41.0,null,16.0,20.0,31.0,38.0,59.0,18.0,33.0,33.0,49.0,4.0,0.0,0.0,24.0,52.0,50.0,31.0,25.0,62.0,49.0,24.0,33.0,20.0,46.0,26.0,52.0,28.0,39.0,29.0,19.0,15.0,33.0,47.0,34.0,26.0,15.0,null,27.0,38.0,21.0,1.0,38.0,0.0,32.0,27.0,48.0,22.0,28.0,19.0,37.0,46.0,26.0,16.0,0.0,0.0,26.0,13.0,23.0,70.0,21.0,40.0,18.0,23.0,15.0,28.0,45.0,18.0,23.0,36.0,25.0,28.0,29.0,31.0,14.0,31.0,39.0,17.0,56.0,36.0,21.0,48.0,53.0,5.0,21.0,50.0,18.0,28.0,28.0,18.0,37.0,19.0,27.0,37.0,43.0,17.0,21.0,55.0,14.0,24.0,26.0,19.0,20.0,14.0,19.0,15.0,25.0,24.0,22.0,26.0,23.0,20.0,53.0,55.0,22.0,35.0,40.0,22.0,22.0,21.0,64.0,40.0,8.0,25.0,19.0,24.0,11.0,31.0,46.0,31.0,17.0,16.0,57.0,28.0,27.0,28.0,26.0,17.0,36.0,24.0,18.0,20.0,10.0,null,23.0,36.0,27.0,54.0,38.0,29.0,37.0,36.0,18.0,28.0,61.0,19.0,29.0,37.0,29.0,38.0,41.0,23.0,48.0,0.0,46.0,36.0,42.0,null,16.0,43.0,40.0,22.0,39.0,37.0,28.0,29.0,14.0,15.0,17.0,4.0,24.0,null,22.0,38.0,30.0,29.0,26.0,41.0,50.0,34.0,24.0,24.0,45.0,35.0,23.0,23.0,21.0,19.0,24.0,2.0,0.0,20.0,35.0,34.0,26.0,26.0,32.0,25.0,30.0,57.0,23.0,32.0,27.0,20.0,21.0,19.0,16.0,18.0,18.0,22.0,null,35.0,8.0,5.0,40.0,31.0,9.0,56.0,39.0,18.0,45.0,33.0,2.0,1.0,2.0,16.0,18.0,28.0,45.0,24.0,35.0,16.0,40.0,5.0,29.0,31.0,27.0,34.0,15.0,43.0,30.0,61.0,48.0,17.0,19.0,29.0,2.0,24.0,19.0,34.0,19.0,39.0,26.0,53.0,18.0,null,45.0,32.0,18.0,48.0,24.0,52.0,55.0,43.0,24.0,8.0,18.0,38.0,18.0,23.0,26.0,21.0,45.0,24.0,44.0,20.0,47.0,16.0,28.0,8.0,20.0,22.0,42.0,23.0,30.0,18.0,35.0,42.0,46.0,29.0,35.0,48.0,24.0,38.0,51.0,77.0,22.0,38.0,42.0,55.0,7.0,null,25.0,15.0,13.0,23.0,null,33.0,26.0,67.0,27.0,33.0,18.0,36.0,18.0,51.0,54.0,33.0,18.0,57.0,23.0,24.0,20.0,32.0,21.0,null,41.0,27.0,49.0,18.0,34.0,73.0,40.0,63.0,21.0,21.0,23.0,31.0,41.0,15.0,36.0,24.0,27.0,24.0,19.0,25.0,39.0,15.0,31.0,25.0,57.0,null,18.0,33.0,23.0,34.0,38.0,21.0,31.0,13.0,54.0,13.0,18.0,null,43.0,56.0,63.0,9.0,9.0,0.0,16.0,42.0,9.0,22.0,47.0,30.0,29.0,null,22.0,19.0,31.0,17.0,38.0,13.0,36.0,0.0,21.0,18.0,36.0,27.0,5.0,18.0,25.0,14.0,23.0,2.0,1.0,7.0,6.0,56.0,4.0,65.0,36.0,25.0,41.0,20.0,18.0,15.0,23.0,29.0,33.0,14.0,55.0,30.0,21.0,26.0,33.0,18.0,9.0,0.0,19.0,18.0,38.0,42.0,28.0,37.0,29.0,42.0,18.0,34.0,34.0,18.0,24.0,24.0,56.0,2.0,12.0,37.0,60.0,55.0,20.0,28.0,28.0,37.0,18.0,14.0,29.0,51.0,45.0,45.0,41.0,21.0,28.0,0.0,46.0,41.0,13.0,55.0,20.0,21.0,49.0,27.0,0.0,22.0,17.0,23.0,44.0,29.0,19.0,3.0,29.0,19.0,22.0,33.0,null,50.0,54.0,43.0,17.0,26.0,44.0,51.0,29.0,4.0,40.0,27.0,8.0,3.0,11.0,24.0,25.0,28.0,25.0,27.0,25.0,0.0,58.0,3.0,4.0,2.0,34.0,5.0,3.0,46.0,22.0,8.0,17.0,4.0,12.0,40.0,16.0,41.0,8.0,14.0,2.0,59.0,45.0,52.0,33.0,51.0,38.0,14.0,42.0,28.0,34.0,21.0,30.0,null,26.0,23.0,20.0,59.0,37.0,32.0,37.0,27.0,42.0,29.0,2.0,10.0,0.0,21.0,8.0,null,27.0,13.0,49.0,38.0,21.0,22.0,14.0,24.0,24.0,34.0,1.0,null,26.0,null,32.0,2.0,10.0,49.0,14.0,29.0,25.0,36.0,22.0,21.0,36.0,54.0,30.0,0.0,1.0,42.0,47.0,25.0,18.0,22.0,27.0,24.0,null,22.0,60.0,38.0,23.0,21.0,55.0,20.0,50.0,22.0,21.0,26.0,36.0,46.0,26.0,24.0,14.0,46.0,15.0,30.0,null,38.0,48.0,31.0,41.0,43.0,23.0,48.0,47.0,19.0,25.0,28.0,16.0,45.0,31.0,19.0,21.0,null,22.0,23.0,54.0,0.0,4.0,23.0,19.0,34.0,18.0,40.0,58.0,39.0,23.0,11.0,43.0,29.0,36.0,13.0,54.0,45.0,33.0,46.0,15.0,35.0,23.0,15.0,27.0,15.0,27.0,16.0,37.0,45.0,58.0,null,38.0,28.0,47.0,41.0,28.0,23.0,24.0,58.0,36.0,24.0,56.0,15.0,19.0,27.0,47.0,37.0,39.0,20.0,20.0,38.0,46.0,13.0,24.0,32.0,null,44.0,19.0,30.0,23.0,4.0,0.0,17.0,44.0,31.0,41.0,33.0,43.0,43.0,36.0,19.0,24.0,17.0,23.0,17.0,18.0,34.0,13.0,66.0,27.0,19.0,55.0,40.0,23.0,7.0,12.0,37.0,22.0,25.0,46.0,37.0,50.0,28.0,26.0,28.0,23.0,23.0,34.0,65.0,20.0,29.0,30.0,3.0,40.0,32.0,31.0,13.0,29.0,28.0,19.0,24.0,22.0,13.0,21.0,24.0,47.0,27.0,18.0,36.0,68.0,31.0,28.0,36.0,17.0,13.0,30.0,58.0,43.0,20.0,29.0,15.0,30.0,33.0,25.0,62.0,41.0,27.0,18.0,27.0,19.0,37.0,24.0,29.0,44.0,19.0,39.0,63.0,39.0,41.0,27.0,56.0,22.0,26.0,24.0,18.0,13.0,32.0,30.0,25.0,55.0,19.0,24.0,32.0,24.0,32.0,36.0,28.0,52.0,29.0,23.0,32.0,35.0,41.0,16.0,33.0,6.0,15.0,38.0,56.0,4.0,21.0,22.0,37.0,6.0,22.0,26.0,22.0,20.0,null,24.0,25.0,48.0,24.0,3.0,24.0,25.0,1.0,20.0,22.0,28.0,17.0,28.0,47.0,34.0,29.0,14.0,36.0,40.0,49.0,51.0,41.0,44.0,47.0,22.0,13.0,18.0,28.0,22.0,50.0,47.0,55.0,21.0,39.0,21.0,37.0,31.0,23.0,28.0,23.0,20.0,28.0,40.0,54.0,18.0,27.0,43.0,25.0,13.0,15.0,37.0,32.0,19.0,21.0,27.0,39.0,22.0,25.0,34.0,54.0,42.0,36.0,43.0,23.0,57.0,54.0,51.0,32.0,33.0,8.0,44.0,27.0,48.0,13.0,5.0,18.0,23.0,23.0,35.0,25.0,32.0,0.0,5.0,16.0,18.0,29.0,55.0,41.0,38.0,27.0,55.0,75.0,50.0,23.0,37.0,33.0,45.0,47.0,13.0,29.0,19.0,30.0,39.0,31.0,29.0,16.0,18.0,38.0,50.0,21.0,22.0,20.0,36.0,23.0,31.0,39.0,50.0,40.0,28.0,38.0,37.0,59.0,41.0,33.0,54.0,40.0,43.0,26.0,65.0,22.0,28.0,35.0,30.0,28.0,23.0,24.0,16.0,18.0,20.0,29.0,29.0,21.0,2.0,43.0,28.0,31.0,23.0,26.0,43.0,28.0,24.0,27.0,13.0,27.0,2.0,24.0,2.0,50.0,27.0,26.0,31.0,28.0,4.0,9.0,0.0,35.0,3.0,25.0,63.0,34.0,35.0,26.0,39.0,34.0,36.0,46.0,26.0,28.0,20.0,35.0,11.0,14.0,4.0,11.0,31.0,15.0,39.0,7.0,24.0,22.0,26.0,53.0,40.0,19.0,54.0,21.0,25.0,48.0,41.0,13.0,57.0,25.0,48.0,34.0,16.0,0.0,15.0,37.0,37.0,49.0,18.0,25.0,null,43.0,20.0,54.0,30.0,37.0,30.0,20.0,20.0,24.0,44.0,0.0,15.0,19.0,20.0,20.0,34.0,17.0,20.0,42.0,28.0,43.0,55.0,21.0,17.0,54.0,25.0,null,45.0,31.0,19.0,30.0,24.0,null,42.0,29.0,37.0,64.0,24.0,23.0,22.0,23.0,21.0,37.0,17.0,35.0,33.0,37.0,32.0,31.0,null,34.0,9.0,25.0,29.0,1.0,30.0,64.0,31.0,27.0,null,25.0,28.0,32.0,36.0,26.0,36.0,37.0,45.0,22.0,24.0,23.0,31.0,37.0,28.0,23.0,14.0,40.0,42.0,53.0,46.0,28.0,25.0,34.0,58.0,31.0,24.0,52.0,25.0,17.0,27.0,29.0,45.0,28.0,25.0,57.0,68.0,26.0,52.0,36.0,41.0,14.0,16.0,24.0,62.0,26.0,45.0,41.0,36.0,13.0,48.0,null,22.0,39.0,45.0,42.0,33.0,27.0,47.0,20.0,32.0,54.0,23.0,9.0,17.0,26.0,38.0,24.0,30.0,2.0,4.0,9.0,30.0,5.0,2.0,32.0,53.0,46.0,2.0,1.0,11.0,3.0,33.0,3.0,38.0,21.0,41.0,64.0,27.0,41.0,19.0,42.0,30.0,38.0,63.0,17.0,2.0,19.0,37.0,50.0,38.0,28.0,35.0,27.0,15.0,29.0,65.0,27.0,0.0,21.0,19.0,39.0,60.0,30.0,30.0,40.0,26.0,38.0,22.0,null,65.0,61.0,20.0,24.0,16.0,35.0,21.0,23.0,17.0,24.0,27.0,26.0,26.0,20.0,28.0,37.0,23.0,49.0,50.0,4.0,32.0,44.0,20.0,30.0,29.0,22.0,35.0,0.0,6.0,38.0,34.0,34.0,null,53.0,28.0,31.0,56.0,36.0,30.0,32.0,44.0,54.0,24.0,44.0,25.0,35.0,29.0,22.0,22.0,22.0,18.0,22.0,52.0,0.0,1.0,34.0,6.0,22.0,31.0,31.0,20.0,25.0,23.0,53.0,32.0,27.0,48.0,37.0,21.0,29.0,46.0,19.0,22.0,54.0,43.0,18.0,36.0,20.0,63.0,50.0,13.0,43.0,16.0,31.0,0.0,10.0,10.0,55.0,18.0,7.0,1.0,44.0,27.0,20.0,49.0,22.0,21.0,26.0,65.0,20.0,0.0,16.0,22.0,0.0,21.0,30.0,14.0,45.0,22.0,21.0,37.0,29.0,29.0,21.0,52.0,36.0,59.0,21.0,25.0,23.0,36.0,38.0,0.0,19.0,30.0,23.0,55.0,44.0,30.0,39.0,19.0,24.0,37.0,24.0,17.0,17.0,14.0,13.0,35.0,32.0,18.0,21.0,25.0,36.0,20.0,22.0,27.0,null,38.0,23.0,21.0,18.0,20.0,28.0,57.0,10.0,23.0,22.0,24.0,52.0,31.0,15.0,40.0,18.0,28.0,40.0,32.0,35.0,52.0,34.0,46.0,23.0,44.0,59.0,42.0,18.0,29.0,15.0,19.0,49.0,19.0,36.0,59.0,24.0,4.0,20.0,24.0,31.0,23.0,3.0,22.0,20.0,0.0,13.0,47.0,51.0,22.0,3.0,4.0,16.0,24.0,1.0,31.0,34.0,20.0,19.0,19.0,35.0,3.0,36.0,20.0,null,58.0,56.0,27.0,25.0,39.0,43.0,42.0,24.0,19.0,32.0,32.0,61.0,64.0,21.0,26.0,35.0,43.0,3.0,56.0,45.0,25.0,12.0,2.0,46.0,32.0,20.0,24.0,28.0,12.0,11.0,16.0,29.0,24.0,22.0,21.0,38.0,35.0,79.0,22.0,42.0,34.0,52.0,43.0,30.0,35.0,18.0,27.0,46.0,15.0,44.0,20.0,35.0,19.0,47.0,26.0,24.0,23.0,26.0,5.0,35.0,18.0,32.0,13.0,15.0,18.0,41.0,36.0,33.0,41.0,47.0,32.0,36.0,13.0,34.0,24.0,16.0,12.0,24.0,35.0,26.0,39.0,18.0,23.0,29.0,38.0,31.0,49.0,17.0,23.0,15.0,11.0,30.0,42.0,21.0,41.0,14.0,27.0,29.0,25.0,54.0,46.0,18.0,22.0,29.0,26.0,36.0,19.0,56.0,20.0,10.0,14.0,27.0,35.0,13.0,21.0,22.0,29.0,32.0,20.0,44.0,22.0,39.0,19.0,0.0,0.0,12.0,7.0,32.0,11.0,18.0,49.0,61.0,7.0,25.0,51.0,56.0,31.0,16.0,29.0,17.0,47.0,25.0,28.0,32.0,56.0,25.0,13.0,41.0,28.0,25.0,11.0,20.0,24.0,41.0,29.0,59.0,31.0,16.0,65.0,21.0,27.0,37.0,42.0,36.0,24.0,null,19.0,26.0,19.0,26.0,35.0,24.0,9.0,40.0,23.0,4.0,20.0,21.0,4.0,19.0,18.0,26.0,13.0,16.0,14.0,40.0,34.0,21.0,29.0,40.0,16.0,37.0,41.0,16.0,39.0,30.0,40.0,63.0,32.0,47.0,23.0,23.0,19.0,44.0,29.0,21.0,23.0,26.0,47.0,20.0,48.0,4.0,25.0,0.0,29.0,21.0,20.0,34.0,9.0,12.0,13.0,27.0,34.0,18.0,16.0,43.0,0.0,20.0,45.0,35.0,21.0,14.0,46.0,22.0,2.0,3.0,28.0,60.0,48.0,18.0,31.0,26.0,41.0,26.0,29.0,24.0,25.0,0.0,30.0,18.0,32.0,28.0,21.0,25.0,47.0,null,8.0,24.0,30.0,24.0,13.0,16.0,23.0,16.0,29.0,46.0,13.0,22.0,29.0,46.0,24.0,33.0,38.0,57.0,null,38.0,28.0,25.0,22.0,33.0,35.0,24.0,31.0,16.0,28.0,8.0,20.0,26.0,43.0,70.0,17.0,14.0,21.0,37.0,15.0,20.0,36.0,14.0,21.0,28.0,20.0,26.0,25.0,29.0,39.0,18.0,37.0,28.0,18.0,30.0,35.0,26.0,0.0,42.0,36.0,31.0,27.0,25.0,32.0,14.0,16.0,51.0,21.0,31.0,9.0,7.0,3.0,2.0,7.0,18.0,33.0,23.0,13.0,32.0,27.0,23.0,25.0,18.0,23.0,31.0,32.0,22.0,38.0,21.0,28.0,38.0,20.0,23.0,48.0,15.0,30.0,40.0,36.0,20.0,17.0,38.0,38.0,14.0,null,21.0,18.0,26.0,35.0,46.0,13.0,39.0,49.0,28.0,27.0,21.0,29.0,27.0,38.0,18.0,35.0,37.0,60.0,31.0,4.0,34.0,46.0,18.0,38.0,29.0,13.0,26.0,30.0,42.0,36.0,23.0,34.0,26.0,31.0,48.0,10.0,27.0,32.0,24.0,20.0,48.0,35.0,14.0,28.0,null,42.0,8.0,30.0,44.0,40.0,38.0,22.0,32.0,16.0,33.0,38.0,23.0,16.0,16.0,11.0,22.0,43.0,20.0,22.0,0.0,30.0,18.0,0.0,41.0,39.0,37.0,26.0,49.0,28.0,13.0,64.0,24.0,18.0,18.0,25.0,19.0,33.0,null,50.0,30.0,44.0,52.0,7.0,30.0,27.0,24.0,13.0,61.0,32.0,17.0,36.0,16.0,21.0,24.0,28.0,null,13.0,39.0,24.0,38.0,20.0,21.0,27.0,49.0,6.0,41.0,33.0,6.0,35.0,46.0,31.0,32.0,31.0,20.0,57.0,37.0,21.0,43.0,49.0,17.0,29.0,36.0,37.0,17.0,45.0,20.0,24.0,28.0,15.0,53.0,51.0,14.0,1.0,26.0,20.0,23.0,22.0,22.0,13.0,28.0,40.0,21.0,35.0,22.0,37.0,21.0,50.0,27.0,20.0,15.0,25.0,31.0,null,18.0,2.0,27.0,0.0,22.0,null,56.0,28.0,42.0,20.0,27.0,29.0,36.0,23.0,64.0,19.0,1.0,49.0,0.0,18.0,39.0,37.0,44.0,43.0,33.0,20.0,0.0,4.0,20.0,50.0,47.0,17.0,26.0,21.0,20.0,26.0,null,34.0,11.0,0.0,28.0,33.0,22.0,28.0,11.0,60.0,43.0,27.0,37.0,23.0,57.0,29.0,28.0,42.0,43.0,26.0,72.0,49.0,29.0,18.0,26.0,19.0,18.0,14.0,44.0,34.0,18.0,36.0,27.0,35.0,52.0,22.0,34.0,37.0,22.0,26.0,14.0,53.0,17.0,30.0,65.0,19.0,36.0,3.0,6.0,4.0,21.0,8.0,35.0,18.0,34.0,45.0,31.0,14.0,23.0,61.0,54.0,28.0,46.0,32.0,49.0,20.0,25.0,19.0,28.0,68.0,16.0,19.0,49.0,15.0,26.0,22.0,23.0,31.0,27.0,28.0,20.0,43.0,22.0,27.0,35.0,37.0,24.0,18.0,15.0,28.0,24.0,39.0,35.0,52.0,48.0,27.0,50.0,24.0,26.0,24.0,15.0,42.0,51.0,43.0,31.0,14.0,31.0,33.0,21.0,13.0,29.0,22.0,22.0,18.0,35.0,20.0,18.0,66.0,33.0,48.0,38.0,62.0,19.0,44.0,25.0,15.0,20.0,34.0,23.0,45.0,39.0,33.0,14.0,26.0,47.0,null,28.0,22.0,17.0,16.0,9.0,15.0,33.0,61.0,19.0,61.0,42.0,4.0,12.0,0.0,19.0,null,29.0,59.0,20.0,70.0,3.0,37.0,58.0,44.0,24.0,20.0,24.0,27.0,28.0,24.0,29.0,25.0,20.0,34.0,28.0,null,23.0,39.0,35.0,18.0,20.0,42.0,32.0,50.0,23.0,19.0,29.0,35.0,18.0,24.0,23.0,51.0,42.0,19.0,23.0,19.0,22.0,25.0,31.0,23.0,22.0,55.0,40.0,24.0,25.0,42.0,33.0,54.0,22.0,22.0,19.0,47.0,23.0,61.0,21.0,46.0,36.0,15.0,33.0,35.0,21.0,21.0,43.0,34.0,47.0,27.0,46.0,46.0,40.0,59.0,45.0,19.0,32.0,39.0,40.0,44.0,26.0,22.0,2.0,18.0,53.0,22.0,46.0,28.0,31.0,36.0,46.0,0.0,3.0,12.0,2.0,41.0,11.0,41.0,17.0,21.0,21.0,27.0,54.0,15.0,39.0,31.0,28.0,21.0,29.0,45.0,44.0,12.0,18.0,20.0,43.0,46.0,53.0,21.0,23.0,9.0,19.0,52.0,31.0,62.0,27.0,23.0,28.0,27.0,58.0,24.0,27.0,33.0,28.0,39.0,27.0,36.0,64.0,41.0,null,27.0,null,22.0,23.0,40.0,2.0,0.0,27.0,0.0,17.0,45.0,62.0,14.0,24.0,51.0,49.0,52.0,35.0,22.0,17.0,47.0,25.0,11.0,17.0,41.0,55.0,29.0,19.0,23.0,32.0,27.0,25.0,24.0,30.0,50.0,51.0,27.0,35.0,48.0,27.0,19.0,18.0,25.0,41.0,62.0,30.0,6.0,15.0,34.0,34.0,23.0,51.0,63.0,42.0,19.0,5.0,2.0,15.0,36.0,32.0,19.0,26.0,33.0,38.0,22.0,32.0,30.0,51.0,29.0,16.0,32.0,24.0,23.0,46.0,49.0,17.0,35.0,43.0,20.0,24.0,28.0,19.0,39.0,34.0,29.0,14.0,null,30.0,null,32.0,7.0,34.0,47.0,19.0,52.0,19.0,18.0,32.0,21.0,22.0,13.0,25.0,33.0,27.0,21.0,17.0,15.0,58.0,29.0,34.0,28.0,29.0,25.0,23.0,22.0,38.0,38.0,0.0,null,0.0,37.0,2.0,40.0,47.0,34.0,43.0,21.0,43.0,33.0,28.0,57.0,null,46.0,19.0,27.0,2.0,0.0,25.0,47.0,38.0,24.0,24.0,25.0,29.0,44.0,20.0,23.0,26.0,20.0,27.0,23.0,33.0,30.0,32.0,19.0,41.0,50.0,36.0,21.0,45.0,26.0,44.0,24.0,15.0,58.0,13.0,19.0,25.0,24.0,20.0,34.0,13.0,null,39.0,0.0,10.0,9.0,34.0,11.0,0.0,24.0,16.0,42.0,41.0,36.0,27.0,32.0,11.0,26.0,28.0,25.0,5.0,null,13.0,30.0,15.0,0.0,49.0,52.0,15.0,40.0,0.0,32.0,15.0,26.0,31.0,8.0,18.0,3.0,44.0,15.0,27.0,22.0,2.0,32.0,16.0,34.0,32.0,28.0,27.0,35.0,25.0,24.0,61.0,28.0,29.0,41.0,20.0,18.0,28.0,18.0,33.0,35.0,68.0,19.0,33.0,55.0,15.0,23.0,23.0,15.0,49.0,33.0,26.0,26.0,18.0,17.0,39.0,8.0,46.0,32.0,19.0,36.0,28.0,39.0,16.0,7.0,1.0,30.0,44.0,28.0,29.0,41.0,13.0,18.0,27.0,26.0,24.0,26.0,27.0,58.0,54.0,18.0,13.0,13.0,28.0,57.0,32.0,32.0,21.0,34.0,33.0,36.0,50.0,28.0,56.0,42.0,39.0,13.0,28.0,55.0,36.0,null,37.0,50.0,27.0,23.0,16.0,33.0,46.0,26.0,24.0,26.0,2.0,33.0,32.0,3.0,2.0,6.0,null,0.0,4.0,58.0,22.0,51.0,37.0,17.0,21.0,null,null,31.0,43.0,null,15.0,18.0,33.0,31.0,41.0,22.0,40.0,49.0,14.0,22.0,22.0,25.0,42.0,16.0,12.0,18.0,33.0,14.0,36.0,23.0,24.0,4.0,null,18.0,21.0,27.0,34.0,28.0,35.0,16.0,36.0,30.0,4.0,19.0,3.0,51.0,null,45.0,18.0,23.0,15.0,34.0,47.0,27.0,26.0,25.0,34.0,27.0,39.0,31.0,4.0,19.0,59.0,19.0,25.0,28.0,37.0,43.0,18.0,36.0,14.0,42.0,29.0,23.0,16.0,8.0,20.0,50.0,38.0,39.0,33.0,30.0,40.0,22.0,52.0,26.0,19.0,33.0,33.0,20.0,28.0,10.0,23.0,28.0,23.0,54.0,57.0,24.0,37.0,59.0,53.0,22.0,18.0,17.0,25.0,18.0,20.0,24.0,33.0,34.0,24.0,37.0,23.0,32.0,13.0,23.0,23.0,27.0,47.0,38.0,28.0,21.0,null,64.0,43.0,21.0,36.0,22.0,24.0,21.0,57.0,46.0,42.0,16.0,40.0,3.0,8.0,3.0,35.0,12.0,null,47.0,19.0,46.0,28.0,5.0,7.0,3.0,1.0,7.0,60.0,34.0,28.0,64.0,13.0,15.0,65.0,53.0,58.0,19.0,null,16.0,48.0,33.0,31.0,44.0,40.0,34.0,21.0,20.0,9.0,33.0,2.0,53.0,0.0,38.0,21.0,31.0,7.0,12.0,0.0,17.0,55.0,2.0,32.0,16.0,0.0,29.0,25.0,39.0,42.0,0.0,14.0,29.0,54.0,35.0,null,18.0,14.0,53.0,48.0,21.0,44.0,25.0,0.0,27.0,40.0,44.0,36.0,3.0,9.0,1.0,17.0,47.0,null,33.0,16.0,30.0,18.0,26.0,19.0,28.0,35.0,40.0,26.0,45.0,18.0,54.0,13.0,26.0,16.0,37.0,17.0,16.0,18.0,21.0,24.0,22.0,41.0,15.0,36.0,23.0,31.0,19.0,23.0,47.0,40.0,34.0,2.0,8.0,0.0,18.0,11.0,18.0,19.0,2.0,25.0,0.0,27.0,34.0,19.0,22.0,22.0,52.0,30.0,65.0,31.0,51.0,21.0,27.0,31.0,28.0,29.0,23.0,11.0,23.0,34.0,20.0,20.0,16.0,18.0,20.0,20.0,27.0,55.0,53.0,37.0,55.0,24.0,24.0,49.0,17.0,39.0,5.0,10.0,1.0,16.0,51.0,5.0,19.0,0.0,20.0,0.0,1.0,38.0,40.0,18.0,36.0,23.0,42.0,37.0,24.0,12.0,2.0,28.0,44.0,26.0,36.0,28.0,14.0,14.0,28.0,27.0,21.0,24.0,18.0,24.0,8.0,36.0,32.0,19.0,12.0,21.0,13.0,20.0,35.0,23.0,17.0,29.0,27.0,22.0,26.0,1.0,7.0,78.0,24.0,26.0,50.0,16.0,57.0,29.0,27.0,42.0,28.0,18.0,38.0,32.0,21.0,6.0,27.0,32.0,23.0,29.0,22.0,31.0,0.0,2.0,null,28.0,20.0,28.0,42.0,32.0,19.0,20.0,20.0,21.0,32.0,16.0,21.0,12.0,21.0,31.0,18.0,35.0,44.0,13.0,21.0,37.0,null,34.0,21.0,38.0,31.0,61.0,20.0,39.0,29.0,68.0,38.0,31.0,41.0,29.0,25.0,27.0,21.0,30.0,40.0,59.0,35.0,41.0,36.0,58.0,27.0,24.0,50.0,22.0,26.0,16.0,56.0,25.0,13.0,53.0,21.0,18.0,38.0,20.0,24.0,56.0,47.0,21.0,null,26.0,34.0,35.0,35.0,49.0,24.0,62.0,25.0,42.0,25.0,21.0,17.0,41.0,50.0,20.0,15.0,29.0,20.0,35.0,22.0,43.0,54.0,15.0,38.0,44.0,34.0,15.0,24.0,29.0,19.0,27.0,26.0,46.0,64.0,17.0,45.0,27.0,29.0,18.0,26.0,39.0,59.0,20.0,17.0,47.0,29.0,16.0,48.0,39.0,28.0,12.0,24.0,30.0,34.0,37.0,47.0,0.0,23.0,0.0,20.0,35.0,18.0,17.0,18.0,53.0,35.0,48.0,68.0,27.0,28.0,37.0,35.0,31.0,14.0,1.0,4.0,30.0,11.0,45.0,29.0,32.0,15.0,25.0,25.0,60.0,24.0,35.0,36.0,22.0,32.0,57.0,30.0,46.0,28.0,26.0,55.0,66.0,20.0,31.0,13.0,50.0,21.0,25.0,46.0,0.0,2.0,36.0,19.0,35.0,41.0,22.0,25.0,24.0,37.0,5.0,null,41.0,44.0,23.0,28.0,27.0,40.0,27.0,17.0,32.0,29.0,29.0,41.0,48.0,27.0,14.0,32.0,47.0,14.0,37.0,33.0,33.0,44.0,37.0,18.0,33.0,21.0,38.0,16.0,58.0,41.0,28.0,28.0,31.0,27.0,7.0,25.0,34.0,21.0,29.0,23.0,31.0,50.0,25.0,25.0,23.0,46.0,0.0,53.0,25.0,30.0,18.0,20.0,54.0,20.0,32.0,31.0,55.0,16.0,0.0,3.0,33.0,45.0,6.0,33.0,14.0,24.0,47.0,37.0,14.0,44.0,11.0,15.0,39.0,15.0,60.0,49.0,23.0,9.0,0.0,17.0,42.0,16.0,0.0,26.0,56.0,26.0,41.0,27.0,31.0,40.0,40.0,15.0,50.0,42.0,50.0,39.0,27.0,20.0,30.0,16.0,36.0,68.0,22.0,36.0,3.0,28.0,32.0,10.0,0.0,9.0,37.0,31.0,31.0,43.0,15.0,58.0,30.0,24.0,49.0,73.0,14.0,50.0,12.0,2.0,49.0,32.0,null,33.0,23.0,23.0,43.0,36.0,26.0,29.0,21.0,30.0,23.0,13.0,22.0,25.0,52.0,22.0,31.0,23.0,35.0,26.0,14.0,39.0,8.0,29.0,15.0,48.0,9.0,25.0,13.0,25.0,27.0,32.0,20.0,40.0,18.0,21.0,38.0,62.0,23.0,48.0,27.0,32.0,53.0,26.0,46.0,32.0,40.0,27.0,28.0,29.0,37.0,0.0,12.0,25.0,null,3.0,9.0,27.0,59.0,24.0,16.0,16.0,46.0,25.0,39.0,15.0,16.0,35.0,43.0,7.0,29.0,60.0,49.0,50.0,40.0,49.0,18.0,29.0,56.0,29.0,29.0,22.0,24.0,23.0,28.0,19.0,32.0,37.0,26.0,43.0,25.0,11.0,4.0,32.0,15.0,17.0,37.0,20.0,47.0,16.0,8.0,22.0,39.0,57.0,29.0,null,70.0,13.0,49.0,25.0,19.0,15.0,37.0,null,28.0,22.0,26.0,25.0,19.0,20.0,35.0,37.0,37.0,13.0,20.0,65.0,29.0,0.0,4.0,19.0,17.0,28.0,28.0,21.0,45.0,21.0,20.0,38.0,24.0,22.0,44.0,41.0,21.0,26.0,54.0,19.0,32.0,null,26.0,28.0,21.0,38.0,43.0,12.0,25.0,27.0,22.0,20.0,24.0,34.0,42.0,24.0,28.0,29.0,31.0,29.0,14.0,16.0,16.0,27.0,null,23.0,16.0,30.0,24.0,36.0,25.0,29.0,21.0,26.0,30.0,31.0,20.0,null,33.0,35.0,46.0,63.0,37.0,23.0,5.0,16.0,20.0,49.0,3.0,41.0,null,14.0,26.0,51.0,36.0,16.0,18.0,48.0,24.0,19.0,21.0,24.0,21.0,13.0,39.0,27.0,23.0,43.0,19.0,30.0,52.0,35.0,16.0,21.0,45.0,22.0,null,0.0,63.0,56.0,40.0,1.0,24.0,36.0,13.0,13.0,37.0,44.0,32.0,57.0,26.0,62.0,2.0,1.0,24.0,1.0,63.0,20.0,15.0,32.0,24.0,32.0,36.0,13.0,29.0,27.0,30.0,27.0,14.0,32.0,33.0,35.0,21.0,57.0,42.0,20.0,18.0,49.0,23.0,24.0,24.0,23.0,24.0,26.0,28.0,17.0,20.0,22.0,23.0,22.0,29.0,null,31.0,37.0,44.0,34.0,23.0,18.0,18.0,23.0,18.0,22.0,10.0,null,31.0,48.0,51.0,25.0,32.0,8.0,49.0,28.0,3.0,null,31.0,11.0,27.0,33.0,32.0,20.0,33.0,65.0,18.0,19.0,33.0,null,31.0,37.0,19.0,18.0,47.0,26.0,25.0,38.0,53.0,38.0,28.0,46.0,18.0,14.0,32.0,44.0,28.0,2.0,28.0,27.0,29.0,14.0,14.0,17.0,35.0,36.0,51.0,54.0,37.0,37.0,24.0,null,38.0,28.0,0.0,16.0,25.0,22.0,24.0,37.0,21.0,53.0,0.0,2.0,64.0,24.0,40.0,32.0,54.0,30.0,37.0,20.0,22.0,57.0,34.0,51.0,47.0,22.0,36.0,16.0,60.0,39.0,18.0,30.0,45.0,30.0,21.0,0.0,51.0,22.0,26.0,10.0,21.0,14.0,null,43.0,22.0,22.0,23.0,25.0,35.0,30.0,37.0,21.0,36.0,13.0,22.0,36.0,17.0,38.0,34.0,20.0,17.0,36.0,52.0,32.0,35.0,null,36.0,36.0,21.0,33.0,40.0,24.0,35.0,29.0,33.0,51.0,10.0,41.0,26.0,39.0,14.0,28.0,18.0,41.0,33.0,26.0,31.0,63.0,30.0,27.0,47.0,37.0,14.0,27.0,61.0,39.0,22.0,30.0,26.0,25.0,42.0,33.0,60.0,16.0,50.0,22.0,15.0,27.0,58.0,48.0,36.0,60.0,46.0,58.0,40.0,3.0,23.0,21.0,29.0,23.0,41.0,20.0,24.0,21.0,55.0,21.0,42.0,40.0,30.0,26.0,43.0,20.0,19.0,40.0,17.0,62.0,32.0,37.0,40.0,25.0,17.0,46.0,38.0,43.0,28.0,31.0,35.0,19.0,24.0,20.0,16.0,45.0,19.0,23.0,19.0,32.0,41.0,30.0,41.0,7.0,39.0,47.0,21.0,29.0,19.0,50.0,28.0,38.0,24.0,31.0,38.0,26.0,28.0,45.0,47.0,60.0,42.0,43.0,17.0,17.0,20.0,18.0,24.0,25.0,20.0,23.0,48.0,26.0,36.0,27.0,41.0,21.0,71.0,64.0,33.0,24.0,35.0,13.0,11.0,null,43.0,36.0,22.0,56.0,34.0,46.0,43.0,25.0,26.0,14.0,63.0,29.0,45.0,15.0,19.0,53.0,45.0,41.0,68.0,5.0,27.0,20.0,54.0,18.0,45.0,26.0,37.0,30.0,51.0,3.0,3.0,19.0,19.0,6.0,4.0,23.0,37.0,18.0,29.0,25.0,52.0,24.0,0.0,25.0,26.0,32.0,58.0,44.0,41.0,24.0,41.0,23.0,27.0,61.0,18.0,18.0,null,15.0,12.0,40.0,19.0,18.0,48.0,37.0,35.0,29.0,54.0,null,22.0,18.0,26.0,19.0,22.0,17.0,18.0,39.0,37.0,17.0,25.0,9.0,15.0,19.0,18.0,50.0,14.0,19.0,33.0,23.0,39.0,14.0,14.0,45.0,22.0,36.0,19.0,59.0,31.0,31.0,39.0,28.0,19.0,29.0,0.0,15.0,18.0,49.0,36.0,40.0,56.0,67.0,44.0,17.0,27.0,23.0,28.0,54.0,26.0,40.0,39.0,40.0,20.0,18.0,17.0,35.0,31.0,40.0,50.0,21.0,29.0,63.0,19.0,36.0,48.0,33.0,28.0,39.0,27.0,58.0,44.0,23.0,21.0,53.0,14.0,17.0,25.0,44.0,24.0,24.0,24.0,0.0,7.0,3.0,18.0,4.0,40.0,16.0,25.0,10.0,40.0,19.0,15.0,24.0,21.0,29.0,37.0,49.0,42.0,54.0,33.0,27.0,53.0,28.0,24.0,20.0,0.0,24.0,28.0,42.0,32.0,36.0,40.0,30.0,34.0,37.0,41.0,25.0,39.0,0.0,54.0,16.0,0.0,13.0,46.0,23.0,18.0,27.0,24.0,27.0,24.0,25.0,30.0,19.0,18.0,49.0,64.0,26.0,53.0,27.0,27.0,25.0,33.0,27.0,20.0,39.0,27.0,19.0,22.0,3.0,24.0,41.0,18.0,63.0,19.0,39.0,null,41.0,44.0,39.0,29.0,37.0,41.0,18.0,null,55.0,21.0,28.0,43.0,32.0,23.0,5.0,14.0,24.0,22.0,14.0,20.0,17.0,20.0,22.0,15.0,67.0,28.0,57.0,21.0,34.0,17.0,33.0,33.0,28.0,18.0,28.0,13.0,38.0,39.0,18.0,43.0,32.0,29.0,45.0,25.0,64.0,18.0,44.0,15.0,21.0,33.0,3.0,19.0,37.0,24.0,26.0,26.0,26.0,22.0,26.0,27.0,27.0,37.0,22.0,24.0,23.0,18.0,28.0,4.0,23.0,2.0,46.0,0.0,16.0,19.0,34.0,34.0,24.0,28.0,44.0,35.0,20.0,18.0,43.0,48.0,46.0,75.0,24.0,34.0,29.0,46.0,22.0,42.0,46.0,15.0,42.0,31.0,9.0,34.0,21.0,16.0,40.0,23.0,6.0,17.0,37.0,30.0,32.0,41.0,43.0,17.0,37.0,18.0,1.0,38.0,25.0,6.0,1.0,7.0,24.0,19.0,26.0,49.0,18.0,25.0,46.0,33.0,10.0,38.0,23.0,26.0,16.0,29.0,35.0,58.0,17.0,16.0,2.0,13.0,18.0,29.0,21.0,43.0,69.0,40.0,1.0,36.0,60.0,17.0,49.0,23.0,39.0,53.0,26.0,31.0,48.0,26.0,25.0,25.0,30.0,null,23.0,24.0,47.0,37.0,24.0,21.0,42.0,39.0,28.0,32.0,31.0,13.0,41.0,21.0,null,9.0,36.0,30.0,27.0,40.0,41.0,16.0,36.0,15.0,39.0,21.0,24.0,28.0,47.0,55.0,null,22.0,26.0,62.0,53.0,29.0,21.0,18.0,34.0,19.0,14.0,21.0,55.0,18.0,33.0,35.0,31.0,27.0,null,13.0,24.0,22.0,32.0,18.0,53.0,4.0,24.0,23.0,1.0,18.0,21.0,40.0,49.0,25.0,21.0,40.0,47.0,25.0,36.0,39.0,26.0,0.0,14.0,7.0,50.0,22.0,17.0,35.0,22.0,26.0,24.0,59.0,24.0,17.0,28.0,38.0,2.0,36.0,32.0,15.0,54.0,18.0,22.0,23.0,14.0,26.0,73.0,29.0,29.0,12.0,27.0,31.0,26.0,35.0,25.0,40.0,18.0,52.0,35.0,51.0,35.0,14.0,null,26.0,21.0,45.0,29.0,39.0,37.0,22.0,22.0,30.0,1.0,0.0,9.0,18.0,29.0,52.0,27.0,54.0,28.0,65.0,26.0,29.0,20.0,39.0,37.0,20.0,40.0,0.0,33.0,23.0,32.0,20.0,60.0,53.0,26.0,35.0,19.0,43.0,29.0,20.0,19.0,21.0,39.0,12.0,20.0,18.0,31.0,35.0,44.0,62.0,23.0,23.0,19.0,29.0,31.0,33.0,41.0,60.0,41.0,69.0,44.0,18.0,26.0,30.0,34.0,18.0,49.0,71.0,19.0,23.0,31.0,40.0,28.0,17.0,24.0,54.0,21.0,2.0,20.0,20.0,36.0,25.0,58.0,37.0,26.0,45.0,44.0,24.0,13.0,4.0,24.0,27.0,39.0,23.0,4.0,0.0,22.0,27.0,22.0,26.0,60.0,18.0,20.0,25.0,24.0,38.0,18.0,45.0,13.0,28.0,5.0,20.0,2.0,42.0,0.0,18.0,26.0,3.0,49.0,19.0,19.0,15.0,53.0,0.0,39.0,45.0,10.0,1.0,9.0,40.0,26.0,18.0,47.0,31.0,null,23.0,32.0,32.0,21.0,null,22.0,18.0,28.0,38.0,46.0,44.0,38.0,28.0,31.0,18.0,18.0,4.0,0.0,0.0,23.0,35.0,43.0,18.0,18.0,18.0,49.0,19.0,22.0,4.0,0.0,null,39.0,36.0,53.0,23.0,24.0,25.0,30.0,20.0,40.0,18.0,57.0,47.0,26.0,29.0,32.0,30.0,18.0,49.0,33.0,18.0,29.0,34.0,43.0,18.0,31.0,15.0,3.0,37.0,1.0,27.0,15.0,33.0,65.0,19.0,30.0,37.0,15.0,19.0,20.0,19.0,21.0,20.0,18.0,27.0,23.0,25.0,72.0,35.0,29.0,11.0,7.0,null,28.0,41.0,null,19.0,8.0,4.0,38.0,21.0,18.0,10.0,29.0,25.0,40.0,19.0,38.0,19.0,0.0,4.0,29.0,46.0,32.0,26.0,23.0,32.0,31.0,34.0,45.0,61.0,21.0,null,15.0,14.0,18.0,39.0,62.0,40.0,21.0,12.0,27.0,28.0,0.0,17.0,23.0,6.0,29.0,41.0,27.0,34.0,36.0,30.0,30.0,29.0,21.0,21.0,18.0,11.0,65.0,25.0,0.0,24.0,19.0,23.0,45.0,52.0,55.0,24.0,31.0,18.0,22.0,39.0,19.0,33.0,14.0,30.0,30.0,21.0,45.0,17.0,39.0,22.0,37.0,48.0,33.0,37.0,27.0,29.0,38.0,16.0,18.0,null,47.0,15.0,13.0,19.0,17.0,31.0,19.0,25.0,26.0,25.0,2.0,7.0,2.0,19.0,1.0,4.0,49.0,61.0,57.0,52.0,22.0,37.0,15.0,28.0,40.0,13.0,24.0,25.0,25.0,43.0,46.0,3.0,3.0,3.0,8.0,57.0,11.0,20.0,27.0,20.0,14.0,24.0,21.0,33.0,32.0,22.0,15.0,41.0,31.0,35.0,48.0,15.0,37.0,21.0,34.0,19.0,52.0,15.0,24.0,45.0,13.0,18.0,19.0,20.0,20.0,27.0,22.0,17.0,23.0,29.0,24.0,26.0,36.0,25.0,36.0,32.0,16.0,32.0,48.0,25.0,46.0,32.0,50.0,31.0,27.0,52.0,34.0,40.0,36.0,19.0,33.0,23.0,57.0,24.0,19.0,54.0,28.0,26.0,43.0,39.0,21.0,24.0,35.0,61.0,21.0,14.0,38.0,23.0,31.0,66.0,56.0,21.0,49.0,21.0,27.0,23.0,27.0,49.0,38.0,60.0,47.0,29.0,19.0,32.0,22.0,35.0,28.0,22.0,42.0,37.0,31.0,33.0,48.0,31.0,18.0,44.0,22.0,18.0,48.0,2.0,0.0,43.0,51.0,48.0,51.0,20.0,41.0,27.0,56.0,26.0,21.0,null,23.0,28.0,40.0,39.0,16.0,20.0,24.0,45.0,33.0,19.0,15.0,18.0,21.0,37.0,53.0,19.0,17.0,58.0,18.0,25.0,39.0,40.0,27.0,3.0,18.0,18.0,29.0,22.0,34.0,19.0,26.0,33.0,34.0,18.0,40.0,53.0,8.0,54.0,29.0,56.0,21.0,25.0,33.0,22.0,50.0,24.0,25.0,59.0,26.0,19.0,37.0,22.0,44.0,25.0,23.0,6.0,39.0,26.0,14.0,3.0,21.0,24.0,18.0,37.0,21.0,67.0,28.0,13.0,26.0,33.0,18.0,24.0,26.0,21.0,27.0,15.0,24.0,31.0,10.0,23.0,50.0,13.0,43.0,20.0,21.0,18.0,16.0,47.0,35.0,15.0,46.0,6.0,26.0,49.0,28.0,37.0,17.0,38.0,18.0,55.0,28.0,25.0,17.0,22.0,4.0,3.0,21.0,24.0,50.0,3.0,19.0,22.0,20.0,18.0,27.0,29.0,23.0,48.0,32.0,55.0,49.0,15.0,50.0,35.0,29.0,38.0,29.0,39.0,49.0,39.0,19.0,19.0,14.0,40.0,40.0,20.0,6.0,41.0,37.0,31.0,8.0,55.0,16.0,29.0,40.0,27.0,21.0,25.0,44.0,34.0,1.0,1.0,42.0,18.0,21.0,24.0,null,18.0,27.0,13.0,10.0,8.0,40.0,35.0,13.0,19.0,44.0,36.0,29.0,28.0,36.0,24.0,14.0,50.0,20.0,38.0,33.0,54.0,20.0,23.0,65.0,51.0,36.0,38.0,28.0,32.0,55.0,23.0,38.0,18.0,32.0,44.0,62.0,66.0,20.0,19.0,null,25.0,20.0,18.0,20.0,14.0,49.0,49.0,19.0,53.0,31.0,18.0,24.0,35.0,27.0,38.0,23.0,22.0,38.0,28.0,25.0,45.0,22.0,30.0,25.0,24.0,44.0,6.0,0.0,14.0,37.0,15.0,0.0,17.0,58.0,15.0,53.0,29.0,24.0,40.0,21.0,30.0,20.0,20.0,18.0,36.0,20.0,4.0,59.0,20.0,4.0,23.0,25.0,20.0,22.0,6.0,14.0,0.0,4.0,37.0,14.0,34.0,3.0,18.0,27.0,19.0,37.0,29.0,37.0,32.0,22.0,38.0,24.0,63.0,23.0,41.0,20.0,48.0,44.0,15.0,29.0,64.0,19.0,28.0,44.0,13.0,45.0,25.0,19.0,29.0,21.0,13.0,25.0,46.0,37.0,19.0,29.0,21.0,13.0,15.0,42.0,null,26.0,19.0,18.0,50.0,28.0,24.0,31.0,19.0,20.0,23.0,19.0,27.0,16.0,76.0,41.0,24.0,12.0,28.0,36.0,20.0,7.0,21.0,33.0,32.0,34.0,38.0,null,28.0,25.0,24.0,18.0,24.0,30.0,38.0,39.0,31.0,33.0,15.0,23.0,24.0,44.0,22.0,28.0,34.0,8.0,26.0,29.0,58.0,4.0,1.0,17.0,27.0,24.0,16.0,28.0,23.0,33.0,24.0,6.0,19.0,31.0,19.0,18.0,35.0,32.0,19.0,24.0,33.0,20.0,27.0,26.0,28.0,19.0,24.0,52.0,23.0,23.0,25.0,22.0,35.0,24.0,24.0,26.0,37.0,14.0,36.0,0.0,17.0,18.0,43.0,21.0,34.0,57.0,18.0,73.0,31.0,25.0,20.0,24.0,null,21.0,22.0,39.0,26.0,32.0,1.0,7.0,4.0,21.0,12.0,28.0,0.0,18.0,52.0,18.0,51.0,21.0,28.0,34.0,13.0,35.0,27.0,35.0,51.0,53.0,29.0,41.0,47.0,22.0,19.0,22.0,25.0,null,17.0,0.0,5.0,30.0,17.0,53.0,9.0,17.0,16.0,29.0,29.0,46.0,27.0,39.0,15.0,30.0,41.0,47.0,32.0,15.0,23.0,20.0,33.0,18.0,31.0,25.0,19.0,32.0,45.0,43.0,21.0,48.0,0.0,29.0,41.0,23.0,48.0,18.0,30.0,26.0,18.0,27.0,58.0,22.0,17.0,28.0,27.0,51.0,37.0,14.0,43.0,27.0,60.0,33.0,39.0,21.0,21.0,28.0,30.0,42.0,25.0,25.0,25.0,54.0,41.0,36.0,33.0,36.0,55.0,16.0,28.0,26.0,42.0,30.0,31.0,22.0,26.0,25.0,44.0,29.0,22.0,23.0,30.0,23.0,13.0,53.0,0.0,27.0,27.0,10.0,2.0,5.0,24.0,32.0,22.0,22.0,44.0,55.0,22.0,8.0,15.0,1.0,9.0,48.0,16.0,27.0,3.0,25.0,70.0,30.0,57.0,42.0,14.0,43.0,34.0,21.0,32.0,21.0,25.0,25.0,38.0,36.0,44.0,37.0,47.0,38.0,28.0,38.0,53.0,26.0,13.0,64.0,16.0,13.0,55.0,26.0,23.0,55.0,50.0,26.0,36.0,33.0,21.0,41.0,33.0,23.0,31.0,28.0,13.0,null,35.0,25.0,19.0,56.0,18.0,22.0,34.0,11.0,37.0,22.0,45.0,19.0,39.0,28.0,36.0,1.0,10.0,12.0,31.0,12.0,3.0,30.0,41.0,19.0,38.0,36.0,0.0,20.0,23.0,35.0,36.0,41.0,38.0,33.0,54.0,33.0,54.0,32.0,24.0,53.0,26.0,31.0,18.0,39.0,37.0,35.0,34.0,28.0,43.0,2.0,24.0,18.0,21.0,24.0,35.0,53.0,32.0,44.0,33.0,40.0,31.0,23.0,44.0,41.0,31.0,30.0,33.0,30.0,26.0,22.0,37.0,15.0,52.0,35.0,40.0,60.0,24.0,31.0,43.0,9.0,51.0,25.0,20.0,22.0,21.0,50.0,24.0,45.0,22.0,7.0,11.0,1.0,0.0,8.0,36.0,2.0,0.0,22.0,41.0,49.0,30.0,37.0,14.0,30.0,62.0,13.0,32.0,33.0,38.0,29.0,25.0,26.0,19.0,16.0,61.0,28.0,13.0,44.0,22.0,30.0,21.0,20.0,31.0,33.0,26.0,21.0,23.0,0.0,32.0,30.0,41.0,18.0,26.0,32.0,44.0],\"xaxis\":\"x2\",\"yaxis\":\"y2\",\"type\":\"box\"},{\"alignmentgroup\":\"True\",\"bingroup\":\"x\",\"hovertemplate\":\"type=Test<br>Age=%{x}<br>count=%{y}<extra></extra>\",\"legendgroup\":\"Test\",\"marker\":{\"color\":\"#DE3163\",\"pattern\":{\"shape\":\"\"}},\"name\":\"Test\",\"nbinsx\":100,\"offsetgroup\":\"Test\",\"orientation\":\"v\",\"showlegend\":true,\"x\":[27.0,19.0,31.0,38.0,20.0,31.0,21.0,20.0,23.0,24.0,19.0,45.0,44.0,46.0,21.0,27.0,20.0,44.0,29.0,40.0,30.0,14.0,31.0,27.0,66.0,24.0,19.0,36.0,21.0,18.0,26.0,19.0,48.0,23.0,24.0,19.0,24.0,27.0,6.0,33.0,23.0,30.0,null,1.0,20.0,17.0,34.0,24.0,29.0,20.0,5.0,22.0,16.0,7.0,36.0,26.0,40.0,29.0,2.0,23.0,0.0,30.0,56.0,36.0,56.0,19.0,39.0,38.0,null,35.0,26.0,31.0,38.0,27.0,30.0,22.0,29.0,0.0,8.0,3.0,27.0,9.0,29.0,18.0,22.0,24.0,25.0,36.0,14.0,24.0,26.0,29.0,40.0,36.0,46.0,42.0,23.0,19.0,25.0,22.0,35.0,39.0,42.0,35.0,29.0,20.0,25.0,36.0,39.0,23.0,19.0,50.0,41.0,19.0,20.0,19.0,38.0,32.0,44.0,18.0,49.0,23.0,31.0,55.0,60.0,20.0,34.0,14.0,26.0,19.0,25.0,42.0,18.0,50.0,26.0,47.0,35.0,58.0,20.0,28.0,12.0,20.0,22.0,31.0,24.0,17.0,null,18.0,48.0,38.0,33.0,20.0,22.0,52.0,15.0,25.0,14.0,null,16.0,48.0,36.0,19.0,43.0,32.0,54.0,33.0,21.0,33.0,28.0,23.0,26.0,41.0,2.0,21.0,70.0,20.0,31.0,8.0,5.0,45.0,37.0,24.0,55.0,18.0,36.0,59.0,61.0,46.0,29.0,18.0,20.0,28.0,26.0,32.0,18.0,50.0,47.0,15.0,35.0,49.0,32.0,63.0,54.0,21.0,38.0,50.0,32.0,33.0,30.0,28.0,22.0,null,37.0,59.0,31.0,25.0,38.0,37.0,44.0,28.0,45.0,53.0,21.0,33.0,18.0,37.0,34.0,46.0,18.0,19.0,4.0,0.0,12.0,7.0,34.0,10.0,0.0,14.0,27.0,21.0,37.0,29.0,17.0,17.0,35.0,34.0,17.0,39.0,56.0,35.0,17.0,29.0,15.0,37.0,36.0,36.0,18.0,61.0,45.0,21.0,65.0,27.0,13.0,32.0,17.0,44.0,21.0,16.0,41.0,40.0,16.0,17.0,40.0,37.0,53.0,42.0,31.0,18.0,51.0,20.0,19.0,22.0,41.0,28.0,0.0,42.0,20.0,25.0,22.0,25.0,45.0,19.0,16.0,18.0,38.0,27.0,36.0,21.0,1.0,25.0,3.0,7.0,0.0,32.0,5.0,79.0,19.0,30.0,13.0,53.0,40.0,32.0,31.0,63.0,18.0,21.0,14.0,41.0,40.0,58.0,22.0,13.0,16.0,13.0,15.0,42.0,24.0,19.0,null,29.0,15.0,38.0,49.0,20.0,null,19.0,46.0,21.0,29.0,null,44.0,19.0,29.0,25.0,41.0,19.0,33.0,25.0,44.0,21.0,32.0,33.0,32.0,19.0,21.0,23.0,31.0,22.0,74.0,53.0,40.0,23.0,36.0,18.0,29.0,48.0,34.0,34.0,27.0,44.0,0.0,1.0,18.0,23.0,26.0,46.0,41.0,25.0,50.0,28.0,17.0,29.0,19.0,34.0,28.0,47.0,28.0,38.0,22.0,18.0,21.0,40.0,67.0,39.0,19.0,28.0,29.0,22.0,23.0,41.0,25.0,43.0,54.0,14.0,69.0,24.0,37.0,28.0,59.0,20.0,23.0,59.0,20.0,36.0,43.0,9.0,32.0,24.0,14.0,45.0,23.0,59.0,28.0,61.0,52.0,5.0,51.0,26.0,44.0,46.0,32.0,17.0,21.0,52.0,52.0,14.0,21.0,42.0,28.0,26.0,7.0,14.0,3.0,26.0,54.0,55.0,16.0,38.0,48.0,13.0,20.0,18.0,45.0,5.0,42.0,50.0,21.0,22.0,23.0,22.0,21.0,24.0,24.0,42.0,19.0,32.0,35.0,19.0,55.0,35.0,63.0,66.0,45.0,20.0,21.0,51.0,13.0,24.0,28.0,52.0,32.0,23.0,37.0,35.0,46.0,33.0,34.0,51.0,null,27.0,22.0,33.0,31.0,16.0,6.0,18.0,30.0,24.0,57.0,24.0,23.0,40.0,21.0,17.0,25.0,34.0,18.0,8.0,14.0,16.0,22.0,21.0,23.0,26.0,18.0,72.0,18.0,24.0,36.0,13.0,19.0,28.0,2.0,5.0,25.0,45.0,59.0,6.0,36.0,40.0,36.0,31.0,19.0,13.0,31.0,22.0,52.0,22.0,34.0,23.0,14.0,30.0,75.0,28.0,61.0,25.0,21.0,null,28.0,41.0,25.0,28.0,0.0,19.0,22.0,2.0,35.0,42.0,46.0,26.0,19.0,11.0,11.0,17.0,23.0,37.0,18.0,48.0,18.0,18.0,32.0,26.0,26.0,55.0,19.0,65.0,28.0,24.0,52.0,67.0,34.0,23.0,26.0,28.0,9.0,1.0,1.0,58.0,59.0,54.0,8.0,28.0,19.0,23.0,47.0,17.0,33.0,43.0,28.0,32.0,13.0,18.0,16.0,6.0,27.0,29.0,32.0,23.0,33.0,51.0,41.0,20.0,0.0,13.0,13.0,13.0,24.0,null,32.0,24.0,27.0,24.0,34.0,26.0,22.0,10.0,28.0,5.0,null,29.0,17.0,18.0,35.0,42.0,35.0,42.0,33.0,20.0,2.0,2.0,43.0,10.0,26.0,42.0,24.0,32.0,23.0,null,15.0,15.0,null,15.0,13.0,33.0,47.0,27.0,18.0,10.0,40.0,28.0,23.0,23.0,41.0,20.0,29.0,17.0,21.0,25.0,25.0,28.0,24.0,56.0,36.0,20.0,50.0,29.0,34.0,40.0,20.0,36.0,25.0,25.0,17.0,42.0,47.0,23.0,null,39.0,43.0,23.0,46.0,31.0,37.0,48.0,28.0,38.0,31.0,35.0,28.0,29.0,19.0,null,44.0,59.0,23.0,48.0,49.0,15.0,30.0,20.0,20.0,6.0,1.0,1.0,2.0,8.0,29.0,43.0,73.0,48.0,24.0,20.0,17.0,42.0,22.0,54.0,41.0,0.0,20.0,54.0,73.0,17.0,21.0,60.0,50.0,17.0,18.0,25.0,57.0,46.0,71.0,21.0,38.0,23.0,24.0,25.0,35.0,21.0,22.0,60.0,29.0,49.0,27.0,23.0,23.0,33.0,35.0,27.0,44.0,18.0,31.0,21.0,27.0,36.0,33.0,30.0,29.0,32.0,31.0,27.0,25.0,38.0,47.0,24.0,46.0,16.0,30.0,0.0,60.0,50.0,37.0,27.0,29.0,null,22.0,null,null,14.0,null,20.0,19.0,14.0,69.0,26.0,25.0,36.0,34.0,4.0,1.0,24.0,21.0,25.0,44.0,22.0,64.0,32.0,42.0,29.0,4.0,17.0,21.0,52.0,29.0,35.0,23.0,27.0,8.0,20.0,16.0,35.0,44.0,19.0,2.0,30.0,28.0,44.0,20.0,22.0,14.0,20.0,45.0,19.0,42.0,23.0,43.0,20.0,11.0,20.0,21.0,17.0,32.0,24.0,4.0,4.0,36.0,27.0,46.0,24.0,3.0,21.0,42.0,26.0,38.0,36.0,28.0,62.0,22.0,18.0,12.0,32.0,11.0,47.0,48.0,38.0,19.0,22.0,21.0,37.0,28.0,15.0,57.0,22.0,22.0,29.0,0.0,44.0,22.0,25.0,64.0,21.0,35.0,15.0,48.0,22.0,42.0,13.0,35.0,27.0,21.0,22.0,33.0,25.0,37.0,36.0,47.0,34.0,29.0,39.0,27.0,35.0,0.0,33.0,24.0,19.0,33.0,19.0,16.0,47.0,40.0,19.0,27.0,31.0,24.0,31.0,41.0,16.0,27.0,11.0,28.0,51.0,1.0,56.0,null,57.0,13.0,32.0,28.0,12.0,35.0,33.0,14.0,26.0,25.0,27.0,23.0,45.0,50.0,24.0,54.0,19.0,19.0,28.0,28.0,39.0,20.0,30.0,35.0,36.0,33.0,30.0,25.0,45.0,23.0,51.0,31.0,55.0,24.0,57.0,24.0,44.0,0.0,15.0,49.0,24.0,47.0,26.0,null,4.0,30.0,23.0,23.0,4.0,3.0,42.0,22.0,21.0,28.0,35.0,20.0,22.0,30.0,0.0,22.0,15.0,4.0,19.0,29.0,17.0,21.0,20.0,24.0,6.0,9.0,21.0,46.0,20.0,27.0,23.0,28.0,53.0,41.0,32.0,27.0,31.0,20.0,19.0,55.0,35.0,70.0,22.0,46.0,16.0,14.0,13.0,44.0,15.0,32.0,26.0,42.0,44.0,15.0,35.0,35.0,24.0,19.0,37.0,31.0,39.0,35.0,26.0,26.0,0.0,8.0,44.0,20.0,56.0,31.0,16.0,29.0,22.0,39.0,25.0,43.0,37.0,24.0,53.0,19.0,24.0,31.0,27.0,57.0,26.0,15.0,19.0,27.0,23.0,6.0,15.0,2.0,21.0,0.0,18.0,46.0,43.0,45.0,40.0,44.0,27.0,55.0,24.0,27.0,33.0,35.0,33.0,34.0,37.0,46.0,45.0,14.0,null,56.0,24.0,19.0,51.0,24.0,23.0,21.0,6.0,11.0,4.0,0.0,7.0,24.0,32.0,43.0,24.0,49.0,21.0,29.0,25.0,27.0,14.0,67.0,17.0,44.0,52.0,14.0,17.0,19.0,36.0,19.0,25.0,39.0,32.0,75.0,37.0,25.0,33.0,25.0,24.0,22.0,22.0,36.0,4.0,61.0,0.0,15.0,42.0,27.0,5.0,32.0,38.0,21.0,23.0,34.0,28.0,23.0,14.0,60.0,78.0,6.0,17.0,41.0,40.0,47.0,23.0,41.0,60.0,46.0,19.0,18.0,0.0,28.0,30.0,9.0,0.0,4.0,22.0,32.0,7.0,19.0,34.0,24.0,17.0,31.0,42.0,14.0,27.0,21.0,24.0,34.0,35.0,43.0,25.0,19.0,25.0,22.0,23.0,42.0,40.0,71.0,18.0,34.0,4.0,18.0,22.0,38.0,33.0,27.0,18.0,34.0,66.0,47.0,35.0,23.0,36.0,36.0,35.0,15.0,39.0,48.0,47.0,21.0,31.0,13.0,32.0,22.0,40.0,15.0,33.0,28.0,17.0,20.0,42.0,18.0,27.0,32.0,19.0,9.0,36.0,21.0,40.0,42.0,40.0,22.0,15.0,38.0,15.0,24.0,22.0,24.0,25.0,22.0,57.0,25.0,21.0,41.0,27.0,18.0,61.0,9.0,1.0,27.0,20.0,2.0,0.0,25.0,22.0,32.0,28.0,43.0,28.0,32.0,54.0,27.0,30.0,25.0,39.0,14.0,8.0,22.0,27.0,43.0,16.0,40.0,48.0,25.0,29.0,60.0,22.0,37.0,35.0,23.0,24.0,15.0,18.0,14.0,39.0,12.0,43.0,45.0,24.0,52.0,18.0,38.0,null,28.0,19.0,45.0,27.0,15.0,22.0,23.0,32.0,15.0,30.0,60.0,50.0,45.0,24.0,22.0,20.0,19.0,40.0,14.0,18.0,20.0,35.0,24.0,30.0,44.0,42.0,3.0,19.0,69.0,50.0,15.0,18.0,25.0,15.0,62.0,19.0,29.0,28.0,25.0,22.0,35.0,61.0,26.0,19.0,2.0,0.0,26.0,6.0,23.0,50.0,18.0,7.0,3.0,3.0,37.0,25.0,22.0,20.0,32.0,34.0,47.0,23.0,22.0,35.0,18.0,36.0,32.0,29.0,19.0,45.0,null,14.0,22.0,31.0,25.0,15.0,28.0,34.0,28.0,45.0,44.0,22.0,48.0,25.0,24.0,20.0,46.0,40.0,26.0,56.0,37.0,35.0,15.0,21.0,24.0,30.0,34.0,16.0,55.0,27.0,44.0,17.0,17.0,36.0,18.0,14.0,21.0,26.0,null,21.0,25.0,27.0,25.0,43.0,35.0,21.0,23.0,17.0,21.0,21.0,39.0,22.0,40.0,25.0,6.0,1.0,1.0,20.0,17.0,22.0,18.0,49.0,27.0,40.0,22.0,55.0,45.0,33.0,42.0,27.0,16.0,23.0,31.0,62.0,43.0,57.0,23.0,20.0,21.0,27.0,31.0,31.0,24.0,27.0,28.0,44.0,19.0,14.0,65.0,73.0,null,25.0,null,34.0,63.0,53.0,18.0,40.0,28.0,45.0,32.0,19.0,65.0,20.0,18.0,18.0,58.0,25.0,13.0,null,22.0,22.0,10.0,14.0,44.0,10.0,37.0,37.0,44.0,42.0,18.0,34.0,15.0,36.0,27.0,33.0,27.0,22.0,19.0,18.0,31.0,41.0,48.0,23.0,29.0,38.0,21.0,20.0,27.0,33.0,24.0,23.0,22.0,13.0,24.0,32.0,17.0,28.0,46.0,18.0,24.0,20.0,17.0,44.0,34.0,19.0,28.0,null,57.0,34.0,18.0,28.0,6.0,53.0,6.0,33.0,43.0,44.0,28.0,37.0,55.0,40.0,38.0,24.0,53.0,61.0,17.0,20.0,22.0,27.0,19.0,23.0,33.0,26.0,33.0,39.0,47.0,33.0,40.0,19.0,26.0,24.0,15.0,2.0,33.0,14.0,22.0,45.0,58.0,13.0,36.0,35.0,23.0,27.0,24.0,43.0,67.0,29.0,28.0,18.0,35.0,22.0,19.0,47.0,16.0,41.0,26.0,37.0,26.0,21.0,45.0,28.0,26.0,35.0,60.0,7.0,15.0,26.0,38.0,24.0,77.0,22.0,22.0,20.0,47.0,25.0,9.0,19.0,44.0,41.0,53.0,27.0,20.0,23.0,20.0,null,51.0,22.0,36.0,18.0,19.0,17.0,29.0,18.0,22.0,43.0,24.0,25.0,20.0,23.0,32.0,51.0,22.0,22.0,30.0,23.0,61.0,24.0,19.0,27.0,29.0,55.0,26.0,58.0,60.0,13.0,39.0,35.0,21.0,37.0,31.0,20.0,27.0,40.0,null,36.0,19.0,22.0,15.0,18.0,25.0,62.0,53.0,null,19.0,21.0,20.0,56.0,64.0,null,36.0,51.0,16.0,21.0,50.0,0.0,34.0,3.0,11.0,5.0,47.0,1.0,0.0,23.0,27.0,46.0,34.0,2.0,11.0,1.0,13.0,41.0,11.0,52.0,15.0,58.0,23.0,34.0,9.0,25.0,38.0,42.0,40.0,18.0,42.0,40.0,28.0,56.0,22.0,39.0,35.0,36.0,34.0,22.0,21.0,16.0,35.0,19.0,36.0,32.0,69.0,44.0,34.0,35.0,25.0,3.0,12.0,3.0,13.0,26.0,2.0,25.0,19.0,33.0,41.0,55.0,30.0,35.0,7.0,38.0,51.0,18.0,44.0,18.0,13.0,49.0,8.0,22.0,32.0,null,56.0,18.0,27.0,46.0,18.0,30.0,35.0,48.0,33.0,0.0,11.0,0.0,14.0,9.0,37.0,30.0,21.0,32.0,4.0,19.0,25.0,34.0,19.0,18.0,23.0,53.0,13.0,20.0,34.0,18.0,0.0,35.0,0.0,62.0,15.0,28.0,5.0,22.0,14.0,43.0,24.0,65.0,44.0,50.0,15.0,18.0,41.0,21.0,16.0,21.0,29.0,19.0,18.0,25.0,45.0,32.0,33.0,null,24.0,29.0,24.0,22.0,18.0,16.0,17.0,18.0,25.0,46.0,36.0,62.0,48.0,16.0,27.0,52.0,25.0,13.0,35.0,20.0,42.0,50.0,66.0,31.0,37.0,72.0,30.0,29.0,21.0,33.0,28.0,41.0,44.0,45.0,61.0,21.0,25.0,38.0,68.0,0.0,21.0,55.0,60.0,19.0,17.0,16.0,29.0,29.0,0.0,15.0,27.0,24.0,14.0,17.0,37.0,23.0,17.0,33.0,30.0,20.0,null,25.0,19.0,31.0,23.0,29.0,20.0,26.0,26.0,51.0,null,17.0,22.0,31.0,2.0,0.0,3.0,28.0,21.0,15.0,18.0,52.0,49.0,42.0,28.0,31.0,19.0,41.0,31.0,13.0,35.0,29.0,0.0,19.0,null,19.0,26.0,47.0,29.0,46.0,18.0,33.0,20.0,37.0,35.0,25.0,22.0,47.0,31.0,27.0,47.0,46.0,47.0,40.0,39.0,39.0,35.0,43.0,38.0,31.0,20.0,44.0,25.0,25.0,20.0,33.0,58.0,23.0,35.0,13.0,21.0,20.0,15.0,48.0,58.0,25.0,43.0,53.0,13.0,8.0,53.0,22.0,31.0,28.0,22.0,27.0,29.0,42.0,42.0,33.0,32.0,42.0,22.0,18.0,46.0,20.0,21.0,26.0,51.0,53.0,29.0,25.0,69.0,26.0,38.0,37.0,14.0,36.0,42.0,25.0,35.0,26.0,12.0,48.0,13.0,21.0,26.0,32.0,25.0,51.0,15.0,14.0,41.0,13.0,39.0,19.0,17.0,41.0,43.0,18.0,22.0,29.0,22.0,62.0,29.0,26.0,8.0,26.0,38.0,49.0,18.0,18.0,35.0,34.0,11.0,null,22.0,18.0,36.0,17.0,25.0,29.0,25.0,34.0,16.0,28.0,29.0,38.0,39.0,48.0,23.0,16.0,21.0,21.0,4.0,27.0,18.0,22.0,28.0,22.0,39.0,29.0,42.0,0.0,52.0,26.0,19.0,23.0,36.0,26.0,62.0,28.0,25.0,0.0,24.0,49.0,21.0,29.0,19.0,32.0,20.0,48.0,27.0,49.0,20.0,25.0,null,73.0,23.0,23.0,26.0,48.0,null,54.0,56.0,30.0,24.0,23.0,57.0,null,14.0,51.0,16.0,29.0,43.0,16.0,38.0,40.0,44.0,25.0,20.0,19.0,47.0,21.0,15.0,26.0,50.0,19.0,null,18.0,0.0,34.0,25.0,8.0,0.0,6.0,27.0,32.0,63.0,36.0,33.0,28.0,43.0,23.0,22.0,56.0,25.0,28.0,44.0,20.0,17.0,18.0,15.0,23.0,27.0,10.0,10.0,0.0,16.0,48.0,7.0,50.0,5.0,50.0,35.0,23.0,28.0,20.0,47.0,26.0,17.0,43.0,37.0,25.0,26.0,23.0,46.0,23.0,26.0,27.0,18.0,63.0,2.0,0.0,0.0,37.0,18.0,33.0,31.0,34.0,18.0,20.0,37.0,30.0,7.0,32.0,68.0,0.0,23.0,38.0,26.0,29.0,43.0,38.0,25.0,18.0,23.0,26.0,45.0,25.0,16.0,25.0,11.0,22.0,38.0,25.0,17.0,20.0,24.0,37.0,32.0,32.0,20.0,50.0,33.0,47.0,49.0,20.0,26.0,24.0,11.0,47.0,22.0,35.0,25.0,33.0,20.0,16.0,29.0,16.0,43.0,33.0,16.0,22.0,18.0,36.0,17.0,34.0,1.0,24.0,20.0,56.0,26.0,35.0,3.0,23.0,19.0,0.0,30.0,50.0,15.0,19.0,null,35.0,45.0,0.0,74.0,24.0,39.0,18.0,39.0,33.0,21.0,35.0,66.0,14.0,20.0,18.0,36.0,27.0,51.0,18.0,46.0,67.0,24.0,35.0,14.0,22.0,20.0,23.0,23.0,21.0,36.0,19.0,22.0,58.0,14.0,18.0,40.0,24.0,26.0,16.0,null,21.0,17.0,23.0,22.0,20.0,38.0,37.0,31.0,27.0,31.0,21.0,36.0,20.0,36.0,40.0,25.0,32.0,25.0,49.0,28.0,58.0,null,22.0,61.0,28.0,24.0,40.0,null,15.0,29.0,18.0,28.0,24.0,18.0,21.0,25.0,16.0,49.0,28.0,22.0,11.0,26.0,17.0,26.0,0.0,null,4.0,19.0,5.0,35.0,25.0,26.0,34.0,21.0,26.0,32.0,40.0,13.0,29.0,11.0,25.0,31.0,51.0,20.0,32.0,22.0,38.0,26.0,42.0,57.0,38.0,23.0,32.0,15.0,41.0,19.0,26.0,null,20.0,19.0,30.0,58.0,17.0,null,19.0,20.0,54.0,21.0,44.0,11.0,2.0,20.0,50.0,27.0,28.0,33.0,23.0,22.0,44.0,45.0,20.0,26.0,18.0,21.0,26.0,55.0,24.0,27.0,18.0,20.0,31.0,37.0,37.0,57.0,39.0,20.0,18.0,29.0,31.0,27.0,43.0,null,32.0,19.0,50.0,19.0,44.0,49.0,30.0,41.0,34.0,30.0,22.0,29.0,32.0,40.0,50.0,31.0,1.0,30.0,null,41.0,34.0,14.0,13.0,16.0,25.0,17.0,41.0,28.0,3.0,18.0,20.0,32.0,59.0,52.0,47.0,56.0,24.0,13.0,15.0,40.0,30.0,25.0,10.0,28.0,36.0,12.0,26.0,33.0,42.0,31.0,20.0,24.0,37.0,19.0,13.0,23.0,44.0,36.0,79.0,1.0,12.0,8.0,45.0,10.0,3.0,37.0,43.0,38.0,33.0,25.0,42.0,35.0,35.0,30.0,33.0,30.0,23.0,13.0,32.0,17.0,37.0,49.0,53.0,27.0,26.0,50.0,17.0,22.0,8.0,42.0,30.0,4.0,27.0,15.0,38.0,51.0,26.0,34.0,45.0,18.0,21.0,23.0,24.0,20.0,32.0,22.0,13.0,42.0,19.0,24.0,45.0,35.0,16.0,16.0,43.0,31.0,null,22.0,48.0,20.0,35.0,23.0,28.0,19.0,45.0,16.0,3.0,60.0,33.0,25.0,37.0,51.0,29.0,39.0,29.0,27.0,38.0,13.0,33.0,45.0,0.0,18.0,0.0,38.0,0.0,21.0,56.0,38.0,35.0,34.0,15.0,22.0,28.0,18.0,47.0,23.0,44.0,18.0,21.0,65.0,18.0,27.0,16.0,17.0,19.0,33.0,20.0,10.0,6.0,0.0,0.0,4.0,null,27.0,54.0,24.0,47.0,16.0,59.0,31.0,28.0,23.0,19.0,18.0,28.0,13.0,33.0,28.0,17.0,36.0,29.0,18.0,37.0,36.0,44.0,21.0,20.0,45.0,28.0,20.0,18.0,null,19.0,27.0,26.0,29.0,18.0,12.0,0.0,2.0,16.0,17.0,20.0,30.0,20.0,31.0,13.0,23.0,19.0,18.0,50.0,43.0,52.0,24.0,46.0,25.0,53.0,17.0,29.0,26.0,35.0,51.0,20.0,19.0,59.0,23.0,22.0,21.0,25.0,23.0,15.0,20.0,22.0,20.0,35.0,41.0,18.0,40.0,25.0,31.0,47.0,29.0,null,18.0,19.0,50.0,26.0,29.0,14.0,14.0,0.0,34.0,23.0,24.0,39.0,22.0,23.0,26.0,28.0,42.0,37.0,45.0,21.0,42.0,20.0,61.0,0.0,3.0,18.0,44.0,50.0,18.0,0.0,58.0,50.0,43.0,21.0,30.0,20.0,24.0,24.0,37.0,21.0,48.0,33.0,21.0,21.0,13.0,5.0,24.0,37.0,23.0,35.0,24.0,20.0,0.0,64.0,31.0,6.0,3.0,10.0,19.0,19.0,46.0,25.0,27.0,23.0,20.0,24.0,50.0,44.0,28.0,25.0,14.0,21.0,16.0,25.0,41.0,20.0,24.0,31.0,23.0,54.0,26.0,49.0,0.0,17.0,22.0,11.0,28.0,17.0,47.0,29.0,46.0,66.0,0.0,5.0,1.0,42.0,5.0,null,41.0,30.0,26.0,16.0,22.0,20.0,44.0,36.0,6.0,13.0,22.0,69.0,40.0,46.0,34.0,39.0,37.0,13.0,20.0,28.0,54.0,9.0,61.0,18.0,null,24.0,24.0,0.0,30.0,null,26.0,26.0,3.0,30.0,51.0,36.0,18.0,27.0,36.0,39.0,17.0,24.0,14.0,25.0,35.0,17.0,45.0,35.0,19.0,null,33.0,22.0,32.0,25.0,26.0,21.0,49.0,26.0,20.0,28.0,35.0,66.0,47.0,25.0,23.0,19.0,8.0,42.0,33.0,29.0,63.0,24.0,62.0,null,52.0,23.0,47.0,50.0,32.0,33.0,26.0,20.0,28.0,38.0,42.0,0.0,23.0,39.0,25.0,17.0,15.0,31.0,49.0,41.0,37.0,27.0,13.0,42.0,21.0,29.0,0.0,19.0,36.0,31.0,16.0,42.0,16.0,23.0,42.0,34.0,38.0,21.0,25.0,30.0,40.0,31.0,20.0,37.0,26.0,22.0,21.0,33.0,40.0,11.0,27.0,22.0,40.0,61.0,28.0,24.0,43.0,22.0,14.0,56.0,35.0,62.0,44.0,32.0,26.0,22.0,56.0,29.0,21.0,34.0,35.0,18.0,23.0,18.0,24.0,19.0,62.0,52.0,37.0,21.0,48.0,43.0,18.0,33.0,33.0,29.0,66.0,41.0,17.0,8.0,20.0,25.0,47.0,40.0,26.0,19.0,35.0,0.0,12.0,37.0,38.0,34.0,30.0,22.0,23.0,59.0,19.0,16.0,22.0,30.0,26.0,18.0,29.0,32.0,33.0,20.0,55.0,41.0,22.0,61.0,20.0,57.0,17.0,60.0,20.0,20.0,40.0,28.0,17.0,18.0,46.0,29.0,25.0,59.0,17.0,65.0,32.0,35.0,18.0,23.0,27.0,0.0,26.0,38.0,35.0,32.0,9.0,11.0,13.0,2.0,12.0,27.0,14.0,37.0,6.0,36.0,27.0,20.0,24.0,21.0,50.0,18.0,34.0,22.0,63.0,39.0,26.0,27.0,17.0,39.0,26.0,30.0,26.0,34.0,24.0,21.0,25.0,64.0,40.0,null,23.0,46.0,22.0,0.0,8.0,35.0,22.0,29.0,25.0,24.0,26.0,20.0,40.0,28.0,22.0,23.0,26.0,19.0,35.0,41.0,37.0,44.0,34.0,39.0,27.0,32.0,13.0,10.0,28.0,25.0,null,27.0,29.0,6.0,2.0,6.0,24.0,31.0,35.0,13.0,64.0,18.0,32.0,21.0,13.0,43.0,39.0,26.0,21.0,18.0,27.0,null,27.0,29.0,20.0,26.0,null,34.0,15.0,24.0,26.0,14.0,24.0,31.0,21.0,28.0,19.0,50.0,15.0,34.0,35.0,34.0,36.0,27.0,30.0,34.0,45.0,21.0,56.0,21.0,28.0,38.0,34.0,33.0,34.0,19.0,19.0,17.0,20.0,22.0,35.0,50.0,19.0,23.0,38.0,20.0,31.0,28.0,36.0,27.0,66.0,14.0,29.0,34.0,13.0,47.0,26.0,50.0,38.0,59.0,43.0,30.0,33.0,33.0,42.0,17.0,18.0,34.0,46.0,35.0,40.0,26.0,43.0,41.0,31.0,23.0,25.0,37.0,14.0,3.0,18.0,35.0,19.0,39.0,48.0,27.0,3.0,28.0,34.0,31.0,60.0,45.0,48.0,21.0,24.0,16.0,19.0,26.0,22.0,33.0,44.0,27.0,23.0,43.0,14.0,41.0,20.0,0.0,2.0,22.0,29.0,35.0,20.0,16.0,38.0,35.0,19.0,25.0,32.0,24.0,20.0,27.0,18.0,31.0,47.0,58.0,37.0,35.0,38.0,32.0,35.0,27.0,61.0,72.0,30.0,14.0,28.0,20.0,41.0,29.0,32.0,33.0,27.0,21.0,21.0,18.0,3.0,0.0,41.0,57.0,50.0,54.0,49.0,19.0,51.0,null,5.0,13.0,0.0,8.0,27.0,13.0,47.0,6.0,59.0,20.0,35.0,22.0,16.0,18.0,26.0,19.0,23.0,21.0,32.0,25.0,50.0,27.0,44.0,47.0,58.0,27.0,52.0,21.0,25.0,31.0,28.0,42.0,49.0,3.0,5.0,null,57.0,29.0,29.0,21.0,25.0,26.0,33.0,43.0,26.0,13.0,30.0,8.0,null,23.0,22.0,36.0,35.0,26.0,15.0,18.0,41.0,41.0,22.0,null,0.0,16.0,27.0,13.0,1.0,32.0,35.0,40.0,17.0,49.0,21.0,9.0,27.0,59.0,25.0,21.0,15.0,28.0,42.0,22.0,21.0,48.0,24.0,47.0,13.0,32.0,29.0,35.0,24.0,52.0,21.0,36.0,19.0,39.0,59.0,45.0,25.0,64.0,24.0,36.0,26.0,31.0,18.0,21.0,34.0,32.0,19.0,18.0,39.0,null,19.0,16.0,24.0,2.0,10.0,2.0,21.0,5.0,29.0,41.0,32.0,23.0,23.0,40.0,45.0,30.0,56.0,13.0,19.0,46.0,0.0,60.0,39.0,20.0,64.0,34.0,30.0,62.0,29.0,33.0,31.0,51.0,23.0,18.0,47.0,58.0,46.0,44.0,19.0,43.0,21.0,29.0,13.0,16.0,25.0,19.0,29.0,35.0,56.0,20.0,38.0,18.0,26.0,0.0,2.0,36.0,25.0,2.0,0.0,18.0,60.0,26.0,36.0,22.0,21.0,37.0,65.0,44.0,31.0,31.0,21.0,47.0,19.0,33.0,25.0,16.0,44.0,9.0,15.0,34.0,24.0,39.0,27.0,34.0,24.0,43.0,41.0,26.0,27.0,39.0,34.0,33.0,16.0,6.0,13.0,50.0,24.0,18.0,24.0,16.0,22.0,13.0,29.0,30.0,25.0,23.0,28.0,37.0,21.0,54.0,21.0,36.0,21.0,21.0,23.0,40.0,18.0,25.0,24.0,37.0,25.0,24.0,3.0,2.0,22.0,24.0,17.0,53.0,23.0,29.0,21.0,22.0,2.0,null,20.0,14.0,26.0,23.0,21.0,20.0,19.0,29.0,58.0,13.0,32.0,23.0,38.0,47.0,38.0,47.0,20.0,32.0,42.0,34.0,60.0,30.0,11.0,45.0,39.0,19.0,18.0,34.0,null,30.0,48.0,38.0,33.0,47.0,29.0,8.0,47.0,26.0,13.0,18.0,27.0,27.0,30.0,25.0,26.0,20.0,52.0,3.0,6.0,0.0,22.0,1.0,44.0,18.0,20.0,29.0,28.0,39.0,11.0,2.0,15.0,32.0,15.0,1.0,20.0,25.0,32.0,32.0,18.0,49.0,2.0,13.0,28.0,56.0,27.0,34.0,28.0,31.0,24.0,8.0,20.0,63.0,0.0,13.0,1.0,13.0,2.0,18.0,30.0,35.0,28.0,28.0,48.0,34.0,16.0,24.0,53.0,24.0,32.0,15.0,24.0,35.0,42.0,18.0,15.0,37.0,35.0,34.0,21.0,14.0,16.0,23.0,53.0,18.0,16.0,34.0,13.0,25.0,43.0,39.0,19.0,21.0,20.0,16.0,9.0,18.0,23.0,36.0,30.0,46.0,22.0,1.0,21.0,24.0,51.0,26.0,35.0,22.0,30.0,28.0,33.0,56.0,32.0,39.0,25.0,25.0,34.0,null,18.0,18.0,23.0,21.0,47.0,18.0,43.0,18.0,25.0,30.0,21.0,24.0,20.0,30.0,58.0,36.0,27.0,33.0,55.0,24.0,17.0,19.0,25.0,22.0,16.0,36.0,40.0,21.0,24.0,26.0,30.0,27.0,24.0,23.0,55.0,47.0,31.0,40.0,19.0,18.0,48.0,15.0,47.0,21.0,18.0,20.0,20.0,19.0,22.0,16.0,26.0,27.0,17.0,24.0,55.0,7.0,null,29.0,31.0,44.0,26.0,3.0,21.0,0.0,40.0,25.0,2.0,28.0,14.0,30.0,21.0,30.0,39.0,43.0,22.0,18.0,35.0,21.0,23.0,15.0,37.0,58.0,null,21.0,0.0,15.0,38.0,26.0,47.0,26.0,56.0,18.0,21.0,18.0,44.0,39.0,54.0,23.0,26.0,22.0,25.0,49.0,46.0,17.0,23.0,18.0,23.0,38.0,32.0,18.0,24.0,37.0,41.0,31.0,28.0,40.0,48.0,41.0,36.0,11.0,19.0,20.0,29.0,26.0,24.0,null,28.0,13.0,null,19.0,32.0,23.0,18.0,25.0,19.0,24.0,29.0,43.0,3.0,4.0,2.0,24.0,27.0,37.0,44.0,21.0,27.0,49.0,27.0,63.0,28.0,33.0,21.0,24.0,26.0,27.0,21.0,56.0,31.0,47.0,24.0,18.0,42.0,31.0,22.0,24.0,20.0,51.0,19.0,17.0,23.0,14.0,18.0,42.0,39.0,37.0,27.0,26.0,49.0,32.0,34.0,13.0,21.0,55.0,61.0,24.0,25.0,0.0,38.0,30.0,15.0,21.0,56.0,51.0,26.0,50.0,22.0,25.0,37.0,17.0,38.0,33.0,24.0,21.0,37.0,49.0,42.0,33.0,25.0,27.0,1.0,20.0,20.0,51.0,33.0,45.0,25.0,21.0,22.0,27.0,33.0,24.0,38.0,18.0,63.0,26.0,29.0,24.0,51.0,25.0,41.0,20.0,22.0,15.0,null,19.0,28.0,18.0,31.0,26.0,9.0,42.0,32.0,22.0,51.0,31.0,44.0,36.0,29.0,36.0,9.0,16.0,18.0,51.0,30.0,44.0,22.0,39.0,18.0,34.0,25.0,25.0,16.0,41.0,28.0,15.0,49.0,43.0,28.0,18.0,14.0,40.0,28.0,34.0,22.0,41.0,19.0,33.0,19.0,24.0,3.0,19.0,19.0,45.0,29.0,54.0,1.0,18.0,24.0,18.0,19.0,22.0,48.0,39.0,40.0,34.0,0.0,25.0,3.0,24.0,39.0,55.0,24.0,null,27.0,19.0,27.0,24.0,31.0,52.0,null,58.0,16.0,36.0,23.0,25.0,21.0,22.0,20.0,56.0,4.0,36.0,47.0,24.0,30.0,21.0,52.0,18.0,53.0,62.0,9.0,2.0,null,23.0,28.0,59.0,23.0,20.0,24.0,48.0,25.0,37.0,40.0,17.0,17.0,21.0,50.0,38.0,39.0,0.0,32.0,39.0,13.0,18.0,31.0,5.0,47.0,43.0,27.0,27.0,31.0,26.0,22.0,25.0,20.0,23.0,19.0,27.0,8.0,66.0,17.0,41.0,14.0,53.0,13.0,19.0,19.0,14.0,18.0,25.0,16.0,6.0,22.0,3.0,19.0,23.0,26.0,23.0,25.0,20.0,29.0,26.0,19.0,28.0,21.0,25.0,27.0,54.0,9.0,24.0,22.0,42.0,35.0,6.0,39.0,24.0,21.0,48.0,24.0,25.0,29.0,52.0,43.0,20.0,19.0,20.0,48.0,29.0,46.0,18.0,36.0,22.0,7.0,38.0,44.0,24.0,42.0,35.0,33.0,22.0,35.0,21.0,19.0,34.0,52.0,18.0,null,32.0,36.0,55.0,65.0,29.0,18.0,0.0,35.0,37.0,13.0,15.0,33.0,null,40.0,36.0,33.0,4.0,20.0,23.0,24.0,18.0,25.0,26.0,52.0,47.0,24.0,3.0,9.0,2.0,19.0,12.0,21.0,20.0,63.0,15.0,25.0,13.0,45.0,17.0,18.0,40.0,40.0,65.0,45.0,34.0,37.0,13.0,16.0,16.0,13.0,19.0,54.0,13.0,40.0,25.0,36.0,58.0,2.0,32.0,32.0,null,54.0,21.0,46.0,43.0,18.0,26.0,15.0,39.0,41.0,39.0,19.0,13.0,43.0,33.0,39.0,1.0,5.0,23.0,41.0,39.0,26.0,25.0,35.0,3.0,1.0,13.0,41.0,36.0,27.0,40.0,59.0,25.0,22.0,32.0,22.0,55.0,22.0,33.0,57.0,26.0,28.0,23.0,62.0,45.0,23.0,0.0,21.0,0.0,23.0,25.0,32.0,46.0,28.0,39.0,18.0,22.0,23.0,22.0,73.0,17.0,20.0,15.0,55.0,42.0,39.0,8.0,38.0,17.0,13.0,28.0,22.0,64.0,30.0,28.0,null,39.0,31.0,24.0,0.0,42.0,0.0,43.0,40.0,23.0,54.0,18.0,20.0,24.0,18.0,18.0,47.0,25.0,28.0,8.0,59.0,51.0,38.0,26.0,65.0,36.0,null,14.0,9.0,20.0,19.0,20.0,34.0,27.0,22.0,15.0,28.0,28.0,19.0,33.0,29.0,48.0,31.0,29.0,24.0,19.0,33.0,29.0,38.0,19.0,44.0,20.0,53.0,27.0,23.0,41.0,28.0,18.0,18.0,52.0,28.0,15.0,null,15.0,16.0,17.0,48.0,26.0,34.0,25.0,29.0,36.0,62.0,29.0,19.0,null,14.0,40.0,30.0,41.0,31.0,17.0,25.0,27.0,47.0,32.0,18.0,33.0,19.0,13.0,40.0,32.0,42.0,22.0,24.0,17.0,21.0,24.0,41.0,13.0,10.0,3.0,16.0,26.0,14.0,0.0,32.0,15.0,35.0,20.0,21.0,32.0,29.0,3.0,20.0,43.0,43.0,40.0,34.0,42.0,null,null,43.0],\"xaxis\":\"x\",\"yaxis\":\"y\",\"type\":\"histogram\"},{\"alignmentgroup\":\"True\",\"hovertemplate\":\"type=Test<br>Age=%{x}<extra></extra>\",\"legendgroup\":\"Test\",\"marker\":{\"color\":\"#DE3163\"},\"name\":\"Test\",\"notched\":true,\"offsetgroup\":\"Test\",\"showlegend\":false,\"x\":[27.0,19.0,31.0,38.0,20.0,31.0,21.0,20.0,23.0,24.0,19.0,45.0,44.0,46.0,21.0,27.0,20.0,44.0,29.0,40.0,30.0,14.0,31.0,27.0,66.0,24.0,19.0,36.0,21.0,18.0,26.0,19.0,48.0,23.0,24.0,19.0,24.0,27.0,6.0,33.0,23.0,30.0,null,1.0,20.0,17.0,34.0,24.0,29.0,20.0,5.0,22.0,16.0,7.0,36.0,26.0,40.0,29.0,2.0,23.0,0.0,30.0,56.0,36.0,56.0,19.0,39.0,38.0,null,35.0,26.0,31.0,38.0,27.0,30.0,22.0,29.0,0.0,8.0,3.0,27.0,9.0,29.0,18.0,22.0,24.0,25.0,36.0,14.0,24.0,26.0,29.0,40.0,36.0,46.0,42.0,23.0,19.0,25.0,22.0,35.0,39.0,42.0,35.0,29.0,20.0,25.0,36.0,39.0,23.0,19.0,50.0,41.0,19.0,20.0,19.0,38.0,32.0,44.0,18.0,49.0,23.0,31.0,55.0,60.0,20.0,34.0,14.0,26.0,19.0,25.0,42.0,18.0,50.0,26.0,47.0,35.0,58.0,20.0,28.0,12.0,20.0,22.0,31.0,24.0,17.0,null,18.0,48.0,38.0,33.0,20.0,22.0,52.0,15.0,25.0,14.0,null,16.0,48.0,36.0,19.0,43.0,32.0,54.0,33.0,21.0,33.0,28.0,23.0,26.0,41.0,2.0,21.0,70.0,20.0,31.0,8.0,5.0,45.0,37.0,24.0,55.0,18.0,36.0,59.0,61.0,46.0,29.0,18.0,20.0,28.0,26.0,32.0,18.0,50.0,47.0,15.0,35.0,49.0,32.0,63.0,54.0,21.0,38.0,50.0,32.0,33.0,30.0,28.0,22.0,null,37.0,59.0,31.0,25.0,38.0,37.0,44.0,28.0,45.0,53.0,21.0,33.0,18.0,37.0,34.0,46.0,18.0,19.0,4.0,0.0,12.0,7.0,34.0,10.0,0.0,14.0,27.0,21.0,37.0,29.0,17.0,17.0,35.0,34.0,17.0,39.0,56.0,35.0,17.0,29.0,15.0,37.0,36.0,36.0,18.0,61.0,45.0,21.0,65.0,27.0,13.0,32.0,17.0,44.0,21.0,16.0,41.0,40.0,16.0,17.0,40.0,37.0,53.0,42.0,31.0,18.0,51.0,20.0,19.0,22.0,41.0,28.0,0.0,42.0,20.0,25.0,22.0,25.0,45.0,19.0,16.0,18.0,38.0,27.0,36.0,21.0,1.0,25.0,3.0,7.0,0.0,32.0,5.0,79.0,19.0,30.0,13.0,53.0,40.0,32.0,31.0,63.0,18.0,21.0,14.0,41.0,40.0,58.0,22.0,13.0,16.0,13.0,15.0,42.0,24.0,19.0,null,29.0,15.0,38.0,49.0,20.0,null,19.0,46.0,21.0,29.0,null,44.0,19.0,29.0,25.0,41.0,19.0,33.0,25.0,44.0,21.0,32.0,33.0,32.0,19.0,21.0,23.0,31.0,22.0,74.0,53.0,40.0,23.0,36.0,18.0,29.0,48.0,34.0,34.0,27.0,44.0,0.0,1.0,18.0,23.0,26.0,46.0,41.0,25.0,50.0,28.0,17.0,29.0,19.0,34.0,28.0,47.0,28.0,38.0,22.0,18.0,21.0,40.0,67.0,39.0,19.0,28.0,29.0,22.0,23.0,41.0,25.0,43.0,54.0,14.0,69.0,24.0,37.0,28.0,59.0,20.0,23.0,59.0,20.0,36.0,43.0,9.0,32.0,24.0,14.0,45.0,23.0,59.0,28.0,61.0,52.0,5.0,51.0,26.0,44.0,46.0,32.0,17.0,21.0,52.0,52.0,14.0,21.0,42.0,28.0,26.0,7.0,14.0,3.0,26.0,54.0,55.0,16.0,38.0,48.0,13.0,20.0,18.0,45.0,5.0,42.0,50.0,21.0,22.0,23.0,22.0,21.0,24.0,24.0,42.0,19.0,32.0,35.0,19.0,55.0,35.0,63.0,66.0,45.0,20.0,21.0,51.0,13.0,24.0,28.0,52.0,32.0,23.0,37.0,35.0,46.0,33.0,34.0,51.0,null,27.0,22.0,33.0,31.0,16.0,6.0,18.0,30.0,24.0,57.0,24.0,23.0,40.0,21.0,17.0,25.0,34.0,18.0,8.0,14.0,16.0,22.0,21.0,23.0,26.0,18.0,72.0,18.0,24.0,36.0,13.0,19.0,28.0,2.0,5.0,25.0,45.0,59.0,6.0,36.0,40.0,36.0,31.0,19.0,13.0,31.0,22.0,52.0,22.0,34.0,23.0,14.0,30.0,75.0,28.0,61.0,25.0,21.0,null,28.0,41.0,25.0,28.0,0.0,19.0,22.0,2.0,35.0,42.0,46.0,26.0,19.0,11.0,11.0,17.0,23.0,37.0,18.0,48.0,18.0,18.0,32.0,26.0,26.0,55.0,19.0,65.0,28.0,24.0,52.0,67.0,34.0,23.0,26.0,28.0,9.0,1.0,1.0,58.0,59.0,54.0,8.0,28.0,19.0,23.0,47.0,17.0,33.0,43.0,28.0,32.0,13.0,18.0,16.0,6.0,27.0,29.0,32.0,23.0,33.0,51.0,41.0,20.0,0.0,13.0,13.0,13.0,24.0,null,32.0,24.0,27.0,24.0,34.0,26.0,22.0,10.0,28.0,5.0,null,29.0,17.0,18.0,35.0,42.0,35.0,42.0,33.0,20.0,2.0,2.0,43.0,10.0,26.0,42.0,24.0,32.0,23.0,null,15.0,15.0,null,15.0,13.0,33.0,47.0,27.0,18.0,10.0,40.0,28.0,23.0,23.0,41.0,20.0,29.0,17.0,21.0,25.0,25.0,28.0,24.0,56.0,36.0,20.0,50.0,29.0,34.0,40.0,20.0,36.0,25.0,25.0,17.0,42.0,47.0,23.0,null,39.0,43.0,23.0,46.0,31.0,37.0,48.0,28.0,38.0,31.0,35.0,28.0,29.0,19.0,null,44.0,59.0,23.0,48.0,49.0,15.0,30.0,20.0,20.0,6.0,1.0,1.0,2.0,8.0,29.0,43.0,73.0,48.0,24.0,20.0,17.0,42.0,22.0,54.0,41.0,0.0,20.0,54.0,73.0,17.0,21.0,60.0,50.0,17.0,18.0,25.0,57.0,46.0,71.0,21.0,38.0,23.0,24.0,25.0,35.0,21.0,22.0,60.0,29.0,49.0,27.0,23.0,23.0,33.0,35.0,27.0,44.0,18.0,31.0,21.0,27.0,36.0,33.0,30.0,29.0,32.0,31.0,27.0,25.0,38.0,47.0,24.0,46.0,16.0,30.0,0.0,60.0,50.0,37.0,27.0,29.0,null,22.0,null,null,14.0,null,20.0,19.0,14.0,69.0,26.0,25.0,36.0,34.0,4.0,1.0,24.0,21.0,25.0,44.0,22.0,64.0,32.0,42.0,29.0,4.0,17.0,21.0,52.0,29.0,35.0,23.0,27.0,8.0,20.0,16.0,35.0,44.0,19.0,2.0,30.0,28.0,44.0,20.0,22.0,14.0,20.0,45.0,19.0,42.0,23.0,43.0,20.0,11.0,20.0,21.0,17.0,32.0,24.0,4.0,4.0,36.0,27.0,46.0,24.0,3.0,21.0,42.0,26.0,38.0,36.0,28.0,62.0,22.0,18.0,12.0,32.0,11.0,47.0,48.0,38.0,19.0,22.0,21.0,37.0,28.0,15.0,57.0,22.0,22.0,29.0,0.0,44.0,22.0,25.0,64.0,21.0,35.0,15.0,48.0,22.0,42.0,13.0,35.0,27.0,21.0,22.0,33.0,25.0,37.0,36.0,47.0,34.0,29.0,39.0,27.0,35.0,0.0,33.0,24.0,19.0,33.0,19.0,16.0,47.0,40.0,19.0,27.0,31.0,24.0,31.0,41.0,16.0,27.0,11.0,28.0,51.0,1.0,56.0,null,57.0,13.0,32.0,28.0,12.0,35.0,33.0,14.0,26.0,25.0,27.0,23.0,45.0,50.0,24.0,54.0,19.0,19.0,28.0,28.0,39.0,20.0,30.0,35.0,36.0,33.0,30.0,25.0,45.0,23.0,51.0,31.0,55.0,24.0,57.0,24.0,44.0,0.0,15.0,49.0,24.0,47.0,26.0,null,4.0,30.0,23.0,23.0,4.0,3.0,42.0,22.0,21.0,28.0,35.0,20.0,22.0,30.0,0.0,22.0,15.0,4.0,19.0,29.0,17.0,21.0,20.0,24.0,6.0,9.0,21.0,46.0,20.0,27.0,23.0,28.0,53.0,41.0,32.0,27.0,31.0,20.0,19.0,55.0,35.0,70.0,22.0,46.0,16.0,14.0,13.0,44.0,15.0,32.0,26.0,42.0,44.0,15.0,35.0,35.0,24.0,19.0,37.0,31.0,39.0,35.0,26.0,26.0,0.0,8.0,44.0,20.0,56.0,31.0,16.0,29.0,22.0,39.0,25.0,43.0,37.0,24.0,53.0,19.0,24.0,31.0,27.0,57.0,26.0,15.0,19.0,27.0,23.0,6.0,15.0,2.0,21.0,0.0,18.0,46.0,43.0,45.0,40.0,44.0,27.0,55.0,24.0,27.0,33.0,35.0,33.0,34.0,37.0,46.0,45.0,14.0,null,56.0,24.0,19.0,51.0,24.0,23.0,21.0,6.0,11.0,4.0,0.0,7.0,24.0,32.0,43.0,24.0,49.0,21.0,29.0,25.0,27.0,14.0,67.0,17.0,44.0,52.0,14.0,17.0,19.0,36.0,19.0,25.0,39.0,32.0,75.0,37.0,25.0,33.0,25.0,24.0,22.0,22.0,36.0,4.0,61.0,0.0,15.0,42.0,27.0,5.0,32.0,38.0,21.0,23.0,34.0,28.0,23.0,14.0,60.0,78.0,6.0,17.0,41.0,40.0,47.0,23.0,41.0,60.0,46.0,19.0,18.0,0.0,28.0,30.0,9.0,0.0,4.0,22.0,32.0,7.0,19.0,34.0,24.0,17.0,31.0,42.0,14.0,27.0,21.0,24.0,34.0,35.0,43.0,25.0,19.0,25.0,22.0,23.0,42.0,40.0,71.0,18.0,34.0,4.0,18.0,22.0,38.0,33.0,27.0,18.0,34.0,66.0,47.0,35.0,23.0,36.0,36.0,35.0,15.0,39.0,48.0,47.0,21.0,31.0,13.0,32.0,22.0,40.0,15.0,33.0,28.0,17.0,20.0,42.0,18.0,27.0,32.0,19.0,9.0,36.0,21.0,40.0,42.0,40.0,22.0,15.0,38.0,15.0,24.0,22.0,24.0,25.0,22.0,57.0,25.0,21.0,41.0,27.0,18.0,61.0,9.0,1.0,27.0,20.0,2.0,0.0,25.0,22.0,32.0,28.0,43.0,28.0,32.0,54.0,27.0,30.0,25.0,39.0,14.0,8.0,22.0,27.0,43.0,16.0,40.0,48.0,25.0,29.0,60.0,22.0,37.0,35.0,23.0,24.0,15.0,18.0,14.0,39.0,12.0,43.0,45.0,24.0,52.0,18.0,38.0,null,28.0,19.0,45.0,27.0,15.0,22.0,23.0,32.0,15.0,30.0,60.0,50.0,45.0,24.0,22.0,20.0,19.0,40.0,14.0,18.0,20.0,35.0,24.0,30.0,44.0,42.0,3.0,19.0,69.0,50.0,15.0,18.0,25.0,15.0,62.0,19.0,29.0,28.0,25.0,22.0,35.0,61.0,26.0,19.0,2.0,0.0,26.0,6.0,23.0,50.0,18.0,7.0,3.0,3.0,37.0,25.0,22.0,20.0,32.0,34.0,47.0,23.0,22.0,35.0,18.0,36.0,32.0,29.0,19.0,45.0,null,14.0,22.0,31.0,25.0,15.0,28.0,34.0,28.0,45.0,44.0,22.0,48.0,25.0,24.0,20.0,46.0,40.0,26.0,56.0,37.0,35.0,15.0,21.0,24.0,30.0,34.0,16.0,55.0,27.0,44.0,17.0,17.0,36.0,18.0,14.0,21.0,26.0,null,21.0,25.0,27.0,25.0,43.0,35.0,21.0,23.0,17.0,21.0,21.0,39.0,22.0,40.0,25.0,6.0,1.0,1.0,20.0,17.0,22.0,18.0,49.0,27.0,40.0,22.0,55.0,45.0,33.0,42.0,27.0,16.0,23.0,31.0,62.0,43.0,57.0,23.0,20.0,21.0,27.0,31.0,31.0,24.0,27.0,28.0,44.0,19.0,14.0,65.0,73.0,null,25.0,null,34.0,63.0,53.0,18.0,40.0,28.0,45.0,32.0,19.0,65.0,20.0,18.0,18.0,58.0,25.0,13.0,null,22.0,22.0,10.0,14.0,44.0,10.0,37.0,37.0,44.0,42.0,18.0,34.0,15.0,36.0,27.0,33.0,27.0,22.0,19.0,18.0,31.0,41.0,48.0,23.0,29.0,38.0,21.0,20.0,27.0,33.0,24.0,23.0,22.0,13.0,24.0,32.0,17.0,28.0,46.0,18.0,24.0,20.0,17.0,44.0,34.0,19.0,28.0,null,57.0,34.0,18.0,28.0,6.0,53.0,6.0,33.0,43.0,44.0,28.0,37.0,55.0,40.0,38.0,24.0,53.0,61.0,17.0,20.0,22.0,27.0,19.0,23.0,33.0,26.0,33.0,39.0,47.0,33.0,40.0,19.0,26.0,24.0,15.0,2.0,33.0,14.0,22.0,45.0,58.0,13.0,36.0,35.0,23.0,27.0,24.0,43.0,67.0,29.0,28.0,18.0,35.0,22.0,19.0,47.0,16.0,41.0,26.0,37.0,26.0,21.0,45.0,28.0,26.0,35.0,60.0,7.0,15.0,26.0,38.0,24.0,77.0,22.0,22.0,20.0,47.0,25.0,9.0,19.0,44.0,41.0,53.0,27.0,20.0,23.0,20.0,null,51.0,22.0,36.0,18.0,19.0,17.0,29.0,18.0,22.0,43.0,24.0,25.0,20.0,23.0,32.0,51.0,22.0,22.0,30.0,23.0,61.0,24.0,19.0,27.0,29.0,55.0,26.0,58.0,60.0,13.0,39.0,35.0,21.0,37.0,31.0,20.0,27.0,40.0,null,36.0,19.0,22.0,15.0,18.0,25.0,62.0,53.0,null,19.0,21.0,20.0,56.0,64.0,null,36.0,51.0,16.0,21.0,50.0,0.0,34.0,3.0,11.0,5.0,47.0,1.0,0.0,23.0,27.0,46.0,34.0,2.0,11.0,1.0,13.0,41.0,11.0,52.0,15.0,58.0,23.0,34.0,9.0,25.0,38.0,42.0,40.0,18.0,42.0,40.0,28.0,56.0,22.0,39.0,35.0,36.0,34.0,22.0,21.0,16.0,35.0,19.0,36.0,32.0,69.0,44.0,34.0,35.0,25.0,3.0,12.0,3.0,13.0,26.0,2.0,25.0,19.0,33.0,41.0,55.0,30.0,35.0,7.0,38.0,51.0,18.0,44.0,18.0,13.0,49.0,8.0,22.0,32.0,null,56.0,18.0,27.0,46.0,18.0,30.0,35.0,48.0,33.0,0.0,11.0,0.0,14.0,9.0,37.0,30.0,21.0,32.0,4.0,19.0,25.0,34.0,19.0,18.0,23.0,53.0,13.0,20.0,34.0,18.0,0.0,35.0,0.0,62.0,15.0,28.0,5.0,22.0,14.0,43.0,24.0,65.0,44.0,50.0,15.0,18.0,41.0,21.0,16.0,21.0,29.0,19.0,18.0,25.0,45.0,32.0,33.0,null,24.0,29.0,24.0,22.0,18.0,16.0,17.0,18.0,25.0,46.0,36.0,62.0,48.0,16.0,27.0,52.0,25.0,13.0,35.0,20.0,42.0,50.0,66.0,31.0,37.0,72.0,30.0,29.0,21.0,33.0,28.0,41.0,44.0,45.0,61.0,21.0,25.0,38.0,68.0,0.0,21.0,55.0,60.0,19.0,17.0,16.0,29.0,29.0,0.0,15.0,27.0,24.0,14.0,17.0,37.0,23.0,17.0,33.0,30.0,20.0,null,25.0,19.0,31.0,23.0,29.0,20.0,26.0,26.0,51.0,null,17.0,22.0,31.0,2.0,0.0,3.0,28.0,21.0,15.0,18.0,52.0,49.0,42.0,28.0,31.0,19.0,41.0,31.0,13.0,35.0,29.0,0.0,19.0,null,19.0,26.0,47.0,29.0,46.0,18.0,33.0,20.0,37.0,35.0,25.0,22.0,47.0,31.0,27.0,47.0,46.0,47.0,40.0,39.0,39.0,35.0,43.0,38.0,31.0,20.0,44.0,25.0,25.0,20.0,33.0,58.0,23.0,35.0,13.0,21.0,20.0,15.0,48.0,58.0,25.0,43.0,53.0,13.0,8.0,53.0,22.0,31.0,28.0,22.0,27.0,29.0,42.0,42.0,33.0,32.0,42.0,22.0,18.0,46.0,20.0,21.0,26.0,51.0,53.0,29.0,25.0,69.0,26.0,38.0,37.0,14.0,36.0,42.0,25.0,35.0,26.0,12.0,48.0,13.0,21.0,26.0,32.0,25.0,51.0,15.0,14.0,41.0,13.0,39.0,19.0,17.0,41.0,43.0,18.0,22.0,29.0,22.0,62.0,29.0,26.0,8.0,26.0,38.0,49.0,18.0,18.0,35.0,34.0,11.0,null,22.0,18.0,36.0,17.0,25.0,29.0,25.0,34.0,16.0,28.0,29.0,38.0,39.0,48.0,23.0,16.0,21.0,21.0,4.0,27.0,18.0,22.0,28.0,22.0,39.0,29.0,42.0,0.0,52.0,26.0,19.0,23.0,36.0,26.0,62.0,28.0,25.0,0.0,24.0,49.0,21.0,29.0,19.0,32.0,20.0,48.0,27.0,49.0,20.0,25.0,null,73.0,23.0,23.0,26.0,48.0,null,54.0,56.0,30.0,24.0,23.0,57.0,null,14.0,51.0,16.0,29.0,43.0,16.0,38.0,40.0,44.0,25.0,20.0,19.0,47.0,21.0,15.0,26.0,50.0,19.0,null,18.0,0.0,34.0,25.0,8.0,0.0,6.0,27.0,32.0,63.0,36.0,33.0,28.0,43.0,23.0,22.0,56.0,25.0,28.0,44.0,20.0,17.0,18.0,15.0,23.0,27.0,10.0,10.0,0.0,16.0,48.0,7.0,50.0,5.0,50.0,35.0,23.0,28.0,20.0,47.0,26.0,17.0,43.0,37.0,25.0,26.0,23.0,46.0,23.0,26.0,27.0,18.0,63.0,2.0,0.0,0.0,37.0,18.0,33.0,31.0,34.0,18.0,20.0,37.0,30.0,7.0,32.0,68.0,0.0,23.0,38.0,26.0,29.0,43.0,38.0,25.0,18.0,23.0,26.0,45.0,25.0,16.0,25.0,11.0,22.0,38.0,25.0,17.0,20.0,24.0,37.0,32.0,32.0,20.0,50.0,33.0,47.0,49.0,20.0,26.0,24.0,11.0,47.0,22.0,35.0,25.0,33.0,20.0,16.0,29.0,16.0,43.0,33.0,16.0,22.0,18.0,36.0,17.0,34.0,1.0,24.0,20.0,56.0,26.0,35.0,3.0,23.0,19.0,0.0,30.0,50.0,15.0,19.0,null,35.0,45.0,0.0,74.0,24.0,39.0,18.0,39.0,33.0,21.0,35.0,66.0,14.0,20.0,18.0,36.0,27.0,51.0,18.0,46.0,67.0,24.0,35.0,14.0,22.0,20.0,23.0,23.0,21.0,36.0,19.0,22.0,58.0,14.0,18.0,40.0,24.0,26.0,16.0,null,21.0,17.0,23.0,22.0,20.0,38.0,37.0,31.0,27.0,31.0,21.0,36.0,20.0,36.0,40.0,25.0,32.0,25.0,49.0,28.0,58.0,null,22.0,61.0,28.0,24.0,40.0,null,15.0,29.0,18.0,28.0,24.0,18.0,21.0,25.0,16.0,49.0,28.0,22.0,11.0,26.0,17.0,26.0,0.0,null,4.0,19.0,5.0,35.0,25.0,26.0,34.0,21.0,26.0,32.0,40.0,13.0,29.0,11.0,25.0,31.0,51.0,20.0,32.0,22.0,38.0,26.0,42.0,57.0,38.0,23.0,32.0,15.0,41.0,19.0,26.0,null,20.0,19.0,30.0,58.0,17.0,null,19.0,20.0,54.0,21.0,44.0,11.0,2.0,20.0,50.0,27.0,28.0,33.0,23.0,22.0,44.0,45.0,20.0,26.0,18.0,21.0,26.0,55.0,24.0,27.0,18.0,20.0,31.0,37.0,37.0,57.0,39.0,20.0,18.0,29.0,31.0,27.0,43.0,null,32.0,19.0,50.0,19.0,44.0,49.0,30.0,41.0,34.0,30.0,22.0,29.0,32.0,40.0,50.0,31.0,1.0,30.0,null,41.0,34.0,14.0,13.0,16.0,25.0,17.0,41.0,28.0,3.0,18.0,20.0,32.0,59.0,52.0,47.0,56.0,24.0,13.0,15.0,40.0,30.0,25.0,10.0,28.0,36.0,12.0,26.0,33.0,42.0,31.0,20.0,24.0,37.0,19.0,13.0,23.0,44.0,36.0,79.0,1.0,12.0,8.0,45.0,10.0,3.0,37.0,43.0,38.0,33.0,25.0,42.0,35.0,35.0,30.0,33.0,30.0,23.0,13.0,32.0,17.0,37.0,49.0,53.0,27.0,26.0,50.0,17.0,22.0,8.0,42.0,30.0,4.0,27.0,15.0,38.0,51.0,26.0,34.0,45.0,18.0,21.0,23.0,24.0,20.0,32.0,22.0,13.0,42.0,19.0,24.0,45.0,35.0,16.0,16.0,43.0,31.0,null,22.0,48.0,20.0,35.0,23.0,28.0,19.0,45.0,16.0,3.0,60.0,33.0,25.0,37.0,51.0,29.0,39.0,29.0,27.0,38.0,13.0,33.0,45.0,0.0,18.0,0.0,38.0,0.0,21.0,56.0,38.0,35.0,34.0,15.0,22.0,28.0,18.0,47.0,23.0,44.0,18.0,21.0,65.0,18.0,27.0,16.0,17.0,19.0,33.0,20.0,10.0,6.0,0.0,0.0,4.0,null,27.0,54.0,24.0,47.0,16.0,59.0,31.0,28.0,23.0,19.0,18.0,28.0,13.0,33.0,28.0,17.0,36.0,29.0,18.0,37.0,36.0,44.0,21.0,20.0,45.0,28.0,20.0,18.0,null,19.0,27.0,26.0,29.0,18.0,12.0,0.0,2.0,16.0,17.0,20.0,30.0,20.0,31.0,13.0,23.0,19.0,18.0,50.0,43.0,52.0,24.0,46.0,25.0,53.0,17.0,29.0,26.0,35.0,51.0,20.0,19.0,59.0,23.0,22.0,21.0,25.0,23.0,15.0,20.0,22.0,20.0,35.0,41.0,18.0,40.0,25.0,31.0,47.0,29.0,null,18.0,19.0,50.0,26.0,29.0,14.0,14.0,0.0,34.0,23.0,24.0,39.0,22.0,23.0,26.0,28.0,42.0,37.0,45.0,21.0,42.0,20.0,61.0,0.0,3.0,18.0,44.0,50.0,18.0,0.0,58.0,50.0,43.0,21.0,30.0,20.0,24.0,24.0,37.0,21.0,48.0,33.0,21.0,21.0,13.0,5.0,24.0,37.0,23.0,35.0,24.0,20.0,0.0,64.0,31.0,6.0,3.0,10.0,19.0,19.0,46.0,25.0,27.0,23.0,20.0,24.0,50.0,44.0,28.0,25.0,14.0,21.0,16.0,25.0,41.0,20.0,24.0,31.0,23.0,54.0,26.0,49.0,0.0,17.0,22.0,11.0,28.0,17.0,47.0,29.0,46.0,66.0,0.0,5.0,1.0,42.0,5.0,null,41.0,30.0,26.0,16.0,22.0,20.0,44.0,36.0,6.0,13.0,22.0,69.0,40.0,46.0,34.0,39.0,37.0,13.0,20.0,28.0,54.0,9.0,61.0,18.0,null,24.0,24.0,0.0,30.0,null,26.0,26.0,3.0,30.0,51.0,36.0,18.0,27.0,36.0,39.0,17.0,24.0,14.0,25.0,35.0,17.0,45.0,35.0,19.0,null,33.0,22.0,32.0,25.0,26.0,21.0,49.0,26.0,20.0,28.0,35.0,66.0,47.0,25.0,23.0,19.0,8.0,42.0,33.0,29.0,63.0,24.0,62.0,null,52.0,23.0,47.0,50.0,32.0,33.0,26.0,20.0,28.0,38.0,42.0,0.0,23.0,39.0,25.0,17.0,15.0,31.0,49.0,41.0,37.0,27.0,13.0,42.0,21.0,29.0,0.0,19.0,36.0,31.0,16.0,42.0,16.0,23.0,42.0,34.0,38.0,21.0,25.0,30.0,40.0,31.0,20.0,37.0,26.0,22.0,21.0,33.0,40.0,11.0,27.0,22.0,40.0,61.0,28.0,24.0,43.0,22.0,14.0,56.0,35.0,62.0,44.0,32.0,26.0,22.0,56.0,29.0,21.0,34.0,35.0,18.0,23.0,18.0,24.0,19.0,62.0,52.0,37.0,21.0,48.0,43.0,18.0,33.0,33.0,29.0,66.0,41.0,17.0,8.0,20.0,25.0,47.0,40.0,26.0,19.0,35.0,0.0,12.0,37.0,38.0,34.0,30.0,22.0,23.0,59.0,19.0,16.0,22.0,30.0,26.0,18.0,29.0,32.0,33.0,20.0,55.0,41.0,22.0,61.0,20.0,57.0,17.0,60.0,20.0,20.0,40.0,28.0,17.0,18.0,46.0,29.0,25.0,59.0,17.0,65.0,32.0,35.0,18.0,23.0,27.0,0.0,26.0,38.0,35.0,32.0,9.0,11.0,13.0,2.0,12.0,27.0,14.0,37.0,6.0,36.0,27.0,20.0,24.0,21.0,50.0,18.0,34.0,22.0,63.0,39.0,26.0,27.0,17.0,39.0,26.0,30.0,26.0,34.0,24.0,21.0,25.0,64.0,40.0,null,23.0,46.0,22.0,0.0,8.0,35.0,22.0,29.0,25.0,24.0,26.0,20.0,40.0,28.0,22.0,23.0,26.0,19.0,35.0,41.0,37.0,44.0,34.0,39.0,27.0,32.0,13.0,10.0,28.0,25.0,null,27.0,29.0,6.0,2.0,6.0,24.0,31.0,35.0,13.0,64.0,18.0,32.0,21.0,13.0,43.0,39.0,26.0,21.0,18.0,27.0,null,27.0,29.0,20.0,26.0,null,34.0,15.0,24.0,26.0,14.0,24.0,31.0,21.0,28.0,19.0,50.0,15.0,34.0,35.0,34.0,36.0,27.0,30.0,34.0,45.0,21.0,56.0,21.0,28.0,38.0,34.0,33.0,34.0,19.0,19.0,17.0,20.0,22.0,35.0,50.0,19.0,23.0,38.0,20.0,31.0,28.0,36.0,27.0,66.0,14.0,29.0,34.0,13.0,47.0,26.0,50.0,38.0,59.0,43.0,30.0,33.0,33.0,42.0,17.0,18.0,34.0,46.0,35.0,40.0,26.0,43.0,41.0,31.0,23.0,25.0,37.0,14.0,3.0,18.0,35.0,19.0,39.0,48.0,27.0,3.0,28.0,34.0,31.0,60.0,45.0,48.0,21.0,24.0,16.0,19.0,26.0,22.0,33.0,44.0,27.0,23.0,43.0,14.0,41.0,20.0,0.0,2.0,22.0,29.0,35.0,20.0,16.0,38.0,35.0,19.0,25.0,32.0,24.0,20.0,27.0,18.0,31.0,47.0,58.0,37.0,35.0,38.0,32.0,35.0,27.0,61.0,72.0,30.0,14.0,28.0,20.0,41.0,29.0,32.0,33.0,27.0,21.0,21.0,18.0,3.0,0.0,41.0,57.0,50.0,54.0,49.0,19.0,51.0,null,5.0,13.0,0.0,8.0,27.0,13.0,47.0,6.0,59.0,20.0,35.0,22.0,16.0,18.0,26.0,19.0,23.0,21.0,32.0,25.0,50.0,27.0,44.0,47.0,58.0,27.0,52.0,21.0,25.0,31.0,28.0,42.0,49.0,3.0,5.0,null,57.0,29.0,29.0,21.0,25.0,26.0,33.0,43.0,26.0,13.0,30.0,8.0,null,23.0,22.0,36.0,35.0,26.0,15.0,18.0,41.0,41.0,22.0,null,0.0,16.0,27.0,13.0,1.0,32.0,35.0,40.0,17.0,49.0,21.0,9.0,27.0,59.0,25.0,21.0,15.0,28.0,42.0,22.0,21.0,48.0,24.0,47.0,13.0,32.0,29.0,35.0,24.0,52.0,21.0,36.0,19.0,39.0,59.0,45.0,25.0,64.0,24.0,36.0,26.0,31.0,18.0,21.0,34.0,32.0,19.0,18.0,39.0,null,19.0,16.0,24.0,2.0,10.0,2.0,21.0,5.0,29.0,41.0,32.0,23.0,23.0,40.0,45.0,30.0,56.0,13.0,19.0,46.0,0.0,60.0,39.0,20.0,64.0,34.0,30.0,62.0,29.0,33.0,31.0,51.0,23.0,18.0,47.0,58.0,46.0,44.0,19.0,43.0,21.0,29.0,13.0,16.0,25.0,19.0,29.0,35.0,56.0,20.0,38.0,18.0,26.0,0.0,2.0,36.0,25.0,2.0,0.0,18.0,60.0,26.0,36.0,22.0,21.0,37.0,65.0,44.0,31.0,31.0,21.0,47.0,19.0,33.0,25.0,16.0,44.0,9.0,15.0,34.0,24.0,39.0,27.0,34.0,24.0,43.0,41.0,26.0,27.0,39.0,34.0,33.0,16.0,6.0,13.0,50.0,24.0,18.0,24.0,16.0,22.0,13.0,29.0,30.0,25.0,23.0,28.0,37.0,21.0,54.0,21.0,36.0,21.0,21.0,23.0,40.0,18.0,25.0,24.0,37.0,25.0,24.0,3.0,2.0,22.0,24.0,17.0,53.0,23.0,29.0,21.0,22.0,2.0,null,20.0,14.0,26.0,23.0,21.0,20.0,19.0,29.0,58.0,13.0,32.0,23.0,38.0,47.0,38.0,47.0,20.0,32.0,42.0,34.0,60.0,30.0,11.0,45.0,39.0,19.0,18.0,34.0,null,30.0,48.0,38.0,33.0,47.0,29.0,8.0,47.0,26.0,13.0,18.0,27.0,27.0,30.0,25.0,26.0,20.0,52.0,3.0,6.0,0.0,22.0,1.0,44.0,18.0,20.0,29.0,28.0,39.0,11.0,2.0,15.0,32.0,15.0,1.0,20.0,25.0,32.0,32.0,18.0,49.0,2.0,13.0,28.0,56.0,27.0,34.0,28.0,31.0,24.0,8.0,20.0,63.0,0.0,13.0,1.0,13.0,2.0,18.0,30.0,35.0,28.0,28.0,48.0,34.0,16.0,24.0,53.0,24.0,32.0,15.0,24.0,35.0,42.0,18.0,15.0,37.0,35.0,34.0,21.0,14.0,16.0,23.0,53.0,18.0,16.0,34.0,13.0,25.0,43.0,39.0,19.0,21.0,20.0,16.0,9.0,18.0,23.0,36.0,30.0,46.0,22.0,1.0,21.0,24.0,51.0,26.0,35.0,22.0,30.0,28.0,33.0,56.0,32.0,39.0,25.0,25.0,34.0,null,18.0,18.0,23.0,21.0,47.0,18.0,43.0,18.0,25.0,30.0,21.0,24.0,20.0,30.0,58.0,36.0,27.0,33.0,55.0,24.0,17.0,19.0,25.0,22.0,16.0,36.0,40.0,21.0,24.0,26.0,30.0,27.0,24.0,23.0,55.0,47.0,31.0,40.0,19.0,18.0,48.0,15.0,47.0,21.0,18.0,20.0,20.0,19.0,22.0,16.0,26.0,27.0,17.0,24.0,55.0,7.0,null,29.0,31.0,44.0,26.0,3.0,21.0,0.0,40.0,25.0,2.0,28.0,14.0,30.0,21.0,30.0,39.0,43.0,22.0,18.0,35.0,21.0,23.0,15.0,37.0,58.0,null,21.0,0.0,15.0,38.0,26.0,47.0,26.0,56.0,18.0,21.0,18.0,44.0,39.0,54.0,23.0,26.0,22.0,25.0,49.0,46.0,17.0,23.0,18.0,23.0,38.0,32.0,18.0,24.0,37.0,41.0,31.0,28.0,40.0,48.0,41.0,36.0,11.0,19.0,20.0,29.0,26.0,24.0,null,28.0,13.0,null,19.0,32.0,23.0,18.0,25.0,19.0,24.0,29.0,43.0,3.0,4.0,2.0,24.0,27.0,37.0,44.0,21.0,27.0,49.0,27.0,63.0,28.0,33.0,21.0,24.0,26.0,27.0,21.0,56.0,31.0,47.0,24.0,18.0,42.0,31.0,22.0,24.0,20.0,51.0,19.0,17.0,23.0,14.0,18.0,42.0,39.0,37.0,27.0,26.0,49.0,32.0,34.0,13.0,21.0,55.0,61.0,24.0,25.0,0.0,38.0,30.0,15.0,21.0,56.0,51.0,26.0,50.0,22.0,25.0,37.0,17.0,38.0,33.0,24.0,21.0,37.0,49.0,42.0,33.0,25.0,27.0,1.0,20.0,20.0,51.0,33.0,45.0,25.0,21.0,22.0,27.0,33.0,24.0,38.0,18.0,63.0,26.0,29.0,24.0,51.0,25.0,41.0,20.0,22.0,15.0,null,19.0,28.0,18.0,31.0,26.0,9.0,42.0,32.0,22.0,51.0,31.0,44.0,36.0,29.0,36.0,9.0,16.0,18.0,51.0,30.0,44.0,22.0,39.0,18.0,34.0,25.0,25.0,16.0,41.0,28.0,15.0,49.0,43.0,28.0,18.0,14.0,40.0,28.0,34.0,22.0,41.0,19.0,33.0,19.0,24.0,3.0,19.0,19.0,45.0,29.0,54.0,1.0,18.0,24.0,18.0,19.0,22.0,48.0,39.0,40.0,34.0,0.0,25.0,3.0,24.0,39.0,55.0,24.0,null,27.0,19.0,27.0,24.0,31.0,52.0,null,58.0,16.0,36.0,23.0,25.0,21.0,22.0,20.0,56.0,4.0,36.0,47.0,24.0,30.0,21.0,52.0,18.0,53.0,62.0,9.0,2.0,null,23.0,28.0,59.0,23.0,20.0,24.0,48.0,25.0,37.0,40.0,17.0,17.0,21.0,50.0,38.0,39.0,0.0,32.0,39.0,13.0,18.0,31.0,5.0,47.0,43.0,27.0,27.0,31.0,26.0,22.0,25.0,20.0,23.0,19.0,27.0,8.0,66.0,17.0,41.0,14.0,53.0,13.0,19.0,19.0,14.0,18.0,25.0,16.0,6.0,22.0,3.0,19.0,23.0,26.0,23.0,25.0,20.0,29.0,26.0,19.0,28.0,21.0,25.0,27.0,54.0,9.0,24.0,22.0,42.0,35.0,6.0,39.0,24.0,21.0,48.0,24.0,25.0,29.0,52.0,43.0,20.0,19.0,20.0,48.0,29.0,46.0,18.0,36.0,22.0,7.0,38.0,44.0,24.0,42.0,35.0,33.0,22.0,35.0,21.0,19.0,34.0,52.0,18.0,null,32.0,36.0,55.0,65.0,29.0,18.0,0.0,35.0,37.0,13.0,15.0,33.0,null,40.0,36.0,33.0,4.0,20.0,23.0,24.0,18.0,25.0,26.0,52.0,47.0,24.0,3.0,9.0,2.0,19.0,12.0,21.0,20.0,63.0,15.0,25.0,13.0,45.0,17.0,18.0,40.0,40.0,65.0,45.0,34.0,37.0,13.0,16.0,16.0,13.0,19.0,54.0,13.0,40.0,25.0,36.0,58.0,2.0,32.0,32.0,null,54.0,21.0,46.0,43.0,18.0,26.0,15.0,39.0,41.0,39.0,19.0,13.0,43.0,33.0,39.0,1.0,5.0,23.0,41.0,39.0,26.0,25.0,35.0,3.0,1.0,13.0,41.0,36.0,27.0,40.0,59.0,25.0,22.0,32.0,22.0,55.0,22.0,33.0,57.0,26.0,28.0,23.0,62.0,45.0,23.0,0.0,21.0,0.0,23.0,25.0,32.0,46.0,28.0,39.0,18.0,22.0,23.0,22.0,73.0,17.0,20.0,15.0,55.0,42.0,39.0,8.0,38.0,17.0,13.0,28.0,22.0,64.0,30.0,28.0,null,39.0,31.0,24.0,0.0,42.0,0.0,43.0,40.0,23.0,54.0,18.0,20.0,24.0,18.0,18.0,47.0,25.0,28.0,8.0,59.0,51.0,38.0,26.0,65.0,36.0,null,14.0,9.0,20.0,19.0,20.0,34.0,27.0,22.0,15.0,28.0,28.0,19.0,33.0,29.0,48.0,31.0,29.0,24.0,19.0,33.0,29.0,38.0,19.0,44.0,20.0,53.0,27.0,23.0,41.0,28.0,18.0,18.0,52.0,28.0,15.0,null,15.0,16.0,17.0,48.0,26.0,34.0,25.0,29.0,36.0,62.0,29.0,19.0,null,14.0,40.0,30.0,41.0,31.0,17.0,25.0,27.0,47.0,32.0,18.0,33.0,19.0,13.0,40.0,32.0,42.0,22.0,24.0,17.0,21.0,24.0,41.0,13.0,10.0,3.0,16.0,26.0,14.0,0.0,32.0,15.0,35.0,20.0,21.0,32.0,29.0,3.0,20.0,43.0,43.0,40.0,34.0,42.0,null,null,43.0],\"xaxis\":\"x2\",\"yaxis\":\"y2\",\"type\":\"box\"}],                        {\"template\":{\"data\":{\"barpolar\":[{\"marker\":{\"line\":{\"color\":\"white\",\"width\":0.5},\"pattern\":{\"fillmode\":\"overlay\",\"size\":10,\"solidity\":0.2}},\"type\":\"barpolar\"}],\"bar\":[{\"error_x\":{\"color\":\"#2a3f5f\"},\"error_y\":{\"color\":\"#2a3f5f\"},\"marker\":{\"line\":{\"color\":\"white\",\"width\":0.5},\"pattern\":{\"fillmode\":\"overlay\",\"size\":10,\"solidity\":0.2}},\"type\":\"bar\"}],\"carpet\":[{\"aaxis\":{\"endlinecolor\":\"#2a3f5f\",\"gridcolor\":\"#C8D4E3\",\"linecolor\":\"#C8D4E3\",\"minorgridcolor\":\"#C8D4E3\",\"startlinecolor\":\"#2a3f5f\"},\"baxis\":{\"endlinecolor\":\"#2a3f5f\",\"gridcolor\":\"#C8D4E3\",\"linecolor\":\"#C8D4E3\",\"minorgridcolor\":\"#C8D4E3\",\"startlinecolor\":\"#2a3f5f\"},\"type\":\"carpet\"}],\"choropleth\":[{\"colorbar\":{\"outlinewidth\":0,\"ticks\":\"\"},\"type\":\"choropleth\"}],\"contourcarpet\":[{\"colorbar\":{\"outlinewidth\":0,\"ticks\":\"\"},\"type\":\"contourcarpet\"}],\"contour\":[{\"colorbar\":{\"outlinewidth\":0,\"ticks\":\"\"},\"colorscale\":[[0.0,\"#0d0887\"],[0.1111111111111111,\"#46039f\"],[0.2222222222222222,\"#7201a8\"],[0.3333333333333333,\"#9c179e\"],[0.4444444444444444,\"#bd3786\"],[0.5555555555555556,\"#d8576b\"],[0.6666666666666666,\"#ed7953\"],[0.7777777777777778,\"#fb9f3a\"],[0.8888888888888888,\"#fdca26\"],[1.0,\"#f0f921\"]],\"type\":\"contour\"}],\"heatmapgl\":[{\"colorbar\":{\"outlinewidth\":0,\"ticks\":\"\"},\"colorscale\":[[0.0,\"#0d0887\"],[0.1111111111111111,\"#46039f\"],[0.2222222222222222,\"#7201a8\"],[0.3333333333333333,\"#9c179e\"],[0.4444444444444444,\"#bd3786\"],[0.5555555555555556,\"#d8576b\"],[0.6666666666666666,\"#ed7953\"],[0.7777777777777778,\"#fb9f3a\"],[0.8888888888888888,\"#fdca26\"],[1.0,\"#f0f921\"]],\"type\":\"heatmapgl\"}],\"heatmap\":[{\"colorbar\":{\"outlinewidth\":0,\"ticks\":\"\"},\"colorscale\":[[0.0,\"#0d0887\"],[0.1111111111111111,\"#46039f\"],[0.2222222222222222,\"#7201a8\"],[0.3333333333333333,\"#9c179e\"],[0.4444444444444444,\"#bd3786\"],[0.5555555555555556,\"#d8576b\"],[0.6666666666666666,\"#ed7953\"],[0.7777777777777778,\"#fb9f3a\"],[0.8888888888888888,\"#fdca26\"],[1.0,\"#f0f921\"]],\"type\":\"heatmap\"}],\"histogram2dcontour\":[{\"colorbar\":{\"outlinewidth\":0,\"ticks\":\"\"},\"colorscale\":[[0.0,\"#0d0887\"],[0.1111111111111111,\"#46039f\"],[0.2222222222222222,\"#7201a8\"],[0.3333333333333333,\"#9c179e\"],[0.4444444444444444,\"#bd3786\"],[0.5555555555555556,\"#d8576b\"],[0.6666666666666666,\"#ed7953\"],[0.7777777777777778,\"#fb9f3a\"],[0.8888888888888888,\"#fdca26\"],[1.0,\"#f0f921\"]],\"type\":\"histogram2dcontour\"}],\"histogram2d\":[{\"colorbar\":{\"outlinewidth\":0,\"ticks\":\"\"},\"colorscale\":[[0.0,\"#0d0887\"],[0.1111111111111111,\"#46039f\"],[0.2222222222222222,\"#7201a8\"],[0.3333333333333333,\"#9c179e\"],[0.4444444444444444,\"#bd3786\"],[0.5555555555555556,\"#d8576b\"],[0.6666666666666666,\"#ed7953\"],[0.7777777777777778,\"#fb9f3a\"],[0.8888888888888888,\"#fdca26\"],[1.0,\"#f0f921\"]],\"type\":\"histogram2d\"}],\"histogram\":[{\"marker\":{\"pattern\":{\"fillmode\":\"overlay\",\"size\":10,\"solidity\":0.2}},\"type\":\"histogram\"}],\"mesh3d\":[{\"colorbar\":{\"outlinewidth\":0,\"ticks\":\"\"},\"type\":\"mesh3d\"}],\"parcoords\":[{\"line\":{\"colorbar\":{\"outlinewidth\":0,\"ticks\":\"\"}},\"type\":\"parcoords\"}],\"pie\":[{\"automargin\":true,\"type\":\"pie\"}],\"scatter3d\":[{\"line\":{\"colorbar\":{\"outlinewidth\":0,\"ticks\":\"\"}},\"marker\":{\"colorbar\":{\"outlinewidth\":0,\"ticks\":\"\"}},\"type\":\"scatter3d\"}],\"scattercarpet\":[{\"marker\":{\"colorbar\":{\"outlinewidth\":0,\"ticks\":\"\"}},\"type\":\"scattercarpet\"}],\"scattergeo\":[{\"marker\":{\"colorbar\":{\"outlinewidth\":0,\"ticks\":\"\"}},\"type\":\"scattergeo\"}],\"scattergl\":[{\"marker\":{\"colorbar\":{\"outlinewidth\":0,\"ticks\":\"\"}},\"type\":\"scattergl\"}],\"scattermapbox\":[{\"marker\":{\"colorbar\":{\"outlinewidth\":0,\"ticks\":\"\"}},\"type\":\"scattermapbox\"}],\"scatterpolargl\":[{\"marker\":{\"colorbar\":{\"outlinewidth\":0,\"ticks\":\"\"}},\"type\":\"scatterpolargl\"}],\"scatterpolar\":[{\"marker\":{\"colorbar\":{\"outlinewidth\":0,\"ticks\":\"\"}},\"type\":\"scatterpolar\"}],\"scatter\":[{\"fillpattern\":{\"fillmode\":\"overlay\",\"size\":10,\"solidity\":0.2},\"type\":\"scatter\"}],\"scatterternary\":[{\"marker\":{\"colorbar\":{\"outlinewidth\":0,\"ticks\":\"\"}},\"type\":\"scatterternary\"}],\"surface\":[{\"colorbar\":{\"outlinewidth\":0,\"ticks\":\"\"},\"colorscale\":[[0.0,\"#0d0887\"],[0.1111111111111111,\"#46039f\"],[0.2222222222222222,\"#7201a8\"],[0.3333333333333333,\"#9c179e\"],[0.4444444444444444,\"#bd3786\"],[0.5555555555555556,\"#d8576b\"],[0.6666666666666666,\"#ed7953\"],[0.7777777777777778,\"#fb9f3a\"],[0.8888888888888888,\"#fdca26\"],[1.0,\"#f0f921\"]],\"type\":\"surface\"}],\"table\":[{\"cells\":{\"fill\":{\"color\":\"#EBF0F8\"},\"line\":{\"color\":\"white\"}},\"header\":{\"fill\":{\"color\":\"#C8D4E3\"},\"line\":{\"color\":\"white\"}},\"type\":\"table\"}]},\"layout\":{\"annotationdefaults\":{\"arrowcolor\":\"#2a3f5f\",\"arrowhead\":0,\"arrowwidth\":1},\"autotypenumbers\":\"strict\",\"coloraxis\":{\"colorbar\":{\"outlinewidth\":0,\"ticks\":\"\"}},\"colorscale\":{\"diverging\":[[0,\"#8e0152\"],[0.1,\"#c51b7d\"],[0.2,\"#de77ae\"],[0.3,\"#f1b6da\"],[0.4,\"#fde0ef\"],[0.5,\"#f7f7f7\"],[0.6,\"#e6f5d0\"],[0.7,\"#b8e186\"],[0.8,\"#7fbc41\"],[0.9,\"#4d9221\"],[1,\"#276419\"]],\"sequential\":[[0.0,\"#0d0887\"],[0.1111111111111111,\"#46039f\"],[0.2222222222222222,\"#7201a8\"],[0.3333333333333333,\"#9c179e\"],[0.4444444444444444,\"#bd3786\"],[0.5555555555555556,\"#d8576b\"],[0.6666666666666666,\"#ed7953\"],[0.7777777777777778,\"#fb9f3a\"],[0.8888888888888888,\"#fdca26\"],[1.0,\"#f0f921\"]],\"sequentialminus\":[[0.0,\"#0d0887\"],[0.1111111111111111,\"#46039f\"],[0.2222222222222222,\"#7201a8\"],[0.3333333333333333,\"#9c179e\"],[0.4444444444444444,\"#bd3786\"],[0.5555555555555556,\"#d8576b\"],[0.6666666666666666,\"#ed7953\"],[0.7777777777777778,\"#fb9f3a\"],[0.8888888888888888,\"#fdca26\"],[1.0,\"#f0f921\"]]},\"colorway\":[\"#636efa\",\"#EF553B\",\"#00cc96\",\"#ab63fa\",\"#FFA15A\",\"#19d3f3\",\"#FF6692\",\"#B6E880\",\"#FF97FF\",\"#FECB52\"],\"font\":{\"color\":\"#2a3f5f\"},\"geo\":{\"bgcolor\":\"white\",\"lakecolor\":\"white\",\"landcolor\":\"white\",\"showlakes\":true,\"showland\":true,\"subunitcolor\":\"#C8D4E3\"},\"hoverlabel\":{\"align\":\"left\"},\"hovermode\":\"closest\",\"mapbox\":{\"style\":\"light\"},\"paper_bgcolor\":\"white\",\"plot_bgcolor\":\"white\",\"polar\":{\"angularaxis\":{\"gridcolor\":\"#EBF0F8\",\"linecolor\":\"#EBF0F8\",\"ticks\":\"\"},\"bgcolor\":\"white\",\"radialaxis\":{\"gridcolor\":\"#EBF0F8\",\"linecolor\":\"#EBF0F8\",\"ticks\":\"\"}},\"scene\":{\"xaxis\":{\"backgroundcolor\":\"white\",\"gridcolor\":\"#DFE8F3\",\"gridwidth\":2,\"linecolor\":\"#EBF0F8\",\"showbackground\":true,\"ticks\":\"\",\"zerolinecolor\":\"#EBF0F8\"},\"yaxis\":{\"backgroundcolor\":\"white\",\"gridcolor\":\"#DFE8F3\",\"gridwidth\":2,\"linecolor\":\"#EBF0F8\",\"showbackground\":true,\"ticks\":\"\",\"zerolinecolor\":\"#EBF0F8\"},\"zaxis\":{\"backgroundcolor\":\"white\",\"gridcolor\":\"#DFE8F3\",\"gridwidth\":2,\"linecolor\":\"#EBF0F8\",\"showbackground\":true,\"ticks\":\"\",\"zerolinecolor\":\"#EBF0F8\"}},\"shapedefaults\":{\"line\":{\"color\":\"#2a3f5f\"}},\"ternary\":{\"aaxis\":{\"gridcolor\":\"#DFE8F3\",\"linecolor\":\"#A2B1C6\",\"ticks\":\"\"},\"baxis\":{\"gridcolor\":\"#DFE8F3\",\"linecolor\":\"#A2B1C6\",\"ticks\":\"\"},\"bgcolor\":\"white\",\"caxis\":{\"gridcolor\":\"#DFE8F3\",\"linecolor\":\"#A2B1C6\",\"ticks\":\"\"}},\"title\":{\"x\":0.05},\"xaxis\":{\"automargin\":true,\"gridcolor\":\"#EBF0F8\",\"linecolor\":\"#EBF0F8\",\"ticks\":\"\",\"title\":{\"standoff\":15},\"zerolinecolor\":\"#EBF0F8\",\"zerolinewidth\":2},\"yaxis\":{\"automargin\":true,\"gridcolor\":\"#EBF0F8\",\"linecolor\":\"#EBF0F8\",\"ticks\":\"\",\"title\":{\"standoff\":15},\"zerolinecolor\":\"#EBF0F8\",\"zerolinewidth\":2}}},\"xaxis\":{\"anchor\":\"y\",\"domain\":[0.0,1.0],\"title\":{\"text\":\"Age\"}},\"yaxis\":{\"anchor\":\"x\",\"domain\":[0.0,0.7326],\"title\":{\"text\":\"count\"}},\"xaxis2\":{\"anchor\":\"y2\",\"domain\":[0.0,1.0],\"matches\":\"x\",\"showticklabels\":false,\"showgrid\":true},\"yaxis2\":{\"anchor\":\"x2\",\"domain\":[0.7426,1.0],\"matches\":\"y2\",\"showticklabels\":false,\"showline\":false,\"ticks\":\"\",\"showgrid\":false},\"legend\":{\"title\":{\"text\":\"type\"},\"tracegroupgap\":0},\"margin\":{\"t\":60},\"barmode\":\"relative\",\"title\":{\"text\":\"Distribution of Age\",\"x\":0.5}},                        {\"responsive\": true}                    ).then(function(){\n",
              "                            \n",
              "var gd = document.getElementById('b3647496-12b6-48bb-8b65-da63025ea3a7');\n",
              "var x = new MutationObserver(function (mutations, observer) {{\n",
              "        var display = window.getComputedStyle(gd).display;\n",
              "        if (!display || display === 'none') {{\n",
              "            console.log([gd, 'removed!']);\n",
              "            Plotly.purge(gd);\n",
              "            observer.disconnect();\n",
              "        }}\n",
              "}});\n",
              "\n",
              "// Listen for the removal of the full notebook cells\n",
              "var notebookContainer = gd.closest('#notebook-container');\n",
              "if (notebookContainer) {{\n",
              "    x.observe(notebookContainer, {childList: true});\n",
              "}}\n",
              "\n",
              "// Listen for the clearing of the current output cell\n",
              "var outputEl = gd.closest('.output');\n",
              "if (outputEl) {{\n",
              "    x.observe(outputEl, {childList: true});\n",
              "}}\n",
              "\n",
              "                        })                };                            </script>        </div>\n",
              "</body>\n",
              "</html>"
            ]
          },
          "metadata": {}
        }
      ]
    },
    {
      "cell_type": "markdown",
      "source": [
        "<a href=\"#toc\" role=\"button\" aria-pressed=\"true\" >⬆️Back to Table of Contents ⬆️</a>"
      ],
      "metadata": {
        "id": "6wc6slyd94sF"
      }
    },
    {
      "cell_type": "markdown",
      "source": [
        "::<a id=\"4.4\"></a>\n",
        "## <span style=\"color:#e76f51;\">  Feature Distribution of Categorical Features - 이 이후부터는 출력은 안되거나 되더라도, 정상적인 출력이 나오지 않아 일단 나중에 해결방법을 찾고 다시 보아야 할듯/ 몰론 import문제가 아닐수도 있겠지만....\n",
        "</span>"
      ],
      "metadata": {
        "papermill": {
          "duration": 0.057303,
          "end_time": "2022-01-18T20:32:52.665638",
          "exception": false,
          "start_time": "2022-01-18T20:32:52.608335",
          "status": "completed"
        },
        "tags": [],
        "id": "zGiUD9Qy94sF"
      }
    },
    {
      "cell_type": "code",
      "source": [
        "if len(cat_features) == 0 :\n",
        "    print(\"No Categorical features\")\n",
        "else:\n",
        "    ncols = 2\n",
        "    nrows = 2\n",
        "\n",
        "    fig, axes = plt.subplots(nrows, ncols, figsize=(18, 10))\n",
        "    for r in range(nrows):\n",
        "        for c in range(ncols):\n",
        "            col = cat_features[r*ncols+c]\n",
        "            sns.countplot(train[col],ax = axes[r,c] ,palette = \"viridis\", label='Train data')\n",
        "            sns.countplot(test[col],ax = axes[r,c] ,palette = \"magma\", label='Test data')\n",
        "            axes[r,c].legend()\n",
        "            axes[r,c].set_ylabel('')\n",
        "            axes[r,c].set_xlabel(col, fontsize=20)\n",
        "            axes[r,c].tick_params(labelsize=10, width=0.5)\n",
        "            axes[r,c].xaxis.offsetText.set_fontsize(4)\n",
        "            axes[r,c].yaxis.offsetText.set_fontsize(4)\n",
        "    plt.show()"
      ],
      "metadata": {
        "_kg_hide-input": true,
        "papermill": {
          "duration": 0.607148,
          "end_time": "2022-01-18T20:32:53.330667",
          "exception": false,
          "start_time": "2022-01-18T20:32:52.723519",
          "status": "completed"
        },
        "tags": [],
        "execution": {
          "iopub.status.busy": "2022-02-24T01:38:48.484487Z",
          "iopub.execute_input": "2022-02-24T01:38:48.484863Z",
          "iopub.status.idle": "2022-02-24T01:38:49.419394Z",
          "shell.execute_reply.started": "2022-02-24T01:38:48.484835Z",
          "shell.execute_reply": "2022-02-24T01:38:49.418806Z"
        },
        "trusted": true,
        "colab": {
          "base_uri": "https://localhost:8080/",
          "height": 1000
        },
        "id": "SyBH9Yk494sF",
        "outputId": "37f82959-227d-4d31-b8ce-29f2dd885a90"
      },
      "execution_count": 58,
      "outputs": [
        {
          "output_type": "error",
          "ename": "ValueError",
          "evalue": "ignored",
          "traceback": [
            "\u001b[0;31m---------------------------------------------------------------------------\u001b[0m",
            "\u001b[0;31mValueError\u001b[0m                                Traceback (most recent call last)",
            "\u001b[0;32m<ipython-input-58-36cc3340b318>\u001b[0m in \u001b[0;36m<cell line: 1>\u001b[0;34m()\u001b[0m\n\u001b[1;32m      9\u001b[0m         \u001b[0;32mfor\u001b[0m \u001b[0mc\u001b[0m \u001b[0;32min\u001b[0m \u001b[0mrange\u001b[0m\u001b[0;34m(\u001b[0m\u001b[0mncols\u001b[0m\u001b[0;34m)\u001b[0m\u001b[0;34m:\u001b[0m\u001b[0;34m\u001b[0m\u001b[0;34m\u001b[0m\u001b[0m\n\u001b[1;32m     10\u001b[0m             \u001b[0mcol\u001b[0m \u001b[0;34m=\u001b[0m \u001b[0mcat_features\u001b[0m\u001b[0;34m[\u001b[0m\u001b[0mr\u001b[0m\u001b[0;34m*\u001b[0m\u001b[0mncols\u001b[0m\u001b[0;34m+\u001b[0m\u001b[0mc\u001b[0m\u001b[0;34m]\u001b[0m\u001b[0;34m\u001b[0m\u001b[0;34m\u001b[0m\u001b[0m\n\u001b[0;32m---> 11\u001b[0;31m             \u001b[0msns\u001b[0m\u001b[0;34m.\u001b[0m\u001b[0mcountplot\u001b[0m\u001b[0;34m(\u001b[0m\u001b[0mtrain\u001b[0m\u001b[0;34m[\u001b[0m\u001b[0mcol\u001b[0m\u001b[0;34m]\u001b[0m\u001b[0;34m,\u001b[0m\u001b[0max\u001b[0m \u001b[0;34m=\u001b[0m \u001b[0maxes\u001b[0m\u001b[0;34m[\u001b[0m\u001b[0mr\u001b[0m\u001b[0;34m,\u001b[0m\u001b[0mc\u001b[0m\u001b[0;34m]\u001b[0m \u001b[0;34m,\u001b[0m\u001b[0mpalette\u001b[0m \u001b[0;34m=\u001b[0m \u001b[0;34m\"viridis\"\u001b[0m\u001b[0;34m,\u001b[0m \u001b[0mlabel\u001b[0m\u001b[0;34m=\u001b[0m\u001b[0;34m'Train data'\u001b[0m\u001b[0;34m)\u001b[0m\u001b[0;34m\u001b[0m\u001b[0;34m\u001b[0m\u001b[0m\n\u001b[0m\u001b[1;32m     12\u001b[0m             \u001b[0msns\u001b[0m\u001b[0;34m.\u001b[0m\u001b[0mcountplot\u001b[0m\u001b[0;34m(\u001b[0m\u001b[0mtest\u001b[0m\u001b[0;34m[\u001b[0m\u001b[0mcol\u001b[0m\u001b[0;34m]\u001b[0m\u001b[0;34m,\u001b[0m\u001b[0max\u001b[0m \u001b[0;34m=\u001b[0m \u001b[0maxes\u001b[0m\u001b[0;34m[\u001b[0m\u001b[0mr\u001b[0m\u001b[0;34m,\u001b[0m\u001b[0mc\u001b[0m\u001b[0;34m]\u001b[0m \u001b[0;34m,\u001b[0m\u001b[0mpalette\u001b[0m \u001b[0;34m=\u001b[0m \u001b[0;34m\"magma\"\u001b[0m\u001b[0;34m,\u001b[0m \u001b[0mlabel\u001b[0m\u001b[0;34m=\u001b[0m\u001b[0;34m'Test data'\u001b[0m\u001b[0;34m)\u001b[0m\u001b[0;34m\u001b[0m\u001b[0;34m\u001b[0m\u001b[0m\n\u001b[1;32m     13\u001b[0m             \u001b[0maxes\u001b[0m\u001b[0;34m[\u001b[0m\u001b[0mr\u001b[0m\u001b[0;34m,\u001b[0m\u001b[0mc\u001b[0m\u001b[0;34m]\u001b[0m\u001b[0;34m.\u001b[0m\u001b[0mlegend\u001b[0m\u001b[0;34m(\u001b[0m\u001b[0;34m)\u001b[0m\u001b[0;34m\u001b[0m\u001b[0;34m\u001b[0m\u001b[0m\n",
            "\u001b[0;32m/usr/local/lib/python3.10/dist-packages/seaborn/categorical.py\u001b[0m in \u001b[0;36mcountplot\u001b[0;34m(data, x, y, hue, order, hue_order, orient, color, palette, saturation, width, dodge, ax, **kwargs)\u001b[0m\n\u001b[1;32m   2941\u001b[0m         \u001b[0;32mraise\u001b[0m \u001b[0mValueError\u001b[0m\u001b[0;34m(\u001b[0m\u001b[0;34m\"Cannot pass values for both `x` and `y`\"\u001b[0m\u001b[0;34m)\u001b[0m\u001b[0;34m\u001b[0m\u001b[0;34m\u001b[0m\u001b[0m\n\u001b[1;32m   2942\u001b[0m \u001b[0;34m\u001b[0m\u001b[0m\n\u001b[0;32m-> 2943\u001b[0;31m     plotter = _CountPlotter(\n\u001b[0m\u001b[1;32m   2944\u001b[0m         \u001b[0mx\u001b[0m\u001b[0;34m,\u001b[0m \u001b[0my\u001b[0m\u001b[0;34m,\u001b[0m \u001b[0mhue\u001b[0m\u001b[0;34m,\u001b[0m \u001b[0mdata\u001b[0m\u001b[0;34m,\u001b[0m \u001b[0morder\u001b[0m\u001b[0;34m,\u001b[0m \u001b[0mhue_order\u001b[0m\u001b[0;34m,\u001b[0m\u001b[0;34m\u001b[0m\u001b[0;34m\u001b[0m\u001b[0m\n\u001b[1;32m   2945\u001b[0m         \u001b[0mestimator\u001b[0m\u001b[0;34m,\u001b[0m \u001b[0merrorbar\u001b[0m\u001b[0;34m,\u001b[0m \u001b[0mn_boot\u001b[0m\u001b[0;34m,\u001b[0m \u001b[0munits\u001b[0m\u001b[0;34m,\u001b[0m \u001b[0mseed\u001b[0m\u001b[0;34m,\u001b[0m\u001b[0;34m\u001b[0m\u001b[0;34m\u001b[0m\u001b[0m\n",
            "\u001b[0;32m/usr/local/lib/python3.10/dist-packages/seaborn/categorical.py\u001b[0m in \u001b[0;36m__init__\u001b[0;34m(self, x, y, hue, data, order, hue_order, estimator, errorbar, n_boot, units, seed, orient, color, palette, saturation, width, errcolor, errwidth, capsize, dodge)\u001b[0m\n\u001b[1;32m   1528\u001b[0m                  errcolor, errwidth, capsize, dodge):\n\u001b[1;32m   1529\u001b[0m         \u001b[0;34m\"\"\"Initialize the plotter.\"\"\"\u001b[0m\u001b[0;34m\u001b[0m\u001b[0;34m\u001b[0m\u001b[0m\n\u001b[0;32m-> 1530\u001b[0;31m         self.establish_variables(x, y, hue, data, orient,\n\u001b[0m\u001b[1;32m   1531\u001b[0m                                  order, hue_order, units)\n\u001b[1;32m   1532\u001b[0m         \u001b[0mself\u001b[0m\u001b[0;34m.\u001b[0m\u001b[0mestablish_colors\u001b[0m\u001b[0;34m(\u001b[0m\u001b[0mcolor\u001b[0m\u001b[0;34m,\u001b[0m \u001b[0mpalette\u001b[0m\u001b[0;34m,\u001b[0m \u001b[0msaturation\u001b[0m\u001b[0;34m)\u001b[0m\u001b[0;34m\u001b[0m\u001b[0;34m\u001b[0m\u001b[0m\n",
            "\u001b[0;32m/usr/local/lib/python3.10/dist-packages/seaborn/categorical.py\u001b[0m in \u001b[0;36mestablish_variables\u001b[0;34m(self, x, y, hue, data, orient, order, hue_order, units)\u001b[0m\n\u001b[1;32m    514\u001b[0m \u001b[0;34m\u001b[0m\u001b[0m\n\u001b[1;32m    515\u001b[0m                 \u001b[0;31m# Convert to a list of arrays, the common representation\u001b[0m\u001b[0;34m\u001b[0m\u001b[0;34m\u001b[0m\u001b[0m\n\u001b[0;32m--> 516\u001b[0;31m                 \u001b[0mplot_data\u001b[0m \u001b[0;34m=\u001b[0m \u001b[0;34m[\u001b[0m\u001b[0mnp\u001b[0m\u001b[0;34m.\u001b[0m\u001b[0masarray\u001b[0m\u001b[0;34m(\u001b[0m\u001b[0md\u001b[0m\u001b[0;34m,\u001b[0m \u001b[0mfloat\u001b[0m\u001b[0;34m)\u001b[0m \u001b[0;32mfor\u001b[0m \u001b[0md\u001b[0m \u001b[0;32min\u001b[0m \u001b[0mplot_data\u001b[0m\u001b[0;34m]\u001b[0m\u001b[0;34m\u001b[0m\u001b[0;34m\u001b[0m\u001b[0m\n\u001b[0m\u001b[1;32m    517\u001b[0m \u001b[0;34m\u001b[0m\u001b[0m\n\u001b[1;32m    518\u001b[0m                 \u001b[0;31m# The group names will just be numeric indices\u001b[0m\u001b[0;34m\u001b[0m\u001b[0;34m\u001b[0m\u001b[0m\n",
            "\u001b[0;32m/usr/local/lib/python3.10/dist-packages/seaborn/categorical.py\u001b[0m in \u001b[0;36m<listcomp>\u001b[0;34m(.0)\u001b[0m\n\u001b[1;32m    514\u001b[0m \u001b[0;34m\u001b[0m\u001b[0m\n\u001b[1;32m    515\u001b[0m                 \u001b[0;31m# Convert to a list of arrays, the common representation\u001b[0m\u001b[0;34m\u001b[0m\u001b[0;34m\u001b[0m\u001b[0m\n\u001b[0;32m--> 516\u001b[0;31m                 \u001b[0mplot_data\u001b[0m \u001b[0;34m=\u001b[0m \u001b[0;34m[\u001b[0m\u001b[0mnp\u001b[0m\u001b[0;34m.\u001b[0m\u001b[0masarray\u001b[0m\u001b[0;34m(\u001b[0m\u001b[0md\u001b[0m\u001b[0;34m,\u001b[0m \u001b[0mfloat\u001b[0m\u001b[0;34m)\u001b[0m \u001b[0;32mfor\u001b[0m \u001b[0md\u001b[0m \u001b[0;32min\u001b[0m \u001b[0mplot_data\u001b[0m\u001b[0;34m]\u001b[0m\u001b[0;34m\u001b[0m\u001b[0;34m\u001b[0m\u001b[0m\n\u001b[0m\u001b[1;32m    517\u001b[0m \u001b[0;34m\u001b[0m\u001b[0m\n\u001b[1;32m    518\u001b[0m                 \u001b[0;31m# The group names will just be numeric indices\u001b[0m\u001b[0;34m\u001b[0m\u001b[0;34m\u001b[0m\u001b[0m\n",
            "\u001b[0;32m/usr/local/lib/python3.10/dist-packages/pandas/core/series.py\u001b[0m in \u001b[0;36m__array__\u001b[0;34m(self, dtype)\u001b[0m\n\u001b[1;32m    915\u001b[0m         \"\"\"\n\u001b[1;32m    916\u001b[0m         \u001b[0mvalues\u001b[0m \u001b[0;34m=\u001b[0m \u001b[0mself\u001b[0m\u001b[0;34m.\u001b[0m\u001b[0m_values\u001b[0m\u001b[0;34m\u001b[0m\u001b[0;34m\u001b[0m\u001b[0m\n\u001b[0;32m--> 917\u001b[0;31m         \u001b[0marr\u001b[0m \u001b[0;34m=\u001b[0m \u001b[0mnp\u001b[0m\u001b[0;34m.\u001b[0m\u001b[0masarray\u001b[0m\u001b[0;34m(\u001b[0m\u001b[0mvalues\u001b[0m\u001b[0;34m,\u001b[0m \u001b[0mdtype\u001b[0m\u001b[0;34m=\u001b[0m\u001b[0mdtype\u001b[0m\u001b[0;34m)\u001b[0m\u001b[0;34m\u001b[0m\u001b[0;34m\u001b[0m\u001b[0m\n\u001b[0m\u001b[1;32m    918\u001b[0m         \u001b[0;32mif\u001b[0m \u001b[0musing_copy_on_write\u001b[0m\u001b[0;34m(\u001b[0m\u001b[0;34m)\u001b[0m \u001b[0;32mand\u001b[0m \u001b[0mastype_is_view\u001b[0m\u001b[0;34m(\u001b[0m\u001b[0mvalues\u001b[0m\u001b[0;34m.\u001b[0m\u001b[0mdtype\u001b[0m\u001b[0;34m,\u001b[0m \u001b[0marr\u001b[0m\u001b[0;34m.\u001b[0m\u001b[0mdtype\u001b[0m\u001b[0;34m)\u001b[0m\u001b[0;34m:\u001b[0m\u001b[0;34m\u001b[0m\u001b[0;34m\u001b[0m\u001b[0m\n\u001b[1;32m    919\u001b[0m             \u001b[0marr\u001b[0m \u001b[0;34m=\u001b[0m \u001b[0marr\u001b[0m\u001b[0;34m.\u001b[0m\u001b[0mview\u001b[0m\u001b[0;34m(\u001b[0m\u001b[0;34m)\u001b[0m\u001b[0;34m\u001b[0m\u001b[0;34m\u001b[0m\u001b[0m\n",
            "\u001b[0;31mValueError\u001b[0m: could not convert string to float: 'Europa'"
          ]
        },
        {
          "output_type": "display_data",
          "data": {
            "text/plain": [
              "<Figure size 1800x1000 with 4 Axes>"
            ],
            "image/png": "[encoded data removed]"
          },
          "metadata": {}
        }
      ]
    },
    {
      "cell_type": "markdown",
      "source": [
        "<a href=\"#toc\" role=\"button\" aria-pressed=\"true\" >⬆️Back to Table of Contents ⬆️</a>"
      ],
      "metadata": {
        "id": "gxi7Aj3h94sF"
      }
    },
    {
      "cell_type": "markdown",
      "source": [
        "<a id=\"4.5\"></a>\n",
        "## <span style=\"color:#e76f51;\">  Target Distribution </span>"
      ],
      "metadata": {
        "papermill": {
          "duration": 0.058627,
          "end_time": "2022-01-18T20:32:53.448714",
          "exception": false,
          "start_time": "2022-01-18T20:32:53.390087",
          "status": "completed"
        },
        "tags": [],
        "id": "1BJu9c0494sF"
      }
    },
    {
      "cell_type": "markdown",
      "source": [
        "<div class=\"alert alert-block alert-info\" style=\"font-size:14px; font-family:verdana; line-height: 1.7em;\">\n",
        "    📌 &nbsp;<b><u>Observations in Null Value Distribution :</u></b><br>\n",
        " \n",
        "* <i>There are two target values - <b><u>0</u></b> and <b><u>1</u></b>.</i><br>\n",
        "* <i>Both the target values are almost equally distributed. </i><br>\n",
        "</div>"
      ],
      "metadata": {
        "execution": {
          "iopub.status.busy": "2022-02-24T00:39:27.972052Z",
          "iopub.execute_input": "2022-02-24T00:39:27.972624Z",
          "iopub.status.idle": "2022-02-24T00:39:27.984571Z",
          "shell.execute_reply.started": "2022-02-24T00:39:27.972572Z",
          "shell.execute_reply": "2022-02-24T00:39:27.983081Z"
        },
        "id": "HucPfQ8Q94sG"
      }
    },
    {
      "cell_type": "code",
      "source": [
        "target_df = pd.DataFrame(train[TARGET].value_counts()).reset_index()\n",
        "target_df.columns = [TARGET, 'count']\n",
        "fig = px.bar(data_frame =target_df, \n",
        "             x = TARGET,\n",
        "             y = 'count'\n",
        "            ) \n",
        "fig.update_traces(marker_color =['#58D68D','#DE3163'], \n",
        "                  marker_line_color='rgb(0,0,0)',\n",
        "                  marker_line_width=2,)\n",
        "fig.update_layout(title = \"Target Distribution\",\n",
        "                  template = \"plotly_white\",\n",
        "                  title_x = 0.5)\n",
        "print(\"\\033[94mPercentage of Transported = 0: {:.2f} %\".format(target_df[\"count\"][0] *100 / train.shape[0]))\n",
        "print(\"\\033[94mPercentage of Transported = 1: {:.2f} %\".format(target_df[\"count\"][1]* 100 / train.shape[0]))\n",
        "fig.show()"
      ],
      "metadata": {
        "_kg_hide-input": true,
        "papermill": {
          "duration": 1.07528,
          "end_time": "2022-01-18T20:32:54.700076",
          "exception": false,
          "start_time": "2022-01-18T20:32:53.624796",
          "status": "completed"
        },
        "tags": [],
        "execution": {
          "iopub.status.busy": "2022-02-24T01:38:49.420452Z",
          "iopub.execute_input": "2022-02-24T01:38:49.420638Z",
          "iopub.status.idle": "2022-02-24T01:38:49.516989Z",
          "shell.execute_reply.started": "2022-02-24T01:38:49.420615Z",
          "shell.execute_reply": "2022-02-24T01:38:49.516303Z"
        },
        "trusted": true,
        "colab": {
          "base_uri": "https://localhost:8080/",
          "height": 579
        },
        "id": "m8t7D17694sG",
        "outputId": "c3a1bf8a-c0cc-4451-a1ec-f592d0534e62"
      },
      "execution_count": 59,
      "outputs": [
        {
          "output_type": "stream",
          "name": "stdout",
          "text": [
            "\u001b[94mPercentage of Transported = 0: 50.36 %\n",
            "\u001b[94mPercentage of Transported = 1: 49.64 %\n"
          ]
        },
        {
          "output_type": "display_data",
          "data": {
            "text/html": [
              "<html>\n",
              "<head><meta charset=\"utf-8\" /></head>\n",
              "<body>\n",
              "    <div>            <script src=\"https://cdnjs.cloudflare.com/ajax/libs/mathjax/2.7.5/MathJax.js?config=TeX-AMS-MML_SVG\"></script><script type=\"text/javascript\">if (window.MathJax && window.MathJax.Hub && window.MathJax.Hub.Config) {window.MathJax.Hub.Config({SVG: {font: \"STIX-Web\"}});}</script>                <script type=\"text/javascript\">window.PlotlyConfig = {MathJaxConfig: 'local'};</script>\n",
              "        <script src=\"https://cdn.plot.ly/plotly-2.18.2.min.js\"></script>                <div id=\"cf447996-3e70-43a4-a6d2-5324e85c07ad\" class=\"plotly-graph-div\" style=\"height:525px; width:100%;\"></div>            <script type=\"text/javascript\">                                    window.PLOTLYENV=window.PLOTLYENV || {};                                    if (document.getElementById(\"cf447996-3e70-43a4-a6d2-5324e85c07ad\")) {                    Plotly.newPlot(                        \"cf447996-3e70-43a4-a6d2-5324e85c07ad\",                        [{\"alignmentgroup\":\"True\",\"hovertemplate\":\"Transported=%{x}<br>count=%{y}<extra></extra>\",\"legendgroup\":\"\",\"marker\":{\"color\":[\"#58D68D\",\"#DE3163\"],\"pattern\":{\"shape\":\"\"},\"line\":{\"color\":\"rgb(0,0,0)\",\"width\":2}},\"name\":\"\",\"offsetgroup\":\"\",\"orientation\":\"v\",\"showlegend\":false,\"textposition\":\"auto\",\"x\":[true,false],\"xaxis\":\"x\",\"y\":[4378,4315],\"yaxis\":\"y\",\"type\":\"bar\"}],                        {\"template\":{\"data\":{\"barpolar\":[{\"marker\":{\"line\":{\"color\":\"white\",\"width\":0.5},\"pattern\":{\"fillmode\":\"overlay\",\"size\":10,\"solidity\":0.2}},\"type\":\"barpolar\"}],\"bar\":[{\"error_x\":{\"color\":\"#2a3f5f\"},\"error_y\":{\"color\":\"#2a3f5f\"},\"marker\":{\"line\":{\"color\":\"white\",\"width\":0.5},\"pattern\":{\"fillmode\":\"overlay\",\"size\":10,\"solidity\":0.2}},\"type\":\"bar\"}],\"carpet\":[{\"aaxis\":{\"endlinecolor\":\"#2a3f5f\",\"gridcolor\":\"#C8D4E3\",\"linecolor\":\"#C8D4E3\",\"minorgridcolor\":\"#C8D4E3\",\"startlinecolor\":\"#2a3f5f\"},\"baxis\":{\"endlinecolor\":\"#2a3f5f\",\"gridcolor\":\"#C8D4E3\",\"linecolor\":\"#C8D4E3\",\"minorgridcolor\":\"#C8D4E3\",\"startlinecolor\":\"#2a3f5f\"},\"type\":\"carpet\"}],\"choropleth\":[{\"colorbar\":{\"outlinewidth\":0,\"ticks\":\"\"},\"type\":\"choropleth\"}],\"contourcarpet\":[{\"colorbar\":{\"outlinewidth\":0,\"ticks\":\"\"},\"type\":\"contourcarpet\"}],\"contour\":[{\"colorbar\":{\"outlinewidth\":0,\"ticks\":\"\"},\"colorscale\":[[0.0,\"#0d0887\"],[0.1111111111111111,\"#46039f\"],[0.2222222222222222,\"#7201a8\"],[0.3333333333333333,\"#9c179e\"],[0.4444444444444444,\"#bd3786\"],[0.5555555555555556,\"#d8576b\"],[0.6666666666666666,\"#ed7953\"],[0.7777777777777778,\"#fb9f3a\"],[0.8888888888888888,\"#fdca26\"],[1.0,\"#f0f921\"]],\"type\":\"contour\"}],\"heatmapgl\":[{\"colorbar\":{\"outlinewidth\":0,\"ticks\":\"\"},\"colorscale\":[[0.0,\"#0d0887\"],[0.1111111111111111,\"#46039f\"],[0.2222222222222222,\"#7201a8\"],[0.3333333333333333,\"#9c179e\"],[0.4444444444444444,\"#bd3786\"],[0.5555555555555556,\"#d8576b\"],[0.6666666666666666,\"#ed7953\"],[0.7777777777777778,\"#fb9f3a\"],[0.8888888888888888,\"#fdca26\"],[1.0,\"#f0f921\"]],\"type\":\"heatmapgl\"}],\"heatmap\":[{\"colorbar\":{\"outlinewidth\":0,\"ticks\":\"\"},\"colorscale\":[[0.0,\"#0d0887\"],[0.1111111111111111,\"#46039f\"],[0.2222222222222222,\"#7201a8\"],[0.3333333333333333,\"#9c179e\"],[0.4444444444444444,\"#bd3786\"],[0.5555555555555556,\"#d8576b\"],[0.6666666666666666,\"#ed7953\"],[0.7777777777777778,\"#fb9f3a\"],[0.8888888888888888,\"#fdca26\"],[1.0,\"#f0f921\"]],\"type\":\"heatmap\"}],\"histogram2dcontour\":[{\"colorbar\":{\"outlinewidth\":0,\"ticks\":\"\"},\"colorscale\":[[0.0,\"#0d0887\"],[0.1111111111111111,\"#46039f\"],[0.2222222222222222,\"#7201a8\"],[0.3333333333333333,\"#9c179e\"],[0.4444444444444444,\"#bd3786\"],[0.5555555555555556,\"#d8576b\"],[0.6666666666666666,\"#ed7953\"],[0.7777777777777778,\"#fb9f3a\"],[0.8888888888888888,\"#fdca26\"],[1.0,\"#f0f921\"]],\"type\":\"histogram2dcontour\"}],\"histogram2d\":[{\"colorbar\":{\"outlinewidth\":0,\"ticks\":\"\"},\"colorscale\":[[0.0,\"#0d0887\"],[0.1111111111111111,\"#46039f\"],[0.2222222222222222,\"#7201a8\"],[0.3333333333333333,\"#9c179e\"],[0.4444444444444444,\"#bd3786\"],[0.5555555555555556,\"#d8576b\"],[0.6666666666666666,\"#ed7953\"],[0.7777777777777778,\"#fb9f3a\"],[0.8888888888888888,\"#fdca26\"],[1.0,\"#f0f921\"]],\"type\":\"histogram2d\"}],\"histogram\":[{\"marker\":{\"pattern\":{\"fillmode\":\"overlay\",\"size\":10,\"solidity\":0.2}},\"type\":\"histogram\"}],\"mesh3d\":[{\"colorbar\":{\"outlinewidth\":0,\"ticks\":\"\"},\"type\":\"mesh3d\"}],\"parcoords\":[{\"line\":{\"colorbar\":{\"outlinewidth\":0,\"ticks\":\"\"}},\"type\":\"parcoords\"}],\"pie\":[{\"automargin\":true,\"type\":\"pie\"}],\"scatter3d\":[{\"line\":{\"colorbar\":{\"outlinewidth\":0,\"ticks\":\"\"}},\"marker\":{\"colorbar\":{\"outlinewidth\":0,\"ticks\":\"\"}},\"type\":\"scatter3d\"}],\"scattercarpet\":[{\"marker\":{\"colorbar\":{\"outlinewidth\":0,\"ticks\":\"\"}},\"type\":\"scattercarpet\"}],\"scattergeo\":[{\"marker\":{\"colorbar\":{\"outlinewidth\":0,\"ticks\":\"\"}},\"type\":\"scattergeo\"}],\"scattergl\":[{\"marker\":{\"colorbar\":{\"outlinewidth\":0,\"ticks\":\"\"}},\"type\":\"scattergl\"}],\"scattermapbox\":[{\"marker\":{\"colorbar\":{\"outlinewidth\":0,\"ticks\":\"\"}},\"type\":\"scattermapbox\"}],\"scatterpolargl\":[{\"marker\":{\"colorbar\":{\"outlinewidth\":0,\"ticks\":\"\"}},\"type\":\"scatterpolargl\"}],\"scatterpolar\":[{\"marker\":{\"colorbar\":{\"outlinewidth\":0,\"ticks\":\"\"}},\"type\":\"scatterpolar\"}],\"scatter\":[{\"fillpattern\":{\"fillmode\":\"overlay\",\"size\":10,\"solidity\":0.2},\"type\":\"scatter\"}],\"scatterternary\":[{\"marker\":{\"colorbar\":{\"outlinewidth\":0,\"ticks\":\"\"}},\"type\":\"scatterternary\"}],\"surface\":[{\"colorbar\":{\"outlinewidth\":0,\"ticks\":\"\"},\"colorscale\":[[0.0,\"#0d0887\"],[0.1111111111111111,\"#46039f\"],[0.2222222222222222,\"#7201a8\"],[0.3333333333333333,\"#9c179e\"],[0.4444444444444444,\"#bd3786\"],[0.5555555555555556,\"#d8576b\"],[0.6666666666666666,\"#ed7953\"],[0.7777777777777778,\"#fb9f3a\"],[0.8888888888888888,\"#fdca26\"],[1.0,\"#f0f921\"]],\"type\":\"surface\"}],\"table\":[{\"cells\":{\"fill\":{\"color\":\"#EBF0F8\"},\"line\":{\"color\":\"white\"}},\"header\":{\"fill\":{\"color\":\"#C8D4E3\"},\"line\":{\"color\":\"white\"}},\"type\":\"table\"}]},\"layout\":{\"annotationdefaults\":{\"arrowcolor\":\"#2a3f5f\",\"arrowhead\":0,\"arrowwidth\":1},\"autotypenumbers\":\"strict\",\"coloraxis\":{\"colorbar\":{\"outlinewidth\":0,\"ticks\":\"\"}},\"colorscale\":{\"diverging\":[[0,\"#8e0152\"],[0.1,\"#c51b7d\"],[0.2,\"#de77ae\"],[0.3,\"#f1b6da\"],[0.4,\"#fde0ef\"],[0.5,\"#f7f7f7\"],[0.6,\"#e6f5d0\"],[0.7,\"#b8e186\"],[0.8,\"#7fbc41\"],[0.9,\"#4d9221\"],[1,\"#276419\"]],\"sequential\":[[0.0,\"#0d0887\"],[0.1111111111111111,\"#46039f\"],[0.2222222222222222,\"#7201a8\"],[0.3333333333333333,\"#9c179e\"],[0.4444444444444444,\"#bd3786\"],[0.5555555555555556,\"#d8576b\"],[0.6666666666666666,\"#ed7953\"],[0.7777777777777778,\"#fb9f3a\"],[0.8888888888888888,\"#fdca26\"],[1.0,\"#f0f921\"]],\"sequentialminus\":[[0.0,\"#0d0887\"],[0.1111111111111111,\"#46039f\"],[0.2222222222222222,\"#7201a8\"],[0.3333333333333333,\"#9c179e\"],[0.4444444444444444,\"#bd3786\"],[0.5555555555555556,\"#d8576b\"],[0.6666666666666666,\"#ed7953\"],[0.7777777777777778,\"#fb9f3a\"],[0.8888888888888888,\"#fdca26\"],[1.0,\"#f0f921\"]]},\"colorway\":[\"#636efa\",\"#EF553B\",\"#00cc96\",\"#ab63fa\",\"#FFA15A\",\"#19d3f3\",\"#FF6692\",\"#B6E880\",\"#FF97FF\",\"#FECB52\"],\"font\":{\"color\":\"#2a3f5f\"},\"geo\":{\"bgcolor\":\"white\",\"lakecolor\":\"white\",\"landcolor\":\"white\",\"showlakes\":true,\"showland\":true,\"subunitcolor\":\"#C8D4E3\"},\"hoverlabel\":{\"align\":\"left\"},\"hovermode\":\"closest\",\"mapbox\":{\"style\":\"light\"},\"paper_bgcolor\":\"white\",\"plot_bgcolor\":\"white\",\"polar\":{\"angularaxis\":{\"gridcolor\":\"#EBF0F8\",\"linecolor\":\"#EBF0F8\",\"ticks\":\"\"},\"bgcolor\":\"white\",\"radialaxis\":{\"gridcolor\":\"#EBF0F8\",\"linecolor\":\"#EBF0F8\",\"ticks\":\"\"}},\"scene\":{\"xaxis\":{\"backgroundcolor\":\"white\",\"gridcolor\":\"#DFE8F3\",\"gridwidth\":2,\"linecolor\":\"#EBF0F8\",\"showbackground\":true,\"ticks\":\"\",\"zerolinecolor\":\"#EBF0F8\"},\"yaxis\":{\"backgroundcolor\":\"white\",\"gridcolor\":\"#DFE8F3\",\"gridwidth\":2,\"linecolor\":\"#EBF0F8\",\"showbackground\":true,\"ticks\":\"\",\"zerolinecolor\":\"#EBF0F8\"},\"zaxis\":{\"backgroundcolor\":\"white\",\"gridcolor\":\"#DFE8F3\",\"gridwidth\":2,\"linecolor\":\"#EBF0F8\",\"showbackground\":true,\"ticks\":\"\",\"zerolinecolor\":\"#EBF0F8\"}},\"shapedefaults\":{\"line\":{\"color\":\"#2a3f5f\"}},\"ternary\":{\"aaxis\":{\"gridcolor\":\"#DFE8F3\",\"linecolor\":\"#A2B1C6\",\"ticks\":\"\"},\"baxis\":{\"gridcolor\":\"#DFE8F3\",\"linecolor\":\"#A2B1C6\",\"ticks\":\"\"},\"bgcolor\":\"white\",\"caxis\":{\"gridcolor\":\"#DFE8F3\",\"linecolor\":\"#A2B1C6\",\"ticks\":\"\"}},\"title\":{\"x\":0.05},\"xaxis\":{\"automargin\":true,\"gridcolor\":\"#EBF0F8\",\"linecolor\":\"#EBF0F8\",\"ticks\":\"\",\"title\":{\"standoff\":15},\"zerolinecolor\":\"#EBF0F8\",\"zerolinewidth\":2},\"yaxis\":{\"automargin\":true,\"gridcolor\":\"#EBF0F8\",\"linecolor\":\"#EBF0F8\",\"ticks\":\"\",\"title\":{\"standoff\":15},\"zerolinecolor\":\"#EBF0F8\",\"zerolinewidth\":2}}},\"xaxis\":{\"anchor\":\"y\",\"domain\":[0.0,1.0],\"title\":{\"text\":\"Transported\"}},\"yaxis\":{\"anchor\":\"x\",\"domain\":[0.0,1.0],\"title\":{\"text\":\"count\"}},\"legend\":{\"tracegroupgap\":0},\"margin\":{\"t\":60},\"barmode\":\"relative\",\"title\":{\"text\":\"Target Distribution\",\"x\":0.5}},                        {\"responsive\": true}                    ).then(function(){\n",
              "                            \n",
              "var gd = document.getElementById('cf447996-3e70-43a4-a6d2-5324e85c07ad');\n",
              "var x = new MutationObserver(function (mutations, observer) {{\n",
              "        var display = window.getComputedStyle(gd).display;\n",
              "        if (!display || display === 'none') {{\n",
              "            console.log([gd, 'removed!']);\n",
              "            Plotly.purge(gd);\n",
              "            observer.disconnect();\n",
              "        }}\n",
              "}});\n",
              "\n",
              "// Listen for the removal of the full notebook cells\n",
              "var notebookContainer = gd.closest('#notebook-container');\n",
              "if (notebookContainer) {{\n",
              "    x.observe(notebookContainer, {childList: true});\n",
              "}}\n",
              "\n",
              "// Listen for the clearing of the current output cell\n",
              "var outputEl = gd.closest('.output');\n",
              "if (outputEl) {{\n",
              "    x.observe(outputEl, {childList: true});\n",
              "}}\n",
              "\n",
              "                        })                };                            </script>        </div>\n",
              "</body>\n",
              "</html>"
            ]
          },
          "metadata": {}
        }
      ]
    },
    {
      "cell_type": "markdown",
      "source": [
        "<a href=\"#toc\" role=\"button\" aria-pressed=\"true\" >⬆️Back to Table of Contents ⬆️</a>"
      ],
      "metadata": {
        "id": "UOs3AHiW94sG"
      }
    },
    {
      "cell_type": "markdown",
      "source": [
        "<a id=\"4.6\"></a>\n",
        "## <span style=\"color:#e76f51;\">  Correlation matrix </span>"
      ],
      "metadata": {
        "papermill": {
          "duration": 0.061187,
          "end_time": "2022-01-18T20:32:54.821974",
          "exception": false,
          "start_time": "2022-01-18T20:32:54.760787",
          "status": "completed"
        },
        "tags": [],
        "id": "i-z1dcwn94sG"
      }
    },
    {
      "cell_type": "code",
      "source": [
        "fig = px.imshow(train.corr() ,text_auto=True, aspect=\"auto\" , color_continuous_scale = \"viridis\")\n",
        "fig.show()"
      ],
      "metadata": {
        "execution": {
          "iopub.status.busy": "2022-02-24T01:38:49.518017Z",
          "iopub.execute_input": "2022-02-24T01:38:49.518203Z",
          "iopub.status.idle": "2022-02-24T01:38:49.5808Z",
          "shell.execute_reply.started": "2022-02-24T01:38:49.518181Z",
          "shell.execute_reply": "2022-02-24T01:38:49.580168Z"
        },
        "trusted": true,
        "colab": {
          "base_uri": "https://localhost:8080/",
          "height": 347
        },
        "id": "6zIsqw5h94sG",
        "outputId": "4bb4496c-3ebf-42fe-e9f2-6a880290de89"
      },
      "execution_count": 60,
      "outputs": [
        {
          "output_type": "error",
          "ename": "ValueError",
          "evalue": "ignored",
          "traceback": [
            "\u001b[0;31m---------------------------------------------------------------------------\u001b[0m",
            "\u001b[0;31mValueError\u001b[0m                                Traceback (most recent call last)",
            "\u001b[0;32m<ipython-input-60-2d1363853a3f>\u001b[0m in \u001b[0;36m<cell line: 1>\u001b[0;34m()\u001b[0m\n\u001b[0;32m----> 1\u001b[0;31m \u001b[0mfig\u001b[0m \u001b[0;34m=\u001b[0m \u001b[0mpx\u001b[0m\u001b[0;34m.\u001b[0m\u001b[0mimshow\u001b[0m\u001b[0;34m(\u001b[0m\u001b[0mtrain\u001b[0m\u001b[0;34m.\u001b[0m\u001b[0mcorr\u001b[0m\u001b[0;34m(\u001b[0m\u001b[0;34m)\u001b[0m \u001b[0;34m,\u001b[0m\u001b[0mtext_auto\u001b[0m\u001b[0;34m=\u001b[0m\u001b[0;32mTrue\u001b[0m\u001b[0;34m,\u001b[0m \u001b[0maspect\u001b[0m\u001b[0;34m=\u001b[0m\u001b[0;34m\"auto\"\u001b[0m \u001b[0;34m,\u001b[0m \u001b[0mcolor_continuous_scale\u001b[0m \u001b[0;34m=\u001b[0m \u001b[0;34m\"viridis\"\u001b[0m\u001b[0;34m)\u001b[0m\u001b[0;34m\u001b[0m\u001b[0;34m\u001b[0m\u001b[0m\n\u001b[0m\u001b[1;32m      2\u001b[0m \u001b[0mfig\u001b[0m\u001b[0;34m.\u001b[0m\u001b[0mshow\u001b[0m\u001b[0;34m(\u001b[0m\u001b[0;34m)\u001b[0m\u001b[0;34m\u001b[0m\u001b[0;34m\u001b[0m\u001b[0m\n",
            "\u001b[0;32m/usr/local/lib/python3.10/dist-packages/pandas/core/frame.py\u001b[0m in \u001b[0;36mcorr\u001b[0;34m(self, method, min_periods, numeric_only)\u001b[0m\n\u001b[1;32m  10057\u001b[0m         \u001b[0mcols\u001b[0m \u001b[0;34m=\u001b[0m \u001b[0mdata\u001b[0m\u001b[0;34m.\u001b[0m\u001b[0mcolumns\u001b[0m\u001b[0;34m\u001b[0m\u001b[0;34m\u001b[0m\u001b[0m\n\u001b[1;32m  10058\u001b[0m         \u001b[0midx\u001b[0m \u001b[0;34m=\u001b[0m \u001b[0mcols\u001b[0m\u001b[0;34m.\u001b[0m\u001b[0mcopy\u001b[0m\u001b[0;34m(\u001b[0m\u001b[0;34m)\u001b[0m\u001b[0;34m\u001b[0m\u001b[0;34m\u001b[0m\u001b[0m\n\u001b[0;32m> 10059\u001b[0;31m         \u001b[0mmat\u001b[0m \u001b[0;34m=\u001b[0m \u001b[0mdata\u001b[0m\u001b[0;34m.\u001b[0m\u001b[0mto_numpy\u001b[0m\u001b[0;34m(\u001b[0m\u001b[0mdtype\u001b[0m\u001b[0;34m=\u001b[0m\u001b[0mfloat\u001b[0m\u001b[0;34m,\u001b[0m \u001b[0mna_value\u001b[0m\u001b[0;34m=\u001b[0m\u001b[0mnp\u001b[0m\u001b[0;34m.\u001b[0m\u001b[0mnan\u001b[0m\u001b[0;34m,\u001b[0m \u001b[0mcopy\u001b[0m\u001b[0;34m=\u001b[0m\u001b[0;32mFalse\u001b[0m\u001b[0;34m)\u001b[0m\u001b[0;34m\u001b[0m\u001b[0;34m\u001b[0m\u001b[0m\n\u001b[0m\u001b[1;32m  10060\u001b[0m \u001b[0;34m\u001b[0m\u001b[0m\n\u001b[1;32m  10061\u001b[0m         \u001b[0;32mif\u001b[0m \u001b[0mmethod\u001b[0m \u001b[0;34m==\u001b[0m \u001b[0;34m\"pearson\"\u001b[0m\u001b[0;34m:\u001b[0m\u001b[0;34m\u001b[0m\u001b[0;34m\u001b[0m\u001b[0m\n",
            "\u001b[0;32m/usr/local/lib/python3.10/dist-packages/pandas/core/frame.py\u001b[0m in \u001b[0;36mto_numpy\u001b[0;34m(self, dtype, copy, na_value)\u001b[0m\n\u001b[1;32m   1836\u001b[0m         \u001b[0;32mif\u001b[0m \u001b[0mdtype\u001b[0m \u001b[0;32mis\u001b[0m \u001b[0;32mnot\u001b[0m \u001b[0;32mNone\u001b[0m\u001b[0;34m:\u001b[0m\u001b[0;34m\u001b[0m\u001b[0;34m\u001b[0m\u001b[0m\n\u001b[1;32m   1837\u001b[0m             \u001b[0mdtype\u001b[0m \u001b[0;34m=\u001b[0m \u001b[0mnp\u001b[0m\u001b[0;34m.\u001b[0m\u001b[0mdtype\u001b[0m\u001b[0;34m(\u001b[0m\u001b[0mdtype\u001b[0m\u001b[0;34m)\u001b[0m\u001b[0;34m\u001b[0m\u001b[0;34m\u001b[0m\u001b[0m\n\u001b[0;32m-> 1838\u001b[0;31m         \u001b[0mresult\u001b[0m \u001b[0;34m=\u001b[0m \u001b[0mself\u001b[0m\u001b[0;34m.\u001b[0m\u001b[0m_mgr\u001b[0m\u001b[0;34m.\u001b[0m\u001b[0mas_array\u001b[0m\u001b[0;34m(\u001b[0m\u001b[0mdtype\u001b[0m\u001b[0;34m=\u001b[0m\u001b[0mdtype\u001b[0m\u001b[0;34m,\u001b[0m \u001b[0mcopy\u001b[0m\u001b[0;34m=\u001b[0m\u001b[0mcopy\u001b[0m\u001b[0;34m,\u001b[0m \u001b[0mna_value\u001b[0m\u001b[0;34m=\u001b[0m\u001b[0mna_value\u001b[0m\u001b[0;34m)\u001b[0m\u001b[0;34m\u001b[0m\u001b[0;34m\u001b[0m\u001b[0m\n\u001b[0m\u001b[1;32m   1839\u001b[0m         \u001b[0;32mif\u001b[0m \u001b[0mresult\u001b[0m\u001b[0;34m.\u001b[0m\u001b[0mdtype\u001b[0m \u001b[0;32mis\u001b[0m \u001b[0;32mnot\u001b[0m \u001b[0mdtype\u001b[0m\u001b[0;34m:\u001b[0m\u001b[0;34m\u001b[0m\u001b[0;34m\u001b[0m\u001b[0m\n\u001b[1;32m   1840\u001b[0m             \u001b[0mresult\u001b[0m \u001b[0;34m=\u001b[0m \u001b[0mnp\u001b[0m\u001b[0;34m.\u001b[0m\u001b[0marray\u001b[0m\u001b[0;34m(\u001b[0m\u001b[0mresult\u001b[0m\u001b[0;34m,\u001b[0m \u001b[0mdtype\u001b[0m\u001b[0;34m=\u001b[0m\u001b[0mdtype\u001b[0m\u001b[0;34m,\u001b[0m \u001b[0mcopy\u001b[0m\u001b[0;34m=\u001b[0m\u001b[0;32mFalse\u001b[0m\u001b[0;34m)\u001b[0m\u001b[0;34m\u001b[0m\u001b[0;34m\u001b[0m\u001b[0m\n",
            "\u001b[0;32m/usr/local/lib/python3.10/dist-packages/pandas/core/internals/managers.py\u001b[0m in \u001b[0;36mas_array\u001b[0;34m(self, dtype, copy, na_value)\u001b[0m\n\u001b[1;32m   1730\u001b[0m                 \u001b[0marr\u001b[0m\u001b[0;34m.\u001b[0m\u001b[0mflags\u001b[0m\u001b[0;34m.\u001b[0m\u001b[0mwriteable\u001b[0m \u001b[0;34m=\u001b[0m \u001b[0;32mFalse\u001b[0m\u001b[0;34m\u001b[0m\u001b[0;34m\u001b[0m\u001b[0m\n\u001b[1;32m   1731\u001b[0m         \u001b[0;32melse\u001b[0m\u001b[0;34m:\u001b[0m\u001b[0;34m\u001b[0m\u001b[0;34m\u001b[0m\u001b[0m\n\u001b[0;32m-> 1732\u001b[0;31m             \u001b[0marr\u001b[0m \u001b[0;34m=\u001b[0m \u001b[0mself\u001b[0m\u001b[0;34m.\u001b[0m\u001b[0m_interleave\u001b[0m\u001b[0;34m(\u001b[0m\u001b[0mdtype\u001b[0m\u001b[0;34m=\u001b[0m\u001b[0mdtype\u001b[0m\u001b[0;34m,\u001b[0m \u001b[0mna_value\u001b[0m\u001b[0;34m=\u001b[0m\u001b[0mna_value\u001b[0m\u001b[0;34m)\u001b[0m\u001b[0;34m\u001b[0m\u001b[0;34m\u001b[0m\u001b[0m\n\u001b[0m\u001b[1;32m   1733\u001b[0m             \u001b[0;31m# The underlying data was copied within _interleave, so no need\u001b[0m\u001b[0;34m\u001b[0m\u001b[0;34m\u001b[0m\u001b[0m\n\u001b[1;32m   1734\u001b[0m             \u001b[0;31m# to further copy if copy=True or setting na_value\u001b[0m\u001b[0;34m\u001b[0m\u001b[0;34m\u001b[0m\u001b[0m\n",
            "\u001b[0;32m/usr/local/lib/python3.10/dist-packages/pandas/core/internals/managers.py\u001b[0m in \u001b[0;36m_interleave\u001b[0;34m(self, dtype, na_value)\u001b[0m\n\u001b[1;32m   1792\u001b[0m             \u001b[0;32melse\u001b[0m\u001b[0;34m:\u001b[0m\u001b[0;34m\u001b[0m\u001b[0;34m\u001b[0m\u001b[0m\n\u001b[1;32m   1793\u001b[0m                 \u001b[0marr\u001b[0m \u001b[0;34m=\u001b[0m \u001b[0mblk\u001b[0m\u001b[0;34m.\u001b[0m\u001b[0mget_values\u001b[0m\u001b[0;34m(\u001b[0m\u001b[0mdtype\u001b[0m\u001b[0;34m)\u001b[0m\u001b[0;34m\u001b[0m\u001b[0;34m\u001b[0m\u001b[0m\n\u001b[0;32m-> 1794\u001b[0;31m             \u001b[0mresult\u001b[0m\u001b[0;34m[\u001b[0m\u001b[0mrl\u001b[0m\u001b[0;34m.\u001b[0m\u001b[0mindexer\u001b[0m\u001b[0;34m]\u001b[0m \u001b[0;34m=\u001b[0m \u001b[0marr\u001b[0m\u001b[0;34m\u001b[0m\u001b[0;34m\u001b[0m\u001b[0m\n\u001b[0m\u001b[1;32m   1795\u001b[0m             \u001b[0mitemmask\u001b[0m\u001b[0;34m[\u001b[0m\u001b[0mrl\u001b[0m\u001b[0;34m.\u001b[0m\u001b[0mindexer\u001b[0m\u001b[0;34m]\u001b[0m \u001b[0;34m=\u001b[0m \u001b[0;36m1\u001b[0m\u001b[0;34m\u001b[0m\u001b[0;34m\u001b[0m\u001b[0m\n\u001b[1;32m   1796\u001b[0m \u001b[0;34m\u001b[0m\u001b[0m\n",
            "\u001b[0;31mValueError\u001b[0m: could not convert string to float: 'Europa'"
          ]
        }
      ]
    },
    {
      "cell_type": "markdown",
      "source": [
        "<a href=\"#toc\" role=\"button\" aria-pressed=\"true\" >⬆️Back to Table of Contents ⬆️</a>"
      ],
      "metadata": {
        "papermill": {
          "duration": 0.064121,
          "end_time": "2022-01-18T20:32:56.25178",
          "exception": false,
          "start_time": "2022-01-18T20:32:56.187659",
          "status": "completed"
        },
        "tags": [],
        "id": "pYoEQkVG94sG"
      }
    },
    {
      "cell_type": "markdown",
      "source": [
        "<a id=\"5\"></a>\n",
        "# **<center><span style=\"color:#00BFC4;\">Data Pre-Processing  </span></center>**"
      ],
      "metadata": {
        "id": "GBo2fLBJ94sH"
      }
    },
    {
      "cell_type": "markdown",
      "source": [
        "### <span style=\"color:#e76f51;\"> Imputing Missing Values </span>"
      ],
      "metadata": {
        "id": "bxAS0wE994sH"
      }
    },
    {
      "cell_type": "code",
      "source": [
        "imputer_cols = [\"Age\", \"FoodCourt\", \"ShoppingMall\", \"Spa\", \"VRDeck\" ,\"RoomService\"]\n",
        "imputer = SimpleImputer(strategy=STRATEGY )\n",
        "imputer.fit(train[imputer_cols])\n",
        "train[imputer_cols] = imputer.transform(train[imputer_cols])\n",
        "test[imputer_cols] = imputer.transform(test[imputer_cols])\n",
        "train[\"HomePlanet\"].fillna('Z', inplace=True)\n",
        "test[\"HomePlanet\"].fillna('Z', inplace=True)"
      ],
      "metadata": {
        "execution": {
          "iopub.status.busy": "2022-02-24T01:38:49.58198Z",
          "iopub.execute_input": "2022-02-24T01:38:49.582327Z",
          "iopub.status.idle": "2022-02-24T01:38:49.60014Z",
          "shell.execute_reply.started": "2022-02-24T01:38:49.582295Z",
          "shell.execute_reply": "2022-02-24T01:38:49.599656Z"
        },
        "trusted": true,
        "id": "Otbigd4g94sH"
      },
      "execution_count": 37,
      "outputs": []
    },
    {
      "cell_type": "markdown",
      "source": [
        "### <span style=\"color:#e76f51;\">Encoding Categorical Features </span>"
      ],
      "metadata": {
        "id": "idSgiRle94sH"
      }
    },
    {
      "cell_type": "code",
      "source": [
        "label_cols = [\"HomePlanet\", \"CryoSleep\",\"Cabin\", \"Destination\" ,\"VIP\"]\n",
        "def label_encoder(train,test,columns):\n",
        "    for col in columns:\n",
        "        train[col] = train[col].astype(str)\n",
        "        test[col] = test[col].astype(str)\n",
        "        train[col] = LabelEncoder().fit_transform(train[col])\n",
        "        test[col] =  LabelEncoder().fit_transform(test[col])\n",
        "    return train, test\n",
        "\n",
        "train ,test = label_encoder(train,test ,label_cols)"
      ],
      "metadata": {
        "execution": {
          "iopub.status.busy": "2022-02-24T01:38:49.602866Z",
          "iopub.execute_input": "2022-02-24T01:38:49.603581Z",
          "iopub.status.idle": "2022-02-24T01:38:49.634288Z",
          "shell.execute_reply.started": "2022-02-24T01:38:49.603525Z",
          "shell.execute_reply": "2022-02-24T01:38:49.633629Z"
        },
        "trusted": true,
        "colab": {
          "base_uri": "https://localhost:8080/",
          "height": 533
        },
        "id": "FXFrXPF394sH",
        "outputId": "4c8db349-bdd2-44af-9985-a90ca7c0a7aa"
      },
      "execution_count": 38,
      "outputs": [
        {
          "output_type": "error",
          "ename": "KeyError",
          "evalue": "ignored",
          "traceback": [
            "\u001b[0;31m---------------------------------------------------------------------------\u001b[0m",
            "\u001b[0;31mKeyError\u001b[0m                                  Traceback (most recent call last)",
            "\u001b[0;32m/usr/local/lib/python3.10/dist-packages/pandas/core/indexes/base.py\u001b[0m in \u001b[0;36mget_loc\u001b[0;34m(self, key)\u001b[0m\n\u001b[1;32m   3651\u001b[0m         \u001b[0;32mtry\u001b[0m\u001b[0;34m:\u001b[0m\u001b[0;34m\u001b[0m\u001b[0;34m\u001b[0m\u001b[0m\n\u001b[0;32m-> 3652\u001b[0;31m             \u001b[0;32mreturn\u001b[0m \u001b[0mself\u001b[0m\u001b[0;34m.\u001b[0m\u001b[0m_engine\u001b[0m\u001b[0;34m.\u001b[0m\u001b[0mget_loc\u001b[0m\u001b[0;34m(\u001b[0m\u001b[0mcasted_key\u001b[0m\u001b[0;34m)\u001b[0m\u001b[0;34m\u001b[0m\u001b[0;34m\u001b[0m\u001b[0m\n\u001b[0m\u001b[1;32m   3653\u001b[0m         \u001b[0;32mexcept\u001b[0m \u001b[0mKeyError\u001b[0m \u001b[0;32mas\u001b[0m \u001b[0merr\u001b[0m\u001b[0;34m:\u001b[0m\u001b[0;34m\u001b[0m\u001b[0;34m\u001b[0m\u001b[0m\n",
            "\u001b[0;32m/usr/local/lib/python3.10/dist-packages/pandas/_libs/index.pyx\u001b[0m in \u001b[0;36mpandas._libs.index.IndexEngine.get_loc\u001b[0;34m()\u001b[0m\n",
            "\u001b[0;32m/usr/local/lib/python3.10/dist-packages/pandas/_libs/index.pyx\u001b[0m in \u001b[0;36mpandas._libs.index.IndexEngine.get_loc\u001b[0;34m()\u001b[0m\n",
            "\u001b[0;32mpandas/_libs/hashtable_class_helper.pxi\u001b[0m in \u001b[0;36mpandas._libs.hashtable.PyObjectHashTable.get_item\u001b[0;34m()\u001b[0m\n",
            "\u001b[0;32mpandas/_libs/hashtable_class_helper.pxi\u001b[0m in \u001b[0;36mpandas._libs.hashtable.PyObjectHashTable.get_item\u001b[0;34m()\u001b[0m\n",
            "\u001b[0;31mKeyError\u001b[0m: 'Cabin'",
            "\nThe above exception was the direct cause of the following exception:\n",
            "\u001b[0;31mKeyError\u001b[0m                                  Traceback (most recent call last)",
            "\u001b[0;32m<ipython-input-38-cb8bfc0e6511>\u001b[0m in \u001b[0;36m<cell line: 10>\u001b[0;34m()\u001b[0m\n\u001b[1;32m      8\u001b[0m     \u001b[0;32mreturn\u001b[0m \u001b[0mtrain\u001b[0m\u001b[0;34m,\u001b[0m \u001b[0mtest\u001b[0m\u001b[0;34m\u001b[0m\u001b[0;34m\u001b[0m\u001b[0m\n\u001b[1;32m      9\u001b[0m \u001b[0;34m\u001b[0m\u001b[0m\n\u001b[0;32m---> 10\u001b[0;31m \u001b[0mtrain\u001b[0m \u001b[0;34m,\u001b[0m\u001b[0mtest\u001b[0m \u001b[0;34m=\u001b[0m \u001b[0mlabel_encoder\u001b[0m\u001b[0;34m(\u001b[0m\u001b[0mtrain\u001b[0m\u001b[0;34m,\u001b[0m\u001b[0mtest\u001b[0m \u001b[0;34m,\u001b[0m\u001b[0mlabel_cols\u001b[0m\u001b[0;34m)\u001b[0m\u001b[0;34m\u001b[0m\u001b[0;34m\u001b[0m\u001b[0m\n\u001b[0m",
            "\u001b[0;32m<ipython-input-38-cb8bfc0e6511>\u001b[0m in \u001b[0;36mlabel_encoder\u001b[0;34m(train, test, columns)\u001b[0m\n\u001b[1;32m      2\u001b[0m \u001b[0;32mdef\u001b[0m \u001b[0mlabel_encoder\u001b[0m\u001b[0;34m(\u001b[0m\u001b[0mtrain\u001b[0m\u001b[0;34m,\u001b[0m\u001b[0mtest\u001b[0m\u001b[0;34m,\u001b[0m\u001b[0mcolumns\u001b[0m\u001b[0;34m)\u001b[0m\u001b[0;34m:\u001b[0m\u001b[0;34m\u001b[0m\u001b[0;34m\u001b[0m\u001b[0m\n\u001b[1;32m      3\u001b[0m     \u001b[0;32mfor\u001b[0m \u001b[0mcol\u001b[0m \u001b[0;32min\u001b[0m \u001b[0mcolumns\u001b[0m\u001b[0;34m:\u001b[0m\u001b[0;34m\u001b[0m\u001b[0;34m\u001b[0m\u001b[0m\n\u001b[0;32m----> 4\u001b[0;31m         \u001b[0mtrain\u001b[0m\u001b[0;34m[\u001b[0m\u001b[0mcol\u001b[0m\u001b[0;34m]\u001b[0m \u001b[0;34m=\u001b[0m \u001b[0mtrain\u001b[0m\u001b[0;34m[\u001b[0m\u001b[0mcol\u001b[0m\u001b[0;34m]\u001b[0m\u001b[0;34m.\u001b[0m\u001b[0mastype\u001b[0m\u001b[0;34m(\u001b[0m\u001b[0mstr\u001b[0m\u001b[0;34m)\u001b[0m\u001b[0;34m\u001b[0m\u001b[0;34m\u001b[0m\u001b[0m\n\u001b[0m\u001b[1;32m      5\u001b[0m         \u001b[0mtest\u001b[0m\u001b[0;34m[\u001b[0m\u001b[0mcol\u001b[0m\u001b[0;34m]\u001b[0m \u001b[0;34m=\u001b[0m \u001b[0mtest\u001b[0m\u001b[0;34m[\u001b[0m\u001b[0mcol\u001b[0m\u001b[0;34m]\u001b[0m\u001b[0;34m.\u001b[0m\u001b[0mastype\u001b[0m\u001b[0;34m(\u001b[0m\u001b[0mstr\u001b[0m\u001b[0;34m)\u001b[0m\u001b[0;34m\u001b[0m\u001b[0;34m\u001b[0m\u001b[0m\n\u001b[1;32m      6\u001b[0m         \u001b[0mtrain\u001b[0m\u001b[0;34m[\u001b[0m\u001b[0mcol\u001b[0m\u001b[0;34m]\u001b[0m \u001b[0;34m=\u001b[0m \u001b[0mLabelEncoder\u001b[0m\u001b[0;34m(\u001b[0m\u001b[0;34m)\u001b[0m\u001b[0;34m.\u001b[0m\u001b[0mfit_transform\u001b[0m\u001b[0;34m(\u001b[0m\u001b[0mtrain\u001b[0m\u001b[0;34m[\u001b[0m\u001b[0mcol\u001b[0m\u001b[0;34m]\u001b[0m\u001b[0;34m)\u001b[0m\u001b[0;34m\u001b[0m\u001b[0;34m\u001b[0m\u001b[0m\n",
            "\u001b[0;32m/usr/local/lib/python3.10/dist-packages/pandas/core/frame.py\u001b[0m in \u001b[0;36m__getitem__\u001b[0;34m(self, key)\u001b[0m\n\u001b[1;32m   3759\u001b[0m             \u001b[0;32mif\u001b[0m \u001b[0mself\u001b[0m\u001b[0;34m.\u001b[0m\u001b[0mcolumns\u001b[0m\u001b[0;34m.\u001b[0m\u001b[0mnlevels\u001b[0m \u001b[0;34m>\u001b[0m \u001b[0;36m1\u001b[0m\u001b[0;34m:\u001b[0m\u001b[0;34m\u001b[0m\u001b[0;34m\u001b[0m\u001b[0m\n\u001b[1;32m   3760\u001b[0m                 \u001b[0;32mreturn\u001b[0m \u001b[0mself\u001b[0m\u001b[0;34m.\u001b[0m\u001b[0m_getitem_multilevel\u001b[0m\u001b[0;34m(\u001b[0m\u001b[0mkey\u001b[0m\u001b[0;34m)\u001b[0m\u001b[0;34m\u001b[0m\u001b[0;34m\u001b[0m\u001b[0m\n\u001b[0;32m-> 3761\u001b[0;31m             \u001b[0mindexer\u001b[0m \u001b[0;34m=\u001b[0m \u001b[0mself\u001b[0m\u001b[0;34m.\u001b[0m\u001b[0mcolumns\u001b[0m\u001b[0;34m.\u001b[0m\u001b[0mget_loc\u001b[0m\u001b[0;34m(\u001b[0m\u001b[0mkey\u001b[0m\u001b[0;34m)\u001b[0m\u001b[0;34m\u001b[0m\u001b[0;34m\u001b[0m\u001b[0m\n\u001b[0m\u001b[1;32m   3762\u001b[0m             \u001b[0;32mif\u001b[0m \u001b[0mis_integer\u001b[0m\u001b[0;34m(\u001b[0m\u001b[0mindexer\u001b[0m\u001b[0;34m)\u001b[0m\u001b[0;34m:\u001b[0m\u001b[0;34m\u001b[0m\u001b[0;34m\u001b[0m\u001b[0m\n\u001b[1;32m   3763\u001b[0m                 \u001b[0mindexer\u001b[0m \u001b[0;34m=\u001b[0m \u001b[0;34m[\u001b[0m\u001b[0mindexer\u001b[0m\u001b[0;34m]\u001b[0m\u001b[0;34m\u001b[0m\u001b[0;34m\u001b[0m\u001b[0m\n",
            "\u001b[0;32m/usr/local/lib/python3.10/dist-packages/pandas/core/indexes/base.py\u001b[0m in \u001b[0;36mget_loc\u001b[0;34m(self, key)\u001b[0m\n\u001b[1;32m   3652\u001b[0m             \u001b[0;32mreturn\u001b[0m \u001b[0mself\u001b[0m\u001b[0;34m.\u001b[0m\u001b[0m_engine\u001b[0m\u001b[0;34m.\u001b[0m\u001b[0mget_loc\u001b[0m\u001b[0;34m(\u001b[0m\u001b[0mcasted_key\u001b[0m\u001b[0;34m)\u001b[0m\u001b[0;34m\u001b[0m\u001b[0;34m\u001b[0m\u001b[0m\n\u001b[1;32m   3653\u001b[0m         \u001b[0;32mexcept\u001b[0m \u001b[0mKeyError\u001b[0m \u001b[0;32mas\u001b[0m \u001b[0merr\u001b[0m\u001b[0;34m:\u001b[0m\u001b[0;34m\u001b[0m\u001b[0;34m\u001b[0m\u001b[0m\n\u001b[0;32m-> 3654\u001b[0;31m             \u001b[0;32mraise\u001b[0m \u001b[0mKeyError\u001b[0m\u001b[0;34m(\u001b[0m\u001b[0mkey\u001b[0m\u001b[0;34m)\u001b[0m \u001b[0;32mfrom\u001b[0m \u001b[0merr\u001b[0m\u001b[0;34m\u001b[0m\u001b[0;34m\u001b[0m\u001b[0m\n\u001b[0m\u001b[1;32m   3655\u001b[0m         \u001b[0;32mexcept\u001b[0m \u001b[0mTypeError\u001b[0m\u001b[0;34m:\u001b[0m\u001b[0;34m\u001b[0m\u001b[0;34m\u001b[0m\u001b[0m\n\u001b[1;32m   3656\u001b[0m             \u001b[0;31m# If we have a listlike key, _check_indexing_error will raise\u001b[0m\u001b[0;34m\u001b[0m\u001b[0;34m\u001b[0m\u001b[0m\n",
            "\u001b[0;31mKeyError\u001b[0m: 'Cabin'"
          ]
        }
      ]
    },
    {
      "cell_type": "code",
      "source": [
        "train.drop([\"Name\" ,\"Cabin\"] , axis = 1 ,inplace = True)\n",
        "test.drop([\"Name\" ,\"Cabin\"] , axis = 1 ,inplace = True)\n",
        "X = train.drop(TARGET , axis =1 )\n",
        "y = train[TARGET]\n",
        "X_train , X_test , y_train , y_test = train_test_split(X , \n",
        "                                                       y, \n",
        "                                                       random_state = 12 ,\n",
        "                                                       test_size =0.33)"
      ],
      "metadata": {
        "_kg_hide-input": true,
        "execution": {
          "iopub.status.busy": "2022-02-24T01:38:49.635296Z",
          "iopub.execute_input": "2022-02-24T01:38:49.63555Z",
          "iopub.status.idle": "2022-02-24T01:38:49.645726Z",
          "shell.execute_reply.started": "2022-02-24T01:38:49.635509Z",
          "shell.execute_reply": "2022-02-24T01:38:49.645136Z"
        },
        "trusted": true,
        "colab": {
          "base_uri": "https://localhost:8080/",
          "height": 403
        },
        "id": "7-sktVtu94sH",
        "outputId": "235280de-3ab4-4941-c805-269bc55677e7"
      },
      "execution_count": 39,
      "outputs": [
        {
          "output_type": "error",
          "ename": "KeyError",
          "evalue": "ignored",
          "traceback": [
            "\u001b[0;31m---------------------------------------------------------------------------\u001b[0m",
            "\u001b[0;31mKeyError\u001b[0m                                  Traceback (most recent call last)",
            "\u001b[0;32m<ipython-input-39-27785ce867c1>\u001b[0m in \u001b[0;36m<cell line: 1>\u001b[0;34m()\u001b[0m\n\u001b[0;32m----> 1\u001b[0;31m \u001b[0mtrain\u001b[0m\u001b[0;34m.\u001b[0m\u001b[0mdrop\u001b[0m\u001b[0;34m(\u001b[0m\u001b[0;34m[\u001b[0m\u001b[0;34m\"Name\"\u001b[0m \u001b[0;34m,\u001b[0m\u001b[0;34m\"Cabin\"\u001b[0m\u001b[0;34m]\u001b[0m \u001b[0;34m,\u001b[0m \u001b[0maxis\u001b[0m \u001b[0;34m=\u001b[0m \u001b[0;36m1\u001b[0m \u001b[0;34m,\u001b[0m\u001b[0minplace\u001b[0m \u001b[0;34m=\u001b[0m \u001b[0;32mTrue\u001b[0m\u001b[0;34m)\u001b[0m\u001b[0;34m\u001b[0m\u001b[0;34m\u001b[0m\u001b[0m\n\u001b[0m\u001b[1;32m      2\u001b[0m \u001b[0mtest\u001b[0m\u001b[0;34m.\u001b[0m\u001b[0mdrop\u001b[0m\u001b[0;34m(\u001b[0m\u001b[0;34m[\u001b[0m\u001b[0;34m\"Name\"\u001b[0m \u001b[0;34m,\u001b[0m\u001b[0;34m\"Cabin\"\u001b[0m\u001b[0;34m]\u001b[0m \u001b[0;34m,\u001b[0m \u001b[0maxis\u001b[0m \u001b[0;34m=\u001b[0m \u001b[0;36m1\u001b[0m \u001b[0;34m,\u001b[0m\u001b[0minplace\u001b[0m \u001b[0;34m=\u001b[0m \u001b[0;32mTrue\u001b[0m\u001b[0;34m)\u001b[0m\u001b[0;34m\u001b[0m\u001b[0;34m\u001b[0m\u001b[0m\n\u001b[1;32m      3\u001b[0m \u001b[0mX\u001b[0m \u001b[0;34m=\u001b[0m \u001b[0mtrain\u001b[0m\u001b[0;34m.\u001b[0m\u001b[0mdrop\u001b[0m\u001b[0;34m(\u001b[0m\u001b[0mTARGET\u001b[0m \u001b[0;34m,\u001b[0m \u001b[0maxis\u001b[0m \u001b[0;34m=\u001b[0m\u001b[0;36m1\u001b[0m \u001b[0;34m)\u001b[0m\u001b[0;34m\u001b[0m\u001b[0;34m\u001b[0m\u001b[0m\n\u001b[1;32m      4\u001b[0m \u001b[0my\u001b[0m \u001b[0;34m=\u001b[0m \u001b[0mtrain\u001b[0m\u001b[0;34m[\u001b[0m\u001b[0mTARGET\u001b[0m\u001b[0;34m]\u001b[0m\u001b[0;34m\u001b[0m\u001b[0;34m\u001b[0m\u001b[0m\n\u001b[1;32m      5\u001b[0m X_train , X_test , y_train , y_test = train_test_split(X , \n",
            "\u001b[0;32m/usr/local/lib/python3.10/dist-packages/pandas/core/frame.py\u001b[0m in \u001b[0;36mdrop\u001b[0;34m(self, labels, axis, index, columns, level, inplace, errors)\u001b[0m\n\u001b[1;32m   5266\u001b[0m                 \u001b[0mweight\u001b[0m  \u001b[0;36m1.0\u001b[0m     \u001b[0;36m0.8\u001b[0m\u001b[0;34m\u001b[0m\u001b[0;34m\u001b[0m\u001b[0m\n\u001b[1;32m   5267\u001b[0m         \"\"\"\n\u001b[0;32m-> 5268\u001b[0;31m         return super().drop(\n\u001b[0m\u001b[1;32m   5269\u001b[0m             \u001b[0mlabels\u001b[0m\u001b[0;34m=\u001b[0m\u001b[0mlabels\u001b[0m\u001b[0;34m,\u001b[0m\u001b[0;34m\u001b[0m\u001b[0;34m\u001b[0m\u001b[0m\n\u001b[1;32m   5270\u001b[0m             \u001b[0maxis\u001b[0m\u001b[0;34m=\u001b[0m\u001b[0maxis\u001b[0m\u001b[0;34m,\u001b[0m\u001b[0;34m\u001b[0m\u001b[0;34m\u001b[0m\u001b[0m\n",
            "\u001b[0;32m/usr/local/lib/python3.10/dist-packages/pandas/core/generic.py\u001b[0m in \u001b[0;36mdrop\u001b[0;34m(self, labels, axis, index, columns, level, inplace, errors)\u001b[0m\n\u001b[1;32m   4547\u001b[0m         \u001b[0;32mfor\u001b[0m \u001b[0maxis\u001b[0m\u001b[0;34m,\u001b[0m \u001b[0mlabels\u001b[0m \u001b[0;32min\u001b[0m \u001b[0maxes\u001b[0m\u001b[0;34m.\u001b[0m\u001b[0mitems\u001b[0m\u001b[0;34m(\u001b[0m\u001b[0;34m)\u001b[0m\u001b[0;34m:\u001b[0m\u001b[0;34m\u001b[0m\u001b[0;34m\u001b[0m\u001b[0m\n\u001b[1;32m   4548\u001b[0m             \u001b[0;32mif\u001b[0m \u001b[0mlabels\u001b[0m \u001b[0;32mis\u001b[0m \u001b[0;32mnot\u001b[0m \u001b[0;32mNone\u001b[0m\u001b[0;34m:\u001b[0m\u001b[0;34m\u001b[0m\u001b[0;34m\u001b[0m\u001b[0m\n\u001b[0;32m-> 4549\u001b[0;31m                 \u001b[0mobj\u001b[0m \u001b[0;34m=\u001b[0m \u001b[0mobj\u001b[0m\u001b[0;34m.\u001b[0m\u001b[0m_drop_axis\u001b[0m\u001b[0;34m(\u001b[0m\u001b[0mlabels\u001b[0m\u001b[0;34m,\u001b[0m \u001b[0maxis\u001b[0m\u001b[0;34m,\u001b[0m \u001b[0mlevel\u001b[0m\u001b[0;34m=\u001b[0m\u001b[0mlevel\u001b[0m\u001b[0;34m,\u001b[0m \u001b[0merrors\u001b[0m\u001b[0;34m=\u001b[0m\u001b[0merrors\u001b[0m\u001b[0;34m)\u001b[0m\u001b[0;34m\u001b[0m\u001b[0;34m\u001b[0m\u001b[0m\n\u001b[0m\u001b[1;32m   4550\u001b[0m \u001b[0;34m\u001b[0m\u001b[0m\n\u001b[1;32m   4551\u001b[0m         \u001b[0;32mif\u001b[0m \u001b[0minplace\u001b[0m\u001b[0;34m:\u001b[0m\u001b[0;34m\u001b[0m\u001b[0;34m\u001b[0m\u001b[0m\n",
            "\u001b[0;32m/usr/local/lib/python3.10/dist-packages/pandas/core/generic.py\u001b[0m in \u001b[0;36m_drop_axis\u001b[0;34m(self, labels, axis, level, errors, only_slice)\u001b[0m\n\u001b[1;32m   4589\u001b[0m                 \u001b[0mnew_axis\u001b[0m \u001b[0;34m=\u001b[0m \u001b[0maxis\u001b[0m\u001b[0;34m.\u001b[0m\u001b[0mdrop\u001b[0m\u001b[0;34m(\u001b[0m\u001b[0mlabels\u001b[0m\u001b[0;34m,\u001b[0m \u001b[0mlevel\u001b[0m\u001b[0;34m=\u001b[0m\u001b[0mlevel\u001b[0m\u001b[0;34m,\u001b[0m \u001b[0merrors\u001b[0m\u001b[0;34m=\u001b[0m\u001b[0merrors\u001b[0m\u001b[0;34m)\u001b[0m\u001b[0;34m\u001b[0m\u001b[0;34m\u001b[0m\u001b[0m\n\u001b[1;32m   4590\u001b[0m             \u001b[0;32melse\u001b[0m\u001b[0;34m:\u001b[0m\u001b[0;34m\u001b[0m\u001b[0;34m\u001b[0m\u001b[0m\n\u001b[0;32m-> 4591\u001b[0;31m                 \u001b[0mnew_axis\u001b[0m \u001b[0;34m=\u001b[0m \u001b[0maxis\u001b[0m\u001b[0;34m.\u001b[0m\u001b[0mdrop\u001b[0m\u001b[0;34m(\u001b[0m\u001b[0mlabels\u001b[0m\u001b[0;34m,\u001b[0m \u001b[0merrors\u001b[0m\u001b[0;34m=\u001b[0m\u001b[0merrors\u001b[0m\u001b[0;34m)\u001b[0m\u001b[0;34m\u001b[0m\u001b[0;34m\u001b[0m\u001b[0m\n\u001b[0m\u001b[1;32m   4592\u001b[0m             \u001b[0mindexer\u001b[0m \u001b[0;34m=\u001b[0m \u001b[0maxis\u001b[0m\u001b[0;34m.\u001b[0m\u001b[0mget_indexer\u001b[0m\u001b[0;34m(\u001b[0m\u001b[0mnew_axis\u001b[0m\u001b[0;34m)\u001b[0m\u001b[0;34m\u001b[0m\u001b[0;34m\u001b[0m\u001b[0m\n\u001b[1;32m   4593\u001b[0m \u001b[0;34m\u001b[0m\u001b[0m\n",
            "\u001b[0;32m/usr/local/lib/python3.10/dist-packages/pandas/core/indexes/base.py\u001b[0m in \u001b[0;36mdrop\u001b[0;34m(self, labels, errors)\u001b[0m\n\u001b[1;32m   6694\u001b[0m         \u001b[0;32mif\u001b[0m \u001b[0mmask\u001b[0m\u001b[0;34m.\u001b[0m\u001b[0many\u001b[0m\u001b[0;34m(\u001b[0m\u001b[0;34m)\u001b[0m\u001b[0;34m:\u001b[0m\u001b[0;34m\u001b[0m\u001b[0;34m\u001b[0m\u001b[0m\n\u001b[1;32m   6695\u001b[0m             \u001b[0;32mif\u001b[0m \u001b[0merrors\u001b[0m \u001b[0;34m!=\u001b[0m \u001b[0;34m\"ignore\"\u001b[0m\u001b[0;34m:\u001b[0m\u001b[0;34m\u001b[0m\u001b[0;34m\u001b[0m\u001b[0m\n\u001b[0;32m-> 6696\u001b[0;31m                 \u001b[0;32mraise\u001b[0m \u001b[0mKeyError\u001b[0m\u001b[0;34m(\u001b[0m\u001b[0;34mf\"{list(labels[mask])} not found in axis\"\u001b[0m\u001b[0;34m)\u001b[0m\u001b[0;34m\u001b[0m\u001b[0;34m\u001b[0m\u001b[0m\n\u001b[0m\u001b[1;32m   6697\u001b[0m             \u001b[0mindexer\u001b[0m \u001b[0;34m=\u001b[0m \u001b[0mindexer\u001b[0m\u001b[0;34m[\u001b[0m\u001b[0;34m~\u001b[0m\u001b[0mmask\u001b[0m\u001b[0;34m]\u001b[0m\u001b[0;34m\u001b[0m\u001b[0;34m\u001b[0m\u001b[0m\n\u001b[1;32m   6698\u001b[0m         \u001b[0;32mreturn\u001b[0m \u001b[0mself\u001b[0m\u001b[0;34m.\u001b[0m\u001b[0mdelete\u001b[0m\u001b[0;34m(\u001b[0m\u001b[0mindexer\u001b[0m\u001b[0;34m)\u001b[0m\u001b[0;34m\u001b[0m\u001b[0;34m\u001b[0m\u001b[0m\n",
            "\u001b[0;31mKeyError\u001b[0m: \"['Name', 'Cabin'] not found in axis\""
          ]
        }
      ]
    },
    {
      "cell_type": "markdown",
      "source": [
        "<a href=\"#toc\" role=\"button\" aria-pressed=\"true\" >⬆️Back to Table of Contents ⬆️</a>"
      ],
      "metadata": {
        "id": "H3SXaxTA94sI"
      }
    },
    {
      "cell_type": "markdown",
      "source": [
        "<a id=\"6\"></a>\n",
        "# **<center><span style=\"color:#00BFC4;\">Modeling </span></center>**"
      ],
      "metadata": {
        "id": "S9Xx4Utd94sI"
      }
    },
    {
      "cell_type": "markdown",
      "source": [
        "<a id=\"6.1\"></a>\n",
        "## <span style=\"color:#e76f51;\"> 27 Different Classifiers ( LAZY PREDICT ) : </span>"
      ],
      "metadata": {
        "id": "DR1xqE1l94sI"
      }
    },
    {
      "cell_type": "code",
      "source": [
        "clf = LazyClassifier(verbose=0,\n",
        "                     ignore_warnings=True,\n",
        "                     custom_metric=None,\n",
        "                     predictions=False,\n",
        "                     random_state=12,\n",
        "                     classifiers='all')\n",
        "\n",
        "models, predictions = clf.fit(X_train , X_test , y_train , y_test)\n",
        "clear_output()"
      ],
      "metadata": {
        "execution": {
          "iopub.status.busy": "2022-02-24T01:38:49.64668Z",
          "iopub.execute_input": "2022-02-24T01:38:49.646988Z",
          "iopub.status.idle": "2022-02-24T01:38:59.700972Z",
          "shell.execute_reply.started": "2022-02-24T01:38:49.646962Z",
          "shell.execute_reply": "2022-02-24T01:38:59.700249Z"
        },
        "trusted": true,
        "id": "FxLhX0J394sI"
      },
      "execution_count": null,
      "outputs": []
    },
    {
      "cell_type": "markdown",
      "source": [
        "### <span style=\"color:#e76f51;\">TOP 15 Models </span>"
      ],
      "metadata": {
        "id": "Ckfunxwc94sI"
      }
    },
    {
      "cell_type": "code",
      "source": [
        "models[:15]"
      ],
      "metadata": {
        "_kg_hide-input": true,
        "execution": {
          "iopub.status.busy": "2022-02-24T01:38:59.702059Z",
          "iopub.execute_input": "2022-02-24T01:38:59.702222Z",
          "iopub.status.idle": "2022-02-24T01:38:59.711602Z",
          "shell.execute_reply.started": "2022-02-24T01:38:59.7022Z",
          "shell.execute_reply": "2022-02-24T01:38:59.711022Z"
        },
        "trusted": true,
        "id": "bAN2WuMo94sI"
      },
      "execution_count": null,
      "outputs": []
    },
    {
      "cell_type": "markdown",
      "source": [
        "### <span style=\"color:#e76f51;\">Visualizing Results </span>"
      ],
      "metadata": {
        "id": "-HVb8iem94sJ"
      }
    },
    {
      "cell_type": "code",
      "source": [
        "line = px.line(data_frame= models ,y =[\"Accuracy\"] , markers = True)\n",
        "line.update_xaxes(title=\"Model\",\n",
        "              rangeslider_visible = False)\n",
        "line.update_yaxes(title = \"Accuracy\")\n",
        "line.update_traces(line_color=\"red\")\n",
        "line.update_layout(showlegend = True,\n",
        "    title = {\n",
        "        'text': 'Accuracy vs Model',\n",
        "        'y':0.94,\n",
        "        'x':0.5,\n",
        "        'xanchor': 'center',\n",
        "        'yanchor': 'top'})\n",
        "\n",
        "line.show()"
      ],
      "metadata": {
        "_kg_hide-input": true,
        "execution": {
          "iopub.status.busy": "2022-02-24T01:38:59.712666Z",
          "iopub.execute_input": "2022-02-24T01:38:59.713194Z",
          "iopub.status.idle": "2022-02-24T01:39:00.820835Z",
          "shell.execute_reply.started": "2022-02-24T01:38:59.713163Z",
          "shell.execute_reply": "2022-02-24T01:39:00.820359Z"
        },
        "trusted": true,
        "id": "3HVgXGA-94sJ"
      },
      "execution_count": null,
      "outputs": []
    },
    {
      "cell_type": "code",
      "source": [
        "line = px.line(data_frame= models ,y =[\"ROC AUC\" , \"F1 Score\"] , markers = True)\n",
        "line.update_xaxes(title=\"Model\",\n",
        "              rangeslider_visible = False)\n",
        "line.update_yaxes(title = \"ROC AUC SCORE\")\n",
        "line.update_layout(showlegend = True,\n",
        "    title = {\n",
        "        'text': 'ROC AUC and F1 Score vs Model',\n",
        "        'y':0.94,\n",
        "        'x':0.5,\n",
        "        'xanchor': 'center',\n",
        "        'yanchor': 'top'})\n",
        "\n",
        "line.show()"
      ],
      "metadata": {
        "_kg_hide-input": true,
        "execution": {
          "iopub.status.busy": "2022-02-24T01:39:00.8233Z",
          "iopub.execute_input": "2022-02-24T01:39:00.823649Z",
          "iopub.status.idle": "2022-02-24T01:39:00.917442Z",
          "shell.execute_reply.started": "2022-02-24T01:39:00.823621Z",
          "shell.execute_reply": "2022-02-24T01:39:00.916744Z"
        },
        "trusted": true,
        "id": "SPp_9Xjt94sJ"
      },
      "execution_count": null,
      "outputs": []
    },
    {
      "cell_type": "code",
      "source": [
        "line = px.line(data_frame= models ,y =[\"Time Taken\"] , markers = True)\n",
        "line.update_xaxes(title=\"Model\",\n",
        "              rangeslider_visible = False)\n",
        "line.update_yaxes(title = \"Time(s)\")\n",
        "line.update_traces(line_color=\"purple\")\n",
        "line.update_layout(showlegend = True,\n",
        "    title = {\n",
        "        'text': 'TIME TAKEN vs Model',\n",
        "        'y':0.94,\n",
        "        'x':0.5,\n",
        "        'xanchor': 'center',\n",
        "        'yanchor': 'top'})\n",
        "\n",
        "line.show()"
      ],
      "metadata": {
        "_kg_hide-input": true,
        "execution": {
          "iopub.status.busy": "2022-02-24T01:39:00.918521Z",
          "iopub.execute_input": "2022-02-24T01:39:00.918741Z",
          "iopub.status.idle": "2022-02-24T01:39:01.007185Z",
          "shell.execute_reply.started": "2022-02-24T01:39:00.91871Z",
          "shell.execute_reply": "2022-02-24T01:39:01.006488Z"
        },
        "trusted": true,
        "id": "4CVQQYOQ94sJ"
      },
      "execution_count": null,
      "outputs": []
    },
    {
      "cell_type": "markdown",
      "source": [
        "<a id=\"6.2\"></a>\n",
        "## <span style=\"color:#e76f51;\"> LGBM Classifier(5 FOLDS)  : </span>"
      ],
      "metadata": {
        "papermill": {
          "duration": 0.06401,
          "end_time": "2022-01-18T20:32:56.637302",
          "exception": false,
          "start_time": "2022-01-18T20:32:56.573292",
          "status": "completed"
        },
        "tags": [],
        "id": "vyRtStNA94sK"
      }
    },
    {
      "cell_type": "code",
      "source": [
        "lgb_params = {\n",
        "    'objective' : 'binary',\n",
        "    'n_estimators' :50,\n",
        "    'learning_rate' : 0.08\n",
        "}\n",
        "\n",
        "lgb_predictions = 0\n",
        "lgb_scores = []\n",
        "lgb_fimp = []\n",
        "LGBM_FEATURES = list(train.columns)[:-1]\n",
        "skf = StratifiedKFold(n_splits=FOLDS, shuffle=True, random_state=RANDOM_STATE)\n",
        "for fold, (train_idx, valid_idx) in enumerate(skf.split(train[LGBM_FEATURES], train[TARGET])):\n",
        "    print(f'\\033[94m')\n",
        "    print(10*\"=\", f\"Fold={fold+1}\", 10*\"=\")\n",
        "    start_time = time.time()\n",
        "    \n",
        "    X_train, X_valid = train.iloc[train_idx][LGBM_FEATURES], train.iloc[valid_idx][LGBM_FEATURES]\n",
        "    y_train , y_valid = train[TARGET].iloc[train_idx] , train[TARGET].iloc[valid_idx]\n",
        "    \n",
        "    model = LGBMClassifier(**lgb_params)\n",
        "    model.fit(X_train, y_train,verbose=0)\n",
        "    \n",
        "    preds_valid = model.predict(X_valid)\n",
        "    acc = accuracy_score(y_valid,  preds_valid)\n",
        "    lgb_scores.append(acc)\n",
        "    run_time = time.time() - start_time\n",
        "    \n",
        "    fim = pd.DataFrame(index=LGBM_FEATURES,\n",
        "                 data=model.feature_importances_,\n",
        "                 columns=[f'{fold}_importance'])\n",
        "    lgb_fimp.append(fim)\n",
        "    \n",
        "    print(f\"Fold={fold+1}, Accuracy score: {acc:.2f}%, Run Time: {run_time:.2f}s\")\n",
        "    test_preds = model.predict(test[LGBM_FEATURES]) \n",
        "    lgb_predictions += test_preds/FOLDS\n",
        "print(\"\")\n",
        "print(\"Mean Accuracy :\", np.mean(lgb_scores))"
      ],
      "metadata": {
        "_kg_hide-input": false,
        "papermill": {
          "duration": 1.333203,
          "end_time": "2022-01-18T20:32:58.034986",
          "exception": false,
          "start_time": "2022-01-18T20:32:56.701783",
          "status": "completed"
        },
        "tags": [],
        "execution": {
          "iopub.status.busy": "2022-02-24T01:39:01.008388Z",
          "iopub.execute_input": "2022-02-24T01:39:01.008783Z",
          "iopub.status.idle": "2022-02-24T01:39:01.479845Z",
          "shell.execute_reply.started": "2022-02-24T01:39:01.008752Z",
          "shell.execute_reply": "2022-02-24T01:39:01.479295Z"
        },
        "trusted": true,
        "id": "Mi4Pmqp894sK"
      },
      "execution_count": null,
      "outputs": []
    },
    {
      "cell_type": "markdown",
      "source": [
        "### <span style=\"color:#e76f51;\">Feature Importance </span>"
      ],
      "metadata": {
        "id": "C7f6vJ_q94sK"
      }
    },
    {
      "cell_type": "code",
      "source": [
        "lgbm_fis_df = pd.concat(lgb_fimp, axis=1).head(15)\n",
        "lgbm_fis_df.sort_values('1_importance').plot(kind='barh', figsize=(15, 10),\n",
        "                                       title='Feature Importance Across Folds')\n",
        "plt.show()"
      ],
      "metadata": {
        "_kg_hide-input": true,
        "execution": {
          "iopub.status.busy": "2022-02-24T01:39:01.482525Z",
          "iopub.execute_input": "2022-02-24T01:39:01.484178Z",
          "iopub.status.idle": "2022-02-24T01:39:01.774888Z",
          "shell.execute_reply.started": "2022-02-24T01:39:01.484149Z",
          "shell.execute_reply": "2022-02-24T01:39:01.774166Z"
        },
        "trusted": true,
        "id": "BbDzyzu994sK"
      },
      "execution_count": null,
      "outputs": []
    },
    {
      "cell_type": "markdown",
      "source": [
        "<a href=\"#toc\" role=\"button\" aria-pressed=\"true\" >⬆️Back to Table of Contents ⬆️</a>"
      ],
      "metadata": {
        "papermill": {
          "duration": 0.070154,
          "end_time": "2022-01-18T20:34:08.707138",
          "exception": false,
          "start_time": "2022-01-18T20:34:08.636984",
          "status": "completed"
        },
        "tags": [],
        "id": "_vtriuaA94sL"
      }
    },
    {
      "cell_type": "markdown",
      "source": [
        "<a id=\"7\"></a>\n",
        "# **<center><span style=\"color:#00BFC4;\">Submission </span></center>**"
      ],
      "metadata": {
        "papermill": {
          "duration": 0.070108,
          "end_time": "2022-01-18T20:34:08.847782",
          "exception": false,
          "start_time": "2022-01-18T20:34:08.777674",
          "status": "completed"
        },
        "tags": [],
        "id": "jMwE3XzG94sL"
      }
    },
    {
      "cell_type": "markdown",
      "source": [
        "### <span style=\"color:#e76f51;\">LGBM Classifier Submission : </span>"
      ],
      "metadata": {
        "papermill": {
          "duration": 0.070023,
          "end_time": "2022-01-18T20:34:08.988214",
          "exception": false,
          "start_time": "2022-01-18T20:34:08.918191",
          "status": "completed"
        },
        "tags": [],
        "id": "KbT5aoBk94sL"
      }
    },
    {
      "cell_type": "code",
      "source": [
        "submission[TARGET] = lgb_predictions.astype(\"bool\")\n",
        "submission.to_csv(\"submission.csv\",index=False)\n",
        "submission.head()"
      ],
      "metadata": {
        "_kg_hide-input": true,
        "papermill": {
          "duration": 0.124308,
          "end_time": "2022-01-18T20:34:09.182763",
          "exception": false,
          "start_time": "2022-01-18T20:34:09.058455",
          "status": "completed"
        },
        "tags": [],
        "execution": {
          "iopub.status.busy": "2022-02-24T01:39:01.776269Z",
          "iopub.execute_input": "2022-02-24T01:39:01.776616Z",
          "iopub.status.idle": "2022-02-24T01:39:01.791188Z",
          "shell.execute_reply.started": "2022-02-24T01:39:01.776587Z",
          "shell.execute_reply": "2022-02-24T01:39:01.790486Z"
        },
        "trusted": true,
        "id": "anKHbf9d94sL"
      },
      "execution_count": null,
      "outputs": []
    },
    {
      "cell_type": "markdown",
      "source": [
        "<a href=\"#toc\" role=\"button\" aria-pressed=\"true\" >⬆️Back to Table of Contents ⬆️</a>"
      ],
      "metadata": {
        "papermill": {
          "duration": 0.072423,
          "end_time": "2022-01-18T20:34:09.992941",
          "exception": false,
          "start_time": "2022-01-18T20:34:09.920518",
          "status": "completed"
        },
        "tags": [],
        "id": "huhrARUA94sL"
      }
    },
    {
      "cell_type": "markdown",
      "source": [
        "<div class=\"alert alert-block alert-info\" style=\"font-size:14px; font-family:verdana; line-height: 1.7em;\">\n",
        "    \n",
        "    \n",
        "### <center>Thank you for reading🙂</center>\n",
        "### <center>If you have any feedback or find anything wrong, please let me know!</center>\n"
      ],
      "metadata": {
        "papermill": {
          "duration": 0.071302,
          "end_time": "2022-01-18T20:34:10.136265",
          "exception": false,
          "start_time": "2022-01-18T20:34:10.064963",
          "status": "completed"
        },
        "tags": [],
        "id": "V6UHMizq94sM"
      }
    }
  ]
}
