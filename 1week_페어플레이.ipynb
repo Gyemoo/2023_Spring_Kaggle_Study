{
  "nbformat": 4,
  "nbformat_minor": 0,
  "metadata": {
    "colab": {
      "private_outputs": true,
      "provenance": [],
      "authorship_tag": "ABX9TyNVHjwedFzzRrgbfyQTreri",
      "include_colab_link": true
    },
    "kernelspec": {
      "name": "python3",
      "display_name": "Python 3"
    },
    "language_info": {
      "name": "python"
    }
  },
  "cells": [
    {
      "cell_type": "markdown",
      "metadata": {
        "id": "view-in-github",
        "colab_type": "text"
      },
      "source": [
        "<a href=\"https://colab.research.google.com/github/sejongsmarcle/2023_Spring_Kaggle_Study/blob/main/1week_%ED%8E%98%EC%96%B4%ED%94%8C%EB%A0%88%EC%9D%B4.ipynb\" target=\"_parent\"><img src=\"https://colab.research.google.com/assets/colab-badge.svg\" alt=\"Open In Colab\"/></a>"
      ]
    },
    {
      "cell_type": "code",
      "execution_count": null,
      "metadata": {
        "id": "VufjUvZxyf-M"
      },
      "outputs": [],
      "source": [
        "import pandas as pd \n",
        "from sklearn.model_selection import KFold # 교차검증 모델로 결정"
      ]
    },
    {
      "cell_type": "code",
      "source": [
        "test = pd.read_csv('/movies_test.csv')\n",
        "train = pd.read_csv('/movies_train.csv')\n",
        "submission = pd.read_csv('/submission.csv') # 테스트 트레인 서브미션 파일 불러오기"
      ],
      "metadata": {
        "id": "EmivUM5e15uM"
      },
      "execution_count": null,
      "outputs": []
    },
    {
      "cell_type": "code",
      "source": [
        "import seaborn as sns"
      ],
      "metadata": {
        "id": "lwqKOI3H2rxs"
      },
      "execution_count": null,
      "outputs": []
    },
    {
      "cell_type": "code",
      "source": [
        "test.head()"
      ],
      "metadata": {
        "id": "OpYc1d5W3lFM"
      },
      "execution_count": null,
      "outputs": []
    },
    {
      "cell_type": "code",
      "source": [
        "sns.heatmap(train.corr(), annot = True) # heatmap을"
      ],
      "metadata": {
        "id": "31PctFzq3Hvt"
      },
      "execution_count": null,
      "outputs": []
    },
    {
      "cell_type": "code",
      "source": [
        "test"
      ],
      "metadata": {
        "id": "7ekWTXvP3fMU"
      },
      "execution_count": null,
      "outputs": []
    },
    {
      "cell_type": "code",
      "source": [
        "train.isnull() # train 결측치 값 확인"
      ],
      "metadata": {
        "id": "rUV9fKJU4bvU"
      },
      "execution_count": null,
      "outputs": []
    },
    {
      "cell_type": "code",
      "source": [
        "test.isnull().sum() # test 결측치 값 확인"
      ],
      "metadata": {
        "id": "ALzQSy3i4jD9"
      },
      "execution_count": null,
      "outputs": []
    },
    {
      "cell_type": "code",
      "source": [
        "test.isna()"
      ],
      "metadata": {
        "id": "ptNTV0Bv5oxv"
      },
      "execution_count": null,
      "outputs": []
    },
    {
      "cell_type": "code",
      "source": [
        "train.fillna(train['dir_prev_bfnum'].mean()) #train의 결측치 값들은 평균값으로 대체"
      ],
      "metadata": {
        "id": "0Xa_R8Ju6QbV"
      },
      "execution_count": null,
      "outputs": []
    },
    {
      "cell_type": "code",
      "source": [
        "test.fillna(test['dir_prev_bfnum'].mean()) #test의 결측치 값들은 평균값으로 대체"
      ],
      "metadata": {
        "id": "6NJs5wYv7EzV"
      },
      "execution_count": null,
      "outputs": []
    },
    {
      "cell_type": "code",
      "source": [
        "sns.heatmap(train.corr(), annot = True) # heatmap을 통해 dir_prev_bfnum과의 연관성 확인\n",
        "# 결과적으로는 아무 의미 없었다. -> 시간과 스태프수로만 하기로 결정"
      ],
      "metadata": {
        "id": "2QUez8MO7PZ1"
      },
      "execution_count": null,
      "outputs": []
    },
    {
      "cell_type": "code",
      "source": [
        "x_train = train['num_staff']\n",
        "y_train = train['time']"
      ],
      "metadata": {
        "id": "V36dSHES7whg"
      },
      "execution_count": null,
      "outputs": []
    },
    {
      "cell_type": "code",
      "source": [
        "k = 5\n",
        "\n",
        "kfold = KFold(n_splits = k, shuffle = True, random_state = 7777)\n",
        "\n",
        "for x_train.index\n",
        "\n"
      ],
      "metadata": {
        "id": "ci8Kyi5A-W2u"
      },
      "execution_count": null,
      "outputs": []
    }
  ]
}