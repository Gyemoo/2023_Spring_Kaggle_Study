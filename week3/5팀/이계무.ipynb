로드 중...
3주차_이계무.ipynb
3주차_이계무.ipynb_노트북 별표 삭제됨
버스 운행시간 데이터를 활용한 데이터 분석
버스가 다음 정류장에 도착하기 위해서 걸릴 시간을 예측
1. 라이브러리 및 데이터
Library & Data
[ ]
import matplotlib.pyplot as plt
from matplotlib import rcParams
rcParams['font.family'] = 'Malgun Gothic' # 한글 폰트 적용

# 그래프에 retina display 적용

%config InlineBackend.figure_format = 'retina'
[ ]
import pandas as pd #판다스 패키지 불러오기
import lightgbm as lgb
import folium #지리정보 시각화 패키지
[ ]
from google.colab import drive
drive.mount('/content/drive')
Mounted at /content/drive
[ ]
# 데이터 불러오기
train = pd.read_csv('/content/drive/MyDrive/23-1 kaggle study/3주차/229611_버스 운행시간 예측 경진대회_data/train.csv')
test = pd.read_csv('/content/drive/MyDrive/23-1 kaggle study/3주차/229611_버스 운행시간 예측 경진대회_data/test.csv')
submission = pd.read_csv('/content/drive/MyDrive/23-1 kaggle study/3주차/229611_버스 운행시간 예측 경진대회_data/submission_제출양식.csv')
2. 탐색적 자료분석
Exploratory Data Analysis (EDA)
pd.DataFrame.head()
데이터 프레임의 위에서 부터 n개 행을 보여주는 함수
n의 기본 값(default 값)은 5
[ ]
train.head()

id : 고유 id
date : 버스 운행 날짜
route_id : 버스 노선 ID
vh_id : 버스 id
route_nm : 버스 노선 실제 번호
now_latitude : 현재 정류소의 위도
now_longitude : 현재 정류소의 경도
now_station : 현재 정류소 이름
now_arrive_time : 현재 정류장에 도착한 시간
distance : 현재 정류장에서 다음 정류장까지 실제 이동한 거리
next_station : 다음 정류소 이름
next_latitude : 다음 정류소의 위도
next_longitude : 다음 정류소의 경도
next_arrive_time : 다음 정류장에 도착할 때 까지 걸린 시간(단위:초)으로 답안 제출을 위해서 예측해야 되는 값
[ ]
test.head()

[ ]
submission.head()

pd.DataFrame.tail()
데이터 프레임의 아래에서 부터 n개 행을 보여주는 함수
n의 기본 값(default 값)은 5
[ ]
train.tail()

[ ]
print(train['date'].min())
print(train['date'].max()) #2주간의 데이터를 학습해서
print(test['date'].min())
print(test['date'].max()) #앞으로의 1주간 예측
2019-10-15
2019-10-28
2019-10-29
2019-11-05
pd.DataFrame.shape
데이터 프레임의 행의 개수와 열의 개수가 저장되어 있는 속성(attribute)
[ ]
print(train.shape) # 매우 큰 데이터의 양
print(test.shape)
print(submission.shape)
(210457, 14)
(91774, 13)
(91774, 2)
pd.DataFrame.info()
데이터셋의 column별 정보를 알려주는 함수
비어 있지 않은 값은 (non-null)은 몇개인지?
column의 type은 무엇인지?
type의 종류 : int(정수), float(실수), object(문자열), 등등 (date, ...)
[ ]
train.info() #결측치는 없음
test.info()
<class 'pandas.core.frame.DataFrame'>
RangeIndex: 210457 entries, 0 to 210456
Data columns (total 14 columns):
 #   Column            Non-Null Count   Dtype  
---  ------            --------------   -----  
 0   id                210457 non-null  int64  
 1   date              210457 non-null  object 
 2   route_id          210457 non-null  int64  
 3   vh_id             210457 non-null  int64  
 4   route_nm          210457 non-null  object 
 5   now_latitude      210457 non-null  float64
 6   now_longitude     210457 non-null  float64
 7   now_station       210457 non-null  object 
 8   now_arrive_time   210457 non-null  object 
 9   distance          210457 non-null  float64
 10  next_station      210457 non-null  object 
 11  next_latitude     210457 non-null  float64
 12  next_longitude    210457 non-null  float64
 13  next_arrive_time  210457 non-null  int64  
dtypes: float64(5), int64(4), object(5)
memory usage: 22.5+ MB
<class 'pandas.core.frame.DataFrame'>
RangeIndex: 91774 entries, 0 to 91773
Data columns (total 13 columns):
 #   Column           Non-Null Count  Dtype  
---  ------           --------------  -----  
 0   id               91774 non-null  int64  
 1   date             91774 non-null  object 
 2   route_id         91774 non-null  int64  
 3   vh_id            91774 non-null  int64  
 4   route_nm         91774 non-null  object 
 5   now_latitude     91774 non-null  float64
 6   now_longitude    91774 non-null  float64
 7   now_station      91774 non-null  object 
 8   now_arrive_time  91774 non-null  object 
 9   distance         91774 non-null  float64
 10  next_station     91774 non-null  object 
 11  next_latitude    91774 non-null  float64
 12  next_longitude   91774 non-null  float64
dtypes: float64(5), int64(3), object(5)
memory usage: 9.1+ MB
pd.DataFrame.describe()
숫자형 (int, float) column들의 기술 통계량을 보여주는 함수

기술통계량이란?

해당 column을 대표할 수 있는 통계값들을 의미
기술통계량 종류
count: 해당 column에서 비어 있지 않은 값의 개수
mean: 평균
std: 표준편차
min: 최솟값 (이상치 포함)
25% (Q1): 전체 데이터를 순서대로 정렬했을 때, 아래에서 부터 1/4번째 지점에 있는 값
50% (Q2): 중앙값 (전체 데이터를 순서대로 정렬했을 때, 아래에서 부터 2/4번째 지점에 있는 값)
75% (Q3): 전체 데이터를 순서대로 정렬했을 때, 아래에서 부터 3/4번째 지점에 있는 값
max: 최댓값 (이상치 포함)
이상치: 울타리 밖에 있는 부분을 이상치라고 정의함
아래쪽 울타리: Q1 - 1.5∗IQR
위쪽 울타리: Q3 + 1.5∗IQR
IQR = Q3−Q1


[ ]
train.describe()

pd.DataFrame.groupby()
집단에 대한 통계량 확인


[ ]
train[['route_id', 'vh_id']].drop_duplicates().groupby('route_id').count() # 노선별 차량 대수 확인

[ ]
train[['route_id', 'next_arrive_time']].groupby('route_id').mean() #노선별 평균 도착시간

folium.Map()
location 옵션에 있는 좌표를 중심으로 지도 시각화
[ ]
coord = [35.1559361, 129.1384361]
map_osm = folium.Map(location = coord)
map_osm

[ ]
map_osm = folium.Map(location=coord, zoom_start=12)
map_osm

[ ]
map_osm = folium.Map(location = coord, tiles = 'Stamen Terrain')
map_osm

[ ]
map_osm = folium.Map(location = coord, tiles = 'Stamen Toner')
map_osm

[ ]
coord = [35.2335123, 129.0810047]

map_osm = folium.Map(location=coord, zoom_start=12)

folium.Marker(coord, popup='부산대학교', tooltip = '부산대학교 tooltip').add_to(map_osm) # 마커 생성 뒤 지도에 추가해주는 기능

map_osm.save('index.html')

map_osm

default images: https://getbootstrap.com/docs/3.3/components/

검색 기능이 없다
fontawesome:https://fontawesome.com/icons?d=gallery

해당링크의 무료인것만 쓸 수 있음
[ ]
map_osm = folium.Map(location=coord, zoom_start=12)
folium.Marker(coord, popup='부산대학교', icon=folium.Icon(icon='star')).add_to(map_osm)
map_osm

[ ]
map_osm = folium.Map(location=[37.541, 126.986], zoom_start=11)
folium.Marker([37.566345, 126.977893], popup='서울특별시청', icon=folium.Icon(color='red',icon='info-sign')).add_to(map_osm)
folium.Circle([37.4600, 126.9519], tooltip='서울대학교', radius=3000, color="green").add_to(map_osm)
folium.CircleMarker([37.5662, 126.9386], radius=10, popup='연세대학교',color="black", fill_color="crimson").add_to(map_osm)
map_osm

[ ]
map_osm = folium.Map(location=[37.541, 126.986], zoom_start=11)
folium.RegularPolygonMarker([37.566345, 126.977893], popup='서울특별시청', fill_color='red',color='red', number_of_sides=3, radius=30, fill_opacity=0.2).add_to(map_osm)
folium.RegularPolygonMarker([37.4600, 126.9519], popup='서울대학교', fill_color='green',color='green', number_of_sides=4, radius=10, fill_opacity=0.2).add_to(map_osm)
folium.RegularPolygonMarker([37.5662, 126.9386], popup='연세대학교',fill_color='blue',color='blue', number_of_sides=6, radius=10).add_to(map_osm)
map_osm

[ ]
map_data = train[['route_id','now_latitude','now_longitude','now_station']]
map_bus_route = map_data[map_data['route_id'] == 405320122].drop_duplicates("now_station")


map_osm = folium.Map(location=[33.4134, 126.5190], zoom_start = 10.5)


for item in map_bus_route.index:
    lat = map_bus_route.loc[item,'now_latitude']
    long = map_bus_route.loc[item,'now_longitude']
    
    folium.Marker([lat,long], popup = map_bus_route.loc[item,'now_station'],
                      icon = folium.Icon(color = 'red', icon = 'info-sign')
                      ).add_to(map_osm)

map_osm.save('index.html')

map_osm

3. 데이터 전처리
Data Cleansing & Pre-Processing
pd.Series.str.slice()
Series 내에 문자열을 일괄적으로 slicing (자르기)
[ ]
train['now_arrive_time'] = train['now_arrive_time'].str.slice(stop = -1).astype('int') #문자열을 자르고 숫자로 데이터타입을 바꿔서 저장해줌
[ ]
test['now_arrive_time'] = test['now_arrive_time'].str.slice(stop = -1).astype('int') #테스트도 똑같이
4. 변수 선택 및 모델 구축
Feature Engineering & Initial Modeling
[ ]
features = ['now_latitude', 'now_longitude', 'now_arrive_time', 'distance']
target = ['next_arrive_time']
[ ]
x_train = train[features]
y_train = train[target]
x_test = test[features]
5. 모델 학습 및 검증
Model Tuning & Evaluation
[ ]
from sklearn.ensemble import RandomForestRegressor
from sklearn.linear_model import LinearRegression
[ ]
model_dict = {
    'linear':LinearRegression(),
    'rf':RandomForestRegressor(random_state=0, n_jobs= -1),
    'lgbm':lgb.LGBMRegressor(random_state=0)
}
[ ]
model_dict.keys()
dict_keys(['linear', 'rf', 'lgbm'])
[ ]
model_result={}

for key in model_dict.keys():
    model_dict[key].fit(x_train,y_train)

    model_result[key] = model_dict[key].predict(x_test)
<ipython-input-33-640cf6efdfca>:4: DataConversionWarning: A column-vector y was passed when a 1d array was expected. Please change the shape of y to (n_samples,), for example using ravel().
  model_dict[key].fit(x_train,y_train)
[ ]
lr_submit =submission.copy()
rf_submit =submission.copy()
lgbm_submit =submission.copy()
[ ]
lr_submit['next_arrive_time'] = model_result['linear']
rf_submit['next_arrive_time'] = model_result['rf']
lgbm_submit['next_arrive_time'] = model_result['lgbm']
[ ]
lr_submit.to_csv('lr_submit.csv', index=False)
rf_submit.to_csv('rf_submit.csv', index=False)
lgbm_submit.to_csv('lgbm_submit.csv', index=False)
6. 결과 및 결언
Conclusion & Discussion
