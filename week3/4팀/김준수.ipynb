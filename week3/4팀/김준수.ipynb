{
  "nbformat": 4,
  "nbformat_minor": 0,
  "metadata": {
    "colab": {
      "private_outputs": true,
      "provenance": [],
      "mount_file_id": "1HuQclN2gV1FQjN1FlVDR5xY3IlNU4k2y",
      "authorship_tag": "ABX9TyM85LklzcJOFp28gS0jwDsT",
      "include_colab_link": true
    },
    "kernelspec": {
      "name": "python3",
      "display_name": "Python 3"
    },
    "language_info": {
      "name": "python"
    }
  },
  "cells": [
    {
      "cell_type": "markdown",
      "metadata": {
        "id": "view-in-github",
        "colab_type": "text"
      },
      "source": [
        "<a href=\"https://colab.research.google.com/github/sejongsmarcle/2023_Spring_Kaggle_Study/blob/main/%EA%B9%80%EC%A4%80%EC%88%98.ipynb\" target=\"_parent\"><img src=\"https://colab.research.google.com/assets/colab-badge.svg\" alt=\"Open In Colab\"/></a>"
      ]
    },
    {
      "cell_type": "code",
      "execution_count": null,
      "metadata": {
        "id": "w93W3V4f2Xjv"
      },
      "outputs": [],
      "source": [
        "import pandas as pd"
      ]
    },
    {
      "cell_type": "code",
      "source": [
        "train = pd.read_csv('/content/train.csv')\n",
        "test = pd.read_csv('/content/test.csv')\n",
        "submission = pd.read_csv('/content/submission.csv')"
      ],
      "metadata": {
        "id": "_FrL7MfW31o5"
      },
      "execution_count": null,
      "outputs": []
    },
    {
      "cell_type": "markdown",
      "source": [
        "#자료분석 EDA"
      ],
      "metadata": {
        "id": "mpnKHoC138ZU"
      }
    },
    {
      "cell_type": "code",
      "source": [
        "train.info() # 다음 정류장에 도착하는데 걸리는 시간은 교통에 대한 데이터가 필요하지 않나.?"
      ],
      "metadata": {
        "id": "bfGP-pZ2365_"
      },
      "execution_count": null,
      "outputs": []
    },
    {
      "cell_type": "code",
      "source": [
        "train.head"
      ],
      "metadata": {
        "id": "6aCeplDu4ZWN"
      },
      "execution_count": null,
      "outputs": []
    },
    {
      "cell_type": "code",
      "source": [
        "test.head # 도착시간 없음"
      ],
      "metadata": {
        "id": "fkJZC5214cAA"
      },
      "execution_count": null,
      "outputs": []
    },
    {
      "cell_type": "markdown",
      "source": [
        "#결측치 값 확인"
      ],
      "metadata": {
        "id": "Hz6bauJ75LJV"
      }
    },
    {
      "cell_type": "code",
      "source": [
        "train.isna().sum() # 두 데이터가 1가지씩 가지고 있어보임"
      ],
      "metadata": {
        "id": "KjHgArZo4ts-"
      },
      "execution_count": null,
      "outputs": []
    },
    {
      "cell_type": "code",
      "source": [
        "test.isna().sum() # 깔끔"
      ],
      "metadata": {
        "id": "DZa2K3aI40CX"
      },
      "execution_count": null,
      "outputs": []
    },
    {
      "cell_type": "code",
      "source": [
        "import seaborn as sns"
      ],
      "metadata": {
        "id": "jpn00a8M5Rnb"
      },
      "execution_count": null,
      "outputs": []
    },
    {
      "cell_type": "code",
      "source": [
        "sns.heatmap(data = train.corr(), annot = True) #거리가 그나마 젤 나은데 다른게 너무 떨어지네..\n",
        "# 교통 상황이 어떤지에 대한 데이터를 주는게 훨씬 효과적으로 보인다.\n",
        "# distance, now_latitude, next_latitude, vh_id 이렇게 결정"
      ],
      "metadata": {
        "id": "ACwRqnAu5XIn"
      },
      "execution_count": null,
      "outputs": []
    },
    {
      "cell_type": "markdown",
      "source": [
        "# train 과 test 모두 끝 행에 결측치 값 존재 확인"
      ],
      "metadata": {
        "id": "nJmwxQO-7NDL"
      }
    },
    {
      "cell_type": "code",
      "source": [
        "test.isna().sum()"
      ],
      "metadata": {
        "id": "ovhPD2D47GcL"
      },
      "execution_count": null,
      "outputs": []
    },
    {
      "cell_type": "code",
      "source": [
        "train.isna().sum()"
      ],
      "metadata": {
        "id": "Mb5MIyOVmWwO"
      },
      "execution_count": null,
      "outputs": []
    },
    {
      "cell_type": "code",
      "source": [
        "train.tail(1)"
      ],
      "metadata": {
        "id": "k5x7x73TmioR"
      },
      "execution_count": null,
      "outputs": []
    },
    {
      "cell_type": "code",
      "source": [
        "train[['next_arrive_time', 'distance', 'next_longitude']].groupby('next_arrive_time').mean().sort_values(by = ['next_arrive_time'], ascending = True)\n",
        "# distance, distance, next_latitude, now_latitude"
      ],
      "metadata": {
        "id": "oW441BAV7Kah"
      },
      "execution_count": null,
      "outputs": []
    },
    {
      "cell_type": "code",
      "source": [
        "train['next_longitude'].fillna({91959 : 126.486}, inplace = True)\n",
        "train['next_arrive_time'].fillna({91959 : 946.0}, inplace = True)"
      ],
      "metadata": {
        "id": "W-WV8Y-9lxpN"
      },
      "execution_count": null,
      "outputs": []
    },
    {
      "cell_type": "code",
      "source": [
        "train[train['next_longitude'].isna()].index"
      ],
      "metadata": {
        "id": "GnYbNuYrpzDs"
      },
      "execution_count": null,
      "outputs": []
    },
    {
      "cell_type": "code",
      "source": [
        "train[train['next_arrive_time'].isna()].index"
      ],
      "metadata": {
        "id": "8M2vSF6hp1DV"
      },
      "execution_count": null,
      "outputs": []
    },
    {
      "cell_type": "code",
      "source": [
        "train.isna().sum()"
      ],
      "metadata": {
        "id": "cqzz38JvqQcz"
      },
      "execution_count": null,
      "outputs": []
    },
    {
      "cell_type": "code",
      "source": [
        "test.isna().sum()"
      ],
      "metadata": {
        "id": "vXVR_NIaqTbE"
      },
      "execution_count": null,
      "outputs": []
    },
    {
      "cell_type": "code",
      "source": [
        "submission.head()"
      ],
      "metadata": {
        "id": "H0LN-KYaqUzG"
      },
      "execution_count": null,
      "outputs": []
    },
    {
      "cell_type": "code",
      "source": [
        "import lightgbm as lgb"
      ],
      "metadata": {
        "id": "Zrg6xI22qYDy"
      },
      "execution_count": null,
      "outputs": []
    },
    {
      "cell_type": "code",
      "source": [
        "model = lgb.LGBMRegressor(random_state = 777, n_estimators = 1000)"
      ],
      "metadata": {
        "id": "SKsU_S4Lq1la"
      },
      "execution_count": null,
      "outputs": []
    },
    {
      "cell_type": "code",
      "source": [
        "features = ['id', 'next_latitude', 'now_latitude']\n",
        "target = ['next_arrive_time']"
      ],
      "metadata": {
        "id": "wc9TL9Rhq3j3"
      },
      "execution_count": null,
      "outputs": []
    },
    {
      "cell_type": "code",
      "source": [
        "X_train, X_test, y_train = train[features], test[features], train[target]"
      ],
      "metadata": {
        "id": "f_UuLNTUrYzC"
      },
      "execution_count": null,
      "outputs": []
    },
    {
      "cell_type": "markdown",
      "source": [],
      "metadata": {
        "id": "bJ8_r-J6sNg8"
      }
    },
    {
      "cell_type": "code",
      "source": [
        "model.fit(X_train, y_train)"
      ],
      "metadata": {
        "id": "vNlVyfYprbD9"
      },
      "execution_count": null,
      "outputs": []
    },
    {
      "cell_type": "code",
      "source": [
        "singleLGBM = submission.copy() # 답안지 복사"
      ],
      "metadata": {
        "id": "_88vZY4yreLD"
      },
      "execution_count": null,
      "outputs": []
    },
    {
      "cell_type": "code",
      "source": [
        "singleLGBM.head() # 이제보니 id에 따른 도착 예정시간이였다.."
      ],
      "metadata": {
        "id": "tsNyG3g0rhbS"
      },
      "execution_count": null,
      "outputs": []
    },
    {
      "cell_type": "code",
      "source": [
        "singleLGBM['next_arrive_time'] = model.predict(X_test) # 예측시작"
      ],
      "metadata": {
        "id": "YYsNM_ZGrjT6"
      },
      "execution_count": null,
      "outputs": []
    },
    {
      "cell_type": "code",
      "source": [
        "singleLGBM['next_arrive_time'] #결과 확인"
      ],
      "metadata": {
        "id": "iNTQsAO9rmpi"
      },
      "execution_count": null,
      "outputs": []
    },
    {
      "cell_type": "code",
      "source": [
        "singleLGBM.to_csv('singleLGBM.csv', index = False) # 저장"
      ],
      "metadata": {
        "id": "2AB6pRQvroLA"
      },
      "execution_count": null,
      "outputs": []
    }
  ]
}
